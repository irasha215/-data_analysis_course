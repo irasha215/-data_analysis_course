{
 "cells": [
  {
   "cell_type": "markdown",
   "metadata": {
    "toc": true
   },
   "source": [
    "<h1>Содержание<span class=\"tocSkip\"></span></h1>\n",
    "<div class=\"toc\"><ul class=\"toc-item\"><li><span><a href=\"#Откройте-файл-с-данными-и-изучите-общую-информацию\" data-toc-modified-id=\"Откройте-файл-с-данными-и-изучите-общую-информацию-1\"><span class=\"toc-item-num\">1&nbsp;&nbsp;</span>Откройте файл с данными и изучите общую информацию</a></span><ul class=\"toc-item\"><li><span><a href=\"#Обработка-пропусков\" data-toc-modified-id=\"Обработка-пропусков-1.1\"><span class=\"toc-item-num\">1.1&nbsp;&nbsp;</span>Обработка пропусков</a></span></li><li><span><a href=\"#Замена-типа-данных\" data-toc-modified-id=\"Замена-типа-данных-1.2\"><span class=\"toc-item-num\">1.2&nbsp;&nbsp;</span>Замена типа данных</a></span></li><li><span><a href=\"#Обработка-дубликатов\" data-toc-modified-id=\"Обработка-дубликатов-1.3\"><span class=\"toc-item-num\">1.3&nbsp;&nbsp;</span>Обработка дубликатов</a></span></li><li><span><a href=\"#Лемматизация\" data-toc-modified-id=\"Лемматизация-1.4\"><span class=\"toc-item-num\">1.4&nbsp;&nbsp;</span>Лемматизация</a></span></li><li><span><a href=\"#Категоризация-данных\" data-toc-modified-id=\"Категоризация-данных-1.5\"><span class=\"toc-item-num\">1.5&nbsp;&nbsp;</span>Категоризация данных</a></span></li></ul></li><li><span><a href=\"#Ответьте-на-вопросы\" data-toc-modified-id=\"Ответьте-на-вопросы-2\"><span class=\"toc-item-num\">2&nbsp;&nbsp;</span>Ответьте на вопросы</a></span><ul class=\"toc-item\"><li><span><a href=\"#Есть-ли-зависимость-между-наличием-детей-и-возвратом-кредита-в-срок?\" data-toc-modified-id=\"Есть-ли-зависимость-между-наличием-детей-и-возвратом-кредита-в-срок?-2.1\"><span class=\"toc-item-num\">2.1&nbsp;&nbsp;</span>Есть ли зависимость между наличием детей и возвратом кредита в срок?</a></span></li><li><span><a href=\"#Есть-ли-зависимость-между-семейным-положением-и-возвратом-кредита-в-срок?\" data-toc-modified-id=\"Есть-ли-зависимость-между-семейным-положением-и-возвратом-кредита-в-срок?-2.2\"><span class=\"toc-item-num\">2.2&nbsp;&nbsp;</span>Есть ли зависимость между семейным положением и возвратом кредита в срок?</a></span></li><li><span><a href=\"#Есть-ли-зависимость-между-уровнем-дохода-и-возвратом-кредита-в-срок?\" data-toc-modified-id=\"Есть-ли-зависимость-между-уровнем-дохода-и-возвратом-кредита-в-срок?-2.3\"><span class=\"toc-item-num\">2.3&nbsp;&nbsp;</span>Есть ли зависимость между уровнем дохода и возвратом кредита в срок?</a></span></li><li><span><a href=\"#Как-разные-цели-кредита-влияют-на-его-возврат-в-срок?\" data-toc-modified-id=\"Как-разные-цели-кредита-влияют-на-его-возврат-в-срок?-2.4\"><span class=\"toc-item-num\">2.4&nbsp;&nbsp;</span>Как разные цели кредита влияют на его возврат в срок?</a></span></li></ul></li><li><span><a href=\"#Шаг-4.-Общий-вывод\" data-toc-modified-id=\"Шаг-4.-Общий-вывод-3\"><span class=\"toc-item-num\">3&nbsp;&nbsp;</span>Шаг 4. Общий вывод</a></span></li></ul></div>"
   ]
  },
  {
   "cell_type": "markdown",
   "metadata": {},
   "source": [
    "# Исследование надёжности заёмщиков"
   ]
  },
  {
   "cell_type": "markdown",
   "metadata": {},
   "source": [
    "## Откройте файл с данными и изучите общую информацию"
   ]
  },
  {
   "cell_type": "code",
   "execution_count": 151,
   "metadata": {
    "scrolled": true
   },
   "outputs": [],
   "source": [
    "import pandas as pd\n",
    "import seaborn as sns\n",
    "from matplotlib import pyplot as plt\n",
    "from pymystem3 import Mystem"
   ]
  },
  {
   "cell_type": "code",
   "execution_count": 152,
   "metadata": {
    "scrolled": false
   },
   "outputs": [],
   "source": [
    "try:\n",
    "    data = pd.read_csv('/datasets/data.csv')\n",
    "except:\n",
    "    data = pd.read_csv('/Users/irinasaahmetova/Downloads/data.csv')\n"
   ]
  },
  {
   "cell_type": "code",
   "execution_count": 153,
   "metadata": {},
   "outputs": [
    {
     "data": {
      "text/html": [
       "<div>\n",
       "<style scoped>\n",
       "    .dataframe tbody tr th:only-of-type {\n",
       "        vertical-align: middle;\n",
       "    }\n",
       "\n",
       "    .dataframe tbody tr th {\n",
       "        vertical-align: top;\n",
       "    }\n",
       "\n",
       "    .dataframe thead th {\n",
       "        text-align: right;\n",
       "    }\n",
       "</style>\n",
       "<table border=\"1\" class=\"dataframe\">\n",
       "  <thead>\n",
       "    <tr style=\"text-align: right;\">\n",
       "      <th></th>\n",
       "      <th>children</th>\n",
       "      <th>days_employed</th>\n",
       "      <th>dob_years</th>\n",
       "      <th>education</th>\n",
       "      <th>education_id</th>\n",
       "      <th>family_status</th>\n",
       "      <th>family_status_id</th>\n",
       "      <th>gender</th>\n",
       "      <th>income_type</th>\n",
       "      <th>debt</th>\n",
       "      <th>total_income</th>\n",
       "      <th>purpose</th>\n",
       "    </tr>\n",
       "  </thead>\n",
       "  <tbody>\n",
       "    <tr>\n",
       "      <th>0</th>\n",
       "      <td>1</td>\n",
       "      <td>-8437.673028</td>\n",
       "      <td>42</td>\n",
       "      <td>высшее</td>\n",
       "      <td>0</td>\n",
       "      <td>женат / замужем</td>\n",
       "      <td>0</td>\n",
       "      <td>F</td>\n",
       "      <td>сотрудник</td>\n",
       "      <td>0</td>\n",
       "      <td>253875.639453</td>\n",
       "      <td>покупка жилья</td>\n",
       "    </tr>\n",
       "    <tr>\n",
       "      <th>1</th>\n",
       "      <td>1</td>\n",
       "      <td>-4024.803754</td>\n",
       "      <td>36</td>\n",
       "      <td>среднее</td>\n",
       "      <td>1</td>\n",
       "      <td>женат / замужем</td>\n",
       "      <td>0</td>\n",
       "      <td>F</td>\n",
       "      <td>сотрудник</td>\n",
       "      <td>0</td>\n",
       "      <td>112080.014102</td>\n",
       "      <td>приобретение автомобиля</td>\n",
       "    </tr>\n",
       "    <tr>\n",
       "      <th>2</th>\n",
       "      <td>0</td>\n",
       "      <td>-5623.422610</td>\n",
       "      <td>33</td>\n",
       "      <td>Среднее</td>\n",
       "      <td>1</td>\n",
       "      <td>женат / замужем</td>\n",
       "      <td>0</td>\n",
       "      <td>M</td>\n",
       "      <td>сотрудник</td>\n",
       "      <td>0</td>\n",
       "      <td>145885.952297</td>\n",
       "      <td>покупка жилья</td>\n",
       "    </tr>\n",
       "    <tr>\n",
       "      <th>3</th>\n",
       "      <td>3</td>\n",
       "      <td>-4124.747207</td>\n",
       "      <td>32</td>\n",
       "      <td>среднее</td>\n",
       "      <td>1</td>\n",
       "      <td>женат / замужем</td>\n",
       "      <td>0</td>\n",
       "      <td>M</td>\n",
       "      <td>сотрудник</td>\n",
       "      <td>0</td>\n",
       "      <td>267628.550329</td>\n",
       "      <td>дополнительное образование</td>\n",
       "    </tr>\n",
       "    <tr>\n",
       "      <th>4</th>\n",
       "      <td>0</td>\n",
       "      <td>340266.072047</td>\n",
       "      <td>53</td>\n",
       "      <td>среднее</td>\n",
       "      <td>1</td>\n",
       "      <td>гражданский брак</td>\n",
       "      <td>1</td>\n",
       "      <td>F</td>\n",
       "      <td>пенсионер</td>\n",
       "      <td>0</td>\n",
       "      <td>158616.077870</td>\n",
       "      <td>сыграть свадьбу</td>\n",
       "    </tr>\n",
       "  </tbody>\n",
       "</table>\n",
       "</div>"
      ],
      "text/plain": [
       "   children  days_employed  dob_years education  education_id  \\\n",
       "0         1   -8437.673028         42    высшее             0   \n",
       "1         1   -4024.803754         36   среднее             1   \n",
       "2         0   -5623.422610         33   Среднее             1   \n",
       "3         3   -4124.747207         32   среднее             1   \n",
       "4         0  340266.072047         53   среднее             1   \n",
       "\n",
       "      family_status  family_status_id gender income_type  debt   total_income  \\\n",
       "0   женат / замужем                 0      F   сотрудник     0  253875.639453   \n",
       "1   женат / замужем                 0      F   сотрудник     0  112080.014102   \n",
       "2   женат / замужем                 0      M   сотрудник     0  145885.952297   \n",
       "3   женат / замужем                 0      M   сотрудник     0  267628.550329   \n",
       "4  гражданский брак                 1      F   пенсионер     0  158616.077870   \n",
       "\n",
       "                      purpose  \n",
       "0               покупка жилья  \n",
       "1     приобретение автомобиля  \n",
       "2               покупка жилья  \n",
       "3  дополнительное образование  \n",
       "4             сыграть свадьбу  "
      ]
     },
     "execution_count": 153,
     "metadata": {},
     "output_type": "execute_result"
    }
   ],
   "source": [
    "data.head()"
   ]
  },
  {
   "cell_type": "code",
   "execution_count": 154,
   "metadata": {},
   "outputs": [
    {
     "name": "stdout",
     "output_type": "stream",
     "text": [
      "<class 'pandas.core.frame.DataFrame'>\n",
      "RangeIndex: 21525 entries, 0 to 21524\n",
      "Data columns (total 12 columns):\n",
      " #   Column            Non-Null Count  Dtype  \n",
      "---  ------            --------------  -----  \n",
      " 0   children          21525 non-null  int64  \n",
      " 1   days_employed     19351 non-null  float64\n",
      " 2   dob_years         21525 non-null  int64  \n",
      " 3   education         21525 non-null  object \n",
      " 4   education_id      21525 non-null  int64  \n",
      " 5   family_status     21525 non-null  object \n",
      " 6   family_status_id  21525 non-null  int64  \n",
      " 7   gender            21525 non-null  object \n",
      " 8   income_type       21525 non-null  object \n",
      " 9   debt              21525 non-null  int64  \n",
      " 10  total_income      19351 non-null  float64\n",
      " 11  purpose           21525 non-null  object \n",
      "dtypes: float64(2), int64(5), object(5)\n",
      "memory usage: 2.0+ MB\n"
     ]
    }
   ],
   "source": [
    "data.info()"
   ]
  },
  {
   "cell_type": "markdown",
   "metadata": {},
   "source": [
    "**Данные получены с неточностями:** \n",
    "\n",
    " 1. Столбец 'days_employed' содержит отрицательные и дробные значения. \n",
    " 2. В столбце 'education' указаны значения в разном регистре, что может создать проблемы во время исследования\n",
    " 3. Количество заполненых данных в столбцах 'days_employed' и 'total_income' не совпадает с количеством данных в других столбцах. \n",
    " 4. Столбец 'days_employed' содержит значения типа float, однако там представлен трудовой стаж в днях"
   ]
  },
  {
   "cell_type": "markdown",
   "metadata": {},
   "source": [
    "### Обработка пропусков"
   ]
  },
  {
   "cell_type": "markdown",
   "metadata": {},
   "source": [
    "Пропущенные значения в списках:\n",
    "\n",
    "    - 'days_employed'\n",
    "    - 'total_income'\n",
    "    \n",
    "Как мы видим, количество пропущенных значений в обоих столбцах одинаковое. Можно предположить, что в обоих столбцах данные не указаны для одних и тех же клиентов(например, строка 12). Возможно была какая-то проблема при выгрузке данных."
   ]
  },
  {
   "cell_type": "markdown",
   "metadata": {},
   "source": [
    "В столбце 'days_employed' указаны дробные и отрицательные значения, приведем их к абсолютным с помощью метода abs()"
   ]
  },
  {
   "cell_type": "code",
   "execution_count": 155,
   "metadata": {
    "scrolled": false
   },
   "outputs": [],
   "source": [
    "data['days_employed'] = data['days_employed'].abs()"
   ]
  },
  {
   "cell_type": "markdown",
   "metadata": {},
   "source": [
    "Чтобы легче было воспринимать информацию, переведем для удобства столбец 'days_employed' в года:"
   ]
  },
  {
   "cell_type": "code",
   "execution_count": 156,
   "metadata": {
    "scrolled": false
   },
   "outputs": [
    {
     "data": {
      "text/html": [
       "<div>\n",
       "<style scoped>\n",
       "    .dataframe tbody tr th:only-of-type {\n",
       "        vertical-align: middle;\n",
       "    }\n",
       "\n",
       "    .dataframe tbody tr th {\n",
       "        vertical-align: top;\n",
       "    }\n",
       "\n",
       "    .dataframe thead th {\n",
       "        text-align: right;\n",
       "    }\n",
       "</style>\n",
       "<table border=\"1\" class=\"dataframe\">\n",
       "  <thead>\n",
       "    <tr style=\"text-align: right;\">\n",
       "      <th></th>\n",
       "      <th>children</th>\n",
       "      <th>years_employed</th>\n",
       "      <th>dob_years</th>\n",
       "      <th>education</th>\n",
       "      <th>education_id</th>\n",
       "      <th>family_status</th>\n",
       "      <th>family_status_id</th>\n",
       "      <th>gender</th>\n",
       "      <th>income_type</th>\n",
       "      <th>debt</th>\n",
       "      <th>total_income</th>\n",
       "      <th>purpose</th>\n",
       "    </tr>\n",
       "  </thead>\n",
       "  <tbody>\n",
       "    <tr>\n",
       "      <th>6954</th>\n",
       "      <td>0</td>\n",
       "      <td>1100.699727</td>\n",
       "      <td>56</td>\n",
       "      <td>среднее</td>\n",
       "      <td>1</td>\n",
       "      <td>вдовец / вдова</td>\n",
       "      <td>2</td>\n",
       "      <td>F</td>\n",
       "      <td>пенсионер</td>\n",
       "      <td>0</td>\n",
       "      <td>176278.441171</td>\n",
       "      <td>ремонт жилью</td>\n",
       "    </tr>\n",
       "    <tr>\n",
       "      <th>10006</th>\n",
       "      <td>0</td>\n",
       "      <td>1100.591265</td>\n",
       "      <td>69</td>\n",
       "      <td>высшее</td>\n",
       "      <td>0</td>\n",
       "      <td>Не женат / не замужем</td>\n",
       "      <td>4</td>\n",
       "      <td>F</td>\n",
       "      <td>пенсионер</td>\n",
       "      <td>0</td>\n",
       "      <td>57390.256908</td>\n",
       "      <td>получение образования</td>\n",
       "    </tr>\n",
       "    <tr>\n",
       "      <th>7664</th>\n",
       "      <td>1</td>\n",
       "      <td>1100.479708</td>\n",
       "      <td>61</td>\n",
       "      <td>среднее</td>\n",
       "      <td>1</td>\n",
       "      <td>женат / замужем</td>\n",
       "      <td>0</td>\n",
       "      <td>F</td>\n",
       "      <td>пенсионер</td>\n",
       "      <td>0</td>\n",
       "      <td>126214.519212</td>\n",
       "      <td>операции с жильем</td>\n",
       "    </tr>\n",
       "    <tr>\n",
       "      <th>2156</th>\n",
       "      <td>0</td>\n",
       "      <td>1100.477991</td>\n",
       "      <td>60</td>\n",
       "      <td>среднее</td>\n",
       "      <td>1</td>\n",
       "      <td>женат / замужем</td>\n",
       "      <td>0</td>\n",
       "      <td>M</td>\n",
       "      <td>пенсионер</td>\n",
       "      <td>0</td>\n",
       "      <td>325395.724541</td>\n",
       "      <td>автомобили</td>\n",
       "    </tr>\n",
       "    <tr>\n",
       "      <th>7794</th>\n",
       "      <td>0</td>\n",
       "      <td>1100.448904</td>\n",
       "      <td>61</td>\n",
       "      <td>среднее</td>\n",
       "      <td>1</td>\n",
       "      <td>гражданский брак</td>\n",
       "      <td>1</td>\n",
       "      <td>F</td>\n",
       "      <td>пенсионер</td>\n",
       "      <td>0</td>\n",
       "      <td>48286.441362</td>\n",
       "      <td>свадьба</td>\n",
       "    </tr>\n",
       "  </tbody>\n",
       "</table>\n",
       "</div>"
      ],
      "text/plain": [
       "       children  years_employed  dob_years education  education_id  \\\n",
       "6954          0     1100.699727         56   среднее             1   \n",
       "10006         0     1100.591265         69    высшее             0   \n",
       "7664          1     1100.479708         61   среднее             1   \n",
       "2156          0     1100.477991         60   среднее             1   \n",
       "7794          0     1100.448904         61   среднее             1   \n",
       "\n",
       "               family_status  family_status_id gender income_type  debt  \\\n",
       "6954          вдовец / вдова                 2      F   пенсионер     0   \n",
       "10006  Не женат / не замужем                 4      F   пенсионер     0   \n",
       "7664         женат / замужем                 0      F   пенсионер     0   \n",
       "2156         женат / замужем                 0      M   пенсионер     0   \n",
       "7794        гражданский брак                 1      F   пенсионер     0   \n",
       "\n",
       "        total_income                purpose  \n",
       "6954   176278.441171           ремонт жилью  \n",
       "10006   57390.256908  получение образования  \n",
       "7664   126214.519212      операции с жильем  \n",
       "2156   325395.724541             автомобили  \n",
       "7794    48286.441362                свадьба  "
      ]
     },
     "execution_count": 156,
     "metadata": {},
     "output_type": "execute_result"
    }
   ],
   "source": [
    "data['days_employed'] = data['days_employed'] / 365\n",
    "\n",
    "#изменим название на соответствующее \n",
    "data.rename(columns={'days_employed': 'years_employed'}, inplace=True)    \n",
    "data.sort_values(by='years_employed', ascending=False).head()"
   ]
  },
  {
   "cell_type": "markdown",
   "metadata": {},
   "source": [
    "Как мы видим, в некоторых строках количество стажа превышает тысячу, что маловероятно. Скорее всего есть проблема в самих данных или их формате. Построим диаграмму рассеяния, чтобы посмотреть, какие значения выбиваются:"
   ]
  },
  {
   "cell_type": "code",
   "execution_count": 157,
   "metadata": {
    "scrolled": true
   },
   "outputs": [
    {
     "data": {
      "text/plain": [
       "<AxesSubplot:xlabel='dob_years', ylabel='years_employed'>"
      ]
     },
     "execution_count": 157,
     "metadata": {},
     "output_type": "execute_result"
    },
    {
     "data": {
      "image/png": "[encoded data removed]",
      "text/plain": [
       "<Figure size 504x360 with 1 Axes>"
      ]
     },
     "metadata": {
      "needs_background": "light"
     },
     "output_type": "display_data"
    }
   ],
   "source": [
    "plt.figure(figsize=(7,5))\n",
    "\n",
    "sns.scatterplot(x=data['dob_years'], y=data['years_employed'], palette = 'pastel')"
   ]
  },
  {
   "cell_type": "markdown",
   "metadata": {},
   "source": [
    "Как можно заметить, после отметки в 800 значения резко скакнули вверх. Есть вероятность, что данные в этих значениях представлены в часах, а не днях. Попробуем перевести их в дни"
   ]
  },
  {
   "cell_type": "code",
   "execution_count": 158,
   "metadata": {},
   "outputs": [
    {
     "data": {
      "text/html": [
       "<div>\n",
       "<style scoped>\n",
       "    .dataframe tbody tr th:only-of-type {\n",
       "        vertical-align: middle;\n",
       "    }\n",
       "\n",
       "    .dataframe tbody tr th {\n",
       "        vertical-align: top;\n",
       "    }\n",
       "\n",
       "    .dataframe thead th {\n",
       "        text-align: right;\n",
       "    }\n",
       "</style>\n",
       "<table border=\"1\" class=\"dataframe\">\n",
       "  <thead>\n",
       "    <tr style=\"text-align: right;\">\n",
       "      <th></th>\n",
       "      <th>children</th>\n",
       "      <th>years_employed</th>\n",
       "      <th>dob_years</th>\n",
       "      <th>education</th>\n",
       "      <th>education_id</th>\n",
       "      <th>family_status</th>\n",
       "      <th>family_status_id</th>\n",
       "      <th>gender</th>\n",
       "      <th>income_type</th>\n",
       "      <th>debt</th>\n",
       "      <th>total_income</th>\n",
       "      <th>purpose</th>\n",
       "    </tr>\n",
       "  </thead>\n",
       "  <tbody>\n",
       "    <tr>\n",
       "      <th>16335</th>\n",
       "      <td>1</td>\n",
       "      <td>50.380685</td>\n",
       "      <td>61</td>\n",
       "      <td>среднее</td>\n",
       "      <td>1</td>\n",
       "      <td>женат / замужем</td>\n",
       "      <td>0</td>\n",
       "      <td>F</td>\n",
       "      <td>сотрудник</td>\n",
       "      <td>0</td>\n",
       "      <td>186178.934089</td>\n",
       "      <td>операции с недвижимостью</td>\n",
       "    </tr>\n",
       "    <tr>\n",
       "      <th>4299</th>\n",
       "      <td>0</td>\n",
       "      <td>48.261817</td>\n",
       "      <td>61</td>\n",
       "      <td>среднее</td>\n",
       "      <td>1</td>\n",
       "      <td>женат / замужем</td>\n",
       "      <td>0</td>\n",
       "      <td>F</td>\n",
       "      <td>компаньон</td>\n",
       "      <td>0</td>\n",
       "      <td>122560.741753</td>\n",
       "      <td>покупка жилья</td>\n",
       "    </tr>\n",
       "    <tr>\n",
       "      <th>6954</th>\n",
       "      <td>0</td>\n",
       "      <td>45.862489</td>\n",
       "      <td>56</td>\n",
       "      <td>среднее</td>\n",
       "      <td>1</td>\n",
       "      <td>вдовец / вдова</td>\n",
       "      <td>2</td>\n",
       "      <td>F</td>\n",
       "      <td>пенсионер</td>\n",
       "      <td>0</td>\n",
       "      <td>176278.441171</td>\n",
       "      <td>ремонт жилью</td>\n",
       "    </tr>\n",
       "    <tr>\n",
       "      <th>10006</th>\n",
       "      <td>0</td>\n",
       "      <td>45.857969</td>\n",
       "      <td>69</td>\n",
       "      <td>высшее</td>\n",
       "      <td>0</td>\n",
       "      <td>Не женат / не замужем</td>\n",
       "      <td>4</td>\n",
       "      <td>F</td>\n",
       "      <td>пенсионер</td>\n",
       "      <td>0</td>\n",
       "      <td>57390.256908</td>\n",
       "      <td>получение образования</td>\n",
       "    </tr>\n",
       "    <tr>\n",
       "      <th>7664</th>\n",
       "      <td>1</td>\n",
       "      <td>45.853321</td>\n",
       "      <td>61</td>\n",
       "      <td>среднее</td>\n",
       "      <td>1</td>\n",
       "      <td>женат / замужем</td>\n",
       "      <td>0</td>\n",
       "      <td>F</td>\n",
       "      <td>пенсионер</td>\n",
       "      <td>0</td>\n",
       "      <td>126214.519212</td>\n",
       "      <td>операции с жильем</td>\n",
       "    </tr>\n",
       "  </tbody>\n",
       "</table>\n",
       "</div>"
      ],
      "text/plain": [
       "       children  years_employed  dob_years education  education_id  \\\n",
       "16335         1       50.380685         61   среднее             1   \n",
       "4299          0       48.261817         61   среднее             1   \n",
       "6954          0       45.862489         56   среднее             1   \n",
       "10006         0       45.857969         69    высшее             0   \n",
       "7664          1       45.853321         61   среднее             1   \n",
       "\n",
       "               family_status  family_status_id gender income_type  debt  \\\n",
       "16335        женат / замужем                 0      F   сотрудник     0   \n",
       "4299         женат / замужем                 0      F   компаньон     0   \n",
       "6954          вдовец / вдова                 2      F   пенсионер     0   \n",
       "10006  Не женат / не замужем                 4      F   пенсионер     0   \n",
       "7664         женат / замужем                 0      F   пенсионер     0   \n",
       "\n",
       "        total_income                   purpose  \n",
       "16335  186178.934089  операции с недвижимостью  \n",
       "4299   122560.741753             покупка жилья  \n",
       "6954   176278.441171              ремонт жилью  \n",
       "10006   57390.256908     получение образования  \n",
       "7664   126214.519212         операции с жильем  "
      ]
     },
     "execution_count": 158,
     "metadata": {},
     "output_type": "execute_result"
    }
   ],
   "source": [
    "data.loc[data['years_employed'] >= 800, 'years_employed'] = data.loc[data['years_employed'] >= 800, 'years_employed'] / 24\n",
    "        \n",
    "data.sort_values(by='years_employed', ascending=False).head()\n"
   ]
  },
  {
   "cell_type": "code",
   "execution_count": 159,
   "metadata": {},
   "outputs": [
    {
     "data": {
      "text/plain": [
       "<AxesSubplot:xlabel='dob_years', ylabel='years_employed'>"
      ]
     },
     "execution_count": 159,
     "metadata": {},
     "output_type": "execute_result"
    },
    {
     "data": {
      "image/png": "[encoded data removed]",
      "text/plain": [
       "<Figure size 504x360 with 1 Axes>"
      ]
     },
     "metadata": {
      "needs_background": "light"
     },
     "output_type": "display_data"
    }
   ],
   "source": [
    "plt.figure(figsize=(7,5))\n",
    "\n",
    "sns.scatterplot(x=data['dob_years'], y=data['years_employed'])"
   ]
  },
  {
   "cell_type": "markdown",
   "metadata": {},
   "source": [
    "Теперь все кажется более реальным. Посмотрим, сколько пропущенных значений в данном столбце"
   ]
  },
  {
   "cell_type": "code",
   "execution_count": 160,
   "metadata": {},
   "outputs": [
    {
     "data": {
      "text/plain": [
       "2174"
      ]
     },
     "execution_count": 160,
     "metadata": {},
     "output_type": "execute_result"
    }
   ],
   "source": [
    "data['years_employed'].isna().sum()"
   ]
  },
  {
   "cell_type": "markdown",
   "metadata": {},
   "source": [
    "Трудовой стаж напрямую зависит от возраста клиентов, поэтому заменим их медианными значениями стажа для определенного возраста. Однако, судя по диаграмме, многие люди указали своим возрастом 0, посмотрим, сколько их:"
   ]
  },
  {
   "cell_type": "code",
   "execution_count": 161,
   "metadata": {
    "scrolled": false
   },
   "outputs": [
    {
     "data": {
      "text/plain": [
       "children            101\n",
       "years_employed       91\n",
       "dob_years           101\n",
       "education           101\n",
       "education_id        101\n",
       "family_status       101\n",
       "family_status_id    101\n",
       "gender              101\n",
       "income_type         101\n",
       "debt                101\n",
       "total_income         91\n",
       "purpose             101\n",
       "dtype: int64"
      ]
     },
     "execution_count": 161,
     "metadata": {},
     "output_type": "execute_result"
    }
   ],
   "source": [
    "data.loc[data['dob_years'] == 0].count()"
   ]
  },
  {
   "cell_type": "markdown",
   "metadata": {},
   "source": [
    "Как мне кажется, 101 значение из 20.000+ - это некритично, поэтому просто не будем учитывать их при расчетах и разделении на группы. "
   ]
  },
  {
   "cell_type": "markdown",
   "metadata": {},
   "source": [
    "Заменим пустые значения медианными:"
   ]
  },
  {
   "cell_type": "code",
   "execution_count": 162,
   "metadata": {},
   "outputs": [],
   "source": [
    "data['years_employed'] = data.groupby('dob_years')['years_employed'].transform(lambda group : group.fillna(group.median()))\n",
    "\n"
   ]
  },
  {
   "cell_type": "code",
   "execution_count": 163,
   "metadata": {},
   "outputs": [
    {
     "name": "stdout",
     "output_type": "stream",
     "text": [
      "Количество пропущенных значений \"до\": 0\n",
      "Количество пропущенных значений \"после\": 0\n"
     ]
    }
   ],
   "source": [
    "print('Количество пропущенных значений \"до\":', data['years_employed'].isna().sum())    \n",
    "\n",
    "data['years_employed'] = data.groupby('dob_years')['years_employed'].transform(lambda group : group.fillna(group.median()))\n",
    "\n",
    "print('Количество пропущенных значений \"после\":', data['years_employed'].isna().sum()) \n"
   ]
  },
  {
   "cell_type": "markdown",
   "metadata": {},
   "source": [
    "Пропуски также есть в столбце 'total_income', скорее всего доход зависит от нескольких факторов - возраста, типа занятости, уровня образования, заменим медианными значениями по этим столбцам: "
   ]
  },
  {
   "cell_type": "code",
   "execution_count": 164,
   "metadata": {},
   "outputs": [
    {
     "name": "stdout",
     "output_type": "stream",
     "text": [
      "Количество пропущенных значений \"до\": 2174\n"
     ]
    }
   ],
   "source": [
    "print('Количество пропущенных значений \"до\":', data['total_income'].isna().sum())    \n",
    "\n",
    "# Сгруппирум данные по столбцам с типом дохода и трудовым стажем и найдем медиану\n",
    "median1 = data.groupby(['dob_years', 'income_type']).agg({'total_income': 'median'}).rename(columns = {'total_income':'median_total_income'})\n",
    "data = data.merge(median1, on=['dob_years', 'income_type'])\n",
    "\n"
   ]
  },
  {
   "cell_type": "code",
   "execution_count": 165,
   "metadata": {},
   "outputs": [
    {
     "name": "stdout",
     "output_type": "stream",
     "text": [
      "Количество пропущенных значений \"после\": 4\n"
     ]
    }
   ],
   "source": [
    "# Заменим пропуски этой медианой:\n",
    "data.loc[data['total_income'].isna(), 'total_income'] = data.loc[data['total_income'].isna(), 'median_total_income']\n",
    "\n",
    "print('Количество пропущенных значений \"после\":', data['total_income'].isna().sum()) \n",
    "\n"
   ]
  },
  {
   "cell_type": "markdown",
   "metadata": {},
   "source": [
    "У нас осталось 4 пропущенных значения, потому что в некоторых группах слишком мало значений или они все пропуски, удалим их."
   ]
  },
  {
   "cell_type": "code",
   "execution_count": 166,
   "metadata": {},
   "outputs": [],
   "source": [
    "data.dropna(subset = ['total_income'], inplace = True)"
   ]
  },
  {
   "cell_type": "markdown",
   "metadata": {},
   "source": [
    "Мы видим, что значения в столбце 'education' указаны в разном регистре. Приведем их к одному, чтобы было легче работать с данными:"
   ]
  },
  {
   "cell_type": "code",
   "execution_count": 167,
   "metadata": {},
   "outputs": [],
   "source": [
    "data['education'] = data['education'].str.lower()"
   ]
  },
  {
   "cell_type": "code",
   "execution_count": 168,
   "metadata": {
    "scrolled": true
   },
   "outputs": [
    {
     "name": "stdout",
     "output_type": "stream",
     "text": [
      "<class 'pandas.core.frame.DataFrame'>\n",
      "Int64Index: 21521 entries, 0 to 21524\n",
      "Data columns (total 13 columns):\n",
      " #   Column               Non-Null Count  Dtype  \n",
      "---  ------               --------------  -----  \n",
      " 0   children             21521 non-null  int64  \n",
      " 1   years_employed       21521 non-null  float64\n",
      " 2   dob_years            21521 non-null  int64  \n",
      " 3   education            21521 non-null  object \n",
      " 4   education_id         21521 non-null  int64  \n",
      " 5   family_status        21521 non-null  object \n",
      " 6   family_status_id     21521 non-null  int64  \n",
      " 7   gender               21521 non-null  object \n",
      " 8   income_type          21521 non-null  object \n",
      " 9   debt                 21521 non-null  int64  \n",
      " 10  total_income         21521 non-null  float64\n",
      " 11  purpose              21521 non-null  object \n",
      " 12  median_total_income  21521 non-null  float64\n",
      "dtypes: float64(3), int64(5), object(5)\n",
      "memory usage: 2.3+ MB\n"
     ]
    }
   ],
   "source": [
    "data.info()"
   ]
  },
  {
   "cell_type": "markdown",
   "metadata": {},
   "source": [
    "Теперь количество данных во всех столбцах совпадает."
   ]
  },
  {
   "cell_type": "markdown",
   "metadata": {},
   "source": [
    "### Замена типа данных"
   ]
  },
  {
   "cell_type": "markdown",
   "metadata": {},
   "source": [
    "Трудовой стаж и общий доход для удобства можно заменить на целые числа:"
   ]
  },
  {
   "cell_type": "code",
   "execution_count": 169,
   "metadata": {},
   "outputs": [],
   "source": [
    "data['years_employed'] = data['years_employed'].astype(int)\n",
    "data['total_income'] = data['total_income'].astype(int)"
   ]
  },
  {
   "cell_type": "markdown",
   "metadata": {},
   "source": [
    "### Обработка дубликатов"
   ]
  },
  {
   "cell_type": "markdown",
   "metadata": {},
   "source": [
    "Так как у нас нет столбца с ID клиента или паспортными данными, дубликатами будем считать только те строки, которые совпадают по всем значениям. Для их поиска воспользуемся методом duplicated()"
   ]
  },
  {
   "cell_type": "code",
   "execution_count": 170,
   "metadata": {},
   "outputs": [
    {
     "data": {
      "text/plain": [
       "71"
      ]
     },
     "execution_count": 170,
     "metadata": {},
     "output_type": "execute_result"
    }
   ],
   "source": [
    "data.duplicated().sum()"
   ]
  },
  {
   "cell_type": "markdown",
   "metadata": {},
   "source": [
    "Удалим их:"
   ]
  },
  {
   "cell_type": "code",
   "execution_count": 171,
   "metadata": {},
   "outputs": [
    {
     "data": {
      "text/plain": [
       "0"
      ]
     },
     "execution_count": 171,
     "metadata": {},
     "output_type": "execute_result"
    }
   ],
   "source": [
    "data = data.drop_duplicates().reset_index(drop = True)\n",
    "data.duplicated().sum()"
   ]
  },
  {
   "cell_type": "markdown",
   "metadata": {},
   "source": [
    "### Лемматизация"
   ]
  },
  {
   "cell_type": "markdown",
   "metadata": {},
   "source": [
    "Посмотрим, какие термины встречаются в стобце с целями кредита:"
   ]
  },
  {
   "cell_type": "code",
   "execution_count": 172,
   "metadata": {},
   "outputs": [],
   "source": [
    "m=Mystem()"
   ]
  },
  {
   "cell_type": "code",
   "execution_count": 173,
   "metadata": {},
   "outputs": [
    {
     "name": "stdout",
     "output_type": "stream",
     "text": [
      "Counter({' ': 55015, 'недвижимость': 6350, 'покупка': 5895, 'жилье': 4459, 'автомобиль': 4305, 'образование': 4013, 'с': 2918, 'операция': 2604, 'свадьба': 2323, 'свой': 2229, 'на': 2222, 'строительство': 1878, 'высокий': 1374, 'получение': 1314, 'коммерческий': 1311, 'для': 1289, 'жилой': 1229, 'сделка': 941, 'дополнительный': 906, 'заниматься': 904, 'подержать': 820, 'проведение': 768, 'сыграть': 765, 'сдача': 651, 'семья': 638, 'собственный': 635, 'со': 627, 'ремонт': 607, 'приобретение': 461, 'профильный': 436, 'подержанный': 144, '\\n': 1})\n"
     ]
    }
   ],
   "source": [
    "purpose_str = ' '.join(data['purpose'])\n",
    "purpose_lemmas = m.lemmatize(purpose_str)\n",
    "\n",
    "from collections import Counter\n",
    "print(Counter(purpose_lemmas))"
   ]
  },
  {
   "cell_type": "markdown",
   "metadata": {},
   "source": [
    "Напишем функцию, которая добавит новый столбец с унифицированными категориями целей:"
   ]
  },
  {
   "cell_type": "code",
   "execution_count": 174,
   "metadata": {},
   "outputs": [
    {
     "data": {
      "text/html": [
       "<div>\n",
       "<style scoped>\n",
       "    .dataframe tbody tr th:only-of-type {\n",
       "        vertical-align: middle;\n",
       "    }\n",
       "\n",
       "    .dataframe tbody tr th {\n",
       "        vertical-align: top;\n",
       "    }\n",
       "\n",
       "    .dataframe thead th {\n",
       "        text-align: right;\n",
       "    }\n",
       "</style>\n",
       "<table border=\"1\" class=\"dataframe\">\n",
       "  <thead>\n",
       "    <tr style=\"text-align: right;\">\n",
       "      <th></th>\n",
       "      <th>children</th>\n",
       "      <th>years_employed</th>\n",
       "      <th>dob_years</th>\n",
       "      <th>education</th>\n",
       "      <th>education_id</th>\n",
       "      <th>family_status</th>\n",
       "      <th>family_status_id</th>\n",
       "      <th>gender</th>\n",
       "      <th>income_type</th>\n",
       "      <th>debt</th>\n",
       "      <th>total_income</th>\n",
       "      <th>purpose</th>\n",
       "      <th>median_total_income</th>\n",
       "      <th>purpose_category</th>\n",
       "    </tr>\n",
       "  </thead>\n",
       "  <tbody>\n",
       "    <tr>\n",
       "      <th>0</th>\n",
       "      <td>1</td>\n",
       "      <td>23</td>\n",
       "      <td>42</td>\n",
       "      <td>высшее</td>\n",
       "      <td>0</td>\n",
       "      <td>женат / замужем</td>\n",
       "      <td>0</td>\n",
       "      <td>F</td>\n",
       "      <td>сотрудник</td>\n",
       "      <td>0</td>\n",
       "      <td>253875</td>\n",
       "      <td>покупка жилья</td>\n",
       "      <td>153773.968274</td>\n",
       "      <td>недвижимость</td>\n",
       "    </tr>\n",
       "    <tr>\n",
       "      <th>1</th>\n",
       "      <td>0</td>\n",
       "      <td>8</td>\n",
       "      <td>42</td>\n",
       "      <td>среднее</td>\n",
       "      <td>1</td>\n",
       "      <td>гражданский брак</td>\n",
       "      <td>1</td>\n",
       "      <td>F</td>\n",
       "      <td>сотрудник</td>\n",
       "      <td>0</td>\n",
       "      <td>173987</td>\n",
       "      <td>покупка недвижимости</td>\n",
       "      <td>153773.968274</td>\n",
       "      <td>недвижимость</td>\n",
       "    </tr>\n",
       "    <tr>\n",
       "      <th>2</th>\n",
       "      <td>0</td>\n",
       "      <td>5</td>\n",
       "      <td>42</td>\n",
       "      <td>среднее</td>\n",
       "      <td>1</td>\n",
       "      <td>женат / замужем</td>\n",
       "      <td>0</td>\n",
       "      <td>M</td>\n",
       "      <td>сотрудник</td>\n",
       "      <td>0</td>\n",
       "      <td>136525</td>\n",
       "      <td>покупка жилья</td>\n",
       "      <td>153773.968274</td>\n",
       "      <td>недвижимость</td>\n",
       "    </tr>\n",
       "    <tr>\n",
       "      <th>3</th>\n",
       "      <td>0</td>\n",
       "      <td>2</td>\n",
       "      <td>42</td>\n",
       "      <td>высшее</td>\n",
       "      <td>0</td>\n",
       "      <td>гражданский брак</td>\n",
       "      <td>1</td>\n",
       "      <td>M</td>\n",
       "      <td>сотрудник</td>\n",
       "      <td>0</td>\n",
       "      <td>71263</td>\n",
       "      <td>свадьба</td>\n",
       "      <td>153773.968274</td>\n",
       "      <td>прочее</td>\n",
       "    </tr>\n",
       "    <tr>\n",
       "      <th>4</th>\n",
       "      <td>0</td>\n",
       "      <td>9</td>\n",
       "      <td>42</td>\n",
       "      <td>среднее</td>\n",
       "      <td>1</td>\n",
       "      <td>женат / замужем</td>\n",
       "      <td>0</td>\n",
       "      <td>F</td>\n",
       "      <td>сотрудник</td>\n",
       "      <td>0</td>\n",
       "      <td>138630</td>\n",
       "      <td>строительство жилой недвижимости</td>\n",
       "      <td>153773.968274</td>\n",
       "      <td>недвижимость</td>\n",
       "    </tr>\n",
       "  </tbody>\n",
       "</table>\n",
       "</div>"
      ],
      "text/plain": [
       "   children  years_employed  dob_years education  education_id  \\\n",
       "0         1              23         42    высшее             0   \n",
       "1         0               8         42   среднее             1   \n",
       "2         0               5         42   среднее             1   \n",
       "3         0               2         42    высшее             0   \n",
       "4         0               9         42   среднее             1   \n",
       "\n",
       "      family_status  family_status_id gender income_type  debt  total_income  \\\n",
       "0   женат / замужем                 0      F   сотрудник     0        253875   \n",
       "1  гражданский брак                 1      F   сотрудник     0        173987   \n",
       "2   женат / замужем                 0      M   сотрудник     0        136525   \n",
       "3  гражданский брак                 1      M   сотрудник     0         71263   \n",
       "4   женат / замужем                 0      F   сотрудник     0        138630   \n",
       "\n",
       "                            purpose  median_total_income purpose_category  \n",
       "0                     покупка жилья        153773.968274     недвижимость  \n",
       "1              покупка недвижимости        153773.968274     недвижимость  \n",
       "2                     покупка жилья        153773.968274     недвижимость  \n",
       "3                           свадьба        153773.968274           прочее  \n",
       "4  строительство жилой недвижимости        153773.968274     недвижимость  "
      ]
     },
     "execution_count": 174,
     "metadata": {},
     "output_type": "execute_result"
    }
   ],
   "source": [
    "def purpose_category(row):\n",
    "    if ('покупка' in row and ('жилье' in row or 'недвижимость' in row)) or 'недвижимость' in row:\n",
    "        return 'недвижимость'\n",
    "    elif 'автомобиль' in row:\n",
    "        return 'автомобиль'\n",
    "    elif 'образование' in row:\n",
    "        return 'образование'\n",
    "    else:\n",
    "        return 'прочее'\n",
    "    \n",
    "data['purpose_category'] = data['purpose'].apply(m.lemmatize).apply(purpose_category)\n",
    "data.head()    "
   ]
  },
  {
   "cell_type": "markdown",
   "metadata": {},
   "source": [
    "### Категоризация данных"
   ]
  },
  {
   "cell_type": "markdown",
   "metadata": {},
   "source": [
    "Создадим таблицу, в которой будут отображены количество детей и название группы по этому количеству:"
   ]
  },
  {
   "cell_type": "code",
   "execution_count": 175,
   "metadata": {},
   "outputs": [
    {
     "data": {
      "text/html": [
       "<div>\n",
       "<style scoped>\n",
       "    .dataframe tbody tr th:only-of-type {\n",
       "        vertical-align: middle;\n",
       "    }\n",
       "\n",
       "    .dataframe tbody tr th {\n",
       "        vertical-align: top;\n",
       "    }\n",
       "\n",
       "    .dataframe thead th {\n",
       "        text-align: right;\n",
       "    }\n",
       "</style>\n",
       "<table border=\"1\" class=\"dataframe\">\n",
       "  <thead>\n",
       "    <tr style=\"text-align: right;\">\n",
       "      <th></th>\n",
       "      <th>children</th>\n",
       "      <th>groups_by_children</th>\n",
       "    </tr>\n",
       "  </thead>\n",
       "  <tbody>\n",
       "    <tr>\n",
       "      <th>0</th>\n",
       "      <td>1</td>\n",
       "      <td>1-2 ребенка</td>\n",
       "    </tr>\n",
       "    <tr>\n",
       "      <th>1</th>\n",
       "      <td>0</td>\n",
       "      <td>нет детей</td>\n",
       "    </tr>\n",
       "    <tr>\n",
       "      <th>2</th>\n",
       "      <td>2</td>\n",
       "      <td>1-2 ребенка</td>\n",
       "    </tr>\n",
       "    <tr>\n",
       "      <th>3</th>\n",
       "      <td>5</td>\n",
       "      <td>многодетная</td>\n",
       "    </tr>\n",
       "    <tr>\n",
       "      <th>4</th>\n",
       "      <td>3</td>\n",
       "      <td>многодетная</td>\n",
       "    </tr>\n",
       "    <tr>\n",
       "      <th>5</th>\n",
       "      <td>20</td>\n",
       "      <td>многодетная</td>\n",
       "    </tr>\n",
       "    <tr>\n",
       "      <th>6</th>\n",
       "      <td>4</td>\n",
       "      <td>многодетная</td>\n",
       "    </tr>\n",
       "    <tr>\n",
       "      <th>7</th>\n",
       "      <td>-1</td>\n",
       "      <td>многодетная</td>\n",
       "    </tr>\n",
       "  </tbody>\n",
       "</table>\n",
       "</div>"
      ],
      "text/plain": [
       "   children groups_by_children\n",
       "0         1        1-2 ребенка\n",
       "1         0          нет детей\n",
       "2         2        1-2 ребенка\n",
       "3         5        многодетная\n",
       "4         3        многодетная\n",
       "5        20        многодетная\n",
       "6         4        многодетная\n",
       "7        -1        многодетная"
      ]
     },
     "execution_count": 175,
     "metadata": {},
     "output_type": "execute_result"
    }
   ],
   "source": [
    "def groups_by_children(row):\n",
    "    if row == 0:\n",
    "        return 'нет детей'\n",
    "    elif row > 0 and row < 3:\n",
    "        return '1-2 ребенка'\n",
    "    else:\n",
    "        return 'многодетная'\n",
    "    \n",
    "data['groups_by_children'] = data['children'].apply(groups_by_children)\n",
    "\n",
    "children_category = data[['children', 'groups_by_children']].drop_duplicates().reset_index(drop=True)\n",
    "children_category"
   ]
  },
  {
   "cell_type": "markdown",
   "metadata": {},
   "source": [
    "Как мы видим, в столбце с указанием количества детей появились уникальные значение - '20' и '-1'. Скорее всего они ошибочны:\n",
    "\n",
    "- '20' соответствует '2'\n",
    "- '-1' соответствует '1'\n",
    "\n",
    "Изменим данные:"
   ]
  },
  {
   "cell_type": "code",
   "execution_count": 176,
   "metadata": {},
   "outputs": [],
   "source": [
    "data['children'] = data['children'].replace(20, 2)\n",
    "data['children'] = data['children'].replace(-1, 1)"
   ]
  },
  {
   "cell_type": "code",
   "execution_count": 177,
   "metadata": {},
   "outputs": [
    {
     "data": {
      "text/html": [
       "<div>\n",
       "<style scoped>\n",
       "    .dataframe tbody tr th:only-of-type {\n",
       "        vertical-align: middle;\n",
       "    }\n",
       "\n",
       "    .dataframe tbody tr th {\n",
       "        vertical-align: top;\n",
       "    }\n",
       "\n",
       "    .dataframe thead th {\n",
       "        text-align: right;\n",
       "    }\n",
       "</style>\n",
       "<table border=\"1\" class=\"dataframe\">\n",
       "  <thead>\n",
       "    <tr style=\"text-align: right;\">\n",
       "      <th></th>\n",
       "      <th>children</th>\n",
       "      <th>groups_by_children</th>\n",
       "    </tr>\n",
       "  </thead>\n",
       "  <tbody>\n",
       "    <tr>\n",
       "      <th>0</th>\n",
       "      <td>1</td>\n",
       "      <td>1-2 ребенка</td>\n",
       "    </tr>\n",
       "    <tr>\n",
       "      <th>1</th>\n",
       "      <td>0</td>\n",
       "      <td>нет детей</td>\n",
       "    </tr>\n",
       "    <tr>\n",
       "      <th>2</th>\n",
       "      <td>2</td>\n",
       "      <td>1-2 ребенка</td>\n",
       "    </tr>\n",
       "    <tr>\n",
       "      <th>3</th>\n",
       "      <td>5</td>\n",
       "      <td>многодетная</td>\n",
       "    </tr>\n",
       "    <tr>\n",
       "      <th>4</th>\n",
       "      <td>3</td>\n",
       "      <td>многодетная</td>\n",
       "    </tr>\n",
       "    <tr>\n",
       "      <th>5</th>\n",
       "      <td>4</td>\n",
       "      <td>многодетная</td>\n",
       "    </tr>\n",
       "  </tbody>\n",
       "</table>\n",
       "</div>"
      ],
      "text/plain": [
       "   children groups_by_children\n",
       "0         1        1-2 ребенка\n",
       "1         0          нет детей\n",
       "2         2        1-2 ребенка\n",
       "3         5        многодетная\n",
       "4         3        многодетная\n",
       "5         4        многодетная"
      ]
     },
     "execution_count": 177,
     "metadata": {},
     "output_type": "execute_result"
    }
   ],
   "source": [
    "data['groups_by_children'] = data['children'].apply(groups_by_children)\n",
    "\n",
    "children_category = data[['children', 'groups_by_children']].drop_duplicates().reset_index(drop=True)\n",
    "children_category"
   ]
  },
  {
   "cell_type": "markdown",
   "metadata": {},
   "source": [
    "Также разделим клиентов на группы по уровню дохода:"
   ]
  },
  {
   "cell_type": "code",
   "execution_count": 178,
   "metadata": {},
   "outputs": [
    {
     "data": {
      "text/plain": [
       "0        (173744.667, 2265604.0]\n",
       "1        (173744.667, 2265604.0]\n",
       "2         (120434.0, 173744.667]\n",
       "3          (20666.999, 120434.0]\n",
       "4         (120434.0, 173744.667]\n",
       "                  ...           \n",
       "21445    (173744.667, 2265604.0]\n",
       "21446      (20666.999, 120434.0]\n",
       "21447      (20666.999, 120434.0]\n",
       "21448    (173744.667, 2265604.0]\n",
       "21449      (20666.999, 120434.0]\n",
       "Name: total_income, Length: 21450, dtype: category\n",
       "Categories (3, interval[float64, right]): [(20666.999, 120434.0] < (120434.0, 173744.667] < (173744.667, 2265604.0]]"
      ]
     },
     "execution_count": 178,
     "metadata": {},
     "output_type": "execute_result"
    }
   ],
   "source": [
    "pd.qcut(data['total_income'], q=3)"
   ]
  },
  {
   "cell_type": "code",
   "execution_count": 179,
   "metadata": {},
   "outputs": [
    {
     "data": {
      "text/html": [
       "<div>\n",
       "<style scoped>\n",
       "    .dataframe tbody tr th:only-of-type {\n",
       "        vertical-align: middle;\n",
       "    }\n",
       "\n",
       "    .dataframe tbody tr th {\n",
       "        vertical-align: top;\n",
       "    }\n",
       "\n",
       "    .dataframe thead th {\n",
       "        text-align: right;\n",
       "    }\n",
       "</style>\n",
       "<table border=\"1\" class=\"dataframe\">\n",
       "  <thead>\n",
       "    <tr style=\"text-align: right;\">\n",
       "      <th></th>\n",
       "      <th>total_income</th>\n",
       "      <th>income_groups</th>\n",
       "    </tr>\n",
       "  </thead>\n",
       "  <tbody>\n",
       "    <tr>\n",
       "      <th>0</th>\n",
       "      <td>253875</td>\n",
       "      <td>высокий</td>\n",
       "    </tr>\n",
       "    <tr>\n",
       "      <th>1</th>\n",
       "      <td>173987</td>\n",
       "      <td>высокий</td>\n",
       "    </tr>\n",
       "    <tr>\n",
       "      <th>2</th>\n",
       "      <td>136525</td>\n",
       "      <td>средний</td>\n",
       "    </tr>\n",
       "    <tr>\n",
       "      <th>3</th>\n",
       "      <td>71263</td>\n",
       "      <td>низкий</td>\n",
       "    </tr>\n",
       "    <tr>\n",
       "      <th>4</th>\n",
       "      <td>138630</td>\n",
       "      <td>средний</td>\n",
       "    </tr>\n",
       "  </tbody>\n",
       "</table>\n",
       "</div>"
      ],
      "text/plain": [
       "   total_income income_groups\n",
       "0        253875       высокий\n",
       "1        173987       высокий\n",
       "2        136525       средний\n",
       "3         71263        низкий\n",
       "4        138630       средний"
      ]
     },
     "execution_count": 179,
     "metadata": {},
     "output_type": "execute_result"
    }
   ],
   "source": [
    "# разделим на категории в соответствии с разделением выше(но я оставлю 'очень выский' доход больше 1 млн, \n",
    "# так как таких людей значительно меньше и кажется, что они все-таки входят в другую категорию)\n",
    "def income_group(row):\n",
    "    if row <= 120440:\n",
    "        return 'низкий'\n",
    "    elif row > 120440 and row <= 173733:\n",
    "        return 'средний'\n",
    "    elif row > 173733 and row < 1000000:\n",
    "        return 'высокий'\n",
    "    else:\n",
    "        return 'очень высокий'\n",
    "    \n",
    "data['income_groups'] = data['total_income'].apply(income_group)\n",
    "income_category = data[['total_income', 'income_groups']].drop_duplicates().reset_index(drop=True)\n",
    "income_category.head()"
   ]
  },
  {
   "cell_type": "code",
   "execution_count": 180,
   "metadata": {},
   "outputs": [
    {
     "data": {
      "text/html": [
       "<div>\n",
       "<style scoped>\n",
       "    .dataframe tbody tr th:only-of-type {\n",
       "        vertical-align: middle;\n",
       "    }\n",
       "\n",
       "    .dataframe tbody tr th {\n",
       "        vertical-align: top;\n",
       "    }\n",
       "\n",
       "    .dataframe thead th {\n",
       "        text-align: right;\n",
       "    }\n",
       "</style>\n",
       "<table border=\"1\" class=\"dataframe\">\n",
       "  <thead>\n",
       "    <tr style=\"text-align: right;\">\n",
       "      <th></th>\n",
       "      <th>number</th>\n",
       "      <th>std</th>\n",
       "    </tr>\n",
       "    <tr>\n",
       "      <th>income_groups</th>\n",
       "      <th></th>\n",
       "      <th></th>\n",
       "    </tr>\n",
       "  </thead>\n",
       "  <tbody>\n",
       "    <tr>\n",
       "      <th>высокий</th>\n",
       "      <td>7126</td>\n",
       "      <td>91992.242449</td>\n",
       "    </tr>\n",
       "    <tr>\n",
       "      <th>низкий</th>\n",
       "      <td>7151</td>\n",
       "      <td>21362.975637</td>\n",
       "    </tr>\n",
       "    <tr>\n",
       "      <th>очень высокий</th>\n",
       "      <td>25</td>\n",
       "      <td>356131.421429</td>\n",
       "    </tr>\n",
       "    <tr>\n",
       "      <th>средний</th>\n",
       "      <td>7148</td>\n",
       "      <td>14568.505320</td>\n",
       "    </tr>\n",
       "  </tbody>\n",
       "</table>\n",
       "</div>"
      ],
      "text/plain": [
       "               number            std\n",
       "income_groups                       \n",
       "высокий          7126   91992.242449\n",
       "низкий           7151   21362.975637\n",
       "очень высокий      25  356131.421429\n",
       "средний          7148   14568.505320"
      ]
     },
     "execution_count": 180,
     "metadata": {},
     "output_type": "execute_result"
    }
   ],
   "source": [
    "data.groupby('income_groups').agg(number=('total_income','count'), std=('total_income','std'))"
   ]
  },
  {
   "cell_type": "markdown",
   "metadata": {},
   "source": [
    "##  Ответьте на вопросы"
   ]
  },
  {
   "cell_type": "markdown",
   "metadata": {},
   "source": [
    "### Есть ли зависимость между наличием детей и возвратом кредита в срок?"
   ]
  },
  {
   "cell_type": "code",
   "execution_count": 181,
   "metadata": {
    "scrolled": true
   },
   "outputs": [],
   "source": [
    "# Выделим таблицу с количеством детей и долгом\n",
    "children_debt = data[['children', 'groups_by_children', 'debt']]"
   ]
  },
  {
   "cell_type": "markdown",
   "metadata": {},
   "source": [
    "Сгруппируем данные по кол-ву детей и найдем полное кол-во клиентов для каждой категории с столбце 'count' и долю тех, кто не ввыплатил кредит в столбце 'mean'(все клиенты категории / кол-во тех, кто не выплатил(им присвоено значение 1)):\n"
   ]
  },
  {
   "cell_type": "code",
   "execution_count": 182,
   "metadata": {},
   "outputs": [],
   "source": [
    "report_ch = data.groupby('children').agg({'debt': ['mean', 'count']})"
   ]
  },
  {
   "cell_type": "code",
   "execution_count": 183,
   "metadata": {},
   "outputs": [
    {
     "data": {
      "text/html": [
       "<style type=\"text/css\">\n",
       "</style>\n",
       "<table id=\"T_0f14d_\">\n",
       "  <thead>\n",
       "    <tr>\n",
       "      <th class=\"blank level0\" >&nbsp;</th>\n",
       "      <th class=\"col_heading level0 col0\" colspan=\"2\">debt</th>\n",
       "    </tr>\n",
       "    <tr>\n",
       "      <th class=\"blank level1\" >&nbsp;</th>\n",
       "      <th class=\"col_heading level1 col0\" >% невозврата</th>\n",
       "      <th class=\"col_heading level1 col1\" >Количество заемщиков</th>\n",
       "    </tr>\n",
       "    <tr>\n",
       "      <th class=\"index_name level0\" >Количество детей</th>\n",
       "      <th class=\"blank col0\" >&nbsp;</th>\n",
       "      <th class=\"blank col1\" >&nbsp;</th>\n",
       "    </tr>\n",
       "  </thead>\n",
       "  <tbody>\n",
       "    <tr>\n",
       "      <th id=\"T_0f14d_level0_row0\" class=\"row_heading level0 row0\" >0</th>\n",
       "      <td id=\"T_0f14d_row0_col0\" class=\"data row0 col0\" >7.55%</td>\n",
       "      <td id=\"T_0f14d_row0_col1\" class=\"data row0 col1\" >14088</td>\n",
       "    </tr>\n",
       "    <tr>\n",
       "      <th id=\"T_0f14d_level0_row1\" class=\"row_heading level0 row1\" >1</th>\n",
       "      <td id=\"T_0f14d_row1_col0\" class=\"data row1 col0\" >9.17%</td>\n",
       "      <td id=\"T_0f14d_row1_col1\" class=\"data row1 col1\" >4855</td>\n",
       "    </tr>\n",
       "    <tr>\n",
       "      <th id=\"T_0f14d_level0_row2\" class=\"row_heading level0 row2\" >2</th>\n",
       "      <td id=\"T_0f14d_row2_col0\" class=\"data row2 col0\" >9.50%</td>\n",
       "      <td id=\"T_0f14d_row2_col1\" class=\"data row2 col1\" >2127</td>\n",
       "    </tr>\n",
       "    <tr>\n",
       "      <th id=\"T_0f14d_level0_row3\" class=\"row_heading level0 row3\" >3</th>\n",
       "      <td id=\"T_0f14d_row3_col0\" class=\"data row3 col0\" >8.18%</td>\n",
       "      <td id=\"T_0f14d_row3_col1\" class=\"data row3 col1\" >330</td>\n",
       "    </tr>\n",
       "    <tr>\n",
       "      <th id=\"T_0f14d_level0_row4\" class=\"row_heading level0 row4\" >4</th>\n",
       "      <td id=\"T_0f14d_row4_col0\" class=\"data row4 col0\" >9.76%</td>\n",
       "      <td id=\"T_0f14d_row4_col1\" class=\"data row4 col1\" >41</td>\n",
       "    </tr>\n",
       "    <tr>\n",
       "      <th id=\"T_0f14d_level0_row5\" class=\"row_heading level0 row5\" >5</th>\n",
       "      <td id=\"T_0f14d_row5_col0\" class=\"data row5 col0\" >0.00%</td>\n",
       "      <td id=\"T_0f14d_row5_col1\" class=\"data row5 col1\" >9</td>\n",
       "    </tr>\n",
       "  </tbody>\n",
       "</table>\n"
      ],
      "text/plain": [
       "<pandas.io.formats.style.Styler at 0x1234ee3d0>"
      ]
     },
     "execution_count": 183,
     "metadata": {},
     "output_type": "execute_result"
    }
   ],
   "source": [
    "#присвоим столбцу 'count' название 'количество заемщиков', а столбцу 'mean' - '% невозврата'\n",
    "report_ch = report_ch.rename(columns={'count' : 'Количество заемщиков', 'mean' : '% невозврата'})\n",
    "\n",
    "#присвоим столбцу 'children' название 'количество детей'\n",
    "report_ch.index = report_ch.index.rename('Количество детей')\n",
    "\n",
    "#отредактируем таблицу, чтобы она выдавала значения в процентах\n",
    "report_ch.style.format({('debt', '% невозврата'):'{:.2%}', ('debt', 'Количество заемщиков'):'{:.0f}'})"
   ]
  },
  {
   "cell_type": "markdown",
   "metadata": {},
   "source": [
    "**Вывод:**\n",
    "\n",
    " - Как мы видим, процент невозврата увеличивается с увеличением количества детей(мы не рассматриваем клиентов с 4-5 детьми, так как их значительно меньше), однако он увеличивается на незначительный процент. \n",
    "\n",
    " - Также стоит иметь в виду, что количество заемщиков обратно пропорционально количеству детей. Как мне кажется, это связано с тем, что рождение детей связано с увеличением общего финансового благосостояния людей.\n",
    "\n",
    "Сгруппируем наши данные по категориям, чтобы убедиться в выводах:"
   ]
  },
  {
   "cell_type": "code",
   "execution_count": 184,
   "metadata": {},
   "outputs": [
    {
     "data": {
      "text/html": [
       "<style type=\"text/css\">\n",
       "</style>\n",
       "<table id=\"T_bb477_\">\n",
       "  <thead>\n",
       "    <tr>\n",
       "      <th class=\"blank level0\" >&nbsp;</th>\n",
       "      <th class=\"col_heading level0 col0\" colspan=\"2\">debt</th>\n",
       "    </tr>\n",
       "    <tr>\n",
       "      <th class=\"blank level1\" >&nbsp;</th>\n",
       "      <th class=\"col_heading level1 col0\" >% невозврата</th>\n",
       "      <th class=\"col_heading level1 col1\" >Количество заемщиков</th>\n",
       "    </tr>\n",
       "    <tr>\n",
       "      <th class=\"index_name level0\" >Количество детей</th>\n",
       "      <th class=\"blank col0\" >&nbsp;</th>\n",
       "      <th class=\"blank col1\" >&nbsp;</th>\n",
       "    </tr>\n",
       "  </thead>\n",
       "  <tbody>\n",
       "    <tr>\n",
       "      <th id=\"T_bb477_level0_row0\" class=\"row_heading level0 row0\" >1-2 ребенка</th>\n",
       "      <td id=\"T_bb477_row0_col0\" class=\"data row0 col0\" >9.27%</td>\n",
       "      <td id=\"T_bb477_row0_col1\" class=\"data row0 col1\" >6982</td>\n",
       "    </tr>\n",
       "    <tr>\n",
       "      <th id=\"T_bb477_level0_row1\" class=\"row_heading level0 row1\" >многодетная</th>\n",
       "      <td id=\"T_bb477_row1_col0\" class=\"data row1 col0\" >8.16%</td>\n",
       "      <td id=\"T_bb477_row1_col1\" class=\"data row1 col1\" >380</td>\n",
       "    </tr>\n",
       "    <tr>\n",
       "      <th id=\"T_bb477_level0_row2\" class=\"row_heading level0 row2\" >нет детей</th>\n",
       "      <td id=\"T_bb477_row2_col0\" class=\"data row2 col0\" >7.55%</td>\n",
       "      <td id=\"T_bb477_row2_col1\" class=\"data row2 col1\" >14088</td>\n",
       "    </tr>\n",
       "  </tbody>\n",
       "</table>\n"
      ],
      "text/plain": [
       "<pandas.io.formats.style.Styler at 0x11fe6f820>"
      ]
     },
     "execution_count": 184,
     "metadata": {},
     "output_type": "execute_result"
    }
   ],
   "source": [
    "report_ch_1 = data.groupby('groups_by_children').agg({'debt': ['mean', 'count']})\n",
    "report_ch_1 = report_ch_1.rename(columns={'count' : 'Количество заемщиков', 'mean' : '% невозврата'})\n",
    "report_ch_1.index = report_ch_1.index.rename('Количество детей')\n",
    "report_ch_1.style.format({('debt', '% невозврата'):'{:.2%}', ('debt', 'Количество заемщиков'):'{:.0f}'})"
   ]
  },
  {
   "cell_type": "markdown",
   "metadata": {},
   "source": [
    "**Таким образом:**\n",
    "\n",
    "- Клиенты без детей гораздо охотнее берут кредиты и также охотнее их возвращают. Однако стоит отметить, что клиетов без детей больше статистически.\n",
    "- Многодетные семьи берут кредиты значительно реже(практически в 18 раз реже, чем клиенты без детей), однако процент невозврата ненемного больше, чем у клиентов без детей.\n",
    "- Наибольший процент невозврата выделяется в семьях, в которых 1-2 ребенка.\n",
    "\n",
    "- Можно отменить, что процент невозврата для разных категорий не очень сильно отличается. Таким образом, отсутствие или наличие детей больше влияет на готовность людей брать кредит."
   ]
  },
  {
   "cell_type": "markdown",
   "metadata": {},
   "source": [
    "### Есть ли зависимость между семейным положением и возвратом кредита в срок?"
   ]
  },
  {
   "cell_type": "markdown",
   "metadata": {},
   "source": [
    "Сгруппируем по семейному положению и найдем полное кол-во клиентов для каждой категории и долю тех, кто не ввыплатил кредит:\n"
   ]
  },
  {
   "cell_type": "code",
   "execution_count": 185,
   "metadata": {
    "scrolled": true
   },
   "outputs": [
    {
     "data": {
      "text/html": [
       "<div>\n",
       "<style scoped>\n",
       "    .dataframe tbody tr th:only-of-type {\n",
       "        vertical-align: middle;\n",
       "    }\n",
       "\n",
       "    .dataframe tbody tr th {\n",
       "        vertical-align: top;\n",
       "    }\n",
       "\n",
       "    .dataframe thead tr th {\n",
       "        text-align: left;\n",
       "    }\n",
       "\n",
       "    .dataframe thead tr:last-of-type th {\n",
       "        text-align: right;\n",
       "    }\n",
       "</style>\n",
       "<table border=\"1\" class=\"dataframe\">\n",
       "  <thead>\n",
       "    <tr>\n",
       "      <th></th>\n",
       "      <th colspan=\"2\" halign=\"left\">debt</th>\n",
       "    </tr>\n",
       "    <tr>\n",
       "      <th></th>\n",
       "      <th>mean</th>\n",
       "      <th>count</th>\n",
       "    </tr>\n",
       "    <tr>\n",
       "      <th>family_status</th>\n",
       "      <th></th>\n",
       "      <th></th>\n",
       "    </tr>\n",
       "  </thead>\n",
       "  <tbody>\n",
       "    <tr>\n",
       "      <th>Не женат / не замужем</th>\n",
       "      <td>0.097544</td>\n",
       "      <td>2809</td>\n",
       "    </tr>\n",
       "    <tr>\n",
       "      <th>в разводе</th>\n",
       "      <td>0.071130</td>\n",
       "      <td>1195</td>\n",
       "    </tr>\n",
       "    <tr>\n",
       "      <th>вдовец / вдова</th>\n",
       "      <td>0.065693</td>\n",
       "      <td>959</td>\n",
       "    </tr>\n",
       "    <tr>\n",
       "      <th>гражданский брак</th>\n",
       "      <td>0.093494</td>\n",
       "      <td>4150</td>\n",
       "    </tr>\n",
       "    <tr>\n",
       "      <th>женат / замужем</th>\n",
       "      <td>0.075464</td>\n",
       "      <td>12337</td>\n",
       "    </tr>\n",
       "  </tbody>\n",
       "</table>\n",
       "</div>"
      ],
      "text/plain": [
       "                           debt       \n",
       "                           mean  count\n",
       "family_status                         \n",
       "Не женат / не замужем  0.097544   2809\n",
       "в разводе              0.071130   1195\n",
       "вдовец / вдова         0.065693    959\n",
       "гражданский брак       0.093494   4150\n",
       "женат / замужем        0.075464  12337"
      ]
     },
     "execution_count": 185,
     "metadata": {},
     "output_type": "execute_result"
    }
   ],
   "source": [
    "report_fam = data.groupby('family_status').agg({'debt': ['mean', 'count']})\n",
    "report_fam"
   ]
  },
  {
   "cell_type": "markdown",
   "metadata": {},
   "source": [
    "Сделаем все по аналогии с количеством детей:"
   ]
  },
  {
   "cell_type": "code",
   "execution_count": 186,
   "metadata": {},
   "outputs": [
    {
     "data": {
      "text/html": [
       "<style type=\"text/css\">\n",
       "</style>\n",
       "<table id=\"T_b1999_\">\n",
       "  <thead>\n",
       "    <tr>\n",
       "      <th class=\"blank level0\" >&nbsp;</th>\n",
       "      <th class=\"col_heading level0 col0\" colspan=\"2\">debt</th>\n",
       "    </tr>\n",
       "    <tr>\n",
       "      <th class=\"blank level1\" >&nbsp;</th>\n",
       "      <th class=\"col_heading level1 col0\" >% невозврата</th>\n",
       "      <th class=\"col_heading level1 col1\" >Количество заемщиков</th>\n",
       "    </tr>\n",
       "    <tr>\n",
       "      <th class=\"index_name level0\" >Семейное положение</th>\n",
       "      <th class=\"blank col0\" >&nbsp;</th>\n",
       "      <th class=\"blank col1\" >&nbsp;</th>\n",
       "    </tr>\n",
       "  </thead>\n",
       "  <tbody>\n",
       "    <tr>\n",
       "      <th id=\"T_b1999_level0_row0\" class=\"row_heading level0 row0\" >Не женат / не замужем</th>\n",
       "      <td id=\"T_b1999_row0_col0\" class=\"data row0 col0\" >9.75%</td>\n",
       "      <td id=\"T_b1999_row0_col1\" class=\"data row0 col1\" >2809</td>\n",
       "    </tr>\n",
       "    <tr>\n",
       "      <th id=\"T_b1999_level0_row1\" class=\"row_heading level0 row1\" >в разводе</th>\n",
       "      <td id=\"T_b1999_row1_col0\" class=\"data row1 col0\" >7.11%</td>\n",
       "      <td id=\"T_b1999_row1_col1\" class=\"data row1 col1\" >1195</td>\n",
       "    </tr>\n",
       "    <tr>\n",
       "      <th id=\"T_b1999_level0_row2\" class=\"row_heading level0 row2\" >вдовец / вдова</th>\n",
       "      <td id=\"T_b1999_row2_col0\" class=\"data row2 col0\" >6.57%</td>\n",
       "      <td id=\"T_b1999_row2_col1\" class=\"data row2 col1\" >959</td>\n",
       "    </tr>\n",
       "    <tr>\n",
       "      <th id=\"T_b1999_level0_row3\" class=\"row_heading level0 row3\" >гражданский брак</th>\n",
       "      <td id=\"T_b1999_row3_col0\" class=\"data row3 col0\" >9.35%</td>\n",
       "      <td id=\"T_b1999_row3_col1\" class=\"data row3 col1\" >4150</td>\n",
       "    </tr>\n",
       "    <tr>\n",
       "      <th id=\"T_b1999_level0_row4\" class=\"row_heading level0 row4\" >женат / замужем</th>\n",
       "      <td id=\"T_b1999_row4_col0\" class=\"data row4 col0\" >7.55%</td>\n",
       "      <td id=\"T_b1999_row4_col1\" class=\"data row4 col1\" >12337</td>\n",
       "    </tr>\n",
       "  </tbody>\n",
       "</table>\n"
      ],
      "text/plain": [
       "<pandas.io.formats.style.Styler at 0x11dda5520>"
      ]
     },
     "execution_count": 186,
     "metadata": {},
     "output_type": "execute_result"
    }
   ],
   "source": [
    "report_fam = report_fam.rename(columns={'count' : 'Количество заемщиков', 'mean' : '% невозврата'})\n",
    "report_fam.index = report_fam.index.rename('Семейное положение')\n",
    "report_fam.style.format({('debt', '% невозврата'):'{:.2%}', ('debt', 'Количество заемщиков'):'{:.0f}'})"
   ]
  },
  {
   "cell_type": "markdown",
   "metadata": {},
   "source": [
    "**Вывод**"
   ]
  },
  {
   "cell_type": "markdown",
   "metadata": {},
   "source": [
    "- Наибольший процент невозврата наблюдается среди людей, которые не состоят браке или состоят в так называемом гражданском браке.\n",
    "- Люди состоящие в браке гораздо охотнее берут кредиты, однако процент невозврата мало отличается от других категорий.\n",
    "- Наиболее часто возвращают кредиты люди, потерявшие супруга, и люди в разводе. Однако можно заметить, что они нечасто вступают в долговые отношения с банком.\n",
    "- Так как процент невозврата также несильно разнится в разных категориях, можно сделать вывод, что семейное положение не так сильно влияет на возврат кредита в срок, однако влияет на решение взять кредит в банке. "
   ]
  },
  {
   "cell_type": "markdown",
   "metadata": {},
   "source": [
    "### Есть ли зависимость между уровнем дохода и возвратом кредита в срок?"
   ]
  },
  {
   "cell_type": "code",
   "execution_count": 187,
   "metadata": {},
   "outputs": [
    {
     "data": {
      "text/html": [
       "<div>\n",
       "<style scoped>\n",
       "    .dataframe tbody tr th:only-of-type {\n",
       "        vertical-align: middle;\n",
       "    }\n",
       "\n",
       "    .dataframe tbody tr th {\n",
       "        vertical-align: top;\n",
       "    }\n",
       "\n",
       "    .dataframe thead tr th {\n",
       "        text-align: left;\n",
       "    }\n",
       "\n",
       "    .dataframe thead tr:last-of-type th {\n",
       "        text-align: right;\n",
       "    }\n",
       "</style>\n",
       "<table border=\"1\" class=\"dataframe\">\n",
       "  <thead>\n",
       "    <tr>\n",
       "      <th></th>\n",
       "      <th colspan=\"2\" halign=\"left\">debt</th>\n",
       "    </tr>\n",
       "    <tr>\n",
       "      <th></th>\n",
       "      <th>mean</th>\n",
       "      <th>count</th>\n",
       "    </tr>\n",
       "    <tr>\n",
       "      <th>income_groups</th>\n",
       "      <th></th>\n",
       "      <th></th>\n",
       "    </tr>\n",
       "  </thead>\n",
       "  <tbody>\n",
       "    <tr>\n",
       "      <th>высокий</th>\n",
       "      <td>0.074797</td>\n",
       "      <td>7126</td>\n",
       "    </tr>\n",
       "    <tr>\n",
       "      <th>низкий</th>\n",
       "      <td>0.081247</td>\n",
       "      <td>7151</td>\n",
       "    </tr>\n",
       "    <tr>\n",
       "      <th>очень высокий</th>\n",
       "      <td>0.080000</td>\n",
       "      <td>25</td>\n",
       "    </tr>\n",
       "    <tr>\n",
       "      <th>средний</th>\n",
       "      <td>0.087437</td>\n",
       "      <td>7148</td>\n",
       "    </tr>\n",
       "  </tbody>\n",
       "</table>\n",
       "</div>"
      ],
      "text/plain": [
       "                   debt      \n",
       "                   mean count\n",
       "income_groups                \n",
       "высокий        0.074797  7126\n",
       "низкий         0.081247  7151\n",
       "очень высокий  0.080000    25\n",
       "средний        0.087437  7148"
      ]
     },
     "execution_count": 187,
     "metadata": {},
     "output_type": "execute_result"
    }
   ],
   "source": [
    "report_income = data.groupby('income_groups').agg({'debt': ['mean', 'count']})\n",
    "report_income"
   ]
  },
  {
   "cell_type": "code",
   "execution_count": 188,
   "metadata": {
    "scrolled": true
   },
   "outputs": [
    {
     "data": {
      "text/html": [
       "<style type=\"text/css\">\n",
       "</style>\n",
       "<table id=\"T_eaf2f_\">\n",
       "  <thead>\n",
       "    <tr>\n",
       "      <th class=\"blank level0\" >&nbsp;</th>\n",
       "      <th class=\"col_heading level0 col0\" colspan=\"2\">debt</th>\n",
       "    </tr>\n",
       "    <tr>\n",
       "      <th class=\"blank level1\" >&nbsp;</th>\n",
       "      <th class=\"col_heading level1 col0\" >% невозврата</th>\n",
       "      <th class=\"col_heading level1 col1\" >Количество заемщиков</th>\n",
       "    </tr>\n",
       "    <tr>\n",
       "      <th class=\"index_name level0\" >Уровень дохода</th>\n",
       "      <th class=\"blank col0\" >&nbsp;</th>\n",
       "      <th class=\"blank col1\" >&nbsp;</th>\n",
       "    </tr>\n",
       "  </thead>\n",
       "  <tbody>\n",
       "    <tr>\n",
       "      <th id=\"T_eaf2f_level0_row0\" class=\"row_heading level0 row0\" >высокий</th>\n",
       "      <td id=\"T_eaf2f_row0_col0\" class=\"data row0 col0\" >7.48%</td>\n",
       "      <td id=\"T_eaf2f_row0_col1\" class=\"data row0 col1\" >7126</td>\n",
       "    </tr>\n",
       "    <tr>\n",
       "      <th id=\"T_eaf2f_level0_row1\" class=\"row_heading level0 row1\" >низкий</th>\n",
       "      <td id=\"T_eaf2f_row1_col0\" class=\"data row1 col0\" >8.12%</td>\n",
       "      <td id=\"T_eaf2f_row1_col1\" class=\"data row1 col1\" >7151</td>\n",
       "    </tr>\n",
       "    <tr>\n",
       "      <th id=\"T_eaf2f_level0_row2\" class=\"row_heading level0 row2\" >очень высокий</th>\n",
       "      <td id=\"T_eaf2f_row2_col0\" class=\"data row2 col0\" >8.00%</td>\n",
       "      <td id=\"T_eaf2f_row2_col1\" class=\"data row2 col1\" >25</td>\n",
       "    </tr>\n",
       "    <tr>\n",
       "      <th id=\"T_eaf2f_level0_row3\" class=\"row_heading level0 row3\" >средний</th>\n",
       "      <td id=\"T_eaf2f_row3_col0\" class=\"data row3 col0\" >8.74%</td>\n",
       "      <td id=\"T_eaf2f_row3_col1\" class=\"data row3 col1\" >7148</td>\n",
       "    </tr>\n",
       "  </tbody>\n",
       "</table>\n"
      ],
      "text/plain": [
       "<pandas.io.formats.style.Styler at 0x11dd78550>"
      ]
     },
     "execution_count": 188,
     "metadata": {},
     "output_type": "execute_result"
    }
   ],
   "source": [
    "report_income = report_income.rename(columns={'count' : 'Количество заемщиков', 'mean' : '% невозврата'})\n",
    "report_income.index = report_income.index.rename('Уровень дохода')\n",
    "report_income.style.format({('debt', '% невозврата'):'{:.2%}', ('debt', 'Количество заемщиков'):'{:.0f}'})"
   ]
  },
  {
   "cell_type": "markdown",
   "metadata": {},
   "source": [
    "**Вывод**\n",
    "\n",
    "- Наибольший процент невозврата среди людей со средним доходом.\n",
    "- Люди с доходом от 1 млн.р. берут кредиты редко, однако процент невозврата среди них выше. Скорее всего это связано с тем, что они берут кредиты на гораздо более большие суммы, чем другие категории.\n",
    "- Реже всего не возвращают кредит люди с высоким уровнем дохода. \n"
   ]
  },
  {
   "cell_type": "markdown",
   "metadata": {},
   "source": [
    "### Как разные цели кредита влияют на его возврат в срок?"
   ]
  },
  {
   "cell_type": "code",
   "execution_count": 189,
   "metadata": {},
   "outputs": [
    {
     "data": {
      "text/html": [
       "<style type=\"text/css\">\n",
       "</style>\n",
       "<table id=\"T_1e9cc_\">\n",
       "  <thead>\n",
       "    <tr>\n",
       "      <th class=\"blank level0\" >&nbsp;</th>\n",
       "      <th class=\"col_heading level0 col0\" colspan=\"2\">debt</th>\n",
       "    </tr>\n",
       "    <tr>\n",
       "      <th class=\"blank level1\" >&nbsp;</th>\n",
       "      <th class=\"col_heading level1 col0\" >% невозврата</th>\n",
       "      <th class=\"col_heading level1 col1\" >Количество заемщиков</th>\n",
       "    </tr>\n",
       "    <tr>\n",
       "      <th class=\"index_name level0\" >Цель кредита</th>\n",
       "      <th class=\"blank col0\" >&nbsp;</th>\n",
       "      <th class=\"blank col1\" >&nbsp;</th>\n",
       "    </tr>\n",
       "  </thead>\n",
       "  <tbody>\n",
       "    <tr>\n",
       "      <th id=\"T_1e9cc_level0_row0\" class=\"row_heading level0 row0\" >автомобиль</th>\n",
       "      <td id=\"T_1e9cc_row0_col0\" class=\"data row0 col0\" >9.36%</td>\n",
       "      <td id=\"T_1e9cc_row0_col1\" class=\"data row0 col1\" >4305</td>\n",
       "    </tr>\n",
       "    <tr>\n",
       "      <th id=\"T_1e9cc_level0_row1\" class=\"row_heading level0 row1\" >недвижимость</th>\n",
       "      <td id=\"T_1e9cc_row1_col0\" class=\"data row1 col0\" >7.33%</td>\n",
       "      <td id=\"T_1e9cc_row1_col1\" class=\"data row1 col1\" >8904</td>\n",
       "    </tr>\n",
       "    <tr>\n",
       "      <th id=\"T_1e9cc_level0_row2\" class=\"row_heading level0 row2\" >образование</th>\n",
       "      <td id=\"T_1e9cc_row2_col0\" class=\"data row2 col0\" >9.22%</td>\n",
       "      <td id=\"T_1e9cc_row2_col1\" class=\"data row2 col1\" >4013</td>\n",
       "    </tr>\n",
       "    <tr>\n",
       "      <th id=\"T_1e9cc_level0_row3\" class=\"row_heading level0 row3\" >прочее</th>\n",
       "      <td id=\"T_1e9cc_row3_col0\" class=\"data row3 col0\" >7.45%</td>\n",
       "      <td id=\"T_1e9cc_row3_col1\" class=\"data row3 col1\" >4228</td>\n",
       "    </tr>\n",
       "  </tbody>\n",
       "</table>\n"
      ],
      "text/plain": [
       "<pandas.io.formats.style.Styler at 0x11dd7cc40>"
      ]
     },
     "execution_count": 189,
     "metadata": {},
     "output_type": "execute_result"
    }
   ],
   "source": [
    "report_purp = data.groupby('purpose_category').agg({'debt': ['mean', 'count']})\n",
    "report_purp = report_purp.rename(columns={'count' : 'Количество заемщиков', 'mean' : '% невозврата'})\n",
    "report_purp.index = report_purp.index.rename('Цель кредита')\n",
    "report_purp.style.format({('debt', '% невозврата'):'{:.2%}', ('debt', 'Количество заемщиков'):'{:.0f}'})"
   ]
  },
  {
   "cell_type": "markdown",
   "metadata": {},
   "source": [
    "**Вывод**"
   ]
  },
  {
   "cell_type": "markdown",
   "metadata": {},
   "source": [
    "- Чаще всего люди берут кредит на недвижимость(почти в 2 раза чаще, чем в других категориях). Также кредит на недвижимость чаще выплачивается, чем кредиты на другие цели.\n",
    "- Примерно одинаково часто клиенты берут кредиты на автомобили и образование, при этом % невозврата в этих категориях выше, чем в других. \n",
    "- Реже не выплачиваются кредиты на такие цели как свадьба, операции и ремонт. "
   ]
  },
  {
   "cell_type": "markdown",
   "metadata": {},
   "source": [
    "## Шаг 4. Общий вывод"
   ]
  },
  {
   "cell_type": "markdown",
   "metadata": {},
   "source": [
    "Наибольшим образом на возврат кредита в срок влияют цели кредита и уровень дохода клиентов. Семейное положение и наличие детей влияют в большей степени на готовность клиентов взять кредит, но не на его возврат."
   ]
  }
 ],
 "metadata": {
  "ExecuteTimeLog": [
   {
    "duration": 641,
    "start_time": "2021-11-18T07:09:59.575Z"
   },
   {
    "duration": 61,
    "start_time": "2021-11-18T07:10:31.481Z"
   },
   {
    "duration": 50,
    "start_time": "2021-11-18T07:11:28.937Z"
   },
   {
    "duration": 55,
    "start_time": "2021-11-18T07:13:55.195Z"
   },
   {
    "duration": 336,
    "start_time": "2021-11-18T07:18:57.733Z"
   },
   {
    "duration": 54,
    "start_time": "2021-11-18T07:19:07.025Z"
   },
   {
    "duration": 41,
    "start_time": "2021-11-18T07:19:07.147Z"
   },
   {
    "duration": 59,
    "start_time": "2021-11-18T07:25:42.714Z"
   },
   {
    "duration": 51,
    "start_time": "2021-11-18T07:30:40.643Z"
   },
   {
    "duration": 9,
    "start_time": "2021-11-18T07:41:34.684Z"
   },
   {
    "duration": 53,
    "start_time": "2021-11-18T07:41:49.869Z"
   },
   {
    "duration": 52,
    "start_time": "2021-11-18T07:41:55.252Z"
   },
   {
    "duration": 54,
    "start_time": "2021-11-18T07:45:08.622Z"
   },
   {
    "duration": 52,
    "start_time": "2021-11-18T07:45:26.615Z"
   },
   {
    "duration": 4,
    "start_time": "2021-11-18T07:50:51.200Z"
   },
   {
    "duration": 12,
    "start_time": "2021-11-18T07:50:59.662Z"
   },
   {
    "duration": 5837,
    "start_time": "2021-11-18T07:56:50.075Z"
   },
   {
    "duration": -31,
    "start_time": "2021-11-18T07:57:07.907Z"
   },
   {
    "duration": 6073,
    "start_time": "2021-11-18T07:58:09.660Z"
   },
   {
    "duration": 238,
    "start_time": "2021-11-18T07:58:23.523Z"
   },
   {
    "duration": 256,
    "start_time": "2021-11-18T07:58:40.238Z"
   },
   {
    "duration": 243,
    "start_time": "2021-11-18T08:00:17.427Z"
   },
   {
    "duration": 52,
    "start_time": "2021-11-18T08:01:03.132Z"
   },
   {
    "duration": 11,
    "start_time": "2021-11-18T08:01:05.059Z"
   },
   {
    "duration": 105,
    "start_time": "2021-11-18T08:01:05.999Z"
   },
   {
    "duration": 11,
    "start_time": "2021-11-18T08:02:12.409Z"
   },
   {
    "duration": 254,
    "start_time": "2021-11-18T08:02:20.305Z"
   },
   {
    "duration": -27,
    "start_time": "2021-11-18T08:06:37.948Z"
   },
   {
    "duration": 9335,
    "start_time": "2021-11-18T08:06:38.625Z"
   },
   {
    "duration": 2,
    "start_time": "2021-11-18T09:12:19.924Z"
   },
   {
    "duration": 2,
    "start_time": "2021-11-18T09:12:22.743Z"
   },
   {
    "duration": 10,
    "start_time": "2021-11-18T09:12:26.756Z"
   },
   {
    "duration": 3,
    "start_time": "2021-11-18T09:12:28.061Z"
   },
   {
    "duration": 324,
    "start_time": "2021-11-18T09:12:31.893Z"
   },
   {
    "duration": 240,
    "start_time": "2021-11-18T09:13:30.442Z"
   },
   {
    "duration": 6085,
    "start_time": "2021-11-18T09:13:36.311Z"
   },
   {
    "duration": 4,
    "start_time": "2021-11-18T09:14:12.935Z"
   },
   {
    "duration": 234,
    "start_time": "2021-11-18T09:14:29.366Z"
   },
   {
    "duration": 3,
    "start_time": "2021-11-18T09:14:38.196Z"
   },
   {
    "duration": 243,
    "start_time": "2021-11-18T09:15:51.513Z"
   },
   {
    "duration": 256,
    "start_time": "2021-11-18T09:15:56.365Z"
   },
   {
    "duration": 265,
    "start_time": "2021-11-18T09:17:16.392Z"
   },
   {
    "duration": 4,
    "start_time": "2021-11-18T09:17:36.509Z"
   },
   {
    "duration": 312,
    "start_time": "2021-11-18T09:24:02.497Z"
   },
   {
    "duration": 332,
    "start_time": "2021-11-18T12:08:50.997Z"
   },
   {
    "duration": 279,
    "start_time": "2021-11-18T12:11:02.631Z"
   },
   {
    "duration": 7,
    "start_time": "2021-11-18T12:12:44.580Z"
   },
   {
    "duration": 12,
    "start_time": "2021-11-18T12:12:54.651Z"
   },
   {
    "duration": 3,
    "start_time": "2021-11-18T12:32:26.410Z"
   },
   {
    "duration": 4,
    "start_time": "2021-11-18T12:32:29.908Z"
   },
   {
    "duration": 12,
    "start_time": "2021-11-18T12:32:37.351Z"
   },
   {
    "duration": 51,
    "start_time": "2021-11-18T12:32:44.329Z"
   },
   {
    "duration": 10,
    "start_time": "2021-11-18T12:32:46.259Z"
   },
   {
    "duration": 12,
    "start_time": "2021-11-18T12:32:52.369Z"
   },
   {
    "duration": 12,
    "start_time": "2021-11-18T12:32:55.872Z"
   },
   {
    "duration": 255,
    "start_time": "2021-11-18T12:33:19.396Z"
   },
   {
    "duration": 11,
    "start_time": "2021-11-18T12:33:39.654Z"
   },
   {
    "duration": 10,
    "start_time": "2021-11-18T12:33:44.108Z"
   },
   {
    "duration": 12,
    "start_time": "2021-11-18T12:33:47.083Z"
   },
   {
    "duration": 51,
    "start_time": "2021-11-18T12:33:50.802Z"
   },
   {
    "duration": 11,
    "start_time": "2021-11-18T12:33:51.729Z"
   },
   {
    "duration": 12,
    "start_time": "2021-11-18T12:33:55.216Z"
   },
   {
    "duration": 12,
    "start_time": "2021-11-18T12:33:59.377Z"
   },
   {
    "duration": 23,
    "start_time": "2021-11-18T12:36:22.040Z"
   },
   {
    "duration": 24,
    "start_time": "2021-11-18T12:36:31.513Z"
   },
   {
    "duration": 23,
    "start_time": "2021-11-18T12:37:04.209Z"
   },
   {
    "duration": 53,
    "start_time": "2021-11-18T12:37:08.970Z"
   },
   {
    "duration": 10,
    "start_time": "2021-11-18T12:37:09.908Z"
   },
   {
    "duration": 11,
    "start_time": "2021-11-18T12:37:13.130Z"
   },
   {
    "duration": 22,
    "start_time": "2021-11-18T12:37:15.850Z"
   },
   {
    "duration": 337,
    "start_time": "2021-11-18T12:43:30.623Z"
   },
   {
    "duration": 82,
    "start_time": "2021-11-18T12:44:01.187Z"
   },
   {
    "duration": 6015,
    "start_time": "2021-11-18T12:44:14.213Z"
   },
   {
    "duration": -50,
    "start_time": "2021-11-18T12:44:20.279Z"
   },
   {
    "duration": -50,
    "start_time": "2021-11-18T12:47:24.128Z"
   },
   {
    "duration": 7064,
    "start_time": "2021-11-18T12:48:56.031Z"
   },
   {
    "duration": -33,
    "start_time": "2021-11-18T12:49:03.130Z"
   },
   {
    "duration": -37,
    "start_time": "2021-11-18T12:49:03.135Z"
   },
   {
    "duration": 51,
    "start_time": "2021-11-18T12:49:39.213Z"
   },
   {
    "duration": 9,
    "start_time": "2021-11-18T12:49:40.981Z"
   },
   {
    "duration": 11,
    "start_time": "2021-11-18T12:49:44.391Z"
   },
   {
    "duration": 316,
    "start_time": "2021-11-18T12:49:49.595Z"
   },
   {
    "duration": 6115,
    "start_time": "2021-11-18T12:51:12.405Z"
   },
   {
    "duration": 6778,
    "start_time": "2021-11-18T12:51:29.977Z"
   },
   {
    "duration": 6801,
    "start_time": "2021-11-18T12:51:54.567Z"
   },
   {
    "duration": -137,
    "start_time": "2021-11-18T12:52:01.507Z"
   },
   {
    "duration": 54,
    "start_time": "2021-11-18T12:52:03.342Z"
   },
   {
    "duration": 10,
    "start_time": "2021-11-18T12:52:04.776Z"
   },
   {
    "duration": 11,
    "start_time": "2021-11-18T12:52:08.033Z"
   },
   {
    "duration": 22,
    "start_time": "2021-11-18T12:52:12.449Z"
   },
   {
    "duration": 482,
    "start_time": "2021-11-18T12:52:26.601Z"
   },
   {
    "duration": 11,
    "start_time": "2021-11-18T12:52:40.320Z"
   },
   {
    "duration": 20,
    "start_time": "2021-11-18T12:52:43.569Z"
   },
   {
    "duration": 277,
    "start_time": "2021-11-18T12:54:34.233Z"
   },
   {
    "duration": 246,
    "start_time": "2021-11-18T12:54:39.637Z"
   },
   {
    "duration": 236,
    "start_time": "2021-11-18T12:54:51.582Z"
   },
   {
    "duration": 312,
    "start_time": "2021-11-18T12:55:02.965Z"
   },
   {
    "duration": 52,
    "start_time": "2021-11-18T12:55:07.244Z"
   },
   {
    "duration": 15,
    "start_time": "2021-11-18T12:55:08.362Z"
   },
   {
    "duration": 11,
    "start_time": "2021-11-18T12:55:12.468Z"
   },
   {
    "duration": 21,
    "start_time": "2021-11-18T12:55:15.268Z"
   },
   {
    "duration": 258,
    "start_time": "2021-11-18T12:55:20.042Z"
   },
   {
    "duration": 237,
    "start_time": "2021-11-18T12:55:38.134Z"
   },
   {
    "duration": 22,
    "start_time": "2021-11-18T13:15:06.469Z"
   },
   {
    "duration": 12,
    "start_time": "2021-11-18T13:15:11.750Z"
   },
   {
    "duration": 51,
    "start_time": "2021-11-18T13:15:17.085Z"
   },
   {
    "duration": 11,
    "start_time": "2021-11-18T13:15:19.005Z"
   },
   {
    "duration": 12,
    "start_time": "2021-11-18T13:15:23.022Z"
   },
   {
    "duration": 22,
    "start_time": "2021-11-18T13:15:26.650Z"
   },
   {
    "duration": 236,
    "start_time": "2021-11-18T13:15:40.934Z"
   },
   {
    "duration": 11,
    "start_time": "2021-11-18T13:16:20.100Z"
   },
   {
    "duration": 23,
    "start_time": "2021-11-18T13:16:21.702Z"
   },
   {
    "duration": 54,
    "start_time": "2021-11-18T13:16:26.593Z"
   },
   {
    "duration": 11,
    "start_time": "2021-11-18T13:16:27.678Z"
   },
   {
    "duration": 12,
    "start_time": "2021-11-18T13:16:30.835Z"
   },
   {
    "duration": 23,
    "start_time": "2021-11-18T13:16:32.439Z"
   },
   {
    "duration": 253,
    "start_time": "2021-11-18T13:16:33.682Z"
   },
   {
    "duration": 51,
    "start_time": "2021-11-18T13:17:00.126Z"
   },
   {
    "duration": 9,
    "start_time": "2021-11-18T13:17:01.238Z"
   },
   {
    "duration": 11,
    "start_time": "2021-11-18T13:17:04.111Z"
   },
   {
    "duration": 5,
    "start_time": "2021-11-18T13:17:05.545Z"
   },
   {
    "duration": 4,
    "start_time": "2021-11-18T13:17:08.963Z"
   },
   {
    "duration": 5871,
    "start_time": "2021-11-18T13:17:17.165Z"
   },
   {
    "duration": -117,
    "start_time": "2021-11-18T13:17:23.155Z"
   },
   {
    "duration": -123,
    "start_time": "2021-11-18T13:17:23.162Z"
   },
   {
    "duration": 51,
    "start_time": "2021-11-18T13:17:24.895Z"
   },
   {
    "duration": 10,
    "start_time": "2021-11-18T13:17:26.328Z"
   },
   {
    "duration": 12,
    "start_time": "2021-11-18T13:17:32.126Z"
   },
   {
    "duration": 6,
    "start_time": "2021-11-18T13:17:36.176Z"
   },
   {
    "duration": 4,
    "start_time": "2021-11-18T13:17:38.427Z"
   },
   {
    "duration": 636,
    "start_time": "2021-11-19T08:12:42.868Z"
   },
   {
    "duration": 11,
    "start_time": "2021-11-19T08:12:46.349Z"
   },
   {
    "duration": 11,
    "start_time": "2021-11-19T08:12:50.969Z"
   },
   {
    "duration": 9,
    "start_time": "2021-11-19T08:12:53.833Z"
   },
   {
    "duration": 4,
    "start_time": "2021-11-19T08:12:55.771Z"
   },
   {
    "duration": 5973,
    "start_time": "2021-11-19T08:14:53.813Z"
   },
   {
    "duration": -100,
    "start_time": "2021-11-19T08:14:59.890Z"
   },
   {
    "duration": 54,
    "start_time": "2021-11-19T08:15:01.934Z"
   },
   {
    "duration": 12,
    "start_time": "2021-11-19T08:15:03.113Z"
   },
   {
    "duration": 12,
    "start_time": "2021-11-19T08:15:07.976Z"
   },
   {
    "duration": 5,
    "start_time": "2021-11-19T08:15:11.034Z"
   },
   {
    "duration": 6364,
    "start_time": "2021-11-19T08:15:29.575Z"
   },
   {
    "duration": 54,
    "start_time": "2021-11-19T08:15:36.024Z"
   },
   {
    "duration": 11,
    "start_time": "2021-11-19T08:15:37.295Z"
   },
   {
    "duration": 11,
    "start_time": "2021-11-19T08:15:41.845Z"
   },
   {
    "duration": 20,
    "start_time": "2021-11-19T08:15:44.834Z"
   },
   {
    "duration": 5,
    "start_time": "2021-11-19T08:16:03.940Z"
   },
   {
    "duration": 17,
    "start_time": "2021-11-19T08:18:58.567Z"
   },
   {
    "duration": 19,
    "start_time": "2021-11-19T08:25:16.481Z"
   },
   {
    "duration": 19,
    "start_time": "2021-11-19T08:25:25.184Z"
   },
   {
    "duration": 16,
    "start_time": "2021-11-19T08:25:34.471Z"
   },
   {
    "duration": -68,
    "start_time": "2021-11-19T08:33:26.935Z"
   },
   {
    "duration": 54,
    "start_time": "2021-11-19T08:33:28.004Z"
   },
   {
    "duration": 10,
    "start_time": "2021-11-19T08:33:29.950Z"
   },
   {
    "duration": 11,
    "start_time": "2021-11-19T08:33:34.290Z"
   },
   {
    "duration": 14,
    "start_time": "2021-11-19T08:33:37.962Z"
   },
   {
    "duration": 17,
    "start_time": "2021-11-19T08:33:39.293Z"
   },
   {
    "duration": 5737,
    "start_time": "2021-11-19T08:33:44.774Z"
   },
   {
    "duration": -68,
    "start_time": "2021-11-19T08:33:50.581Z"
   },
   {
    "duration": 55,
    "start_time": "2021-11-19T08:33:51.167Z"
   },
   {
    "duration": 10,
    "start_time": "2021-11-19T08:33:52.431Z"
   },
   {
    "duration": 11,
    "start_time": "2021-11-19T08:33:55.397Z"
   },
   {
    "duration": 13,
    "start_time": "2021-11-19T08:33:58.243Z"
   },
   {
    "duration": 17,
    "start_time": "2021-11-19T08:34:00.530Z"
   },
   {
    "duration": 6046,
    "start_time": "2021-11-19T08:34:03.775Z"
   },
   {
    "duration": 53,
    "start_time": "2021-11-19T08:34:13.913Z"
   },
   {
    "duration": 10,
    "start_time": "2021-11-19T08:34:15.129Z"
   },
   {
    "duration": 12,
    "start_time": "2021-11-19T08:34:18.663Z"
   },
   {
    "duration": 13,
    "start_time": "2021-11-19T08:34:21.714Z"
   },
   {
    "duration": 16,
    "start_time": "2021-11-19T08:34:23.256Z"
   },
   {
    "duration": 7436,
    "start_time": "2021-11-19T08:34:27.479Z"
   },
   {
    "duration": 53,
    "start_time": "2021-11-19T08:35:13.935Z"
   },
   {
    "duration": 10,
    "start_time": "2021-11-19T08:35:15.219Z"
   },
   {
    "duration": 11,
    "start_time": "2021-11-19T08:35:17.360Z"
   },
   {
    "duration": 12,
    "start_time": "2021-11-19T08:35:19.409Z"
   },
   {
    "duration": 17,
    "start_time": "2021-11-19T08:35:20.775Z"
   },
   {
    "duration": 423,
    "start_time": "2021-11-19T08:35:22.985Z"
   },
   {
    "duration": 5474,
    "start_time": "2021-11-19T08:39:32.860Z"
   },
   {
    "duration": -73,
    "start_time": "2021-11-19T08:39:38.410Z"
   },
   {
    "duration": -74,
    "start_time": "2021-11-19T08:39:38.412Z"
   },
   {
    "duration": 54,
    "start_time": "2021-11-19T08:40:20.290Z"
   },
   {
    "duration": 11,
    "start_time": "2021-11-19T08:40:22.050Z"
   },
   {
    "duration": 12,
    "start_time": "2021-11-19T08:40:24.824Z"
   },
   {
    "duration": 14,
    "start_time": "2021-11-19T08:40:26.633Z"
   },
   {
    "duration": 16,
    "start_time": "2021-11-19T08:40:28.232Z"
   },
   {
    "duration": 441,
    "start_time": "2021-11-19T08:40:30.438Z"
   },
   {
    "duration": -66,
    "start_time": "2021-11-19T08:40:40.581Z"
   },
   {
    "duration": -70,
    "start_time": "2021-11-19T08:40:40.586Z"
   },
   {
    "duration": 54,
    "start_time": "2021-11-19T08:40:41.497Z"
   },
   {
    "duration": 11,
    "start_time": "2021-11-19T08:40:41.766Z"
   },
   {
    "duration": 51,
    "start_time": "2021-11-19T08:40:45.588Z"
   },
   {
    "duration": 11,
    "start_time": "2021-11-19T08:40:46.866Z"
   },
   {
    "duration": 14,
    "start_time": "2021-11-19T08:40:49.539Z"
   },
   {
    "duration": 14,
    "start_time": "2021-11-19T08:40:55.746Z"
   },
   {
    "duration": 16,
    "start_time": "2021-11-19T08:40:57.330Z"
   },
   {
    "duration": 403,
    "start_time": "2021-11-19T08:40:58.892Z"
   },
   {
    "duration": 6138,
    "start_time": "2021-11-19T08:41:01.223Z"
   },
   {
    "duration": 293,
    "start_time": "2021-11-19T08:48:21.672Z"
   },
   {
    "duration": 256,
    "start_time": "2021-11-19T08:49:29.874Z"
   },
   {
    "duration": 248,
    "start_time": "2021-11-19T08:49:52.558Z"
   },
   {
    "duration": 269,
    "start_time": "2021-11-19T09:08:06.220Z"
   },
   {
    "duration": 226,
    "start_time": "2021-11-19T09:08:32.694Z"
   },
   {
    "duration": 12,
    "start_time": "2021-11-19T09:11:59.991Z"
   },
   {
    "duration": 56,
    "start_time": "2021-11-19T09:12:05.286Z"
   },
   {
    "duration": 10,
    "start_time": "2021-11-19T09:12:06.460Z"
   },
   {
    "duration": 12,
    "start_time": "2021-11-19T09:12:09.759Z"
   },
   {
    "duration": 13,
    "start_time": "2021-11-19T09:12:11.402Z"
   },
   {
    "duration": 16,
    "start_time": "2021-11-19T09:12:12.668Z"
   },
   {
    "duration": 414,
    "start_time": "2021-11-19T09:12:15.510Z"
   },
   {
    "duration": 6,
    "start_time": "2021-11-19T09:12:17.497Z"
   },
   {
    "duration": 20,
    "start_time": "2021-11-19T09:12:50.684Z"
   },
   {
    "duration": 20,
    "start_time": "2021-11-19T09:13:04.172Z"
   },
   {
    "duration": 55,
    "start_time": "2021-11-19T09:13:07.771Z"
   },
   {
    "duration": 10,
    "start_time": "2021-11-19T09:13:08.245Z"
   },
   {
    "duration": 11,
    "start_time": "2021-11-19T09:13:09.948Z"
   },
   {
    "duration": 13,
    "start_time": "2021-11-19T09:13:12.445Z"
   },
   {
    "duration": 17,
    "start_time": "2021-11-19T09:13:14.393Z"
   },
   {
    "duration": 417,
    "start_time": "2021-11-19T09:13:17.212Z"
   },
   {
    "duration": 19,
    "start_time": "2021-11-19T09:13:19.748Z"
   },
   {
    "duration": 22,
    "start_time": "2021-11-19T09:21:48.404Z"
   },
   {
    "duration": 14106,
    "start_time": "2021-11-19T09:28:35.165Z"
   },
   {
    "duration": 353,
    "start_time": "2021-11-19T09:32:13.679Z"
   },
   {
    "duration": 255,
    "start_time": "2021-11-19T10:01:01.812Z"
   },
   {
    "duration": 57,
    "start_time": "2021-11-19T10:01:21.789Z"
   },
   {
    "duration": 10,
    "start_time": "2021-11-19T10:01:22.567Z"
   },
   {
    "duration": 11,
    "start_time": "2021-11-19T10:01:23.577Z"
   },
   {
    "duration": 14,
    "start_time": "2021-11-19T10:01:24.141Z"
   },
   {
    "duration": 16,
    "start_time": "2021-11-19T10:01:24.555Z"
   },
   {
    "duration": 435,
    "start_time": "2021-11-19T10:01:26.333Z"
   },
   {
    "duration": 537,
    "start_time": "2021-11-19T10:01:28.970Z"
   },
   {
    "duration": 19,
    "start_time": "2021-11-19T10:21:55.872Z"
   },
   {
    "duration": 479,
    "start_time": "2021-11-19T10:22:37.519Z"
   },
   {
    "duration": 6878,
    "start_time": "2021-11-19T10:24:24.246Z"
   },
   {
    "duration": 55,
    "start_time": "2021-11-19T10:24:40.057Z"
   },
   {
    "duration": 11,
    "start_time": "2021-11-19T10:24:42.634Z"
   },
   {
    "duration": 11,
    "start_time": "2021-11-19T10:24:45.680Z"
   },
   {
    "duration": 18,
    "start_time": "2021-11-19T10:24:47.864Z"
   },
   {
    "duration": 82,
    "start_time": "2021-11-19T10:26:40.595Z"
   },
   {
    "duration": 20,
    "start_time": "2021-11-19T10:27:49.578Z"
   },
   {
    "duration": 410,
    "start_time": "2021-11-19T10:27:51.803Z"
   },
   {
    "duration": 5,
    "start_time": "2021-11-19T10:32:50.446Z"
   },
   {
    "duration": 5,
    "start_time": "2021-11-19T10:33:28.948Z"
   },
   {
    "duration": 23,
    "start_time": "2021-11-19T10:34:51.014Z"
   },
   {
    "duration": 19,
    "start_time": "2021-11-19T10:37:06.449Z"
   },
   {
    "duration": 7,
    "start_time": "2021-11-19T10:37:14.735Z"
   },
   {
    "duration": 7,
    "start_time": "2021-11-19T10:39:46.336Z"
   },
   {
    "duration": 7,
    "start_time": "2021-11-19T10:40:12.018Z"
   },
   {
    "duration": 80,
    "start_time": "2021-11-19T10:41:50.245Z"
   },
   {
    "duration": 250,
    "start_time": "2021-11-19T10:50:39.978Z"
   },
   {
    "duration": 435,
    "start_time": "2021-11-19T10:51:05.268Z"
   },
   {
    "duration": 3,
    "start_time": "2021-11-19T10:51:57.526Z"
   },
   {
    "duration": 6,
    "start_time": "2021-11-19T10:52:53.815Z"
   },
   {
    "duration": 8,
    "start_time": "2021-11-19T10:53:33.894Z"
   },
   {
    "duration": 9,
    "start_time": "2021-11-19T10:54:01.143Z"
   },
   {
    "duration": 25,
    "start_time": "2021-11-19T10:54:06.473Z"
   },
   {
    "duration": 10,
    "start_time": "2021-11-19T11:07:33.427Z"
   },
   {
    "duration": 4,
    "start_time": "2021-11-19T11:09:51.831Z"
   },
   {
    "duration": 4,
    "start_time": "2021-11-19T11:10:00.841Z"
   },
   {
    "duration": 5,
    "start_time": "2021-11-19T11:24:05.831Z"
   },
   {
    "duration": 4,
    "start_time": "2021-11-19T11:25:11.497Z"
   },
   {
    "duration": 5,
    "start_time": "2021-11-19T11:25:16.202Z"
   },
   {
    "duration": 5,
    "start_time": "2021-11-19T11:26:11.745Z"
   },
   {
    "duration": 8,
    "start_time": "2021-11-19T11:26:15.917Z"
   },
   {
    "duration": 5,
    "start_time": "2021-11-19T11:26:31.649Z"
   },
   {
    "duration": 7,
    "start_time": "2021-11-19T11:26:57.071Z"
   },
   {
    "duration": 6,
    "start_time": "2021-11-19T11:27:47.243Z"
   },
   {
    "duration": 6,
    "start_time": "2021-11-19T11:27:51.116Z"
   },
   {
    "duration": 7,
    "start_time": "2021-11-19T11:27:55.284Z"
   },
   {
    "duration": 6,
    "start_time": "2021-11-19T11:27:58.132Z"
   },
   {
    "duration": 94,
    "start_time": "2021-11-19T12:29:42.326Z"
   },
   {
    "duration": 23,
    "start_time": "2021-11-19T12:30:30.810Z"
   },
   {
    "duration": 30,
    "start_time": "2021-11-19T12:31:30.446Z"
   },
   {
    "duration": 10,
    "start_time": "2021-11-19T12:31:47.977Z"
   },
   {
    "duration": 54,
    "start_time": "2021-11-19T12:32:09.749Z"
   },
   {
    "duration": 10,
    "start_time": "2021-11-19T12:32:11.270Z"
   },
   {
    "duration": 12,
    "start_time": "2021-11-19T12:32:13.500Z"
   },
   {
    "duration": 24,
    "start_time": "2021-11-19T12:32:14.258Z"
   },
   {
    "duration": 401,
    "start_time": "2021-11-19T12:32:15.413Z"
   },
   {
    "duration": 19,
    "start_time": "2021-11-19T12:32:16.927Z"
   },
   {
    "duration": 415,
    "start_time": "2021-11-19T12:32:17.825Z"
   },
   {
    "duration": 4,
    "start_time": "2021-11-19T12:32:19.593Z"
   },
   {
    "duration": 7,
    "start_time": "2021-11-19T12:32:20.644Z"
   },
   {
    "duration": 10,
    "start_time": "2021-11-19T12:32:25.008Z"
   },
   {
    "duration": 4,
    "start_time": "2021-11-19T12:32:25.888Z"
   },
   {
    "duration": 29,
    "start_time": "2021-11-19T12:32:28.501Z"
   },
   {
    "duration": 8,
    "start_time": "2021-11-19T12:32:48.998Z"
   },
   {
    "duration": 5,
    "start_time": "2021-11-19T12:32:54.397Z"
   },
   {
    "duration": 8,
    "start_time": "2021-11-19T12:32:55.926Z"
   },
   {
    "duration": 10,
    "start_time": "2021-11-19T12:33:01.523Z"
   },
   {
    "duration": 103,
    "start_time": "2021-11-19T12:33:22.618Z"
   },
   {
    "duration": 78,
    "start_time": "2021-11-19T12:33:40.129Z"
   },
   {
    "duration": 241,
    "start_time": "2021-11-19T12:34:17.216Z"
   },
   {
    "duration": 645,
    "start_time": "2021-11-22T09:00:15.820Z"
   },
   {
    "duration": 11,
    "start_time": "2021-11-22T09:00:18.488Z"
   },
   {
    "duration": 13,
    "start_time": "2021-11-22T09:00:27.272Z"
   },
   {
    "duration": 27,
    "start_time": "2021-11-22T09:00:29.927Z"
   },
   {
    "duration": 1071,
    "start_time": "2021-11-22T09:00:33.227Z"
   },
   {
    "duration": 24,
    "start_time": "2021-11-22T09:00:36.074Z"
   },
   {
    "duration": 5,
    "start_time": "2021-11-22T09:00:39.977Z"
   },
   {
    "duration": 8,
    "start_time": "2021-11-22T09:00:45.985Z"
   },
   {
    "duration": 12,
    "start_time": "2021-11-22T09:00:53.350Z"
   },
   {
    "duration": 5,
    "start_time": "2021-11-22T09:00:59.549Z"
   },
   {
    "duration": 415,
    "start_time": "2021-11-22T09:01:01.201Z"
   },
   {
    "duration": 12,
    "start_time": "2021-11-22T09:01:06.230Z"
   },
   {
    "duration": 23,
    "start_time": "2021-11-22T09:02:08.161Z"
   },
   {
    "duration": 6,
    "start_time": "2021-11-22T09:03:07.215Z"
   },
   {
    "duration": 10,
    "start_time": "2021-11-22T09:03:15.153Z"
   },
   {
    "duration": 7,
    "start_time": "2021-11-22T09:03:56.106Z"
   },
   {
    "duration": 10,
    "start_time": "2021-11-22T09:04:01.132Z"
   },
   {
    "duration": 13,
    "start_time": "2021-11-22T09:04:11.524Z"
   },
   {
    "duration": 9,
    "start_time": "2021-11-22T09:05:59.351Z"
   },
   {
    "duration": 8,
    "start_time": "2021-11-22T09:06:03.693Z"
   },
   {
    "duration": 10,
    "start_time": "2021-11-22T09:06:06.706Z"
   },
   {
    "duration": 5,
    "start_time": "2021-11-22T09:06:07.860Z"
   },
   {
    "duration": 9,
    "start_time": "2021-11-22T09:06:08.365Z"
   },
   {
    "duration": 15,
    "start_time": "2021-11-22T09:06:11.638Z"
   },
   {
    "duration": 81,
    "start_time": "2021-11-22T09:06:51.228Z"
   },
   {
    "duration": 86,
    "start_time": "2021-11-22T09:07:08.429Z"
   },
   {
    "duration": 8,
    "start_time": "2021-11-22T09:07:18.293Z"
   },
   {
    "duration": 15,
    "start_time": "2021-11-22T09:07:19.843Z"
   },
   {
    "duration": 62,
    "start_time": "2021-11-22T09:07:51.254Z"
   },
   {
    "duration": 11,
    "start_time": "2021-11-22T09:07:52.834Z"
   },
   {
    "duration": 19,
    "start_time": "2021-11-22T09:07:56.191Z"
   },
   {
    "duration": 29,
    "start_time": "2021-11-22T09:07:57.952Z"
   },
   {
    "duration": 498,
    "start_time": "2021-11-22T09:07:59.635Z"
   },
   {
    "duration": 22,
    "start_time": "2021-11-22T09:08:01.644Z"
   },
   {
    "duration": 483,
    "start_time": "2021-11-22T09:08:02.967Z"
   },
   {
    "duration": 6,
    "start_time": "2021-11-22T09:08:04.572Z"
   },
   {
    "duration": 8,
    "start_time": "2021-11-22T09:08:07.899Z"
   },
   {
    "duration": 10,
    "start_time": "2021-11-22T09:08:09.636Z"
   },
   {
    "duration": 6,
    "start_time": "2021-11-22T09:08:11.244Z"
   },
   {
    "duration": 8,
    "start_time": "2021-11-22T09:08:13.300Z"
   },
   {
    "duration": 6388,
    "start_time": "2021-11-22T09:12:05.917Z"
   },
   {
    "duration": 6324,
    "start_time": "2021-11-22T09:12:18.081Z"
   },
   {
    "duration": 9,
    "start_time": "2021-11-22T09:12:33.607Z"
   },
   {
    "duration": 23,
    "start_time": "2021-11-22T09:12:43.249Z"
   },
   {
    "duration": 10,
    "start_time": "2021-11-22T09:12:51.096Z"
   },
   {
    "duration": 7,
    "start_time": "2021-11-22T09:13:54.679Z"
   },
   {
    "duration": 12,
    "start_time": "2021-11-22T09:13:56.000Z"
   },
   {
    "duration": 14,
    "start_time": "2021-11-22T09:14:17.623Z"
   },
   {
    "duration": 6,
    "start_time": "2021-11-22T09:15:39.694Z"
   },
   {
    "duration": 7,
    "start_time": "2021-11-22T09:15:42.304Z"
   },
   {
    "duration": 6,
    "start_time": "2021-11-22T09:15:44.554Z"
   },
   {
    "duration": 16,
    "start_time": "2021-11-22T09:15:45.218Z"
   },
   {
    "duration": 10,
    "start_time": "2021-11-22T09:16:29.810Z"
   },
   {
    "duration": 9,
    "start_time": "2021-11-22T09:16:35.616Z"
   },
   {
    "duration": 6,
    "start_time": "2021-11-22T09:18:24.929Z"
   },
   {
    "duration": 15,
    "start_time": "2021-11-22T09:18:26.235Z"
   },
   {
    "duration": 98,
    "start_time": "2021-11-22T09:30:48.882Z"
   },
   {
    "duration": 13,
    "start_time": "2021-11-22T09:31:24.981Z"
   },
   {
    "duration": 11,
    "start_time": "2021-11-22T09:31:42.912Z"
   },
   {
    "duration": 30,
    "start_time": "2021-11-22T09:31:49.959Z"
   },
   {
    "duration": 357,
    "start_time": "2021-11-22T09:32:18.949Z"
   },
   {
    "duration": 6,
    "start_time": "2021-11-22T09:32:39.726Z"
   },
   {
    "duration": 4,
    "start_time": "2021-11-22T09:32:45.128Z"
   },
   {
    "duration": 3397,
    "start_time": "2021-11-22T09:32:52.424Z"
   },
   {
    "duration": 3339,
    "start_time": "2021-11-22T09:33:48.727Z"
   },
   {
    "duration": 61,
    "start_time": "2021-11-22T09:34:00.095Z"
   },
   {
    "duration": 11,
    "start_time": "2021-11-22T09:34:01.136Z"
   },
   {
    "duration": 13,
    "start_time": "2021-11-22T09:34:03.209Z"
   },
   {
    "duration": 20,
    "start_time": "2021-11-22T09:34:04.205Z"
   },
   {
    "duration": 476,
    "start_time": "2021-11-22T09:34:05.022Z"
   },
   {
    "duration": 22,
    "start_time": "2021-11-22T09:34:07.486Z"
   },
   {
    "duration": 454,
    "start_time": "2021-11-22T09:34:08.067Z"
   },
   {
    "duration": 5,
    "start_time": "2021-11-22T09:34:10.552Z"
   },
   {
    "duration": 8,
    "start_time": "2021-11-22T09:34:11.412Z"
   },
   {
    "duration": 10,
    "start_time": "2021-11-22T09:34:13.445Z"
   },
   {
    "duration": 6,
    "start_time": "2021-11-22T09:34:14.377Z"
   },
   {
    "duration": 242,
    "start_time": "2021-11-22T09:34:16.727Z"
   },
   {
    "duration": 9,
    "start_time": "2021-11-22T09:34:36.890Z"
   },
   {
    "duration": 61,
    "start_time": "2021-11-22T09:34:45.954Z"
   },
   {
    "duration": 12,
    "start_time": "2021-11-22T09:34:46.317Z"
   },
   {
    "duration": 14,
    "start_time": "2021-11-22T09:34:47.760Z"
   },
   {
    "duration": 23,
    "start_time": "2021-11-22T09:34:48.697Z"
   },
   {
    "duration": 434,
    "start_time": "2021-11-22T09:34:49.379Z"
   },
   {
    "duration": 22,
    "start_time": "2021-11-22T09:34:50.599Z"
   },
   {
    "duration": 472,
    "start_time": "2021-11-22T09:34:50.905Z"
   },
   {
    "duration": 5,
    "start_time": "2021-11-22T09:34:53.316Z"
   },
   {
    "duration": 8,
    "start_time": "2021-11-22T09:34:55.306Z"
   },
   {
    "duration": 10,
    "start_time": "2021-11-22T09:34:56.958Z"
   },
   {
    "duration": 5,
    "start_time": "2021-11-22T09:34:57.746Z"
   },
   {
    "duration": 11,
    "start_time": "2021-11-22T09:34:59.384Z"
   },
   {
    "duration": 4,
    "start_time": "2021-11-22T09:36:18.981Z"
   },
   {
    "duration": 12,
    "start_time": "2021-11-22T09:36:22.416Z"
   },
   {
    "duration": 16,
    "start_time": "2021-11-22T09:36:30.096Z"
   },
   {
    "duration": 9,
    "start_time": "2021-11-22T09:37:40.642Z"
   },
   {
    "duration": 14,
    "start_time": "2021-11-22T09:37:43.234Z"
   },
   {
    "duration": 16,
    "start_time": "2021-11-22T09:37:44.339Z"
   },
   {
    "duration": 11,
    "start_time": "2021-11-22T09:39:25.217Z"
   },
   {
    "duration": 263,
    "start_time": "2021-11-22T09:39:32.620Z"
   },
   {
    "duration": 8,
    "start_time": "2021-11-22T09:39:53.473Z"
   },
   {
    "duration": 15,
    "start_time": "2021-11-22T09:41:22.377Z"
   },
   {
    "duration": 85,
    "start_time": "2021-11-22T09:41:23.535Z"
   },
   {
    "duration": 83,
    "start_time": "2021-11-22T09:42:22.942Z"
   },
   {
    "duration": 76,
    "start_time": "2021-11-22T09:42:29.851Z"
   },
   {
    "duration": 89,
    "start_time": "2021-11-22T09:42:50.500Z"
   },
   {
    "duration": 13,
    "start_time": "2021-11-22T09:43:21.381Z"
   },
   {
    "duration": 13,
    "start_time": "2021-11-22T09:43:23.084Z"
   },
   {
    "duration": 14,
    "start_time": "2021-11-22T09:43:23.904Z"
   },
   {
    "duration": 4,
    "start_time": "2021-11-22T09:46:34.499Z"
   },
   {
    "duration": 254,
    "start_time": "2021-11-22T09:49:22.568Z"
   },
   {
    "duration": 15,
    "start_time": "2021-11-22T09:49:56.323Z"
   },
   {
    "duration": 588,
    "start_time": "2021-11-22T09:50:10.521Z"
   },
   {
    "duration": 3,
    "start_time": "2021-11-22T09:50:20.557Z"
   },
   {
    "duration": 5,
    "start_time": "2021-11-22T09:50:25.784Z"
   },
   {
    "duration": 5,
    "start_time": "2021-11-22T09:50:51.569Z"
   },
   {
    "duration": 8,
    "start_time": "2021-11-22T10:01:50.896Z"
   },
   {
    "duration": 13,
    "start_time": "2021-11-22T10:02:03.577Z"
   },
   {
    "duration": 59,
    "start_time": "2021-11-22T10:02:16.223Z"
   },
   {
    "duration": 56,
    "start_time": "2021-11-22T10:02:17.159Z"
   },
   {
    "duration": 57,
    "start_time": "2021-11-22T10:02:19.079Z"
   },
   {
    "duration": 51,
    "start_time": "2021-11-22T10:02:19.758Z"
   },
   {
    "duration": 59,
    "start_time": "2021-11-22T10:02:20.901Z"
   },
   {
    "duration": 65,
    "start_time": "2021-11-22T10:02:22.022Z"
   },
   {
    "duration": 14,
    "start_time": "2021-11-22T10:02:25.485Z"
   },
   {
    "duration": 13,
    "start_time": "2021-11-22T10:02:29.107Z"
   },
   {
    "duration": 26,
    "start_time": "2021-11-22T10:02:31.191Z"
   },
   {
    "duration": 560,
    "start_time": "2021-11-22T10:02:33.468Z"
   },
   {
    "duration": 23,
    "start_time": "2021-11-22T10:02:34.856Z"
   },
   {
    "duration": 519,
    "start_time": "2021-11-22T10:02:36.628Z"
   },
   {
    "duration": 6,
    "start_time": "2021-11-22T10:02:38.527Z"
   },
   {
    "duration": 7,
    "start_time": "2021-11-22T10:02:39.408Z"
   },
   {
    "duration": 332,
    "start_time": "2021-11-22T10:02:41.139Z"
   },
   {
    "duration": 61,
    "start_time": "2021-11-22T10:02:50.035Z"
   },
   {
    "duration": 12,
    "start_time": "2021-11-22T10:02:52.618Z"
   },
   {
    "duration": 12,
    "start_time": "2021-11-22T10:02:56.449Z"
   },
   {
    "duration": 21,
    "start_time": "2021-11-22T10:02:58.226Z"
   },
   {
    "duration": 464,
    "start_time": "2021-11-22T10:02:59.738Z"
   },
   {
    "duration": 23,
    "start_time": "2021-11-22T10:03:01.751Z"
   },
   {
    "duration": 472,
    "start_time": "2021-11-22T10:03:02.950Z"
   },
   {
    "duration": 5,
    "start_time": "2021-11-22T10:03:04.990Z"
   },
   {
    "duration": 9,
    "start_time": "2021-11-22T10:03:06.812Z"
   },
   {
    "duration": 245,
    "start_time": "2021-11-22T10:03:09.517Z"
   },
   {
    "duration": 9,
    "start_time": "2021-11-22T10:04:11.796Z"
   },
   {
    "duration": 252,
    "start_time": "2021-11-22T10:04:14.047Z"
   },
   {
    "duration": 63,
    "start_time": "2021-11-22T10:04:17.399Z"
   },
   {
    "duration": 12,
    "start_time": "2021-11-22T10:04:18.249Z"
   },
   {
    "duration": 13,
    "start_time": "2021-11-22T10:04:19.079Z"
   },
   {
    "duration": 19,
    "start_time": "2021-11-22T10:04:19.579Z"
   },
   {
    "duration": 449,
    "start_time": "2021-11-22T10:04:20.177Z"
   },
   {
    "duration": 23,
    "start_time": "2021-11-22T10:04:21.403Z"
   },
   {
    "duration": 515,
    "start_time": "2021-11-22T10:04:22.612Z"
   },
   {
    "duration": 6,
    "start_time": "2021-11-22T10:04:24.345Z"
   },
   {
    "duration": 11,
    "start_time": "2021-11-22T10:04:26.072Z"
   },
   {
    "duration": 11,
    "start_time": "2021-11-22T10:04:27.873Z"
   },
   {
    "duration": 257,
    "start_time": "2021-11-22T10:04:31.864Z"
   },
   {
    "duration": 11,
    "start_time": "2021-11-22T10:05:00.895Z"
   },
   {
    "duration": 5,
    "start_time": "2021-11-22T10:05:01.934Z"
   },
   {
    "duration": 8,
    "start_time": "2021-11-22T10:05:03.627Z"
   },
   {
    "duration": 11,
    "start_time": "2021-11-22T10:05:06.755Z"
   },
   {
    "duration": 10,
    "start_time": "2021-11-22T10:06:28.846Z"
   },
   {
    "duration": 22,
    "start_time": "2021-11-22T10:07:38.487Z"
   },
   {
    "duration": 12,
    "start_time": "2021-11-22T10:07:39.917Z"
   },
   {
    "duration": 100,
    "start_time": "2021-11-22T10:07:47.835Z"
   },
   {
    "duration": 11,
    "start_time": "2021-11-22T10:07:49.013Z"
   },
   {
    "duration": 13,
    "start_time": "2021-11-22T10:07:52.278Z"
   },
   {
    "duration": 20,
    "start_time": "2021-11-22T10:07:54.002Z"
   },
   {
    "duration": 493,
    "start_time": "2021-11-22T10:07:55.238Z"
   },
   {
    "duration": 21,
    "start_time": "2021-11-22T10:07:59.005Z"
   },
   {
    "duration": 507,
    "start_time": "2021-11-22T10:08:00.624Z"
   },
   {
    "duration": 5,
    "start_time": "2021-11-22T10:08:03.125Z"
   },
   {
    "duration": 8,
    "start_time": "2021-11-22T10:08:04.174Z"
   },
   {
    "duration": 10,
    "start_time": "2021-11-22T10:08:06.022Z"
   },
   {
    "duration": 5,
    "start_time": "2021-11-22T10:08:07.622Z"
   },
   {
    "duration": 20,
    "start_time": "2021-11-22T10:08:08.931Z"
   },
   {
    "duration": 13,
    "start_time": "2021-11-22T10:08:10.126Z"
   },
   {
    "duration": 16,
    "start_time": "2021-11-22T10:08:23.326Z"
   },
   {
    "duration": 40,
    "start_time": "2021-11-22T10:22:36.846Z"
   },
   {
    "duration": 63,
    "start_time": "2021-11-22T10:23:02.130Z"
   },
   {
    "duration": 87,
    "start_time": "2021-11-22T10:24:20.054Z"
   },
   {
    "duration": 143,
    "start_time": "2021-11-22T10:24:31.987Z"
   },
   {
    "duration": 16,
    "start_time": "2021-11-22T10:24:38.641Z"
   },
   {
    "duration": 143,
    "start_time": "2021-11-22T10:25:24.429Z"
   },
   {
    "duration": 74,
    "start_time": "2021-11-22T10:25:37.165Z"
   },
   {
    "duration": 12,
    "start_time": "2021-11-22T10:25:38.072Z"
   },
   {
    "duration": 14,
    "start_time": "2021-11-22T10:25:39.734Z"
   },
   {
    "duration": 21,
    "start_time": "2021-11-22T10:25:40.325Z"
   },
   {
    "duration": 450,
    "start_time": "2021-11-22T10:25:40.702Z"
   },
   {
    "duration": 28,
    "start_time": "2021-11-22T10:25:41.154Z"
   },
   {
    "duration": 475,
    "start_time": "2021-11-22T10:25:42.221Z"
   },
   {
    "duration": 5,
    "start_time": "2021-11-22T10:25:43.730Z"
   },
   {
    "duration": 8,
    "start_time": "2021-11-22T10:25:44.184Z"
   },
   {
    "duration": 143,
    "start_time": "2021-11-22T10:25:47.321Z"
   },
   {
    "duration": 140,
    "start_time": "2021-11-22T10:27:57.517Z"
   },
   {
    "duration": 25,
    "start_time": "2021-11-22T10:35:47.774Z"
   },
   {
    "duration": 26,
    "start_time": "2021-11-22T10:35:59.240Z"
   },
   {
    "duration": 147,
    "start_time": "2021-11-22T10:37:24.574Z"
   },
   {
    "duration": 12,
    "start_time": "2021-11-22T10:38:48.793Z"
   },
   {
    "duration": 61,
    "start_time": "2021-11-22T10:39:03.784Z"
   },
   {
    "duration": 11,
    "start_time": "2021-11-22T10:39:16.662Z"
   },
   {
    "duration": 12,
    "start_time": "2021-11-22T10:39:21.731Z"
   },
   {
    "duration": 13,
    "start_time": "2021-11-22T10:39:34.915Z"
   },
   {
    "duration": 22,
    "start_time": "2021-11-22T10:39:38.830Z"
   },
   {
    "duration": -12,
    "start_time": "2021-11-22T10:39:49.491Z"
   },
   {
    "duration": -24,
    "start_time": "2021-11-22T10:39:49.504Z"
   },
   {
    "duration": 57,
    "start_time": "2021-11-22T10:39:50.435Z"
   },
   {
    "duration": 11,
    "start_time": "2021-11-22T10:39:51.967Z"
   },
   {
    "duration": 14,
    "start_time": "2021-11-22T10:39:55.219Z"
   },
   {
    "duration": 19,
    "start_time": "2021-11-22T10:39:59.651Z"
   },
   {
    "duration": 454,
    "start_time": "2021-11-22T10:40:10.530Z"
   },
   {
    "duration": 23,
    "start_time": "2021-11-22T10:40:14.140Z"
   },
   {
    "duration": 460,
    "start_time": "2021-11-22T10:40:15.264Z"
   },
   {
    "duration": 5,
    "start_time": "2021-11-22T10:40:22.135Z"
   },
   {
    "duration": 8,
    "start_time": "2021-11-22T10:40:23.903Z"
   },
   {
    "duration": 136,
    "start_time": "2021-11-22T10:40:26.560Z"
   },
   {
    "duration": 141,
    "start_time": "2021-11-22T10:40:29.798Z"
   },
   {
    "duration": 137,
    "start_time": "2021-11-22T10:41:02.151Z"
   },
   {
    "duration": 150,
    "start_time": "2021-11-22T10:41:21.699Z"
   },
   {
    "duration": 61,
    "start_time": "2021-11-22T10:41:27.741Z"
   },
   {
    "duration": 11,
    "start_time": "2021-11-22T10:41:28.150Z"
   },
   {
    "duration": 12,
    "start_time": "2021-11-22T10:41:29.030Z"
   },
   {
    "duration": 19,
    "start_time": "2021-11-22T10:41:29.392Z"
   },
   {
    "duration": 438,
    "start_time": "2021-11-22T10:41:29.760Z"
   },
   {
    "duration": 23,
    "start_time": "2021-11-22T10:41:30.200Z"
   },
   {
    "duration": 530,
    "start_time": "2021-11-22T10:41:30.272Z"
   },
   {
    "duration": 5,
    "start_time": "2021-11-22T10:41:30.865Z"
   },
   {
    "duration": 8,
    "start_time": "2021-11-22T10:41:31.511Z"
   },
   {
    "duration": 137,
    "start_time": "2021-11-22T10:41:32.311Z"
   },
   {
    "duration": 141,
    "start_time": "2021-11-22T10:41:32.828Z"
   },
   {
    "duration": 13,
    "start_time": "2021-11-22T10:41:34.982Z"
   },
   {
    "duration": 11,
    "start_time": "2021-11-22T10:41:45.765Z"
   },
   {
    "duration": 6956,
    "start_time": "2021-11-22T10:45:58.657Z"
   },
   {
    "duration": -110,
    "start_time": "2021-11-22T10:46:05.727Z"
   },
   {
    "duration": 60,
    "start_time": "2021-11-22T10:46:28.938Z"
   },
   {
    "duration": 10,
    "start_time": "2021-11-22T10:46:31.226Z"
   },
   {
    "duration": 14,
    "start_time": "2021-11-22T10:46:34.740Z"
   },
   {
    "duration": 59,
    "start_time": "2021-11-22T10:48:06.648Z"
   },
   {
    "duration": 11,
    "start_time": "2021-11-22T10:48:07.688Z"
   },
   {
    "duration": 14,
    "start_time": "2021-11-22T10:48:09.702Z"
   },
   {
    "duration": 22,
    "start_time": "2021-11-22T10:48:10.373Z"
   },
   {
    "duration": 486,
    "start_time": "2021-11-22T10:48:11.026Z"
   },
   {
    "duration": 22,
    "start_time": "2021-11-22T10:48:11.732Z"
   },
   {
    "duration": 462,
    "start_time": "2021-11-22T10:48:12.190Z"
   },
   {
    "duration": 5,
    "start_time": "2021-11-22T10:48:13.039Z"
   },
   {
    "duration": 7,
    "start_time": "2021-11-22T10:48:13.895Z"
   },
   {
    "duration": 140,
    "start_time": "2021-11-22T10:48:14.890Z"
   },
   {
    "duration": 144,
    "start_time": "2021-11-22T10:48:15.682Z"
   },
   {
    "duration": 11,
    "start_time": "2021-11-22T10:48:16.970Z"
   },
   {
    "duration": 10,
    "start_time": "2021-11-22T10:48:17.027Z"
   },
   {
    "duration": 5,
    "start_time": "2021-11-22T10:50:05.205Z"
   },
   {
    "duration": 5,
    "start_time": "2021-11-22T10:50:07.715Z"
   },
   {
    "duration": 6,
    "start_time": "2021-11-22T10:51:00.924Z"
   },
   {
    "duration": 5,
    "start_time": "2021-11-22T10:55:33.188Z"
   },
   {
    "duration": 6,
    "start_time": "2021-11-22T10:55:44.226Z"
   },
   {
    "duration": 5,
    "start_time": "2021-11-22T10:55:46.575Z"
   },
   {
    "duration": 8,
    "start_time": "2021-11-22T10:56:04.049Z"
   },
   {
    "duration": 5,
    "start_time": "2021-11-22T10:59:10.303Z"
   },
   {
    "duration": 6,
    "start_time": "2021-11-22T10:59:30.288Z"
   },
   {
    "duration": 14,
    "start_time": "2021-11-22T10:59:36.548Z"
   },
   {
    "duration": 14,
    "start_time": "2021-11-22T10:59:46.048Z"
   },
   {
    "duration": 12,
    "start_time": "2021-11-22T11:00:11.965Z"
   },
   {
    "duration": 18,
    "start_time": "2021-11-22T11:03:55.087Z"
   },
   {
    "duration": 16,
    "start_time": "2021-11-22T11:04:48.192Z"
   },
   {
    "duration": 16,
    "start_time": "2021-11-22T11:07:25.793Z"
   },
   {
    "duration": 21,
    "start_time": "2021-11-22T11:08:01.360Z"
   },
   {
    "duration": 25,
    "start_time": "2021-11-22T11:08:11.695Z"
   },
   {
    "duration": 18,
    "start_time": "2021-11-22T11:08:23.299Z"
   },
   {
    "duration": 2538,
    "start_time": "2021-11-22T11:18:08.043Z"
   },
   {
    "duration": 61,
    "start_time": "2021-11-22T11:19:31.435Z"
   },
   {
    "duration": 12,
    "start_time": "2021-11-22T11:19:32.329Z"
   },
   {
    "duration": 16,
    "start_time": "2021-11-22T11:19:33.100Z"
   },
   {
    "duration": 20,
    "start_time": "2021-11-22T11:19:33.458Z"
   },
   {
    "duration": 531,
    "start_time": "2021-11-22T11:19:33.701Z"
   },
   {
    "duration": 29,
    "start_time": "2021-11-22T11:19:34.235Z"
   },
   {
    "duration": 461,
    "start_time": "2021-11-22T11:19:34.266Z"
   },
   {
    "duration": 5,
    "start_time": "2021-11-22T11:19:34.730Z"
   },
   {
    "duration": 20,
    "start_time": "2021-11-22T11:19:34.737Z"
   },
   {
    "duration": 139,
    "start_time": "2021-11-22T11:19:34.897Z"
   },
   {
    "duration": 144,
    "start_time": "2021-11-22T11:19:35.321Z"
   },
   {
    "duration": 13,
    "start_time": "2021-11-22T11:19:35.605Z"
   },
   {
    "duration": 13,
    "start_time": "2021-11-22T11:19:36.066Z"
   },
   {
    "duration": 4,
    "start_time": "2021-11-22T11:19:36.367Z"
   },
   {
    "duration": 8,
    "start_time": "2021-11-22T11:19:36.752Z"
   },
   {
    "duration": 13,
    "start_time": "2021-11-22T11:19:39.313Z"
   },
   {
    "duration": 18,
    "start_time": "2021-11-22T11:19:41.514Z"
   },
   {
    "duration": 21,
    "start_time": "2021-11-22T11:19:42.435Z"
   },
   {
    "duration": 3,
    "start_time": "2021-11-22T11:19:47.032Z"
   },
   {
    "duration": 2523,
    "start_time": "2021-11-22T11:20:49.374Z"
   },
   {
    "duration": 2124,
    "start_time": "2021-11-22T11:21:03.662Z"
   },
   {
    "duration": 1733,
    "start_time": "2021-11-22T11:21:25.022Z"
   },
   {
    "duration": 9430,
    "start_time": "2021-11-22T11:48:16.551Z"
   },
   {
    "duration": -61,
    "start_time": "2021-11-22T11:48:26.045Z"
   },
   {
    "duration": -67,
    "start_time": "2021-11-22T11:48:26.051Z"
   },
   {
    "duration": 64,
    "start_time": "2021-11-22T11:48:31.391Z"
   },
   {
    "duration": 14,
    "start_time": "2021-11-22T11:48:32.678Z"
   },
   {
    "duration": 17,
    "start_time": "2021-11-22T11:48:33.552Z"
   },
   {
    "duration": 19,
    "start_time": "2021-11-22T11:48:33.781Z"
   },
   {
    "duration": 569,
    "start_time": "2021-11-22T11:48:34.035Z"
   },
   {
    "duration": 24,
    "start_time": "2021-11-22T11:48:34.606Z"
   },
   {
    "duration": 499,
    "start_time": "2021-11-22T11:48:34.632Z"
   },
   {
    "duration": 4,
    "start_time": "2021-11-22T11:48:35.133Z"
   },
   {
    "duration": 44,
    "start_time": "2021-11-22T11:48:35.140Z"
   },
   {
    "duration": 157,
    "start_time": "2021-11-22T11:48:35.316Z"
   },
   {
    "duration": 163,
    "start_time": "2021-11-22T11:48:35.563Z"
   },
   {
    "duration": 14,
    "start_time": "2021-11-22T11:48:35.819Z"
   },
   {
    "duration": 13,
    "start_time": "2021-11-22T11:48:35.957Z"
   },
   {
    "duration": 5,
    "start_time": "2021-11-22T11:48:36.091Z"
   },
   {
    "duration": 7,
    "start_time": "2021-11-22T11:48:37.487Z"
   },
   {
    "duration": 13,
    "start_time": "2021-11-22T11:48:37.978Z"
   },
   {
    "duration": 22,
    "start_time": "2021-11-22T11:48:39.719Z"
   },
   {
    "duration": 22,
    "start_time": "2021-11-22T11:48:40.371Z"
   },
   {
    "duration": 44,
    "start_time": "2021-11-22T11:48:41.439Z"
   },
   {
    "duration": 2821,
    "start_time": "2021-11-22T11:48:41.876Z"
   },
   {
    "duration": 3016,
    "start_time": "2021-11-22T11:48:52.086Z"
   },
   {
    "duration": 3176,
    "start_time": "2021-11-22T11:49:17.848Z"
   },
   {
    "duration": 3365,
    "start_time": "2021-11-22T11:49:45.503Z"
   },
   {
    "duration": 50,
    "start_time": "2021-11-22T11:50:44.243Z"
   },
   {
    "duration": 3014,
    "start_time": "2021-11-22T11:50:44.900Z"
   },
   {
    "duration": 3455,
    "start_time": "2021-11-22T11:50:47.917Z"
   },
   {
    "duration": 3181,
    "start_time": "2021-11-22T11:51:33.887Z"
   },
   {
    "duration": 3201,
    "start_time": "2021-11-22T11:51:41.198Z"
   },
   {
    "duration": 17,
    "start_time": "2021-11-22T12:00:04.969Z"
   },
   {
    "duration": 4,
    "start_time": "2021-11-22T12:03:56.336Z"
   },
   {
    "duration": 10,
    "start_time": "2021-11-22T12:04:01.395Z"
   },
   {
    "duration": 8,
    "start_time": "2021-11-22T12:04:33.791Z"
   },
   {
    "duration": 12,
    "start_time": "2021-11-22T12:04:38.848Z"
   },
   {
    "duration": 9,
    "start_time": "2021-11-22T12:05:46.045Z"
   },
   {
    "duration": 14,
    "start_time": "2021-11-22T12:05:50.754Z"
   },
   {
    "duration": 62,
    "start_time": "2021-11-22T12:06:32.012Z"
   },
   {
    "duration": 10,
    "start_time": "2021-11-22T12:06:32.338Z"
   },
   {
    "duration": 17,
    "start_time": "2021-11-22T12:06:33.452Z"
   },
   {
    "duration": 19,
    "start_time": "2021-11-22T12:06:33.743Z"
   },
   {
    "duration": 501,
    "start_time": "2021-11-22T12:06:34.074Z"
   },
   {
    "duration": 23,
    "start_time": "2021-11-22T12:06:34.577Z"
   },
   {
    "duration": 483,
    "start_time": "2021-11-22T12:06:34.632Z"
   },
   {
    "duration": 5,
    "start_time": "2021-11-22T12:06:35.117Z"
   },
   {
    "duration": 9,
    "start_time": "2021-11-22T12:06:35.365Z"
   },
   {
    "duration": 150,
    "start_time": "2021-11-22T12:06:35.903Z"
   },
   {
    "duration": 153,
    "start_time": "2021-11-22T12:06:36.286Z"
   },
   {
    "duration": 17,
    "start_time": "2021-11-22T12:06:36.626Z"
   },
   {
    "duration": 15,
    "start_time": "2021-11-22T12:06:36.797Z"
   },
   {
    "duration": 15,
    "start_time": "2021-11-22T12:06:37.461Z"
   },
   {
    "duration": 22,
    "start_time": "2021-11-22T12:06:38.665Z"
   },
   {
    "duration": 24,
    "start_time": "2021-11-22T12:06:39.173Z"
   },
   {
    "duration": 40,
    "start_time": "2021-11-22T12:06:41.325Z"
   },
   {
    "duration": 2817,
    "start_time": "2021-11-22T12:06:41.714Z"
   },
   {
    "duration": 3352,
    "start_time": "2021-11-22T12:06:44.534Z"
   },
   {
    "duration": 15,
    "start_time": "2021-11-22T12:06:47.889Z"
   },
   {
    "duration": 12,
    "start_time": "2021-11-22T12:06:47.906Z"
   },
   {
    "duration": 49,
    "start_time": "2021-11-22T12:06:47.920Z"
   },
   {
    "duration": 235,
    "start_time": "2021-11-22T12:14:44.013Z"
   },
   {
    "duration": 9,
    "start_time": "2021-11-22T12:14:52.053Z"
   },
   {
    "duration": 19,
    "start_time": "2021-11-22T12:15:12.580Z"
   },
   {
    "duration": 18,
    "start_time": "2021-11-22T12:16:21.450Z"
   },
   {
    "duration": 14,
    "start_time": "2021-11-22T12:17:01.721Z"
   },
   {
    "duration": 18,
    "start_time": "2021-11-22T12:17:08.727Z"
   },
   {
    "duration": 7,
    "start_time": "2021-11-22T12:19:21.050Z"
   },
   {
    "duration": 7,
    "start_time": "2021-11-22T12:19:32.175Z"
   },
   {
    "duration": 16,
    "start_time": "2021-11-22T12:19:50.836Z"
   },
   {
    "duration": 61,
    "start_time": "2021-11-22T12:19:57.336Z"
   },
   {
    "duration": 11,
    "start_time": "2021-11-22T12:19:59.136Z"
   },
   {
    "duration": 15,
    "start_time": "2021-11-22T12:19:59.909Z"
   },
   {
    "duration": 18,
    "start_time": "2021-11-22T12:20:00.157Z"
   },
   {
    "duration": 534,
    "start_time": "2021-11-22T12:20:00.936Z"
   },
   {
    "duration": 22,
    "start_time": "2021-11-22T12:20:01.472Z"
   },
   {
    "duration": 489,
    "start_time": "2021-11-22T12:20:01.611Z"
   },
   {
    "duration": 5,
    "start_time": "2021-11-22T12:20:02.316Z"
   },
   {
    "duration": 8,
    "start_time": "2021-11-22T12:20:02.611Z"
   },
   {
    "duration": 146,
    "start_time": "2021-11-22T12:20:02.992Z"
   },
   {
    "duration": 273,
    "start_time": "2021-11-22T12:20:04.360Z"
   },
   {
    "duration": 13,
    "start_time": "2021-11-22T12:20:04.675Z"
   },
   {
    "duration": 14,
    "start_time": "2021-11-22T12:20:04.828Z"
   },
   {
    "duration": 13,
    "start_time": "2021-11-22T12:20:06.733Z"
   },
   {
    "duration": 19,
    "start_time": "2021-11-22T12:20:07.094Z"
   },
   {
    "duration": 20,
    "start_time": "2021-11-22T12:20:07.325Z"
   },
   {
    "duration": 38,
    "start_time": "2021-11-22T12:20:08.843Z"
   },
   {
    "duration": 2523,
    "start_time": "2021-11-22T12:20:08.972Z"
   },
   {
    "duration": 3287,
    "start_time": "2021-11-22T12:20:11.498Z"
   },
   {
    "duration": 14,
    "start_time": "2021-11-22T12:20:14.787Z"
   },
   {
    "duration": 12,
    "start_time": "2021-11-22T12:20:14.804Z"
   },
   {
    "duration": 12,
    "start_time": "2021-11-22T12:20:14.817Z"
   },
   {
    "duration": 20,
    "start_time": "2021-11-22T12:20:18.823Z"
   },
   {
    "duration": 7,
    "start_time": "2021-11-22T12:20:22.084Z"
   },
   {
    "duration": 16,
    "start_time": "2021-11-22T12:20:44.861Z"
   },
   {
    "duration": 8,
    "start_time": "2021-11-22T12:20:58.803Z"
   },
   {
    "duration": 16,
    "start_time": "2021-11-22T12:21:12.761Z"
   },
   {
    "duration": 7,
    "start_time": "2021-11-22T12:23:49.054Z"
   },
   {
    "duration": 5,
    "start_time": "2021-11-22T12:24:00.250Z"
   },
   {
    "duration": 7,
    "start_time": "2021-11-22T12:24:02.939Z"
   },
   {
    "duration": 5,
    "start_time": "2021-11-22T12:24:03.819Z"
   },
   {
    "duration": 7,
    "start_time": "2021-11-22T12:24:21.284Z"
   },
   {
    "duration": 4,
    "start_time": "2021-11-22T12:24:22.220Z"
   },
   {
    "duration": 5,
    "start_time": "2021-11-22T12:25:05.023Z"
   },
   {
    "duration": 7,
    "start_time": "2021-11-22T12:25:22.002Z"
   },
   {
    "duration": 4,
    "start_time": "2021-11-22T12:26:53.358Z"
   },
   {
    "duration": 7,
    "start_time": "2021-11-22T12:27:00.524Z"
   },
   {
    "duration": 5,
    "start_time": "2021-11-22T12:27:04.251Z"
   },
   {
    "duration": 8,
    "start_time": "2021-11-22T12:27:05.075Z"
   },
   {
    "duration": 5,
    "start_time": "2021-11-22T12:27:15.429Z"
   },
   {
    "duration": 16,
    "start_time": "2021-11-22T12:27:16.268Z"
   },
   {
    "duration": 14,
    "start_time": "2021-11-22T12:27:29.563Z"
   },
   {
    "duration": 13,
    "start_time": "2021-11-22T12:27:30.955Z"
   },
   {
    "duration": 14,
    "start_time": "2021-11-22T12:27:31.634Z"
   },
   {
    "duration": 17,
    "start_time": "2021-11-22T12:27:33.275Z"
   },
   {
    "duration": 17,
    "start_time": "2021-11-22T12:27:37.380Z"
   },
   {
    "duration": 5,
    "start_time": "2021-11-22T12:27:39.119Z"
   },
   {
    "duration": 16,
    "start_time": "2021-11-22T12:27:39.831Z"
   },
   {
    "duration": 243,
    "start_time": "2021-11-22T12:29:29.021Z"
   },
   {
    "duration": 25,
    "start_time": "2021-11-22T12:30:12.744Z"
   },
   {
    "duration": 4,
    "start_time": "2021-11-22T12:33:40.565Z"
   },
   {
    "duration": 25,
    "start_time": "2021-11-22T12:34:52.368Z"
   },
   {
    "duration": 23,
    "start_time": "2021-11-22T12:35:27.761Z"
   },
   {
    "duration": 22,
    "start_time": "2021-11-22T12:35:45.777Z"
   },
   {
    "duration": 15,
    "start_time": "2021-11-22T12:36:07.666Z"
   },
   {
    "duration": 14,
    "start_time": "2021-11-22T12:37:25.499Z"
   },
   {
    "duration": 14,
    "start_time": "2021-11-22T12:37:40.143Z"
   },
   {
    "duration": 16,
    "start_time": "2021-11-22T12:38:28.761Z"
   },
   {
    "duration": 61,
    "start_time": "2021-11-22T12:38:32.934Z"
   },
   {
    "duration": 11,
    "start_time": "2021-11-22T12:38:34.300Z"
   },
   {
    "duration": 15,
    "start_time": "2021-11-22T12:38:34.997Z"
   },
   {
    "duration": 19,
    "start_time": "2021-11-22T12:38:35.244Z"
   },
   {
    "duration": 489,
    "start_time": "2021-11-22T12:38:35.655Z"
   },
   {
    "duration": 29,
    "start_time": "2021-11-22T12:38:36.146Z"
   },
   {
    "duration": 445,
    "start_time": "2021-11-22T12:38:36.177Z"
   },
   {
    "duration": 6,
    "start_time": "2021-11-22T12:38:36.624Z"
   },
   {
    "duration": 8,
    "start_time": "2021-11-22T12:38:37.690Z"
   },
   {
    "duration": 142,
    "start_time": "2021-11-22T12:38:38.149Z"
   },
   {
    "duration": 140,
    "start_time": "2021-11-22T12:38:39.550Z"
   },
   {
    "duration": 14,
    "start_time": "2021-11-22T12:38:40.970Z"
   },
   {
    "duration": 13,
    "start_time": "2021-11-22T12:38:42.113Z"
   },
   {
    "duration": 17,
    "start_time": "2021-11-22T12:38:43.151Z"
   },
   {
    "duration": 21,
    "start_time": "2021-11-22T12:38:43.508Z"
   },
   {
    "duration": 22,
    "start_time": "2021-11-22T12:38:45.173Z"
   },
   {
    "duration": 39,
    "start_time": "2021-11-22T12:38:45.574Z"
   },
   {
    "duration": 2463,
    "start_time": "2021-11-22T12:38:45.995Z"
   },
   {
    "duration": 3166,
    "start_time": "2021-11-22T12:38:48.463Z"
   },
   {
    "duration": 14,
    "start_time": "2021-11-22T12:38:51.631Z"
   },
   {
    "duration": 25,
    "start_time": "2021-11-22T12:38:51.646Z"
   },
   {
    "duration": 15,
    "start_time": "2021-11-22T12:38:54.988Z"
   },
   {
    "duration": 21,
    "start_time": "2021-11-22T12:39:02.973Z"
   },
   {
    "duration": 6,
    "start_time": "2021-11-22T12:39:06.490Z"
   },
   {
    "duration": 15,
    "start_time": "2021-11-22T12:39:07.947Z"
   },
   {
    "duration": 19,
    "start_time": "2021-11-22T12:39:33.748Z"
   },
   {
    "duration": 19,
    "start_time": "2021-11-22T12:39:45.648Z"
   },
   {
    "duration": 19,
    "start_time": "2021-11-22T12:39:50.820Z"
   },
   {
    "duration": 23,
    "start_time": "2021-11-22T12:40:03.469Z"
   },
   {
    "duration": 20,
    "start_time": "2021-11-22T12:40:09.730Z"
   },
   {
    "duration": 266,
    "start_time": "2021-11-22T12:40:20.498Z"
   },
   {
    "duration": 22,
    "start_time": "2021-11-22T12:40:25.803Z"
   },
   {
    "duration": 7491,
    "start_time": "2021-11-22T12:43:59.582Z"
   },
   {
    "duration": 21,
    "start_time": "2021-11-22T12:45:22.308Z"
   },
   {
    "duration": 627,
    "start_time": "2021-11-22T15:13:57.117Z"
   },
   {
    "duration": 11,
    "start_time": "2021-11-22T15:13:59.269Z"
   },
   {
    "duration": 55,
    "start_time": "2021-11-22T15:14:03.357Z"
   },
   {
    "duration": 10,
    "start_time": "2021-11-22T15:14:04.518Z"
   },
   {
    "duration": 13,
    "start_time": "2021-11-22T15:14:06.406Z"
   },
   {
    "duration": 21,
    "start_time": "2021-11-22T15:14:07.851Z"
   },
   {
    "duration": 1010,
    "start_time": "2021-11-22T15:14:09.331Z"
   },
   {
    "duration": 21,
    "start_time": "2021-11-22T15:14:10.343Z"
   },
   {
    "duration": 484,
    "start_time": "2021-11-22T15:14:11.053Z"
   },
   {
    "duration": 5,
    "start_time": "2021-11-22T15:14:12.014Z"
   },
   {
    "duration": 8,
    "start_time": "2021-11-22T15:14:13.082Z"
   },
   {
    "duration": 143,
    "start_time": "2021-11-22T15:14:14.626Z"
   },
   {
    "duration": 151,
    "start_time": "2021-11-22T15:14:15.630Z"
   },
   {
    "duration": 12,
    "start_time": "2021-11-22T15:14:16.593Z"
   },
   {
    "duration": 11,
    "start_time": "2021-11-22T15:14:17.070Z"
   },
   {
    "duration": 14,
    "start_time": "2021-11-22T15:14:19.518Z"
   },
   {
    "duration": 18,
    "start_time": "2021-11-22T15:14:21.367Z"
   },
   {
    "duration": 23,
    "start_time": "2021-11-22T15:14:22.234Z"
   },
   {
    "duration": 31,
    "start_time": "2021-11-22T15:14:36.144Z"
   },
   {
    "duration": 5,
    "start_time": "2021-11-22T15:14:37.786Z"
   },
   {
    "duration": 2459,
    "start_time": "2021-11-22T15:14:38.182Z"
   },
   {
    "duration": 2764,
    "start_time": "2021-11-22T15:14:42.041Z"
   },
   {
    "duration": 15,
    "start_time": "2021-11-22T15:14:46.264Z"
   },
   {
    "duration": 12,
    "start_time": "2021-11-22T15:14:48.372Z"
   },
   {
    "duration": 11,
    "start_time": "2021-11-22T15:14:49.781Z"
   },
   {
    "duration": 20,
    "start_time": "2021-11-22T15:14:50.695Z"
   },
   {
    "duration": 5,
    "start_time": "2021-11-22T15:14:52.787Z"
   },
   {
    "duration": 15,
    "start_time": "2021-11-22T15:14:53.387Z"
   },
   {
    "duration": 22,
    "start_time": "2021-11-22T15:14:57.606Z"
   },
   {
    "duration": 13,
    "start_time": "2021-11-22T15:15:14.429Z"
   },
   {
    "duration": 5,
    "start_time": "2021-11-22T15:16:45.272Z"
   },
   {
    "duration": 9,
    "start_time": "2021-11-22T15:16:58.455Z"
   },
   {
    "duration": 13,
    "start_time": "2021-11-22T15:18:34.970Z"
   },
   {
    "duration": 1328,
    "start_time": "2021-11-22T15:18:47.797Z"
   },
   {
    "duration": 4735,
    "start_time": "2021-11-22T15:18:53.134Z"
   },
   {
    "duration": 8,
    "start_time": "2021-11-22T15:19:15.905Z"
   },
   {
    "duration": 6,
    "start_time": "2021-11-22T15:19:29.457Z"
   },
   {
    "duration": 7,
    "start_time": "2021-11-22T15:20:52.451Z"
   },
   {
    "duration": 11,
    "start_time": "2021-11-22T15:21:30.112Z"
   },
   {
    "duration": 61,
    "start_time": "2021-11-22T15:22:15.368Z"
   },
   {
    "duration": 8,
    "start_time": "2021-11-22T15:22:37.767Z"
   },
   {
    "duration": 16,
    "start_time": "2021-11-22T15:22:47.911Z"
   },
   {
    "duration": 9,
    "start_time": "2021-11-22T15:22:58.925Z"
   },
   {
    "duration": 55,
    "start_time": "2021-11-22T15:24:40.086Z"
   },
   {
    "duration": 64,
    "start_time": "2021-11-22T15:24:50.559Z"
   },
   {
    "duration": 10,
    "start_time": "2021-11-22T15:24:58.726Z"
   },
   {
    "duration": 5,
    "start_time": "2021-11-22T15:25:20.480Z"
   },
   {
    "duration": 11,
    "start_time": "2021-11-22T15:25:39.439Z"
   },
   {
    "duration": 12,
    "start_time": "2021-11-22T15:25:48.990Z"
   },
   {
    "duration": 7,
    "start_time": "2021-11-22T15:42:36.180Z"
   },
   {
    "duration": 9,
    "start_time": "2021-11-22T15:42:40.434Z"
   },
   {
    "duration": 920,
    "start_time": "2021-11-23T08:40:28.231Z"
   },
   {
    "duration": 18,
    "start_time": "2021-11-23T08:40:30.638Z"
   },
   {
    "duration": 19,
    "start_time": "2021-11-23T08:40:33.816Z"
   },
   {
    "duration": 38,
    "start_time": "2021-11-23T08:40:35.602Z"
   },
   {
    "duration": 1512,
    "start_time": "2021-11-23T08:40:37.818Z"
   },
   {
    "duration": 36,
    "start_time": "2021-11-23T08:40:40.918Z"
   },
   {
    "duration": 681,
    "start_time": "2021-11-23T08:40:43.519Z"
   },
   {
    "duration": 8,
    "start_time": "2021-11-23T08:40:45.836Z"
   },
   {
    "duration": 11,
    "start_time": "2021-11-23T08:40:46.826Z"
   },
   {
    "duration": 353,
    "start_time": "2021-11-23T08:40:48.994Z"
   },
   {
    "duration": 247,
    "start_time": "2021-11-23T08:40:50.895Z"
   },
   {
    "duration": 16,
    "start_time": "2021-11-23T08:40:53.330Z"
   },
   {
    "duration": 16,
    "start_time": "2021-11-23T08:40:53.904Z"
   },
   {
    "duration": 20,
    "start_time": "2021-11-23T08:40:56.297Z"
   },
   {
    "duration": 36,
    "start_time": "2021-11-23T08:40:58.938Z"
   },
   {
    "duration": 67,
    "start_time": "2021-11-23T08:41:02.488Z"
   },
   {
    "duration": 10,
    "start_time": "2021-11-23T08:41:05.487Z"
   },
   {
    "duration": 3348,
    "start_time": "2021-11-23T08:41:05.946Z"
   },
   {
    "duration": 4210,
    "start_time": "2021-11-23T08:41:09.297Z"
   },
   {
    "duration": 20,
    "start_time": "2021-11-23T08:41:13.510Z"
   },
   {
    "duration": 17,
    "start_time": "2021-11-23T08:41:16.765Z"
   },
   {
    "duration": 16,
    "start_time": "2021-11-23T08:41:17.568Z"
   },
   {
    "duration": 40,
    "start_time": "2021-11-23T08:41:18.388Z"
   },
   {
    "duration": 10,
    "start_time": "2021-11-23T08:41:19.641Z"
   },
   {
    "duration": 53,
    "start_time": "2021-11-23T08:41:20.113Z"
   },
   {
    "duration": 38,
    "start_time": "2021-11-23T08:41:21.958Z"
   },
   {
    "duration": 21,
    "start_time": "2021-11-23T08:41:26.117Z"
   },
   {
    "duration": 14,
    "start_time": "2021-11-23T08:41:26.906Z"
   },
   {
    "duration": 13,
    "start_time": "2021-11-23T08:41:34.970Z"
   },
   {
    "duration": 15,
    "start_time": "2021-11-23T08:41:36.616Z"
   },
   {
    "duration": 152,
    "start_time": "2021-11-23T08:41:37.799Z"
   },
   {
    "duration": 797,
    "start_time": "2021-11-23T08:55:29.974Z"
   },
   {
    "duration": 29,
    "start_time": "2021-11-23T08:56:14.260Z"
   },
   {
    "duration": 27,
    "start_time": "2021-11-23T08:56:32.083Z"
   },
   {
    "duration": 30,
    "start_time": "2021-11-23T08:56:42.950Z"
   },
   {
    "duration": 11,
    "start_time": "2021-11-23T08:57:15.888Z"
   },
   {
    "duration": 20,
    "start_time": "2021-11-23T08:57:20.636Z"
   },
   {
    "duration": 8,
    "start_time": "2021-11-23T09:02:25.092Z"
   },
   {
    "duration": 25,
    "start_time": "2021-11-23T09:03:07.496Z"
   },
   {
    "duration": 19,
    "start_time": "2021-11-23T09:05:24.524Z"
   },
   {
    "duration": 19,
    "start_time": "2021-11-23T09:05:35.614Z"
   },
   {
    "duration": 18,
    "start_time": "2021-11-23T09:05:39.138Z"
   },
   {
    "duration": 21,
    "start_time": "2021-11-23T09:05:40.486Z"
   },
   {
    "duration": 18,
    "start_time": "2021-11-23T09:06:06.657Z"
   },
   {
    "duration": 20,
    "start_time": "2021-11-23T09:06:08.221Z"
   },
   {
    "duration": 21,
    "start_time": "2021-11-23T09:06:52.199Z"
   },
   {
    "duration": 20,
    "start_time": "2021-11-23T09:07:52.114Z"
   },
   {
    "duration": 21,
    "start_time": "2021-11-23T09:09:23.901Z"
   },
   {
    "duration": 114,
    "start_time": "2021-11-23T09:09:32.036Z"
   },
   {
    "duration": 21,
    "start_time": "2021-11-23T09:09:40.565Z"
   },
   {
    "duration": 22,
    "start_time": "2021-11-23T09:09:56.663Z"
   },
   {
    "duration": 20,
    "start_time": "2021-11-23T09:13:23.305Z"
   },
   {
    "duration": 29,
    "start_time": "2021-11-23T09:14:08.384Z"
   },
   {
    "duration": 5,
    "start_time": "2021-11-23T09:22:52.821Z"
   },
   {
    "duration": 7,
    "start_time": "2021-11-23T09:22:57.140Z"
   },
   {
    "duration": 8,
    "start_time": "2021-11-23T09:23:14.848Z"
   },
   {
    "duration": 11,
    "start_time": "2021-11-23T09:23:19.645Z"
   },
   {
    "duration": 6,
    "start_time": "2021-11-23T09:23:26.549Z"
   },
   {
    "duration": 15,
    "start_time": "2021-11-23T09:24:49.638Z"
   },
   {
    "duration": 19,
    "start_time": "2021-11-23T09:25:37.926Z"
   },
   {
    "duration": 16,
    "start_time": "2021-11-23T09:26:07.683Z"
   },
   {
    "duration": 20,
    "start_time": "2021-11-23T09:26:33.507Z"
   },
   {
    "duration": 22,
    "start_time": "2021-11-23T09:26:41.094Z"
   },
   {
    "duration": 24,
    "start_time": "2021-11-23T09:26:48.076Z"
   },
   {
    "duration": 901,
    "start_time": "2021-11-23T09:28:42.150Z"
   },
   {
    "duration": 27,
    "start_time": "2021-11-23T09:28:47.917Z"
   },
   {
    "duration": 39,
    "start_time": "2021-11-23T09:28:48.725Z"
   },
   {
    "duration": 29,
    "start_time": "2021-11-23T09:29:10.500Z"
   },
   {
    "duration": 20,
    "start_time": "2021-11-23T09:33:44.603Z"
   },
   {
    "duration": 1261,
    "start_time": "2021-11-23T09:35:40.922Z"
   },
   {
    "duration": 21,
    "start_time": "2021-11-23T09:35:59.356Z"
   },
   {
    "duration": 296,
    "start_time": "2021-11-23T09:36:39.440Z"
   },
   {
    "duration": 498,
    "start_time": "2021-11-23T09:36:52.444Z"
   },
   {
    "duration": 503,
    "start_time": "2021-11-23T09:36:57.384Z"
   },
   {
    "duration": 388,
    "start_time": "2021-11-23T09:37:39.593Z"
   },
   {
    "duration": 107,
    "start_time": "2021-11-23T09:37:52.171Z"
   },
   {
    "duration": 21,
    "start_time": "2021-11-23T09:38:10.180Z"
   },
   {
    "duration": 352,
    "start_time": "2021-11-23T09:38:12.046Z"
   },
   {
    "duration": 7222,
    "start_time": "2021-11-23T09:38:34.261Z"
   },
   {
    "duration": 20,
    "start_time": "2021-11-23T09:38:41.779Z"
   },
   {
    "duration": 26,
    "start_time": "2021-11-23T09:59:34.957Z"
   },
   {
    "duration": 20,
    "start_time": "2021-11-23T10:00:04.285Z"
   },
   {
    "duration": 27,
    "start_time": "2021-11-23T10:01:14.885Z"
   },
   {
    "duration": 38,
    "start_time": "2021-11-23T10:01:54.228Z"
   },
   {
    "duration": 35,
    "start_time": "2021-11-23T10:01:59.985Z"
   },
   {
    "duration": 34,
    "start_time": "2021-11-23T10:02:10.921Z"
   },
   {
    "duration": 23,
    "start_time": "2021-11-23T10:02:11.840Z"
   },
   {
    "duration": 30,
    "start_time": "2021-11-23T10:02:13.483Z"
   },
   {
    "duration": 31,
    "start_time": "2021-11-23T10:02:16.201Z"
   },
   {
    "duration": 8,
    "start_time": "2021-11-23T10:02:16.995Z"
   },
   {
    "duration": 28,
    "start_time": "2021-11-23T10:02:17.428Z"
   },
   {
    "duration": 55,
    "start_time": "2021-11-23T10:02:19.260Z"
   },
   {
    "duration": 32,
    "start_time": "2021-11-23T10:02:21.738Z"
   },
   {
    "duration": 13,
    "start_time": "2021-11-23T10:02:23.872Z"
   },
   {
    "duration": 26,
    "start_time": "2021-11-23T10:02:25.346Z"
   },
   {
    "duration": 32,
    "start_time": "2021-11-23T10:02:25.375Z"
   },
   {
    "duration": 73,
    "start_time": "2021-11-23T10:02:25.413Z"
   },
   {
    "duration": 28,
    "start_time": "2021-11-23T10:02:27.060Z"
   },
   {
    "duration": 35,
    "start_time": "2021-11-23T10:02:27.950Z"
   },
   {
    "duration": 20,
    "start_time": "2021-11-23T10:02:30.460Z"
   },
   {
    "duration": 24,
    "start_time": "2021-11-23T10:02:38.993Z"
   },
   {
    "duration": 32,
    "start_time": "2021-11-23T10:04:30.554Z"
   },
   {
    "duration": 21,
    "start_time": "2021-11-23T10:04:31.456Z"
   },
   {
    "duration": 13,
    "start_time": "2021-11-23T10:04:31.612Z"
   },
   {
    "duration": 18,
    "start_time": "2021-11-23T10:04:31.888Z"
   },
   {
    "duration": 23,
    "start_time": "2021-11-23T10:04:32.025Z"
   },
   {
    "duration": 30,
    "start_time": "2021-11-23T10:04:32.282Z"
   },
   {
    "duration": 21,
    "start_time": "2021-11-23T10:04:32.759Z"
   },
   {
    "duration": 21,
    "start_time": "2021-11-23T10:04:33.061Z"
   },
   {
    "duration": 20,
    "start_time": "2021-11-23T10:04:33.612Z"
   },
   {
    "duration": 21,
    "start_time": "2021-11-23T10:04:33.744Z"
   },
   {
    "duration": 43,
    "start_time": "2021-11-23T10:17:49.988Z"
   },
   {
    "duration": 32,
    "start_time": "2021-11-23T10:31:31.995Z"
   },
   {
    "duration": 78,
    "start_time": "2021-11-23T10:31:36.455Z"
   },
   {
    "duration": 17,
    "start_time": "2021-11-23T10:31:44.401Z"
   },
   {
    "duration": 19,
    "start_time": "2021-11-23T10:32:45.570Z"
   },
   {
    "duration": 31,
    "start_time": "2021-11-23T10:33:04.504Z"
   },
   {
    "duration": 741,
    "start_time": "2021-11-23T10:33:13.203Z"
   },
   {
    "duration": 37,
    "start_time": "2021-11-23T10:33:27.310Z"
   },
   {
    "duration": 33,
    "start_time": "2021-11-23T10:33:31.758Z"
   },
   {
    "duration": 705,
    "start_time": "2021-11-23T10:33:34.589Z"
   },
   {
    "duration": 7,
    "start_time": "2021-11-23T10:33:38.709Z"
   },
   {
    "duration": 12,
    "start_time": "2021-11-23T10:33:49.603Z"
   },
   {
    "duration": 270,
    "start_time": "2021-11-23T10:34:46.322Z"
   },
   {
    "duration": 250,
    "start_time": "2021-11-23T10:34:54.579Z"
   },
   {
    "duration": 20,
    "start_time": "2021-11-23T10:35:01.012Z"
   },
   {
    "duration": 18,
    "start_time": "2021-11-23T10:35:01.478Z"
   },
   {
    "duration": 21,
    "start_time": "2021-11-23T10:35:30.316Z"
   },
   {
    "duration": 26,
    "start_time": "2021-11-23T10:35:47.778Z"
   },
   {
    "duration": 46,
    "start_time": "2021-11-23T10:35:48.839Z"
   },
   {
    "duration": 47,
    "start_time": "2021-11-23T10:35:52.973Z"
   },
   {
    "duration": 5140,
    "start_time": "2021-11-23T10:35:59.473Z"
   },
   {
    "duration": 4258,
    "start_time": "2021-11-23T10:36:07.364Z"
   },
   {
    "duration": 4121,
    "start_time": "2021-11-23T10:36:30.348Z"
   },
   {
    "duration": 21,
    "start_time": "2021-11-23T10:36:34.471Z"
   },
   {
    "duration": 27,
    "start_time": "2021-11-23T10:36:42.483Z"
   },
   {
    "duration": 31,
    "start_time": "2021-11-23T10:36:44.529Z"
   },
   {
    "duration": 49,
    "start_time": "2021-11-23T10:36:48.203Z"
   },
   {
    "duration": 11,
    "start_time": "2021-11-23T10:36:53.954Z"
   },
   {
    "duration": 35,
    "start_time": "2021-11-23T10:36:54.958Z"
   },
   {
    "duration": 59,
    "start_time": "2021-11-23T10:36:58.865Z"
   },
   {
    "duration": 21,
    "start_time": "2021-11-23T10:37:05.630Z"
   },
   {
    "duration": 15,
    "start_time": "2021-11-23T10:37:21.118Z"
   },
   {
    "duration": 20,
    "start_time": "2021-11-23T10:37:34.356Z"
   },
   {
    "duration": 27,
    "start_time": "2021-11-23T10:37:37.147Z"
   },
   {
    "duration": 26,
    "start_time": "2021-11-23T10:39:08.039Z"
   },
   {
    "duration": 20,
    "start_time": "2021-11-23T10:39:45.083Z"
   },
   {
    "duration": 20,
    "start_time": "2021-11-23T10:39:48.747Z"
   },
   {
    "duration": 33,
    "start_time": "2021-11-23T10:40:20.491Z"
   },
   {
    "duration": 29,
    "start_time": "2021-11-23T10:40:23.709Z"
   },
   {
    "duration": 37,
    "start_time": "2021-11-23T10:40:53.157Z"
   },
   {
    "duration": 450,
    "start_time": "2021-11-23T15:24:33.557Z"
   },
   {
    "duration": 884,
    "start_time": "2021-11-23T15:24:40.666Z"
   },
   {
    "duration": 14,
    "start_time": "2021-11-23T15:24:41.553Z"
   },
   {
    "duration": 18,
    "start_time": "2021-11-23T15:24:41.582Z"
   },
   {
    "duration": 31,
    "start_time": "2021-11-23T15:24:41.603Z"
   },
   {
    "duration": 1422,
    "start_time": "2021-11-23T15:24:41.636Z"
   },
   {
    "duration": 40,
    "start_time": "2021-11-23T15:24:43.060Z"
   },
   {
    "duration": 724,
    "start_time": "2021-11-23T15:24:43.102Z"
   },
   {
    "duration": 6,
    "start_time": "2021-11-23T15:24:43.830Z"
   },
   {
    "duration": 11,
    "start_time": "2021-11-23T15:24:43.839Z"
   },
   {
    "duration": 379,
    "start_time": "2021-11-23T15:24:43.854Z"
   },
   {
    "duration": 238,
    "start_time": "2021-11-23T15:24:44.235Z"
   },
   {
    "duration": 20,
    "start_time": "2021-11-23T15:24:44.475Z"
   },
   {
    "duration": 20,
    "start_time": "2021-11-23T15:24:44.497Z"
   },
   {
    "duration": 18,
    "start_time": "2021-11-23T15:24:44.520Z"
   },
   {
    "duration": 24,
    "start_time": "2021-11-23T15:24:44.541Z"
   },
   {
    "duration": 51,
    "start_time": "2021-11-23T15:24:44.567Z"
   },
   {
    "duration": 9,
    "start_time": "2021-11-23T15:24:44.620Z"
   },
   {
    "duration": 3653,
    "start_time": "2021-11-23T15:24:44.632Z"
   },
   {
    "duration": 3782,
    "start_time": "2021-11-23T15:24:48.288Z"
   },
   {
    "duration": 28,
    "start_time": "2021-11-23T15:24:52.072Z"
   },
   {
    "duration": 19,
    "start_time": "2021-11-23T15:24:52.102Z"
   },
   {
    "duration": 16,
    "start_time": "2021-11-23T15:24:52.124Z"
   },
   {
    "duration": 32,
    "start_time": "2021-11-23T15:24:52.184Z"
   },
   {
    "duration": 7,
    "start_time": "2021-11-23T15:24:52.219Z"
   },
   {
    "duration": 58,
    "start_time": "2021-11-23T15:24:52.229Z"
   },
   {
    "duration": 40,
    "start_time": "2021-11-23T15:24:52.289Z"
   },
   {
    "duration": 483,
    "start_time": "2021-11-23T15:24:52.332Z"
   },
   {
    "duration": -5751,
    "start_time": "2021-11-23T15:24:58.569Z"
   },
   {
    "duration": -5753,
    "start_time": "2021-11-23T15:24:58.572Z"
   },
   {
    "duration": -5754,
    "start_time": "2021-11-23T15:24:58.575Z"
   },
   {
    "duration": -5755,
    "start_time": "2021-11-23T15:24:58.577Z"
   },
   {
    "duration": -5756,
    "start_time": "2021-11-23T15:24:58.579Z"
   },
   {
    "duration": -5755,
    "start_time": "2021-11-23T15:24:58.580Z"
   },
   {
    "duration": -5756,
    "start_time": "2021-11-23T15:24:58.582Z"
   },
   {
    "duration": -5756,
    "start_time": "2021-11-23T15:24:58.583Z"
   },
   {
    "duration": -5756,
    "start_time": "2021-11-23T15:24:58.585Z"
   },
   {
    "duration": 22,
    "start_time": "2021-11-23T15:24:59.729Z"
   },
   {
    "duration": 95,
    "start_time": "2021-11-23T15:27:33.502Z"
   },
   {
    "duration": 16,
    "start_time": "2021-11-23T15:27:33.600Z"
   },
   {
    "duration": 19,
    "start_time": "2021-11-23T15:27:33.621Z"
   },
   {
    "duration": 75,
    "start_time": "2021-11-23T15:27:33.644Z"
   },
   {
    "duration": 1053,
    "start_time": "2021-11-23T15:27:33.722Z"
   },
   {
    "duration": 43,
    "start_time": "2021-11-23T15:27:34.783Z"
   },
   {
    "duration": 1049,
    "start_time": "2021-11-23T15:27:34.829Z"
   },
   {
    "duration": 7,
    "start_time": "2021-11-23T15:27:35.886Z"
   },
   {
    "duration": 12,
    "start_time": "2021-11-23T15:27:35.897Z"
   },
   {
    "duration": 372,
    "start_time": "2021-11-23T15:27:35.911Z"
   },
   {
    "duration": 247,
    "start_time": "2021-11-23T15:27:36.286Z"
   },
   {
    "duration": 18,
    "start_time": "2021-11-23T15:27:36.536Z"
   },
   {
    "duration": 34,
    "start_time": "2021-11-23T15:27:36.556Z"
   },
   {
    "duration": 21,
    "start_time": "2021-11-23T15:27:36.593Z"
   },
   {
    "duration": 27,
    "start_time": "2021-11-23T15:27:36.617Z"
   },
   {
    "duration": 74,
    "start_time": "2021-11-23T15:27:36.647Z"
   },
   {
    "duration": 61,
    "start_time": "2021-11-23T15:27:36.724Z"
   },
   {
    "duration": 4605,
    "start_time": "2021-11-23T15:27:36.788Z"
   },
   {
    "duration": 4016,
    "start_time": "2021-11-23T15:27:41.396Z"
   },
   {
    "duration": 18,
    "start_time": "2021-11-23T15:27:45.415Z"
   },
   {
    "duration": 15,
    "start_time": "2021-11-23T15:27:45.435Z"
   },
   {
    "duration": 42,
    "start_time": "2021-11-23T15:27:45.452Z"
   },
   {
    "duration": 27,
    "start_time": "2021-11-23T15:27:45.500Z"
   },
   {
    "duration": 6,
    "start_time": "2021-11-23T15:27:45.530Z"
   },
   {
    "duration": 58,
    "start_time": "2021-11-23T15:27:45.538Z"
   },
   {
    "duration": 35,
    "start_time": "2021-11-23T15:27:45.598Z"
   },
   {
    "duration": 47,
    "start_time": "2021-11-23T15:27:45.636Z"
   },
   {
    "duration": 12,
    "start_time": "2021-11-23T15:27:45.686Z"
   },
   {
    "duration": 18,
    "start_time": "2021-11-23T15:27:45.701Z"
   },
   {
    "duration": 9775,
    "start_time": "2021-11-23T15:27:45.722Z"
   },
   {
    "duration": 32,
    "start_time": "2021-11-23T15:27:55.500Z"
   },
   {
    "duration": 19,
    "start_time": "2021-11-23T15:27:55.534Z"
   },
   {
    "duration": 44,
    "start_time": "2021-11-23T15:27:55.556Z"
   },
   {
    "duration": 20,
    "start_time": "2021-11-23T15:27:55.603Z"
   },
   {
    "duration": 58,
    "start_time": "2021-11-23T15:27:55.626Z"
   },
   {
    "duration": 26,
    "start_time": "2021-11-23T15:27:55.687Z"
   },
   {
    "duration": 946,
    "start_time": "2021-12-01T11:00:01.029Z"
   },
   {
    "duration": 21,
    "start_time": "2021-12-01T11:00:02.546Z"
   },
   {
    "duration": 25,
    "start_time": "2021-12-01T11:00:04.384Z"
   },
   {
    "duration": 49,
    "start_time": "2021-12-01T11:00:05.980Z"
   },
   {
    "duration": 1930,
    "start_time": "2021-12-01T11:00:07.495Z"
   },
   {
    "duration": 56,
    "start_time": "2021-12-01T11:00:09.428Z"
   },
   {
    "duration": 742,
    "start_time": "2021-12-01T11:00:10.586Z"
   },
   {
    "duration": 6,
    "start_time": "2021-12-01T11:00:16.142Z"
   },
   {
    "duration": 11,
    "start_time": "2021-12-01T11:00:17.247Z"
   },
   {
    "duration": 667,
    "start_time": "2021-12-01T11:03:31.547Z"
   },
   {
    "duration": 10,
    "start_time": "2021-12-01T11:03:39.760Z"
   },
   {
    "duration": 14,
    "start_time": "2021-12-01T11:05:07.509Z"
   },
   {
    "duration": 18,
    "start_time": "2021-12-01T11:05:30.811Z"
   },
   {
    "duration": 16,
    "start_time": "2021-12-01T11:05:46.442Z"
   },
   {
    "duration": 11,
    "start_time": "2021-12-01T11:05:48.827Z"
   },
   {
    "duration": 12,
    "start_time": "2021-12-01T11:06:22.617Z"
   },
   {
    "duration": 8,
    "start_time": "2021-12-01T11:06:26.656Z"
   },
   {
    "duration": 10,
    "start_time": "2021-12-01T11:14:56.004Z"
   },
   {
    "duration": 14,
    "start_time": "2021-12-01T11:14:57.424Z"
   },
   {
    "duration": 14,
    "start_time": "2021-12-01T11:24:38.697Z"
   },
   {
    "duration": 78,
    "start_time": "2021-12-01T11:42:06.882Z"
   },
   {
    "duration": 16,
    "start_time": "2021-12-01T11:42:08.507Z"
   },
   {
    "duration": 19,
    "start_time": "2021-12-01T11:42:09.607Z"
   },
   {
    "duration": 28,
    "start_time": "2021-12-01T11:42:09.861Z"
   },
   {
    "duration": 670,
    "start_time": "2021-12-01T11:42:10.115Z"
   },
   {
    "duration": 34,
    "start_time": "2021-12-01T11:42:13.804Z"
   },
   {
    "duration": 671,
    "start_time": "2021-12-01T11:42:14.259Z"
   },
   {
    "duration": 7,
    "start_time": "2021-12-01T11:42:16.851Z"
   },
   {
    "duration": 10,
    "start_time": "2021-12-01T11:42:17.851Z"
   },
   {
    "duration": 10,
    "start_time": "2021-12-01T11:42:21.401Z"
   },
   {
    "duration": 13,
    "start_time": "2021-12-01T11:42:22.514Z"
   },
   {
    "duration": 255,
    "start_time": "2021-12-01T11:42:27.044Z"
   },
   {
    "duration": 3,
    "start_time": "2021-12-01T11:42:32.332Z"
   },
   {
    "duration": 54,
    "start_time": "2021-12-01T11:42:39.815Z"
   },
   {
    "duration": 10,
    "start_time": "2021-12-01T11:45:05.895Z"
   },
   {
    "duration": 10,
    "start_time": "2021-12-01T11:45:22.598Z"
   },
   {
    "duration": 73,
    "start_time": "2021-12-01T11:45:28.300Z"
   },
   {
    "duration": 14,
    "start_time": "2021-12-01T11:45:31.422Z"
   },
   {
    "duration": 92,
    "start_time": "2021-12-01T11:45:31.438Z"
   },
   {
    "duration": 47,
    "start_time": "2021-12-01T11:45:31.534Z"
   },
   {
    "duration": 723,
    "start_time": "2021-12-01T11:45:31.584Z"
   },
   {
    "duration": 32,
    "start_time": "2021-12-01T11:45:32.311Z"
   },
   {
    "duration": 725,
    "start_time": "2021-12-01T11:45:32.345Z"
   },
   {
    "duration": 12,
    "start_time": "2021-12-01T11:45:33.073Z"
   },
   {
    "duration": 14,
    "start_time": "2021-12-01T11:45:33.265Z"
   },
   {
    "duration": 15,
    "start_time": "2021-12-01T11:45:35.126Z"
   },
   {
    "duration": 10,
    "start_time": "2021-12-01T11:45:35.838Z"
   },
   {
    "duration": 237,
    "start_time": "2021-12-01T11:45:40.059Z"
   },
   {
    "duration": 3,
    "start_time": "2021-12-01T11:45:41.367Z"
   },
   {
    "duration": 54,
    "start_time": "2021-12-01T11:46:23.507Z"
   },
   {
    "duration": 11,
    "start_time": "2021-12-01T11:46:31.244Z"
   },
   {
    "duration": 11,
    "start_time": "2021-12-01T11:46:46.316Z"
   },
   {
    "duration": 20,
    "start_time": "2021-12-01T11:46:47.573Z"
   },
   {
    "duration": 16,
    "start_time": "2021-12-01T11:46:48.203Z"
   },
   {
    "duration": 18,
    "start_time": "2021-12-01T11:48:10.833Z"
   },
   {
    "duration": 15,
    "start_time": "2021-12-01T11:48:11.027Z"
   },
   {
    "duration": 361,
    "start_time": "2021-12-01T11:48:13.138Z"
   },
   {
    "duration": 14,
    "start_time": "2021-12-01T11:52:55.870Z"
   },
   {
    "duration": 259,
    "start_time": "2021-12-01T11:54:21.742Z"
   },
   {
    "duration": 394,
    "start_time": "2021-12-01T11:54:57.492Z"
   },
   {
    "duration": 27,
    "start_time": "2021-12-01T11:54:59.030Z"
   },
   {
    "duration": 16,
    "start_time": "2021-12-01T11:54:59.561Z"
   },
   {
    "duration": 20,
    "start_time": "2021-12-01T11:55:02.995Z"
   },
   {
    "duration": 26,
    "start_time": "2021-12-01T11:55:05.110Z"
   },
   {
    "duration": 45,
    "start_time": "2021-12-01T11:55:05.895Z"
   },
   {
    "duration": 10,
    "start_time": "2021-12-01T11:55:07.189Z"
   },
   {
    "duration": 3786,
    "start_time": "2021-12-01T11:55:07.584Z"
   },
   {
    "duration": 4378,
    "start_time": "2021-12-01T11:55:13.660Z"
   },
   {
    "duration": 21,
    "start_time": "2021-12-01T11:55:18.041Z"
   },
   {
    "duration": 18,
    "start_time": "2021-12-01T11:55:18.081Z"
   },
   {
    "duration": 17,
    "start_time": "2021-12-01T11:55:20.182Z"
   },
   {
    "duration": 32,
    "start_time": "2021-12-01T11:55:59.140Z"
   },
   {
    "duration": 7,
    "start_time": "2021-12-01T11:56:00.171Z"
   },
   {
    "duration": 22,
    "start_time": "2021-12-01T11:56:00.522Z"
   },
   {
    "duration": 28,
    "start_time": "2021-12-01T11:57:31.058Z"
   },
   {
    "duration": 7,
    "start_time": "2021-12-01T11:57:31.796Z"
   },
   {
    "duration": 31,
    "start_time": "2021-12-01T11:57:32.044Z"
   },
   {
    "duration": 50,
    "start_time": "2021-12-01T11:57:33.063Z"
   },
   {
    "duration": 21,
    "start_time": "2021-12-01T12:08:41.742Z"
   },
   {
    "duration": 14,
    "start_time": "2021-12-01T12:10:49.381Z"
   },
   {
    "duration": 19,
    "start_time": "2021-12-01T12:11:07.153Z"
   },
   {
    "duration": 4,
    "start_time": "2021-12-01T12:14:30.340Z"
   },
   {
    "duration": 26,
    "start_time": "2021-12-01T12:14:33.806Z"
   },
   {
    "duration": 31,
    "start_time": "2021-12-01T12:15:49.580Z"
   },
   {
    "duration": 27,
    "start_time": "2021-12-01T12:17:00.899Z"
   },
   {
    "duration": 47,
    "start_time": "2021-12-01T12:19:26.536Z"
   },
   {
    "duration": 26,
    "start_time": "2021-12-01T12:19:36.993Z"
   },
   {
    "duration": 231,
    "start_time": "2021-12-01T12:20:28.534Z"
   },
   {
    "duration": 17,
    "start_time": "2021-12-01T12:20:40.328Z"
   },
   {
    "duration": 20,
    "start_time": "2021-12-01T12:20:42.077Z"
   },
   {
    "duration": 846,
    "start_time": "2021-12-01T12:20:43.458Z"
   },
   {
    "duration": 30,
    "start_time": "2021-12-01T12:21:07.996Z"
   },
   {
    "duration": 34,
    "start_time": "2021-12-01T12:21:13.165Z"
   },
   {
    "duration": 39,
    "start_time": "2021-12-01T12:21:14.675Z"
   },
   {
    "duration": 27,
    "start_time": "2021-12-01T12:21:16.540Z"
   },
   {
    "duration": 29,
    "start_time": "2021-12-01T12:21:17.253Z"
   },
   {
    "duration": 42,
    "start_time": "2021-12-01T12:21:21.438Z"
   },
   {
    "duration": 20,
    "start_time": "2021-12-01T12:21:45.949Z"
   },
   {
    "duration": 124,
    "start_time": "2021-12-01T12:27:55.601Z"
   },
   {
    "duration": 41,
    "start_time": "2021-12-01T12:27:56.965Z"
   },
   {
    "duration": 21,
    "start_time": "2021-12-01T12:27:58.847Z"
   },
   {
    "duration": 33,
    "start_time": "2021-12-01T12:27:59.504Z"
   },
   {
    "duration": 954,
    "start_time": "2021-12-01T12:28:00.249Z"
   },
   {
    "duration": 48,
    "start_time": "2021-12-01T12:28:01.557Z"
   },
   {
    "duration": 794,
    "start_time": "2021-12-01T12:28:02.258Z"
   },
   {
    "duration": 7,
    "start_time": "2021-12-01T12:28:03.910Z"
   },
   {
    "duration": 15,
    "start_time": "2021-12-01T12:28:05.143Z"
   },
   {
    "duration": 16,
    "start_time": "2021-12-01T12:28:07.817Z"
   },
   {
    "duration": 16,
    "start_time": "2021-12-01T12:28:08.528Z"
   },
   {
    "duration": 394,
    "start_time": "2021-12-01T12:28:44.455Z"
   },
   {
    "duration": 3,
    "start_time": "2021-12-01T12:28:45.518Z"
   },
   {
    "duration": 59,
    "start_time": "2021-12-01T12:28:56.501Z"
   },
   {
    "duration": 12,
    "start_time": "2021-12-01T12:28:57.483Z"
   },
   {
    "duration": 272,
    "start_time": "2021-12-01T12:29:06.546Z"
   },
   {
    "duration": 21,
    "start_time": "2021-12-01T12:29:07.863Z"
   },
   {
    "duration": 19,
    "start_time": "2021-12-01T12:29:08.326Z"
   },
   {
    "duration": 22,
    "start_time": "2021-12-01T12:29:10.095Z"
   },
   {
    "duration": 27,
    "start_time": "2021-12-01T12:29:11.050Z"
   },
   {
    "duration": 53,
    "start_time": "2021-12-01T12:29:11.639Z"
   },
   {
    "duration": 52,
    "start_time": "2021-12-01T12:29:12.170Z"
   },
   {
    "duration": 3538,
    "start_time": "2021-12-01T12:29:12.313Z"
   },
   {
    "duration": 5553,
    "start_time": "2021-12-01T12:29:24.234Z"
   },
   {
    "duration": 22,
    "start_time": "2021-12-01T12:29:29.790Z"
   },
   {
    "duration": 23,
    "start_time": "2021-12-01T12:29:29.816Z"
   },
   {
    "duration": 17,
    "start_time": "2021-12-01T12:29:35.934Z"
   },
   {
    "duration": 45,
    "start_time": "2021-12-01T12:29:38.286Z"
   },
   {
    "duration": 12,
    "start_time": "2021-12-01T12:29:39.009Z"
   },
   {
    "duration": 34,
    "start_time": "2021-12-01T12:29:39.304Z"
   },
   {
    "duration": 4,
    "start_time": "2021-12-01T12:29:40.063Z"
   },
   {
    "duration": 352,
    "start_time": "2021-12-01T12:29:42.955Z"
   },
   {
    "duration": 3,
    "start_time": "2021-12-01T12:29:51.519Z"
   },
   {
    "duration": 415,
    "start_time": "2021-12-01T12:29:52.503Z"
   },
   {
    "duration": 29,
    "start_time": "2021-12-01T12:29:57.354Z"
   },
   {
    "duration": 57,
    "start_time": "2021-12-01T12:29:59.601Z"
   },
   {
    "duration": 31,
    "start_time": "2021-12-01T12:30:00.234Z"
   },
   {
    "duration": 18,
    "start_time": "2021-12-01T12:30:07.579Z"
   },
   {
    "duration": 24,
    "start_time": "2021-12-01T12:30:08.163Z"
   },
   {
    "duration": 28,
    "start_time": "2021-12-01T12:30:08.356Z"
   },
   {
    "duration": 38,
    "start_time": "2021-12-01T12:30:09.014Z"
   },
   {
    "duration": 30,
    "start_time": "2021-12-01T12:30:09.905Z"
   },
   {
    "duration": 28,
    "start_time": "2021-12-01T12:30:10.268Z"
   },
   {
    "duration": 25,
    "start_time": "2021-12-01T12:30:11.001Z"
   },
   {
    "duration": 26,
    "start_time": "2021-12-01T12:30:11.199Z"
   },
   {
    "duration": 28,
    "start_time": "2021-12-01T12:30:11.926Z"
   },
   {
    "duration": 314,
    "start_time": "2021-12-02T10:02:14.716Z"
   },
   {
    "duration": 725,
    "start_time": "2021-12-02T10:02:21.120Z"
   },
   {
    "duration": 11,
    "start_time": "2021-12-02T10:02:21.847Z"
   },
   {
    "duration": 20,
    "start_time": "2021-12-02T10:02:21.860Z"
   },
   {
    "duration": 36,
    "start_time": "2021-12-02T10:02:21.882Z"
   },
   {
    "duration": 1058,
    "start_time": "2021-12-02T10:02:21.921Z"
   },
   {
    "duration": 28,
    "start_time": "2021-12-02T10:02:22.980Z"
   },
   {
    "duration": 489,
    "start_time": "2021-12-02T10:02:23.011Z"
   },
   {
    "duration": 8,
    "start_time": "2021-12-02T10:02:23.502Z"
   },
   {
    "duration": 13,
    "start_time": "2021-12-02T10:02:23.512Z"
   },
   {
    "duration": 9,
    "start_time": "2021-12-02T10:02:23.527Z"
   },
   {
    "duration": 12,
    "start_time": "2021-12-02T10:02:23.538Z"
   },
   {
    "duration": 208,
    "start_time": "2021-12-02T10:02:23.552Z"
   },
   {
    "duration": 2,
    "start_time": "2021-12-02T10:02:23.762Z"
   },
   {
    "duration": 59,
    "start_time": "2021-12-02T10:02:23.766Z"
   },
   {
    "duration": 9,
    "start_time": "2021-12-02T10:02:23.827Z"
   },
   {
    "duration": 184,
    "start_time": "2021-12-02T10:02:23.838Z"
   },
   {
    "duration": 11,
    "start_time": "2021-12-02T10:02:24.024Z"
   },
   {
    "duration": 16,
    "start_time": "2021-12-02T10:02:24.037Z"
   },
   {
    "duration": 14,
    "start_time": "2021-12-02T10:02:24.055Z"
   },
   {
    "duration": 39,
    "start_time": "2021-12-02T10:02:24.071Z"
   },
   {
    "duration": 42,
    "start_time": "2021-12-02T10:02:24.112Z"
   },
   {
    "duration": 7,
    "start_time": "2021-12-02T10:02:24.155Z"
   },
   {
    "duration": 2697,
    "start_time": "2021-12-02T10:02:24.166Z"
   },
   {
    "duration": 3384,
    "start_time": "2021-12-02T10:02:26.865Z"
   },
   {
    "duration": 15,
    "start_time": "2021-12-02T10:02:30.251Z"
   },
   {
    "duration": 27,
    "start_time": "2021-12-02T10:02:30.268Z"
   },
   {
    "duration": 28,
    "start_time": "2021-12-02T10:02:30.296Z"
   },
   {
    "duration": 54,
    "start_time": "2021-12-02T10:02:30.326Z"
   },
   {
    "duration": 9,
    "start_time": "2021-12-02T10:02:30.382Z"
   },
   {
    "duration": 29,
    "start_time": "2021-12-02T10:02:30.393Z"
   },
   {
    "duration": 11,
    "start_time": "2021-12-02T10:02:30.424Z"
   },
   {
    "duration": 341,
    "start_time": "2021-12-02T10:02:30.437Z"
   },
   {
    "duration": -1942,
    "start_time": "2021-12-02T10:02:32.723Z"
   },
   {
    "duration": -1943,
    "start_time": "2021-12-02T10:02:32.725Z"
   },
   {
    "duration": -1944,
    "start_time": "2021-12-02T10:02:32.727Z"
   },
   {
    "duration": -1945,
    "start_time": "2021-12-02T10:02:32.729Z"
   },
   {
    "duration": -1945,
    "start_time": "2021-12-02T10:02:32.730Z"
   },
   {
    "duration": -1946,
    "start_time": "2021-12-02T10:02:32.732Z"
   },
   {
    "duration": -1947,
    "start_time": "2021-12-02T10:02:32.734Z"
   },
   {
    "duration": -1948,
    "start_time": "2021-12-02T10:02:32.736Z"
   },
   {
    "duration": -1948,
    "start_time": "2021-12-02T10:02:32.737Z"
   },
   {
    "duration": -1949,
    "start_time": "2021-12-02T10:02:32.739Z"
   },
   {
    "duration": -1949,
    "start_time": "2021-12-02T10:02:32.741Z"
   },
   {
    "duration": -1951,
    "start_time": "2021-12-02T10:02:32.743Z"
   },
   {
    "duration": -1952,
    "start_time": "2021-12-02T10:02:32.745Z"
   },
   {
    "duration": 3,
    "start_time": "2021-12-02T10:02:50.190Z"
   },
   {
    "duration": 31,
    "start_time": "2021-12-02T10:02:50.194Z"
   },
   {
    "duration": 26,
    "start_time": "2021-12-02T10:02:50.228Z"
   },
   {
    "duration": 16,
    "start_time": "2021-12-02T10:02:50.257Z"
   },
   {
    "duration": 47,
    "start_time": "2021-12-02T10:02:50.275Z"
   },
   {
    "duration": 9,
    "start_time": "2021-12-02T10:02:50.324Z"
   },
   {
    "duration": 16,
    "start_time": "2021-12-02T10:02:50.335Z"
   },
   {
    "duration": 7855,
    "start_time": "2021-12-02T10:02:50.354Z"
   },
   {
    "duration": 24,
    "start_time": "2021-12-02T10:02:58.214Z"
   },
   {
    "duration": 14,
    "start_time": "2021-12-02T10:02:58.240Z"
   },
   {
    "duration": 16,
    "start_time": "2021-12-02T10:02:58.256Z"
   },
   {
    "duration": 44,
    "start_time": "2021-12-02T10:02:58.274Z"
   },
   {
    "duration": 16,
    "start_time": "2021-12-02T10:02:58.320Z"
   },
   {
    "duration": 22,
    "start_time": "2021-12-02T10:02:58.337Z"
   },
   {
    "duration": 870,
    "start_time": "2021-12-20T14:54:21.729Z"
   },
   {
    "duration": 18,
    "start_time": "2021-12-20T14:54:22.623Z"
   },
   {
    "duration": 19,
    "start_time": "2021-12-20T14:54:23.646Z"
   },
   {
    "duration": 39,
    "start_time": "2021-12-20T14:54:24.053Z"
   },
   {
    "duration": 1384,
    "start_time": "2021-12-20T14:54:24.497Z"
   },
   {
    "duration": 44,
    "start_time": "2021-12-20T14:54:25.884Z"
   },
   {
    "duration": 726,
    "start_time": "2021-12-20T14:54:25.931Z"
   },
   {
    "duration": 6,
    "start_time": "2021-12-20T14:54:26.660Z"
   },
   {
    "duration": 11,
    "start_time": "2021-12-20T14:54:26.832Z"
   },
   {
    "duration": 11,
    "start_time": "2021-12-20T14:54:27.768Z"
   },
   {
    "duration": 11,
    "start_time": "2021-12-20T14:54:28.337Z"
   },
   {
    "duration": 274,
    "start_time": "2021-12-20T14:54:32.340Z"
   },
   {
    "duration": 3,
    "start_time": "2021-12-20T14:54:33.272Z"
   },
   {
    "duration": 54,
    "start_time": "2021-12-20T14:54:36.734Z"
   },
   {
    "duration": 11,
    "start_time": "2021-12-20T14:54:37.505Z"
   },
   {
    "duration": 249,
    "start_time": "2021-12-20T14:54:39.341Z"
   },
   {
    "duration": 16,
    "start_time": "2021-12-20T14:54:40.232Z"
   },
   {
    "duration": 24,
    "start_time": "2021-12-20T14:54:41.025Z"
   },
   {
    "duration": 22,
    "start_time": "2021-12-20T14:54:42.783Z"
   },
   {
    "duration": 32,
    "start_time": "2021-12-20T14:54:43.875Z"
   },
   {
    "duration": 51,
    "start_time": "2021-12-20T14:54:44.482Z"
   },
   {
    "duration": 8,
    "start_time": "2021-12-20T14:54:45.291Z"
   },
   {
    "duration": 3671,
    "start_time": "2021-12-20T14:54:45.585Z"
   },
   {
    "duration": 4283,
    "start_time": "2021-12-20T14:54:49.259Z"
   },
   {
    "duration": 19,
    "start_time": "2021-12-20T14:54:53.545Z"
   },
   {
    "duration": 17,
    "start_time": "2021-12-20T14:54:53.567Z"
   },
   {
    "duration": 39,
    "start_time": "2021-12-20T14:54:53.586Z"
   },
   {
    "duration": 29,
    "start_time": "2021-12-20T14:54:53.627Z"
   },
   {
    "duration": 6,
    "start_time": "2021-12-20T14:54:53.658Z"
   },
   {
    "duration": 59,
    "start_time": "2021-12-20T14:54:53.669Z"
   },
   {
    "duration": 3,
    "start_time": "2021-12-20T14:54:53.730Z"
   },
   {
    "duration": 9,
    "start_time": "2021-12-20T14:54:53.736Z"
   },
   {
    "duration": 20,
    "start_time": "2021-12-20T14:54:54.145Z"
   },
   {
    "duration": 41,
    "start_time": "2021-12-20T14:54:54.492Z"
   },
   {
    "duration": 26,
    "start_time": "2021-12-20T14:54:55.629Z"
   },
   {
    "duration": 18,
    "start_time": "2021-12-20T14:54:56.508Z"
   },
   {
    "duration": 12,
    "start_time": "2021-12-20T14:54:57.948Z"
   },
   {
    "duration": 18,
    "start_time": "2021-12-20T14:54:58.603Z"
   },
   {
    "duration": 690,
    "start_time": "2021-12-20T14:54:58.886Z"
   }
  ],
  "kernelspec": {
   "display_name": "Python 3 (ipykernel)",
   "language": "python",
   "name": "python3"
  },
  "language_info": {
   "codemirror_mode": {
    "name": "ipython",
    "version": 3
   },
   "file_extension": ".py",
   "mimetype": "text/x-python",
   "name": "python",
   "nbconvert_exporter": "python",
   "pygments_lexer": "ipython3",
   "version": "3.9.7"
  },
  "toc": {
   "base_numbering": 1,
   "nav_menu": {},
   "number_sections": true,
   "sideBar": true,
   "skip_h1_title": true,
   "title_cell": "Содержание",
   "title_sidebar": "Contents",
   "toc_cell": true,
   "toc_position": {},
   "toc_section_display": true,
   "toc_window_display": true
  }
 },
 "nbformat": 4,
 "nbformat_minor": 2
}
