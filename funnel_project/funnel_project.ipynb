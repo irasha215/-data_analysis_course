{
 "cells": [
  {
   "cell_type": "markdown",
   "metadata": {
    "toc": true
   },
   "source": [
    "<h1>Содержание проекта<span class=\"tocSkip\"></span></h1>\n",
    "<div class=\"toc\"><ul class=\"toc-item\"><li><span><a href=\"#Описание-проекта\" data-toc-modified-id=\"Описание-проекта-1\"><span class=\"toc-item-num\">1&nbsp;&nbsp;</span>Описание проекта</a></span></li><li><span><a href=\"#Открытие-данных\" data-toc-modified-id=\"Открытие-данных-2\"><span class=\"toc-item-num\">2&nbsp;&nbsp;</span>Открытие данных</a></span></li><li><span><a href=\"#Предобработка-данных\" data-toc-modified-id=\"Предобработка-данных-3\"><span class=\"toc-item-num\">3&nbsp;&nbsp;</span>Предобработка данных</a></span></li><li><span><a href=\"#Изучение-данных\" data-toc-modified-id=\"Изучение-данных-4\"><span class=\"toc-item-num\">4&nbsp;&nbsp;</span>Изучение данных</a></span><ul class=\"toc-item\"><li><span><a href=\"#Количество-событий-в-логе\" data-toc-modified-id=\"Количество-событий-в-логе-4.1\"><span class=\"toc-item-num\">4.1&nbsp;&nbsp;</span>Количество событий в логе</a></span></li><li><span><a href=\"#Количество-пользователей-в-логе\" data-toc-modified-id=\"Количество-пользователей-в-логе-4.2\"><span class=\"toc-item-num\">4.2&nbsp;&nbsp;</span>Количество пользователей в логе</a></span></li><li><span><a href=\"#Среднее-количество-событий-на-пользователя\" data-toc-modified-id=\"Среднее-количество-событий-на-пользователя-4.3\"><span class=\"toc-item-num\">4.3&nbsp;&nbsp;</span>Среднее количество событий на пользователя</a></span></li><li><span><a href=\"#Временной-отрезок-данных\" data-toc-modified-id=\"Временной-отрезок-данных-4.4\"><span class=\"toc-item-num\">4.4&nbsp;&nbsp;</span>Временной отрезок данных</a></span></li><li><span><a href=\"#Проверьте,-что-у-вас-есть-пользователи-из-всех-трёх-экспериментальных-групп.\" data-toc-modified-id=\"Проверьте,-что-у-вас-есть-пользователи-из-всех-трёх-экспериментальных-групп.-4.5\"><span class=\"toc-item-num\">4.5&nbsp;&nbsp;</span>Проверьте, что у вас есть пользователи из всех трёх экспериментальных групп.</a></span></li></ul></li><li><span><a href=\"#Воронка-событий\" data-toc-modified-id=\"Воронка-событий-5\"><span class=\"toc-item-num\">5&nbsp;&nbsp;</span>Воронка событий</a></span></li><li><span><a href=\"#Изучение-результатов-эксперимента\" data-toc-modified-id=\"Изучение-результатов-эксперимента-6\"><span class=\"toc-item-num\">6&nbsp;&nbsp;</span>Изучение результатов эксперимента</a></span><ul class=\"toc-item\"><li><span><a href=\"#Статистическая-разница-между-выборками-246-и-247\" data-toc-modified-id=\"Статистическая-разница-между-выборками-246-и-247-6.1\"><span class=\"toc-item-num\">6.1&nbsp;&nbsp;</span>Статистическая разница между выборками 246 и 247</a></span></li><li><span><a href=\"#Статистическая-разница-между-выборками-246-и-248\" data-toc-modified-id=\"Статистическая-разница-между-выборками-246-и-248-6.2\"><span class=\"toc-item-num\">6.2&nbsp;&nbsp;</span>Статистическая разница между выборками 246 и 248</a></span></li><li><span><a href=\"#Статистическая-разница-между-выборками-247-и-248\" data-toc-modified-id=\"Статистическая-разница-между-выборками-247-и-248-6.3\"><span class=\"toc-item-num\">6.3&nbsp;&nbsp;</span>Статистическая разница между выборками 247 и 248</a></span></li><li><span><a href=\"#Статистическая-разница-между-объединенной-контрольной-группой-и-248\" data-toc-modified-id=\"Статистическая-разница-между-объединенной-контрольной-группой-и-248-6.4\"><span class=\"toc-item-num\">6.4&nbsp;&nbsp;</span>Статистическая разница между объединенной контрольной группой и 248</a></span></li><li><span><a href=\"#Выбор-уровня-значимости\" data-toc-modified-id=\"Выбор-уровня-значимости-6.5\"><span class=\"toc-item-num\">6.5&nbsp;&nbsp;</span>Выбор уровня значимости</a></span></li></ul></li><li><span><a href=\"#Вывод:\" data-toc-modified-id=\"Вывод:-7\"><span class=\"toc-item-num\">7&nbsp;&nbsp;</span>Вывод:</a></span></li></ul></div>"
   ]
  },
  {
   "cell_type": "markdown",
   "metadata": {},
   "source": [
    "# Сборный проект"
   ]
  },
  {
   "cell_type": "markdown",
   "metadata": {},
   "source": [
    "## Описание проекта"
   ]
  },
  {
   "cell_type": "markdown",
   "metadata": {},
   "source": [
    "Мобильное приложение компании, которая продает продукты питания. Нужно определить, как себя ведут пользователи: изучение воронки продаж, поиск шагов, на которых останавливаются пользователи. Исследование результатов А/А/В-эксперимента. "
   ]
  },
  {
   "cell_type": "markdown",
   "metadata": {},
   "source": [
    "## Открытие данных"
   ]
  },
  {
   "cell_type": "code",
   "execution_count": 19,
   "metadata": {},
   "outputs": [],
   "source": [
    "import pandas as pd\n",
    "import seaborn as sns\n",
    "import matplotlib.pyplot as plt\n",
    "from scipy import stats as st\n",
    "import numpy as np\n",
    "import math as mth"
   ]
  },
  {
   "cell_type": "code",
   "execution_count": 20,
   "metadata": {},
   "outputs": [],
   "source": [
    "try:\n",
    "    data = pd.read_csv('/datasets/logs_exp.csv', sep = '\\t')\n",
    "except:\n",
    "    data = pd.read_csv('/Users/air/Downloads/logs_exp.csv', sep = '\\t')"
   ]
  },
  {
   "cell_type": "code",
   "execution_count": 21,
   "metadata": {},
   "outputs": [
    {
     "data": {
      "text/html": [
       "<div>\n",
       "<style scoped>\n",
       "    .dataframe tbody tr th:only-of-type {\n",
       "        vertical-align: middle;\n",
       "    }\n",
       "\n",
       "    .dataframe tbody tr th {\n",
       "        vertical-align: top;\n",
       "    }\n",
       "\n",
       "    .dataframe thead th {\n",
       "        text-align: right;\n",
       "    }\n",
       "</style>\n",
       "<table border=\"1\" class=\"dataframe\">\n",
       "  <thead>\n",
       "    <tr style=\"text-align: right;\">\n",
       "      <th></th>\n",
       "      <th>EventName</th>\n",
       "      <th>DeviceIDHash</th>\n",
       "      <th>EventTimestamp</th>\n",
       "      <th>ExpId</th>\n",
       "    </tr>\n",
       "  </thead>\n",
       "  <tbody>\n",
       "    <tr>\n",
       "      <th>0</th>\n",
       "      <td>MainScreenAppear</td>\n",
       "      <td>4575588528974610257</td>\n",
       "      <td>1564029816</td>\n",
       "      <td>246</td>\n",
       "    </tr>\n",
       "    <tr>\n",
       "      <th>1</th>\n",
       "      <td>MainScreenAppear</td>\n",
       "      <td>7416695313311560658</td>\n",
       "      <td>1564053102</td>\n",
       "      <td>246</td>\n",
       "    </tr>\n",
       "    <tr>\n",
       "      <th>2</th>\n",
       "      <td>PaymentScreenSuccessful</td>\n",
       "      <td>3518123091307005509</td>\n",
       "      <td>1564054127</td>\n",
       "      <td>248</td>\n",
       "    </tr>\n",
       "    <tr>\n",
       "      <th>3</th>\n",
       "      <td>CartScreenAppear</td>\n",
       "      <td>3518123091307005509</td>\n",
       "      <td>1564054127</td>\n",
       "      <td>248</td>\n",
       "    </tr>\n",
       "    <tr>\n",
       "      <th>4</th>\n",
       "      <td>PaymentScreenSuccessful</td>\n",
       "      <td>6217807653094995999</td>\n",
       "      <td>1564055322</td>\n",
       "      <td>248</td>\n",
       "    </tr>\n",
       "  </tbody>\n",
       "</table>\n",
       "</div>"
      ],
      "text/plain": [
       "                 EventName         DeviceIDHash  EventTimestamp  ExpId\n",
       "0         MainScreenAppear  4575588528974610257      1564029816    246\n",
       "1         MainScreenAppear  7416695313311560658      1564053102    246\n",
       "2  PaymentScreenSuccessful  3518123091307005509      1564054127    248\n",
       "3         CartScreenAppear  3518123091307005509      1564054127    248\n",
       "4  PaymentScreenSuccessful  6217807653094995999      1564055322    248"
      ]
     },
     "execution_count": 21,
     "metadata": {},
     "output_type": "execute_result"
    }
   ],
   "source": [
    "data.head()"
   ]
  },
  {
   "cell_type": "markdown",
   "metadata": {},
   "source": [
    "## Предобработка данных"
   ]
  },
  {
   "cell_type": "code",
   "execution_count": 22,
   "metadata": {},
   "outputs": [],
   "source": [
    "# Изменим названия столбцов\n",
    "\n",
    "data.columns = ['event', 'id', 'dt', 'exp_id']"
   ]
  },
  {
   "cell_type": "code",
   "execution_count": 23,
   "metadata": {},
   "outputs": [
    {
     "name": "stdout",
     "output_type": "stream",
     "text": [
      "<class 'pandas.core.frame.DataFrame'>\n",
      "RangeIndex: 244126 entries, 0 to 244125\n",
      "Data columns (total 4 columns):\n",
      " #   Column  Non-Null Count   Dtype \n",
      "---  ------  --------------   ----- \n",
      " 0   event   244126 non-null  object\n",
      " 1   id      244126 non-null  int64 \n",
      " 2   dt      244126 non-null  int64 \n",
      " 3   exp_id  244126 non-null  int64 \n",
      "dtypes: int64(3), object(1)\n",
      "memory usage: 7.5+ MB\n"
     ]
    }
   ],
   "source": [
    "data.info()"
   ]
  },
  {
   "cell_type": "markdown",
   "metadata": {},
   "source": [
    "Как мы видим, пропусков в данных нет. Проверим на наличие дубликатов:"
   ]
  },
  {
   "cell_type": "code",
   "execution_count": 24,
   "metadata": {},
   "outputs": [
    {
     "data": {
      "text/plain": [
       "413"
      ]
     },
     "execution_count": 24,
     "metadata": {},
     "output_type": "execute_result"
    }
   ],
   "source": [
    "data.duplicated().sum()"
   ]
  },
  {
   "cell_type": "markdown",
   "metadata": {},
   "source": [
    "У нас 413 дубликатов. Это небольшой процент от общего количества данных, поэтому просто удалим их."
   ]
  },
  {
   "cell_type": "code",
   "execution_count": 25,
   "metadata": {},
   "outputs": [],
   "source": [
    "data = data.drop_duplicates()"
   ]
  },
  {
   "cell_type": "markdown",
   "metadata": {},
   "source": [
    "Изменим тип данных в столбце 'time':"
   ]
  },
  {
   "cell_type": "code",
   "execution_count": 26,
   "metadata": {},
   "outputs": [],
   "source": [
    "data['dt'] = pd.to_datetime(data['dt'], unit='s')"
   ]
  },
  {
   "cell_type": "markdown",
   "metadata": {},
   "source": [
    "Добавим отдельный столбец с датой:"
   ]
  },
  {
   "cell_type": "code",
   "execution_count": 27,
   "metadata": {},
   "outputs": [],
   "source": [
    "data['date'] = data['dt'].dt.date"
   ]
  },
  {
   "cell_type": "code",
   "execution_count": 28,
   "metadata": {},
   "outputs": [
    {
     "data": {
      "text/html": [
       "<div>\n",
       "<style scoped>\n",
       "    .dataframe tbody tr th:only-of-type {\n",
       "        vertical-align: middle;\n",
       "    }\n",
       "\n",
       "    .dataframe tbody tr th {\n",
       "        vertical-align: top;\n",
       "    }\n",
       "\n",
       "    .dataframe thead th {\n",
       "        text-align: right;\n",
       "    }\n",
       "</style>\n",
       "<table border=\"1\" class=\"dataframe\">\n",
       "  <thead>\n",
       "    <tr style=\"text-align: right;\">\n",
       "      <th></th>\n",
       "      <th>event</th>\n",
       "      <th>id</th>\n",
       "      <th>dt</th>\n",
       "      <th>exp_id</th>\n",
       "      <th>date</th>\n",
       "    </tr>\n",
       "  </thead>\n",
       "  <tbody>\n",
       "    <tr>\n",
       "      <th>0</th>\n",
       "      <td>MainScreenAppear</td>\n",
       "      <td>4575588528974610257</td>\n",
       "      <td>2019-07-25 04:43:36</td>\n",
       "      <td>246</td>\n",
       "      <td>2019-07-25</td>\n",
       "    </tr>\n",
       "    <tr>\n",
       "      <th>1</th>\n",
       "      <td>MainScreenAppear</td>\n",
       "      <td>7416695313311560658</td>\n",
       "      <td>2019-07-25 11:11:42</td>\n",
       "      <td>246</td>\n",
       "      <td>2019-07-25</td>\n",
       "    </tr>\n",
       "    <tr>\n",
       "      <th>2</th>\n",
       "      <td>PaymentScreenSuccessful</td>\n",
       "      <td>3518123091307005509</td>\n",
       "      <td>2019-07-25 11:28:47</td>\n",
       "      <td>248</td>\n",
       "      <td>2019-07-25</td>\n",
       "    </tr>\n",
       "    <tr>\n",
       "      <th>3</th>\n",
       "      <td>CartScreenAppear</td>\n",
       "      <td>3518123091307005509</td>\n",
       "      <td>2019-07-25 11:28:47</td>\n",
       "      <td>248</td>\n",
       "      <td>2019-07-25</td>\n",
       "    </tr>\n",
       "    <tr>\n",
       "      <th>4</th>\n",
       "      <td>PaymentScreenSuccessful</td>\n",
       "      <td>6217807653094995999</td>\n",
       "      <td>2019-07-25 11:48:42</td>\n",
       "      <td>248</td>\n",
       "      <td>2019-07-25</td>\n",
       "    </tr>\n",
       "  </tbody>\n",
       "</table>\n",
       "</div>"
      ],
      "text/plain": [
       "                     event                   id                  dt  exp_id  \\\n",
       "0         MainScreenAppear  4575588528974610257 2019-07-25 04:43:36     246   \n",
       "1         MainScreenAppear  7416695313311560658 2019-07-25 11:11:42     246   \n",
       "2  PaymentScreenSuccessful  3518123091307005509 2019-07-25 11:28:47     248   \n",
       "3         CartScreenAppear  3518123091307005509 2019-07-25 11:28:47     248   \n",
       "4  PaymentScreenSuccessful  6217807653094995999 2019-07-25 11:48:42     248   \n",
       "\n",
       "         date  \n",
       "0  2019-07-25  \n",
       "1  2019-07-25  \n",
       "2  2019-07-25  \n",
       "3  2019-07-25  \n",
       "4  2019-07-25  "
      ]
     },
     "execution_count": 28,
     "metadata": {},
     "output_type": "execute_result"
    }
   ],
   "source": [
    "data.head()"
   ]
  },
  {
   "cell_type": "markdown",
   "metadata": {},
   "source": [
    "**Вывод:** В ходе предобработки были изменены названия столбцов, удалены дубликаты, данные преобразованы к нужному типу."
   ]
  },
  {
   "cell_type": "markdown",
   "metadata": {},
   "source": [
    "## Изучение данных"
   ]
  },
  {
   "cell_type": "markdown",
   "metadata": {},
   "source": [
    "### Количество событий в логе"
   ]
  },
  {
   "cell_type": "code",
   "execution_count": 29,
   "metadata": {},
   "outputs": [
    {
     "data": {
      "text/plain": [
       "5"
      ]
     },
     "execution_count": 29,
     "metadata": {},
     "output_type": "execute_result"
    }
   ],
   "source": [
    "data.event.nunique()"
   ]
  },
  {
   "cell_type": "markdown",
   "metadata": {},
   "source": [
    "В данном логе 5 уникальных событий."
   ]
  },
  {
   "cell_type": "markdown",
   "metadata": {},
   "source": [
    "### Количество пользователей в логе"
   ]
  },
  {
   "cell_type": "code",
   "execution_count": 30,
   "metadata": {},
   "outputs": [
    {
     "data": {
      "text/plain": [
       "7551"
      ]
     },
     "execution_count": 30,
     "metadata": {},
     "output_type": "execute_result"
    }
   ],
   "source": [
    "data.id.nunique()"
   ]
  },
  {
   "cell_type": "markdown",
   "metadata": {},
   "source": [
    "В логе 7551 уникальных пользователей"
   ]
  },
  {
   "cell_type": "markdown",
   "metadata": {},
   "source": [
    "### Среднее количество событий на пользователя"
   ]
  },
  {
   "cell_type": "code",
   "execution_count": 31,
   "metadata": {},
   "outputs": [
    {
     "data": {
      "text/plain": [
       "32.27559263673685"
      ]
     },
     "execution_count": 31,
     "metadata": {},
     "output_type": "execute_result"
    }
   ],
   "source": [
    "data.shape[0]/ data.id.nunique()"
   ]
  },
  {
   "cell_type": "markdown",
   "metadata": {},
   "source": [
    "В среднем на одного пользователя приходится 32 события, посмотрим на распределение:"
   ]
  },
  {
   "cell_type": "code",
   "execution_count": 32,
   "metadata": {},
   "outputs": [
    {
     "data": {
      "text/plain": [
       "(0.0, 100.0)"
      ]
     },
     "execution_count": 32,
     "metadata": {},
     "output_type": "execute_result"
    },
    {
     "data": {
      "image/png": "[encoded data removed]",
      "text/plain": [
       "<Figure size 720x504 with 1 Axes>"
      ]
     },
     "metadata": {
      "needs_background": "light"
     },
     "output_type": "display_data"
    }
   ],
   "source": [
    "plt.figure(figsize=(10,7))\n",
    "data.groupby('id').agg({'event' : 'count'}).sort_values(by='event', ascending = False).boxplot()\n",
    "plt.ylim(0, 100)"
   ]
  },
  {
   "cell_type": "markdown",
   "metadata": {},
   "source": [
    "Распределение сильно отличается от нормального, поэтому среднее значение может быть искажено. Медианное количество событий на пользователя - 20."
   ]
  },
  {
   "cell_type": "markdown",
   "metadata": {},
   "source": [
    "### Временной отрезок данных"
   ]
  },
  {
   "cell_type": "markdown",
   "metadata": {},
   "source": [
    "Узнаем, за какой отрезок времени мы располагаем данными:"
   ]
  },
  {
   "cell_type": "code",
   "execution_count": 33,
   "metadata": {},
   "outputs": [
    {
     "name": "stdout",
     "output_type": "stream",
     "text": [
      "Минимальная дата: 2019-07-25\n",
      "Максимальная дата: 2019-08-07\n"
     ]
    }
   ],
   "source": [
    "print('Минимальная дата:', data['date'].min())\n",
    "print('Максимальная дата:', data['date'].max()) "
   ]
  },
  {
   "cell_type": "markdown",
   "metadata": {},
   "source": [
    "Проверим, одинаково ли полные данные представлены за весь период:"
   ]
  },
  {
   "cell_type": "code",
   "execution_count": 34,
   "metadata": {},
   "outputs": [
    {
     "data": {
      "text/plain": [
       "Text(0, 0.5, 'Количество действий')"
      ]
     },
     "execution_count": 34,
     "metadata": {},
     "output_type": "execute_result"
    },
    {
     "data": {
      "image/png": "[encoded data removed]",
      "text/plain": [
       "<Figure size 720x504 with 1 Axes>"
      ]
     },
     "metadata": {
      "needs_background": "light"
     },
     "output_type": "display_data"
    }
   ],
   "source": [
    "plt.figure(figsize = (10,7))\n",
    "\n",
    "sns.barplot(\n",
    "    data = data.groupby('date').agg({'id' : 'count'}).reset_index(),\n",
    "    x = 'date',\n",
    "    y = 'id',\n",
    "    palette = 'pastel'\n",
    ")\n",
    "\n",
    "plt.xticks(rotation=45)\n",
    "plt.title('Количество действий по датам')\n",
    "plt.xlabel('Дата')\n",
    "plt.ylabel('Количество действий')"
   ]
  },
  {
   "cell_type": "markdown",
   "metadata": {},
   "source": [
    "На графике видно, что 31 июля наблюдается разкий скачок. Скорее всего это остаточные данные из прошлых событий по некоторым пользователям. Посмотрим, сколько их:"
   ]
  },
  {
   "cell_type": "code",
   "execution_count": 35,
   "metadata": {},
   "outputs": [
    {
     "data": {
      "text/plain": [
       "796"
      ]
     },
     "execution_count": 35,
     "metadata": {},
     "output_type": "execute_result"
    }
   ],
   "source": [
    "data.query('dt <= \"2019-07-31\"').event.count()"
   ]
  },
  {
   "cell_type": "markdown",
   "metadata": {},
   "source": [
    "Рассмотрим сколько это в процентном соотношении:"
   ]
  },
  {
   "cell_type": "code",
   "execution_count": 38,
   "metadata": {
    "scrolled": false
   },
   "outputs": [],
   "source": [
    "report = data.query('dt <= \"2019-07-31\"')"
   ]
  },
  {
   "cell_type": "code",
   "execution_count": 39,
   "metadata": {},
   "outputs": [
    {
     "data": {
      "text/plain": [
       "0.00326613680845913"
      ]
     },
     "execution_count": 39,
     "metadata": {},
     "output_type": "execute_result"
    }
   ],
   "source": [
    "# Процент отфильтрованных событий \n",
    "len(report['event']) / len(data['event'])"
   ]
  },
  {
   "cell_type": "code",
   "execution_count": 40,
   "metadata": {},
   "outputs": [
    {
     "data": {
      "text/plain": [
       "0.07350019864918554"
      ]
     },
     "execution_count": 40,
     "metadata": {},
     "output_type": "execute_result"
    }
   ],
   "source": [
    "# Процент отфильтрованных пользователей\n",
    "report.id.nunique() / data.id.nunique()"
   ]
  },
  {
   "cell_type": "markdown",
   "metadata": {},
   "source": [
    "Таким образом, мы отфильтровали 0.3% всех событий и 7.3% уникальных пользователей."
   ]
  },
  {
   "cell_type": "code",
   "execution_count": 41,
   "metadata": {},
   "outputs": [],
   "source": [
    "data = data.query('dt > \"2019-07-31\"')"
   ]
  },
  {
   "cell_type": "markdown",
   "metadata": {},
   "source": [
    "### Проверьте, что у вас есть пользователи из всех трёх экспериментальных групп."
   ]
  },
  {
   "cell_type": "markdown",
   "metadata": {},
   "source": [
    "Сначала проверим, все ли пользователи входят только в одну группу:"
   ]
  },
  {
   "cell_type": "code",
   "execution_count": 42,
   "metadata": {},
   "outputs": [
    {
     "data": {
      "text/plain": [
       "array([1])"
      ]
     },
     "execution_count": 42,
     "metadata": {},
     "output_type": "execute_result"
    }
   ],
   "source": [
    "data.groupby('id').agg({'exp_id' : 'nunique'}).reset_index().exp_id.unique()"
   ]
  },
  {
   "cell_type": "markdown",
   "metadata": {},
   "source": [
    "Да, каждый пользователь является участником только одной из наблюдаемых групп теста."
   ]
  },
  {
   "cell_type": "code",
   "execution_count": 43,
   "metadata": {},
   "outputs": [
    {
     "data": {
      "text/html": [
       "<div>\n",
       "<style scoped>\n",
       "    .dataframe tbody tr th:only-of-type {\n",
       "        vertical-align: middle;\n",
       "    }\n",
       "\n",
       "    .dataframe tbody tr th {\n",
       "        vertical-align: top;\n",
       "    }\n",
       "\n",
       "    .dataframe thead th {\n",
       "        text-align: right;\n",
       "    }\n",
       "</style>\n",
       "<table border=\"1\" class=\"dataframe\">\n",
       "  <thead>\n",
       "    <tr style=\"text-align: right;\">\n",
       "      <th></th>\n",
       "      <th>id</th>\n",
       "    </tr>\n",
       "    <tr>\n",
       "      <th>exp_id</th>\n",
       "      <th></th>\n",
       "    </tr>\n",
       "  </thead>\n",
       "  <tbody>\n",
       "    <tr>\n",
       "      <th>246</th>\n",
       "      <td>2485</td>\n",
       "    </tr>\n",
       "    <tr>\n",
       "      <th>247</th>\n",
       "      <td>2517</td>\n",
       "    </tr>\n",
       "    <tr>\n",
       "      <th>248</th>\n",
       "      <td>2540</td>\n",
       "    </tr>\n",
       "  </tbody>\n",
       "</table>\n",
       "</div>"
      ],
      "text/plain": [
       "          id\n",
       "exp_id      \n",
       "246     2485\n",
       "247     2517\n",
       "248     2540"
      ]
     },
     "execution_count": 43,
     "metadata": {},
     "output_type": "execute_result"
    }
   ],
   "source": [
    "data.groupby('exp_id').agg({'id':'nunique'})"
   ]
  },
  {
   "cell_type": "markdown",
   "metadata": {},
   "source": [
    "**Вывод:** Таким образом, в группах примерно одинаковое количество участников, каждый участник находится только в одной группе."
   ]
  },
  {
   "cell_type": "markdown",
   "metadata": {},
   "source": [
    "## Воронка событий"
   ]
  },
  {
   "cell_type": "code",
   "execution_count": 45,
   "metadata": {},
   "outputs": [],
   "source": [
    "# Функиця для построения воронки событий(на вход принимает датасет и количество уникальных пользователей)\n",
    "def make_funnel(data, unique_count):\n",
    "    \n",
    "    \n",
    "    # Создадим вороонку\n",
    "    report = (\n",
    "    data.groupby('event').agg({'id' : 'nunique'})\n",
    "    .sort_values(by = 'id', ascending = False)\n",
    "    .reset_index()\n",
    "    )\n",
    "\n",
    "    # Добавим столбец со значением конверии\n",
    "    report['conversion'] = report['id'] / unique_count\n",
    "\n",
    "    # Добавим столбцы, показывающие, сколько пользователей было на предыдущем шаге\n",
    "    report['previous_step'] = report['id'].shift()\n",
    "\n",
    "    # И конверсию в следующий шаг\n",
    "    report['step_conversion'] = report['id'] / report['previous_step']\n",
    "    \n",
    "    return report"
   ]
  },
  {
   "cell_type": "code",
   "execution_count": 46,
   "metadata": {
    "scrolled": true
   },
   "outputs": [
    {
     "data": {
      "text/html": [
       "<div>\n",
       "<style scoped>\n",
       "    .dataframe tbody tr th:only-of-type {\n",
       "        vertical-align: middle;\n",
       "    }\n",
       "\n",
       "    .dataframe tbody tr th {\n",
       "        vertical-align: top;\n",
       "    }\n",
       "\n",
       "    .dataframe thead th {\n",
       "        text-align: right;\n",
       "    }\n",
       "</style>\n",
       "<table border=\"1\" class=\"dataframe\">\n",
       "  <thead>\n",
       "    <tr style=\"text-align: right;\">\n",
       "      <th></th>\n",
       "      <th>event</th>\n",
       "      <th>id</th>\n",
       "      <th>conversion</th>\n",
       "      <th>previous_step</th>\n",
       "      <th>step_conversion</th>\n",
       "    </tr>\n",
       "  </thead>\n",
       "  <tbody>\n",
       "    <tr>\n",
       "      <th>0</th>\n",
       "      <td>MainScreenAppear</td>\n",
       "      <td>7429</td>\n",
       "      <td>0.985017</td>\n",
       "      <td>NaN</td>\n",
       "      <td>NaN</td>\n",
       "    </tr>\n",
       "    <tr>\n",
       "      <th>1</th>\n",
       "      <td>OffersScreenAppear</td>\n",
       "      <td>4606</td>\n",
       "      <td>0.610713</td>\n",
       "      <td>7429.0</td>\n",
       "      <td>0.620003</td>\n",
       "    </tr>\n",
       "    <tr>\n",
       "      <th>2</th>\n",
       "      <td>CartScreenAppear</td>\n",
       "      <td>3742</td>\n",
       "      <td>0.496155</td>\n",
       "      <td>4606.0</td>\n",
       "      <td>0.812419</td>\n",
       "    </tr>\n",
       "    <tr>\n",
       "      <th>3</th>\n",
       "      <td>PaymentScreenSuccessful</td>\n",
       "      <td>3542</td>\n",
       "      <td>0.469637</td>\n",
       "      <td>3742.0</td>\n",
       "      <td>0.946553</td>\n",
       "    </tr>\n",
       "    <tr>\n",
       "      <th>4</th>\n",
       "      <td>Tutorial</td>\n",
       "      <td>845</td>\n",
       "      <td>0.112039</td>\n",
       "      <td>3542.0</td>\n",
       "      <td>0.238566</td>\n",
       "    </tr>\n",
       "  </tbody>\n",
       "</table>\n",
       "</div>"
      ],
      "text/plain": [
       "                     event    id  conversion  previous_step  step_conversion\n",
       "0         MainScreenAppear  7429    0.985017            NaN              NaN\n",
       "1       OffersScreenAppear  4606    0.610713         7429.0         0.620003\n",
       "2         CartScreenAppear  3742    0.496155         4606.0         0.812419\n",
       "3  PaymentScreenSuccessful  3542    0.469637         3742.0         0.946553\n",
       "4                 Tutorial   845    0.112039         3542.0         0.238566"
      ]
     },
     "execution_count": 46,
     "metadata": {},
     "output_type": "execute_result"
    }
   ],
   "source": [
    "unique_count_all = data.id.nunique()\n",
    "report = make_funnel(data, unique_count_all)\n",
    "report"
   ]
  },
  {
   "cell_type": "markdown",
   "metadata": {},
   "source": [
    "Как мне кажется, событие 'Tutorial'(скорее всего это страница, объясняющся, как пользоваться сайтом) не входит в воронку событий, так как является необязательной и на нее переходит только 11% пользователей. Отфильтруем эти события:"
   ]
  },
  {
   "cell_type": "code",
   "execution_count": 47,
   "metadata": {},
   "outputs": [],
   "source": [
    "data = data.query('event != \"Tutorial\"')\n",
    "report = report.query('event != \"Tutorial\"')"
   ]
  },
  {
   "cell_type": "code",
   "execution_count": 48,
   "metadata": {},
   "outputs": [
    {
     "data": {
      "text/plain": [
       "Text(0, 0.5, 'Название события')"
      ]
     },
     "execution_count": 48,
     "metadata": {},
     "output_type": "execute_result"
    },
    {
     "data": {
      "image/png": "[encoded data removed]",
      "text/plain": [
       "<Figure size 432x288 with 1 Axes>"
      ]
     },
     "metadata": {
      "needs_background": "light"
     },
     "output_type": "display_data"
    }
   ],
   "source": [
    "sns.barplot(\n",
    "    data = report,\n",
    "    x = 'conversion',\n",
    "    y = 'event',\n",
    "    palette = 'pastel'\n",
    ")\n",
    "\n",
    "plt.title('Воронка событий')\n",
    "plt.xlabel('Процент пользователей')\n",
    "plt.ylabel('Название события')"
   ]
  },
  {
   "cell_type": "markdown",
   "metadata": {},
   "source": [
    "**Вывод:**\n",
    " - Как мне кажется, событие 'Tutorial'(скорее всего это страница, объясняющся, как пользоваться сайтом)  не входит в воронку событий, так как является необязательной и на нее переходит только 10% пользователей.\n",
    " - До шага создания заказа('Offer Screen Appear') доходят только 60% пользоватей. Именно на этом шаге мы теряем наибольшее количество пользователей.\n",
    " - До корзины доходят 50% пользователей(81% от предыдщего шага)\n",
    " - До успешной оплаты товара доходят 47% пользователей(94% от предыдущего шага)\n",
    " \n",
    " Таким образом, больше всего пользователей уходят на заказе товара. До успешной оплаты доходят только 47% процентов пользвователей."
   ]
  },
  {
   "cell_type": "markdown",
   "metadata": {},
   "source": [
    "## Изучение результатов эксперимента"
   ]
  },
  {
   "cell_type": "markdown",
   "metadata": {},
   "source": [
    "### Статистическая разница между выборками 246 и 247"
   ]
  },
  {
   "cell_type": "code",
   "execution_count": 49,
   "metadata": {},
   "outputs": [
    {
     "data": {
      "text/html": [
       "<div>\n",
       "<style scoped>\n",
       "    .dataframe tbody tr th:only-of-type {\n",
       "        vertical-align: middle;\n",
       "    }\n",
       "\n",
       "    .dataframe tbody tr th {\n",
       "        vertical-align: top;\n",
       "    }\n",
       "\n",
       "    .dataframe thead th {\n",
       "        text-align: right;\n",
       "    }\n",
       "</style>\n",
       "<table border=\"1\" class=\"dataframe\">\n",
       "  <thead>\n",
       "    <tr style=\"text-align: right;\">\n",
       "      <th></th>\n",
       "      <th>event</th>\n",
       "      <th>id</th>\n",
       "      <th>conversion</th>\n",
       "      <th>previous_step</th>\n",
       "      <th>step_conversion</th>\n",
       "    </tr>\n",
       "  </thead>\n",
       "  <tbody>\n",
       "    <tr>\n",
       "      <th>0</th>\n",
       "      <td>MainScreenAppear</td>\n",
       "      <td>2452</td>\n",
       "      <td>0.987118</td>\n",
       "      <td>NaN</td>\n",
       "      <td>NaN</td>\n",
       "    </tr>\n",
       "    <tr>\n",
       "      <th>1</th>\n",
       "      <td>OffersScreenAppear</td>\n",
       "      <td>1544</td>\n",
       "      <td>0.621578</td>\n",
       "      <td>2452.0</td>\n",
       "      <td>0.629690</td>\n",
       "    </tr>\n",
       "    <tr>\n",
       "      <th>2</th>\n",
       "      <td>CartScreenAppear</td>\n",
       "      <td>1267</td>\n",
       "      <td>0.510064</td>\n",
       "      <td>1544.0</td>\n",
       "      <td>0.820596</td>\n",
       "    </tr>\n",
       "    <tr>\n",
       "      <th>3</th>\n",
       "      <td>PaymentScreenSuccessful</td>\n",
       "      <td>1200</td>\n",
       "      <td>0.483092</td>\n",
       "      <td>1267.0</td>\n",
       "      <td>0.947119</td>\n",
       "    </tr>\n",
       "  </tbody>\n",
       "</table>\n",
       "</div>"
      ],
      "text/plain": [
       "                     event    id  conversion  previous_step  step_conversion\n",
       "0         MainScreenAppear  2452    0.987118            NaN              NaN\n",
       "1       OffersScreenAppear  1544    0.621578         2452.0         0.629690\n",
       "2         CartScreenAppear  1267    0.510064         1544.0         0.820596\n",
       "3  PaymentScreenSuccessful  1200    0.483092         1267.0         0.947119"
      ]
     },
     "execution_count": 49,
     "metadata": {},
     "output_type": "execute_result"
    }
   ],
   "source": [
    "# Посмотроим воронку для группы 246\n",
    "\n",
    "count_246 = data[data['exp_id'] == 246].id.nunique()\n",
    "report_246 = make_funnel(data[data['exp_id'] == 246], count_246)\n",
    "report_246"
   ]
  },
  {
   "cell_type": "code",
   "execution_count": 50,
   "metadata": {},
   "outputs": [
    {
     "data": {
      "text/html": [
       "<div>\n",
       "<style scoped>\n",
       "    .dataframe tbody tr th:only-of-type {\n",
       "        vertical-align: middle;\n",
       "    }\n",
       "\n",
       "    .dataframe tbody tr th {\n",
       "        vertical-align: top;\n",
       "    }\n",
       "\n",
       "    .dataframe thead th {\n",
       "        text-align: right;\n",
       "    }\n",
       "</style>\n",
       "<table border=\"1\" class=\"dataframe\">\n",
       "  <thead>\n",
       "    <tr style=\"text-align: right;\">\n",
       "      <th></th>\n",
       "      <th>event</th>\n",
       "      <th>id</th>\n",
       "      <th>conversion</th>\n",
       "      <th>previous_step</th>\n",
       "      <th>step_conversion</th>\n",
       "    </tr>\n",
       "  </thead>\n",
       "  <tbody>\n",
       "    <tr>\n",
       "      <th>0</th>\n",
       "      <td>MainScreenAppear</td>\n",
       "      <td>2479</td>\n",
       "      <td>0.985294</td>\n",
       "      <td>NaN</td>\n",
       "      <td>NaN</td>\n",
       "    </tr>\n",
       "    <tr>\n",
       "      <th>1</th>\n",
       "      <td>OffersScreenAppear</td>\n",
       "      <td>1526</td>\n",
       "      <td>0.606518</td>\n",
       "      <td>2479.0</td>\n",
       "      <td>0.615571</td>\n",
       "    </tr>\n",
       "    <tr>\n",
       "      <th>2</th>\n",
       "      <td>CartScreenAppear</td>\n",
       "      <td>1239</td>\n",
       "      <td>0.492448</td>\n",
       "      <td>1526.0</td>\n",
       "      <td>0.811927</td>\n",
       "    </tr>\n",
       "    <tr>\n",
       "      <th>3</th>\n",
       "      <td>PaymentScreenSuccessful</td>\n",
       "      <td>1159</td>\n",
       "      <td>0.460652</td>\n",
       "      <td>1239.0</td>\n",
       "      <td>0.935432</td>\n",
       "    </tr>\n",
       "  </tbody>\n",
       "</table>\n",
       "</div>"
      ],
      "text/plain": [
       "                     event    id  conversion  previous_step  step_conversion\n",
       "0         MainScreenAppear  2479    0.985294            NaN              NaN\n",
       "1       OffersScreenAppear  1526    0.606518         2479.0         0.615571\n",
       "2         CartScreenAppear  1239    0.492448         1526.0         0.811927\n",
       "3  PaymentScreenSuccessful  1159    0.460652         1239.0         0.935432"
      ]
     },
     "execution_count": 50,
     "metadata": {},
     "output_type": "execute_result"
    }
   ],
   "source": [
    "# Посмотроим воронку для группы 246\n",
    "\n",
    "count_247 = data[data['exp_id'] == 247].id.nunique()\n",
    "report_247 = make_funnel(data[data['exp_id'] == 247], count_247)\n",
    "report_247"
   ]
  },
  {
   "cell_type": "code",
   "execution_count": 51,
   "metadata": {},
   "outputs": [
    {
     "data": {
      "text/html": [
       "<div>\n",
       "<style scoped>\n",
       "    .dataframe tbody tr th:only-of-type {\n",
       "        vertical-align: middle;\n",
       "    }\n",
       "\n",
       "    .dataframe tbody tr th {\n",
       "        vertical-align: top;\n",
       "    }\n",
       "\n",
       "    .dataframe thead th {\n",
       "        text-align: right;\n",
       "    }\n",
       "</style>\n",
       "<table border=\"1\" class=\"dataframe\">\n",
       "  <thead>\n",
       "    <tr style=\"text-align: right;\">\n",
       "      <th></th>\n",
       "      <th>event</th>\n",
       "      <th>id_246</th>\n",
       "      <th>id_247</th>\n",
       "    </tr>\n",
       "  </thead>\n",
       "  <tbody>\n",
       "    <tr>\n",
       "      <th>0</th>\n",
       "      <td>MainScreenAppear</td>\n",
       "      <td>2452</td>\n",
       "      <td>2479</td>\n",
       "    </tr>\n",
       "    <tr>\n",
       "      <th>1</th>\n",
       "      <td>OffersScreenAppear</td>\n",
       "      <td>1544</td>\n",
       "      <td>1526</td>\n",
       "    </tr>\n",
       "    <tr>\n",
       "      <th>2</th>\n",
       "      <td>CartScreenAppear</td>\n",
       "      <td>1267</td>\n",
       "      <td>1239</td>\n",
       "    </tr>\n",
       "    <tr>\n",
       "      <th>3</th>\n",
       "      <td>PaymentScreenSuccessful</td>\n",
       "      <td>1200</td>\n",
       "      <td>1159</td>\n",
       "    </tr>\n",
       "  </tbody>\n",
       "</table>\n",
       "</div>"
      ],
      "text/plain": [
       "                     event  id_246  id_247\n",
       "0         MainScreenAppear    2452    2479\n",
       "1       OffersScreenAppear    1544    1526\n",
       "2         CartScreenAppear    1267    1239\n",
       "3  PaymentScreenSuccessful    1200    1159"
      ]
     },
     "execution_count": 51,
     "metadata": {},
     "output_type": "execute_result"
    }
   ],
   "source": [
    "# Соединим две таблицы и оставим только значения пользователей в каждом из событий\n",
    "report = report_246.merge(report_247, left_on='event', right_on='event',\n",
    "          suffixes=('_246', '_247'))\n",
    "report = report.drop(columns = ['conversion_246', 'previous_step_246', 'step_conversion_246', 'conversion_247', 'previous_step_247', 'step_conversion_247'])\n",
    "\n",
    "# Удалим строку 'Tutorial', так как это событие не участвует в воронке\n",
    "#report = report.query('event != \"Tutorial\"')\n",
    "report\n"
   ]
  },
  {
   "cell_type": "markdown",
   "metadata": {},
   "source": [
    "Проверим, находят ли статистические критерии разницу между выборками 246 и 247. Для этого я буду использовать z-тест для проверки гипотезы о равенстве долей. Для начала найдем общее количество уникальных участников для двух групп:"
   ]
  },
  {
   "cell_type": "markdown",
   "metadata": {},
   "source": [
    "Проверим гипотезы о равенстве долей. Для этого возьмем общее количество уникальных пользователей в каждой группе('trials') и количество пользователей, дошедших до определенного события.('successes')"
   ]
  },
  {
   "cell_type": "code",
   "execution_count": 54,
   "metadata": {},
   "outputs": [],
   "source": [
    "# Функция для проверки равенства долей\n",
    "\n",
    "def check_proportion(successes, successes2, trials1, trials2):\n",
    "    \n",
    "    alpha = 0.05 # критический уровень статистической значимости\n",
    "    \n",
    "    # пропорция успехов в первой группе:\n",
    "    p1 = successes1/trials1\n",
    "    \n",
    "    # пропорция успехов во второй группе:\n",
    "    p2 = successes2/trials2\n",
    "    \n",
    "    # пропорция успехов в комбинированном датасете:\n",
    "    p_combined = (successes1 + successes2) / (trials1 + trials2)\n",
    "    \n",
    "    # разница пропорций в датасетах\n",
    "    difference = p1 - p2 \n",
    "    \n",
    "    # считаем статистику в ст.отклонениях стандартного нормального распределения\n",
    "    z_value = difference / mth.sqrt(p_combined * (1 - p_combined) * (1/trials1 + 1/trials2))\n",
    "    \n",
    "    # задаем стандартное нормальное распределение (среднее 0, ст.отклонение 1)\n",
    "    distr = st.norm(0, 1)  \n",
    "    \n",
    "    # считаем статистику в ст.отклонениях стандартного нормального распределения\n",
    "    z_value = difference / mth.sqrt(\n",
    "        p_combined * (1 - p_combined) * (1 / trials1 + 1 / trials2)\n",
    "    )\n",
    "    \n",
    "    # задаем стандартное нормальное распределение (среднее 0, ст.отклонение 1)\n",
    "    distr = st.norm(0, 1)\n",
    "    \n",
    "    p_value = (1 - distr.cdf(abs(z_value))) * 2\n",
    "\n",
    "    print('p-значение: ', p_value)\n",
    "\n",
    "    if p_value < alpha:\n",
    "        print('Отвергаем нулевую гипотезу: между долями есть значимая разница')\n",
    "    else:\n",
    "        print(\n",
    "            'Не получилось отвергнуть нулевую гипотезу, нет оснований считать доли разными'\n",
    "        ) "
   ]
  },
  {
   "cell_type": "code",
   "execution_count": 55,
   "metadata": {},
   "outputs": [],
   "source": [
    "id_246 = np.array(report['id_246'])\n",
    "id_247 = np.array(report['id_247'])"
   ]
  },
  {
   "cell_type": "code",
   "execution_count": 56,
   "metadata": {
    "scrolled": true
   },
   "outputs": [
    {
     "name": "stdout",
     "output_type": "stream",
     "text": [
      "p-значение:  0.5805343777533254\n",
      "Не получилось отвергнуть нулевую гипотезу, нет оснований считать доли разными\n",
      "p-значение:  0.2740978967145842\n",
      "Не получилось отвергнуть нулевую гипотезу, нет оснований считать доли разными\n",
      "p-значение:  0.21290277963348125\n",
      "Не получилось отвергнуть нулевую гипотезу, нет оснований считать доли разными\n",
      "p-значение:  0.11200578978978504\n",
      "Не получилось отвергнуть нулевую гипотезу, нет оснований считать доли разными\n"
     ]
    }
   ],
   "source": [
    "for i in range(len(id_246)):\n",
    "    successes1 = id_247[i]\n",
    "    successes2 = id_246[i]\n",
    "    \n",
    "    check_proportion(successes1, successes2, count_247, count_246)"
   ]
  },
  {
   "cell_type": "markdown",
   "metadata": {},
   "source": [
    "**Вывод:** По результатам z-теста у нас нет оснований считать доли в группах разными, то есть контрольные группы А/А проходят проверку."
   ]
  },
  {
   "cell_type": "markdown",
   "metadata": {},
   "source": [
    "### Статистическая разница между выборками 246 и 248"
   ]
  },
  {
   "cell_type": "code",
   "execution_count": 57,
   "metadata": {},
   "outputs": [],
   "source": [
    "\n",
    "# Создадим воронку событий для группы 248\n",
    "count_248 = data[data['exp_id'] == 248].id.nunique()\n",
    "report_248 = make_funnel(data[data['exp_id'] == 248], count_248)\n",
    "report_248 = report_248.drop(columns = ['conversion', 'previous_step', 'step_conversion'])\n",
    "\n",
    "# Прикрепим эти данные к таблицам со значениями в других группах\n",
    "report = report.merge(report_248, how = 'left', on = 'event')\n",
    "report = report.rename(columns = {'id' : 'id_248'})"
   ]
  },
  {
   "cell_type": "code",
   "execution_count": 58,
   "metadata": {},
   "outputs": [
    {
     "data": {
      "text/html": [
       "<div>\n",
       "<style scoped>\n",
       "    .dataframe tbody tr th:only-of-type {\n",
       "        vertical-align: middle;\n",
       "    }\n",
       "\n",
       "    .dataframe tbody tr th {\n",
       "        vertical-align: top;\n",
       "    }\n",
       "\n",
       "    .dataframe thead th {\n",
       "        text-align: right;\n",
       "    }\n",
       "</style>\n",
       "<table border=\"1\" class=\"dataframe\">\n",
       "  <thead>\n",
       "    <tr style=\"text-align: right;\">\n",
       "      <th></th>\n",
       "      <th>event</th>\n",
       "      <th>id_246</th>\n",
       "      <th>id_247</th>\n",
       "      <th>id_248</th>\n",
       "    </tr>\n",
       "  </thead>\n",
       "  <tbody>\n",
       "    <tr>\n",
       "      <th>0</th>\n",
       "      <td>MainScreenAppear</td>\n",
       "      <td>2452</td>\n",
       "      <td>2479</td>\n",
       "      <td>2498</td>\n",
       "    </tr>\n",
       "    <tr>\n",
       "      <th>1</th>\n",
       "      <td>OffersScreenAppear</td>\n",
       "      <td>1544</td>\n",
       "      <td>1526</td>\n",
       "      <td>1536</td>\n",
       "    </tr>\n",
       "    <tr>\n",
       "      <th>2</th>\n",
       "      <td>CartScreenAppear</td>\n",
       "      <td>1267</td>\n",
       "      <td>1239</td>\n",
       "      <td>1236</td>\n",
       "    </tr>\n",
       "    <tr>\n",
       "      <th>3</th>\n",
       "      <td>PaymentScreenSuccessful</td>\n",
       "      <td>1200</td>\n",
       "      <td>1159</td>\n",
       "      <td>1183</td>\n",
       "    </tr>\n",
       "  </tbody>\n",
       "</table>\n",
       "</div>"
      ],
      "text/plain": [
       "                     event  id_246  id_247  id_248\n",
       "0         MainScreenAppear    2452    2479    2498\n",
       "1       OffersScreenAppear    1544    1526    1536\n",
       "2         CartScreenAppear    1267    1239    1236\n",
       "3  PaymentScreenSuccessful    1200    1159    1183"
      ]
     },
     "execution_count": 58,
     "metadata": {},
     "output_type": "execute_result"
    }
   ],
   "source": [
    "report"
   ]
  },
  {
   "cell_type": "code",
   "execution_count": 60,
   "metadata": {},
   "outputs": [],
   "source": [
    "id_248 = np.array(report['id_248'])"
   ]
  },
  {
   "cell_type": "code",
   "execution_count": 61,
   "metadata": {},
   "outputs": [
    {
     "name": "stdout",
     "output_type": "stream",
     "text": [
      "p-значение:  0.3910084761063306\n",
      "Не получилось отвергнуть нулевую гипотезу, нет оснований считать доли разными\n",
      "p-значение:  0.23345264246794972\n",
      "Не получилось отвергнуть нулевую гипотезу, нет оснований считать доли разными\n",
      "p-значение:  0.10214014435215457\n",
      "Не получилось отвергнуть нулевую гипотезу, нет оснований считать доли разными\n",
      "p-значение:  0.22836891483970034\n",
      "Не получилось отвергнуть нулевую гипотезу, нет оснований считать доли разными\n"
     ]
    }
   ],
   "source": [
    "# Проведем тест для сравнения групп 248 и 246 по каждому из событий:\n",
    "for i in range(len(id_246)):\n",
    "    successes1 = id_248[i]\n",
    "    successes2 = id_246[i]\n",
    "\n",
    "    check_proportion(successes1, successes2, count_248, count_246)"
   ]
  },
  {
   "cell_type": "markdown",
   "metadata": {},
   "source": [
    "**Вывод:** Статистической разницы между группам 248 и 246 нет."
   ]
  },
  {
   "cell_type": "markdown",
   "metadata": {},
   "source": [
    "### Статистическая разница между выборками 247 и 248"
   ]
  },
  {
   "cell_type": "code",
   "execution_count": 62,
   "metadata": {},
   "outputs": [
    {
     "name": "stdout",
     "output_type": "stream",
     "text": [
      "p-значение:  0.7595837257920652\n",
      "Не получилось отвергнуть нулевую гипотезу, нет оснований считать доли разными\n",
      "p-значение:  0.9236613722909124\n",
      "Не получилось отвергнуть нулевую гипотезу, нет оснований считать доли разными\n",
      "p-значение:  0.6983295296960459\n",
      "Не получилось отвергнуть нулевую гипотезу, нет оснований считать доли разными\n",
      "p-значение:  0.6969580996470051\n",
      "Не получилось отвергнуть нулевую гипотезу, нет оснований считать доли разными\n"
     ]
    }
   ],
   "source": [
    "for i in range(len(id_247)):\n",
    "    successes1 = id_248[i]\n",
    "    successes2 = id_247[i]\n",
    "\n",
    "    check_proportion(successes1, successes2, count_248, count_247)"
   ]
  },
  {
   "cell_type": "markdown",
   "metadata": {},
   "source": [
    "**Вывод:** Статистической разницы между группам 248 и 247 тоже нет."
   ]
  },
  {
   "cell_type": "markdown",
   "metadata": {},
   "source": [
    "### Статистическая разница между объединенной контрольной группой и 248"
   ]
  },
  {
   "cell_type": "code",
   "execution_count": 63,
   "metadata": {},
   "outputs": [
    {
     "data": {
      "text/html": [
       "<div>\n",
       "<style scoped>\n",
       "    .dataframe tbody tr th:only-of-type {\n",
       "        vertical-align: middle;\n",
       "    }\n",
       "\n",
       "    .dataframe tbody tr th {\n",
       "        vertical-align: top;\n",
       "    }\n",
       "\n",
       "    .dataframe thead th {\n",
       "        text-align: right;\n",
       "    }\n",
       "</style>\n",
       "<table border=\"1\" class=\"dataframe\">\n",
       "  <thead>\n",
       "    <tr style=\"text-align: right;\">\n",
       "      <th></th>\n",
       "      <th>event</th>\n",
       "      <th>id_246</th>\n",
       "      <th>id_247</th>\n",
       "      <th>id_248</th>\n",
       "    </tr>\n",
       "  </thead>\n",
       "  <tbody>\n",
       "    <tr>\n",
       "      <th>0</th>\n",
       "      <td>MainScreenAppear</td>\n",
       "      <td>2452</td>\n",
       "      <td>2479</td>\n",
       "      <td>2498</td>\n",
       "    </tr>\n",
       "    <tr>\n",
       "      <th>1</th>\n",
       "      <td>OffersScreenAppear</td>\n",
       "      <td>1544</td>\n",
       "      <td>1526</td>\n",
       "      <td>1536</td>\n",
       "    </tr>\n",
       "    <tr>\n",
       "      <th>2</th>\n",
       "      <td>CartScreenAppear</td>\n",
       "      <td>1267</td>\n",
       "      <td>1239</td>\n",
       "      <td>1236</td>\n",
       "    </tr>\n",
       "    <tr>\n",
       "      <th>3</th>\n",
       "      <td>PaymentScreenSuccessful</td>\n",
       "      <td>1200</td>\n",
       "      <td>1159</td>\n",
       "      <td>1183</td>\n",
       "    </tr>\n",
       "  </tbody>\n",
       "</table>\n",
       "</div>"
      ],
      "text/plain": [
       "                     event  id_246  id_247  id_248\n",
       "0         MainScreenAppear    2452    2479    2498\n",
       "1       OffersScreenAppear    1544    1526    1536\n",
       "2         CartScreenAppear    1267    1239    1236\n",
       "3  PaymentScreenSuccessful    1200    1159    1183"
      ]
     },
     "execution_count": 63,
     "metadata": {},
     "output_type": "execute_result"
    }
   ],
   "source": [
    "report"
   ]
  },
  {
   "cell_type": "code",
   "execution_count": 64,
   "metadata": {},
   "outputs": [
    {
     "name": "stdout",
     "output_type": "stream",
     "text": [
      "p-значение:  0.5004352349609864\n",
      "Не получилось отвергнуть нулевую гипотезу, нет оснований считать доли разными\n",
      "p-значение:  0.4589699094694544\n",
      "Не получилось отвергнуть нулевую гипотезу, нет оснований считать доли разными\n",
      "p-значение:  0.24382507685747923\n",
      "Не получилось отвергнуть нулевую гипотезу, нет оснований считать доли разными\n",
      "p-значение:  0.6402447407253697\n",
      "Не получилось отвергнуть нулевую гипотезу, нет оснований считать доли разными\n"
     ]
    }
   ],
   "source": [
    "for i in range(len(id_247)):\n",
    "    successes1 = id_248[i]   # Пользователи в событии в группе 248\n",
    "    successes2 = id_247[i] + id_246[i]   # Объединенные пользователи\n",
    "\n",
    "    check_proportion(successes1, successes2, count_248, (count_247+count_246))"
   ]
  },
  {
   "cell_type": "markdown",
   "metadata": {},
   "source": [
    "**Вывод:** Статистической разницы между группой 248 и объединенной группой тоже нет. "
   ]
  },
  {
   "cell_type": "markdown",
   "metadata": {},
   "source": [
    "### Выбор уровня значимости"
   ]
  },
  {
   "cell_type": "markdown",
   "metadata": {},
   "source": [
    "Мы проводили несколько сравнений на одних и тех же данных, то есть множественный тест. Таким образом, с каждой новой проверкой гипотез растет вероятность ошибки 1-го рода.\n",
    "\n",
    "При проверке я выбирала уровень статистической значимости 0.05. У нас 4 воронки из 4-х собтиый, то есть я провела 16 проверок. \n",
    "\n",
    "Чтобы снизить вероятность ложнопозитивного результата при множественном тестировании гипотез, я буду применять метод Бонферрони: "
   ]
  },
  {
   "cell_type": "code",
   "execution_count": 65,
   "metadata": {},
   "outputs": [
    {
     "data": {
      "text/plain": [
       "0.003125"
      ]
     },
     "execution_count": 65,
     "metadata": {},
     "output_type": "execute_result"
    }
   ],
   "source": [
    "alpha_new = 0.05 / 16\n",
    "alpha_new"
   ]
  },
  {
   "cell_type": "markdown",
   "metadata": {},
   "source": [
    "Так как у нас уже выведены значения p_value в предыдущих шагах, мы можем не проводить тесты еще раз, а просто сравнить значения с новым значением alpha. \n",
    "\n",
    "Во всех результатах теста у нас p_value был больше alpha, из-за чего мы не отвергали нулевую гипотезу. Сейчас alpha уменьшилась, за счет чего p_value все еще остался больше нового значения alpha.\n",
    "\n",
    "Таким образом, можно сделать вывод, что у нас нет оснований считать доли разными."
   ]
  },
  {
   "cell_type": "markdown",
   "metadata": {},
   "source": [
    "## Вывод:"
   ]
  },
  {
   "cell_type": "markdown",
   "metadata": {},
   "source": [
    " - В ходе предобработки были изменены названия столбцов, удалены дубликаты, данные преобразованы к нужному типу.\n",
    " - Было проведено исследование временного отрезка, за который представлены данные, в ходе которого были исключены данные, не входящие в этот временно отрезок.\n",
    " - Была построена воронка событий как для всех пользователей, так и с разделением по пользователям из разных групп.\n",
    " - Были проведены статистические тесты для выявления разницы в предсталенных выборках. В ходе тестов выяснилось, что у нас нет оснований считать доли разными. \n",
    " - Таким образом, данное тестирование можно считать корректным."
   ]
  }
 ],
 "metadata": {
  "ExecuteTimeLog": [
   {
    "duration": 728,
    "start_time": "2022-03-08T09:36:23.322Z"
   },
   {
    "duration": 368,
    "start_time": "2022-03-08T09:36:35.103Z"
   },
   {
    "duration": 538,
    "start_time": "2022-03-08T09:36:43.912Z"
   },
   {
    "duration": 19,
    "start_time": "2022-03-08T09:36:49.841Z"
   },
   {
    "duration": 159,
    "start_time": "2022-03-08T09:37:32.506Z"
   },
   {
    "duration": 11,
    "start_time": "2022-03-08T09:37:33.309Z"
   },
   {
    "duration": 22,
    "start_time": "2022-03-08T09:38:10.165Z"
   },
   {
    "duration": 55,
    "start_time": "2022-03-08T09:38:37.686Z"
   },
   {
    "duration": 3,
    "start_time": "2022-03-08T09:39:51.801Z"
   },
   {
    "duration": 23,
    "start_time": "2022-03-08T09:39:53.274Z"
   },
   {
    "duration": 77,
    "start_time": "2022-03-08T09:40:15.656Z"
   },
   {
    "duration": 93,
    "start_time": "2022-03-08T09:40:55.384Z"
   },
   {
    "duration": 85,
    "start_time": "2022-03-08T09:40:59.553Z"
   },
   {
    "duration": 88,
    "start_time": "2022-03-08T09:41:04.579Z"
   },
   {
    "duration": 77,
    "start_time": "2022-03-08T09:41:06.664Z"
   },
   {
    "duration": 21,
    "start_time": "2022-03-08T09:41:07.970Z"
   },
   {
    "duration": 4,
    "start_time": "2022-03-08T09:42:11.402Z"
   },
   {
    "duration": 19,
    "start_time": "2022-03-08T09:42:12.039Z"
   },
   {
    "duration": 74,
    "start_time": "2022-03-08T09:42:13.161Z"
   },
   {
    "duration": 83,
    "start_time": "2022-03-08T09:42:14.240Z"
   },
   {
    "duration": 10,
    "start_time": "2022-03-08T09:42:20.363Z"
   },
   {
    "duration": 11,
    "start_time": "2022-03-08T09:42:25.709Z"
   },
   {
    "duration": 111,
    "start_time": "2022-03-08T09:43:30.177Z"
   },
   {
    "duration": 13,
    "start_time": "2022-03-08T09:43:35.378Z"
   },
   {
    "duration": 3,
    "start_time": "2022-03-08T09:44:27.356Z"
   },
   {
    "duration": 153,
    "start_time": "2022-03-08T09:44:27.672Z"
   },
   {
    "duration": 14,
    "start_time": "2022-03-08T09:44:28.036Z"
   },
   {
    "duration": 4,
    "start_time": "2022-03-08T09:44:28.773Z"
   },
   {
    "duration": 19,
    "start_time": "2022-03-08T09:44:29.048Z"
   },
   {
    "duration": 76,
    "start_time": "2022-03-08T09:44:29.719Z"
   },
   {
    "duration": 86,
    "start_time": "2022-03-08T09:44:30.174Z"
   },
   {
    "duration": 10,
    "start_time": "2022-03-08T09:44:30.582Z"
   },
   {
    "duration": 110,
    "start_time": "2022-03-08T09:44:31.253Z"
   },
   {
    "duration": 14,
    "start_time": "2022-03-08T09:44:31.678Z"
   },
   {
    "duration": 24,
    "start_time": "2022-03-08T09:46:24.613Z"
   },
   {
    "duration": 20,
    "start_time": "2022-03-08T09:46:34.128Z"
   },
   {
    "duration": 8,
    "start_time": "2022-03-08T09:47:10.455Z"
   },
   {
    "duration": 103,
    "start_time": "2022-03-08T09:48:36.735Z"
   },
   {
    "duration": 45,
    "start_time": "2022-03-08T09:48:43.829Z"
   },
   {
    "duration": 6,
    "start_time": "2022-03-08T09:49:35.254Z"
   },
   {
    "duration": 6,
    "start_time": "2022-03-08T09:49:38.539Z"
   },
   {
    "duration": 97,
    "start_time": "2022-03-08T09:49:55.509Z"
   },
   {
    "duration": 12,
    "start_time": "2022-03-08T09:50:08.581Z"
   },
   {
    "duration": 47,
    "start_time": "2022-03-08T10:43:17.363Z"
   },
   {
    "duration": 45,
    "start_time": "2022-03-08T10:44:23.076Z"
   },
   {
    "duration": 812,
    "start_time": "2022-03-08T10:44:36.093Z"
   },
   {
    "duration": 147,
    "start_time": "2022-03-08T10:45:42.275Z"
   },
   {
    "duration": 297,
    "start_time": "2022-03-08T10:45:47.547Z"
   },
   {
    "duration": 633,
    "start_time": "2022-03-08T10:45:58.824Z"
   },
   {
    "duration": 163,
    "start_time": "2022-03-08T10:45:59.876Z"
   },
   {
    "duration": 10,
    "start_time": "2022-03-08T10:46:00.121Z"
   },
   {
    "duration": 4,
    "start_time": "2022-03-08T10:46:00.468Z"
   },
   {
    "duration": 21,
    "start_time": "2022-03-08T10:46:00.646Z"
   },
   {
    "duration": 73,
    "start_time": "2022-03-08T10:46:00.939Z"
   },
   {
    "duration": 76,
    "start_time": "2022-03-08T10:46:01.279Z"
   },
   {
    "duration": 10,
    "start_time": "2022-03-08T10:46:01.611Z"
   },
   {
    "duration": 111,
    "start_time": "2022-03-08T10:46:02.011Z"
   },
   {
    "duration": 13,
    "start_time": "2022-03-08T10:46:02.179Z"
   },
   {
    "duration": 21,
    "start_time": "2022-03-08T10:46:02.846Z"
   },
   {
    "duration": 8,
    "start_time": "2022-03-08T10:46:03.334Z"
   },
   {
    "duration": 7,
    "start_time": "2022-03-08T10:46:03.931Z"
   },
   {
    "duration": 60,
    "start_time": "2022-03-08T10:46:06.788Z"
   },
   {
    "duration": 386,
    "start_time": "2022-03-08T10:46:12.283Z"
   },
   {
    "duration": 277,
    "start_time": "2022-03-08T10:46:25.923Z"
   },
   {
    "duration": 345,
    "start_time": "2022-03-08T10:46:48.283Z"
   },
   {
    "duration": 264,
    "start_time": "2022-03-08T10:47:44.467Z"
   },
   {
    "duration": 319,
    "start_time": "2022-03-08T10:50:06.586Z"
   },
   {
    "duration": 3,
    "start_time": "2022-03-08T10:50:22.367Z"
   },
   {
    "duration": 157,
    "start_time": "2022-03-08T10:50:22.821Z"
   },
   {
    "duration": 11,
    "start_time": "2022-03-08T10:50:23.017Z"
   },
   {
    "duration": 3,
    "start_time": "2022-03-08T10:50:23.570Z"
   },
   {
    "duration": 22,
    "start_time": "2022-03-08T10:50:23.760Z"
   },
   {
    "duration": 79,
    "start_time": "2022-03-08T10:50:24.041Z"
   },
   {
    "duration": 81,
    "start_time": "2022-03-08T10:50:24.283Z"
   },
   {
    "duration": 10,
    "start_time": "2022-03-08T10:50:24.524Z"
   },
   {
    "duration": 109,
    "start_time": "2022-03-08T10:50:24.767Z"
   },
   {
    "duration": 14,
    "start_time": "2022-03-08T10:50:24.878Z"
   },
   {
    "duration": 22,
    "start_time": "2022-03-08T10:50:25.353Z"
   },
   {
    "duration": 8,
    "start_time": "2022-03-08T10:50:25.759Z"
   },
   {
    "duration": 10,
    "start_time": "2022-03-08T10:50:26.575Z"
   },
   {
    "duration": 46,
    "start_time": "2022-03-08T10:50:27.316Z"
   },
   {
    "duration": 269,
    "start_time": "2022-03-08T10:50:27.965Z"
   },
   {
    "duration": 276,
    "start_time": "2022-03-08T10:50:31.003Z"
   },
   {
    "duration": 523,
    "start_time": "2022-03-08T10:51:44.349Z"
   },
   {
    "duration": 45,
    "start_time": "2022-03-08T10:52:36.083Z"
   },
   {
    "duration": 315,
    "start_time": "2022-03-08T10:52:42.061Z"
   },
   {
    "duration": 684,
    "start_time": "2022-03-08T10:52:48.830Z"
   },
   {
    "duration": 282,
    "start_time": "2022-03-08T10:52:52.894Z"
   },
   {
    "duration": 318,
    "start_time": "2022-03-08T10:53:11.586Z"
   },
   {
    "duration": 30,
    "start_time": "2022-03-08T10:53:22.476Z"
   },
   {
    "duration": 377,
    "start_time": "2022-03-08T10:53:29.064Z"
   },
   {
    "duration": 281,
    "start_time": "2022-03-08T10:53:33.519Z"
   },
   {
    "duration": 281,
    "start_time": "2022-03-08T10:53:38.623Z"
   },
   {
    "duration": 279,
    "start_time": "2022-03-08T10:53:43.042Z"
   },
   {
    "duration": 275,
    "start_time": "2022-03-08T10:53:46.203Z"
   },
   {
    "duration": 4,
    "start_time": "2022-03-08T10:53:52.087Z"
   },
   {
    "duration": 155,
    "start_time": "2022-03-08T10:53:52.251Z"
   },
   {
    "duration": 10,
    "start_time": "2022-03-08T10:53:52.408Z"
   },
   {
    "duration": 4,
    "start_time": "2022-03-08T10:53:52.765Z"
   },
   {
    "duration": 25,
    "start_time": "2022-03-08T10:53:52.771Z"
   },
   {
    "duration": 76,
    "start_time": "2022-03-08T10:53:53.096Z"
   },
   {
    "duration": 82,
    "start_time": "2022-03-08T10:53:53.437Z"
   },
   {
    "duration": 11,
    "start_time": "2022-03-08T10:53:54.277Z"
   },
   {
    "duration": 108,
    "start_time": "2022-03-08T10:53:54.627Z"
   },
   {
    "duration": 13,
    "start_time": "2022-03-08T10:53:54.830Z"
   },
   {
    "duration": 21,
    "start_time": "2022-03-08T10:53:55.506Z"
   },
   {
    "duration": 7,
    "start_time": "2022-03-08T10:53:56.058Z"
   },
   {
    "duration": 8,
    "start_time": "2022-03-08T10:53:56.688Z"
   },
   {
    "duration": 46,
    "start_time": "2022-03-08T10:53:57.420Z"
   },
   {
    "duration": 53,
    "start_time": "2022-03-08T10:53:57.565Z"
   },
   {
    "duration": 331,
    "start_time": "2022-03-08T10:54:09.034Z"
   },
   {
    "duration": 458,
    "start_time": "2022-03-08T10:54:12.708Z"
   },
   {
    "duration": 352,
    "start_time": "2022-03-08T10:54:16.522Z"
   },
   {
    "duration": 33,
    "start_time": "2022-03-08T10:56:21.396Z"
   },
   {
    "duration": 394,
    "start_time": "2022-03-08T10:57:04.237Z"
   },
   {
    "duration": 327,
    "start_time": "2022-03-08T10:57:25.131Z"
   },
   {
    "duration": 405,
    "start_time": "2022-03-08T10:57:38.815Z"
   },
   {
    "duration": 390,
    "start_time": "2022-03-08T10:57:51.843Z"
   },
   {
    "duration": 4,
    "start_time": "2022-03-08T10:58:03.220Z"
   },
   {
    "duration": 171,
    "start_time": "2022-03-08T10:58:03.703Z"
   },
   {
    "duration": 15,
    "start_time": "2022-03-08T10:58:03.876Z"
   },
   {
    "duration": 4,
    "start_time": "2022-03-08T10:58:04.154Z"
   },
   {
    "duration": 28,
    "start_time": "2022-03-08T10:58:04.255Z"
   },
   {
    "duration": 114,
    "start_time": "2022-03-08T10:58:04.479Z"
   },
   {
    "duration": 115,
    "start_time": "2022-03-08T10:58:04.826Z"
   },
   {
    "duration": 14,
    "start_time": "2022-03-08T10:58:08.563Z"
   },
   {
    "duration": 197,
    "start_time": "2022-03-08T10:58:08.582Z"
   },
   {
    "duration": 19,
    "start_time": "2022-03-08T10:58:08.784Z"
   },
   {
    "duration": 42,
    "start_time": "2022-03-08T10:58:08.806Z"
   },
   {
    "duration": 29,
    "start_time": "2022-03-08T10:58:08.851Z"
   },
   {
    "duration": 9,
    "start_time": "2022-03-08T10:58:08.882Z"
   },
   {
    "duration": 47,
    "start_time": "2022-03-08T10:58:09.695Z"
   },
   {
    "duration": 1221,
    "start_time": "2022-03-08T10:58:11.212Z"
   },
   {
    "duration": 4,
    "start_time": "2022-03-08T10:58:50.521Z"
   },
   {
    "duration": 163,
    "start_time": "2022-03-08T10:58:51.189Z"
   },
   {
    "duration": 11,
    "start_time": "2022-03-08T10:58:51.355Z"
   },
   {
    "duration": 4,
    "start_time": "2022-03-08T10:58:51.547Z"
   },
   {
    "duration": 20,
    "start_time": "2022-03-08T10:58:51.688Z"
   },
   {
    "duration": 83,
    "start_time": "2022-03-08T10:58:51.909Z"
   },
   {
    "duration": 90,
    "start_time": "2022-03-08T10:58:52.126Z"
   },
   {
    "duration": 13,
    "start_time": "2022-03-08T10:58:52.371Z"
   },
   {
    "duration": 108,
    "start_time": "2022-03-08T10:58:52.697Z"
   },
   {
    "duration": 13,
    "start_time": "2022-03-08T10:58:52.873Z"
   },
   {
    "duration": 22,
    "start_time": "2022-03-08T10:58:53.622Z"
   },
   {
    "duration": 7,
    "start_time": "2022-03-08T10:58:54.186Z"
   },
   {
    "duration": 10,
    "start_time": "2022-03-08T10:58:54.783Z"
   },
   {
    "duration": 47,
    "start_time": "2022-03-08T10:58:55.691Z"
   },
   {
    "duration": 526,
    "start_time": "2022-03-08T10:58:56.181Z"
   },
   {
    "duration": 122,
    "start_time": "2022-03-08T10:59:52.430Z"
   },
   {
    "duration": 719,
    "start_time": "2022-03-08T10:59:55.885Z"
   },
   {
    "duration": 727,
    "start_time": "2022-03-08T11:00:02.720Z"
   },
   {
    "duration": 300,
    "start_time": "2022-03-08T11:00:14.252Z"
   },
   {
    "duration": 490,
    "start_time": "2022-03-08T11:00:28.666Z"
   },
   {
    "duration": 392,
    "start_time": "2022-03-08T11:01:39.196Z"
   },
   {
    "duration": 431,
    "start_time": "2022-03-08T11:01:46.511Z"
   },
   {
    "duration": 87,
    "start_time": "2022-03-08T11:02:00.553Z"
   },
   {
    "duration": 497,
    "start_time": "2022-03-08T11:02:07.243Z"
   },
   {
    "duration": 336,
    "start_time": "2022-03-08T11:05:29.479Z"
   },
   {
    "duration": 507,
    "start_time": "2022-03-08T11:06:47.310Z"
   },
   {
    "duration": 553,
    "start_time": "2022-03-08T11:07:45.741Z"
   },
   {
    "duration": 56,
    "start_time": "2022-03-08T11:08:38.260Z"
   },
   {
    "duration": 528,
    "start_time": "2022-03-08T11:08:40.064Z"
   },
   {
    "duration": 4,
    "start_time": "2022-03-08T11:12:31.930Z"
   },
   {
    "duration": 185,
    "start_time": "2022-03-08T11:12:32.562Z"
   },
   {
    "duration": 11,
    "start_time": "2022-03-08T11:12:33.210Z"
   },
   {
    "duration": 4,
    "start_time": "2022-03-08T11:12:34.055Z"
   },
   {
    "duration": 23,
    "start_time": "2022-03-08T11:12:34.436Z"
   },
   {
    "duration": 79,
    "start_time": "2022-03-08T11:12:35.306Z"
   },
   {
    "duration": 91,
    "start_time": "2022-03-08T11:12:36.334Z"
   },
   {
    "duration": 12,
    "start_time": "2022-03-08T11:12:36.957Z"
   },
   {
    "duration": 111,
    "start_time": "2022-03-08T11:12:37.747Z"
   },
   {
    "duration": 17,
    "start_time": "2022-03-08T11:12:38.164Z"
   },
   {
    "duration": 28,
    "start_time": "2022-03-08T11:12:39.777Z"
   },
   {
    "duration": 7,
    "start_time": "2022-03-08T11:12:40.795Z"
   },
   {
    "duration": 9,
    "start_time": "2022-03-08T11:12:41.619Z"
   },
   {
    "duration": 54,
    "start_time": "2022-03-08T11:12:45.238Z"
   },
   {
    "duration": 560,
    "start_time": "2022-03-08T11:12:45.592Z"
   },
   {
    "duration": 1238,
    "start_time": "2022-03-08T11:15:04.328Z"
   },
   {
    "duration": 1312,
    "start_time": "2022-03-08T11:15:59.364Z"
   },
   {
    "duration": 1173,
    "start_time": "2022-03-08T11:16:59.073Z"
   },
   {
    "duration": 29,
    "start_time": "2022-03-08T11:18:02.261Z"
   },
   {
    "duration": 57,
    "start_time": "2022-03-08T11:18:07.357Z"
   },
   {
    "duration": 4,
    "start_time": "2022-03-08T11:18:10.927Z"
   },
   {
    "duration": 179,
    "start_time": "2022-03-08T11:18:11.094Z"
   },
   {
    "duration": 15,
    "start_time": "2022-03-08T11:18:11.280Z"
   },
   {
    "duration": 4,
    "start_time": "2022-03-08T11:18:11.546Z"
   },
   {
    "duration": 33,
    "start_time": "2022-03-08T11:18:11.640Z"
   },
   {
    "duration": 71,
    "start_time": "2022-03-08T11:18:11.904Z"
   },
   {
    "duration": 91,
    "start_time": "2022-03-08T11:18:12.134Z"
   },
   {
    "duration": 11,
    "start_time": "2022-03-08T11:18:12.369Z"
   },
   {
    "duration": 117,
    "start_time": "2022-03-08T11:18:12.605Z"
   },
   {
    "duration": 15,
    "start_time": "2022-03-08T11:18:12.725Z"
   },
   {
    "duration": 24,
    "start_time": "2022-03-08T11:18:13.186Z"
   },
   {
    "duration": 10,
    "start_time": "2022-03-08T11:18:13.555Z"
   },
   {
    "duration": 8,
    "start_time": "2022-03-08T11:18:13.946Z"
   },
   {
    "duration": 46,
    "start_time": "2022-03-08T11:18:14.717Z"
   },
   {
    "duration": 554,
    "start_time": "2022-03-08T11:18:14.976Z"
   },
   {
    "duration": 27,
    "start_time": "2022-03-08T11:18:16.483Z"
   },
   {
    "duration": 3,
    "start_time": "2022-03-08T11:18:59.047Z"
   },
   {
    "duration": 156,
    "start_time": "2022-03-08T11:18:59.306Z"
   },
   {
    "duration": 12,
    "start_time": "2022-03-08T11:18:59.521Z"
   },
   {
    "duration": 4,
    "start_time": "2022-03-08T11:18:59.977Z"
   },
   {
    "duration": 22,
    "start_time": "2022-03-08T11:19:00.179Z"
   },
   {
    "duration": 102,
    "start_time": "2022-03-08T11:19:01.261Z"
   },
   {
    "duration": 81,
    "start_time": "2022-03-08T11:19:01.688Z"
   },
   {
    "duration": 12,
    "start_time": "2022-03-08T11:19:02.174Z"
   },
   {
    "duration": 191,
    "start_time": "2022-03-08T11:19:02.549Z"
   },
   {
    "duration": 45,
    "start_time": "2022-03-08T11:19:02.743Z"
   },
   {
    "duration": 20,
    "start_time": "2022-03-08T11:19:04.819Z"
   },
   {
    "duration": 8,
    "start_time": "2022-03-08T11:19:05.360Z"
   },
   {
    "duration": 8,
    "start_time": "2022-03-08T11:19:07.368Z"
   },
   {
    "duration": 46,
    "start_time": "2022-03-08T11:19:08.779Z"
   },
   {
    "duration": 770,
    "start_time": "2022-03-08T11:19:10.959Z"
   },
   {
    "duration": 26,
    "start_time": "2022-03-08T11:19:45.139Z"
   },
   {
    "duration": 12,
    "start_time": "2022-03-08T11:19:52.571Z"
   },
   {
    "duration": 11,
    "start_time": "2022-03-08T11:20:08.409Z"
   },
   {
    "duration": 26,
    "start_time": "2022-03-08T11:20:27.394Z"
   },
   {
    "duration": 51,
    "start_time": "2022-03-08T11:22:22.140Z"
   },
   {
    "duration": 323,
    "start_time": "2022-03-08T11:22:29.749Z"
   },
   {
    "duration": 51,
    "start_time": "2022-03-08T11:22:34.929Z"
   },
   {
    "duration": 52,
    "start_time": "2022-03-08T11:22:41.490Z"
   },
   {
    "duration": 45,
    "start_time": "2022-03-08T11:22:51.136Z"
   },
   {
    "duration": 45,
    "start_time": "2022-03-08T11:23:23.352Z"
   },
   {
    "duration": 88,
    "start_time": "2022-03-08T11:24:11.485Z"
   },
   {
    "duration": 42,
    "start_time": "2022-03-08T11:24:16.643Z"
   },
   {
    "duration": 1080,
    "start_time": "2022-03-08T17:37:19.106Z"
   },
   {
    "duration": 115,
    "start_time": "2022-03-08T17:37:20.187Z"
   },
   {
    "duration": 10,
    "start_time": "2022-03-08T17:37:20.303Z"
   },
   {
    "duration": 7,
    "start_time": "2022-03-08T17:37:20.315Z"
   },
   {
    "duration": 17,
    "start_time": "2022-03-08T17:37:20.423Z"
   },
   {
    "duration": 57,
    "start_time": "2022-03-08T17:37:21.176Z"
   },
   {
    "duration": 60,
    "start_time": "2022-03-08T17:37:21.640Z"
   },
   {
    "duration": 12,
    "start_time": "2022-03-08T17:37:22.028Z"
   },
   {
    "duration": 71,
    "start_time": "2022-03-08T17:37:22.422Z"
   },
   {
    "duration": 9,
    "start_time": "2022-03-08T17:37:22.636Z"
   },
   {
    "duration": 15,
    "start_time": "2022-03-08T17:37:23.697Z"
   },
   {
    "duration": 8,
    "start_time": "2022-03-08T17:37:24.376Z"
   },
   {
    "duration": 7,
    "start_time": "2022-03-08T17:37:25.091Z"
   },
   {
    "duration": 30,
    "start_time": "2022-03-08T17:37:25.880Z"
   },
   {
    "duration": 312,
    "start_time": "2022-03-08T17:37:26.372Z"
   },
   {
    "duration": 12,
    "start_time": "2022-03-08T17:37:27.235Z"
   },
   {
    "duration": 19,
    "start_time": "2022-03-08T17:37:27.988Z"
   },
   {
    "duration": 34,
    "start_time": "2022-03-08T17:37:28.864Z"
   },
   {
    "duration": 32,
    "start_time": "2022-03-08T17:37:29.813Z"
   },
   {
    "duration": 1131,
    "start_time": "2022-03-09T08:31:00.995Z"
   },
   {
    "duration": 134,
    "start_time": "2022-03-09T08:31:02.128Z"
   },
   {
    "duration": 10,
    "start_time": "2022-03-09T08:31:02.264Z"
   },
   {
    "duration": 3,
    "start_time": "2022-03-09T08:31:03.744Z"
   },
   {
    "duration": 17,
    "start_time": "2022-03-09T08:31:04.189Z"
   },
   {
    "duration": 63,
    "start_time": "2022-03-09T08:31:06.408Z"
   },
   {
    "duration": 69,
    "start_time": "2022-03-09T08:31:07.419Z"
   },
   {
    "duration": 13,
    "start_time": "2022-03-09T08:31:08.882Z"
   },
   {
    "duration": 78,
    "start_time": "2022-03-09T08:31:09.965Z"
   },
   {
    "duration": 11,
    "start_time": "2022-03-09T08:31:10.538Z"
   },
   {
    "duration": 18,
    "start_time": "2022-03-09T08:31:12.391Z"
   },
   {
    "duration": 7,
    "start_time": "2022-03-09T08:31:13.754Z"
   },
   {
    "duration": 7,
    "start_time": "2022-03-09T08:31:15.336Z"
   },
   {
    "duration": 36,
    "start_time": "2022-03-09T08:31:17.108Z"
   },
   {
    "duration": 350,
    "start_time": "2022-03-09T08:31:18.244Z"
   },
   {
    "duration": 9,
    "start_time": "2022-03-09T08:31:19.469Z"
   },
   {
    "duration": 21,
    "start_time": "2022-03-09T08:31:20.266Z"
   },
   {
    "duration": 37,
    "start_time": "2022-03-09T08:31:26.330Z"
   },
   {
    "duration": 35,
    "start_time": "2022-03-09T08:31:27.210Z"
   },
   {
    "duration": 4522,
    "start_time": "2022-03-09T08:34:34.652Z"
   },
   {
    "duration": 49,
    "start_time": "2022-03-09T08:34:57.179Z"
   },
   {
    "duration": 6,
    "start_time": "2022-03-09T08:35:00.316Z"
   },
   {
    "duration": 4,
    "start_time": "2022-03-09T08:36:14.333Z"
   },
   {
    "duration": 56,
    "start_time": "2022-03-09T08:37:41.161Z"
   },
   {
    "duration": 246,
    "start_time": "2022-03-09T08:37:49.639Z"
   },
   {
    "duration": 8,
    "start_time": "2022-03-09T08:37:53.533Z"
   },
   {
    "duration": 5,
    "start_time": "2022-03-09T08:38:24.327Z"
   },
   {
    "duration": 4297,
    "start_time": "2022-03-09T08:38:28.504Z"
   },
   {
    "duration": -84,
    "start_time": "2022-03-09T08:38:32.887Z"
   },
   {
    "duration": 3,
    "start_time": "2022-03-09T08:38:38.187Z"
   },
   {
    "duration": 115,
    "start_time": "2022-03-09T08:38:38.369Z"
   },
   {
    "duration": 8,
    "start_time": "2022-03-09T08:38:38.706Z"
   },
   {
    "duration": 3,
    "start_time": "2022-03-09T08:38:39.370Z"
   },
   {
    "duration": 16,
    "start_time": "2022-03-09T08:38:39.689Z"
   },
   {
    "duration": 49,
    "start_time": "2022-03-09T08:38:40.339Z"
   },
   {
    "duration": 61,
    "start_time": "2022-03-09T08:38:40.957Z"
   },
   {
    "duration": 12,
    "start_time": "2022-03-09T08:38:41.507Z"
   },
   {
    "duration": 74,
    "start_time": "2022-03-09T08:38:42.189Z"
   },
   {
    "duration": 10,
    "start_time": "2022-03-09T08:38:42.357Z"
   },
   {
    "duration": 16,
    "start_time": "2022-03-09T08:38:43.482Z"
   },
   {
    "duration": 6,
    "start_time": "2022-03-09T08:38:44.568Z"
   },
   {
    "duration": 7,
    "start_time": "2022-03-09T08:38:45.104Z"
   },
   {
    "duration": 36,
    "start_time": "2022-03-09T08:38:46.174Z"
   },
   {
    "duration": 361,
    "start_time": "2022-03-09T08:38:46.740Z"
   },
   {
    "duration": 9,
    "start_time": "2022-03-09T08:38:48.019Z"
   },
   {
    "duration": 16,
    "start_time": "2022-03-09T08:38:48.990Z"
   },
   {
    "duration": 38,
    "start_time": "2022-03-09T08:38:50.487Z"
   },
   {
    "duration": 34,
    "start_time": "2022-03-09T08:38:52.039Z"
   },
   {
    "duration": 4248,
    "start_time": "2022-03-09T08:38:54.112Z"
   },
   {
    "duration": 49,
    "start_time": "2022-03-09T08:39:28.531Z"
   },
   {
    "duration": 8,
    "start_time": "2022-03-09T08:39:29.911Z"
   },
   {
    "duration": 51,
    "start_time": "2022-03-09T08:44:52.898Z"
   },
   {
    "duration": 8,
    "start_time": "2022-03-09T08:44:54.133Z"
   },
   {
    "duration": 48,
    "start_time": "2022-03-09T08:45:39.846Z"
   },
   {
    "duration": 10,
    "start_time": "2022-03-09T08:45:40.485Z"
   },
   {
    "duration": 53,
    "start_time": "2022-03-09T08:45:45.124Z"
   },
   {
    "duration": 8,
    "start_time": "2022-03-09T08:45:46.784Z"
   },
   {
    "duration": 170,
    "start_time": "2022-03-09T08:46:53.301Z"
   },
   {
    "duration": 191,
    "start_time": "2022-03-09T08:58:04.413Z"
   },
   {
    "duration": 181,
    "start_time": "2022-03-09T08:58:10.264Z"
   },
   {
    "duration": 183,
    "start_time": "2022-03-09T08:58:23.394Z"
   },
   {
    "duration": 244,
    "start_time": "2022-03-09T09:12:51.188Z"
   },
   {
    "duration": 4,
    "start_time": "2022-03-09T09:12:54.423Z"
   },
   {
    "duration": 52,
    "start_time": "2022-03-09T09:12:55.194Z"
   },
   {
    "duration": 260,
    "start_time": "2022-03-09T09:12:57.812Z"
   },
   {
    "duration": 50,
    "start_time": "2022-03-09T09:13:10.335Z"
   },
   {
    "duration": 50,
    "start_time": "2022-03-09T09:13:18.446Z"
   },
   {
    "duration": 186,
    "start_time": "2022-03-09T09:13:19.447Z"
   },
   {
    "duration": 4,
    "start_time": "2022-03-09T09:13:22.432Z"
   },
   {
    "duration": 48,
    "start_time": "2022-03-09T09:13:23.182Z"
   },
   {
    "duration": 49,
    "start_time": "2022-03-09T09:13:27.024Z"
   },
   {
    "duration": 254,
    "start_time": "2022-03-09T09:13:39.020Z"
   },
   {
    "duration": 4,
    "start_time": "2022-03-09T09:14:01.946Z"
   },
   {
    "duration": 55,
    "start_time": "2022-03-09T09:14:02.862Z"
   },
   {
    "duration": 181,
    "start_time": "2022-03-09T09:14:04.249Z"
   },
   {
    "duration": 26,
    "start_time": "2022-03-09T09:15:48.222Z"
   },
   {
    "duration": 31,
    "start_time": "2022-03-09T09:15:52.583Z"
   },
   {
    "duration": 33,
    "start_time": "2022-03-09T09:16:06.589Z"
   },
   {
    "duration": 30,
    "start_time": "2022-03-09T09:16:23.400Z"
   },
   {
    "duration": 2,
    "start_time": "2022-03-09T09:26:44.891Z"
   },
   {
    "duration": 9,
    "start_time": "2022-03-09T09:28:59.549Z"
   },
   {
    "duration": 37,
    "start_time": "2022-03-09T09:29:43.575Z"
   },
   {
    "duration": 32,
    "start_time": "2022-03-09T09:29:44.360Z"
   },
   {
    "duration": 13,
    "start_time": "2022-03-09T09:31:13.494Z"
   },
   {
    "duration": 13,
    "start_time": "2022-03-09T09:31:24.293Z"
   },
   {
    "duration": 13,
    "start_time": "2022-03-09T09:31:45.928Z"
   },
   {
    "duration": 12,
    "start_time": "2022-03-09T09:31:46.752Z"
   },
   {
    "duration": 9,
    "start_time": "2022-03-09T09:37:57.940Z"
   },
   {
    "duration": 3,
    "start_time": "2022-03-09T09:41:58.842Z"
   },
   {
    "duration": 3,
    "start_time": "2022-03-09T09:45:05.795Z"
   },
   {
    "duration": 115,
    "start_time": "2022-03-09T09:45:06.092Z"
   },
   {
    "duration": 8,
    "start_time": "2022-03-09T09:45:06.294Z"
   },
   {
    "duration": 3,
    "start_time": "2022-03-09T09:45:06.675Z"
   },
   {
    "duration": 16,
    "start_time": "2022-03-09T09:45:06.861Z"
   },
   {
    "duration": 48,
    "start_time": "2022-03-09T09:45:07.215Z"
   },
   {
    "duration": 50,
    "start_time": "2022-03-09T09:45:07.556Z"
   },
   {
    "duration": 9,
    "start_time": "2022-03-09T09:45:08.886Z"
   },
   {
    "duration": 75,
    "start_time": "2022-03-09T09:45:08.898Z"
   },
   {
    "duration": 14,
    "start_time": "2022-03-09T09:45:08.975Z"
   },
   {
    "duration": 14,
    "start_time": "2022-03-09T09:45:09.192Z"
   },
   {
    "duration": 7,
    "start_time": "2022-03-09T09:45:10.055Z"
   },
   {
    "duration": 7,
    "start_time": "2022-03-09T09:45:10.346Z"
   },
   {
    "duration": 35,
    "start_time": "2022-03-09T09:45:11.078Z"
   },
   {
    "duration": 346,
    "start_time": "2022-03-09T09:45:11.469Z"
   },
   {
    "duration": 8,
    "start_time": "2022-03-09T09:45:12.021Z"
   },
   {
    "duration": 16,
    "start_time": "2022-03-09T09:45:12.587Z"
   },
   {
    "duration": 37,
    "start_time": "2022-03-09T09:45:13.473Z"
   },
   {
    "duration": 34,
    "start_time": "2022-03-09T09:45:13.997Z"
   },
   {
    "duration": 4,
    "start_time": "2022-03-09T09:45:14.958Z"
   },
   {
    "duration": 60,
    "start_time": "2022-03-09T09:45:15.306Z"
   },
   {
    "duration": 180,
    "start_time": "2022-03-09T09:45:15.648Z"
   },
   {
    "duration": 32,
    "start_time": "2022-03-09T09:45:17.354Z"
   },
   {
    "duration": 32,
    "start_time": "2022-03-09T09:45:20.612Z"
   },
   {
    "duration": 32,
    "start_time": "2022-03-09T09:45:22.144Z"
   },
   {
    "duration": 31,
    "start_time": "2022-03-09T09:45:26.514Z"
   },
   {
    "duration": 11,
    "start_time": "2022-03-09T09:45:27.385Z"
   },
   {
    "duration": 12,
    "start_time": "2022-03-09T09:45:27.767Z"
   },
   {
    "duration": 2,
    "start_time": "2022-03-09T09:45:30.740Z"
   },
   {
    "duration": 6,
    "start_time": "2022-03-09T09:46:50.188Z"
   },
   {
    "duration": 32,
    "start_time": "2022-03-09T09:49:58.341Z"
   },
   {
    "duration": 32,
    "start_time": "2022-03-09T09:49:58.866Z"
   },
   {
    "duration": 12,
    "start_time": "2022-03-09T09:49:59.646Z"
   },
   {
    "duration": 18,
    "start_time": "2022-03-09T09:50:00.059Z"
   },
   {
    "duration": 3,
    "start_time": "2022-03-09T09:50:00.978Z"
   },
   {
    "duration": 10,
    "start_time": "2022-03-09T09:50:01.658Z"
   },
   {
    "duration": 452,
    "start_time": "2022-03-09T09:54:50.723Z"
   },
   {
    "duration": 197,
    "start_time": "2022-03-09T09:55:06.320Z"
   },
   {
    "duration": 8,
    "start_time": "2022-03-09T09:56:09.080Z"
   },
   {
    "duration": 7,
    "start_time": "2022-03-09T09:56:25.827Z"
   },
   {
    "duration": 15,
    "start_time": "2022-03-09T09:56:29.689Z"
   },
   {
    "duration": 8,
    "start_time": "2022-03-09T09:57:20.750Z"
   },
   {
    "duration": 18,
    "start_time": "2022-03-09T09:57:24.079Z"
   },
   {
    "duration": 15,
    "start_time": "2022-03-09T09:57:43.928Z"
   },
   {
    "duration": 13,
    "start_time": "2022-03-09T09:57:57.552Z"
   },
   {
    "duration": 3,
    "start_time": "2022-03-09T09:58:22.538Z"
   },
   {
    "duration": 114,
    "start_time": "2022-03-09T09:58:22.738Z"
   },
   {
    "duration": 7,
    "start_time": "2022-03-09T09:58:22.938Z"
   },
   {
    "duration": 3,
    "start_time": "2022-03-09T09:58:23.393Z"
   },
   {
    "duration": 16,
    "start_time": "2022-03-09T09:58:23.638Z"
   },
   {
    "duration": 47,
    "start_time": "2022-03-09T09:58:24.348Z"
   },
   {
    "duration": 49,
    "start_time": "2022-03-09T09:58:24.512Z"
   },
   {
    "duration": 9,
    "start_time": "2022-03-09T09:58:24.805Z"
   },
   {
    "duration": 68,
    "start_time": "2022-03-09T09:58:25.346Z"
   },
   {
    "duration": 10,
    "start_time": "2022-03-09T09:58:25.665Z"
   },
   {
    "duration": 14,
    "start_time": "2022-03-09T09:58:26.593Z"
   },
   {
    "duration": 7,
    "start_time": "2022-03-09T09:58:27.160Z"
   },
   {
    "duration": 7,
    "start_time": "2022-03-09T09:58:27.701Z"
   },
   {
    "duration": 33,
    "start_time": "2022-03-09T09:58:28.764Z"
   },
   {
    "duration": 326,
    "start_time": "2022-03-09T09:58:29.036Z"
   },
   {
    "duration": 8,
    "start_time": "2022-03-09T09:58:29.413Z"
   },
   {
    "duration": 17,
    "start_time": "2022-03-09T09:58:29.779Z"
   },
   {
    "duration": 40,
    "start_time": "2022-03-09T09:59:07.678Z"
   },
   {
    "duration": 31,
    "start_time": "2022-03-09T09:59:08.428Z"
   },
   {
    "duration": 4,
    "start_time": "2022-03-09T09:59:11.808Z"
   },
   {
    "duration": 51,
    "start_time": "2022-03-09T09:59:12.294Z"
   },
   {
    "duration": 176,
    "start_time": "2022-03-09T09:59:13.792Z"
   },
   {
    "duration": 33,
    "start_time": "2022-03-09T10:00:18.743Z"
   },
   {
    "duration": 32,
    "start_time": "2022-03-09T10:00:19.615Z"
   },
   {
    "duration": 32,
    "start_time": "2022-03-09T10:00:29.182Z"
   },
   {
    "duration": 14,
    "start_time": "2022-03-09T10:01:03.823Z"
   },
   {
    "duration": 13,
    "start_time": "2022-03-09T10:01:18.728Z"
   },
   {
    "duration": 12,
    "start_time": "2022-03-09T10:01:19.357Z"
   },
   {
    "duration": 2,
    "start_time": "2022-03-09T10:01:23.928Z"
   },
   {
    "duration": 6,
    "start_time": "2022-03-09T10:01:24.492Z"
   },
   {
    "duration": 35,
    "start_time": "2022-03-09T10:04:31.417Z"
   },
   {
    "duration": 33,
    "start_time": "2022-03-09T10:04:32.155Z"
   },
   {
    "duration": 14,
    "start_time": "2022-03-09T10:04:32.558Z"
   },
   {
    "duration": 13,
    "start_time": "2022-03-09T10:04:33.639Z"
   },
   {
    "duration": 15,
    "start_time": "2022-03-09T10:04:34.050Z"
   },
   {
    "duration": 3,
    "start_time": "2022-03-09T10:04:34.704Z"
   },
   {
    "duration": 5,
    "start_time": "2022-03-09T10:04:35.060Z"
   },
   {
    "duration": 3,
    "start_time": "2022-03-09T10:05:45.893Z"
   },
   {
    "duration": 7,
    "start_time": "2022-03-09T10:05:57.701Z"
   },
   {
    "duration": 3,
    "start_time": "2022-03-09T10:07:35.603Z"
   },
   {
    "duration": 5,
    "start_time": "2022-03-09T10:07:39.574Z"
   },
   {
    "duration": 4,
    "start_time": "2022-03-09T10:07:55.903Z"
   },
   {
    "duration": 4,
    "start_time": "2022-03-09T10:08:12.561Z"
   },
   {
    "duration": 2,
    "start_time": "2022-03-09T10:08:34.381Z"
   },
   {
    "duration": 119,
    "start_time": "2022-03-09T10:08:34.577Z"
   },
   {
    "duration": 8,
    "start_time": "2022-03-09T10:08:34.777Z"
   },
   {
    "duration": 3,
    "start_time": "2022-03-09T10:08:35.170Z"
   },
   {
    "duration": 16,
    "start_time": "2022-03-09T10:08:35.359Z"
   },
   {
    "duration": 48,
    "start_time": "2022-03-09T10:08:39.941Z"
   },
   {
    "duration": 46,
    "start_time": "2022-03-09T10:08:40.373Z"
   },
   {
    "duration": 8,
    "start_time": "2022-03-09T10:08:40.760Z"
   },
   {
    "duration": 69,
    "start_time": "2022-03-09T10:08:41.135Z"
   },
   {
    "duration": 9,
    "start_time": "2022-03-09T10:08:41.350Z"
   },
   {
    "duration": 14,
    "start_time": "2022-03-09T10:08:42.224Z"
   },
   {
    "duration": 6,
    "start_time": "2022-03-09T10:08:42.903Z"
   },
   {
    "duration": 6,
    "start_time": "2022-03-09T10:08:43.456Z"
   },
   {
    "duration": 32,
    "start_time": "2022-03-09T10:08:44.220Z"
   },
   {
    "duration": 321,
    "start_time": "2022-03-09T10:08:44.592Z"
   },
   {
    "duration": 11,
    "start_time": "2022-03-09T10:08:45.015Z"
   },
   {
    "duration": 17,
    "start_time": "2022-03-09T10:08:45.465Z"
   },
   {
    "duration": 40,
    "start_time": "2022-03-09T10:08:46.085Z"
   },
   {
    "duration": 32,
    "start_time": "2022-03-09T10:08:46.458Z"
   },
   {
    "duration": 5,
    "start_time": "2022-03-09T10:08:47.087Z"
   },
   {
    "duration": 54,
    "start_time": "2022-03-09T10:08:47.290Z"
   },
   {
    "duration": 171,
    "start_time": "2022-03-09T10:08:47.477Z"
   },
   {
    "duration": 31,
    "start_time": "2022-03-09T10:08:51.018Z"
   },
   {
    "duration": 31,
    "start_time": "2022-03-09T10:08:51.510Z"
   },
   {
    "duration": 14,
    "start_time": "2022-03-09T10:08:52.108Z"
   },
   {
    "duration": 14,
    "start_time": "2022-03-09T10:08:53.356Z"
   },
   {
    "duration": 13,
    "start_time": "2022-03-09T10:08:53.753Z"
   },
   {
    "duration": 3,
    "start_time": "2022-03-09T10:08:54.474Z"
   },
   {
    "duration": 5,
    "start_time": "2022-03-09T10:08:54.995Z"
   },
   {
    "duration": 3,
    "start_time": "2022-03-09T10:08:57.172Z"
   },
   {
    "duration": 2,
    "start_time": "2022-03-09T10:08:58.317Z"
   },
   {
    "duration": 7,
    "start_time": "2022-03-09T10:08:59.733Z"
   },
   {
    "duration": 57,
    "start_time": "2022-03-09T10:09:39.769Z"
   },
   {
    "duration": 57,
    "start_time": "2022-03-09T10:09:47.656Z"
   },
   {
    "duration": 72,
    "start_time": "2022-03-09T10:09:50.135Z"
   },
   {
    "duration": 3,
    "start_time": "2022-03-09T10:09:54.828Z"
   },
   {
    "duration": 3,
    "start_time": "2022-03-09T10:11:06.738Z"
   },
   {
    "duration": 117,
    "start_time": "2022-03-09T10:11:06.894Z"
   },
   {
    "duration": 7,
    "start_time": "2022-03-09T10:11:07.321Z"
   },
   {
    "duration": 3,
    "start_time": "2022-03-09T10:11:07.825Z"
   },
   {
    "duration": 16,
    "start_time": "2022-03-09T10:11:08.018Z"
   },
   {
    "duration": 49,
    "start_time": "2022-03-09T10:11:08.374Z"
   },
   {
    "duration": 50,
    "start_time": "2022-03-09T10:11:08.758Z"
   },
   {
    "duration": 8,
    "start_time": "2022-03-09T10:11:09.671Z"
   },
   {
    "duration": 72,
    "start_time": "2022-03-09T10:11:09.681Z"
   },
   {
    "duration": 14,
    "start_time": "2022-03-09T10:11:09.755Z"
   },
   {
    "duration": 14,
    "start_time": "2022-03-09T10:11:10.873Z"
   },
   {
    "duration": 6,
    "start_time": "2022-03-09T10:11:11.532Z"
   },
   {
    "duration": 6,
    "start_time": "2022-03-09T10:11:12.137Z"
   },
   {
    "duration": 35,
    "start_time": "2022-03-09T10:11:12.765Z"
   },
   {
    "duration": 333,
    "start_time": "2022-03-09T10:11:13.029Z"
   },
   {
    "duration": 8,
    "start_time": "2022-03-09T10:11:13.364Z"
   },
   {
    "duration": 17,
    "start_time": "2022-03-09T10:11:13.575Z"
   },
   {
    "duration": 39,
    "start_time": "2022-03-09T10:11:14.106Z"
   },
   {
    "duration": 33,
    "start_time": "2022-03-09T10:11:14.471Z"
   },
   {
    "duration": 4,
    "start_time": "2022-03-09T10:11:15.073Z"
   },
   {
    "duration": 53,
    "start_time": "2022-03-09T10:11:15.251Z"
   },
   {
    "duration": 185,
    "start_time": "2022-03-09T10:11:15.442Z"
   },
   {
    "duration": 33,
    "start_time": "2022-03-09T10:11:16.728Z"
   },
   {
    "duration": 31,
    "start_time": "2022-03-09T10:11:17.171Z"
   },
   {
    "duration": 14,
    "start_time": "2022-03-09T10:11:17.459Z"
   },
   {
    "duration": 12,
    "start_time": "2022-03-09T10:11:18.170Z"
   },
   {
    "duration": 13,
    "start_time": "2022-03-09T10:11:18.345Z"
   },
   {
    "duration": 3,
    "start_time": "2022-03-09T10:11:18.698Z"
   },
   {
    "duration": 5,
    "start_time": "2022-03-09T10:11:18.870Z"
   },
   {
    "duration": 3,
    "start_time": "2022-03-09T10:11:19.357Z"
   },
   {
    "duration": 3,
    "start_time": "2022-03-09T10:11:19.723Z"
   },
   {
    "duration": 8,
    "start_time": "2022-03-09T10:11:20.054Z"
   },
   {
    "duration": 4,
    "start_time": "2022-03-09T10:11:52.266Z"
   },
   {
    "duration": 3,
    "start_time": "2022-03-09T10:11:53.281Z"
   },
   {
    "duration": 5,
    "start_time": "2022-03-09T10:12:01.346Z"
   },
   {
    "duration": 11,
    "start_time": "2022-03-09T10:12:26.789Z"
   },
   {
    "duration": 3,
    "start_time": "2022-03-09T10:13:12.736Z"
   },
   {
    "duration": 119,
    "start_time": "2022-03-09T10:13:12.894Z"
   },
   {
    "duration": 9,
    "start_time": "2022-03-09T10:13:13.077Z"
   },
   {
    "duration": 3,
    "start_time": "2022-03-09T10:13:13.473Z"
   },
   {
    "duration": 18,
    "start_time": "2022-03-09T10:13:13.636Z"
   },
   {
    "duration": 47,
    "start_time": "2022-03-09T10:13:13.949Z"
   },
   {
    "duration": 47,
    "start_time": "2022-03-09T10:13:14.240Z"
   },
   {
    "duration": 10,
    "start_time": "2022-03-09T10:13:14.515Z"
   },
   {
    "duration": 71,
    "start_time": "2022-03-09T10:13:14.884Z"
   },
   {
    "duration": 10,
    "start_time": "2022-03-09T10:13:15.129Z"
   },
   {
    "duration": 15,
    "start_time": "2022-03-09T10:13:15.890Z"
   },
   {
    "duration": 5,
    "start_time": "2022-03-09T10:13:16.487Z"
   },
   {
    "duration": 6,
    "start_time": "2022-03-09T10:13:17.054Z"
   },
   {
    "duration": 33,
    "start_time": "2022-03-09T10:13:18.485Z"
   },
   {
    "duration": 340,
    "start_time": "2022-03-09T10:13:18.933Z"
   },
   {
    "duration": 9,
    "start_time": "2022-03-09T10:13:19.680Z"
   },
   {
    "duration": 16,
    "start_time": "2022-03-09T10:13:20.076Z"
   },
   {
    "duration": 36,
    "start_time": "2022-03-09T10:13:20.889Z"
   },
   {
    "duration": 34,
    "start_time": "2022-03-09T10:13:27.389Z"
   },
   {
    "duration": 4,
    "start_time": "2022-03-09T10:13:28.448Z"
   },
   {
    "duration": 52,
    "start_time": "2022-03-09T10:13:28.931Z"
   },
   {
    "duration": 324,
    "start_time": "2022-03-09T10:13:29.923Z"
   },
   {
    "duration": 31,
    "start_time": "2022-03-09T10:13:50.166Z"
   },
   {
    "duration": 31,
    "start_time": "2022-03-09T10:13:50.461Z"
   },
   {
    "duration": 14,
    "start_time": "2022-03-09T10:13:50.762Z"
   },
   {
    "duration": 12,
    "start_time": "2022-03-09T10:13:51.510Z"
   },
   {
    "duration": 13,
    "start_time": "2022-03-09T10:13:51.766Z"
   },
   {
    "duration": 3,
    "start_time": "2022-03-09T10:13:52.168Z"
   },
   {
    "duration": 6,
    "start_time": "2022-03-09T10:13:52.505Z"
   },
   {
    "duration": 3,
    "start_time": "2022-03-09T10:13:53.039Z"
   },
   {
    "duration": 3,
    "start_time": "2022-03-09T10:13:53.244Z"
   },
   {
    "duration": 3,
    "start_time": "2022-03-09T10:13:53.432Z"
   },
   {
    "duration": 12,
    "start_time": "2022-03-09T10:13:53.615Z"
   },
   {
    "duration": 4,
    "start_time": "2022-03-09T10:14:12.434Z"
   },
   {
    "duration": 74,
    "start_time": "2022-03-09T10:15:40.132Z"
   },
   {
    "duration": 11,
    "start_time": "2022-03-09T10:15:47.515Z"
   },
   {
    "duration": 15,
    "start_time": "2022-03-09T10:15:52.906Z"
   },
   {
    "duration": 12,
    "start_time": "2022-03-09T10:16:03.469Z"
   },
   {
    "duration": 11,
    "start_time": "2022-03-09T10:16:04.114Z"
   },
   {
    "duration": 3,
    "start_time": "2022-03-09T10:16:14.101Z"
   },
   {
    "duration": 5,
    "start_time": "2022-03-09T10:16:14.804Z"
   },
   {
    "duration": 3,
    "start_time": "2022-03-09T10:16:21.837Z"
   },
   {
    "duration": 4,
    "start_time": "2022-03-09T10:16:25.635Z"
   },
   {
    "duration": 9,
    "start_time": "2022-03-09T10:16:42.070Z"
   },
   {
    "duration": 26,
    "start_time": "2022-03-09T10:23:22.823Z"
   },
   {
    "duration": 31,
    "start_time": "2022-03-09T10:23:27.136Z"
   },
   {
    "duration": 27,
    "start_time": "2022-03-09T10:24:02.178Z"
   },
   {
    "duration": 32,
    "start_time": "2022-03-09T10:24:04.382Z"
   },
   {
    "duration": 28,
    "start_time": "2022-03-09T10:27:26.307Z"
   },
   {
    "duration": 35,
    "start_time": "2022-03-09T10:27:29.687Z"
   },
   {
    "duration": 3,
    "start_time": "2022-03-09T10:27:41.300Z"
   },
   {
    "duration": 113,
    "start_time": "2022-03-09T10:27:41.395Z"
   },
   {
    "duration": 7,
    "start_time": "2022-03-09T10:27:41.510Z"
   },
   {
    "duration": 3,
    "start_time": "2022-03-09T10:27:41.633Z"
   },
   {
    "duration": 15,
    "start_time": "2022-03-09T10:27:41.731Z"
   },
   {
    "duration": 53,
    "start_time": "2022-03-09T10:27:41.898Z"
   },
   {
    "duration": 60,
    "start_time": "2022-03-09T10:27:42.063Z"
   },
   {
    "duration": 11,
    "start_time": "2022-03-09T10:27:42.230Z"
   },
   {
    "duration": 70,
    "start_time": "2022-03-09T10:27:42.392Z"
   },
   {
    "duration": 9,
    "start_time": "2022-03-09T10:27:42.485Z"
   },
   {
    "duration": 15,
    "start_time": "2022-03-09T10:27:42.811Z"
   },
   {
    "duration": 6,
    "start_time": "2022-03-09T10:27:43.062Z"
   },
   {
    "duration": 6,
    "start_time": "2022-03-09T10:27:43.317Z"
   },
   {
    "duration": 33,
    "start_time": "2022-03-09T10:27:43.651Z"
   },
   {
    "duration": 324,
    "start_time": "2022-03-09T10:27:43.826Z"
   },
   {
    "duration": 9,
    "start_time": "2022-03-09T10:27:44.481Z"
   },
   {
    "duration": 17,
    "start_time": "2022-03-09T10:27:44.634Z"
   },
   {
    "duration": 35,
    "start_time": "2022-03-09T10:27:44.913Z"
   },
   {
    "duration": 48,
    "start_time": "2022-03-09T10:27:45.051Z"
   },
   {
    "duration": 4,
    "start_time": "2022-03-09T10:27:45.302Z"
   },
   {
    "duration": 54,
    "start_time": "2022-03-09T10:27:46.228Z"
   },
   {
    "duration": 175,
    "start_time": "2022-03-09T10:27:46.446Z"
   },
   {
    "duration": 31,
    "start_time": "2022-03-09T10:27:48.756Z"
   },
   {
    "duration": 31,
    "start_time": "2022-03-09T10:27:49.777Z"
   },
   {
    "duration": 14,
    "start_time": "2022-03-09T10:27:49.810Z"
   },
   {
    "duration": 12,
    "start_time": "2022-03-09T10:27:50.343Z"
   },
   {
    "duration": 11,
    "start_time": "2022-03-09T10:27:50.628Z"
   },
   {
    "duration": 3,
    "start_time": "2022-03-09T10:27:51.098Z"
   },
   {
    "duration": 5,
    "start_time": "2022-03-09T10:27:52.246Z"
   },
   {
    "duration": 2,
    "start_time": "2022-03-09T10:27:52.473Z"
   },
   {
    "duration": 4,
    "start_time": "2022-03-09T10:27:52.615Z"
   },
   {
    "duration": 11,
    "start_time": "2022-03-09T10:27:53.693Z"
   },
   {
    "duration": 247,
    "start_time": "2022-03-09T10:28:16.574Z"
   },
   {
    "duration": 33,
    "start_time": "2022-03-09T10:28:22.584Z"
   },
   {
    "duration": 35,
    "start_time": "2022-03-09T10:28:44.599Z"
   },
   {
    "duration": 3,
    "start_time": "2022-03-09T10:28:52.332Z"
   },
   {
    "duration": 117,
    "start_time": "2022-03-09T10:28:52.429Z"
   },
   {
    "duration": 8,
    "start_time": "2022-03-09T10:28:52.547Z"
   },
   {
    "duration": 3,
    "start_time": "2022-03-09T10:28:52.670Z"
   },
   {
    "duration": 15,
    "start_time": "2022-03-09T10:28:52.761Z"
   },
   {
    "duration": 48,
    "start_time": "2022-03-09T10:28:52.921Z"
   },
   {
    "duration": 53,
    "start_time": "2022-03-09T10:28:53.083Z"
   },
   {
    "duration": 9,
    "start_time": "2022-03-09T10:28:53.253Z"
   },
   {
    "duration": 82,
    "start_time": "2022-03-09T10:28:53.421Z"
   },
   {
    "duration": 31,
    "start_time": "2022-03-09T10:28:53.505Z"
   },
   {
    "duration": 16,
    "start_time": "2022-03-09T10:28:53.870Z"
   },
   {
    "duration": 6,
    "start_time": "2022-03-09T10:28:54.088Z"
   },
   {
    "duration": 6,
    "start_time": "2022-03-09T10:28:54.349Z"
   },
   {
    "duration": 33,
    "start_time": "2022-03-09T10:28:54.677Z"
   },
   {
    "duration": 329,
    "start_time": "2022-03-09T10:28:54.848Z"
   },
   {
    "duration": 8,
    "start_time": "2022-03-09T10:28:55.179Z"
   },
   {
    "duration": 16,
    "start_time": "2022-03-09T10:28:55.189Z"
   },
   {
    "duration": 36,
    "start_time": "2022-03-09T10:28:55.434Z"
   },
   {
    "duration": 32,
    "start_time": "2022-03-09T10:28:55.602Z"
   },
   {
    "duration": 4,
    "start_time": "2022-03-09T10:28:55.878Z"
   },
   {
    "duration": 52,
    "start_time": "2022-03-09T10:28:55.935Z"
   },
   {
    "duration": 182,
    "start_time": "2022-03-09T10:28:56.019Z"
   },
   {
    "duration": 32,
    "start_time": "2022-03-09T10:28:57.246Z"
   },
   {
    "duration": 30,
    "start_time": "2022-03-09T10:28:57.776Z"
   },
   {
    "duration": 16,
    "start_time": "2022-03-09T10:28:58.980Z"
   },
   {
    "duration": 12,
    "start_time": "2022-03-09T10:28:59.334Z"
   },
   {
    "duration": 12,
    "start_time": "2022-03-09T10:28:59.489Z"
   },
   {
    "duration": 3,
    "start_time": "2022-03-09T10:29:00.920Z"
   },
   {
    "duration": 6,
    "start_time": "2022-03-09T10:29:01.093Z"
   },
   {
    "duration": 2,
    "start_time": "2022-03-09T10:29:01.285Z"
   },
   {
    "duration": 3,
    "start_time": "2022-03-09T10:29:01.861Z"
   },
   {
    "duration": 11,
    "start_time": "2022-03-09T10:29:02.050Z"
   },
   {
    "duration": 29,
    "start_time": "2022-03-09T10:29:05.186Z"
   },
   {
    "duration": 7,
    "start_time": "2022-03-09T10:29:09.335Z"
   },
   {
    "duration": 8,
    "start_time": "2022-03-09T10:29:23.739Z"
   },
   {
    "duration": 8,
    "start_time": "2022-03-09T10:29:30.751Z"
   },
   {
    "duration": 2,
    "start_time": "2022-03-09T10:29:43.464Z"
   },
   {
    "duration": 116,
    "start_time": "2022-03-09T10:29:43.547Z"
   },
   {
    "duration": 7,
    "start_time": "2022-03-09T10:29:43.665Z"
   },
   {
    "duration": 3,
    "start_time": "2022-03-09T10:29:43.797Z"
   },
   {
    "duration": 16,
    "start_time": "2022-03-09T10:29:43.882Z"
   },
   {
    "duration": 49,
    "start_time": "2022-03-09T10:29:44.048Z"
   },
   {
    "duration": 53,
    "start_time": "2022-03-09T10:29:44.215Z"
   },
   {
    "duration": 8,
    "start_time": "2022-03-09T10:29:44.382Z"
   },
   {
    "duration": 72,
    "start_time": "2022-03-09T10:29:44.550Z"
   },
   {
    "duration": 11,
    "start_time": "2022-03-09T10:29:44.643Z"
   },
   {
    "duration": 17,
    "start_time": "2022-03-09T10:29:44.970Z"
   },
   {
    "duration": 8,
    "start_time": "2022-03-09T10:29:45.225Z"
   },
   {
    "duration": 7,
    "start_time": "2022-03-09T10:29:45.481Z"
   },
   {
    "duration": 35,
    "start_time": "2022-03-09T10:29:45.809Z"
   },
   {
    "duration": 348,
    "start_time": "2022-03-09T10:29:45.978Z"
   },
   {
    "duration": 15,
    "start_time": "2022-03-09T10:29:46.329Z"
   },
   {
    "duration": 17,
    "start_time": "2022-03-09T10:29:46.346Z"
   },
   {
    "duration": 38,
    "start_time": "2022-03-09T10:29:46.574Z"
   },
   {
    "duration": 34,
    "start_time": "2022-03-09T10:29:46.731Z"
   },
   {
    "duration": 4,
    "start_time": "2022-03-09T10:29:46.984Z"
   },
   {
    "duration": 55,
    "start_time": "2022-03-09T10:29:47.068Z"
   },
   {
    "duration": 178,
    "start_time": "2022-03-09T10:29:47.156Z"
   },
   {
    "duration": 32,
    "start_time": "2022-03-09T10:29:47.578Z"
   },
   {
    "duration": 31,
    "start_time": "2022-03-09T10:29:47.664Z"
   },
   {
    "duration": 17,
    "start_time": "2022-03-09T10:29:47.748Z"
   },
   {
    "duration": 13,
    "start_time": "2022-03-09T10:29:47.908Z"
   },
   {
    "duration": 12,
    "start_time": "2022-03-09T10:29:47.992Z"
   },
   {
    "duration": 3,
    "start_time": "2022-03-09T10:29:48.167Z"
   },
   {
    "duration": 5,
    "start_time": "2022-03-09T10:29:48.267Z"
   },
   {
    "duration": 2,
    "start_time": "2022-03-09T10:29:48.327Z"
   },
   {
    "duration": 4,
    "start_time": "2022-03-09T10:29:48.418Z"
   },
   {
    "duration": 10,
    "start_time": "2022-03-09T10:29:48.490Z"
   },
   {
    "duration": 38,
    "start_time": "2022-03-09T10:29:48.832Z"
   },
   {
    "duration": 6,
    "start_time": "2022-03-09T10:29:51.899Z"
   },
   {
    "duration": 13,
    "start_time": "2022-03-09T10:31:13.512Z"
   },
   {
    "duration": 4,
    "start_time": "2022-03-09T10:31:28.725Z"
   },
   {
    "duration": 3,
    "start_time": "2022-03-09T10:31:48.270Z"
   },
   {
    "duration": 4,
    "start_time": "2022-03-09T10:31:59.272Z"
   },
   {
    "duration": 11,
    "start_time": "2022-03-09T10:32:41.699Z"
   },
   {
    "duration": 3,
    "start_time": "2022-03-09T10:32:58.433Z"
   },
   {
    "duration": 3,
    "start_time": "2022-03-09T10:32:59.865Z"
   },
   {
    "duration": 12,
    "start_time": "2022-03-09T10:33:10.957Z"
   },
   {
    "duration": 10,
    "start_time": "2022-03-09T10:33:25.753Z"
   },
   {
    "duration": 11,
    "start_time": "2022-03-09T10:34:11.912Z"
   },
   {
    "duration": 30,
    "start_time": "2022-03-09T10:35:11.851Z"
   },
   {
    "duration": 8,
    "start_time": "2022-03-09T10:35:12.457Z"
   },
   {
    "duration": 2,
    "start_time": "2022-03-09T10:35:17.253Z"
   },
   {
    "duration": 115,
    "start_time": "2022-03-09T10:35:17.417Z"
   },
   {
    "duration": 8,
    "start_time": "2022-03-09T10:35:17.571Z"
   },
   {
    "duration": 3,
    "start_time": "2022-03-09T10:35:17.888Z"
   },
   {
    "duration": 16,
    "start_time": "2022-03-09T10:35:18.285Z"
   },
   {
    "duration": 45,
    "start_time": "2022-03-09T10:35:18.355Z"
   },
   {
    "duration": 47,
    "start_time": "2022-03-09T10:35:18.663Z"
   },
   {
    "duration": 9,
    "start_time": "2022-03-09T10:35:18.983Z"
   },
   {
    "duration": 71,
    "start_time": "2022-03-09T10:35:19.277Z"
   },
   {
    "duration": 9,
    "start_time": "2022-03-09T10:35:19.423Z"
   },
   {
    "duration": 16,
    "start_time": "2022-03-09T10:35:20.023Z"
   },
   {
    "duration": 6,
    "start_time": "2022-03-09T10:35:20.516Z"
   },
   {
    "duration": 6,
    "start_time": "2022-03-09T10:35:21.013Z"
   },
   {
    "duration": 34,
    "start_time": "2022-03-09T10:35:21.667Z"
   },
   {
    "duration": 340,
    "start_time": "2022-03-09T10:35:22.006Z"
   },
   {
    "duration": 9,
    "start_time": "2022-03-09T10:35:22.633Z"
   },
   {
    "duration": 17,
    "start_time": "2022-03-09T10:35:22.997Z"
   },
   {
    "duration": 38,
    "start_time": "2022-03-09T10:35:23.533Z"
   },
   {
    "duration": 32,
    "start_time": "2022-03-09T10:35:25.182Z"
   },
   {
    "duration": 5,
    "start_time": "2022-03-09T10:35:27.001Z"
   },
   {
    "duration": 54,
    "start_time": "2022-03-09T10:35:27.197Z"
   },
   {
    "duration": 193,
    "start_time": "2022-03-09T10:35:28.338Z"
   },
   {
    "duration": 32,
    "start_time": "2022-03-09T10:35:32.812Z"
   },
   {
    "duration": 31,
    "start_time": "2022-03-09T10:35:34.565Z"
   },
   {
    "duration": 15,
    "start_time": "2022-03-09T10:35:35.090Z"
   },
   {
    "duration": 12,
    "start_time": "2022-03-09T10:35:40.878Z"
   },
   {
    "duration": 18,
    "start_time": "2022-03-09T10:35:41.247Z"
   },
   {
    "duration": 3,
    "start_time": "2022-03-09T10:35:42.090Z"
   },
   {
    "duration": 8,
    "start_time": "2022-03-09T10:35:42.469Z"
   },
   {
    "duration": 3,
    "start_time": "2022-03-09T10:35:43.032Z"
   },
   {
    "duration": 5,
    "start_time": "2022-03-09T10:35:43.340Z"
   },
   {
    "duration": 16,
    "start_time": "2022-03-09T10:35:43.721Z"
   },
   {
    "duration": 37,
    "start_time": "2022-03-09T10:35:52.833Z"
   },
   {
    "duration": 8,
    "start_time": "2022-03-09T10:35:53.853Z"
   },
   {
    "duration": 7,
    "start_time": "2022-03-09T10:36:02.328Z"
   },
   {
    "duration": 33,
    "start_time": "2022-03-09T10:36:26.918Z"
   },
   {
    "duration": 7,
    "start_time": "2022-03-09T10:36:27.646Z"
   },
   {
    "duration": 33,
    "start_time": "2022-03-09T10:36:34.529Z"
   },
   {
    "duration": 9,
    "start_time": "2022-03-09T10:36:35.074Z"
   },
   {
    "duration": 3,
    "start_time": "2022-03-09T10:36:38.271Z"
   },
   {
    "duration": 117,
    "start_time": "2022-03-09T10:36:38.301Z"
   },
   {
    "duration": 8,
    "start_time": "2022-03-09T10:36:38.420Z"
   },
   {
    "duration": 4,
    "start_time": "2022-03-09T10:36:38.548Z"
   },
   {
    "duration": 16,
    "start_time": "2022-03-09T10:36:38.639Z"
   },
   {
    "duration": 55,
    "start_time": "2022-03-09T10:36:38.798Z"
   },
   {
    "duration": 49,
    "start_time": "2022-03-09T10:36:39.048Z"
   },
   {
    "duration": 10,
    "start_time": "2022-03-09T10:36:39.154Z"
   },
   {
    "duration": 71,
    "start_time": "2022-03-09T10:36:39.325Z"
   },
   {
    "duration": 9,
    "start_time": "2022-03-09T10:36:39.398Z"
   },
   {
    "duration": 16,
    "start_time": "2022-03-09T10:36:40.177Z"
   },
   {
    "duration": 6,
    "start_time": "2022-03-09T10:36:40.396Z"
   },
   {
    "duration": 6,
    "start_time": "2022-03-09T10:36:40.624Z"
   },
   {
    "duration": 34,
    "start_time": "2022-03-09T10:36:40.955Z"
   },
   {
    "duration": 341,
    "start_time": "2022-03-09T10:36:41.126Z"
   },
   {
    "duration": 9,
    "start_time": "2022-03-09T10:36:41.469Z"
   },
   {
    "duration": 18,
    "start_time": "2022-03-09T10:36:41.480Z"
   },
   {
    "duration": 38,
    "start_time": "2022-03-09T10:36:42.560Z"
   },
   {
    "duration": 33,
    "start_time": "2022-03-09T10:36:42.948Z"
   },
   {
    "duration": 6,
    "start_time": "2022-03-09T10:36:45.098Z"
   },
   {
    "duration": 55,
    "start_time": "2022-03-09T10:36:45.260Z"
   },
   {
    "duration": 180,
    "start_time": "2022-03-09T10:36:45.411Z"
   },
   {
    "duration": 33,
    "start_time": "2022-03-09T10:36:46.041Z"
   },
   {
    "duration": 31,
    "start_time": "2022-03-09T10:36:46.177Z"
   },
   {
    "duration": 15,
    "start_time": "2022-03-09T10:36:46.389Z"
   },
   {
    "duration": 12,
    "start_time": "2022-03-09T10:36:47.289Z"
   },
   {
    "duration": 12,
    "start_time": "2022-03-09T10:36:47.464Z"
   },
   {
    "duration": 3,
    "start_time": "2022-03-09T10:36:47.897Z"
   },
   {
    "duration": 134,
    "start_time": "2022-03-09T10:36:48.075Z"
   },
   {
    "duration": 3,
    "start_time": "2022-03-09T10:36:48.545Z"
   },
   {
    "duration": 4,
    "start_time": "2022-03-09T10:36:48.865Z"
   },
   {
    "duration": 10,
    "start_time": "2022-03-09T10:36:49.138Z"
   },
   {
    "duration": 33,
    "start_time": "2022-03-09T10:36:54.109Z"
   },
   {
    "duration": 8,
    "start_time": "2022-03-09T10:36:55.002Z"
   },
   {
    "duration": 12,
    "start_time": "2022-03-09T10:37:00.716Z"
   },
   {
    "duration": 4,
    "start_time": "2022-03-09T10:37:01.580Z"
   },
   {
    "duration": 10,
    "start_time": "2022-03-09T10:37:02.483Z"
   },
   {
    "duration": 7,
    "start_time": "2022-03-09T10:37:45.941Z"
   },
   {
    "duration": 11,
    "start_time": "2022-03-09T10:38:13.245Z"
   },
   {
    "duration": 7,
    "start_time": "2022-03-09T10:39:48.841Z"
   },
   {
    "duration": 10,
    "start_time": "2022-03-09T10:42:41.246Z"
   },
   {
    "duration": 5,
    "start_time": "2022-03-09T10:45:04.263Z"
   },
   {
    "duration": 3,
    "start_time": "2022-03-09T10:45:04.969Z"
   },
   {
    "duration": 3,
    "start_time": "2022-03-09T10:45:05.363Z"
   },
   {
    "duration": 10,
    "start_time": "2022-03-09T10:45:05.699Z"
   },
   {
    "duration": 33,
    "start_time": "2022-03-09T10:45:07.404Z"
   },
   {
    "duration": 8,
    "start_time": "2022-03-09T10:45:07.610Z"
   },
   {
    "duration": 11,
    "start_time": "2022-03-09T10:45:07.929Z"
   },
   {
    "duration": 3,
    "start_time": "2022-03-09T10:45:08.426Z"
   },
   {
    "duration": 379,
    "start_time": "2022-03-09T10:45:08.681Z"
   },
   {
    "duration": 3,
    "start_time": "2022-03-09T10:45:13.095Z"
   },
   {
    "duration": 117,
    "start_time": "2022-03-09T10:45:13.183Z"
   },
   {
    "duration": 7,
    "start_time": "2022-03-09T10:45:13.302Z"
   },
   {
    "duration": 3,
    "start_time": "2022-03-09T10:45:13.434Z"
   },
   {
    "duration": 17,
    "start_time": "2022-03-09T10:45:13.512Z"
   },
   {
    "duration": 58,
    "start_time": "2022-03-09T10:45:13.681Z"
   },
   {
    "duration": 58,
    "start_time": "2022-03-09T10:45:13.845Z"
   },
   {
    "duration": 10,
    "start_time": "2022-03-09T10:45:14.074Z"
   },
   {
    "duration": 68,
    "start_time": "2022-03-09T10:45:14.187Z"
   },
   {
    "duration": 9,
    "start_time": "2022-03-09T10:45:14.274Z"
   },
   {
    "duration": 16,
    "start_time": "2022-03-09T10:45:14.605Z"
   },
   {
    "duration": 6,
    "start_time": "2022-03-09T10:45:14.859Z"
   },
   {
    "duration": 6,
    "start_time": "2022-03-09T10:45:15.131Z"
   },
   {
    "duration": 40,
    "start_time": "2022-03-09T10:45:15.438Z"
   },
   {
    "duration": 334,
    "start_time": "2022-03-09T10:45:15.605Z"
   },
   {
    "duration": 8,
    "start_time": "2022-03-09T10:45:15.941Z"
   },
   {
    "duration": 16,
    "start_time": "2022-03-09T10:45:15.951Z"
   },
   {
    "duration": 35,
    "start_time": "2022-03-09T10:45:16.199Z"
   },
   {
    "duration": 32,
    "start_time": "2022-03-09T10:45:16.364Z"
   },
   {
    "duration": 4,
    "start_time": "2022-03-09T10:45:16.623Z"
   },
   {
    "duration": 54,
    "start_time": "2022-03-09T10:45:16.730Z"
   },
   {
    "duration": 191,
    "start_time": "2022-03-09T10:45:16.786Z"
   },
   {
    "duration": 30,
    "start_time": "2022-03-09T10:45:17.770Z"
   },
   {
    "duration": 31,
    "start_time": "2022-03-09T10:45:18.117Z"
   },
   {
    "duration": 16,
    "start_time": "2022-03-09T10:45:18.384Z"
   },
   {
    "duration": 11,
    "start_time": "2022-03-09T10:45:18.858Z"
   },
   {
    "duration": 12,
    "start_time": "2022-03-09T10:45:19.057Z"
   },
   {
    "duration": 3,
    "start_time": "2022-03-09T10:45:20.062Z"
   },
   {
    "duration": 5,
    "start_time": "2022-03-09T10:45:20.546Z"
   },
   {
    "duration": 3,
    "start_time": "2022-03-09T10:45:21.099Z"
   },
   {
    "duration": 4,
    "start_time": "2022-03-09T10:45:21.444Z"
   },
   {
    "duration": 10,
    "start_time": "2022-03-09T10:45:21.793Z"
   },
   {
    "duration": 32,
    "start_time": "2022-03-09T10:45:22.502Z"
   },
   {
    "duration": 8,
    "start_time": "2022-03-09T10:45:25.050Z"
   },
   {
    "duration": 11,
    "start_time": "2022-03-09T10:45:25.257Z"
   },
   {
    "duration": 3,
    "start_time": "2022-03-09T10:45:25.466Z"
   },
   {
    "duration": 10,
    "start_time": "2022-03-09T10:45:26.022Z"
   },
   {
    "duration": 11,
    "start_time": "2022-03-09T10:45:27.255Z"
   },
   {
    "duration": 7,
    "start_time": "2022-03-09T10:45:29.236Z"
   },
   {
    "duration": 11,
    "start_time": "2022-03-09T10:45:30.700Z"
   },
   {
    "duration": 2,
    "start_time": "2022-03-09T10:55:33.078Z"
   },
   {
    "duration": 4,
    "start_time": "2022-03-09T10:55:36.565Z"
   },
   {
    "duration": 5,
    "start_time": "2022-03-09T10:58:27.101Z"
   },
   {
    "duration": 2,
    "start_time": "2022-03-09T10:58:27.596Z"
   },
   {
    "duration": 3,
    "start_time": "2022-03-09T10:58:27.959Z"
   },
   {
    "duration": 9,
    "start_time": "2022-03-09T10:58:28.706Z"
   },
   {
    "duration": 3,
    "start_time": "2022-03-09T11:06:34.252Z"
   },
   {
    "duration": 123,
    "start_time": "2022-03-09T11:06:34.395Z"
   },
   {
    "duration": 9,
    "start_time": "2022-03-09T11:06:34.535Z"
   },
   {
    "duration": 4,
    "start_time": "2022-03-09T11:06:34.811Z"
   },
   {
    "duration": 27,
    "start_time": "2022-03-09T11:06:34.991Z"
   },
   {
    "duration": 48,
    "start_time": "2022-03-09T11:06:35.234Z"
   },
   {
    "duration": 51,
    "start_time": "2022-03-09T11:06:35.509Z"
   },
   {
    "duration": 8,
    "start_time": "2022-03-09T11:06:35.878Z"
   },
   {
    "duration": 73,
    "start_time": "2022-03-09T11:06:36.271Z"
   },
   {
    "duration": 11,
    "start_time": "2022-03-09T11:06:36.346Z"
   },
   {
    "duration": 16,
    "start_time": "2022-03-09T11:06:37.005Z"
   },
   {
    "duration": 6,
    "start_time": "2022-03-09T11:06:37.486Z"
   },
   {
    "duration": 6,
    "start_time": "2022-03-09T11:06:37.982Z"
   },
   {
    "duration": 35,
    "start_time": "2022-03-09T11:06:38.649Z"
   },
   {
    "duration": 345,
    "start_time": "2022-03-09T11:06:38.937Z"
   },
   {
    "duration": 8,
    "start_time": "2022-03-09T11:06:39.284Z"
   },
   {
    "duration": 15,
    "start_time": "2022-03-09T11:06:39.541Z"
   },
   {
    "duration": 37,
    "start_time": "2022-03-09T11:06:40.160Z"
   },
   {
    "duration": 34,
    "start_time": "2022-03-09T11:06:40.492Z"
   },
   {
    "duration": 4,
    "start_time": "2022-03-09T11:06:41.057Z"
   },
   {
    "duration": 51,
    "start_time": "2022-03-09T11:06:41.191Z"
   },
   {
    "duration": 175,
    "start_time": "2022-03-09T11:06:41.357Z"
   },
   {
    "duration": 31,
    "start_time": "2022-03-09T11:06:42.666Z"
   },
   {
    "duration": 30,
    "start_time": "2022-03-09T11:06:42.854Z"
   },
   {
    "duration": 15,
    "start_time": "2022-03-09T11:06:43.069Z"
   },
   {
    "duration": 12,
    "start_time": "2022-03-09T11:06:43.451Z"
   },
   {
    "duration": 11,
    "start_time": "2022-03-09T11:06:43.619Z"
   },
   {
    "duration": 2,
    "start_time": "2022-03-09T11:06:43.979Z"
   },
   {
    "duration": 5,
    "start_time": "2022-03-09T11:06:44.156Z"
   },
   {
    "duration": 3,
    "start_time": "2022-03-09T11:06:44.320Z"
   },
   {
    "duration": 3,
    "start_time": "2022-03-09T11:06:44.492Z"
   },
   {
    "duration": 10,
    "start_time": "2022-03-09T11:06:44.666Z"
   },
   {
    "duration": 32,
    "start_time": "2022-03-09T11:06:45.259Z"
   },
   {
    "duration": 7,
    "start_time": "2022-03-09T11:06:45.437Z"
   },
   {
    "duration": 11,
    "start_time": "2022-03-09T11:06:45.637Z"
   },
   {
    "duration": 3,
    "start_time": "2022-03-09T11:06:45.829Z"
   },
   {
    "duration": 10,
    "start_time": "2022-03-09T11:06:46.037Z"
   },
   {
    "duration": 9,
    "start_time": "2022-03-09T11:06:46.681Z"
   },
   {
    "duration": 7,
    "start_time": "2022-03-09T11:06:47.642Z"
   },
   {
    "duration": 12,
    "start_time": "2022-03-09T11:06:47.819Z"
   },
   {
    "duration": 4,
    "start_time": "2022-03-09T11:06:49.112Z"
   },
   {
    "duration": 73,
    "start_time": "2022-03-10T06:24:28.892Z"
   },
   {
    "duration": 1051,
    "start_time": "2022-03-10T09:41:12.890Z"
   },
   {
    "duration": 119,
    "start_time": "2022-03-10T09:41:13.942Z"
   },
   {
    "duration": 9,
    "start_time": "2022-03-10T09:41:14.063Z"
   },
   {
    "duration": 3,
    "start_time": "2022-03-10T09:41:14.978Z"
   },
   {
    "duration": 16,
    "start_time": "2022-03-10T09:41:15.315Z"
   },
   {
    "duration": 60,
    "start_time": "2022-03-10T09:41:16.026Z"
   },
   {
    "duration": 64,
    "start_time": "2022-03-10T09:41:16.976Z"
   },
   {
    "duration": 11,
    "start_time": "2022-03-10T09:41:17.485Z"
   },
   {
    "duration": 72,
    "start_time": "2022-03-10T09:41:17.933Z"
   },
   {
    "duration": 10,
    "start_time": "2022-03-10T09:41:18.155Z"
   },
   {
    "duration": 15,
    "start_time": "2022-03-10T09:41:23.421Z"
   },
   {
    "duration": 7,
    "start_time": "2022-03-10T09:41:24.567Z"
   },
   {
    "duration": 6,
    "start_time": "2022-03-10T09:41:25.631Z"
   },
   {
    "duration": 32,
    "start_time": "2022-03-10T09:41:33.995Z"
   },
   {
    "duration": 303,
    "start_time": "2022-03-10T09:41:34.715Z"
   },
   {
    "duration": 10,
    "start_time": "2022-03-10T09:41:59.036Z"
   },
   {
    "duration": 19,
    "start_time": "2022-03-10T09:42:00.044Z"
   },
   {
    "duration": 35,
    "start_time": "2022-03-10T09:42:07.888Z"
   },
   {
    "duration": 29,
    "start_time": "2022-03-10T09:42:14.442Z"
   },
   {
    "duration": 4,
    "start_time": "2022-03-10T09:42:23.671Z"
   },
   {
    "duration": 51,
    "start_time": "2022-03-10T09:42:49.305Z"
   },
   {
    "duration": 183,
    "start_time": "2022-03-10T09:42:50.236Z"
   },
   {
    "duration": 30,
    "start_time": "2022-03-10T09:43:05.266Z"
   },
   {
    "duration": 28,
    "start_time": "2022-03-10T09:43:05.492Z"
   },
   {
    "duration": 16,
    "start_time": "2022-03-10T09:43:05.747Z"
   },
   {
    "duration": 15,
    "start_time": "2022-03-10T09:43:06.327Z"
   },
   {
    "duration": 12,
    "start_time": "2022-03-10T09:43:06.616Z"
   },
   {
    "duration": 2,
    "start_time": "2022-03-10T09:43:19.750Z"
   },
   {
    "duration": 5,
    "start_time": "2022-03-10T09:43:20.319Z"
   },
   {
    "duration": 3,
    "start_time": "2022-03-10T09:43:22.375Z"
   },
   {
    "duration": 3,
    "start_time": "2022-03-10T09:43:43.281Z"
   },
   {
    "duration": 454,
    "start_time": "2022-03-10T09:43:44.156Z"
   },
   {
    "duration": 5,
    "start_time": "2022-03-10T09:43:49.141Z"
   },
   {
    "duration": 3,
    "start_time": "2022-03-10T09:43:49.938Z"
   },
   {
    "duration": 3,
    "start_time": "2022-03-10T09:43:50.920Z"
   },
   {
    "duration": 353,
    "start_time": "2022-03-10T09:43:53.053Z"
   },
   {
    "duration": 3,
    "start_time": "2022-03-10T09:44:05.913Z"
   },
   {
    "duration": 116,
    "start_time": "2022-03-10T09:44:06.001Z"
   },
   {
    "duration": 7,
    "start_time": "2022-03-10T09:44:06.119Z"
   },
   {
    "duration": 4,
    "start_time": "2022-03-10T09:44:06.683Z"
   },
   {
    "duration": 23,
    "start_time": "2022-03-10T09:44:06.690Z"
   },
   {
    "duration": 59,
    "start_time": "2022-03-10T09:44:06.715Z"
   },
   {
    "duration": 45,
    "start_time": "2022-03-10T09:44:06.776Z"
   },
   {
    "duration": 9,
    "start_time": "2022-03-10T09:44:07.420Z"
   },
   {
    "duration": 70,
    "start_time": "2022-03-10T09:44:08.009Z"
   },
   {
    "duration": 10,
    "start_time": "2022-03-10T09:44:08.091Z"
   },
   {
    "duration": 14,
    "start_time": "2022-03-10T09:44:08.513Z"
   },
   {
    "duration": 7,
    "start_time": "2022-03-10T09:44:08.765Z"
   },
   {
    "duration": 8,
    "start_time": "2022-03-10T09:44:09.013Z"
   },
   {
    "duration": 44,
    "start_time": "2022-03-10T09:44:09.434Z"
   },
   {
    "duration": 316,
    "start_time": "2022-03-10T09:44:09.603Z"
   },
   {
    "duration": 8,
    "start_time": "2022-03-10T09:44:10.202Z"
   },
   {
    "duration": 15,
    "start_time": "2022-03-10T09:44:10.644Z"
   },
   {
    "duration": 35,
    "start_time": "2022-03-10T09:44:11.843Z"
   },
   {
    "duration": 31,
    "start_time": "2022-03-10T09:44:12.011Z"
   },
   {
    "duration": 4,
    "start_time": "2022-03-10T09:44:13.099Z"
   },
   {
    "duration": 50,
    "start_time": "2022-03-10T09:44:13.611Z"
   },
   {
    "duration": 156,
    "start_time": "2022-03-10T09:44:13.968Z"
   },
   {
    "duration": 30,
    "start_time": "2022-03-10T09:44:22.307Z"
   },
   {
    "duration": 28,
    "start_time": "2022-03-10T09:44:22.477Z"
   },
   {
    "duration": 14,
    "start_time": "2022-03-10T09:44:22.665Z"
   },
   {
    "duration": 11,
    "start_time": "2022-03-10T09:44:23.052Z"
   },
   {
    "duration": 11,
    "start_time": "2022-03-10T09:44:23.298Z"
   },
   {
    "duration": 2,
    "start_time": "2022-03-10T09:44:24.273Z"
   },
   {
    "duration": 6,
    "start_time": "2022-03-10T09:44:24.319Z"
   },
   {
    "duration": 2,
    "start_time": "2022-03-10T09:44:25.549Z"
   },
   {
    "duration": 3,
    "start_time": "2022-03-10T09:44:26.068Z"
   },
   {
    "duration": 430,
    "start_time": "2022-03-10T09:44:26.457Z"
   },
   {
    "duration": 5,
    "start_time": "2022-03-10T09:44:50.206Z"
   },
   {
    "duration": 3,
    "start_time": "2022-03-10T09:44:50.674Z"
   },
   {
    "duration": 3,
    "start_time": "2022-03-10T09:44:51.034Z"
   },
   {
    "duration": 9,
    "start_time": "2022-03-10T09:44:51.244Z"
   },
   {
    "duration": 29,
    "start_time": "2022-03-10T09:44:53.590Z"
   },
   {
    "duration": 7,
    "start_time": "2022-03-10T09:44:54.313Z"
   },
   {
    "duration": 11,
    "start_time": "2022-03-10T09:44:54.745Z"
   },
   {
    "duration": 3,
    "start_time": "2022-03-10T09:44:55.074Z"
   },
   {
    "duration": 10,
    "start_time": "2022-03-10T09:44:55.326Z"
   },
   {
    "duration": 10,
    "start_time": "2022-03-10T09:44:56.445Z"
   },
   {
    "duration": 6,
    "start_time": "2022-03-10T09:44:57.442Z"
   },
   {
    "duration": 10,
    "start_time": "2022-03-10T09:44:57.775Z"
   },
   {
    "duration": 3,
    "start_time": "2022-03-10T09:45:00.906Z"
   },
   {
    "duration": 3,
    "start_time": "2022-03-10T09:47:51.712Z"
   },
   {
    "duration": 116,
    "start_time": "2022-03-10T09:47:52.076Z"
   },
   {
    "duration": 8,
    "start_time": "2022-03-10T09:47:52.427Z"
   },
   {
    "duration": 3,
    "start_time": "2022-03-10T09:47:52.722Z"
   },
   {
    "duration": 16,
    "start_time": "2022-03-10T09:47:53.032Z"
   },
   {
    "duration": 42,
    "start_time": "2022-03-10T09:47:53.794Z"
   },
   {
    "duration": 46,
    "start_time": "2022-03-10T09:47:54.554Z"
   },
   {
    "duration": 8,
    "start_time": "2022-03-10T09:47:55.238Z"
   },
   {
    "duration": 70,
    "start_time": "2022-03-10T09:47:55.814Z"
   },
   {
    "duration": 9,
    "start_time": "2022-03-10T09:47:56.013Z"
   },
   {
    "duration": 13,
    "start_time": "2022-03-10T09:47:58.035Z"
   },
   {
    "duration": 6,
    "start_time": "2022-03-10T09:47:58.996Z"
   },
   {
    "duration": 6,
    "start_time": "2022-03-10T09:47:59.666Z"
   },
   {
    "duration": 34,
    "start_time": "2022-03-10T09:48:45.096Z"
   },
   {
    "duration": 25,
    "start_time": "2022-03-10T09:49:00.880Z"
   },
   {
    "duration": 183,
    "start_time": "2022-03-10T09:49:04.379Z"
   },
   {
    "duration": 237,
    "start_time": "2022-03-10T09:49:12.973Z"
   },
   {
    "duration": 252,
    "start_time": "2022-03-10T09:49:16.282Z"
   },
   {
    "duration": 210,
    "start_time": "2022-03-10T09:49:21.855Z"
   },
   {
    "duration": 308,
    "start_time": "2022-03-10T09:49:32.975Z"
   },
   {
    "duration": 301,
    "start_time": "2022-03-10T09:49:51.076Z"
   },
   {
    "duration": 305,
    "start_time": "2022-03-10T09:49:55.498Z"
   },
   {
    "duration": 303,
    "start_time": "2022-03-10T09:49:58.447Z"
   },
   {
    "duration": 401,
    "start_time": "2022-03-10T09:50:05.838Z"
   },
   {
    "duration": 19,
    "start_time": "2022-03-10T09:51:03.995Z"
   },
   {
    "duration": 246,
    "start_time": "2022-03-10T09:51:09.198Z"
   },
   {
    "duration": 261,
    "start_time": "2022-03-10T09:51:36.000Z"
   },
   {
    "duration": 251,
    "start_time": "2022-03-10T09:51:40.603Z"
   },
   {
    "duration": 282,
    "start_time": "2022-03-10T09:51:53.004Z"
   },
   {
    "duration": 182,
    "start_time": "2022-03-10T09:52:27.518Z"
   },
   {
    "duration": 301,
    "start_time": "2022-03-10T09:52:32.972Z"
   },
   {
    "duration": 132,
    "start_time": "2022-03-10T09:52:53.330Z"
   },
   {
    "duration": 177,
    "start_time": "2022-03-10T09:53:08.998Z"
   },
   {
    "duration": 173,
    "start_time": "2022-03-10T09:53:56.207Z"
   },
   {
    "duration": 415,
    "start_time": "2022-03-10T09:54:09.555Z"
   },
   {
    "duration": 349,
    "start_time": "2022-03-10T09:54:12.314Z"
   },
   {
    "duration": 371,
    "start_time": "2022-03-10T09:54:54.224Z"
   },
   {
    "duration": 284,
    "start_time": "2022-03-10T09:54:57.826Z"
   },
   {
    "duration": 181,
    "start_time": "2022-03-10T09:55:10.202Z"
   },
   {
    "duration": 31,
    "start_time": "2022-03-10T09:57:32.981Z"
   },
   {
    "duration": 307,
    "start_time": "2022-03-10T09:57:34.509Z"
   },
   {
    "duration": 8,
    "start_time": "2022-03-10T09:57:55.848Z"
   },
   {
    "duration": 19,
    "start_time": "2022-03-10T09:57:57.039Z"
   },
   {
    "duration": 2,
    "start_time": "2022-03-10T09:58:13.846Z"
   },
   {
    "duration": 115,
    "start_time": "2022-03-10T09:58:14.045Z"
   },
   {
    "duration": 7,
    "start_time": "2022-03-10T09:58:14.162Z"
   },
   {
    "duration": 2,
    "start_time": "2022-03-10T09:58:14.184Z"
   },
   {
    "duration": 14,
    "start_time": "2022-03-10T09:58:14.274Z"
   },
   {
    "duration": 42,
    "start_time": "2022-03-10T09:58:14.432Z"
   },
   {
    "duration": 45,
    "start_time": "2022-03-10T09:58:14.599Z"
   },
   {
    "duration": 8,
    "start_time": "2022-03-10T09:58:14.766Z"
   },
   {
    "duration": 69,
    "start_time": "2022-03-10T09:58:14.933Z"
   },
   {
    "duration": 10,
    "start_time": "2022-03-10T09:58:15.017Z"
   },
   {
    "duration": 14,
    "start_time": "2022-03-10T09:58:16.130Z"
   },
   {
    "duration": 6,
    "start_time": "2022-03-10T09:58:16.698Z"
   },
   {
    "duration": 6,
    "start_time": "2022-03-10T09:58:17.244Z"
   },
   {
    "duration": 190,
    "start_time": "2022-03-10T09:58:17.722Z"
   },
   {
    "duration": 33,
    "start_time": "2022-03-10T09:58:19.310Z"
   },
   {
    "duration": 296,
    "start_time": "2022-03-10T09:58:19.706Z"
   },
   {
    "duration": 8,
    "start_time": "2022-03-10T09:58:22.875Z"
   },
   {
    "duration": 6,
    "start_time": "2022-03-10T09:58:32.260Z"
   },
   {
    "duration": 15,
    "start_time": "2022-03-10T09:58:44.640Z"
   },
   {
    "duration": 8,
    "start_time": "2022-03-10T09:59:10.319Z"
   },
   {
    "duration": 10,
    "start_time": "2022-03-10T09:59:24.749Z"
   },
   {
    "duration": 58,
    "start_time": "2022-03-10T09:59:32.726Z"
   },
   {
    "duration": 14,
    "start_time": "2022-03-10T09:59:40.394Z"
   },
   {
    "duration": 8,
    "start_time": "2022-03-10T09:59:46.472Z"
   },
   {
    "duration": 6,
    "start_time": "2022-03-10T10:00:01.019Z"
   },
   {
    "duration": 17,
    "start_time": "2022-03-10T10:00:03.845Z"
   },
   {
    "duration": 4,
    "start_time": "2022-03-10T10:00:36.706Z"
   },
   {
    "duration": 4,
    "start_time": "2022-03-10T10:01:12.226Z"
   },
   {
    "duration": 6,
    "start_time": "2022-03-10T10:01:13.766Z"
   },
   {
    "duration": 6,
    "start_time": "2022-03-10T10:01:16.007Z"
   },
   {
    "duration": 4,
    "start_time": "2022-03-10T10:01:17.766Z"
   },
   {
    "duration": 190,
    "start_time": "2022-03-10T10:01:58.535Z"
   },
   {
    "duration": 179,
    "start_time": "2022-03-10T10:02:06.252Z"
   },
   {
    "duration": 6,
    "start_time": "2022-03-10T10:02:15.988Z"
   },
   {
    "duration": 169,
    "start_time": "2022-03-10T10:02:19.783Z"
   },
   {
    "duration": 14,
    "start_time": "2022-03-10T10:02:34.081Z"
   },
   {
    "duration": 13,
    "start_time": "2022-03-10T10:02:40.641Z"
   },
   {
    "duration": 14,
    "start_time": "2022-03-10T10:02:43.768Z"
   },
   {
    "duration": 5,
    "start_time": "2022-03-10T10:02:46.384Z"
   },
   {
    "duration": 6,
    "start_time": "2022-03-10T10:02:56.304Z"
   },
   {
    "duration": 4,
    "start_time": "2022-03-10T10:03:07.793Z"
   },
   {
    "duration": 5,
    "start_time": "2022-03-10T10:03:15.623Z"
   },
   {
    "duration": 3,
    "start_time": "2022-03-10T10:03:31.157Z"
   },
   {
    "duration": 118,
    "start_time": "2022-03-10T10:03:31.237Z"
   },
   {
    "duration": 10,
    "start_time": "2022-03-10T10:03:31.358Z"
   },
   {
    "duration": 3,
    "start_time": "2022-03-10T10:03:31.606Z"
   },
   {
    "duration": 16,
    "start_time": "2022-03-10T10:03:31.611Z"
   },
   {
    "duration": 48,
    "start_time": "2022-03-10T10:03:31.742Z"
   },
   {
    "duration": 57,
    "start_time": "2022-03-10T10:03:31.914Z"
   },
   {
    "duration": 11,
    "start_time": "2022-03-10T10:03:32.085Z"
   },
   {
    "duration": 116,
    "start_time": "2022-03-10T10:03:32.250Z"
   },
   {
    "duration": 12,
    "start_time": "2022-03-10T10:03:32.368Z"
   },
   {
    "duration": 15,
    "start_time": "2022-03-10T10:03:32.747Z"
   },
   {
    "duration": 5,
    "start_time": "2022-03-10T10:03:33.004Z"
   },
   {
    "duration": 6,
    "start_time": "2022-03-10T10:03:33.254Z"
   },
   {
    "duration": 190,
    "start_time": "2022-03-10T10:03:33.512Z"
   },
   {
    "duration": 32,
    "start_time": "2022-03-10T10:03:33.843Z"
   },
   {
    "duration": 297,
    "start_time": "2022-03-10T10:03:34.686Z"
   },
   {
    "duration": 8,
    "start_time": "2022-03-10T10:03:35.460Z"
   },
   {
    "duration": 3,
    "start_time": "2022-03-10T10:03:36.166Z"
   },
   {
    "duration": 7,
    "start_time": "2022-03-10T10:03:41.213Z"
   },
   {
    "duration": 4,
    "start_time": "2022-03-10T10:03:42.578Z"
   },
   {
    "duration": 16,
    "start_time": "2022-03-10T10:04:42.291Z"
   },
   {
    "duration": 34,
    "start_time": "2022-03-10T10:04:44.618Z"
   },
   {
    "duration": 30,
    "start_time": "2022-03-10T10:04:47.317Z"
   },
   {
    "duration": 4,
    "start_time": "2022-03-10T10:04:51.637Z"
   },
   {
    "duration": 3,
    "start_time": "2022-03-10T10:06:38.413Z"
   },
   {
    "duration": 4,
    "start_time": "2022-03-10T10:08:56.185Z"
   },
   {
    "duration": 52,
    "start_time": "2022-03-10T10:08:56.954Z"
   },
   {
    "duration": 182,
    "start_time": "2022-03-10T10:10:52.021Z"
   },
   {
    "duration": 4,
    "start_time": "2022-03-10T10:10:55.655Z"
   },
   {
    "duration": 50,
    "start_time": "2022-03-10T10:10:56.940Z"
   },
   {
    "duration": 3,
    "start_time": "2022-03-10T10:12:12.095Z"
   },
   {
    "duration": 54,
    "start_time": "2022-03-10T10:12:13.201Z"
   },
   {
    "duration": 4,
    "start_time": "2022-03-10T10:12:38.010Z"
   },
   {
    "duration": 49,
    "start_time": "2022-03-10T10:12:38.860Z"
   },
   {
    "duration": 21,
    "start_time": "2022-03-10T10:14:13.374Z"
   },
   {
    "duration": 22,
    "start_time": "2022-03-10T10:14:21.318Z"
   },
   {
    "duration": 149,
    "start_time": "2022-03-10T10:14:22.073Z"
   },
   {
    "duration": 204,
    "start_time": "2022-03-10T10:16:25.619Z"
   },
   {
    "duration": 4,
    "start_time": "2022-03-10T10:17:16.281Z"
   },
   {
    "duration": 52,
    "start_time": "2022-03-10T10:17:17.434Z"
   },
   {
    "duration": 23,
    "start_time": "2022-03-10T10:17:18.067Z"
   },
   {
    "duration": 157,
    "start_time": "2022-03-10T10:17:18.629Z"
   },
   {
    "duration": 35,
    "start_time": "2022-03-10T10:18:08.366Z"
   },
   {
    "duration": 35,
    "start_time": "2022-03-10T10:18:33.470Z"
   },
   {
    "duration": 13,
    "start_time": "2022-03-10T10:18:48.840Z"
   },
   {
    "duration": 3,
    "start_time": "2022-03-10T10:18:59.335Z"
   },
   {
    "duration": 3,
    "start_time": "2022-03-10T10:19:07.687Z"
   },
   {
    "duration": 4,
    "start_time": "2022-03-10T10:19:51.136Z"
   },
   {
    "duration": 6,
    "start_time": "2022-03-10T10:19:55.589Z"
   },
   {
    "duration": 3,
    "start_time": "2022-03-10T10:20:38.280Z"
   },
   {
    "duration": 10,
    "start_time": "2022-03-10T10:20:38.813Z"
   },
   {
    "duration": 173,
    "start_time": "2022-03-10T10:20:41.986Z"
   },
   {
    "duration": 38,
    "start_time": "2022-03-10T10:21:13.220Z"
   },
   {
    "duration": 7,
    "start_time": "2022-03-10T10:21:15.899Z"
   },
   {
    "duration": 2,
    "start_time": "2022-03-10T10:21:20.347Z"
   },
   {
    "duration": 3,
    "start_time": "2022-03-10T10:21:20.909Z"
   },
   {
    "duration": 10,
    "start_time": "2022-03-10T10:21:21.769Z"
   },
   {
    "duration": 10,
    "start_time": "2022-03-10T10:21:23.836Z"
   },
   {
    "duration": 7,
    "start_time": "2022-03-10T10:21:25.056Z"
   },
   {
    "duration": 11,
    "start_time": "2022-03-10T10:21:25.604Z"
   },
   {
    "duration": 3,
    "start_time": "2022-03-10T10:21:29.099Z"
   },
   {
    "duration": 3,
    "start_time": "2022-03-10T10:22:05.080Z"
   },
   {
    "duration": 110,
    "start_time": "2022-03-10T10:22:05.433Z"
   },
   {
    "duration": 7,
    "start_time": "2022-03-10T10:22:05.816Z"
   },
   {
    "duration": 3,
    "start_time": "2022-03-10T10:22:06.419Z"
   },
   {
    "duration": 15,
    "start_time": "2022-03-10T10:22:06.613Z"
   },
   {
    "duration": 43,
    "start_time": "2022-03-10T10:22:06.955Z"
   },
   {
    "duration": 45,
    "start_time": "2022-03-10T10:22:07.301Z"
   },
   {
    "duration": 7,
    "start_time": "2022-03-10T10:22:07.670Z"
   },
   {
    "duration": 67,
    "start_time": "2022-03-10T10:22:08.047Z"
   },
   {
    "duration": 9,
    "start_time": "2022-03-10T10:22:08.199Z"
   },
   {
    "duration": 15,
    "start_time": "2022-03-10T10:22:10.921Z"
   },
   {
    "duration": 5,
    "start_time": "2022-03-10T10:22:11.541Z"
   },
   {
    "duration": 5,
    "start_time": "2022-03-10T10:22:12.109Z"
   },
   {
    "duration": 183,
    "start_time": "2022-03-10T10:22:12.649Z"
   },
   {
    "duration": 31,
    "start_time": "2022-03-10T10:22:29.069Z"
   },
   {
    "duration": 315,
    "start_time": "2022-03-10T10:22:29.533Z"
   },
   {
    "duration": 8,
    "start_time": "2022-03-10T10:22:31.547Z"
   },
   {
    "duration": 2,
    "start_time": "2022-03-10T10:22:33.969Z"
   },
   {
    "duration": 7,
    "start_time": "2022-03-10T10:22:35.223Z"
   },
   {
    "duration": 4,
    "start_time": "2022-03-10T10:22:37.058Z"
   },
   {
    "duration": 7,
    "start_time": "2022-03-10T10:22:37.565Z"
   },
   {
    "duration": 16,
    "start_time": "2022-03-10T10:22:38.832Z"
   },
   {
    "duration": 35,
    "start_time": "2022-03-10T10:22:39.602Z"
   },
   {
    "duration": 31,
    "start_time": "2022-03-10T10:22:40.281Z"
   },
   {
    "duration": 3,
    "start_time": "2022-03-10T10:22:41.385Z"
   },
   {
    "duration": 4,
    "start_time": "2022-03-10T10:22:43.559Z"
   },
   {
    "duration": 52,
    "start_time": "2022-03-10T10:22:44.123Z"
   },
   {
    "duration": 28,
    "start_time": "2022-03-10T10:22:44.989Z"
   },
   {
    "duration": 166,
    "start_time": "2022-03-10T10:22:45.237Z"
   },
   {
    "duration": 38,
    "start_time": "2022-03-10T10:22:47.295Z"
   },
   {
    "duration": 36,
    "start_time": "2022-03-10T10:22:47.557Z"
   },
   {
    "duration": 18,
    "start_time": "2022-03-10T10:22:47.799Z"
   },
   {
    "duration": 2,
    "start_time": "2022-03-10T10:22:48.254Z"
   },
   {
    "duration": 2,
    "start_time": "2022-03-10T10:22:48.503Z"
   },
   {
    "duration": 2,
    "start_time": "2022-03-10T10:22:49.489Z"
   },
   {
    "duration": 6,
    "start_time": "2022-03-10T10:22:49.878Z"
   },
   {
    "duration": 2,
    "start_time": "2022-03-10T10:22:50.884Z"
   },
   {
    "duration": 4,
    "start_time": "2022-03-10T10:22:52.014Z"
   },
   {
    "duration": 10,
    "start_time": "2022-03-10T10:22:52.256Z"
   },
   {
    "duration": 37,
    "start_time": "2022-03-10T10:22:53.053Z"
   },
   {
    "duration": 7,
    "start_time": "2022-03-10T10:22:53.341Z"
   },
   {
    "duration": 2,
    "start_time": "2022-03-10T10:22:53.628Z"
   },
   {
    "duration": 3,
    "start_time": "2022-03-10T10:22:53.927Z"
   },
   {
    "duration": 10,
    "start_time": "2022-03-10T10:22:54.216Z"
   },
   {
    "duration": 9,
    "start_time": "2022-03-10T10:22:54.927Z"
   },
   {
    "duration": 7,
    "start_time": "2022-03-10T10:22:55.711Z"
   },
   {
    "duration": 10,
    "start_time": "2022-03-10T10:22:55.949Z"
   },
   {
    "duration": 3,
    "start_time": "2022-03-10T10:22:57.211Z"
   },
   {
    "duration": 1125,
    "start_time": "2022-03-10T13:33:44.701Z"
   },
   {
    "duration": 122,
    "start_time": "2022-03-10T13:33:45.828Z"
   },
   {
    "duration": 9,
    "start_time": "2022-03-10T13:33:45.952Z"
   },
   {
    "duration": 3,
    "start_time": "2022-03-10T13:33:45.962Z"
   },
   {
    "duration": 22,
    "start_time": "2022-03-10T13:33:45.967Z"
   },
   {
    "duration": 65,
    "start_time": "2022-03-10T13:33:45.991Z"
   },
   {
    "duration": 60,
    "start_time": "2022-03-10T13:33:46.281Z"
   },
   {
    "duration": 10,
    "start_time": "2022-03-10T13:33:46.632Z"
   },
   {
    "duration": 71,
    "start_time": "2022-03-10T13:33:46.984Z"
   },
   {
    "duration": 8,
    "start_time": "2022-03-10T13:33:47.154Z"
   },
   {
    "duration": 14,
    "start_time": "2022-03-10T13:33:48.085Z"
   },
   {
    "duration": 7,
    "start_time": "2022-03-10T13:33:48.801Z"
   },
   {
    "duration": 6,
    "start_time": "2022-03-10T13:33:49.392Z"
   },
   {
    "duration": 182,
    "start_time": "2022-03-10T13:33:50.040Z"
   },
   {
    "duration": 33,
    "start_time": "2022-03-10T13:33:50.984Z"
   },
   {
    "duration": 291,
    "start_time": "2022-03-10T13:33:51.424Z"
   },
   {
    "duration": 11,
    "start_time": "2022-03-10T13:33:52.343Z"
   },
   {
    "duration": 2,
    "start_time": "2022-03-10T13:33:52.808Z"
   },
   {
    "duration": 7,
    "start_time": "2022-03-10T13:33:53.560Z"
   },
   {
    "duration": 4,
    "start_time": "2022-03-10T13:33:54.304Z"
   },
   {
    "duration": 8,
    "start_time": "2022-03-10T13:33:55.008Z"
   },
   {
    "duration": 1438,
    "start_time": "2022-03-11T10:36:13.590Z"
   },
   {
    "duration": 171,
    "start_time": "2022-03-11T10:36:15.030Z"
   },
   {
    "duration": 15,
    "start_time": "2022-03-11T10:36:15.204Z"
   },
   {
    "duration": 4,
    "start_time": "2022-03-11T10:36:19.561Z"
   },
   {
    "duration": 21,
    "start_time": "2022-03-11T10:36:19.760Z"
   },
   {
    "duration": 100,
    "start_time": "2022-03-11T10:36:20.334Z"
   },
   {
    "duration": 94,
    "start_time": "2022-03-11T10:36:20.838Z"
   },
   {
    "duration": 15,
    "start_time": "2022-03-11T10:36:21.262Z"
   },
   {
    "duration": 103,
    "start_time": "2022-03-11T10:36:21.607Z"
   },
   {
    "duration": 16,
    "start_time": "2022-03-11T10:36:21.800Z"
   },
   {
    "duration": 22,
    "start_time": "2022-03-11T10:36:23.599Z"
   },
   {
    "duration": 11,
    "start_time": "2022-03-11T10:36:24.256Z"
   },
   {
    "duration": 9,
    "start_time": "2022-03-11T10:36:24.841Z"
   },
   {
    "duration": 305,
    "start_time": "2022-03-11T10:36:25.540Z"
   },
   {
    "duration": 43,
    "start_time": "2022-03-11T10:36:31.924Z"
   },
   {
    "duration": 516,
    "start_time": "2022-03-11T10:36:32.730Z"
   },
   {
    "duration": 14,
    "start_time": "2022-03-11T10:36:33.827Z"
   },
   {
    "duration": 3,
    "start_time": "2022-03-11T10:36:35.130Z"
   },
   {
    "duration": 8,
    "start_time": "2022-03-11T10:36:36.227Z"
   },
   {
    "duration": 6,
    "start_time": "2022-03-11T10:36:36.608Z"
   },
   {
    "duration": 8,
    "start_time": "2022-03-11T10:36:36.948Z"
   },
   {
    "duration": 25,
    "start_time": "2022-03-11T10:36:58.799Z"
   },
   {
    "duration": 44,
    "start_time": "2022-03-11T10:36:59.557Z"
   },
   {
    "duration": 41,
    "start_time": "2022-03-11T10:37:01.328Z"
   },
   {
    "duration": 3,
    "start_time": "2022-03-11T10:37:04.366Z"
   },
   {
    "duration": 6,
    "start_time": "2022-03-11T10:37:08.277Z"
   },
   {
    "duration": 74,
    "start_time": "2022-03-11T10:37:08.862Z"
   },
   {
    "duration": 34,
    "start_time": "2022-03-11T10:37:10.741Z"
   },
   {
    "duration": 315,
    "start_time": "2022-03-11T10:37:10.996Z"
   },
   {
    "duration": 73,
    "start_time": "2022-03-11T10:37:17.321Z"
   },
   {
    "duration": 74,
    "start_time": "2022-03-11T10:37:17.641Z"
   },
   {
    "duration": 30,
    "start_time": "2022-03-11T10:37:17.899Z"
   },
   {
    "duration": 3,
    "start_time": "2022-03-11T10:37:18.428Z"
   },
   {
    "duration": 3,
    "start_time": "2022-03-11T10:37:18.678Z"
   },
   {
    "duration": 3,
    "start_time": "2022-03-11T10:37:21.393Z"
   },
   {
    "duration": 8,
    "start_time": "2022-03-11T10:37:21.726Z"
   },
   {
    "duration": 3,
    "start_time": "2022-03-11T10:37:24.333Z"
   },
   {
    "duration": 4,
    "start_time": "2022-03-11T10:37:27.436Z"
   },
   {
    "duration": 15,
    "start_time": "2022-03-11T10:37:27.804Z"
   },
   {
    "duration": 52,
    "start_time": "2022-03-11T10:37:28.713Z"
   },
   {
    "duration": 10,
    "start_time": "2022-03-11T10:37:28.916Z"
   },
   {
    "duration": 3,
    "start_time": "2022-03-11T10:37:29.102Z"
   },
   {
    "duration": 4,
    "start_time": "2022-03-11T10:37:30.496Z"
   },
   {
    "duration": 24,
    "start_time": "2022-03-11T10:37:30.503Z"
   },
   {
    "duration": 22,
    "start_time": "2022-03-11T10:37:30.530Z"
   },
   {
    "duration": 14,
    "start_time": "2022-03-11T10:37:31.209Z"
   },
   {
    "duration": 18,
    "start_time": "2022-03-11T10:37:31.438Z"
   },
   {
    "duration": 5,
    "start_time": "2022-03-11T10:37:33.026Z"
   }
  ],
  "kernelspec": {
   "display_name": "Python 3 (ipykernel)",
   "language": "python",
   "name": "python3"
  },
  "language_info": {
   "codemirror_mode": {
    "name": "ipython",
    "version": 3
   },
   "file_extension": ".py",
   "mimetype": "text/x-python",
   "name": "python",
   "nbconvert_exporter": "python",
   "pygments_lexer": "ipython3",
   "version": "3.9.7"
  },
  "toc": {
   "base_numbering": 1,
   "nav_menu": {},
   "number_sections": true,
   "sideBar": true,
   "skip_h1_title": true,
   "title_cell": "Содержание проекта",
   "title_sidebar": "Contents",
   "toc_cell": true,
   "toc_position": {
    "height": "calc(100% - 180px)",
    "left": "10px",
    "top": "150px",
    "width": "383px"
   },
   "toc_section_display": true,
   "toc_window_display": true
  }
 },
 "nbformat": 4,
 "nbformat_minor": 2
}
