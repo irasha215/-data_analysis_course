{
 "cells": [
  {
   "cell_type": "markdown",
   "metadata": {
    "toc": true
   },
   "source": [
    "<h1>Содержание<span class=\"tocSkip\"></span></h1>\n",
    "<div class=\"toc\"><ul class=\"toc-item\"><li><span><a href=\"#Открытие-данных\" data-toc-modified-id=\"Открытие-данных-1\"><span class=\"toc-item-num\">1&nbsp;&nbsp;</span>Открытие данных</a></span></li><li><span><a href=\"#Предобработка-данных\" data-toc-modified-id=\"Предобработка-данных-2\"><span class=\"toc-item-num\">2&nbsp;&nbsp;</span>Предобработка данных</a></span><ul class=\"toc-item\"><li><span><a href=\"#Названия-столбцов\" data-toc-modified-id=\"Названия-столбцов-2.1\"><span class=\"toc-item-num\">2.1&nbsp;&nbsp;</span>Названия столбцов</a></span></li><li><span><a href=\"#Заполнение-пропусков\" data-toc-modified-id=\"Заполнение-пропусков-2.2\"><span class=\"toc-item-num\">2.2&nbsp;&nbsp;</span>Заполнение пропусков</a></span><ul class=\"toc-item\"><li><span><a href=\"#Name\" data-toc-modified-id=\"Name-2.2.1\"><span class=\"toc-item-num\">2.2.1&nbsp;&nbsp;</span>Name</a></span></li><li><span><a href=\"#Year-of-release\" data-toc-modified-id=\"Year-of-release-2.2.2\"><span class=\"toc-item-num\">2.2.2&nbsp;&nbsp;</span>Year of release</a></span></li><li><span><a href=\"#User-score-and-critic-score\" data-toc-modified-id=\"User-score-and-critic-score-2.2.3\"><span class=\"toc-item-num\">2.2.3&nbsp;&nbsp;</span>User score and critic score</a></span></li><li><span><a href=\"#Rating\" data-toc-modified-id=\"Rating-2.2.4\"><span class=\"toc-item-num\">2.2.4&nbsp;&nbsp;</span>Rating</a></span></li></ul></li><li><span><a href=\"#Преобразование-типов-данных\" data-toc-modified-id=\"Преобразование-типов-данных-2.3\"><span class=\"toc-item-num\">2.3&nbsp;&nbsp;</span>Преобразование типов данных</a></span></li><li><span><a href=\"#Расчеты-и-добавление-результатов-в-таблицу\" data-toc-modified-id=\"Расчеты-и-добавление-результатов-в-таблицу-2.4\"><span class=\"toc-item-num\">2.4&nbsp;&nbsp;</span>Расчеты и добавление результатов в таблицу</a></span></li><li><span><a href=\"#Описание-данных:\" data-toc-modified-id=\"Описание-данных:-2.5\"><span class=\"toc-item-num\">2.5&nbsp;&nbsp;</span>Описание данных:</a></span></li></ul></li><li><span><a href=\"#Исследовательский-анализ-данных\" data-toc-modified-id=\"Исследовательский-анализ-данных-3\"><span class=\"toc-item-num\">3&nbsp;&nbsp;</span>Исследовательский анализ данных</a></span><ul class=\"toc-item\"><li><span><a href=\"#Количество-игр-в-разные-годы\" data-toc-modified-id=\"Количество-игр-в-разные-годы-3.1\"><span class=\"toc-item-num\">3.1&nbsp;&nbsp;</span>Количество игр в разные годы</a></span></li><li><span><a href=\"#Продажи-в-зависимости-от-платформ\" data-toc-modified-id=\"Продажи-в-зависимости-от-платформ-3.2\"><span class=\"toc-item-num\">3.2&nbsp;&nbsp;</span>Продажи в зависимости от платформ</a></span></li><li><span><a href=\"#Влияние-отзывов-на-продажи\" data-toc-modified-id=\"Влияние-отзывов-на-продажи-3.3\"><span class=\"toc-item-num\">3.3&nbsp;&nbsp;</span>Влияние отзывов на продажи</a></span><ul class=\"toc-item\"><li><span><a href=\"#Влияние-отзывов-на-продажи-PS4\" data-toc-modified-id=\"Влияние-отзывов-на-продажи-PS4-3.3.1\"><span class=\"toc-item-num\">3.3.1&nbsp;&nbsp;</span>Влияние отзывов на продажи PS4</a></span></li><li><span><a href=\"#Соотнесение-с-другими-консолями\" data-toc-modified-id=\"Соотнесение-с-другими-консолями-3.3.2\"><span class=\"toc-item-num\">3.3.2&nbsp;&nbsp;</span>Соотнесение с другими консолями</a></span></li></ul></li><li><span><a href=\"#Распределение-игр-по-жанрам\" data-toc-modified-id=\"Распределение-игр-по-жанрам-3.4\"><span class=\"toc-item-num\">3.4&nbsp;&nbsp;</span>Распределение игр по жанрам</a></span></li></ul></li><li><span><a href=\"#Портрет-пользователя-каждого-региона\" data-toc-modified-id=\"Портрет-пользователя-каждого-региона-4\"><span class=\"toc-item-num\">4&nbsp;&nbsp;</span>Портрет пользователя каждого региона</a></span><ul class=\"toc-item\"><li><span><a href=\"#Платформы-в-зависимости-от-региона\" data-toc-modified-id=\"Платформы-в-зависимости-от-региона-4.1\"><span class=\"toc-item-num\">4.1&nbsp;&nbsp;</span>Платформы в зависимости от региона</a></span></li><li><span><a href=\"#Популярные-жанры-по-регионам\" data-toc-modified-id=\"Популярные-жанры-по-регионам-4.2\"><span class=\"toc-item-num\">4.2&nbsp;&nbsp;</span>Популярные жанры по регионам</a></span></li><li><span><a href=\"#Влияние-рейтинга-ERSB-на-продажи-в-разных-регионах.\" data-toc-modified-id=\"Влияние-рейтинга-ERSB-на-продажи-в-разных-регионах.-4.3\"><span class=\"toc-item-num\">4.3&nbsp;&nbsp;</span>Влияние рейтинга ERSB на продажи в разных регионах.</a></span></li></ul></li><li><span><a href=\"#Проверка-гипотез\" data-toc-modified-id=\"Проверка-гипотез-5\"><span class=\"toc-item-num\">5&nbsp;&nbsp;</span>Проверка гипотез</a></span><ul class=\"toc-item\"><li><span><a href=\"#Сравнение-пользовательских-рейтингов-платформ-Xbox-One-и-PC\" data-toc-modified-id=\"Сравнение-пользовательских-рейтингов-платформ-Xbox-One-и-PC-5.1\"><span class=\"toc-item-num\">5.1&nbsp;&nbsp;</span>Сравнение пользовательских рейтингов платформ Xbox One и PC</a></span></li><li><span><a href=\"#Сравнение-пользовательских-рейтингов-игр-в-жанре-Action-и-Sports\" data-toc-modified-id=\"Сравнение-пользовательских-рейтингов-игр-в-жанре-Action-и-Sports-5.2\"><span class=\"toc-item-num\">5.2&nbsp;&nbsp;</span>Сравнение пользовательских рейтингов игр в жанре Action и Sports</a></span></li></ul></li><li><span><a href=\"#Вывод\" data-toc-modified-id=\"Вывод-6\"><span class=\"toc-item-num\">6&nbsp;&nbsp;</span>Вывод</a></span></li></ul></div>"
   ]
  },
  {
   "cell_type": "markdown",
   "metadata": {},
   "source": [
    "# Сборный проект"
   ]
  },
  {
   "cell_type": "markdown",
   "metadata": {},
   "source": [
    "## Открытие данных"
   ]
  },
  {
   "cell_type": "code",
   "execution_count": 286,
   "metadata": {},
   "outputs": [],
   "source": [
    "import pandas as pd\n",
    "import matplotlib.pyplot as plt\n",
    "import warnings\n",
    "import seaborn as sns\n",
    "from scipy import stats as st\n",
    "from plotly.subplots import make_subplots\n",
    "import plotly.graph_objects as go\n",
    "import math"
   ]
  },
  {
   "cell_type": "code",
   "execution_count": 287,
   "metadata": {},
   "outputs": [],
   "source": [
    "data = pd.read_csv('/Users/irinasaahmetova/Downloads/games.csv')"
   ]
  },
  {
   "cell_type": "code",
   "execution_count": 288,
   "metadata": {
    "scrolled": false
   },
   "outputs": [
    {
     "data": {
      "text/html": [
       "<div>\n",
       "<style scoped>\n",
       "    .dataframe tbody tr th:only-of-type {\n",
       "        vertical-align: middle;\n",
       "    }\n",
       "\n",
       "    .dataframe tbody tr th {\n",
       "        vertical-align: top;\n",
       "    }\n",
       "\n",
       "    .dataframe thead th {\n",
       "        text-align: right;\n",
       "    }\n",
       "</style>\n",
       "<table border=\"1\" class=\"dataframe\">\n",
       "  <thead>\n",
       "    <tr style=\"text-align: right;\">\n",
       "      <th></th>\n",
       "      <th>Name</th>\n",
       "      <th>Platform</th>\n",
       "      <th>Year_of_Release</th>\n",
       "      <th>Genre</th>\n",
       "      <th>NA_sales</th>\n",
       "      <th>EU_sales</th>\n",
       "      <th>JP_sales</th>\n",
       "      <th>Other_sales</th>\n",
       "      <th>Critic_Score</th>\n",
       "      <th>User_Score</th>\n",
       "      <th>Rating</th>\n",
       "    </tr>\n",
       "  </thead>\n",
       "  <tbody>\n",
       "    <tr>\n",
       "      <th>0</th>\n",
       "      <td>Wii Sports</td>\n",
       "      <td>Wii</td>\n",
       "      <td>2006.0</td>\n",
       "      <td>Sports</td>\n",
       "      <td>41.36</td>\n",
       "      <td>28.96</td>\n",
       "      <td>3.77</td>\n",
       "      <td>8.45</td>\n",
       "      <td>76.0</td>\n",
       "      <td>8</td>\n",
       "      <td>E</td>\n",
       "    </tr>\n",
       "    <tr>\n",
       "      <th>1</th>\n",
       "      <td>Super Mario Bros.</td>\n",
       "      <td>NES</td>\n",
       "      <td>1985.0</td>\n",
       "      <td>Platform</td>\n",
       "      <td>29.08</td>\n",
       "      <td>3.58</td>\n",
       "      <td>6.81</td>\n",
       "      <td>0.77</td>\n",
       "      <td>NaN</td>\n",
       "      <td>NaN</td>\n",
       "      <td>NaN</td>\n",
       "    </tr>\n",
       "    <tr>\n",
       "      <th>2</th>\n",
       "      <td>Mario Kart Wii</td>\n",
       "      <td>Wii</td>\n",
       "      <td>2008.0</td>\n",
       "      <td>Racing</td>\n",
       "      <td>15.68</td>\n",
       "      <td>12.76</td>\n",
       "      <td>3.79</td>\n",
       "      <td>3.29</td>\n",
       "      <td>82.0</td>\n",
       "      <td>8.3</td>\n",
       "      <td>E</td>\n",
       "    </tr>\n",
       "    <tr>\n",
       "      <th>3</th>\n",
       "      <td>Wii Sports Resort</td>\n",
       "      <td>Wii</td>\n",
       "      <td>2009.0</td>\n",
       "      <td>Sports</td>\n",
       "      <td>15.61</td>\n",
       "      <td>10.93</td>\n",
       "      <td>3.28</td>\n",
       "      <td>2.95</td>\n",
       "      <td>80.0</td>\n",
       "      <td>8</td>\n",
       "      <td>E</td>\n",
       "    </tr>\n",
       "    <tr>\n",
       "      <th>4</th>\n",
       "      <td>Pokemon Red/Pokemon Blue</td>\n",
       "      <td>GB</td>\n",
       "      <td>1996.0</td>\n",
       "      <td>Role-Playing</td>\n",
       "      <td>11.27</td>\n",
       "      <td>8.89</td>\n",
       "      <td>10.22</td>\n",
       "      <td>1.00</td>\n",
       "      <td>NaN</td>\n",
       "      <td>NaN</td>\n",
       "      <td>NaN</td>\n",
       "    </tr>\n",
       "  </tbody>\n",
       "</table>\n",
       "</div>"
      ],
      "text/plain": [
       "                       Name Platform  Year_of_Release         Genre  NA_sales  \\\n",
       "0                Wii Sports      Wii           2006.0        Sports     41.36   \n",
       "1         Super Mario Bros.      NES           1985.0      Platform     29.08   \n",
       "2            Mario Kart Wii      Wii           2008.0        Racing     15.68   \n",
       "3         Wii Sports Resort      Wii           2009.0        Sports     15.61   \n",
       "4  Pokemon Red/Pokemon Blue       GB           1996.0  Role-Playing     11.27   \n",
       "\n",
       "   EU_sales  JP_sales  Other_sales  Critic_Score User_Score Rating  \n",
       "0     28.96      3.77         8.45          76.0          8      E  \n",
       "1      3.58      6.81         0.77           NaN        NaN    NaN  \n",
       "2     12.76      3.79         3.29          82.0        8.3      E  \n",
       "3     10.93      3.28         2.95          80.0          8      E  \n",
       "4      8.89     10.22         1.00           NaN        NaN    NaN  "
      ]
     },
     "execution_count": 288,
     "metadata": {},
     "output_type": "execute_result"
    }
   ],
   "source": [
    "data.head()"
   ]
  },
  {
   "cell_type": "code",
   "execution_count": 289,
   "metadata": {
    "scrolled": true
   },
   "outputs": [
    {
     "name": "stdout",
     "output_type": "stream",
     "text": [
      "<class 'pandas.core.frame.DataFrame'>\n",
      "RangeIndex: 16715 entries, 0 to 16714\n",
      "Data columns (total 11 columns):\n",
      " #   Column           Non-Null Count  Dtype  \n",
      "---  ------           --------------  -----  \n",
      " 0   Name             16713 non-null  object \n",
      " 1   Platform         16715 non-null  object \n",
      " 2   Year_of_Release  16446 non-null  float64\n",
      " 3   Genre            16713 non-null  object \n",
      " 4   NA_sales         16715 non-null  float64\n",
      " 5   EU_sales         16715 non-null  float64\n",
      " 6   JP_sales         16715 non-null  float64\n",
      " 7   Other_sales      16715 non-null  float64\n",
      " 8   Critic_Score     8137 non-null   float64\n",
      " 9   User_Score       10014 non-null  object \n",
      " 10  Rating           9949 non-null   object \n",
      "dtypes: float64(6), object(5)\n",
      "memory usage: 1.4+ MB\n"
     ]
    }
   ],
   "source": [
    "data.info()"
   ]
  },
  {
   "cell_type": "markdown",
   "metadata": {},
   "source": [
    "## Предобработка данных"
   ]
  },
  {
   "cell_type": "markdown",
   "metadata": {},
   "source": [
    "### Названия столбцов"
   ]
  },
  {
   "cell_type": "code",
   "execution_count": 290,
   "metadata": {},
   "outputs": [],
   "source": [
    "data.columns = data.columns.str.lower()"
   ]
  },
  {
   "cell_type": "markdown",
   "metadata": {},
   "source": [
    "### Заполнение пропусков"
   ]
  },
  {
   "cell_type": "markdown",
   "metadata": {},
   "source": [
    "#### Name"
   ]
  },
  {
   "cell_type": "code",
   "execution_count": 291,
   "metadata": {},
   "outputs": [
    {
     "data": {
      "text/html": [
       "<div>\n",
       "<style scoped>\n",
       "    .dataframe tbody tr th:only-of-type {\n",
       "        vertical-align: middle;\n",
       "    }\n",
       "\n",
       "    .dataframe tbody tr th {\n",
       "        vertical-align: top;\n",
       "    }\n",
       "\n",
       "    .dataframe thead th {\n",
       "        text-align: right;\n",
       "    }\n",
       "</style>\n",
       "<table border=\"1\" class=\"dataframe\">\n",
       "  <thead>\n",
       "    <tr style=\"text-align: right;\">\n",
       "      <th></th>\n",
       "      <th>name</th>\n",
       "      <th>platform</th>\n",
       "      <th>year_of_release</th>\n",
       "      <th>genre</th>\n",
       "      <th>na_sales</th>\n",
       "      <th>eu_sales</th>\n",
       "      <th>jp_sales</th>\n",
       "      <th>other_sales</th>\n",
       "      <th>critic_score</th>\n",
       "      <th>user_score</th>\n",
       "      <th>rating</th>\n",
       "    </tr>\n",
       "  </thead>\n",
       "  <tbody>\n",
       "    <tr>\n",
       "      <th>659</th>\n",
       "      <td>NaN</td>\n",
       "      <td>GEN</td>\n",
       "      <td>1993.0</td>\n",
       "      <td>NaN</td>\n",
       "      <td>1.78</td>\n",
       "      <td>0.53</td>\n",
       "      <td>0.00</td>\n",
       "      <td>0.08</td>\n",
       "      <td>NaN</td>\n",
       "      <td>NaN</td>\n",
       "      <td>NaN</td>\n",
       "    </tr>\n",
       "    <tr>\n",
       "      <th>14244</th>\n",
       "      <td>NaN</td>\n",
       "      <td>GEN</td>\n",
       "      <td>1993.0</td>\n",
       "      <td>NaN</td>\n",
       "      <td>0.00</td>\n",
       "      <td>0.00</td>\n",
       "      <td>0.03</td>\n",
       "      <td>0.00</td>\n",
       "      <td>NaN</td>\n",
       "      <td>NaN</td>\n",
       "      <td>NaN</td>\n",
       "    </tr>\n",
       "  </tbody>\n",
       "</table>\n",
       "</div>"
      ],
      "text/plain": [
       "      name platform  year_of_release genre  na_sales  eu_sales  jp_sales  \\\n",
       "659    NaN      GEN           1993.0   NaN      1.78      0.53      0.00   \n",
       "14244  NaN      GEN           1993.0   NaN      0.00      0.00      0.03   \n",
       "\n",
       "       other_sales  critic_score user_score rating  \n",
       "659           0.08           NaN        NaN    NaN  \n",
       "14244         0.00           NaN        NaN    NaN  "
      ]
     },
     "execution_count": 291,
     "metadata": {},
     "output_type": "execute_result"
    }
   ],
   "source": [
    "data[data['name'].isna()]"
   ]
  },
  {
   "cell_type": "markdown",
   "metadata": {},
   "source": [
    "Как мне кажется, данных строк очень мало, поэтому их можно просто удалить. Возможно ввиду достаточно далекого года выпуска данные об этих играх были утеряны."
   ]
  },
  {
   "cell_type": "code",
   "execution_count": 292,
   "metadata": {},
   "outputs": [],
   "source": [
    "data.dropna(subset=['name'], inplace=True)"
   ]
  },
  {
   "cell_type": "markdown",
   "metadata": {},
   "source": [
    "#### Year of release"
   ]
  },
  {
   "cell_type": "code",
   "execution_count": 293,
   "metadata": {},
   "outputs": [
    {
     "data": {
      "text/plain": [
       "269"
      ]
     },
     "execution_count": 293,
     "metadata": {},
     "output_type": "execute_result"
    }
   ],
   "source": [
    "len(data[data['year_of_release'].isna()])"
   ]
  },
  {
   "cell_type": "markdown",
   "metadata": {},
   "source": [
    "Данных значений так же не так много, можно просто удалить эти строки"
   ]
  },
  {
   "cell_type": "code",
   "execution_count": 294,
   "metadata": {},
   "outputs": [],
   "source": [
    "data.dropna(subset=['year_of_release'], inplace=True)"
   ]
  },
  {
   "cell_type": "markdown",
   "metadata": {},
   "source": [
    "#### User score and critic score"
   ]
  },
  {
   "cell_type": "markdown",
   "metadata": {},
   "source": [
    "В обоих столбцах достаточно много пропусков, следовательно, удалять их нецелесообразно. Также их замена может привести к искажению результатов анализа. Вввиду этого мы просто оставим данные пропуски. "
   ]
  },
  {
   "cell_type": "markdown",
   "metadata": {},
   "source": [
    "#### Rating"
   ]
  },
  {
   "cell_type": "code",
   "execution_count": 295,
   "metadata": {},
   "outputs": [
    {
     "data": {
      "text/plain": [
       "array(['E', nan, 'M', 'T', 'E10+', 'K-A', 'AO', 'EC', 'RP'], dtype=object)"
      ]
     },
     "execution_count": 295,
     "metadata": {},
     "output_type": "execute_result"
    }
   ],
   "source": [
    "data['rating'].unique()"
   ]
  },
  {
   "cell_type": "markdown",
   "metadata": {},
   "source": [
    "**Расшифровка:**\n",
    "\n",
    "* E - Everyone(6+)\n",
    "* M - Mature(17+)\n",
    "* T - Teen(13-19)\n",
    "* E10+ - Everyone 10 and older\n",
    "* K-A - ?\n",
    "* AO - Adults Only 18+\n",
    "* EC - Early childhood\n",
    "* RP - Rating Pending"
   ]
  },
  {
   "cell_type": "code",
   "execution_count": 296,
   "metadata": {},
   "outputs": [],
   "source": [
    "# Заменим пропуски на 'unknown'\n",
    "\n",
    "data['rating'] = data['rating'].fillna('unknown')"
   ]
  },
  {
   "cell_type": "markdown",
   "metadata": {},
   "source": [
    "### Преобразование типов данных"
   ]
  },
  {
   "cell_type": "code",
   "execution_count": 297,
   "metadata": {},
   "outputs": [
    {
     "name": "stdout",
     "output_type": "stream",
     "text": [
      "<class 'pandas.core.frame.DataFrame'>\n",
      "Int64Index: 16444 entries, 0 to 16714\n",
      "Data columns (total 11 columns):\n",
      " #   Column           Non-Null Count  Dtype  \n",
      "---  ------           --------------  -----  \n",
      " 0   name             16444 non-null  object \n",
      " 1   platform         16444 non-null  object \n",
      " 2   year_of_release  16444 non-null  float64\n",
      " 3   genre            16444 non-null  object \n",
      " 4   na_sales         16444 non-null  float64\n",
      " 5   eu_sales         16444 non-null  float64\n",
      " 6   jp_sales         16444 non-null  float64\n",
      " 7   other_sales      16444 non-null  float64\n",
      " 8   critic_score     7983 non-null   float64\n",
      " 9   user_score       9839 non-null   object \n",
      " 10  rating           16444 non-null  object \n",
      "dtypes: float64(6), object(5)\n",
      "memory usage: 1.5+ MB\n"
     ]
    }
   ],
   "source": [
    "data.info()"
   ]
  },
  {
   "cell_type": "markdown",
   "metadata": {},
   "source": [
    "Тип данных следует изменить в столбце 'user_score' на вещественный, так как пользовательская оценка игр может быть использована для тестов и построения графиков. "
   ]
  },
  {
   "cell_type": "code",
   "execution_count": 298,
   "metadata": {},
   "outputs": [
    {
     "data": {
      "text/plain": [
       "array(['8', nan, '8.3', '8.5', '6.6', '8.4', '8.6', '7.7', '6.3', '7.4',\n",
       "       '8.2', '9', '7.9', '8.1', '8.7', '7.1', '3.4', '5.3', '4.8', '3.2',\n",
       "       '8.9', '6.4', '7.8', '7.5', '2.6', '7.2', '9.2', '7', '7.3', '4.3',\n",
       "       '7.6', '5.7', '5', '9.1', '6.5', 'tbd', '8.8', '6.9', '9.4', '6.8',\n",
       "       '6.1', '6.7', '5.4', '4', '4.9', '4.5', '9.3', '6.2', '4.2', '6',\n",
       "       '3.7', '4.1', '5.8', '5.6', '5.5', '4.4', '4.6', '5.9', '3.9',\n",
       "       '3.1', '2.9', '5.2', '3.3', '4.7', '5.1', '3.5', '2.5', '1.9', '3',\n",
       "       '2.7', '2.2', '2', '9.5', '2.1', '3.6', '2.8', '1.8', '3.8', '0',\n",
       "       '1.6', '9.6', '2.4', '1.7', '1.1', '0.3', '1.5', '0.7', '1.2',\n",
       "       '2.3', '0.5', '1.3', '0.2', '0.6', '1.4', '0.9', '1', '9.7'],\n",
       "      dtype=object)"
      ]
     },
     "execution_count": 298,
     "metadata": {},
     "output_type": "execute_result"
    }
   ],
   "source": [
    "data['user_score'].unique()"
   ]
  },
  {
   "cell_type": "markdown",
   "metadata": {},
   "source": [
    "Значение 'tbd'- это 'to be defined', следовательно, данных еще нет, можно заменить на NaN"
   ]
  },
  {
   "cell_type": "code",
   "execution_count": 299,
   "metadata": {},
   "outputs": [],
   "source": [
    "data.loc[data['user_score'] == 'tbd', 'user_score'] = float('nan')\n",
    "data['user_score'] = data['user_score'].astype(float)"
   ]
  },
  {
   "cell_type": "code",
   "execution_count": 300,
   "metadata": {},
   "outputs": [
    {
     "name": "stdout",
     "output_type": "stream",
     "text": [
      "Количество друбликатов: 0\n"
     ]
    }
   ],
   "source": [
    "print('Количество друбликатов:', data.duplicated().sum())"
   ]
  },
  {
   "cell_type": "markdown",
   "metadata": {},
   "source": [
    "### Расчеты и добавление результатов в таблицу"
   ]
  },
  {
   "cell_type": "code",
   "execution_count": 301,
   "metadata": {},
   "outputs": [],
   "source": [
    "data['all_sales'] = data['na_sales'] + data['eu_sales'] + data['jp_sales'] + data['other_sales']"
   ]
  },
  {
   "cell_type": "code",
   "execution_count": 302,
   "metadata": {},
   "outputs": [
    {
     "data": {
      "text/html": [
       "<div>\n",
       "<style scoped>\n",
       "    .dataframe tbody tr th:only-of-type {\n",
       "        vertical-align: middle;\n",
       "    }\n",
       "\n",
       "    .dataframe tbody tr th {\n",
       "        vertical-align: top;\n",
       "    }\n",
       "\n",
       "    .dataframe thead th {\n",
       "        text-align: right;\n",
       "    }\n",
       "</style>\n",
       "<table border=\"1\" class=\"dataframe\">\n",
       "  <thead>\n",
       "    <tr style=\"text-align: right;\">\n",
       "      <th></th>\n",
       "      <th>name</th>\n",
       "      <th>platform</th>\n",
       "      <th>year_of_release</th>\n",
       "      <th>genre</th>\n",
       "      <th>na_sales</th>\n",
       "      <th>eu_sales</th>\n",
       "      <th>jp_sales</th>\n",
       "      <th>other_sales</th>\n",
       "      <th>critic_score</th>\n",
       "      <th>user_score</th>\n",
       "      <th>rating</th>\n",
       "      <th>all_sales</th>\n",
       "    </tr>\n",
       "  </thead>\n",
       "  <tbody>\n",
       "    <tr>\n",
       "      <th>0</th>\n",
       "      <td>Wii Sports</td>\n",
       "      <td>Wii</td>\n",
       "      <td>2006.0</td>\n",
       "      <td>Sports</td>\n",
       "      <td>41.36</td>\n",
       "      <td>28.96</td>\n",
       "      <td>3.77</td>\n",
       "      <td>8.45</td>\n",
       "      <td>76.0</td>\n",
       "      <td>8.0</td>\n",
       "      <td>E</td>\n",
       "      <td>82.54</td>\n",
       "    </tr>\n",
       "    <tr>\n",
       "      <th>1</th>\n",
       "      <td>Super Mario Bros.</td>\n",
       "      <td>NES</td>\n",
       "      <td>1985.0</td>\n",
       "      <td>Platform</td>\n",
       "      <td>29.08</td>\n",
       "      <td>3.58</td>\n",
       "      <td>6.81</td>\n",
       "      <td>0.77</td>\n",
       "      <td>NaN</td>\n",
       "      <td>NaN</td>\n",
       "      <td>unknown</td>\n",
       "      <td>40.24</td>\n",
       "    </tr>\n",
       "    <tr>\n",
       "      <th>2</th>\n",
       "      <td>Mario Kart Wii</td>\n",
       "      <td>Wii</td>\n",
       "      <td>2008.0</td>\n",
       "      <td>Racing</td>\n",
       "      <td>15.68</td>\n",
       "      <td>12.76</td>\n",
       "      <td>3.79</td>\n",
       "      <td>3.29</td>\n",
       "      <td>82.0</td>\n",
       "      <td>8.3</td>\n",
       "      <td>E</td>\n",
       "      <td>35.52</td>\n",
       "    </tr>\n",
       "    <tr>\n",
       "      <th>3</th>\n",
       "      <td>Wii Sports Resort</td>\n",
       "      <td>Wii</td>\n",
       "      <td>2009.0</td>\n",
       "      <td>Sports</td>\n",
       "      <td>15.61</td>\n",
       "      <td>10.93</td>\n",
       "      <td>3.28</td>\n",
       "      <td>2.95</td>\n",
       "      <td>80.0</td>\n",
       "      <td>8.0</td>\n",
       "      <td>E</td>\n",
       "      <td>32.77</td>\n",
       "    </tr>\n",
       "    <tr>\n",
       "      <th>4</th>\n",
       "      <td>Pokemon Red/Pokemon Blue</td>\n",
       "      <td>GB</td>\n",
       "      <td>1996.0</td>\n",
       "      <td>Role-Playing</td>\n",
       "      <td>11.27</td>\n",
       "      <td>8.89</td>\n",
       "      <td>10.22</td>\n",
       "      <td>1.00</td>\n",
       "      <td>NaN</td>\n",
       "      <td>NaN</td>\n",
       "      <td>unknown</td>\n",
       "      <td>31.38</td>\n",
       "    </tr>\n",
       "  </tbody>\n",
       "</table>\n",
       "</div>"
      ],
      "text/plain": [
       "                       name platform  year_of_release         genre  na_sales  \\\n",
       "0                Wii Sports      Wii           2006.0        Sports     41.36   \n",
       "1         Super Mario Bros.      NES           1985.0      Platform     29.08   \n",
       "2            Mario Kart Wii      Wii           2008.0        Racing     15.68   \n",
       "3         Wii Sports Resort      Wii           2009.0        Sports     15.61   \n",
       "4  Pokemon Red/Pokemon Blue       GB           1996.0  Role-Playing     11.27   \n",
       "\n",
       "   eu_sales  jp_sales  other_sales  critic_score  user_score   rating  \\\n",
       "0     28.96      3.77         8.45          76.0         8.0        E   \n",
       "1      3.58      6.81         0.77           NaN         NaN  unknown   \n",
       "2     12.76      3.79         3.29          82.0         8.3        E   \n",
       "3     10.93      3.28         2.95          80.0         8.0        E   \n",
       "4      8.89     10.22         1.00           NaN         NaN  unknown   \n",
       "\n",
       "   all_sales  \n",
       "0      82.54  \n",
       "1      40.24  \n",
       "2      35.52  \n",
       "3      32.77  \n",
       "4      31.38  "
      ]
     },
     "execution_count": 302,
     "metadata": {},
     "output_type": "execute_result"
    }
   ],
   "source": [
    "data.head()"
   ]
  },
  {
   "cell_type": "markdown",
   "metadata": {},
   "source": [
    "### Описание данных:"
   ]
  },
  {
   "cell_type": "markdown",
   "metadata": {},
   "source": [
    " - **name** — название игры\n",
    " - **platform** — платформа\n",
    " - **year_of_release** — год выпуска\n",
    " - **genre** — жанр игры\n",
    " - **na_sales** — продажи в Северной Америке (миллионы проданных копий)\n",
    " - **eu_sales** — продажи в Европе (миллионы проданных копий)\n",
    " - **jp_sales** — продажи в Японии (миллионы проданных копий)\n",
    " - **other_sales** — продажи в других странах (миллионы проданных копий)\n",
    " - **critic_score** — оценка критиков (максимум 100)\n",
    " - **user_score** — оценка пользователей (максимум 10)\n",
    " - **rating** — рейтинг от организации ESRB (англ. Entertainment Software Rating Board)."
   ]
  },
  {
   "cell_type": "markdown",
   "metadata": {},
   "source": [
    "## Исследовательский анализ данных"
   ]
  },
  {
   "cell_type": "markdown",
   "metadata": {},
   "source": [
    "### Количество игр в разные годы"
   ]
  },
  {
   "cell_type": "code",
   "execution_count": 303,
   "metadata": {},
   "outputs": [
    {
     "data": {
      "image/png": "[encoded data removed]",
      "text/plain": [
       "<Figure size 1080x504 with 2 Axes>"
      ]
     },
     "metadata": {
      "needs_background": "light"
     },
     "output_type": "display_data"
    }
   ],
   "source": [
    "# \n",
    "by_genre = data.pivot_table(index='year_of_release', values='genre', aggfunc='count')\n",
    "by_money = data.pivot_table(index='year_of_release', values='all_sales', aggfunc='sum')\n",
    "\n",
    "\n",
    "fig, axes = plt.subplots(2,1, figsize=(15,7))\n",
    "\n",
    "by_genre['genre'].plot(kind='bar', ax=axes[0], color = 'pink', label = 'Количество игр в разные годы')\n",
    "\n",
    "by_money['all_sales'].plot(kind='bar', ax=axes[1], color = 'skyblue', label = 'Продажи в разные годы(млн. проданных копий)')\n",
    "\n",
    "plt.legend()\n",
    "plt.tight_layout()"
   ]
  },
  {
   "cell_type": "markdown",
   "metadata": {},
   "source": [
    "Как мы видим на графиках, после 2001 года есть заметный скачок как в продаже игр, так и в количестве проданных копий. Данные до этого периода, как мне кажется, не так важны в нашем исследовании. Далее я буду рассматривать данные только с 2001 года. "
   ]
  },
  {
   "cell_type": "code",
   "execution_count": 304,
   "metadata": {},
   "outputs": [],
   "source": [
    "data = data[data['year_of_release'] >= 2001]"
   ]
  },
  {
   "cell_type": "markdown",
   "metadata": {},
   "source": [
    "### Продажи в зависимости от платформ"
   ]
  },
  {
   "cell_type": "markdown",
   "metadata": {},
   "source": [
    "Посмотрите, как менялись продажи по платформам. Выберите платформы с наибольшими суммарными продажами и постройте распределение по годам. За какой характерный срок появляются новые и исчезают старые платформы?"
   ]
  },
  {
   "cell_type": "code",
   "execution_count": 305,
   "metadata": {},
   "outputs": [
    {
     "data": {
      "text/plain": [
       "Index(['PS2', 'X360', 'PS3', 'Wii', 'DS', 'PS4', 'GBA', 'PSP'], dtype='object', name='platform')"
      ]
     },
     "execution_count": 305,
     "metadata": {},
     "output_type": "execute_result"
    }
   ],
   "source": [
    "# Сгруппируем данные по платформам и посчитаем общие продажи\n",
    "\n",
    "top_8 = data.groupby('platform').agg({'all_sales' : 'sum'}).sort_values(by='all_sales', ascending=False).head(8).index\n",
    "top_8"
   ]
  },
  {
   "cell_type": "code",
   "execution_count": 306,
   "metadata": {
    "scrolled": true
   },
   "outputs": [
    {
     "data": {
      "text/plain": [
       "<AxesSubplot:xlabel='platform', ylabel='year_of_release'>"
      ]
     },
     "execution_count": 306,
     "metadata": {},
     "output_type": "execute_result"
    },
    {
     "data": {
      "image/png": "[encoded data removed]",
      "text/plain": [
       "<Figure size 1080x504 with 2 Axes>"
      ]
     },
     "metadata": {
      "needs_background": "light"
     },
     "output_type": "display_data"
    }
   ],
   "source": [
    "# Возьмем данные только о тех платформах, которые входят в топ-8 и посчитаем общие продажи.\n",
    "top_8_data = data.query('platform in @top_8').pivot_table(index='year_of_release', columns='platform', values='all_sales', aggfunc='sum')\n",
    "\n",
    "# Построим тепловую карту, чтобы отследить жизненный цикл платформы, а также ее время востребованности\n",
    "plt.figure(figsize=(15,7))\n",
    "sns.heatmap(top_8_data, annot=True, fmt='.2f', cmap= 'coolwarm')\n"
   ]
  },
  {
   "cell_type": "markdown",
   "metadata": {},
   "source": [
    "**Вывод:**\n",
    "\n",
    "* Как видно на графике, примерное стандартное \"время жизни\" одной платформы - 9-10 лет. \n",
    "* Период востребованности одной платформы - примерно 5-6 лет. \n",
    "* Популярность новая платформа набирает примерно через год после выпуска, в это же время обычно наблюдается разкое падение в продажах платформы предыдущей версии"
   ]
  },
  {
   "cell_type": "code",
   "execution_count": 307,
   "metadata": {},
   "outputs": [
    {
     "data": {
      "application/vnd.plotly.v1+json": {
       "config": {
        "plotlyServerURL": "https://plot.ly"
       },
       "data": [
        {
         "type": "bar",
         "x": [
          2001,
          2002,
          2003,
          2004,
          2005,
          2006,
          2007,
          2008,
          2009,
          2010,
          2011
         ],
         "xaxis": "x",
         "y": [
          166.43,
          205.38,
          184.31,
          211.81,
          160.66,
          103.42,
          75.99,
          53.9,
          26.4,
          5.64,
          0.45
         ],
         "yaxis": "y"
        },
        {
         "type": "bar",
         "x": [
          2005,
          2006,
          2007,
          2008,
          2009,
          2010,
          2011,
          2012,
          2013,
          2014,
          2015,
          2016
         ],
         "xaxis": "x2",
         "y": [
          8.25,
          51.620000000000005,
          95.41,
          135.26,
          120.29,
          170.03,
          143.84,
          99.74000000000001,
          88.58,
          34.74,
          11.959999999999999,
          1.52
         ],
         "yaxis": "y2"
        },
        {
         "type": "bar",
         "x": [
          2006,
          2007,
          2008,
          2009,
          2010,
          2011,
          2012,
          2013,
          2014,
          2015,
          2016
         ],
         "xaxis": "x3",
         "y": [
          20.96,
          73.19,
          118.52,
          130.93,
          142.17,
          156.78,
          107.36,
          113.25,
          47.760000000000005,
          16.82,
          3.6
         ],
         "yaxis": "y3"
        },
        {
         "type": "bar",
         "x": [
          2006,
          2007,
          2008,
          2009,
          2010,
          2011,
          2012,
          2013,
          2014,
          2015,
          2016
         ],
         "xaxis": "x4",
         "y": [
          137.15,
          152.77,
          171.32,
          206.97,
          127.95,
          59.65,
          21.71,
          8.59,
          3.75,
          1.14,
          0.18
         ],
         "yaxis": "y4"
        },
        {
         "type": "bar",
         "x": [
          2004,
          2005,
          2006,
          2007,
          2008,
          2009,
          2010,
          2011,
          2012,
          2013
         ],
         "xaxis": "x5",
         "y": [
          17.27,
          130.14,
          119.81,
          146.94,
          145.31,
          119.54,
          85.02,
          26.18,
          11.01,
          1.54
         ],
         "yaxis": "y5"
        },
        {
         "type": "bar",
         "x": [
          2013,
          2014,
          2015,
          2016
         ],
         "xaxis": "x6",
         "y": [
          25.99,
          100,
          118.9,
          69.25
         ],
         "yaxis": "y6"
        },
        {
         "type": "bar",
         "x": [
          2001,
          2002,
          2003,
          2004,
          2005,
          2006,
          2007
         ],
         "xaxis": "x7",
         "y": [
          61.53,
          74.16,
          56.67,
          77.91,
          33.86,
          5.28,
          3.4
         ],
         "yaxis": "y7"
        },
        {
         "type": "bar",
         "x": [
          2004,
          2005,
          2006,
          2007,
          2008,
          2009,
          2010,
          2011,
          2012,
          2013,
          2014,
          2015
         ],
         "xaxis": "x8",
         "y": [
          7.0600000000000005,
          43.84,
          55.32,
          46.93,
          34.55,
          37.78,
          35.04,
          17.82,
          7.69,
          3.14,
          0.24,
          0.12
         ],
         "yaxis": "y8"
        }
       ],
       "layout": {
        "annotations": [
         {
          "font": {
           "size": 16
          },
          "showarrow": false,
          "text": "PS2",
          "x": 0.14444444444444446,
          "xanchor": "center",
          "xref": "paper",
          "y": 1,
          "yanchor": "bottom",
          "yref": "paper"
         },
         {
          "font": {
           "size": 16
          },
          "showarrow": false,
          "text": "X360",
          "x": 0.5,
          "xanchor": "center",
          "xref": "paper",
          "y": 1,
          "yanchor": "bottom",
          "yref": "paper"
         },
         {
          "font": {
           "size": 16
          },
          "showarrow": false,
          "text": "PS3",
          "x": 0.8555555555555556,
          "xanchor": "center",
          "xref": "paper",
          "y": 1,
          "yanchor": "bottom",
          "yref": "paper"
         },
         {
          "font": {
           "size": 16
          },
          "showarrow": false,
          "text": "Wii",
          "x": 0.14444444444444446,
          "xanchor": "center",
          "xref": "paper",
          "y": 0.6111111111111112,
          "yanchor": "bottom",
          "yref": "paper"
         },
         {
          "font": {
           "size": 16
          },
          "showarrow": false,
          "text": "DS",
          "x": 0.5,
          "xanchor": "center",
          "xref": "paper",
          "y": 0.6111111111111112,
          "yanchor": "bottom",
          "yref": "paper"
         },
         {
          "font": {
           "size": 16
          },
          "showarrow": false,
          "text": "PS4",
          "x": 0.8555555555555556,
          "xanchor": "center",
          "xref": "paper",
          "y": 0.6111111111111112,
          "yanchor": "bottom",
          "yref": "paper"
         },
         {
          "font": {
           "size": 16
          },
          "showarrow": false,
          "text": "GBA",
          "x": 0.14444444444444446,
          "xanchor": "center",
          "xref": "paper",
          "y": 0.22222222222222224,
          "yanchor": "bottom",
          "yref": "paper"
         },
         {
          "font": {
           "size": 16
          },
          "showarrow": false,
          "text": "PSP",
          "x": 0.5,
          "xanchor": "center",
          "xref": "paper",
          "y": 0.22222222222222224,
          "yanchor": "bottom",
          "yref": "paper"
         }
        ],
        "height": 1000,
        "showlegend": false,
        "template": {
         "data": {
          "bar": [
           {
            "error_x": {
             "color": "#2a3f5f"
            },
            "error_y": {
             "color": "#2a3f5f"
            },
            "marker": {
             "line": {
              "color": "#E5ECF6",
              "width": 0.5
             },
             "pattern": {
              "fillmode": "overlay",
              "size": 10,
              "solidity": 0.2
             }
            },
            "type": "bar"
           }
          ],
          "barpolar": [
           {
            "marker": {
             "line": {
              "color": "#E5ECF6",
              "width": 0.5
             },
             "pattern": {
              "fillmode": "overlay",
              "size": 10,
              "solidity": 0.2
             }
            },
            "type": "barpolar"
           }
          ],
          "carpet": [
           {
            "aaxis": {
             "endlinecolor": "#2a3f5f",
             "gridcolor": "white",
             "linecolor": "white",
             "minorgridcolor": "white",
             "startlinecolor": "#2a3f5f"
            },
            "baxis": {
             "endlinecolor": "#2a3f5f",
             "gridcolor": "white",
             "linecolor": "white",
             "minorgridcolor": "white",
             "startlinecolor": "#2a3f5f"
            },
            "type": "carpet"
           }
          ],
          "choropleth": [
           {
            "colorbar": {
             "outlinewidth": 0,
             "ticks": ""
            },
            "type": "choropleth"
           }
          ],
          "contour": [
           {
            "colorbar": {
             "outlinewidth": 0,
             "ticks": ""
            },
            "colorscale": [
             [
              0,
              "#0d0887"
             ],
             [
              0.1111111111111111,
              "#46039f"
             ],
             [
              0.2222222222222222,
              "#7201a8"
             ],
             [
              0.3333333333333333,
              "#9c179e"
             ],
             [
              0.4444444444444444,
              "#bd3786"
             ],
             [
              0.5555555555555556,
              "#d8576b"
             ],
             [
              0.6666666666666666,
              "#ed7953"
             ],
             [
              0.7777777777777778,
              "#fb9f3a"
             ],
             [
              0.8888888888888888,
              "#fdca26"
             ],
             [
              1,
              "#f0f921"
             ]
            ],
            "type": "contour"
           }
          ],
          "contourcarpet": [
           {
            "colorbar": {
             "outlinewidth": 0,
             "ticks": ""
            },
            "type": "contourcarpet"
           }
          ],
          "heatmap": [
           {
            "colorbar": {
             "outlinewidth": 0,
             "ticks": ""
            },
            "colorscale": [
             [
              0,
              "#0d0887"
             ],
             [
              0.1111111111111111,
              "#46039f"
             ],
             [
              0.2222222222222222,
              "#7201a8"
             ],
             [
              0.3333333333333333,
              "#9c179e"
             ],
             [
              0.4444444444444444,
              "#bd3786"
             ],
             [
              0.5555555555555556,
              "#d8576b"
             ],
             [
              0.6666666666666666,
              "#ed7953"
             ],
             [
              0.7777777777777778,
              "#fb9f3a"
             ],
             [
              0.8888888888888888,
              "#fdca26"
             ],
             [
              1,
              "#f0f921"
             ]
            ],
            "type": "heatmap"
           }
          ],
          "heatmapgl": [
           {
            "colorbar": {
             "outlinewidth": 0,
             "ticks": ""
            },
            "colorscale": [
             [
              0,
              "#0d0887"
             ],
             [
              0.1111111111111111,
              "#46039f"
             ],
             [
              0.2222222222222222,
              "#7201a8"
             ],
             [
              0.3333333333333333,
              "#9c179e"
             ],
             [
              0.4444444444444444,
              "#bd3786"
             ],
             [
              0.5555555555555556,
              "#d8576b"
             ],
             [
              0.6666666666666666,
              "#ed7953"
             ],
             [
              0.7777777777777778,
              "#fb9f3a"
             ],
             [
              0.8888888888888888,
              "#fdca26"
             ],
             [
              1,
              "#f0f921"
             ]
            ],
            "type": "heatmapgl"
           }
          ],
          "histogram": [
           {
            "marker": {
             "pattern": {
              "fillmode": "overlay",
              "size": 10,
              "solidity": 0.2
             }
            },
            "type": "histogram"
           }
          ],
          "histogram2d": [
           {
            "colorbar": {
             "outlinewidth": 0,
             "ticks": ""
            },
            "colorscale": [
             [
              0,
              "#0d0887"
             ],
             [
              0.1111111111111111,
              "#46039f"
             ],
             [
              0.2222222222222222,
              "#7201a8"
             ],
             [
              0.3333333333333333,
              "#9c179e"
             ],
             [
              0.4444444444444444,
              "#bd3786"
             ],
             [
              0.5555555555555556,
              "#d8576b"
             ],
             [
              0.6666666666666666,
              "#ed7953"
             ],
             [
              0.7777777777777778,
              "#fb9f3a"
             ],
             [
              0.8888888888888888,
              "#fdca26"
             ],
             [
              1,
              "#f0f921"
             ]
            ],
            "type": "histogram2d"
           }
          ],
          "histogram2dcontour": [
           {
            "colorbar": {
             "outlinewidth": 0,
             "ticks": ""
            },
            "colorscale": [
             [
              0,
              "#0d0887"
             ],
             [
              0.1111111111111111,
              "#46039f"
             ],
             [
              0.2222222222222222,
              "#7201a8"
             ],
             [
              0.3333333333333333,
              "#9c179e"
             ],
             [
              0.4444444444444444,
              "#bd3786"
             ],
             [
              0.5555555555555556,
              "#d8576b"
             ],
             [
              0.6666666666666666,
              "#ed7953"
             ],
             [
              0.7777777777777778,
              "#fb9f3a"
             ],
             [
              0.8888888888888888,
              "#fdca26"
             ],
             [
              1,
              "#f0f921"
             ]
            ],
            "type": "histogram2dcontour"
           }
          ],
          "mesh3d": [
           {
            "colorbar": {
             "outlinewidth": 0,
             "ticks": ""
            },
            "type": "mesh3d"
           }
          ],
          "parcoords": [
           {
            "line": {
             "colorbar": {
              "outlinewidth": 0,
              "ticks": ""
             }
            },
            "type": "parcoords"
           }
          ],
          "pie": [
           {
            "automargin": true,
            "type": "pie"
           }
          ],
          "scatter": [
           {
            "marker": {
             "colorbar": {
              "outlinewidth": 0,
              "ticks": ""
             }
            },
            "type": "scatter"
           }
          ],
          "scatter3d": [
           {
            "line": {
             "colorbar": {
              "outlinewidth": 0,
              "ticks": ""
             }
            },
            "marker": {
             "colorbar": {
              "outlinewidth": 0,
              "ticks": ""
             }
            },
            "type": "scatter3d"
           }
          ],
          "scattercarpet": [
           {
            "marker": {
             "colorbar": {
              "outlinewidth": 0,
              "ticks": ""
             }
            },
            "type": "scattercarpet"
           }
          ],
          "scattergeo": [
           {
            "marker": {
             "colorbar": {
              "outlinewidth": 0,
              "ticks": ""
             }
            },
            "type": "scattergeo"
           }
          ],
          "scattergl": [
           {
            "marker": {
             "colorbar": {
              "outlinewidth": 0,
              "ticks": ""
             }
            },
            "type": "scattergl"
           }
          ],
          "scattermapbox": [
           {
            "marker": {
             "colorbar": {
              "outlinewidth": 0,
              "ticks": ""
             }
            },
            "type": "scattermapbox"
           }
          ],
          "scatterpolar": [
           {
            "marker": {
             "colorbar": {
              "outlinewidth": 0,
              "ticks": ""
             }
            },
            "type": "scatterpolar"
           }
          ],
          "scatterpolargl": [
           {
            "marker": {
             "colorbar": {
              "outlinewidth": 0,
              "ticks": ""
             }
            },
            "type": "scatterpolargl"
           }
          ],
          "scatterternary": [
           {
            "marker": {
             "colorbar": {
              "outlinewidth": 0,
              "ticks": ""
             }
            },
            "type": "scatterternary"
           }
          ],
          "surface": [
           {
            "colorbar": {
             "outlinewidth": 0,
             "ticks": ""
            },
            "colorscale": [
             [
              0,
              "#0d0887"
             ],
             [
              0.1111111111111111,
              "#46039f"
             ],
             [
              0.2222222222222222,
              "#7201a8"
             ],
             [
              0.3333333333333333,
              "#9c179e"
             ],
             [
              0.4444444444444444,
              "#bd3786"
             ],
             [
              0.5555555555555556,
              "#d8576b"
             ],
             [
              0.6666666666666666,
              "#ed7953"
             ],
             [
              0.7777777777777778,
              "#fb9f3a"
             ],
             [
              0.8888888888888888,
              "#fdca26"
             ],
             [
              1,
              "#f0f921"
             ]
            ],
            "type": "surface"
           }
          ],
          "table": [
           {
            "cells": {
             "fill": {
              "color": "#EBF0F8"
             },
             "line": {
              "color": "white"
             }
            },
            "header": {
             "fill": {
              "color": "#C8D4E3"
             },
             "line": {
              "color": "white"
             }
            },
            "type": "table"
           }
          ]
         },
         "layout": {
          "annotationdefaults": {
           "arrowcolor": "#2a3f5f",
           "arrowhead": 0,
           "arrowwidth": 1
          },
          "autotypenumbers": "strict",
          "coloraxis": {
           "colorbar": {
            "outlinewidth": 0,
            "ticks": ""
           }
          },
          "colorscale": {
           "diverging": [
            [
             0,
             "#8e0152"
            ],
            [
             0.1,
             "#c51b7d"
            ],
            [
             0.2,
             "#de77ae"
            ],
            [
             0.3,
             "#f1b6da"
            ],
            [
             0.4,
             "#fde0ef"
            ],
            [
             0.5,
             "#f7f7f7"
            ],
            [
             0.6,
             "#e6f5d0"
            ],
            [
             0.7,
             "#b8e186"
            ],
            [
             0.8,
             "#7fbc41"
            ],
            [
             0.9,
             "#4d9221"
            ],
            [
             1,
             "#276419"
            ]
           ],
           "sequential": [
            [
             0,
             "#0d0887"
            ],
            [
             0.1111111111111111,
             "#46039f"
            ],
            [
             0.2222222222222222,
             "#7201a8"
            ],
            [
             0.3333333333333333,
             "#9c179e"
            ],
            [
             0.4444444444444444,
             "#bd3786"
            ],
            [
             0.5555555555555556,
             "#d8576b"
            ],
            [
             0.6666666666666666,
             "#ed7953"
            ],
            [
             0.7777777777777778,
             "#fb9f3a"
            ],
            [
             0.8888888888888888,
             "#fdca26"
            ],
            [
             1,
             "#f0f921"
            ]
           ],
           "sequentialminus": [
            [
             0,
             "#0d0887"
            ],
            [
             0.1111111111111111,
             "#46039f"
            ],
            [
             0.2222222222222222,
             "#7201a8"
            ],
            [
             0.3333333333333333,
             "#9c179e"
            ],
            [
             0.4444444444444444,
             "#bd3786"
            ],
            [
             0.5555555555555556,
             "#d8576b"
            ],
            [
             0.6666666666666666,
             "#ed7953"
            ],
            [
             0.7777777777777778,
             "#fb9f3a"
            ],
            [
             0.8888888888888888,
             "#fdca26"
            ],
            [
             1,
             "#f0f921"
            ]
           ]
          },
          "colorway": [
           "#636efa",
           "#EF553B",
           "#00cc96",
           "#ab63fa",
           "#FFA15A",
           "#19d3f3",
           "#FF6692",
           "#B6E880",
           "#FF97FF",
           "#FECB52"
          ],
          "font": {
           "color": "#2a3f5f"
          },
          "geo": {
           "bgcolor": "white",
           "lakecolor": "white",
           "landcolor": "#E5ECF6",
           "showlakes": true,
           "showland": true,
           "subunitcolor": "white"
          },
          "hoverlabel": {
           "align": "left"
          },
          "hovermode": "closest",
          "mapbox": {
           "style": "light"
          },
          "paper_bgcolor": "white",
          "plot_bgcolor": "#E5ECF6",
          "polar": {
           "angularaxis": {
            "gridcolor": "white",
            "linecolor": "white",
            "ticks": ""
           },
           "bgcolor": "#E5ECF6",
           "radialaxis": {
            "gridcolor": "white",
            "linecolor": "white",
            "ticks": ""
           }
          },
          "scene": {
           "xaxis": {
            "backgroundcolor": "#E5ECF6",
            "gridcolor": "white",
            "gridwidth": 2,
            "linecolor": "white",
            "showbackground": true,
            "ticks": "",
            "zerolinecolor": "white"
           },
           "yaxis": {
            "backgroundcolor": "#E5ECF6",
            "gridcolor": "white",
            "gridwidth": 2,
            "linecolor": "white",
            "showbackground": true,
            "ticks": "",
            "zerolinecolor": "white"
           },
           "zaxis": {
            "backgroundcolor": "#E5ECF6",
            "gridcolor": "white",
            "gridwidth": 2,
            "linecolor": "white",
            "showbackground": true,
            "ticks": "",
            "zerolinecolor": "white"
           }
          },
          "shapedefaults": {
           "line": {
            "color": "#2a3f5f"
           }
          },
          "ternary": {
           "aaxis": {
            "gridcolor": "white",
            "linecolor": "white",
            "ticks": ""
           },
           "baxis": {
            "gridcolor": "white",
            "linecolor": "white",
            "ticks": ""
           },
           "bgcolor": "#E5ECF6",
           "caxis": {
            "gridcolor": "white",
            "linecolor": "white",
            "ticks": ""
           }
          },
          "title": {
           "x": 0.05
          },
          "xaxis": {
           "automargin": true,
           "gridcolor": "white",
           "linecolor": "white",
           "ticks": "",
           "title": {
            "standoff": 15
           },
           "zerolinecolor": "white",
           "zerolinewidth": 2
          },
          "yaxis": {
           "automargin": true,
           "gridcolor": "white",
           "linecolor": "white",
           "ticks": "",
           "title": {
            "standoff": 15
           },
           "zerolinecolor": "white",
           "zerolinewidth": 2
          }
         }
        },
        "title": {
         "text": "Распределение продаж по годам"
        },
        "width": 1000,
        "xaxis": {
         "anchor": "y",
         "domain": [
          0,
          0.2888888888888889
         ]
        },
        "xaxis2": {
         "anchor": "y2",
         "domain": [
          0.35555555555555557,
          0.6444444444444445
         ]
        },
        "xaxis3": {
         "anchor": "y3",
         "domain": [
          0.7111111111111111,
          1
         ]
        },
        "xaxis4": {
         "anchor": "y4",
         "domain": [
          0,
          0.2888888888888889
         ]
        },
        "xaxis5": {
         "anchor": "y5",
         "domain": [
          0.35555555555555557,
          0.6444444444444445
         ]
        },
        "xaxis6": {
         "anchor": "y6",
         "domain": [
          0.7111111111111111,
          1
         ]
        },
        "xaxis7": {
         "anchor": "y7",
         "domain": [
          0,
          0.2888888888888889
         ]
        },
        "xaxis8": {
         "anchor": "y8",
         "domain": [
          0.35555555555555557,
          0.6444444444444445
         ]
        },
        "xaxis9": {
         "anchor": "y9",
         "domain": [
          0.7111111111111111,
          1
         ]
        },
        "yaxis": {
         "anchor": "x",
         "domain": [
          0.7777777777777778,
          1
         ]
        },
        "yaxis2": {
         "anchor": "x2",
         "domain": [
          0.7777777777777778,
          1
         ]
        },
        "yaxis3": {
         "anchor": "x3",
         "domain": [
          0.7777777777777778,
          1
         ]
        },
        "yaxis4": {
         "anchor": "x4",
         "domain": [
          0.3888888888888889,
          0.6111111111111112
         ]
        },
        "yaxis5": {
         "anchor": "x5",
         "domain": [
          0.3888888888888889,
          0.6111111111111112
         ]
        },
        "yaxis6": {
         "anchor": "x6",
         "domain": [
          0.3888888888888889,
          0.6111111111111112
         ]
        },
        "yaxis7": {
         "anchor": "x7",
         "domain": [
          0,
          0.22222222222222224
         ]
        },
        "yaxis8": {
         "anchor": "x8",
         "domain": [
          0,
          0.22222222222222224
         ]
        },
        "yaxis9": {
         "anchor": "x9",
         "domain": [
          0,
          0.22222222222222224
         ]
        }
       }
      },
      "text/html": [
       "<div>                            <div id=\"0c0edeeb-f33e-4e46-a8c8-9f837d8e6fba\" class=\"plotly-graph-div\" style=\"height:1000px; width:1000px;\"></div>            <script type=\"text/javascript\">                require([\"plotly\"], function(Plotly) {                    window.PLOTLYENV=window.PLOTLYENV || {};                                    if (document.getElementById(\"0c0edeeb-f33e-4e46-a8c8-9f837d8e6fba\")) {                    Plotly.newPlot(                        \"0c0edeeb-f33e-4e46-a8c8-9f837d8e6fba\",                        [{\"x\":[2001.0,2002.0,2003.0,2004.0,2005.0,2006.0,2007.0,2008.0,2009.0,2010.0,2011.0],\"y\":[166.43,205.38,184.31,211.81,160.66,103.42,75.99,53.9,26.4,5.64,0.45],\"type\":\"bar\",\"xaxis\":\"x\",\"yaxis\":\"y\"},{\"x\":[2005.0,2006.0,2007.0,2008.0,2009.0,2010.0,2011.0,2012.0,2013.0,2014.0,2015.0,2016.0],\"y\":[8.25,51.620000000000005,95.41,135.26,120.29,170.03,143.84,99.74000000000001,88.58,34.74,11.959999999999999,1.52],\"type\":\"bar\",\"xaxis\":\"x2\",\"yaxis\":\"y2\"},{\"x\":[2006.0,2007.0,2008.0,2009.0,2010.0,2011.0,2012.0,2013.0,2014.0,2015.0,2016.0],\"y\":[20.96,73.19,118.52,130.93,142.17,156.78,107.36,113.25,47.760000000000005,16.82,3.6],\"type\":\"bar\",\"xaxis\":\"x3\",\"yaxis\":\"y3\"},{\"x\":[2006.0,2007.0,2008.0,2009.0,2010.0,2011.0,2012.0,2013.0,2014.0,2015.0,2016.0],\"y\":[137.15,152.77,171.32,206.97,127.95,59.65,21.71,8.59,3.75,1.14,0.18],\"type\":\"bar\",\"xaxis\":\"x4\",\"yaxis\":\"y4\"},{\"x\":[2004.0,2005.0,2006.0,2007.0,2008.0,2009.0,2010.0,2011.0,2012.0,2013.0],\"y\":[17.27,130.14,119.81,146.94,145.31,119.54,85.02,26.18,11.01,1.54],\"type\":\"bar\",\"xaxis\":\"x5\",\"yaxis\":\"y5\"},{\"x\":[2013.0,2014.0,2015.0,2016.0],\"y\":[25.99,100.0,118.9,69.25],\"type\":\"bar\",\"xaxis\":\"x6\",\"yaxis\":\"y6\"},{\"x\":[2001.0,2002.0,2003.0,2004.0,2005.0,2006.0,2007.0],\"y\":[61.53,74.16,56.67,77.91,33.86,5.28,3.4],\"type\":\"bar\",\"xaxis\":\"x7\",\"yaxis\":\"y7\"},{\"x\":[2004.0,2005.0,2006.0,2007.0,2008.0,2009.0,2010.0,2011.0,2012.0,2013.0,2014.0,2015.0],\"y\":[7.0600000000000005,43.84,55.32,46.93,34.55,37.78,35.04,17.82,7.69,3.14,0.24,0.12],\"type\":\"bar\",\"xaxis\":\"x8\",\"yaxis\":\"y8\"}],                        {\"template\":{\"data\":{\"bar\":[{\"error_x\":{\"color\":\"#2a3f5f\"},\"error_y\":{\"color\":\"#2a3f5f\"},\"marker\":{\"line\":{\"color\":\"#E5ECF6\",\"width\":0.5},\"pattern\":{\"fillmode\":\"overlay\",\"size\":10,\"solidity\":0.2}},\"type\":\"bar\"}],\"barpolar\":[{\"marker\":{\"line\":{\"color\":\"#E5ECF6\",\"width\":0.5},\"pattern\":{\"fillmode\":\"overlay\",\"size\":10,\"solidity\":0.2}},\"type\":\"barpolar\"}],\"carpet\":[{\"aaxis\":{\"endlinecolor\":\"#2a3f5f\",\"gridcolor\":\"white\",\"linecolor\":\"white\",\"minorgridcolor\":\"white\",\"startlinecolor\":\"#2a3f5f\"},\"baxis\":{\"endlinecolor\":\"#2a3f5f\",\"gridcolor\":\"white\",\"linecolor\":\"white\",\"minorgridcolor\":\"white\",\"startlinecolor\":\"#2a3f5f\"},\"type\":\"carpet\"}],\"choropleth\":[{\"colorbar\":{\"outlinewidth\":0,\"ticks\":\"\"},\"type\":\"choropleth\"}],\"contour\":[{\"colorbar\":{\"outlinewidth\":0,\"ticks\":\"\"},\"colorscale\":[[0.0,\"#0d0887\"],[0.1111111111111111,\"#46039f\"],[0.2222222222222222,\"#7201a8\"],[0.3333333333333333,\"#9c179e\"],[0.4444444444444444,\"#bd3786\"],[0.5555555555555556,\"#d8576b\"],[0.6666666666666666,\"#ed7953\"],[0.7777777777777778,\"#fb9f3a\"],[0.8888888888888888,\"#fdca26\"],[1.0,\"#f0f921\"]],\"type\":\"contour\"}],\"contourcarpet\":[{\"colorbar\":{\"outlinewidth\":0,\"ticks\":\"\"},\"type\":\"contourcarpet\"}],\"heatmap\":[{\"colorbar\":{\"outlinewidth\":0,\"ticks\":\"\"},\"colorscale\":[[0.0,\"#0d0887\"],[0.1111111111111111,\"#46039f\"],[0.2222222222222222,\"#7201a8\"],[0.3333333333333333,\"#9c179e\"],[0.4444444444444444,\"#bd3786\"],[0.5555555555555556,\"#d8576b\"],[0.6666666666666666,\"#ed7953\"],[0.7777777777777778,\"#fb9f3a\"],[0.8888888888888888,\"#fdca26\"],[1.0,\"#f0f921\"]],\"type\":\"heatmap\"}],\"heatmapgl\":[{\"colorbar\":{\"outlinewidth\":0,\"ticks\":\"\"},\"colorscale\":[[0.0,\"#0d0887\"],[0.1111111111111111,\"#46039f\"],[0.2222222222222222,\"#7201a8\"],[0.3333333333333333,\"#9c179e\"],[0.4444444444444444,\"#bd3786\"],[0.5555555555555556,\"#d8576b\"],[0.6666666666666666,\"#ed7953\"],[0.7777777777777778,\"#fb9f3a\"],[0.8888888888888888,\"#fdca26\"],[1.0,\"#f0f921\"]],\"type\":\"heatmapgl\"}],\"histogram\":[{\"marker\":{\"pattern\":{\"fillmode\":\"overlay\",\"size\":10,\"solidity\":0.2}},\"type\":\"histogram\"}],\"histogram2d\":[{\"colorbar\":{\"outlinewidth\":0,\"ticks\":\"\"},\"colorscale\":[[0.0,\"#0d0887\"],[0.1111111111111111,\"#46039f\"],[0.2222222222222222,\"#7201a8\"],[0.3333333333333333,\"#9c179e\"],[0.4444444444444444,\"#bd3786\"],[0.5555555555555556,\"#d8576b\"],[0.6666666666666666,\"#ed7953\"],[0.7777777777777778,\"#fb9f3a\"],[0.8888888888888888,\"#fdca26\"],[1.0,\"#f0f921\"]],\"type\":\"histogram2d\"}],\"histogram2dcontour\":[{\"colorbar\":{\"outlinewidth\":0,\"ticks\":\"\"},\"colorscale\":[[0.0,\"#0d0887\"],[0.1111111111111111,\"#46039f\"],[0.2222222222222222,\"#7201a8\"],[0.3333333333333333,\"#9c179e\"],[0.4444444444444444,\"#bd3786\"],[0.5555555555555556,\"#d8576b\"],[0.6666666666666666,\"#ed7953\"],[0.7777777777777778,\"#fb9f3a\"],[0.8888888888888888,\"#fdca26\"],[1.0,\"#f0f921\"]],\"type\":\"histogram2dcontour\"}],\"mesh3d\":[{\"colorbar\":{\"outlinewidth\":0,\"ticks\":\"\"},\"type\":\"mesh3d\"}],\"parcoords\":[{\"line\":{\"colorbar\":{\"outlinewidth\":0,\"ticks\":\"\"}},\"type\":\"parcoords\"}],\"pie\":[{\"automargin\":true,\"type\":\"pie\"}],\"scatter\":[{\"marker\":{\"colorbar\":{\"outlinewidth\":0,\"ticks\":\"\"}},\"type\":\"scatter\"}],\"scatter3d\":[{\"line\":{\"colorbar\":{\"outlinewidth\":0,\"ticks\":\"\"}},\"marker\":{\"colorbar\":{\"outlinewidth\":0,\"ticks\":\"\"}},\"type\":\"scatter3d\"}],\"scattercarpet\":[{\"marker\":{\"colorbar\":{\"outlinewidth\":0,\"ticks\":\"\"}},\"type\":\"scattercarpet\"}],\"scattergeo\":[{\"marker\":{\"colorbar\":{\"outlinewidth\":0,\"ticks\":\"\"}},\"type\":\"scattergeo\"}],\"scattergl\":[{\"marker\":{\"colorbar\":{\"outlinewidth\":0,\"ticks\":\"\"}},\"type\":\"scattergl\"}],\"scattermapbox\":[{\"marker\":{\"colorbar\":{\"outlinewidth\":0,\"ticks\":\"\"}},\"type\":\"scattermapbox\"}],\"scatterpolar\":[{\"marker\":{\"colorbar\":{\"outlinewidth\":0,\"ticks\":\"\"}},\"type\":\"scatterpolar\"}],\"scatterpolargl\":[{\"marker\":{\"colorbar\":{\"outlinewidth\":0,\"ticks\":\"\"}},\"type\":\"scatterpolargl\"}],\"scatterternary\":[{\"marker\":{\"colorbar\":{\"outlinewidth\":0,\"ticks\":\"\"}},\"type\":\"scatterternary\"}],\"surface\":[{\"colorbar\":{\"outlinewidth\":0,\"ticks\":\"\"},\"colorscale\":[[0.0,\"#0d0887\"],[0.1111111111111111,\"#46039f\"],[0.2222222222222222,\"#7201a8\"],[0.3333333333333333,\"#9c179e\"],[0.4444444444444444,\"#bd3786\"],[0.5555555555555556,\"#d8576b\"],[0.6666666666666666,\"#ed7953\"],[0.7777777777777778,\"#fb9f3a\"],[0.8888888888888888,\"#fdca26\"],[1.0,\"#f0f921\"]],\"type\":\"surface\"}],\"table\":[{\"cells\":{\"fill\":{\"color\":\"#EBF0F8\"},\"line\":{\"color\":\"white\"}},\"header\":{\"fill\":{\"color\":\"#C8D4E3\"},\"line\":{\"color\":\"white\"}},\"type\":\"table\"}]},\"layout\":{\"annotationdefaults\":{\"arrowcolor\":\"#2a3f5f\",\"arrowhead\":0,\"arrowwidth\":1},\"autotypenumbers\":\"strict\",\"coloraxis\":{\"colorbar\":{\"outlinewidth\":0,\"ticks\":\"\"}},\"colorscale\":{\"diverging\":[[0,\"#8e0152\"],[0.1,\"#c51b7d\"],[0.2,\"#de77ae\"],[0.3,\"#f1b6da\"],[0.4,\"#fde0ef\"],[0.5,\"#f7f7f7\"],[0.6,\"#e6f5d0\"],[0.7,\"#b8e186\"],[0.8,\"#7fbc41\"],[0.9,\"#4d9221\"],[1,\"#276419\"]],\"sequential\":[[0.0,\"#0d0887\"],[0.1111111111111111,\"#46039f\"],[0.2222222222222222,\"#7201a8\"],[0.3333333333333333,\"#9c179e\"],[0.4444444444444444,\"#bd3786\"],[0.5555555555555556,\"#d8576b\"],[0.6666666666666666,\"#ed7953\"],[0.7777777777777778,\"#fb9f3a\"],[0.8888888888888888,\"#fdca26\"],[1.0,\"#f0f921\"]],\"sequentialminus\":[[0.0,\"#0d0887\"],[0.1111111111111111,\"#46039f\"],[0.2222222222222222,\"#7201a8\"],[0.3333333333333333,\"#9c179e\"],[0.4444444444444444,\"#bd3786\"],[0.5555555555555556,\"#d8576b\"],[0.6666666666666666,\"#ed7953\"],[0.7777777777777778,\"#fb9f3a\"],[0.8888888888888888,\"#fdca26\"],[1.0,\"#f0f921\"]]},\"colorway\":[\"#636efa\",\"#EF553B\",\"#00cc96\",\"#ab63fa\",\"#FFA15A\",\"#19d3f3\",\"#FF6692\",\"#B6E880\",\"#FF97FF\",\"#FECB52\"],\"font\":{\"color\":\"#2a3f5f\"},\"geo\":{\"bgcolor\":\"white\",\"lakecolor\":\"white\",\"landcolor\":\"#E5ECF6\",\"showlakes\":true,\"showland\":true,\"subunitcolor\":\"white\"},\"hoverlabel\":{\"align\":\"left\"},\"hovermode\":\"closest\",\"mapbox\":{\"style\":\"light\"},\"paper_bgcolor\":\"white\",\"plot_bgcolor\":\"#E5ECF6\",\"polar\":{\"angularaxis\":{\"gridcolor\":\"white\",\"linecolor\":\"white\",\"ticks\":\"\"},\"bgcolor\":\"#E5ECF6\",\"radialaxis\":{\"gridcolor\":\"white\",\"linecolor\":\"white\",\"ticks\":\"\"}},\"scene\":{\"xaxis\":{\"backgroundcolor\":\"#E5ECF6\",\"gridcolor\":\"white\",\"gridwidth\":2,\"linecolor\":\"white\",\"showbackground\":true,\"ticks\":\"\",\"zerolinecolor\":\"white\"},\"yaxis\":{\"backgroundcolor\":\"#E5ECF6\",\"gridcolor\":\"white\",\"gridwidth\":2,\"linecolor\":\"white\",\"showbackground\":true,\"ticks\":\"\",\"zerolinecolor\":\"white\"},\"zaxis\":{\"backgroundcolor\":\"#E5ECF6\",\"gridcolor\":\"white\",\"gridwidth\":2,\"linecolor\":\"white\",\"showbackground\":true,\"ticks\":\"\",\"zerolinecolor\":\"white\"}},\"shapedefaults\":{\"line\":{\"color\":\"#2a3f5f\"}},\"ternary\":{\"aaxis\":{\"gridcolor\":\"white\",\"linecolor\":\"white\",\"ticks\":\"\"},\"baxis\":{\"gridcolor\":\"white\",\"linecolor\":\"white\",\"ticks\":\"\"},\"bgcolor\":\"#E5ECF6\",\"caxis\":{\"gridcolor\":\"white\",\"linecolor\":\"white\",\"ticks\":\"\"}},\"title\":{\"x\":0.05},\"xaxis\":{\"automargin\":true,\"gridcolor\":\"white\",\"linecolor\":\"white\",\"ticks\":\"\",\"title\":{\"standoff\":15},\"zerolinecolor\":\"white\",\"zerolinewidth\":2},\"yaxis\":{\"automargin\":true,\"gridcolor\":\"white\",\"linecolor\":\"white\",\"ticks\":\"\",\"title\":{\"standoff\":15},\"zerolinecolor\":\"white\",\"zerolinewidth\":2}}},\"xaxis\":{\"anchor\":\"y\",\"domain\":[0.0,0.2888888888888889]},\"yaxis\":{\"anchor\":\"x\",\"domain\":[0.7777777777777778,1.0]},\"xaxis2\":{\"anchor\":\"y2\",\"domain\":[0.35555555555555557,0.6444444444444445]},\"yaxis2\":{\"anchor\":\"x2\",\"domain\":[0.7777777777777778,1.0]},\"xaxis3\":{\"anchor\":\"y3\",\"domain\":[0.7111111111111111,1.0]},\"yaxis3\":{\"anchor\":\"x3\",\"domain\":[0.7777777777777778,1.0]},\"xaxis4\":{\"anchor\":\"y4\",\"domain\":[0.0,0.2888888888888889]},\"yaxis4\":{\"anchor\":\"x4\",\"domain\":[0.3888888888888889,0.6111111111111112]},\"xaxis5\":{\"anchor\":\"y5\",\"domain\":[0.35555555555555557,0.6444444444444445]},\"yaxis5\":{\"anchor\":\"x5\",\"domain\":[0.3888888888888889,0.6111111111111112]},\"xaxis6\":{\"anchor\":\"y6\",\"domain\":[0.7111111111111111,1.0]},\"yaxis6\":{\"anchor\":\"x6\",\"domain\":[0.3888888888888889,0.6111111111111112]},\"xaxis7\":{\"anchor\":\"y7\",\"domain\":[0.0,0.2888888888888889]},\"yaxis7\":{\"anchor\":\"x7\",\"domain\":[0.0,0.22222222222222224]},\"xaxis8\":{\"anchor\":\"y8\",\"domain\":[0.35555555555555557,0.6444444444444445]},\"yaxis8\":{\"anchor\":\"x8\",\"domain\":[0.0,0.22222222222222224]},\"xaxis9\":{\"anchor\":\"y9\",\"domain\":[0.7111111111111111,1.0]},\"yaxis9\":{\"anchor\":\"x9\",\"domain\":[0.0,0.22222222222222224]},\"annotations\":[{\"font\":{\"size\":16},\"showarrow\":false,\"text\":\"PS2\",\"x\":0.14444444444444446,\"xanchor\":\"center\",\"xref\":\"paper\",\"y\":1.0,\"yanchor\":\"bottom\",\"yref\":\"paper\"},{\"font\":{\"size\":16},\"showarrow\":false,\"text\":\"X360\",\"x\":0.5,\"xanchor\":\"center\",\"xref\":\"paper\",\"y\":1.0,\"yanchor\":\"bottom\",\"yref\":\"paper\"},{\"font\":{\"size\":16},\"showarrow\":false,\"text\":\"PS3\",\"x\":0.8555555555555556,\"xanchor\":\"center\",\"xref\":\"paper\",\"y\":1.0,\"yanchor\":\"bottom\",\"yref\":\"paper\"},{\"font\":{\"size\":16},\"showarrow\":false,\"text\":\"Wii\",\"x\":0.14444444444444446,\"xanchor\":\"center\",\"xref\":\"paper\",\"y\":0.6111111111111112,\"yanchor\":\"bottom\",\"yref\":\"paper\"},{\"font\":{\"size\":16},\"showarrow\":false,\"text\":\"DS\",\"x\":0.5,\"xanchor\":\"center\",\"xref\":\"paper\",\"y\":0.6111111111111112,\"yanchor\":\"bottom\",\"yref\":\"paper\"},{\"font\":{\"size\":16},\"showarrow\":false,\"text\":\"PS4\",\"x\":0.8555555555555556,\"xanchor\":\"center\",\"xref\":\"paper\",\"y\":0.6111111111111112,\"yanchor\":\"bottom\",\"yref\":\"paper\"},{\"font\":{\"size\":16},\"showarrow\":false,\"text\":\"GBA\",\"x\":0.14444444444444446,\"xanchor\":\"center\",\"xref\":\"paper\",\"y\":0.22222222222222224,\"yanchor\":\"bottom\",\"yref\":\"paper\"},{\"font\":{\"size\":16},\"showarrow\":false,\"text\":\"PSP\",\"x\":0.5,\"xanchor\":\"center\",\"xref\":\"paper\",\"y\":0.22222222222222224,\"yanchor\":\"bottom\",\"yref\":\"paper\"}],\"title\":{\"text\":\"\\u0420\\u0430\\u0441\\u043f\\u0440\\u0435\\u0434\\u0435\\u043b\\u0435\\u043d\\u0438\\u0435 \\u043f\\u0440\\u043e\\u0434\\u0430\\u0436 \\u043f\\u043e \\u0433\\u043e\\u0434\\u0430\\u043c\"},\"height\":1000,\"width\":1000,\"showlegend\":false},                        {\"responsive\": true}                    ).then(function(){\n",
       "                            \n",
       "var gd = document.getElementById('0c0edeeb-f33e-4e46-a8c8-9f837d8e6fba');\n",
       "var x = new MutationObserver(function (mutations, observer) {{\n",
       "        var display = window.getComputedStyle(gd).display;\n",
       "        if (!display || display === 'none') {{\n",
       "            console.log([gd, 'removed!']);\n",
       "            Plotly.purge(gd);\n",
       "            observer.disconnect();\n",
       "        }}\n",
       "}});\n",
       "\n",
       "// Listen for the removal of the full notebook cells\n",
       "var notebookContainer = gd.closest('#notebook-container');\n",
       "if (notebookContainer) {{\n",
       "    x.observe(notebookContainer, {childList: true});\n",
       "}}\n",
       "\n",
       "// Listen for the clearing of the current output cell\n",
       "var outputEl = gd.closest('.output');\n",
       "if (outputEl) {{\n",
       "    x.observe(outputEl, {childList: true});\n",
       "}}\n",
       "\n",
       "                        })                };                });            </script>        </div>"
      ]
     },
     "metadata": {},
     "output_type": "display_data"
    }
   ],
   "source": [
    "size = math.ceil(math.sqrt(len(platforms)))\n",
    "\n",
    "all_sales = data.query('platform in @top_8').groupby(['platform','year_of_release']).agg({'all_sales' : 'sum'}).reset_index()\n",
    "\n",
    "fig = make_subplots(\n",
    "    rows=size, cols=size,\n",
    "    subplot_titles=(top_8))\n",
    "\n",
    "row = 0\n",
    "col = 0\n",
    "\n",
    "for i,p in enumerate(top_8):        \n",
    "    \n",
    "    if i % size == 0:\n",
    "        col = 1\n",
    "        row += 1\n",
    "    else:\n",
    "        col += 1\n",
    "    data_ = all_sales[all_sales['platform'] == p]\n",
    "    fig.add_trace(go.Bar(x = data_['year_of_release'], y = data_['all_sales']),\n",
    "              row=row, col=col)\n",
    "    \n",
    "\n",
    "fig.update_layout(height=1000, width=1000,\n",
    "                  title_text=\"Распределение продаж по годам\", showlegend=False)\n",
    "\n",
    "fig.show()"
   ]
  },
  {
   "cell_type": "markdown",
   "metadata": {},
   "source": [
    "Также стоит отметить, что в 2013 году многие платформы идут на спад и поднимаются другие. Чтобы не включать в актуальный период продажи для платформ, которые на 2016 год потеряли актуальность, возьмем актуальный период с 2013 года."
   ]
  },
  {
   "cell_type": "code",
   "execution_count": 308,
   "metadata": {},
   "outputs": [],
   "source": [
    "actual_data = data[data['year_of_release'] >= 2013]"
   ]
  },
  {
   "cell_type": "markdown",
   "metadata": {},
   "source": [
    "**Какие платформы лидируют по продажам, растут или падают? Выберите несколько потенциально прибыльных платформ.**"
   ]
  },
  {
   "cell_type": "code",
   "execution_count": 309,
   "metadata": {},
   "outputs": [
    {
     "data": {
      "text/plain": [
       "<AxesSubplot:xlabel='year_of_release'>"
      ]
     },
     "execution_count": 309,
     "metadata": {},
     "output_type": "execute_result"
    },
    {
     "data": {
      "image/png": "[encoded data removed]",
      "text/plain": [
       "<Figure size 720x504 with 1 Axes>"
      ]
     },
     "metadata": {
      "needs_background": "light"
     },
     "output_type": "display_data"
    }
   ],
   "source": [
    "# Возьмем данные за последние 3 года, чтобы оценить, какие платформы являются актуальными на момент 2016 года.\n",
    "\n",
    "actual_data.pivot_table(index='year_of_release', columns='platform', \n",
    "                                             values='all_sales', aggfunc='sum').plot(figsize = (10,7))\n"
   ]
  },
  {
   "cell_type": "markdown",
   "metadata": {},
   "source": [
    "Если судить по последним трем годам, а также обратить внимание на предудщий график, наиболее прибыльными являются платформы категории \"PlayStation\". Последней вышедней на 2016 год явлется PS4, у нее самые высокие продажи, у предыдущих версий продажи так же высоки, однако с выходом новой консоли они ожидаемо падают, например, продажи PS3. \n",
    "\n",
    "Платформа Wii последние годы уже не так популярна.\n",
    "\n",
    "Платформа Xbox, как и PlayStation, обновляется раз в несколько лет, ввиду чего продажи игр для старых версий падают, а для новых растут. Однако не так активно, как у PlayStation."
   ]
  },
  {
   "cell_type": "markdown",
   "metadata": {},
   "source": [
    "**Постройте график «ящик с усами» по глобальным продажам игр в разбивке по платформам.**"
   ]
  },
  {
   "cell_type": "code",
   "execution_count": 310,
   "metadata": {},
   "outputs": [
    {
     "data": {
      "text/plain": [
       "(0.0, 3.0)"
      ]
     },
     "execution_count": 310,
     "metadata": {},
     "output_type": "execute_result"
    },
    {
     "data": {
      "image/png": "[encoded data removed]",
      "text/plain": [
       "<Figure size 720x576 with 1 Axes>"
      ]
     },
     "metadata": {
      "needs_background": "light"
     },
     "output_type": "display_data"
    }
   ],
   "source": [
    "actual_data.query('platform in @top_8').boxplot('all_sales', by='platform', figsize=(10,8))\n",
    "\n",
    "# Ограничим график по оси y\n",
    "plt.ylim(0,3)\n"
   ]
  },
  {
   "cell_type": "markdown",
   "metadata": {},
   "source": [
    "**Вывод:**\n",
    "\n",
    "За период с 2013 по 2016 включительно медианные продажи пяти самых популярных игр примерно одинаковы, однако у последних версий наиболее популярный платформ(PS и XBox) \"верхний ус\" гораздо больше, чем у остальных, а также больше верхних выбросов. Продажи данных платформ намного выше, чем других видов."
   ]
  },
  {
   "cell_type": "markdown",
   "metadata": {},
   "source": [
    "### Влияние отзывов на продажи"
   ]
  },
  {
   "cell_type": "markdown",
   "metadata": {},
   "source": [
    "#### Влияние отзывов на продажи PS4"
   ]
  },
  {
   "cell_type": "code",
   "execution_count": 311,
   "metadata": {},
   "outputs": [],
   "source": [
    "# Построим функцию для построения диаграммы рассеяния\n",
    "def make_scatter(element, platform):\n",
    "    data_by_platform = actual_data.query('platform == @platform')\n",
    "    data_by_platform.plot(x=element, y='all_sales', kind='scatter', alpha = 0.5)\n",
    "    plt.xlabel(element)\n",
    "    plt.ylabel('all_sales')\n",
    "    plt.title(platform)    "
   ]
  },
  {
   "cell_type": "code",
   "execution_count": 312,
   "metadata": {},
   "outputs": [
    {
     "data": {
      "image/png": "[encoded data removed]",
      "text/plain": [
       "<Figure size 432x288 with 1 Axes>"
      ]
     },
     "metadata": {
      "needs_background": "light"
     },
     "output_type": "display_data"
    },
    {
     "data": {
      "image/png": "[encoded data removed]",
      "text/plain": [
       "<Figure size 432x288 with 1 Axes>"
      ]
     },
     "metadata": {
      "needs_background": "light"
     },
     "output_type": "display_data"
    }
   ],
   "source": [
    "make_scatter('critic_score', 'PS4')\n",
    "make_scatter('user_score', 'PS4')"
   ]
  },
  {
   "cell_type": "markdown",
   "metadata": {},
   "source": [
    "**Вывод:**\n",
    "\n",
    "* Оценки критиков положительно влияют на продажи игр, однако зависимость на очень сильная. \n",
    "* Оценки пользователей практически не влияют на продажи игр, корреляция практически минимальная."
   ]
  },
  {
   "cell_type": "markdown",
   "metadata": {},
   "source": [
    "#### Соотнесение с другими консолями"
   ]
  },
  {
   "cell_type": "code",
   "execution_count": 313,
   "metadata": {},
   "outputs": [
    {
     "data": {
      "image/png": "[encoded data removed]",
      "text/plain": [
       "<Figure size 432x288 with 1 Axes>"
      ]
     },
     "metadata": {
      "needs_background": "light"
     },
     "output_type": "display_data"
    },
    {
     "data": {
      "image/png": "[encoded data removed]",
      "text/plain": [
       "<Figure size 432x288 with 1 Axes>"
      ]
     },
     "metadata": {
      "needs_background": "light"
     },
     "output_type": "display_data"
    },
    {
     "data": {
      "image/png": "[encoded data removed]",
      "text/plain": [
       "<Figure size 432x288 with 1 Axes>"
      ]
     },
     "metadata": {
      "needs_background": "light"
     },
     "output_type": "display_data"
    }
   ],
   "source": [
    "# Выделим 3 самых популярных консолей\n",
    "top_3 = ['PS4', 'PS3', 'X360']\n",
    "\n",
    "for el in top_3:\n",
    "    make_scatter('critic_score', el)\n",
    "\n"
   ]
  },
  {
   "cell_type": "markdown",
   "metadata": {},
   "source": [
    "**Вывод:**\n",
    "\n",
    "Влияние оценок критиков на продажи платформы PS3 и X360 практически такое же, как и на продажи платформы PS4: зависимость есть, но на едва заметна."
   ]
  },
  {
   "cell_type": "code",
   "execution_count": 314,
   "metadata": {},
   "outputs": [
    {
     "data": {
      "image/png": "[encoded data removed]",
      "text/plain": [
       "<Figure size 432x288 with 1 Axes>"
      ]
     },
     "metadata": {
      "needs_background": "light"
     },
     "output_type": "display_data"
    },
    {
     "data": {
      "image/png": "[encoded data removed]",
      "text/plain": [
       "<Figure size 432x288 with 1 Axes>"
      ]
     },
     "metadata": {
      "needs_background": "light"
     },
     "output_type": "display_data"
    },
    {
     "data": {
      "image/png": "[encoded data removed]",
      "text/plain": [
       "<Figure size 432x288 with 1 Axes>"
      ]
     },
     "metadata": {
      "needs_background": "light"
     },
     "output_type": "display_data"
    }
   ],
   "source": [
    "for el in top_3:\n",
    "    make_scatter('user_score', el)"
   ]
  },
  {
   "cell_type": "markdown",
   "metadata": {},
   "source": [
    "**Вывод:**\n",
    "\n",
    "Можно сделать вывод, что оценки пользователей практически не влияют на продажи видеоигр. Оценки критиков влияют на продажи, однако не очень сильно."
   ]
  },
  {
   "cell_type": "markdown",
   "metadata": {},
   "source": [
    "### Распределение игр по жанрам"
   ]
  },
  {
   "cell_type": "code",
   "execution_count": 315,
   "metadata": {},
   "outputs": [
    {
     "data": {
      "image/png": "[encoded data removed]",
      "text/plain": [
       "<Figure size 792x504 with 1 Axes>"
      ]
     },
     "metadata": {
      "needs_background": "light"
     },
     "output_type": "display_data"
    },
    {
     "data": {
      "text/plain": [
       "Text(0.5, 1.0, 'Топ-5')"
      ]
     },
     "execution_count": 315,
     "metadata": {},
     "output_type": "execute_result"
    },
    {
     "data": {
      "image/png": "[encoded data removed]",
      "text/plain": [
       "<Figure size 432x288 with 1 Axes>"
      ]
     },
     "metadata": {
      "needs_background": "light"
     },
     "output_type": "display_data"
    }
   ],
   "source": [
    "# Для вычисления самых прибыльных жанров выделим данные, сгруппированные по жанру, и возьмем медианное значение прибыли\n",
    "actual_data_by_genres = (actual_data.groupby('genre')\n",
    "                         .agg({'all_sales' : 'median'})\n",
    "                         .sort_values(by='all_sales', ascending=False)\n",
    "                         .reset_index()\n",
    "                        )\n",
    "\n",
    "fig, barplot = plt.subplots(figsize = (11,7))\n",
    "sns.barplot(\n",
    "    data = actual_data_by_genres, x='genre', y='all_sales', palette='pastel'\n",
    ")\n",
    "plt.title('Общие продажи по жанрам')\n",
    "plt.show()\n",
    "\n",
    "\n",
    "sns.barplot(\n",
    "    data = actual_data_by_genres.head(), x='genre', y='all_sales', palette='pastel'\n",
    ")\n",
    "plt.title('Топ-5')\n",
    "\n"
   ]
  },
  {
   "cell_type": "markdown",
   "metadata": {},
   "source": [
    "**Вывод:**\n",
    "\n",
    "Абсолютным лидером продаж являются игры жанра шутер. Далее идут категории 'sports', 'platform' и 'fighting genre'"
   ]
  },
  {
   "cell_type": "code",
   "execution_count": 316,
   "metadata": {},
   "outputs": [
    {
     "data": {
      "text/plain": [
       "Text(0.5, 1.0, '5 с конца')"
      ]
     },
     "execution_count": 316,
     "metadata": {},
     "output_type": "execute_result"
    },
    {
     "data": {
      "image/png": "[encoded data removed]",
      "text/plain": [
       "<Figure size 432x288 with 1 Axes>"
      ]
     },
     "metadata": {
      "needs_background": "light"
     },
     "output_type": "display_data"
    }
   ],
   "source": [
    "sns.barplot(\n",
    "    data = actual_data_by_genres.tail(5), x='genre', y='all_sales', palette='pastel'\n",
    ")\n",
    "plt.title('5 с конца')"
   ]
  },
  {
   "cell_type": "markdown",
   "metadata": {},
   "source": [
    "**Вывод:**\n",
    "\n",
    "Медианные продажи таких жанров как 'Adventure', 'Puzzle' и 'Stradegy' являются самыми низкими. "
   ]
  },
  {
   "cell_type": "markdown",
   "metadata": {},
   "source": [
    "## Портрет пользователя каждого региона"
   ]
  },
  {
   "cell_type": "markdown",
   "metadata": {},
   "source": [
    "### Платформы в зависимости от региона"
   ]
  },
  {
   "cell_type": "code",
   "execution_count": 317,
   "metadata": {},
   "outputs": [],
   "source": [
    "# выделим топ-5 платформ и топ-5 жанров\n",
    "top_5_pl = actual_data.groupby('platform').agg({'all_sales' : 'sum'}).sort_values(by='all_sales', ascending=False).head().index\n",
    "top_5_genr = actual_data.groupby('genre').agg({'all_sales' : 'sum'}).sort_values(by='all_sales', ascending=False).head().index\n",
    "\n",
    "# Функция для группировки данных по одной из характеристик(платформы/жанра) в зависимости от региона\n",
    "def something_by_something(region, element, query):\n",
    "    result_data = actual_data.query(query).groupby(element).agg({region : 'sum'}).sort_values(by= region,\n",
    "                                                                               ascending=False)\n",
    "    result_data['proportion'] = result_data[region] / sum(result_data[region])\n",
    "    result_data = result_data.style.format('{:.2%}', subset=['proportion'])\n",
    "    return result_data\n",
    "  "
   ]
  },
  {
   "cell_type": "code",
   "execution_count": 318,
   "metadata": {},
   "outputs": [],
   "source": [
    "from IPython.display import display_html\n",
    "from itertools import chain,cycle\n",
    "def display_side_by_side(*args,titles=cycle([''])):\n",
    "    html_str=''\n",
    "    for df,title in zip(args, chain(titles,cycle(['</br>'])) ):\n",
    "        html_str+='<th style=\"text-align:center\"><td style=\"vertical-align:top\">'\n",
    "        html_str+=f'<h2>{title}</h2>'\n",
    "        html_str+=df.render().replace('table','table style=\"display:inline\"')\n",
    "        html_str+='</td></th>'\n",
    "    display_html(html_str,raw=True)"
   ]
  },
  {
   "cell_type": "code",
   "execution_count": 319,
   "metadata": {},
   "outputs": [
    {
     "data": {
      "text/html": [
       "<th style=\"text-align:center\"><td style=\"vertical-align:top\"><h2>all_sales</h2><style type=\"text/css\">\n",
       "</style>\n",
       "<table style=\"display:inline\" id=\"T_85ee7_\">\n",
       "  <thead>\n",
       "    <tr>\n",
       "      <th class=\"blank level0\" >&nbsp;</th>\n",
       "      <th class=\"col_heading level0 col0\" >all_sales</th>\n",
       "      <th class=\"col_heading level0 col1\" >proportion</th>\n",
       "    </tr>\n",
       "    <tr>\n",
       "      <th class=\"index_name level0\" >platform</th>\n",
       "      <th class=\"blank col0\" >&nbsp;</th>\n",
       "      <th class=\"blank col1\" >&nbsp;</th>\n",
       "    </tr>\n",
       "  </thead>\n",
       "  <tbody>\n",
       "    <tr>\n",
       "      <th id=\"T_85ee7_level0_row0\" class=\"row_heading level0 row0\" >PS4</th>\n",
       "      <td id=\"T_85ee7_row0_col0\" class=\"data row0 col0\" >314.140000</td>\n",
       "      <td id=\"T_85ee7_row0_col1\" class=\"data row0 col1\" >33.60%</td>\n",
       "    </tr>\n",
       "    <tr>\n",
       "      <th id=\"T_85ee7_level0_row1\" class=\"row_heading level0 row1\" >PS3</th>\n",
       "      <td id=\"T_85ee7_row1_col0\" class=\"data row1 col0\" >181.430000</td>\n",
       "      <td id=\"T_85ee7_row1_col1\" class=\"data row1 col1\" >19.41%</td>\n",
       "    </tr>\n",
       "    <tr>\n",
       "      <th id=\"T_85ee7_level0_row2\" class=\"row_heading level0 row2\" >XOne</th>\n",
       "      <td id=\"T_85ee7_row2_col0\" class=\"data row2 col0\" >159.320000</td>\n",
       "      <td id=\"T_85ee7_row2_col1\" class=\"data row2 col1\" >17.04%</td>\n",
       "    </tr>\n",
       "    <tr>\n",
       "      <th id=\"T_85ee7_level0_row3\" class=\"row_heading level0 row3\" >3DS</th>\n",
       "      <td id=\"T_85ee7_row3_col0\" class=\"data row3 col0\" >143.250000</td>\n",
       "      <td id=\"T_85ee7_row3_col1\" class=\"data row3 col1\" >15.32%</td>\n",
       "    </tr>\n",
       "    <tr>\n",
       "      <th id=\"T_85ee7_level0_row4\" class=\"row_heading level0 row4\" >X360</th>\n",
       "      <td id=\"T_85ee7_row4_col0\" class=\"data row4 col0\" >136.800000</td>\n",
       "      <td id=\"T_85ee7_row4_col1\" class=\"data row4 col1\" >14.63%</td>\n",
       "    </tr>\n",
       "  </tbody>\n",
       "</table style=\"display:inline\">\n",
       "</td></th><th style=\"text-align:center\"><td style=\"vertical-align:top\"><h2>na_sales</h2><style type=\"text/css\">\n",
       "</style>\n",
       "<table style=\"display:inline\" id=\"T_3b488_\">\n",
       "  <thead>\n",
       "    <tr>\n",
       "      <th class=\"blank level0\" >&nbsp;</th>\n",
       "      <th class=\"col_heading level0 col0\" >na_sales</th>\n",
       "      <th class=\"col_heading level0 col1\" >proportion</th>\n",
       "    </tr>\n",
       "    <tr>\n",
       "      <th class=\"index_name level0\" >platform</th>\n",
       "      <th class=\"blank col0\" >&nbsp;</th>\n",
       "      <th class=\"blank col1\" >&nbsp;</th>\n",
       "    </tr>\n",
       "  </thead>\n",
       "  <tbody>\n",
       "    <tr>\n",
       "      <th id=\"T_3b488_level0_row0\" class=\"row_heading level0 row0\" >PS4</th>\n",
       "      <td id=\"T_3b488_row0_col0\" class=\"data row0 col0\" >108.740000</td>\n",
       "      <td id=\"T_3b488_row0_col1\" class=\"data row0 col1\" >28.23%</td>\n",
       "    </tr>\n",
       "    <tr>\n",
       "      <th id=\"T_3b488_level0_row1\" class=\"row_heading level0 row1\" >XOne</th>\n",
       "      <td id=\"T_3b488_row1_col0\" class=\"data row1 col0\" >93.120000</td>\n",
       "      <td id=\"T_3b488_row1_col1\" class=\"data row1 col1\" >24.17%</td>\n",
       "    </tr>\n",
       "    <tr>\n",
       "      <th id=\"T_3b488_level0_row2\" class=\"row_heading level0 row2\" >X360</th>\n",
       "      <td id=\"T_3b488_row2_col0\" class=\"data row2 col0\" >81.660000</td>\n",
       "      <td id=\"T_3b488_row2_col1\" class=\"data row2 col1\" >21.20%</td>\n",
       "    </tr>\n",
       "    <tr>\n",
       "      <th id=\"T_3b488_level0_row3\" class=\"row_heading level0 row3\" >PS3</th>\n",
       "      <td id=\"T_3b488_row3_col0\" class=\"data row3 col0\" >63.500000</td>\n",
       "      <td id=\"T_3b488_row3_col1\" class=\"data row3 col1\" >16.48%</td>\n",
       "    </tr>\n",
       "    <tr>\n",
       "      <th id=\"T_3b488_level0_row4\" class=\"row_heading level0 row4\" >3DS</th>\n",
       "      <td id=\"T_3b488_row4_col0\" class=\"data row4 col0\" >38.200000</td>\n",
       "      <td id=\"T_3b488_row4_col1\" class=\"data row4 col1\" >9.92%</td>\n",
       "    </tr>\n",
       "  </tbody>\n",
       "</table style=\"display:inline\">\n",
       "</td></th><th style=\"text-align:center\"><td style=\"vertical-align:top\"><h2>eu_sales</h2><style type=\"text/css\">\n",
       "</style>\n",
       "<table style=\"display:inline\" id=\"T_4f090_\">\n",
       "  <thead>\n",
       "    <tr>\n",
       "      <th class=\"blank level0\" >&nbsp;</th>\n",
       "      <th class=\"col_heading level0 col0\" >eu_sales</th>\n",
       "      <th class=\"col_heading level0 col1\" >proportion</th>\n",
       "    </tr>\n",
       "    <tr>\n",
       "      <th class=\"index_name level0\" >platform</th>\n",
       "      <th class=\"blank col0\" >&nbsp;</th>\n",
       "      <th class=\"blank col1\" >&nbsp;</th>\n",
       "    </tr>\n",
       "  </thead>\n",
       "  <tbody>\n",
       "    <tr>\n",
       "      <th id=\"T_4f090_level0_row0\" class=\"row_heading level0 row0\" >PS4</th>\n",
       "      <td id=\"T_4f090_row0_col0\" class=\"data row0 col0\" >141.090000</td>\n",
       "      <td id=\"T_4f090_row0_col1\" class=\"data row0 col1\" >42.25%</td>\n",
       "    </tr>\n",
       "    <tr>\n",
       "      <th id=\"T_4f090_level0_row1\" class=\"row_heading level0 row1\" >PS3</th>\n",
       "      <td id=\"T_4f090_row1_col0\" class=\"data row1 col0\" >67.810000</td>\n",
       "      <td id=\"T_4f090_row1_col1\" class=\"data row1 col1\" >20.30%</td>\n",
       "    </tr>\n",
       "    <tr>\n",
       "      <th id=\"T_4f090_level0_row2\" class=\"row_heading level0 row2\" >XOne</th>\n",
       "      <td id=\"T_4f090_row2_col0\" class=\"data row2 col0\" >51.590000</td>\n",
       "      <td id=\"T_4f090_row2_col1\" class=\"data row2 col1\" >15.45%</td>\n",
       "    </tr>\n",
       "    <tr>\n",
       "      <th id=\"T_4f090_level0_row3\" class=\"row_heading level0 row3\" >X360</th>\n",
       "      <td id=\"T_4f090_row3_col0\" class=\"data row3 col0\" >42.520000</td>\n",
       "      <td id=\"T_4f090_row3_col1\" class=\"data row3 col1\" >12.73%</td>\n",
       "    </tr>\n",
       "    <tr>\n",
       "      <th id=\"T_4f090_level0_row4\" class=\"row_heading level0 row4\" >3DS</th>\n",
       "      <td id=\"T_4f090_row4_col0\" class=\"data row4 col0\" >30.960000</td>\n",
       "      <td id=\"T_4f090_row4_col1\" class=\"data row4 col1\" >9.27%</td>\n",
       "    </tr>\n",
       "  </tbody>\n",
       "</table style=\"display:inline\">\n",
       "</td></th><th style=\"text-align:center\"><td style=\"vertical-align:top\"><h2>jp_sales</h2><style type=\"text/css\">\n",
       "</style>\n",
       "<table style=\"display:inline\" id=\"T_be025_\">\n",
       "  <thead>\n",
       "    <tr>\n",
       "      <th class=\"blank level0\" >&nbsp;</th>\n",
       "      <th class=\"col_heading level0 col0\" >jp_sales</th>\n",
       "      <th class=\"col_heading level0 col1\" >proportion</th>\n",
       "    </tr>\n",
       "    <tr>\n",
       "      <th class=\"index_name level0\" >platform</th>\n",
       "      <th class=\"blank col0\" >&nbsp;</th>\n",
       "      <th class=\"blank col1\" >&nbsp;</th>\n",
       "    </tr>\n",
       "  </thead>\n",
       "  <tbody>\n",
       "    <tr>\n",
       "      <th id=\"T_be025_level0_row0\" class=\"row_heading level0 row0\" >3DS</th>\n",
       "      <td id=\"T_be025_row0_col0\" class=\"data row0 col0\" >67.810000</td>\n",
       "      <td id=\"T_be025_row0_col1\" class=\"data row0 col1\" >62.80%</td>\n",
       "    </tr>\n",
       "    <tr>\n",
       "      <th id=\"T_be025_level0_row1\" class=\"row_heading level0 row1\" >PS3</th>\n",
       "      <td id=\"T_be025_row1_col0\" class=\"data row1 col0\" >23.350000</td>\n",
       "      <td id=\"T_be025_row1_col1\" class=\"data row1 col1\" >21.63%</td>\n",
       "    </tr>\n",
       "    <tr>\n",
       "      <th id=\"T_be025_level0_row2\" class=\"row_heading level0 row2\" >PS4</th>\n",
       "      <td id=\"T_be025_row2_col0\" class=\"data row2 col0\" >15.960000</td>\n",
       "      <td id=\"T_be025_row2_col1\" class=\"data row2 col1\" >14.78%</td>\n",
       "    </tr>\n",
       "    <tr>\n",
       "      <th id=\"T_be025_level0_row3\" class=\"row_heading level0 row3\" >X360</th>\n",
       "      <td id=\"T_be025_row3_col0\" class=\"data row3 col0\" >0.510000</td>\n",
       "      <td id=\"T_be025_row3_col1\" class=\"data row3 col1\" >0.47%</td>\n",
       "    </tr>\n",
       "    <tr>\n",
       "      <th id=\"T_be025_level0_row4\" class=\"row_heading level0 row4\" >XOne</th>\n",
       "      <td id=\"T_be025_row4_col0\" class=\"data row4 col0\" >0.340000</td>\n",
       "      <td id=\"T_be025_row4_col1\" class=\"data row4 col1\" >0.31%</td>\n",
       "    </tr>\n",
       "  </tbody>\n",
       "</table style=\"display:inline\">\n",
       "</td></th>"
      ]
     },
     "metadata": {},
     "output_type": "display_data"
    }
   ],
   "source": [
    "list_of_regions = ['all_sales', 'na_sales', 'eu_sales', 'jp_sales']\n",
    "\n",
    "\n",
    "dataframes = [something_by_something(el, 'platform', 'platform in @top_5_pl') for el in list_of_regions]\n",
    "        \n",
    "        \n",
    "display_side_by_side(*dataframes, titles=list_of_regions)"
   ]
  },
  {
   "cell_type": "markdown",
   "metadata": {},
   "source": [
    "**Вывод:**\n",
    "\n",
    " - В Северной Америке наибольшей популярностью в последние годы пользуется платформа PS4, а также платформы XBox(Xone и X360)\n",
    "\n",
    " - В Европе большу покупают игры для PlayStation(PS4 и PS3), ниже по продажам идут игры для XOne и X360. Распределение наиболее схоже с общемировым.\n",
    "\n",
    " - В Японии наибольшей поплярностью пользуются игры для 3DS(62% всех продаж). В отличие от других регионов более новая версия консоли PS4 менее популярна, чем PS3."
   ]
  },
  {
   "cell_type": "markdown",
   "metadata": {},
   "source": [
    "### Популярные жанры по регионам"
   ]
  },
  {
   "cell_type": "code",
   "execution_count": 320,
   "metadata": {},
   "outputs": [
    {
     "data": {
      "text/html": [
       "<th style=\"text-align:center\"><td style=\"vertical-align:top\"><h2>all_sales</h2><style type=\"text/css\">\n",
       "</style>\n",
       "<table style=\"display:inline\" id=\"T_e68a0_\">\n",
       "  <thead>\n",
       "    <tr>\n",
       "      <th class=\"blank level0\" >&nbsp;</th>\n",
       "      <th class=\"col_heading level0 col0\" >all_sales</th>\n",
       "      <th class=\"col_heading level0 col1\" >proportion</th>\n",
       "    </tr>\n",
       "    <tr>\n",
       "      <th class=\"index_name level0\" >genre</th>\n",
       "      <th class=\"blank col0\" >&nbsp;</th>\n",
       "      <th class=\"blank col1\" >&nbsp;</th>\n",
       "    </tr>\n",
       "  </thead>\n",
       "  <tbody>\n",
       "    <tr>\n",
       "      <th id=\"T_e68a0_level0_row0\" class=\"row_heading level0 row0\" >Action</th>\n",
       "      <td id=\"T_e68a0_row0_col0\" class=\"data row0 col0\" >321.870000</td>\n",
       "      <td id=\"T_e68a0_row0_col1\" class=\"data row0 col1\" >35.21%</td>\n",
       "    </tr>\n",
       "    <tr>\n",
       "      <th id=\"T_e68a0_level0_row1\" class=\"row_heading level0 row1\" >Shooter</th>\n",
       "      <td id=\"T_e68a0_row1_col0\" class=\"data row1 col0\" >232.980000</td>\n",
       "      <td id=\"T_e68a0_row1_col1\" class=\"data row1 col1\" >25.48%</td>\n",
       "    </tr>\n",
       "    <tr>\n",
       "      <th id=\"T_e68a0_level0_row2\" class=\"row_heading level0 row2\" >Sports</th>\n",
       "      <td id=\"T_e68a0_row2_col0\" class=\"data row2 col0\" >150.650000</td>\n",
       "      <td id=\"T_e68a0_row2_col1\" class=\"data row2 col1\" >16.48%</td>\n",
       "    </tr>\n",
       "    <tr>\n",
       "      <th id=\"T_e68a0_level0_row3\" class=\"row_heading level0 row3\" >Role-Playing</th>\n",
       "      <td id=\"T_e68a0_row3_col0\" class=\"data row3 col0\" >145.890000</td>\n",
       "      <td id=\"T_e68a0_row3_col1\" class=\"data row3 col1\" >15.96%</td>\n",
       "    </tr>\n",
       "    <tr>\n",
       "      <th id=\"T_e68a0_level0_row4\" class=\"row_heading level0 row4\" >Misc</th>\n",
       "      <td id=\"T_e68a0_row4_col0\" class=\"data row4 col0\" >62.820000</td>\n",
       "      <td id=\"T_e68a0_row4_col1\" class=\"data row4 col1\" >6.87%</td>\n",
       "    </tr>\n",
       "  </tbody>\n",
       "</table style=\"display:inline\">\n",
       "</td></th><th style=\"text-align:center\"><td style=\"vertical-align:top\"><h2>na_sales</h2><style type=\"text/css\">\n",
       "</style>\n",
       "<table style=\"display:inline\" id=\"T_da89f_\">\n",
       "  <thead>\n",
       "    <tr>\n",
       "      <th class=\"blank level0\" >&nbsp;</th>\n",
       "      <th class=\"col_heading level0 col0\" >na_sales</th>\n",
       "      <th class=\"col_heading level0 col1\" >proportion</th>\n",
       "    </tr>\n",
       "    <tr>\n",
       "      <th class=\"index_name level0\" >genre</th>\n",
       "      <th class=\"blank col0\" >&nbsp;</th>\n",
       "      <th class=\"blank col1\" >&nbsp;</th>\n",
       "    </tr>\n",
       "  </thead>\n",
       "  <tbody>\n",
       "    <tr>\n",
       "      <th id=\"T_da89f_level0_row0\" class=\"row_heading level0 row0\" >Action</th>\n",
       "      <td id=\"T_da89f_row0_col0\" class=\"data row0 col0\" >126.050000</td>\n",
       "      <td id=\"T_da89f_row0_col1\" class=\"data row0 col1\" >33.62%</td>\n",
       "    </tr>\n",
       "    <tr>\n",
       "      <th id=\"T_da89f_level0_row1\" class=\"row_heading level0 row1\" >Shooter</th>\n",
       "      <td id=\"T_da89f_row1_col0\" class=\"data row1 col0\" >109.740000</td>\n",
       "      <td id=\"T_da89f_row1_col1\" class=\"data row1 col1\" >29.27%</td>\n",
       "    </tr>\n",
       "    <tr>\n",
       "      <th id=\"T_da89f_level0_row2\" class=\"row_heading level0 row2\" >Sports</th>\n",
       "      <td id=\"T_da89f_row2_col0\" class=\"data row2 col0\" >65.270000</td>\n",
       "      <td id=\"T_da89f_row2_col1\" class=\"data row2 col1\" >17.41%</td>\n",
       "    </tr>\n",
       "    <tr>\n",
       "      <th id=\"T_da89f_level0_row3\" class=\"row_heading level0 row3\" >Role-Playing</th>\n",
       "      <td id=\"T_da89f_row3_col0\" class=\"data row3 col0\" >46.400000</td>\n",
       "      <td id=\"T_da89f_row3_col1\" class=\"data row3 col1\" >12.37%</td>\n",
       "    </tr>\n",
       "    <tr>\n",
       "      <th id=\"T_da89f_level0_row4\" class=\"row_heading level0 row4\" >Misc</th>\n",
       "      <td id=\"T_da89f_row4_col0\" class=\"data row4 col0\" >27.490000</td>\n",
       "      <td id=\"T_da89f_row4_col1\" class=\"data row4 col1\" >7.33%</td>\n",
       "    </tr>\n",
       "  </tbody>\n",
       "</table style=\"display:inline\">\n",
       "</td></th><th style=\"text-align:center\"><td style=\"vertical-align:top\"><h2>eu_sales</h2><style type=\"text/css\">\n",
       "</style>\n",
       "<table style=\"display:inline\" id=\"T_f6454_\">\n",
       "  <thead>\n",
       "    <tr>\n",
       "      <th class=\"blank level0\" >&nbsp;</th>\n",
       "      <th class=\"col_heading level0 col0\" >eu_sales</th>\n",
       "      <th class=\"col_heading level0 col1\" >proportion</th>\n",
       "    </tr>\n",
       "    <tr>\n",
       "      <th class=\"index_name level0\" >genre</th>\n",
       "      <th class=\"blank col0\" >&nbsp;</th>\n",
       "      <th class=\"blank col1\" >&nbsp;</th>\n",
       "    </tr>\n",
       "  </thead>\n",
       "  <tbody>\n",
       "    <tr>\n",
       "      <th id=\"T_f6454_level0_row0\" class=\"row_heading level0 row0\" >Action</th>\n",
       "      <td id=\"T_f6454_row0_col0\" class=\"data row0 col0\" >118.130000</td>\n",
       "      <td id=\"T_f6454_row0_col1\" class=\"data row0 col1\" >36.51%</td>\n",
       "    </tr>\n",
       "    <tr>\n",
       "      <th id=\"T_f6454_level0_row1\" class=\"row_heading level0 row1\" >Shooter</th>\n",
       "      <td id=\"T_f6454_row1_col0\" class=\"data row1 col0\" >87.860000</td>\n",
       "      <td id=\"T_f6454_row1_col1\" class=\"data row1 col1\" >27.16%</td>\n",
       "    </tr>\n",
       "    <tr>\n",
       "      <th id=\"T_f6454_level0_row2\" class=\"row_heading level0 row2\" >Sports</th>\n",
       "      <td id=\"T_f6454_row2_col0\" class=\"data row2 col0\" >60.520000</td>\n",
       "      <td id=\"T_f6454_row2_col1\" class=\"data row2 col1\" >18.71%</td>\n",
       "    </tr>\n",
       "    <tr>\n",
       "      <th id=\"T_f6454_level0_row3\" class=\"row_heading level0 row3\" >Role-Playing</th>\n",
       "      <td id=\"T_f6454_row3_col0\" class=\"data row3 col0\" >36.970000</td>\n",
       "      <td id=\"T_f6454_row3_col1\" class=\"data row3 col1\" >11.43%</td>\n",
       "    </tr>\n",
       "    <tr>\n",
       "      <th id=\"T_f6454_level0_row4\" class=\"row_heading level0 row4\" >Misc</th>\n",
       "      <td id=\"T_f6454_row4_col0\" class=\"data row4 col0\" >20.040000</td>\n",
       "      <td id=\"T_f6454_row4_col1\" class=\"data row4 col1\" >6.19%</td>\n",
       "    </tr>\n",
       "  </tbody>\n",
       "</table style=\"display:inline\">\n",
       "</td></th><th style=\"text-align:center\"><td style=\"vertical-align:top\"><h2>jp_sales</h2><style type=\"text/css\">\n",
       "</style>\n",
       "<table style=\"display:inline\" id=\"T_355ea_\">\n",
       "  <thead>\n",
       "    <tr>\n",
       "      <th class=\"blank level0\" >&nbsp;</th>\n",
       "      <th class=\"col_heading level0 col0\" >jp_sales</th>\n",
       "      <th class=\"col_heading level0 col1\" >proportion</th>\n",
       "    </tr>\n",
       "    <tr>\n",
       "      <th class=\"index_name level0\" >genre</th>\n",
       "      <th class=\"blank col0\" >&nbsp;</th>\n",
       "      <th class=\"blank col1\" >&nbsp;</th>\n",
       "    </tr>\n",
       "  </thead>\n",
       "  <tbody>\n",
       "    <tr>\n",
       "      <th id=\"T_355ea_level0_row0\" class=\"row_heading level0 row0\" >Role-Playing</th>\n",
       "      <td id=\"T_355ea_row0_col0\" class=\"data row0 col0\" >51.040000</td>\n",
       "      <td id=\"T_355ea_row0_col1\" class=\"data row0 col1\" >45.27%</td>\n",
       "    </tr>\n",
       "    <tr>\n",
       "      <th id=\"T_355ea_level0_row1\" class=\"row_heading level0 row1\" >Action</th>\n",
       "      <td id=\"T_355ea_row1_col0\" class=\"data row1 col0\" >40.490000</td>\n",
       "      <td id=\"T_355ea_row1_col1\" class=\"data row1 col1\" >35.91%</td>\n",
       "    </tr>\n",
       "    <tr>\n",
       "      <th id=\"T_355ea_level0_row2\" class=\"row_heading level0 row2\" >Misc</th>\n",
       "      <td id=\"T_355ea_row2_col0\" class=\"data row2 col0\" >9.200000</td>\n",
       "      <td id=\"T_355ea_row2_col1\" class=\"data row2 col1\" >8.16%</td>\n",
       "    </tr>\n",
       "    <tr>\n",
       "      <th id=\"T_355ea_level0_row3\" class=\"row_heading level0 row3\" >Shooter</th>\n",
       "      <td id=\"T_355ea_row3_col0\" class=\"data row3 col0\" >6.610000</td>\n",
       "      <td id=\"T_355ea_row3_col1\" class=\"data row3 col1\" >5.86%</td>\n",
       "    </tr>\n",
       "    <tr>\n",
       "      <th id=\"T_355ea_level0_row4\" class=\"row_heading level0 row4\" >Sports</th>\n",
       "      <td id=\"T_355ea_row4_col0\" class=\"data row4 col0\" >5.410000</td>\n",
       "      <td id=\"T_355ea_row4_col1\" class=\"data row4 col1\" >4.80%</td>\n",
       "    </tr>\n",
       "  </tbody>\n",
       "</table style=\"display:inline\">\n",
       "</td></th>"
      ]
     },
     "metadata": {},
     "output_type": "display_data"
    }
   ],
   "source": [
    "dataframes = [something_by_something(el, 'genre', 'genre in @top_5_genr') for el in list_of_regions]\n",
    "display_side_by_side(*dataframes, titles=list_of_regions)"
   ]
  },
  {
   "cell_type": "markdown",
   "metadata": {},
   "source": [
    "**Вывод:**\n",
    "\n",
    " - В Северной Америке распределение по жанрам соответствует распределению по всему миру.\n",
    "\n",
    " - В Европе распределение по жанрам соответствует распределению по всему миру.\n",
    "\n",
    " - В Японии это распределение значительно отличается. Наиболее популярным жанром является Role-Playing. Также лидирующий в других регионах жанр Shooter в этой стране не так хорош по продажам.\n"
   ]
  },
  {
   "cell_type": "markdown",
   "metadata": {},
   "source": [
    "### Влияние рейтинга ERSB на продажи в разных регионах."
   ]
  },
  {
   "cell_type": "code",
   "execution_count": 321,
   "metadata": {
    "scrolled": false
   },
   "outputs": [
    {
     "data": {
      "text/plain": [
       "array(['M', 'unknown', 'E', 'T', 'E10+'], dtype=object)"
      ]
     },
     "execution_count": 321,
     "metadata": {},
     "output_type": "execute_result"
    }
   ],
   "source": [
    "actual_data['rating'].unique()"
   ]
  },
  {
   "cell_type": "code",
   "execution_count": 322,
   "metadata": {},
   "outputs": [
    {
     "data": {
      "image/png": "[encoded data removed]",
      "text/plain": [
       "<Figure size 720x504 with 1 Axes>"
      ]
     },
     "metadata": {},
     "output_type": "display_data"
    },
    {
     "data": {
      "image/png": "[encoded data removed]",
      "text/plain": [
       "<Figure size 720x504 with 1 Axes>"
      ]
     },
     "metadata": {},
     "output_type": "display_data"
    },
    {
     "data": {
      "image/png": "[encoded data removed]",
      "text/plain": [
       "<Figure size 720x504 with 1 Axes>"
      ]
     },
     "metadata": {},
     "output_type": "display_data"
    },
    {
     "data": {
      "image/png": "[encoded data removed]",
      "text/plain": [
       "<Figure size 720x504 with 1 Axes>"
      ]
     },
     "metadata": {},
     "output_type": "display_data"
    }
   ],
   "source": [
    "for el in list_of_regions:\n",
    "    actual_data_rating = (actual_data.groupby('rating')\n",
    "                         .agg({el : 'sum'})\n",
    "                         .sort_values(by=el, ascending=False)\n",
    "                         .head()\n",
    "                         .plot(kind='pie',\n",
    "                              y=el,\n",
    "                              #explode = (0.1, 0.04, 0.04, 0),\n",
    "                              figsize=(10,7),\n",
    "                              autopct= '%1.1f%%',\n",
    "                              title=el)\n",
    "                        )\n",
    "    plt.show()\n",
    "    "
   ]
  },
  {
   "cell_type": "markdown",
   "metadata": {},
   "source": [
    "**Вывод:**\n",
    "\n",
    "* Практически во всех регионах(кроме Японии) самыми популярными являются игры с рейтингом М(17+).\n",
    "* В Северной Америке и Европе также явлются популярными игры с рейтингом E(everyone).\n",
    "* Также в этих регионах большие продажи у игр для подростков и всех, кому больше 10 лет. \n",
    "* В Японии, к сожалению, не указан рейтинг у игр, у которых самые большие продажи. Стоит отметить, что скорее всего это локальные японские игры. В Японии есть свой аналог ESRB, он называется CERO.\n"
   ]
  },
  {
   "cell_type": "markdown",
   "metadata": {},
   "source": [
    "## Проверка гипотез"
   ]
  },
  {
   "cell_type": "markdown",
   "metadata": {},
   "source": [
    "### Сравнение пользовательских рейтингов платформ Xbox One и PC"
   ]
  },
  {
   "cell_type": "markdown",
   "metadata": {},
   "source": [
    "**Нулевая гипотеза:** Средние пользовательские рейтинги платформ Xbox One и PC одинаковые.\n",
    "</div>\n",
    "\n",
    "**Альтернативная гипотеза:** Они разные."
   ]
  },
  {
   "cell_type": "code",
   "execution_count": 323,
   "metadata": {},
   "outputs": [],
   "source": [
    "warnings.filterwarnings('ignore')\n"
   ]
  },
  {
   "cell_type": "code",
   "execution_count": 324,
   "metadata": {},
   "outputs": [
    {
     "name": "stdout",
     "output_type": "stream",
     "text": [
      "p-значение: 0.14012658403611647\n",
      "Не получилось отвергнуть нулевую гипотезу\n"
     ]
    }
   ],
   "source": [
    "#Удалим пропуски в датасете в столбце 'user_score', чтобы у нас получилось сделать проверку гипотезы.\n",
    "actual_data.dropna(subset=['user_score'], inplace=True)\n",
    "\n",
    "#Разделим данные по платформам\n",
    "xbo = actual_data.query('platform == \"XOne\"')\n",
    "xbo = xbo['user_score']\n",
    "pc = actual_data.query('platform == \"PC\"')\n",
    "pc = pc['user_score']\n",
    "\n",
    "alpha = 0.05  # критический уровень статистической значимости\n",
    "# если p-value окажется меньше него - отвергнем гипотезу\n",
    "\n",
    "results = st.ttest_ind(xbo, pc)\n",
    "\n",
    "print('p-значение:', results.pvalue)\n",
    "\n",
    "if results.pvalue < alpha:\n",
    "    print('Отвергаем нулевую гипотезу')\n",
    "else:\n",
    "    print('Не получилось отвергнуть нулевую гипотезу') \n"
   ]
  },
  {
   "cell_type": "markdown",
   "metadata": {},
   "source": [
    "Убедимся в этом:"
   ]
  },
  {
   "cell_type": "code",
   "execution_count": 325,
   "metadata": {},
   "outputs": [
    {
     "data": {
      "text/plain": [
       "count    182.000000\n",
       "mean       6.521429\n",
       "std        1.380941\n",
       "min        1.600000\n",
       "25%        5.800000\n",
       "50%        6.800000\n",
       "75%        7.500000\n",
       "max        9.200000\n",
       "Name: user_score, dtype: float64"
      ]
     },
     "metadata": {},
     "output_type": "display_data"
    },
    {
     "data": {
      "text/plain": [
       "count    155.000000\n",
       "mean       6.269677\n",
       "std        1.742381\n",
       "min        1.400000\n",
       "25%        5.300000\n",
       "50%        6.800000\n",
       "75%        7.600000\n",
       "max        9.300000\n",
       "Name: user_score, dtype: float64"
      ]
     },
     "metadata": {},
     "output_type": "display_data"
    }
   ],
   "source": [
    "display(xbo.describe())\n",
    "display(pc.describe())"
   ]
  },
  {
   "cell_type": "markdown",
   "metadata": {},
   "source": [
    "**Вывод:**\n",
    "\n",
    "Таким образом, гипотезу отвергнуть не получилось. Это кажется вполне закономерным: на XOne и PC выходят одни и те же игры."
   ]
  },
  {
   "cell_type": "markdown",
   "metadata": {},
   "source": [
    "### Сравнение пользовательских рейтингов игр в жанре Action и Sports"
   ]
  },
  {
   "cell_type": "markdown",
   "metadata": {},
   "source": [
    "**Нулевая гипотеза:** Средние пользовательские рейтинги жанров Action и Sports равны.\n",
    "</div>\n",
    "\n",
    "**Альтернативная гипотеза:** Они разные."
   ]
  },
  {
   "cell_type": "code",
   "execution_count": 326,
   "metadata": {},
   "outputs": [
    {
     "name": "stdout",
     "output_type": "stream",
     "text": [
      "p-значение: 1.0517832389140023e-27\n",
      "Отвергаем нулевую гипотезу\n"
     ]
    }
   ],
   "source": [
    "action = actual_data.query('genre == \"Action\"')\n",
    "action = action['user_score']\n",
    "sports = actual_data.query('genre == \"Sports\"')\n",
    "sports = sports['user_score']\n",
    "\n",
    "alpha = 0.05  # критический уровень статистической значимости\n",
    "# если p-value окажется меньше него - отвергнем гипотезу\n",
    "\n",
    "results = st.ttest_ind(action, sports)\n",
    "\n",
    "print('p-значение:', results.pvalue)\n",
    "\n",
    "if results.pvalue < alpha:\n",
    "    print('Отвергаем нулевую гипотезу')\n",
    "else:\n",
    "    print('Не получилось отвергнуть нулевую гипотезу') \n"
   ]
  },
  {
   "cell_type": "code",
   "execution_count": 327,
   "metadata": {},
   "outputs": [
    {
     "data": {
      "text/plain": [
       "count    389.000000\n",
       "mean       6.837532\n",
       "std        1.330173\n",
       "min        2.000000\n",
       "25%        6.300000\n",
       "50%        7.100000\n",
       "75%        7.800000\n",
       "max        9.100000\n",
       "Name: user_score, dtype: float64"
      ]
     },
     "metadata": {},
     "output_type": "display_data"
    },
    {
     "data": {
      "text/plain": [
       "count    160.000000\n",
       "mean       5.238125\n",
       "std        1.783427\n",
       "min        0.200000\n",
       "25%        4.100000\n",
       "50%        5.500000\n",
       "75%        6.500000\n",
       "max        8.800000\n",
       "Name: user_score, dtype: float64"
      ]
     },
     "metadata": {},
     "output_type": "display_data"
    }
   ],
   "source": [
    "display(action.describe())\n",
    "display(sports.describe())"
   ]
  },
  {
   "cell_type": "markdown",
   "metadata": {},
   "source": [
    "Средние значения довольно сильно отличаются"
   ]
  },
  {
   "cell_type": "markdown",
   "metadata": {},
   "source": [
    "**Вывод:**\n",
    "\n",
    "Таким образом, мы отвергаем гипотезу о том, что средние пользовательские рейтинги жанров Action и Sports равны."
   ]
  },
  {
   "cell_type": "markdown",
   "metadata": {},
   "source": [
    "## Вывод"
   ]
  },
  {
   "cell_type": "markdown",
   "metadata": {},
   "source": [
    "Таким образом, с целью получения большей прибыли имеет смысл продвигать игры на платформах PS4 и X360 в жанрах Action, Shooter и Sports в Северной Америке и Европе. В Японии лучше провдвигать игры на платформе 3DS в жанрах Role-Playing, Action и Misc."
   ]
  }
 ],
 "metadata": {
  "ExecuteTimeLog": [
   {
    "duration": 806,
    "start_time": "2021-12-19T16:39:13.995Z"
   },
   {
    "duration": 50,
    "start_time": "2021-12-19T16:39:22.711Z"
   },
   {
    "duration": 17,
    "start_time": "2021-12-19T16:39:32.098Z"
   },
   {
    "duration": 20,
    "start_time": "2021-12-19T16:41:49.292Z"
   },
   {
    "duration": 12,
    "start_time": "2021-12-19T16:41:50.296Z"
   },
   {
    "duration": 580,
    "start_time": "2021-12-19T16:49:45.744Z"
   },
   {
    "duration": 373,
    "start_time": "2021-12-19T16:49:49.155Z"
   },
   {
    "duration": 5,
    "start_time": "2021-12-19T16:49:58.535Z"
   },
   {
    "duration": 18,
    "start_time": "2021-12-19T16:50:02.571Z"
   },
   {
    "duration": 13,
    "start_time": "2021-12-19T16:51:45.897Z"
   },
   {
    "duration": 22,
    "start_time": "2021-12-19T16:51:56.631Z"
   },
   {
    "duration": 377,
    "start_time": "2021-12-19T16:53:07.721Z"
   },
   {
    "duration": 12,
    "start_time": "2021-12-19T16:53:48.638Z"
   },
   {
    "duration": 380,
    "start_time": "2021-12-19T16:53:51.966Z"
   },
   {
    "duration": 463,
    "start_time": "2021-12-19T16:53:56.075Z"
   },
   {
    "duration": 393,
    "start_time": "2021-12-19T16:54:04.193Z"
   },
   {
    "duration": 49,
    "start_time": "2021-12-19T16:54:07.485Z"
   },
   {
    "duration": 27,
    "start_time": "2021-12-19T16:54:08.066Z"
   },
   {
    "duration": 14,
    "start_time": "2021-12-19T16:54:08.572Z"
   },
   {
    "duration": 4,
    "start_time": "2021-12-19T16:54:10.557Z"
   },
   {
    "duration": 20,
    "start_time": "2021-12-19T16:54:12.155Z"
   },
   {
    "duration": 10,
    "start_time": "2021-12-19T16:54:14.178Z"
   },
   {
    "duration": 14,
    "start_time": "2021-12-19T16:54:16.600Z"
   },
   {
    "duration": 12,
    "start_time": "2021-12-19T16:54:21.175Z"
   },
   {
    "duration": 13,
    "start_time": "2021-12-19T16:54:24.858Z"
   },
   {
    "duration": 427,
    "start_time": "2021-12-19T16:54:28.412Z"
   },
   {
    "duration": 49,
    "start_time": "2021-12-19T16:54:31.063Z"
   },
   {
    "duration": 19,
    "start_time": "2021-12-19T16:54:31.834Z"
   },
   {
    "duration": 13,
    "start_time": "2021-12-19T16:54:32.122Z"
   },
   {
    "duration": 396,
    "start_time": "2021-12-19T16:54:37.070Z"
   },
   {
    "duration": 48,
    "start_time": "2021-12-19T16:54:43.548Z"
   },
   {
    "duration": 19,
    "start_time": "2021-12-19T16:54:44.052Z"
   },
   {
    "duration": 15,
    "start_time": "2021-12-19T16:54:44.451Z"
   },
   {
    "duration": 4,
    "start_time": "2021-12-19T16:54:45.615Z"
   },
   {
    "duration": 19,
    "start_time": "2021-12-19T16:54:46.624Z"
   },
   {
    "duration": 11,
    "start_time": "2021-12-19T16:54:48.343Z"
   },
   {
    "duration": 15,
    "start_time": "2021-12-19T16:54:50.890Z"
   },
   {
    "duration": 50,
    "start_time": "2021-12-19T16:55:00.073Z"
   },
   {
    "duration": 19,
    "start_time": "2021-12-19T16:55:00.490Z"
   },
   {
    "duration": 13,
    "start_time": "2021-12-19T16:55:01.792Z"
   },
   {
    "duration": 4,
    "start_time": "2021-12-19T16:55:03.005Z"
   },
   {
    "duration": 19,
    "start_time": "2021-12-19T16:55:05.303Z"
   },
   {
    "duration": 12,
    "start_time": "2021-12-19T16:55:06.328Z"
   },
   {
    "duration": 14,
    "start_time": "2021-12-19T16:55:08.289Z"
   },
   {
    "duration": 14,
    "start_time": "2021-12-19T16:57:06.343Z"
   },
   {
    "duration": 30,
    "start_time": "2021-12-19T16:57:19.929Z"
   },
   {
    "duration": 6,
    "start_time": "2021-12-19T16:57:38.633Z"
   },
   {
    "duration": 6,
    "start_time": "2021-12-19T16:57:44.746Z"
   },
   {
    "duration": 7,
    "start_time": "2021-12-19T16:57:53.533Z"
   },
   {
    "duration": 365,
    "start_time": "2021-12-19T16:59:14.659Z"
   },
   {
    "duration": 10924,
    "start_time": "2021-12-19T16:59:32.485Z"
   },
   {
    "duration": 376,
    "start_time": "2021-12-19T17:01:01.315Z"
   },
   {
    "duration": 531,
    "start_time": "2021-12-19T17:01:39.293Z"
   },
   {
    "duration": 15,
    "start_time": "2021-12-19T17:01:50.845Z"
   },
   {
    "duration": 15,
    "start_time": "2021-12-19T17:02:05.932Z"
   },
   {
    "duration": 9,
    "start_time": "2021-12-19T17:04:15.211Z"
   },
   {
    "duration": 13,
    "start_time": "2021-12-19T17:04:18.251Z"
   },
   {
    "duration": 630,
    "start_time": "2021-12-20T08:20:43.563Z"
   },
   {
    "duration": 20,
    "start_time": "2021-12-20T08:20:44.195Z"
   },
   {
    "duration": 11,
    "start_time": "2021-12-20T08:20:45.870Z"
   },
   {
    "duration": 3,
    "start_time": "2021-12-20T08:20:50.108Z"
   },
   {
    "duration": 13,
    "start_time": "2021-12-20T08:20:51.525Z"
   },
   {
    "duration": 8,
    "start_time": "2021-12-20T08:20:54.268Z"
   },
   {
    "duration": 5,
    "start_time": "2021-12-20T08:20:55.251Z"
   },
   {
    "duration": 8,
    "start_time": "2021-12-20T08:20:56.259Z"
   },
   {
    "duration": 10,
    "start_time": "2021-12-20T08:21:02.888Z"
   },
   {
    "duration": 234,
    "start_time": "2021-12-20T08:27:02.972Z"
   },
   {
    "duration": 5,
    "start_time": "2021-12-20T08:27:07.450Z"
   },
   {
    "duration": 8,
    "start_time": "2021-12-20T08:35:20.093Z"
   },
   {
    "duration": 9,
    "start_time": "2021-12-20T08:35:24.553Z"
   },
   {
    "duration": 13,
    "start_time": "2021-12-20T08:35:27.820Z"
   },
   {
    "duration": 7,
    "start_time": "2021-12-20T08:35:32.814Z"
   },
   {
    "duration": 6,
    "start_time": "2021-12-20T08:35:58.737Z"
   },
   {
    "duration": 10,
    "start_time": "2021-12-20T08:36:01.829Z"
   },
   {
    "duration": 10,
    "start_time": "2021-12-20T08:37:00.249Z"
   },
   {
    "duration": 5,
    "start_time": "2021-12-20T08:39:10.445Z"
   },
   {
    "duration": 7,
    "start_time": "2021-12-20T08:41:22.192Z"
   },
   {
    "duration": 11,
    "start_time": "2021-12-20T08:41:25.649Z"
   },
   {
    "duration": 38,
    "start_time": "2021-12-20T08:41:52.389Z"
   },
   {
    "duration": 14,
    "start_time": "2021-12-20T08:41:53.694Z"
   },
   {
    "duration": 9,
    "start_time": "2021-12-20T08:41:54.106Z"
   },
   {
    "duration": 3,
    "start_time": "2021-12-20T08:42:02.132Z"
   },
   {
    "duration": 13,
    "start_time": "2021-12-20T08:42:03.331Z"
   },
   {
    "duration": 8,
    "start_time": "2021-12-20T08:42:05.172Z"
   },
   {
    "duration": 6,
    "start_time": "2021-12-20T08:42:06.277Z"
   },
   {
    "duration": 7,
    "start_time": "2021-12-20T08:42:07.113Z"
   },
   {
    "duration": 10,
    "start_time": "2021-12-20T08:42:12.317Z"
   },
   {
    "duration": 6,
    "start_time": "2021-12-20T08:42:18.114Z"
   },
   {
    "duration": 12,
    "start_time": "2021-12-20T08:42:20.454Z"
   },
   {
    "duration": 5,
    "start_time": "2021-12-20T08:42:22.333Z"
   },
   {
    "duration": 6,
    "start_time": "2021-12-20T08:42:25.444Z"
   },
   {
    "duration": 10,
    "start_time": "2021-12-20T08:42:27.132Z"
   },
   {
    "duration": 37,
    "start_time": "2021-12-20T08:42:46.593Z"
   },
   {
    "duration": 16,
    "start_time": "2021-12-20T08:42:46.678Z"
   },
   {
    "duration": 11,
    "start_time": "2021-12-20T08:42:46.762Z"
   },
   {
    "duration": 3,
    "start_time": "2021-12-20T08:42:47.013Z"
   },
   {
    "duration": 14,
    "start_time": "2021-12-20T08:42:47.265Z"
   },
   {
    "duration": 9,
    "start_time": "2021-12-20T08:42:47.434Z"
   },
   {
    "duration": 7,
    "start_time": "2021-12-20T08:42:47.597Z"
   },
   {
    "duration": 8,
    "start_time": "2021-12-20T08:42:49.344Z"
   },
   {
    "duration": 6,
    "start_time": "2021-12-20T08:42:49.679Z"
   },
   {
    "duration": 4,
    "start_time": "2021-12-20T08:42:49.844Z"
   },
   {
    "duration": 13,
    "start_time": "2021-12-20T08:42:51.109Z"
   },
   {
    "duration": 5,
    "start_time": "2021-12-20T08:42:51.971Z"
   },
   {
    "duration": 8,
    "start_time": "2021-12-20T08:42:53.034Z"
   },
   {
    "duration": 9,
    "start_time": "2021-12-20T08:42:57.125Z"
   },
   {
    "duration": 6,
    "start_time": "2021-12-20T08:43:01.499Z"
   },
   {
    "duration": 13,
    "start_time": "2021-12-20T08:43:03.536Z"
   },
   {
    "duration": 37,
    "start_time": "2021-12-20T08:43:06.010Z"
   },
   {
    "duration": 17,
    "start_time": "2021-12-20T08:43:07.275Z"
   },
   {
    "duration": 10,
    "start_time": "2021-12-20T08:43:07.776Z"
   },
   {
    "duration": 4,
    "start_time": "2021-12-20T08:43:08.026Z"
   },
   {
    "duration": 20,
    "start_time": "2021-12-20T08:43:08.277Z"
   },
   {
    "duration": 11,
    "start_time": "2021-12-20T08:43:08.453Z"
   },
   {
    "duration": 5,
    "start_time": "2021-12-20T08:43:08.961Z"
   },
   {
    "duration": 7,
    "start_time": "2021-12-20T08:43:09.352Z"
   },
   {
    "duration": 6,
    "start_time": "2021-12-20T08:43:10.281Z"
   },
   {
    "duration": 4,
    "start_time": "2021-12-20T08:43:11.959Z"
   },
   {
    "duration": 10,
    "start_time": "2021-12-20T08:43:13.360Z"
   },
   {
    "duration": 5,
    "start_time": "2021-12-20T08:43:15.143Z"
   },
   {
    "duration": 6,
    "start_time": "2021-12-20T08:43:16.942Z"
   },
   {
    "duration": 173,
    "start_time": "2021-12-20T08:43:30.979Z"
   },
   {
    "duration": 7,
    "start_time": "2021-12-20T08:44:26.409Z"
   },
   {
    "duration": 10,
    "start_time": "2021-12-20T08:44:30.305Z"
   },
   {
    "duration": 37,
    "start_time": "2021-12-20T08:44:33.177Z"
   },
   {
    "duration": 13,
    "start_time": "2021-12-20T08:44:33.264Z"
   },
   {
    "duration": 10,
    "start_time": "2021-12-20T08:44:33.347Z"
   },
   {
    "duration": 3,
    "start_time": "2021-12-20T08:44:33.596Z"
   },
   {
    "duration": 14,
    "start_time": "2021-12-20T08:44:33.847Z"
   },
   {
    "duration": 8,
    "start_time": "2021-12-20T08:44:34.015Z"
   },
   {
    "duration": 6,
    "start_time": "2021-12-20T08:44:34.182Z"
   },
   {
    "duration": 8,
    "start_time": "2021-12-20T08:44:35.643Z"
   },
   {
    "duration": 5,
    "start_time": "2021-12-20T08:44:37.950Z"
   },
   {
    "duration": 4,
    "start_time": "2021-12-20T08:44:39.333Z"
   },
   {
    "duration": 10,
    "start_time": "2021-12-20T08:44:45.160Z"
   },
   {
    "duration": 5,
    "start_time": "2021-12-20T08:44:58.275Z"
   },
   {
    "duration": 7,
    "start_time": "2021-12-20T08:45:00.840Z"
   },
   {
    "duration": 6,
    "start_time": "2021-12-20T08:45:11.856Z"
   },
   {
    "duration": 7,
    "start_time": "2021-12-20T08:45:31.104Z"
   },
   {
    "duration": 11,
    "start_time": "2021-12-20T08:45:34.862Z"
   },
   {
    "duration": 6,
    "start_time": "2021-12-20T08:45:40.685Z"
   },
   {
    "duration": 14,
    "start_time": "2021-12-20T08:45:42.848Z"
   },
   {
    "duration": 12,
    "start_time": "2021-12-20T08:47:40.834Z"
   },
   {
    "duration": 6,
    "start_time": "2021-12-20T08:48:29.903Z"
   },
   {
    "duration": 14,
    "start_time": "2021-12-20T08:48:32.090Z"
   },
   {
    "duration": 16,
    "start_time": "2021-12-20T08:48:52.277Z"
   },
   {
    "duration": 36,
    "start_time": "2021-12-20T08:48:58.316Z"
   },
   {
    "duration": 13,
    "start_time": "2021-12-20T08:48:58.399Z"
   },
   {
    "duration": 10,
    "start_time": "2021-12-20T08:48:58.488Z"
   },
   {
    "duration": 3,
    "start_time": "2021-12-20T08:48:58.736Z"
   },
   {
    "duration": 14,
    "start_time": "2021-12-20T08:48:59.001Z"
   },
   {
    "duration": 9,
    "start_time": "2021-12-20T08:48:59.157Z"
   },
   {
    "duration": 6,
    "start_time": "2021-12-20T08:48:59.326Z"
   },
   {
    "duration": 8,
    "start_time": "2021-12-20T08:48:59.491Z"
   },
   {
    "duration": 5,
    "start_time": "2021-12-20T08:48:59.827Z"
   },
   {
    "duration": 5,
    "start_time": "2021-12-20T08:48:59.996Z"
   },
   {
    "duration": 12,
    "start_time": "2021-12-20T08:49:00.602Z"
   },
   {
    "duration": 5,
    "start_time": "2021-12-20T08:49:01.189Z"
   },
   {
    "duration": 9,
    "start_time": "2021-12-20T08:49:01.353Z"
   },
   {
    "duration": 5,
    "start_time": "2021-12-20T08:49:01.524Z"
   },
   {
    "duration": 14,
    "start_time": "2021-12-20T08:49:01.608Z"
   },
   {
    "duration": 15,
    "start_time": "2021-12-20T08:52:23.851Z"
   },
   {
    "duration": 15,
    "start_time": "2021-12-20T08:52:42.831Z"
   },
   {
    "duration": 8,
    "start_time": "2021-12-20T08:55:23.194Z"
   },
   {
    "duration": 2,
    "start_time": "2021-12-20T08:56:09.619Z"
   },
   {
    "duration": 15,
    "start_time": "2021-12-20T08:56:47.145Z"
   },
   {
    "duration": 10,
    "start_time": "2021-12-20T08:57:05.309Z"
   },
   {
    "duration": 14,
    "start_time": "2021-12-20T08:57:11.145Z"
   },
   {
    "duration": 10,
    "start_time": "2021-12-20T08:57:17.533Z"
   },
   {
    "duration": 8,
    "start_time": "2021-12-20T08:58:24.552Z"
   },
   {
    "duration": 803,
    "start_time": "2021-12-20T08:58:51.538Z"
   },
   {
    "duration": 11,
    "start_time": "2021-12-20T08:58:52.361Z"
   },
   {
    "duration": 9,
    "start_time": "2021-12-20T08:58:59.936Z"
   },
   {
    "duration": 8,
    "start_time": "2021-12-20T08:59:01.373Z"
   },
   {
    "duration": 185,
    "start_time": "2021-12-20T08:59:09.565Z"
   },
   {
    "duration": 4,
    "start_time": "2021-12-20T08:59:13.267Z"
   },
   {
    "duration": 172,
    "start_time": "2021-12-20T08:59:13.944Z"
   },
   {
    "duration": 877,
    "start_time": "2021-12-20T08:59:18.243Z"
   },
   {
    "duration": 38,
    "start_time": "2021-12-20T08:59:56.378Z"
   },
   {
    "duration": 13,
    "start_time": "2021-12-20T08:59:56.744Z"
   },
   {
    "duration": 11,
    "start_time": "2021-12-20T08:59:56.950Z"
   },
   {
    "duration": 3,
    "start_time": "2021-12-20T08:59:57.423Z"
   },
   {
    "duration": 16,
    "start_time": "2021-12-20T08:59:57.867Z"
   },
   {
    "duration": 8,
    "start_time": "2021-12-20T08:59:58.263Z"
   },
   {
    "duration": 5,
    "start_time": "2021-12-20T08:59:58.547Z"
   },
   {
    "duration": 8,
    "start_time": "2021-12-20T08:59:58.786Z"
   },
   {
    "duration": 5,
    "start_time": "2021-12-20T09:00:00.517Z"
   },
   {
    "duration": 5,
    "start_time": "2021-12-20T09:00:00.977Z"
   },
   {
    "duration": 10,
    "start_time": "2021-12-20T09:00:01.407Z"
   },
   {
    "duration": 5,
    "start_time": "2021-12-20T09:00:02.918Z"
   },
   {
    "duration": 8,
    "start_time": "2021-12-20T09:00:03.399Z"
   },
   {
    "duration": 16,
    "start_time": "2021-12-20T09:00:03.674Z"
   },
   {
    "duration": 5,
    "start_time": "2021-12-20T09:00:04.531Z"
   },
   {
    "duration": 15,
    "start_time": "2021-12-20T09:00:04.891Z"
   },
   {
    "duration": 10,
    "start_time": "2021-12-20T09:00:07.372Z"
   },
   {
    "duration": 8,
    "start_time": "2021-12-20T09:00:07.829Z"
   },
   {
    "duration": 3,
    "start_time": "2021-12-20T09:00:08.383Z"
   },
   {
    "duration": 490,
    "start_time": "2021-12-20T09:00:09.161Z"
   },
   {
    "duration": 153,
    "start_time": "2021-12-20T09:06:25.342Z"
   },
   {
    "duration": 3,
    "start_time": "2021-12-20T09:07:25.104Z"
   },
   {
    "duration": 15,
    "start_time": "2021-12-20T09:07:47.410Z"
   },
   {
    "duration": 15,
    "start_time": "2021-12-20T09:08:11.067Z"
   },
   {
    "duration": 16,
    "start_time": "2021-12-20T09:08:15.179Z"
   },
   {
    "duration": 5,
    "start_time": "2021-12-20T09:11:10.721Z"
   },
   {
    "duration": 13,
    "start_time": "2021-12-20T09:11:16.627Z"
   },
   {
    "duration": 14,
    "start_time": "2021-12-20T09:12:24.175Z"
   },
   {
    "duration": 249,
    "start_time": "2021-12-20T09:12:42.354Z"
   },
   {
    "duration": 173,
    "start_time": "2021-12-20T09:12:47.183Z"
   },
   {
    "duration": 16,
    "start_time": "2021-12-20T09:12:59.490Z"
   },
   {
    "duration": 13,
    "start_time": "2021-12-20T09:13:23.782Z"
   },
   {
    "duration": 8,
    "start_time": "2021-12-20T09:16:27.305Z"
   },
   {
    "duration": 11,
    "start_time": "2021-12-20T09:16:33.314Z"
   },
   {
    "duration": 124,
    "start_time": "2021-12-20T09:19:44.442Z"
   },
   {
    "duration": 193,
    "start_time": "2021-12-20T09:20:18.189Z"
   },
   {
    "duration": 194,
    "start_time": "2021-12-20T09:20:27.075Z"
   },
   {
    "duration": 194,
    "start_time": "2021-12-20T09:20:32.941Z"
   },
   {
    "duration": 213,
    "start_time": "2021-12-20T09:20:57.177Z"
   },
   {
    "duration": 194,
    "start_time": "2021-12-20T09:21:16.479Z"
   },
   {
    "duration": 17,
    "start_time": "2021-12-20T09:22:08.520Z"
   },
   {
    "duration": 7,
    "start_time": "2021-12-20T09:22:41.058Z"
   },
   {
    "duration": 24,
    "start_time": "2021-12-20T09:22:48.881Z"
   },
   {
    "duration": 234,
    "start_time": "2021-12-20T09:22:59.157Z"
   },
   {
    "duration": 275,
    "start_time": "2021-12-20T09:23:20.033Z"
   },
   {
    "duration": 6,
    "start_time": "2021-12-20T09:24:37.575Z"
   },
   {
    "duration": 315,
    "start_time": "2021-12-20T09:24:38.164Z"
   },
   {
    "duration": 6,
    "start_time": "2021-12-20T09:24:52.760Z"
   },
   {
    "duration": 272,
    "start_time": "2021-12-20T09:24:55.064Z"
   },
   {
    "duration": 6,
    "start_time": "2021-12-20T09:25:30.209Z"
   },
   {
    "duration": 295,
    "start_time": "2021-12-20T09:25:30.557Z"
   },
   {
    "duration": 372,
    "start_time": "2021-12-20T09:32:11.358Z"
   },
   {
    "duration": 377,
    "start_time": "2021-12-20T09:33:18.407Z"
   },
   {
    "duration": 322,
    "start_time": "2021-12-20T09:45:04.907Z"
   },
   {
    "duration": 379,
    "start_time": "2021-12-20T09:45:40.436Z"
   },
   {
    "duration": 38,
    "start_time": "2021-12-20T09:46:42.590Z"
   },
   {
    "duration": 12,
    "start_time": "2021-12-20T09:46:46.203Z"
   },
   {
    "duration": 10,
    "start_time": "2021-12-20T09:46:46.691Z"
   },
   {
    "duration": 3,
    "start_time": "2021-12-20T09:46:46.942Z"
   },
   {
    "duration": 14,
    "start_time": "2021-12-20T09:46:47.194Z"
   },
   {
    "duration": 8,
    "start_time": "2021-12-20T09:46:47.361Z"
   },
   {
    "duration": 5,
    "start_time": "2021-12-20T09:46:47.530Z"
   },
   {
    "duration": 8,
    "start_time": "2021-12-20T09:46:47.696Z"
   },
   {
    "duration": 5,
    "start_time": "2021-12-20T09:46:48.031Z"
   },
   {
    "duration": 4,
    "start_time": "2021-12-20T09:46:48.199Z"
   },
   {
    "duration": 10,
    "start_time": "2021-12-20T09:46:48.367Z"
   },
   {
    "duration": 5,
    "start_time": "2021-12-20T09:46:48.534Z"
   },
   {
    "duration": 10,
    "start_time": "2021-12-20T09:46:48.711Z"
   },
   {
    "duration": 16,
    "start_time": "2021-12-20T09:46:48.786Z"
   },
   {
    "duration": 5,
    "start_time": "2021-12-20T09:46:48.952Z"
   },
   {
    "duration": 14,
    "start_time": "2021-12-20T09:46:49.034Z"
   },
   {
    "duration": 22,
    "start_time": "2021-12-20T09:46:49.373Z"
   },
   {
    "duration": 14,
    "start_time": "2021-12-20T09:46:50.176Z"
   },
   {
    "duration": 7,
    "start_time": "2021-12-20T09:46:51.275Z"
   },
   {
    "duration": 8,
    "start_time": "2021-12-20T09:46:52.686Z"
   },
   {
    "duration": 295,
    "start_time": "2021-12-20T09:46:53.906Z"
   },
   {
    "duration": 341,
    "start_time": "2021-12-20T09:46:56.666Z"
   },
   {
    "duration": 201,
    "start_time": "2021-12-20T09:47:45.804Z"
   },
   {
    "duration": 7,
    "start_time": "2021-12-20T09:47:49.994Z"
   },
   {
    "duration": 300,
    "start_time": "2021-12-20T09:47:50.546Z"
   },
   {
    "duration": 334,
    "start_time": "2021-12-20T09:47:52.196Z"
   },
   {
    "duration": 176,
    "start_time": "2021-12-20T09:48:43.468Z"
   },
   {
    "duration": 176,
    "start_time": "2021-12-20T09:49:08.949Z"
   },
   {
    "duration": 379,
    "start_time": "2021-12-20T09:49:29.073Z"
   },
   {
    "duration": 196,
    "start_time": "2021-12-20T09:49:43.521Z"
   },
   {
    "duration": 6,
    "start_time": "2021-12-20T09:49:51.863Z"
   },
   {
    "duration": 330,
    "start_time": "2021-12-20T09:49:52.292Z"
   },
   {
    "duration": 331,
    "start_time": "2021-12-20T09:49:54.900Z"
   },
   {
    "duration": 204,
    "start_time": "2021-12-20T09:50:03.050Z"
   },
   {
    "duration": 222,
    "start_time": "2021-12-20T09:50:38.617Z"
   },
   {
    "duration": 40,
    "start_time": "2021-12-20T09:51:03.478Z"
   },
   {
    "duration": 85,
    "start_time": "2021-12-20T09:51:03.575Z"
   },
   {
    "duration": 19,
    "start_time": "2021-12-20T09:51:03.662Z"
   },
   {
    "duration": 3,
    "start_time": "2021-12-20T09:51:03.895Z"
   },
   {
    "duration": 14,
    "start_time": "2021-12-20T09:51:04.147Z"
   },
   {
    "duration": 8,
    "start_time": "2021-12-20T09:51:04.315Z"
   },
   {
    "duration": 6,
    "start_time": "2021-12-20T09:51:04.482Z"
   },
   {
    "duration": 8,
    "start_time": "2021-12-20T09:51:04.650Z"
   },
   {
    "duration": 5,
    "start_time": "2021-12-20T09:51:04.987Z"
   },
   {
    "duration": 4,
    "start_time": "2021-12-20T09:51:05.155Z"
   },
   {
    "duration": 9,
    "start_time": "2021-12-20T09:51:05.324Z"
   },
   {
    "duration": 5,
    "start_time": "2021-12-20T09:51:05.491Z"
   },
   {
    "duration": 8,
    "start_time": "2021-12-20T09:51:05.659Z"
   },
   {
    "duration": 13,
    "start_time": "2021-12-20T09:51:05.743Z"
   },
   {
    "duration": 5,
    "start_time": "2021-12-20T09:51:05.910Z"
   },
   {
    "duration": 15,
    "start_time": "2021-12-20T09:51:05.997Z"
   },
   {
    "duration": 15,
    "start_time": "2021-12-20T09:51:06.332Z"
   },
   {
    "duration": 16,
    "start_time": "2021-12-20T09:51:08.423Z"
   },
   {
    "duration": 6,
    "start_time": "2021-12-20T09:51:09.299Z"
   },
   {
    "duration": 6,
    "start_time": "2021-12-20T09:51:10.735Z"
   },
   {
    "duration": 296,
    "start_time": "2021-12-20T09:51:11.458Z"
   },
   {
    "duration": 321,
    "start_time": "2021-12-20T09:51:14.245Z"
   },
   {
    "duration": 8,
    "start_time": "2021-12-20T09:51:47.627Z"
   },
   {
    "duration": 190,
    "start_time": "2021-12-20T09:52:06.827Z"
   },
   {
    "duration": 194,
    "start_time": "2021-12-20T09:52:15.639Z"
   },
   {
    "duration": 305,
    "start_time": "2021-12-20T09:52:26.286Z"
   },
   {
    "duration": 307,
    "start_time": "2021-12-20T09:52:54.887Z"
   },
   {
    "duration": 271,
    "start_time": "2021-12-20T09:55:16.227Z"
   },
   {
    "duration": 293,
    "start_time": "2021-12-20T09:55:58.601Z"
   },
   {
    "duration": 306,
    "start_time": "2021-12-20T09:56:12.125Z"
   },
   {
    "duration": 10,
    "start_time": "2021-12-20T10:03:39.582Z"
   },
   {
    "duration": 7,
    "start_time": "2021-12-20T10:03:53.687Z"
   },
   {
    "duration": 290,
    "start_time": "2021-12-20T10:03:55.105Z"
   },
   {
    "duration": 326,
    "start_time": "2021-12-20T10:03:56.669Z"
   },
   {
    "duration": 303,
    "start_time": "2021-12-20T10:03:57.945Z"
   },
   {
    "duration": 295,
    "start_time": "2021-12-20T10:04:47.438Z"
   },
   {
    "duration": 432,
    "start_time": "2021-12-20T10:05:22.722Z"
   },
   {
    "duration": 343,
    "start_time": "2021-12-20T10:05:27.859Z"
   },
   {
    "duration": 373,
    "start_time": "2021-12-20T10:05:31.974Z"
   },
   {
    "duration": 354,
    "start_time": "2021-12-20T10:05:35.399Z"
   },
   {
    "duration": 335,
    "start_time": "2021-12-20T10:07:18.894Z"
   },
   {
    "duration": 307,
    "start_time": "2021-12-20T10:07:28.341Z"
   },
   {
    "duration": 361,
    "start_time": "2021-12-20T10:09:50.682Z"
   },
   {
    "duration": 63,
    "start_time": "2021-12-20T10:27:46.206Z"
   },
   {
    "duration": 658,
    "start_time": "2021-12-20T10:27:52.287Z"
   },
   {
    "duration": 337,
    "start_time": "2021-12-20T10:29:08.605Z"
   },
   {
    "duration": 664,
    "start_time": "2021-12-20T10:29:54.607Z"
   },
   {
    "duration": 664,
    "start_time": "2021-12-20T10:30:11.568Z"
   },
   {
    "duration": 644,
    "start_time": "2021-12-20T10:30:17.390Z"
   },
   {
    "duration": 691,
    "start_time": "2021-12-20T10:30:49.402Z"
   },
   {
    "duration": 693,
    "start_time": "2021-12-20T10:32:14.674Z"
   },
   {
    "duration": 784,
    "start_time": "2021-12-20T10:36:02.876Z"
   },
   {
    "duration": 6,
    "start_time": "2021-12-20T10:36:49.122Z"
   },
   {
    "duration": 615,
    "start_time": "2021-12-20T10:40:05.873Z"
   },
   {
    "duration": 604,
    "start_time": "2021-12-20T10:40:23.633Z"
   },
   {
    "duration": 65,
    "start_time": "2021-12-20T10:40:29.020Z"
   },
   {
    "duration": 622,
    "start_time": "2021-12-20T10:40:36.536Z"
   },
   {
    "duration": 611,
    "start_time": "2021-12-20T10:40:45.653Z"
   },
   {
    "duration": 704,
    "start_time": "2021-12-20T10:40:50.989Z"
   },
   {
    "duration": 709,
    "start_time": "2021-12-20T10:41:08.271Z"
   },
   {
    "duration": 660,
    "start_time": "2021-12-20T10:41:14.474Z"
   },
   {
    "duration": 595,
    "start_time": "2021-12-20T10:41:28.030Z"
   },
   {
    "duration": 190,
    "start_time": "2021-12-20T10:42:44.867Z"
   },
   {
    "duration": 1400,
    "start_time": "2021-12-20T10:42:50.710Z"
   },
   {
    "duration": 528,
    "start_time": "2021-12-20T10:43:33.402Z"
   },
   {
    "duration": 658,
    "start_time": "2021-12-20T10:43:42.193Z"
   },
   {
    "duration": 1255,
    "start_time": "2021-12-20T10:43:47.302Z"
   },
   {
    "duration": 544,
    "start_time": "2021-12-20T10:44:33.896Z"
   },
   {
    "duration": 1034,
    "start_time": "2021-12-20T10:44:38.221Z"
   },
   {
    "duration": 1048,
    "start_time": "2021-12-20T10:44:58.108Z"
   },
   {
    "duration": 512,
    "start_time": "2021-12-20T10:45:16.773Z"
   },
   {
    "duration": 1180,
    "start_time": "2021-12-20T10:45:18.741Z"
   },
   {
    "duration": 496,
    "start_time": "2021-12-20T10:45:44.141Z"
   },
   {
    "duration": 1059,
    "start_time": "2021-12-20T10:45:47.918Z"
   },
   {
    "duration": 526,
    "start_time": "2021-12-20T10:46:52.833Z"
   },
   {
    "duration": 364,
    "start_time": "2021-12-20T10:47:55.393Z"
   },
   {
    "duration": 531,
    "start_time": "2021-12-20T10:48:07.822Z"
   },
   {
    "duration": 977,
    "start_time": "2021-12-20T10:48:37.782Z"
   },
   {
    "duration": 548,
    "start_time": "2021-12-20T10:49:34.399Z"
   },
   {
    "duration": 987,
    "start_time": "2021-12-20T10:49:38.953Z"
   },
   {
    "duration": 539,
    "start_time": "2021-12-20T10:50:11.443Z"
   },
   {
    "duration": 726,
    "start_time": "2021-12-20T10:50:21.548Z"
   },
   {
    "duration": 36,
    "start_time": "2021-12-20T10:50:25.776Z"
   },
   {
    "duration": 13,
    "start_time": "2021-12-20T10:50:25.916Z"
   },
   {
    "duration": 10,
    "start_time": "2021-12-20T10:50:25.942Z"
   },
   {
    "duration": 3,
    "start_time": "2021-12-20T10:50:26.215Z"
   },
   {
    "duration": 14,
    "start_time": "2021-12-20T10:50:26.473Z"
   },
   {
    "duration": 9,
    "start_time": "2021-12-20T10:50:26.611Z"
   },
   {
    "duration": 6,
    "start_time": "2021-12-20T10:50:26.896Z"
   },
   {
    "duration": 7,
    "start_time": "2021-12-20T10:50:27.028Z"
   },
   {
    "duration": 5,
    "start_time": "2021-12-20T10:50:27.371Z"
   },
   {
    "duration": 5,
    "start_time": "2021-12-20T10:50:27.539Z"
   },
   {
    "duration": 10,
    "start_time": "2021-12-20T10:50:27.710Z"
   },
   {
    "duration": 5,
    "start_time": "2021-12-20T10:50:27.794Z"
   },
   {
    "duration": 9,
    "start_time": "2021-12-20T10:50:27.954Z"
   },
   {
    "duration": 15,
    "start_time": "2021-12-20T10:50:28.035Z"
   },
   {
    "duration": 5,
    "start_time": "2021-12-20T10:50:28.205Z"
   },
   {
    "duration": 15,
    "start_time": "2021-12-20T10:50:28.565Z"
   },
   {
    "duration": 16,
    "start_time": "2021-12-20T10:50:29.667Z"
   },
   {
    "duration": 16,
    "start_time": "2021-12-20T10:50:30.046Z"
   },
   {
    "duration": 6,
    "start_time": "2021-12-20T10:50:30.837Z"
   },
   {
    "duration": 8,
    "start_time": "2021-12-20T10:50:32.445Z"
   },
   {
    "duration": 305,
    "start_time": "2021-12-20T10:50:32.644Z"
   },
   {
    "duration": 316,
    "start_time": "2021-12-20T10:50:34.021Z"
   },
   {
    "duration": 300,
    "start_time": "2021-12-20T10:50:36.104Z"
   },
   {
    "duration": 574,
    "start_time": "2021-12-20T10:52:07.775Z"
   },
   {
    "duration": 542,
    "start_time": "2021-12-20T10:52:38.428Z"
   },
   {
    "duration": 987,
    "start_time": "2021-12-20T10:52:54.673Z"
   },
   {
    "duration": 989,
    "start_time": "2021-12-20T10:55:41.778Z"
   },
   {
    "duration": 35,
    "start_time": "2021-12-20T11:00:24.113Z"
   },
   {
    "duration": 14,
    "start_time": "2021-12-20T11:00:24.679Z"
   },
   {
    "duration": 10,
    "start_time": "2021-12-20T11:00:24.961Z"
   },
   {
    "duration": 3,
    "start_time": "2021-12-20T11:00:25.714Z"
   },
   {
    "duration": 15,
    "start_time": "2021-12-20T11:00:26.417Z"
   },
   {
    "duration": 8,
    "start_time": "2021-12-20T11:00:26.651Z"
   },
   {
    "duration": 6,
    "start_time": "2021-12-20T11:00:27.016Z"
   },
   {
    "duration": 8,
    "start_time": "2021-12-20T11:00:27.518Z"
   },
   {
    "duration": 6,
    "start_time": "2021-12-20T11:00:28.208Z"
   },
   {
    "duration": 5,
    "start_time": "2021-12-20T11:00:28.943Z"
   },
   {
    "duration": 12,
    "start_time": "2021-12-20T11:00:29.863Z"
   },
   {
    "duration": 6,
    "start_time": "2021-12-20T11:00:30.717Z"
   },
   {
    "duration": 9,
    "start_time": "2021-12-20T11:00:31.496Z"
   },
   {
    "duration": 14,
    "start_time": "2021-12-20T11:00:31.849Z"
   },
   {
    "duration": 5,
    "start_time": "2021-12-20T11:00:32.807Z"
   },
   {
    "duration": 15,
    "start_time": "2021-12-20T11:00:33.183Z"
   },
   {
    "duration": 16,
    "start_time": "2021-12-20T11:00:34.879Z"
   },
   {
    "duration": 15,
    "start_time": "2021-12-20T11:00:35.501Z"
   },
   {
    "duration": 6,
    "start_time": "2021-12-20T11:00:37.416Z"
   },
   {
    "duration": 6,
    "start_time": "2021-12-20T11:00:40.859Z"
   },
   {
    "duration": 299,
    "start_time": "2021-12-20T11:00:41.460Z"
   },
   {
    "duration": 465,
    "start_time": "2021-12-20T11:00:45.964Z"
   },
   {
    "duration": 322,
    "start_time": "2021-12-20T11:00:48.333Z"
   },
   {
    "duration": 601,
    "start_time": "2021-12-20T11:00:51.585Z"
   },
   {
    "duration": 1014,
    "start_time": "2021-12-20T11:00:55.365Z"
   },
   {
    "duration": 942,
    "start_time": "2021-12-20T11:01:05.615Z"
   },
   {
    "duration": 36,
    "start_time": "2021-12-20T11:05:28.363Z"
   },
   {
    "duration": 13,
    "start_time": "2021-12-20T11:05:28.448Z"
   },
   {
    "duration": 10,
    "start_time": "2021-12-20T11:05:28.527Z"
   },
   {
    "duration": 4,
    "start_time": "2021-12-20T11:05:28.780Z"
   },
   {
    "duration": 14,
    "start_time": "2021-12-20T11:05:29.033Z"
   },
   {
    "duration": 8,
    "start_time": "2021-12-20T11:05:29.200Z"
   },
   {
    "duration": 5,
    "start_time": "2021-12-20T11:05:29.368Z"
   },
   {
    "duration": 7,
    "start_time": "2021-12-20T11:05:29.536Z"
   },
   {
    "duration": 5,
    "start_time": "2021-12-20T11:05:29.873Z"
   },
   {
    "duration": 5,
    "start_time": "2021-12-20T11:05:30.040Z"
   },
   {
    "duration": 10,
    "start_time": "2021-12-20T11:05:30.208Z"
   },
   {
    "duration": 5,
    "start_time": "2021-12-20T11:05:30.373Z"
   },
   {
    "duration": 9,
    "start_time": "2021-12-20T11:05:30.541Z"
   },
   {
    "duration": 15,
    "start_time": "2021-12-20T11:05:30.623Z"
   },
   {
    "duration": 5,
    "start_time": "2021-12-20T11:05:30.794Z"
   },
   {
    "duration": 14,
    "start_time": "2021-12-20T11:05:30.876Z"
   },
   {
    "duration": 15,
    "start_time": "2021-12-20T11:05:31.213Z"
   },
   {
    "duration": 16,
    "start_time": "2021-12-20T11:05:31.298Z"
   },
   {
    "duration": 5,
    "start_time": "2021-12-20T11:05:31.463Z"
   },
   {
    "duration": 7,
    "start_time": "2021-12-20T11:05:31.714Z"
   },
   {
    "duration": 293,
    "start_time": "2021-12-20T11:05:32.064Z"
   },
   {
    "duration": 330,
    "start_time": "2021-12-20T11:05:32.573Z"
   },
   {
    "duration": 309,
    "start_time": "2021-12-20T11:05:33.084Z"
   },
   {
    "duration": 598,
    "start_time": "2021-12-20T11:05:34.167Z"
   },
   {
    "duration": 1169,
    "start_time": "2021-12-20T11:05:34.813Z"
   },
   {
    "duration": 965,
    "start_time": "2021-12-20T11:05:36.105Z"
   },
   {
    "duration": 6,
    "start_time": "2021-12-20T11:10:24.985Z"
   },
   {
    "duration": 10,
    "start_time": "2021-12-20T11:10:31.834Z"
   },
   {
    "duration": 10,
    "start_time": "2021-12-20T11:10:44.930Z"
   },
   {
    "duration": 187,
    "start_time": "2021-12-20T11:16:51.471Z"
   },
   {
    "duration": 4459,
    "start_time": "2021-12-20T11:17:00.921Z"
   },
   {
    "duration": 57,
    "start_time": "2021-12-20T11:17:11.060Z"
   },
   {
    "duration": 157,
    "start_time": "2021-12-20T11:17:13.967Z"
   },
   {
    "duration": 11,
    "start_time": "2021-12-20T11:18:06.901Z"
   },
   {
    "duration": 14,
    "start_time": "2021-12-20T11:18:12.254Z"
   },
   {
    "duration": 14,
    "start_time": "2021-12-20T11:18:16.008Z"
   },
   {
    "duration": 13,
    "start_time": "2021-12-20T11:20:01.548Z"
   },
   {
    "duration": 6,
    "start_time": "2021-12-20T11:20:14.828Z"
   },
   {
    "duration": 451,
    "start_time": "2021-12-20T11:21:26.985Z"
   },
   {
    "duration": 12,
    "start_time": "2021-12-20T11:21:27.438Z"
   },
   {
    "duration": 10,
    "start_time": "2021-12-20T11:21:28.241Z"
   },
   {
    "duration": 3,
    "start_time": "2021-12-20T11:21:29.164Z"
   },
   {
    "duration": 14,
    "start_time": "2021-12-20T11:21:29.411Z"
   },
   {
    "duration": 7,
    "start_time": "2021-12-20T11:21:29.579Z"
   },
   {
    "duration": 5,
    "start_time": "2021-12-20T11:21:29.743Z"
   },
   {
    "duration": 8,
    "start_time": "2021-12-20T11:21:29.915Z"
   },
   {
    "duration": 7,
    "start_time": "2021-12-20T11:21:32.404Z"
   },
   {
    "duration": 6,
    "start_time": "2021-12-20T11:21:33.050Z"
   },
   {
    "duration": 10,
    "start_time": "2021-12-20T11:21:33.640Z"
   },
   {
    "duration": 6,
    "start_time": "2021-12-20T11:21:35.299Z"
   },
   {
    "duration": 9,
    "start_time": "2021-12-20T11:21:35.764Z"
   },
   {
    "duration": 14,
    "start_time": "2021-12-20T11:21:36.012Z"
   },
   {
    "duration": 5,
    "start_time": "2021-12-20T11:21:37.535Z"
   },
   {
    "duration": 14,
    "start_time": "2021-12-20T11:21:37.768Z"
   },
   {
    "duration": 17,
    "start_time": "2021-12-20T11:21:46.365Z"
   },
   {
    "duration": 16,
    "start_time": "2021-12-20T11:21:57.282Z"
   },
   {
    "duration": 5,
    "start_time": "2021-12-20T11:21:59.262Z"
   },
   {
    "duration": 7,
    "start_time": "2021-12-20T11:22:00.221Z"
   },
   {
    "duration": 310,
    "start_time": "2021-12-20T11:22:01.046Z"
   },
   {
    "duration": 340,
    "start_time": "2021-12-20T11:22:04.427Z"
   },
   {
    "duration": 318,
    "start_time": "2021-12-20T11:22:05.355Z"
   },
   {
    "duration": 770,
    "start_time": "2021-12-20T11:22:07.452Z"
   },
   {
    "duration": 1204,
    "start_time": "2021-12-20T11:22:09.969Z"
   },
   {
    "duration": 1113,
    "start_time": "2021-12-20T11:22:11.792Z"
   },
   {
    "duration": 12,
    "start_time": "2021-12-20T11:23:29.501Z"
   },
   {
    "duration": 233,
    "start_time": "2021-12-20T11:23:55.243Z"
   },
   {
    "duration": 169,
    "start_time": "2021-12-20T11:24:04.016Z"
   },
   {
    "duration": 187,
    "start_time": "2021-12-20T11:24:16.539Z"
   },
   {
    "duration": 178,
    "start_time": "2021-12-20T11:24:33.762Z"
   },
   {
    "duration": 177,
    "start_time": "2021-12-20T11:25:09.818Z"
   },
   {
    "duration": 193,
    "start_time": "2021-12-20T11:25:37.819Z"
   },
   {
    "duration": 191,
    "start_time": "2021-12-20T11:26:14.933Z"
   },
   {
    "duration": 176,
    "start_time": "2021-12-20T11:28:16.432Z"
   },
   {
    "duration": 237,
    "start_time": "2021-12-20T11:28:48.464Z"
   },
   {
    "duration": 368,
    "start_time": "2021-12-20T11:29:05.450Z"
   },
   {
    "duration": 232,
    "start_time": "2021-12-20T11:31:05.681Z"
   },
   {
    "duration": 238,
    "start_time": "2021-12-20T11:31:29.248Z"
   },
   {
    "duration": 565,
    "start_time": "2021-12-20T11:31:36.055Z"
   },
   {
    "duration": 411,
    "start_time": "2021-12-20T11:32:21.502Z"
   },
   {
    "duration": 395,
    "start_time": "2021-12-20T11:32:51.522Z"
   },
   {
    "duration": 155,
    "start_time": "2021-12-20T11:33:12.315Z"
   },
   {
    "duration": 160,
    "start_time": "2021-12-20T11:33:23.135Z"
   },
   {
    "duration": 159,
    "start_time": "2021-12-20T11:34:28.334Z"
   },
   {
    "duration": 12,
    "start_time": "2021-12-20T11:40:55.227Z"
   },
   {
    "duration": 65,
    "start_time": "2021-12-20T11:56:51.327Z"
   },
   {
    "duration": 8,
    "start_time": "2021-12-20T11:56:57.116Z"
   },
   {
    "duration": 304,
    "start_time": "2021-12-20T11:57:24.815Z"
   },
   {
    "duration": 10,
    "start_time": "2021-12-20T11:57:35.516Z"
   },
   {
    "duration": 7,
    "start_time": "2021-12-20T11:57:43.175Z"
   },
   {
    "duration": 171,
    "start_time": "2021-12-20T11:57:55.800Z"
   },
   {
    "duration": 9,
    "start_time": "2021-12-20T11:57:59.412Z"
   },
   {
    "duration": 3,
    "start_time": "2021-12-20T11:58:20.256Z"
   },
   {
    "duration": 8,
    "start_time": "2021-12-20T11:58:28.817Z"
   },
   {
    "duration": 7,
    "start_time": "2021-12-20T11:58:40.454Z"
   },
   {
    "duration": 7,
    "start_time": "2021-12-20T11:58:46.179Z"
   },
   {
    "duration": 27,
    "start_time": "2021-12-20T14:30:09.398Z"
   },
   {
    "duration": 17,
    "start_time": "2021-12-20T14:30:09.428Z"
   },
   {
    "duration": 47,
    "start_time": "2021-12-20T14:30:11.056Z"
   },
   {
    "duration": 55,
    "start_time": "2021-12-20T14:30:13.707Z"
   },
   {
    "duration": 24,
    "start_time": "2021-12-20T14:30:14.213Z"
   },
   {
    "duration": 15,
    "start_time": "2021-12-20T14:30:14.600Z"
   },
   {
    "duration": 5,
    "start_time": "2021-12-20T14:30:15.284Z"
   },
   {
    "duration": 32,
    "start_time": "2021-12-20T14:30:15.881Z"
   },
   {
    "duration": 16,
    "start_time": "2021-12-20T14:30:16.279Z"
   },
   {
    "duration": 9,
    "start_time": "2021-12-20T14:30:16.717Z"
   },
   {
    "duration": 12,
    "start_time": "2021-12-20T14:30:17.114Z"
   },
   {
    "duration": 7,
    "start_time": "2021-12-20T14:30:17.966Z"
   },
   {
    "duration": 6,
    "start_time": "2021-12-20T14:30:18.392Z"
   },
   {
    "duration": 15,
    "start_time": "2021-12-20T14:30:18.864Z"
   },
   {
    "duration": 7,
    "start_time": "2021-12-20T14:30:19.762Z"
   },
   {
    "duration": 13,
    "start_time": "2021-12-20T14:30:20.455Z"
   },
   {
    "duration": 23,
    "start_time": "2021-12-20T14:30:20.800Z"
   },
   {
    "duration": 8,
    "start_time": "2021-12-20T14:30:22.975Z"
   },
   {
    "duration": 23,
    "start_time": "2021-12-20T14:30:22.986Z"
   },
   {
    "duration": 36,
    "start_time": "2021-12-20T14:30:25.582Z"
   },
   {
    "duration": 35,
    "start_time": "2021-12-20T14:30:26.191Z"
   },
   {
    "duration": 7,
    "start_time": "2021-12-20T14:30:30.008Z"
   },
   {
    "duration": 12,
    "start_time": "2021-12-20T14:30:32.004Z"
   },
   {
    "duration": 496,
    "start_time": "2021-12-20T14:30:32.697Z"
   },
   {
    "duration": 532,
    "start_time": "2021-12-20T14:30:35.942Z"
   },
   {
    "duration": 536,
    "start_time": "2021-12-20T14:30:38.701Z"
   },
   {
    "duration": 839,
    "start_time": "2021-12-20T14:30:42.284Z"
   },
   {
    "duration": 1639,
    "start_time": "2021-12-20T14:30:45.067Z"
   },
   {
    "duration": 1721,
    "start_time": "2021-12-20T14:30:47.984Z"
   },
   {
    "duration": 864,
    "start_time": "2021-12-20T14:31:00.597Z"
   },
   {
    "duration": 702,
    "start_time": "2021-12-20T14:31:08.755Z"
   },
   {
    "duration": 637,
    "start_time": "2021-12-20T14:31:17.545Z"
   },
   {
    "duration": 271,
    "start_time": "2021-12-20T14:32:04.862Z"
   },
   {
    "duration": 11,
    "start_time": "2021-12-20T14:32:14.970Z"
   },
   {
    "duration": 15,
    "start_time": "2021-12-20T14:32:36.780Z"
   },
   {
    "duration": 14,
    "start_time": "2021-12-20T14:32:42.414Z"
   },
   {
    "duration": 81,
    "start_time": "2021-12-20T14:39:03.705Z"
   },
   {
    "duration": 103,
    "start_time": "2021-12-20T14:39:51.700Z"
   },
   {
    "duration": 271,
    "start_time": "2021-12-20T14:40:00.206Z"
   },
   {
    "duration": 353,
    "start_time": "2021-12-20T14:40:05.689Z"
   },
   {
    "duration": 4,
    "start_time": "2021-12-20T14:44:58.915Z"
   },
   {
    "duration": 507,
    "start_time": "2021-12-20T14:45:12.506Z"
   },
   {
    "duration": 5,
    "start_time": "2021-12-20T14:45:26.829Z"
   },
   {
    "duration": 13,
    "start_time": "2021-12-20T14:45:27.579Z"
   },
   {
    "duration": 14,
    "start_time": "2021-12-20T14:45:38.427Z"
   },
   {
    "duration": 49,
    "start_time": "2021-12-20T14:45:50.343Z"
   },
   {
    "duration": 18,
    "start_time": "2021-12-20T14:45:50.537Z"
   },
   {
    "duration": 14,
    "start_time": "2021-12-20T14:45:50.784Z"
   },
   {
    "duration": 4,
    "start_time": "2021-12-20T14:45:51.467Z"
   },
   {
    "duration": 20,
    "start_time": "2021-12-20T14:45:52.063Z"
   },
   {
    "duration": 10,
    "start_time": "2021-12-20T14:45:52.475Z"
   },
   {
    "duration": 7,
    "start_time": "2021-12-20T14:45:52.996Z"
   },
   {
    "duration": 11,
    "start_time": "2021-12-20T14:45:53.416Z"
   },
   {
    "duration": 6,
    "start_time": "2021-12-20T14:45:54.159Z"
   },
   {
    "duration": 6,
    "start_time": "2021-12-20T14:45:54.519Z"
   },
   {
    "duration": 17,
    "start_time": "2021-12-20T14:45:54.903Z"
   },
   {
    "duration": 8,
    "start_time": "2021-12-20T14:45:55.286Z"
   },
   {
    "duration": 12,
    "start_time": "2021-12-20T14:45:55.699Z"
   },
   {
    "duration": 27,
    "start_time": "2021-12-20T14:45:55.913Z"
   },
   {
    "duration": 7,
    "start_time": "2021-12-20T14:45:56.319Z"
   },
   {
    "duration": 23,
    "start_time": "2021-12-20T14:45:56.511Z"
   },
   {
    "duration": 25,
    "start_time": "2021-12-20T14:45:57.848Z"
   },
   {
    "duration": 24,
    "start_time": "2021-12-20T14:45:58.033Z"
   },
   {
    "duration": 6,
    "start_time": "2021-12-20T14:45:58.491Z"
   },
   {
    "duration": 10,
    "start_time": "2021-12-20T14:45:59.091Z"
   },
   {
    "duration": 489,
    "start_time": "2021-12-20T14:45:59.295Z"
   },
   {
    "duration": 543,
    "start_time": "2021-12-20T14:46:04.291Z"
   },
   {
    "duration": 709,
    "start_time": "2021-12-20T14:46:06.289Z"
   },
   {
    "duration": 945,
    "start_time": "2021-12-20T14:46:07.686Z"
   },
   {
    "duration": 1786,
    "start_time": "2021-12-20T14:46:08.635Z"
   },
   {
    "duration": 1643,
    "start_time": "2021-12-20T14:46:10.425Z"
   },
   {
    "duration": 661,
    "start_time": "2021-12-20T14:46:12.070Z"
   },
   {
    "duration": 287,
    "start_time": "2021-12-20T14:46:12.733Z"
   },
   {
    "duration": 20,
    "start_time": "2021-12-20T14:46:19.459Z"
   },
   {
    "duration": 5,
    "start_time": "2021-12-20T14:46:40.964Z"
   },
   {
    "duration": 19,
    "start_time": "2021-12-20T14:46:41.485Z"
   },
   {
    "duration": 4,
    "start_time": "2021-12-20T14:47:11.965Z"
   },
   {
    "duration": 4,
    "start_time": "2021-12-20T14:47:16.758Z"
   },
   {
    "duration": 18,
    "start_time": "2021-12-20T14:47:17.245Z"
   },
   {
    "duration": 7,
    "start_time": "2021-12-20T14:50:29.625Z"
   },
   {
    "duration": 34,
    "start_time": "2021-12-20T14:50:30.343Z"
   },
   {
    "duration": 4,
    "start_time": "2021-12-20T14:50:49.081Z"
   },
   {
    "duration": 27,
    "start_time": "2021-12-20T14:50:50.602Z"
   },
   {
    "duration": 6,
    "start_time": "2021-12-20T14:52:34.730Z"
   },
   {
    "duration": 689,
    "start_time": "2021-12-20T14:52:35.126Z"
   },
   {
    "duration": 6,
    "start_time": "2021-12-20T14:53:07.026Z"
   },
   {
    "duration": 31,
    "start_time": "2021-12-20T14:53:07.724Z"
   },
   {
    "duration": 5,
    "start_time": "2021-12-20T14:53:45.324Z"
   },
   {
    "duration": 33,
    "start_time": "2021-12-20T14:53:45.754Z"
   },
   {
    "duration": 5,
    "start_time": "2021-12-20T14:55:47.789Z"
   },
   {
    "duration": 26,
    "start_time": "2021-12-20T14:55:49.256Z"
   },
   {
    "duration": 7,
    "start_time": "2021-12-20T14:57:02.582Z"
   },
   {
    "duration": 27,
    "start_time": "2021-12-20T14:57:03.695Z"
   },
   {
    "duration": 5,
    "start_time": "2021-12-20T14:57:05.732Z"
   },
   {
    "duration": 35,
    "start_time": "2021-12-20T14:57:06.426Z"
   },
   {
    "duration": 5,
    "start_time": "2021-12-20T14:57:17.033Z"
   },
   {
    "duration": 47,
    "start_time": "2021-12-20T14:57:17.518Z"
   },
   {
    "duration": 29,
    "start_time": "2021-12-20T14:57:28.789Z"
   },
   {
    "duration": 6,
    "start_time": "2021-12-20T14:57:33.145Z"
   },
   {
    "duration": 24,
    "start_time": "2021-12-20T14:57:33.574Z"
   },
   {
    "duration": 276,
    "start_time": "2021-12-20T14:57:48.853Z"
   },
   {
    "duration": 28,
    "start_time": "2021-12-20T14:57:54.314Z"
   },
   {
    "duration": 5,
    "start_time": "2021-12-20T14:58:06.945Z"
   },
   {
    "duration": 23,
    "start_time": "2021-12-20T14:58:07.303Z"
   },
   {
    "duration": 5,
    "start_time": "2021-12-20T14:58:09.604Z"
   },
   {
    "duration": 27,
    "start_time": "2021-12-20T14:58:10.071Z"
   },
   {
    "duration": 6,
    "start_time": "2021-12-20T14:58:35.082Z"
   },
   {
    "duration": 1694,
    "start_time": "2021-12-20T14:58:35.609Z"
   },
   {
    "duration": 7,
    "start_time": "2021-12-20T14:58:50.517Z"
   },
   {
    "duration": 29,
    "start_time": "2021-12-20T14:58:50.528Z"
   },
   {
    "duration": 5,
    "start_time": "2021-12-20T14:59:06.751Z"
   },
   {
    "duration": 25,
    "start_time": "2021-12-20T14:59:07.138Z"
   },
   {
    "duration": 5,
    "start_time": "2021-12-20T14:59:19.491Z"
   },
   {
    "duration": 24,
    "start_time": "2021-12-20T14:59:45.061Z"
   },
   {
    "duration": 18,
    "start_time": "2021-12-20T15:00:05.933Z"
   },
   {
    "duration": 18,
    "start_time": "2021-12-20T15:00:14.692Z"
   },
   {
    "duration": 6,
    "start_time": "2021-12-20T15:00:46.460Z"
   },
   {
    "duration": 341,
    "start_time": "2021-12-20T15:00:49.130Z"
   },
   {
    "duration": 532,
    "start_time": "2021-12-20T15:01:01.353Z"
   },
   {
    "duration": 20,
    "start_time": "2021-12-20T15:01:06.885Z"
   },
   {
    "duration": 28,
    "start_time": "2021-12-20T15:01:13.625Z"
   },
   {
    "duration": 323,
    "start_time": "2021-12-20T15:03:54.845Z"
   },
   {
    "duration": 32,
    "start_time": "2021-12-20T15:04:22.809Z"
   },
   {
    "duration": 279,
    "start_time": "2021-12-20T15:04:58.513Z"
   },
   {
    "duration": 29,
    "start_time": "2021-12-20T15:05:09.297Z"
   },
   {
    "duration": 4,
    "start_time": "2021-12-20T15:17:23.199Z"
   },
   {
    "duration": 5,
    "start_time": "2021-12-20T15:17:24.457Z"
   },
   {
    "duration": 594,
    "start_time": "2021-12-20T15:17:26.919Z"
   },
   {
    "duration": 5,
    "start_time": "2021-12-20T15:17:35.160Z"
   },
   {
    "duration": 540,
    "start_time": "2021-12-20T15:17:35.571Z"
   },
   {
    "duration": 5,
    "start_time": "2021-12-20T15:17:50.769Z"
   },
   {
    "duration": 12,
    "start_time": "2021-12-20T15:17:51.348Z"
   },
   {
    "duration": 5,
    "start_time": "2021-12-20T15:18:00.071Z"
   },
   {
    "duration": 22,
    "start_time": "2021-12-20T15:18:00.427Z"
   },
   {
    "duration": 1570,
    "start_time": "2021-12-21T08:50:40.098Z"
   },
   {
    "duration": 22,
    "start_time": "2021-12-21T08:50:41.671Z"
   },
   {
    "duration": 15,
    "start_time": "2021-12-21T08:50:42.942Z"
   },
   {
    "duration": 4,
    "start_time": "2021-12-21T08:50:43.775Z"
   },
   {
    "duration": 20,
    "start_time": "2021-12-21T08:50:44.403Z"
   },
   {
    "duration": 10,
    "start_time": "2021-12-21T08:50:44.820Z"
   },
   {
    "duration": 7,
    "start_time": "2021-12-21T08:50:45.195Z"
   },
   {
    "duration": 10,
    "start_time": "2021-12-21T08:50:45.664Z"
   },
   {
    "duration": 7,
    "start_time": "2021-12-21T08:50:46.675Z"
   },
   {
    "duration": 6,
    "start_time": "2021-12-21T08:50:47.177Z"
   },
   {
    "duration": 20,
    "start_time": "2021-12-21T08:50:47.614Z"
   },
   {
    "duration": 9,
    "start_time": "2021-12-21T08:50:48.007Z"
   },
   {
    "duration": 17,
    "start_time": "2021-12-21T08:50:48.354Z"
   },
   {
    "duration": 29,
    "start_time": "2021-12-21T08:50:48.541Z"
   },
   {
    "duration": 13,
    "start_time": "2021-12-21T08:50:48.889Z"
   },
   {
    "duration": 20,
    "start_time": "2021-12-21T08:50:49.096Z"
   },
   {
    "duration": 35,
    "start_time": "2021-12-21T08:50:49.878Z"
   },
   {
    "duration": 37,
    "start_time": "2021-12-21T08:50:50.105Z"
   },
   {
    "duration": 11,
    "start_time": "2021-12-21T08:50:51.090Z"
   },
   {
    "duration": 13,
    "start_time": "2021-12-21T08:50:52.186Z"
   },
   {
    "duration": 713,
    "start_time": "2021-12-21T08:50:52.624Z"
   },
   {
    "duration": 516,
    "start_time": "2021-12-21T08:51:04.221Z"
   },
   {
    "duration": 620,
    "start_time": "2021-12-21T08:51:05.779Z"
   },
   {
    "duration": 815,
    "start_time": "2021-12-21T08:51:09.216Z"
   },
   {
    "duration": 1589,
    "start_time": "2021-12-21T08:51:11.819Z"
   },
   {
    "duration": 1801,
    "start_time": "2021-12-21T08:51:13.988Z"
   },
   {
    "duration": 622,
    "start_time": "2021-12-21T08:51:16.946Z"
   },
   {
    "duration": 257,
    "start_time": "2021-12-21T08:51:18.777Z"
   },
   {
    "duration": 5,
    "start_time": "2021-12-21T08:51:21.251Z"
   },
   {
    "duration": 715,
    "start_time": "2021-12-21T08:51:22.090Z"
   },
   {
    "duration": 6,
    "start_time": "2021-12-21T08:51:55.246Z"
   },
   {
    "duration": 24,
    "start_time": "2021-12-21T08:51:55.850Z"
   },
   {
    "duration": 18,
    "start_time": "2021-12-21T08:54:09.387Z"
   },
   {
    "duration": 12,
    "start_time": "2021-12-21T08:54:26.949Z"
   },
   {
    "duration": 19,
    "start_time": "2021-12-21T08:54:30.763Z"
   },
   {
    "duration": 19,
    "start_time": "2021-12-21T08:54:39.752Z"
   },
   {
    "duration": 17,
    "start_time": "2021-12-21T08:54:57.822Z"
   },
   {
    "duration": 15,
    "start_time": "2021-12-21T08:56:43.040Z"
   },
   {
    "duration": 17,
    "start_time": "2021-12-21T09:04:26.583Z"
   },
   {
    "duration": 538,
    "start_time": "2021-12-21T09:05:05.365Z"
   },
   {
    "duration": 493,
    "start_time": "2021-12-21T09:05:17.098Z"
   },
   {
    "duration": 500,
    "start_time": "2021-12-21T09:05:23.828Z"
   },
   {
    "duration": 54,
    "start_time": "2021-12-21T09:25:30.804Z"
   },
   {
    "duration": 20,
    "start_time": "2021-12-21T09:25:31.151Z"
   },
   {
    "duration": 14,
    "start_time": "2021-12-21T09:25:31.328Z"
   },
   {
    "duration": 4,
    "start_time": "2021-12-21T09:25:31.840Z"
   },
   {
    "duration": 20,
    "start_time": "2021-12-21T09:25:32.339Z"
   },
   {
    "duration": 11,
    "start_time": "2021-12-21T09:25:32.688Z"
   },
   {
    "duration": 7,
    "start_time": "2021-12-21T09:25:33.376Z"
   },
   {
    "duration": 10,
    "start_time": "2021-12-21T09:25:33.544Z"
   },
   {
    "duration": 7,
    "start_time": "2021-12-21T09:25:33.880Z"
   },
   {
    "duration": 6,
    "start_time": "2021-12-21T09:25:34.049Z"
   },
   {
    "duration": 13,
    "start_time": "2021-12-21T09:25:34.225Z"
   },
   {
    "duration": 7,
    "start_time": "2021-12-21T09:25:34.396Z"
   },
   {
    "duration": 13,
    "start_time": "2021-12-21T09:25:34.551Z"
   },
   {
    "duration": 22,
    "start_time": "2021-12-21T09:25:34.643Z"
   },
   {
    "duration": 6,
    "start_time": "2021-12-21T09:25:34.802Z"
   },
   {
    "duration": 21,
    "start_time": "2021-12-21T09:25:34.882Z"
   },
   {
    "duration": 25,
    "start_time": "2021-12-21T09:25:35.216Z"
   },
   {
    "duration": 23,
    "start_time": "2021-12-21T09:25:35.310Z"
   },
   {
    "duration": 7,
    "start_time": "2021-12-21T09:25:35.473Z"
   },
   {
    "duration": 9,
    "start_time": "2021-12-21T09:25:35.718Z"
   },
   {
    "duration": 492,
    "start_time": "2021-12-21T09:25:35.804Z"
   },
   {
    "duration": 618,
    "start_time": "2021-12-21T09:25:36.299Z"
   },
   {
    "duration": 524,
    "start_time": "2021-12-21T09:25:36.920Z"
   },
   {
    "duration": 982,
    "start_time": "2021-12-21T09:25:37.447Z"
   },
   {
    "duration": 1585,
    "start_time": "2021-12-21T09:25:38.432Z"
   },
   {
    "duration": 1662,
    "start_time": "2021-12-21T09:25:40.020Z"
   },
   {
    "duration": 642,
    "start_time": "2021-12-21T09:25:41.685Z"
   },
   {
    "duration": 289,
    "start_time": "2021-12-21T09:25:42.329Z"
   },
   {
    "duration": 6,
    "start_time": "2021-12-21T09:25:42.621Z"
   },
   {
    "duration": 36,
    "start_time": "2021-12-21T09:25:42.630Z"
   },
   {
    "duration": 17,
    "start_time": "2021-12-21T09:25:42.669Z"
   },
   {
    "duration": 16,
    "start_time": "2021-12-21T09:25:42.691Z"
   },
   {
    "duration": 55,
    "start_time": "2021-12-21T09:25:42.709Z"
   },
   {
    "duration": 26,
    "start_time": "2021-12-21T09:26:49.752Z"
   },
   {
    "duration": 7,
    "start_time": "2021-12-21T09:26:57.439Z"
   },
   {
    "duration": 39,
    "start_time": "2021-12-21T09:26:57.956Z"
   },
   {
    "duration": 50,
    "start_time": "2021-12-21T09:27:07.504Z"
   },
   {
    "duration": 5,
    "start_time": "2021-12-21T09:28:49.412Z"
   },
   {
    "duration": 44,
    "start_time": "2021-12-21T09:28:49.657Z"
   },
   {
    "duration": 44,
    "start_time": "2021-12-21T09:29:16.847Z"
   },
   {
    "duration": 6,
    "start_time": "2021-12-21T09:39:37.478Z"
   },
   {
    "duration": 1165,
    "start_time": "2021-12-21T09:43:42.065Z"
   },
   {
    "duration": 983,
    "start_time": "2021-12-21T09:44:02.177Z"
   },
   {
    "duration": 1645,
    "start_time": "2021-12-21T09:44:46.308Z"
   },
   {
    "duration": 1027,
    "start_time": "2021-12-21T09:47:46.335Z"
   },
   {
    "duration": 155,
    "start_time": "2021-12-21T09:49:49.290Z"
   },
   {
    "duration": 59,
    "start_time": "2021-12-21T09:49:53.943Z"
   },
   {
    "duration": 41,
    "start_time": "2021-12-21T09:50:01.455Z"
   },
   {
    "duration": 6,
    "start_time": "2021-12-21T09:50:05.749Z"
   },
   {
    "duration": 41,
    "start_time": "2021-12-21T09:50:06.182Z"
   },
   {
    "duration": 60,
    "start_time": "2021-12-21T09:50:11.765Z"
   },
   {
    "duration": 67,
    "start_time": "2021-12-21T09:50:21.844Z"
   },
   {
    "duration": 64,
    "start_time": "2021-12-21T09:50:29.560Z"
   },
   {
    "duration": 414,
    "start_time": "2021-12-21T09:51:04.928Z"
   },
   {
    "duration": 400,
    "start_time": "2021-12-21T09:51:16.623Z"
   },
   {
    "duration": 87,
    "start_time": "2021-12-21T09:51:25.138Z"
   },
   {
    "duration": 22,
    "start_time": "2021-12-21T09:52:21.464Z"
   },
   {
    "duration": 492,
    "start_time": "2021-12-21T09:53:21.721Z"
   },
   {
    "duration": 663,
    "start_time": "2021-12-21T09:54:14.781Z"
   },
   {
    "duration": 665,
    "start_time": "2021-12-21T09:54:36.145Z"
   },
   {
    "duration": 796,
    "start_time": "2021-12-21T09:54:48.700Z"
   },
   {
    "duration": 1393,
    "start_time": "2021-12-21T09:54:59.575Z"
   },
   {
    "duration": 664,
    "start_time": "2021-12-21T09:55:06.965Z"
   },
   {
    "duration": 1151,
    "start_time": "2021-12-21T09:55:12.287Z"
   },
   {
    "duration": 626,
    "start_time": "2021-12-21T09:57:42.559Z"
   },
   {
    "duration": 1554,
    "start_time": "2021-12-21T09:58:08.813Z"
   },
   {
    "duration": 1463,
    "start_time": "2021-12-21T10:01:48.638Z"
   },
   {
    "duration": 833,
    "start_time": "2021-12-21T10:02:00.543Z"
   },
   {
    "duration": 1337,
    "start_time": "2021-12-21T10:02:15.796Z"
   },
   {
    "duration": 1095,
    "start_time": "2021-12-21T10:03:02.821Z"
   },
   {
    "duration": 1385,
    "start_time": "2021-12-21T10:03:18.111Z"
   },
   {
    "duration": 1220,
    "start_time": "2021-12-21T10:04:49.914Z"
   },
   {
    "duration": 1632,
    "start_time": "2021-12-21T10:05:18.783Z"
   },
   {
    "duration": 1666,
    "start_time": "2021-12-21T10:05:31.836Z"
   },
   {
    "duration": 264,
    "start_time": "2021-12-21T10:12:29.900Z"
   },
   {
    "duration": 23,
    "start_time": "2021-12-21T10:12:31.059Z"
   },
   {
    "duration": 22,
    "start_time": "2021-12-21T10:12:31.561Z"
   },
   {
    "duration": 6,
    "start_time": "2021-12-21T10:12:31.814Z"
   },
   {
    "duration": 32,
    "start_time": "2021-12-21T10:12:32.065Z"
   },
   {
    "duration": 18,
    "start_time": "2021-12-21T10:12:32.226Z"
   },
   {
    "duration": 10,
    "start_time": "2021-12-21T10:12:32.398Z"
   },
   {
    "duration": 10,
    "start_time": "2021-12-21T10:12:32.557Z"
   },
   {
    "duration": 7,
    "start_time": "2021-12-21T10:12:32.896Z"
   },
   {
    "duration": 6,
    "start_time": "2021-12-21T10:12:33.061Z"
   },
   {
    "duration": 13,
    "start_time": "2021-12-21T10:12:33.235Z"
   },
   {
    "duration": 8,
    "start_time": "2021-12-21T10:12:33.400Z"
   },
   {
    "duration": 12,
    "start_time": "2021-12-21T10:12:33.572Z"
   },
   {
    "duration": 24,
    "start_time": "2021-12-21T10:12:33.701Z"
   },
   {
    "duration": 9,
    "start_time": "2021-12-21T10:12:33.819Z"
   },
   {
    "duration": 21,
    "start_time": "2021-12-21T10:12:33.899Z"
   },
   {
    "duration": 24,
    "start_time": "2021-12-21T10:12:34.235Z"
   },
   {
    "duration": 26,
    "start_time": "2021-12-21T10:12:34.314Z"
   },
   {
    "duration": 8,
    "start_time": "2021-12-21T10:12:34.481Z"
   },
   {
    "duration": 9,
    "start_time": "2021-12-21T10:12:34.731Z"
   },
   {
    "duration": 503,
    "start_time": "2021-12-21T10:12:34.820Z"
   },
   {
    "duration": 555,
    "start_time": "2021-12-21T10:12:35.326Z"
   },
   {
    "duration": 567,
    "start_time": "2021-12-21T10:12:35.884Z"
   },
   {
    "duration": 898,
    "start_time": "2021-12-21T10:12:36.459Z"
   },
   {
    "duration": 1599,
    "start_time": "2021-12-21T10:12:37.360Z"
   },
   {
    "duration": 1562,
    "start_time": "2021-12-21T10:12:38.962Z"
   },
   {
    "duration": 784,
    "start_time": "2021-12-21T10:12:40.527Z"
   },
   {
    "duration": 298,
    "start_time": "2021-12-21T10:12:41.314Z"
   },
   {
    "duration": 5,
    "start_time": "2021-12-21T10:12:41.615Z"
   },
   {
    "duration": 69,
    "start_time": "2021-12-21T10:12:41.624Z"
   },
   {
    "duration": 79,
    "start_time": "2021-12-21T10:12:41.695Z"
   },
   {
    "duration": 7,
    "start_time": "2021-12-21T10:12:41.776Z"
   },
   {
    "duration": 180,
    "start_time": "2021-12-21T10:12:41.787Z"
   },
   {
    "duration": -331,
    "start_time": "2021-12-21T10:12:42.300Z"
   },
   {
    "duration": 1517,
    "start_time": "2021-12-21T10:14:06.535Z"
   },
   {
    "duration": 69,
    "start_time": "2021-12-21T10:14:11.895Z"
   },
   {
    "duration": 19,
    "start_time": "2021-12-21T10:14:12.530Z"
   },
   {
    "duration": 15,
    "start_time": "2021-12-21T10:14:14.349Z"
   },
   {
    "duration": 3,
    "start_time": "2021-12-21T10:14:20.411Z"
   },
   {
    "duration": 20,
    "start_time": "2021-12-21T10:14:21.849Z"
   },
   {
    "duration": 12,
    "start_time": "2021-12-21T10:14:22.740Z"
   },
   {
    "duration": 7,
    "start_time": "2021-12-21T10:14:23.264Z"
   },
   {
    "duration": 17,
    "start_time": "2021-12-21T10:14:24.134Z"
   },
   {
    "duration": 7,
    "start_time": "2021-12-21T10:14:25.580Z"
   },
   {
    "duration": 6,
    "start_time": "2021-12-21T10:14:26.682Z"
   },
   {
    "duration": 15,
    "start_time": "2021-12-21T10:14:27.260Z"
   },
   {
    "duration": 7,
    "start_time": "2021-12-21T10:14:28.013Z"
   },
   {
    "duration": 13,
    "start_time": "2021-12-21T10:14:31.539Z"
   },
   {
    "duration": 23,
    "start_time": "2021-12-21T10:14:32.251Z"
   },
   {
    "duration": 7,
    "start_time": "2021-12-21T10:14:33.049Z"
   },
   {
    "duration": 22,
    "start_time": "2021-12-21T10:14:38.186Z"
   },
   {
    "duration": 25,
    "start_time": "2021-12-21T10:14:39.418Z"
   },
   {
    "duration": 24,
    "start_time": "2021-12-21T10:14:40.007Z"
   },
   {
    "duration": 6,
    "start_time": "2021-12-21T10:17:30.841Z"
   },
   {
    "duration": 9,
    "start_time": "2021-12-21T10:17:38.639Z"
   },
   {
    "duration": 399,
    "start_time": "2021-12-21T10:19:03.521Z"
   },
   {
    "duration": 15,
    "start_time": "2021-12-21T10:19:13.407Z"
   },
   {
    "duration": 3322,
    "start_time": "2021-12-21T10:20:19.007Z"
   },
   {
    "duration": 63,
    "start_time": "2021-12-21T10:20:53.749Z"
   },
   {
    "duration": 14,
    "start_time": "2021-12-21T10:22:20.081Z"
   },
   {
    "duration": 8,
    "start_time": "2021-12-21T10:22:34.704Z"
   },
   {
    "duration": 9,
    "start_time": "2021-12-21T10:22:57.216Z"
   },
   {
    "duration": 1975,
    "start_time": "2021-12-21T10:23:34.302Z"
   },
   {
    "duration": -122,
    "start_time": "2021-12-21T10:23:36.403Z"
   },
   {
    "duration": -140,
    "start_time": "2021-12-21T10:23:36.423Z"
   },
   {
    "duration": -142,
    "start_time": "2021-12-21T10:23:36.428Z"
   },
   {
    "duration": -145,
    "start_time": "2021-12-21T10:23:36.433Z"
   },
   {
    "duration": -148,
    "start_time": "2021-12-21T10:23:36.438Z"
   },
   {
    "duration": -151,
    "start_time": "2021-12-21T10:23:36.443Z"
   },
   {
    "duration": -469,
    "start_time": "2021-12-21T10:23:36.764Z"
   },
   {
    "duration": -474,
    "start_time": "2021-12-21T10:23:36.771Z"
   },
   {
    "duration": -476,
    "start_time": "2021-12-21T10:23:36.775Z"
   },
   {
    "duration": -509,
    "start_time": "2021-12-21T10:23:36.810Z"
   },
   {
    "duration": 8,
    "start_time": "2021-12-21T10:23:36.324Z"
   },
   {
    "duration": 33,
    "start_time": "2021-12-21T10:23:36.417Z"
   },
   {
    "duration": 24,
    "start_time": "2021-12-21T10:23:36.726Z"
   },
   {
    "duration": 24,
    "start_time": "2021-12-21T10:23:36.814Z"
   },
   {
    "duration": 7,
    "start_time": "2021-12-21T10:23:36.982Z"
   },
   {
    "duration": 8,
    "start_time": "2021-12-21T10:23:37.227Z"
   },
   {
    "duration": 506,
    "start_time": "2021-12-21T10:23:37.312Z"
   },
   {
    "duration": 549,
    "start_time": "2021-12-21T10:23:37.821Z"
   },
   {
    "duration": 539,
    "start_time": "2021-12-21T10:23:38.374Z"
   },
   {
    "duration": 829,
    "start_time": "2021-12-21T10:23:38.915Z"
   },
   {
    "duration": 1689,
    "start_time": "2021-12-21T10:23:39.747Z"
   },
   {
    "duration": 1695,
    "start_time": "2021-12-21T10:23:41.441Z"
   },
   {
    "duration": 610,
    "start_time": "2021-12-21T10:23:43.139Z"
   },
   {
    "duration": 300,
    "start_time": "2021-12-21T10:23:43.759Z"
   },
   {
    "duration": 6,
    "start_time": "2021-12-21T10:23:44.061Z"
   },
   {
    "duration": 89,
    "start_time": "2021-12-21T10:23:44.070Z"
   },
   {
    "duration": 50,
    "start_time": "2021-12-21T10:23:44.161Z"
   },
   {
    "duration": 6,
    "start_time": "2021-12-21T10:23:44.213Z"
   },
   {
    "duration": 166,
    "start_time": "2021-12-21T10:23:44.915Z"
   },
   {
    "duration": 1492,
    "start_time": "2021-12-21T10:23:45.159Z"
   },
   {
    "duration": 36,
    "start_time": "2021-12-21T10:23:50.745Z"
   },
   {
    "duration": 18,
    "start_time": "2021-12-21T10:25:00.482Z"
   },
   {
    "duration": 19,
    "start_time": "2021-12-21T10:25:26.590Z"
   },
   {
    "duration": 22,
    "start_time": "2021-12-21T10:25:27.412Z"
   },
   {
    "duration": 406,
    "start_time": "2021-12-21T10:25:41.231Z"
   },
   {
    "duration": 8,
    "start_time": "2021-12-21T10:25:45.313Z"
   },
   {
    "duration": 8,
    "start_time": "2021-12-21T10:25:57.416Z"
   },
   {
    "duration": 20,
    "start_time": "2021-12-21T10:26:04.970Z"
   },
   {
    "duration": 18,
    "start_time": "2021-12-21T10:26:11.345Z"
   },
   {
    "duration": 17,
    "start_time": "2021-12-21T10:33:14.640Z"
   },
   {
    "duration": 18,
    "start_time": "2021-12-21T10:33:31.313Z"
   },
   {
    "duration": 53,
    "start_time": "2021-12-21T10:38:06.837Z"
   },
   {
    "duration": 20,
    "start_time": "2021-12-21T10:38:07.692Z"
   },
   {
    "duration": 15,
    "start_time": "2021-12-21T10:38:08.274Z"
   },
   {
    "duration": 11,
    "start_time": "2021-12-21T10:38:09.910Z"
   },
   {
    "duration": 20,
    "start_time": "2021-12-21T10:38:12.324Z"
   },
   {
    "duration": 11,
    "start_time": "2021-12-21T10:38:12.754Z"
   },
   {
    "duration": 7,
    "start_time": "2021-12-21T10:38:13.222Z"
   },
   {
    "duration": 10,
    "start_time": "2021-12-21T10:38:13.626Z"
   },
   {
    "duration": 7,
    "start_time": "2021-12-21T10:38:14.333Z"
   },
   {
    "duration": 6,
    "start_time": "2021-12-21T10:38:14.662Z"
   },
   {
    "duration": 16,
    "start_time": "2021-12-21T10:38:15.095Z"
   },
   {
    "duration": 9,
    "start_time": "2021-12-21T10:38:15.416Z"
   },
   {
    "duration": 12,
    "start_time": "2021-12-21T10:38:15.729Z"
   },
   {
    "duration": 23,
    "start_time": "2021-12-21T10:38:15.880Z"
   },
   {
    "duration": 6,
    "start_time": "2021-12-21T10:38:16.175Z"
   },
   {
    "duration": 21,
    "start_time": "2021-12-21T10:38:16.329Z"
   },
   {
    "duration": 25,
    "start_time": "2021-12-21T10:38:16.906Z"
   },
   {
    "duration": 24,
    "start_time": "2021-12-21T10:38:17.608Z"
   },
   {
    "duration": 7,
    "start_time": "2021-12-21T10:38:18.890Z"
   },
   {
    "duration": 9,
    "start_time": "2021-12-21T10:38:20.346Z"
   },
   {
    "duration": 553,
    "start_time": "2021-12-21T10:38:20.918Z"
   },
   {
    "duration": 847,
    "start_time": "2021-12-21T10:38:23.712Z"
   },
   {
    "duration": 513,
    "start_time": "2021-12-21T10:38:26.192Z"
   },
   {
    "duration": 825,
    "start_time": "2021-12-21T10:38:28.812Z"
   },
   {
    "duration": 1914,
    "start_time": "2021-12-21T10:38:31.396Z"
   },
   {
    "duration": 1598,
    "start_time": "2021-12-21T10:38:33.313Z"
   },
   {
    "duration": 769,
    "start_time": "2021-12-21T10:38:36.324Z"
   },
   {
    "duration": 409,
    "start_time": "2021-12-21T10:38:37.836Z"
   },
   {
    "duration": 8,
    "start_time": "2021-12-21T10:38:40.236Z"
   },
   {
    "duration": 46,
    "start_time": "2021-12-21T10:38:40.791Z"
   },
   {
    "duration": 46,
    "start_time": "2021-12-21T10:38:42.892Z"
   },
   {
    "duration": 6,
    "start_time": "2021-12-21T10:38:45.106Z"
   },
   {
    "duration": 359,
    "start_time": "2021-12-21T10:38:45.425Z"
   },
   {
    "duration": 1100,
    "start_time": "2021-12-21T10:38:45.906Z"
   },
   {
    "duration": 8,
    "start_time": "2021-12-21T10:38:51.926Z"
   },
   {
    "duration": 1091,
    "start_time": "2021-12-21T10:38:52.349Z"
   },
   {
    "duration": 20,
    "start_time": "2021-12-21T10:38:55.718Z"
   },
   {
    "duration": 19,
    "start_time": "2021-12-21T10:38:58.466Z"
   },
   {
    "duration": 20,
    "start_time": "2021-12-21T10:38:59.972Z"
   },
   {
    "duration": 17,
    "start_time": "2021-12-21T10:39:03.874Z"
   },
   {
    "duration": 15,
    "start_time": "2021-12-21T10:39:08.820Z"
   },
   {
    "duration": 17,
    "start_time": "2021-12-21T10:39:09.705Z"
   },
   {
    "duration": 6728,
    "start_time": "2021-12-21T21:43:42.918Z"
   },
   {
    "duration": 973,
    "start_time": "2021-12-21T21:43:53.495Z"
   },
   {
    "duration": 21,
    "start_time": "2021-12-21T21:43:54.470Z"
   },
   {
    "duration": 11,
    "start_time": "2021-12-21T21:43:54.493Z"
   },
   {
    "duration": 6,
    "start_time": "2021-12-21T21:43:54.506Z"
   },
   {
    "duration": 14,
    "start_time": "2021-12-21T21:43:54.513Z"
   },
   {
    "duration": 7,
    "start_time": "2021-12-21T21:43:54.528Z"
   },
   {
    "duration": 6,
    "start_time": "2021-12-21T21:43:54.536Z"
   },
   {
    "duration": 6,
    "start_time": "2021-12-21T21:43:54.544Z"
   },
   {
    "duration": 7,
    "start_time": "2021-12-21T21:43:54.552Z"
   },
   {
    "duration": 8,
    "start_time": "2021-12-21T21:43:54.561Z"
   },
   {
    "duration": 20,
    "start_time": "2021-12-21T21:43:54.570Z"
   },
   {
    "duration": 7,
    "start_time": "2021-12-21T21:43:54.592Z"
   },
   {
    "duration": 15,
    "start_time": "2021-12-21T21:43:54.601Z"
   },
   {
    "duration": 19,
    "start_time": "2021-12-21T21:43:54.618Z"
   },
   {
    "duration": 18,
    "start_time": "2021-12-21T21:43:54.639Z"
   },
   {
    "duration": 15,
    "start_time": "2021-12-21T21:43:54.658Z"
   },
   {
    "duration": 19,
    "start_time": "2021-12-21T21:43:54.674Z"
   },
   {
    "duration": 16,
    "start_time": "2021-12-21T21:43:54.694Z"
   },
   {
    "duration": 6,
    "start_time": "2021-12-21T21:43:54.711Z"
   },
   {
    "duration": 10,
    "start_time": "2021-12-21T21:43:54.719Z"
   },
   {
    "duration": 322,
    "start_time": "2021-12-21T21:43:54.730Z"
   },
   {
    "duration": 6569,
    "start_time": "2021-12-21T21:43:55.054Z"
   },
   {
    "duration": -4526,
    "start_time": "2021-12-21T21:44:06.152Z"
   },
   {
    "duration": -4527,
    "start_time": "2021-12-21T21:44:06.153Z"
   },
   {
    "duration": -4529,
    "start_time": "2021-12-21T21:44:06.156Z"
   },
   {
    "duration": -4530,
    "start_time": "2021-12-21T21:44:06.158Z"
   },
   {
    "duration": -4532,
    "start_time": "2021-12-21T21:44:06.161Z"
   },
   {
    "duration": -4533,
    "start_time": "2021-12-21T21:44:06.163Z"
   },
   {
    "duration": -4535,
    "start_time": "2021-12-21T21:44:06.166Z"
   },
   {
    "duration": -4537,
    "start_time": "2021-12-21T21:44:06.168Z"
   },
   {
    "duration": -4539,
    "start_time": "2021-12-21T21:44:06.171Z"
   },
   {
    "duration": -4540,
    "start_time": "2021-12-21T21:44:06.173Z"
   },
   {
    "duration": -4540,
    "start_time": "2021-12-21T21:44:06.174Z"
   },
   {
    "duration": -4541,
    "start_time": "2021-12-21T21:44:06.176Z"
   },
   {
    "duration": -4542,
    "start_time": "2021-12-21T21:44:06.178Z"
   },
   {
    "duration": -4543,
    "start_time": "2021-12-21T21:44:06.180Z"
   },
   {
    "duration": -4544,
    "start_time": "2021-12-21T21:44:06.182Z"
   },
   {
    "duration": -4549,
    "start_time": "2021-12-21T21:44:06.188Z"
   },
   {
    "duration": 923,
    "start_time": "2021-12-21T21:44:21.793Z"
   },
   {
    "duration": 317,
    "start_time": "2021-12-21T21:44:30.940Z"
   },
   {
    "duration": 304,
    "start_time": "2021-12-21T21:44:31.259Z"
   },
   {
    "duration": 550,
    "start_time": "2021-12-21T21:44:31.565Z"
   },
   {
    "duration": 1067,
    "start_time": "2021-12-21T21:44:32.117Z"
   },
   {
    "duration": 1206,
    "start_time": "2021-12-21T21:44:33.186Z"
   },
   {
    "duration": 390,
    "start_time": "2021-12-21T21:44:34.394Z"
   },
   {
    "duration": 161,
    "start_time": "2021-12-21T21:44:34.786Z"
   },
   {
    "duration": 3,
    "start_time": "2021-12-21T21:44:34.950Z"
   },
   {
    "duration": 964,
    "start_time": "2021-12-21T21:44:34.954Z"
   },
   {
    "duration": 43,
    "start_time": "2021-12-21T21:44:35.921Z"
   },
   {
    "duration": 4,
    "start_time": "2021-12-21T21:44:35.966Z"
   },
   {
    "duration": 627,
    "start_time": "2021-12-21T21:44:35.971Z"
   },
   {
    "duration": 16,
    "start_time": "2021-12-21T21:44:36.599Z"
   },
   {
    "duration": 24,
    "start_time": "2021-12-21T21:44:36.617Z"
   },
   {
    "duration": 10,
    "start_time": "2021-12-21T21:44:36.643Z"
   },
   {
    "duration": 12,
    "start_time": "2021-12-21T21:44:36.654Z"
   },
   {
    "duration": 1581,
    "start_time": "2021-12-22T07:43:37.093Z"
   },
   {
    "duration": 32,
    "start_time": "2021-12-22T07:43:55.547Z"
   },
   {
    "duration": 15,
    "start_time": "2021-12-22T07:43:56.178Z"
   },
   {
    "duration": 4,
    "start_time": "2021-12-22T07:44:00.796Z"
   },
   {
    "duration": 20,
    "start_time": "2021-12-22T07:44:04.593Z"
   },
   {
    "duration": 12,
    "start_time": "2021-12-22T07:44:05.744Z"
   },
   {
    "duration": 9,
    "start_time": "2021-12-22T07:44:06.521Z"
   },
   {
    "duration": 11,
    "start_time": "2021-12-22T07:44:07.389Z"
   },
   {
    "duration": 7,
    "start_time": "2021-12-22T07:44:08.958Z"
   },
   {
    "duration": 6,
    "start_time": "2021-12-22T07:44:09.871Z"
   },
   {
    "duration": 13,
    "start_time": "2021-12-22T07:44:10.745Z"
   },
   {
    "duration": 7,
    "start_time": "2021-12-22T07:44:11.756Z"
   },
   {
    "duration": 13,
    "start_time": "2021-12-22T07:44:13.012Z"
   },
   {
    "duration": 24,
    "start_time": "2021-12-22T07:44:27.002Z"
   },
   {
    "duration": 18,
    "start_time": "2021-12-22T07:44:27.920Z"
   },
   {
    "duration": 22,
    "start_time": "2021-12-22T07:44:28.362Z"
   },
   {
    "duration": 25,
    "start_time": "2021-12-22T07:44:30.033Z"
   },
   {
    "duration": 26,
    "start_time": "2021-12-22T07:44:30.480Z"
   },
   {
    "duration": 9,
    "start_time": "2021-12-22T07:44:55.632Z"
   },
   {
    "duration": 10,
    "start_time": "2021-12-22T07:44:56.842Z"
   },
   {
    "duration": 468,
    "start_time": "2021-12-22T07:44:57.342Z"
   },
   {
    "duration": 1865,
    "start_time": "2021-12-22T07:45:45.526Z"
   },
   {
    "duration": 856,
    "start_time": "2021-12-22T07:46:19.205Z"
   },
   {
    "duration": 520,
    "start_time": "2021-12-22T07:46:40.991Z"
   },
   {
    "duration": 498,
    "start_time": "2021-12-22T07:46:43.175Z"
   },
   {
    "duration": 797,
    "start_time": "2021-12-22T07:47:16.624Z"
   },
   {
    "duration": 1682,
    "start_time": "2021-12-22T07:47:27.282Z"
   },
   {
    "duration": 1555,
    "start_time": "2021-12-22T07:47:28.968Z"
   },
   {
    "duration": 749,
    "start_time": "2021-12-22T07:47:30.813Z"
   },
   {
    "duration": 278,
    "start_time": "2021-12-22T07:47:35.735Z"
   },
   {
    "duration": 5,
    "start_time": "2021-12-22T07:47:38.279Z"
   },
   {
    "duration": 934,
    "start_time": "2021-12-22T07:47:38.974Z"
   },
   {
    "duration": 47,
    "start_time": "2021-12-22T07:47:50.930Z"
   },
   {
    "duration": 7,
    "start_time": "2021-12-22T07:47:57.535Z"
   },
   {
    "duration": 972,
    "start_time": "2021-12-22T07:47:58.187Z"
   },
   {
    "duration": 21,
    "start_time": "2021-12-22T07:48:19.088Z"
   },
   {
    "duration": 17,
    "start_time": "2021-12-22T07:48:19.956Z"
   },
   {
    "duration": 15,
    "start_time": "2021-12-22T07:48:21.499Z"
   },
   {
    "duration": 19,
    "start_time": "2021-12-22T07:48:21.859Z"
   },
   {
    "duration": 21,
    "start_time": "2021-12-22T07:49:04.604Z"
   },
   {
    "duration": 14,
    "start_time": "2021-12-22T07:49:04.809Z"
   },
   {
    "duration": 1738,
    "start_time": "2021-12-22T07:49:07.267Z"
   },
   {
    "duration": 51,
    "start_time": "2021-12-22T07:51:24.970Z"
   },
   {
    "duration": 19,
    "start_time": "2021-12-22T07:51:25.720Z"
   },
   {
    "duration": 19,
    "start_time": "2021-12-22T07:51:26.169Z"
   },
   {
    "duration": 4,
    "start_time": "2021-12-22T07:51:28.216Z"
   },
   {
    "duration": 22,
    "start_time": "2021-12-22T07:51:30.196Z"
   },
   {
    "duration": 11,
    "start_time": "2021-12-22T07:51:31.558Z"
   },
   {
    "duration": 14,
    "start_time": "2021-12-22T07:51:56.235Z"
   },
   {
    "duration": 12,
    "start_time": "2021-12-22T07:51:56.910Z"
   },
   {
    "duration": 51,
    "start_time": "2021-12-22T07:52:03.573Z"
   },
   {
    "duration": 20,
    "start_time": "2021-12-22T07:52:04.516Z"
   },
   {
    "duration": 14,
    "start_time": "2021-12-22T07:52:04.993Z"
   },
   {
    "duration": 4,
    "start_time": "2021-12-22T07:52:06.047Z"
   },
   {
    "duration": 20,
    "start_time": "2021-12-22T07:52:08.037Z"
   },
   {
    "duration": 11,
    "start_time": "2021-12-22T07:52:09.939Z"
   },
   {
    "duration": 8,
    "start_time": "2021-12-22T07:52:11.080Z"
   },
   {
    "duration": 12,
    "start_time": "2021-12-22T07:52:12.722Z"
   },
   {
    "duration": 7,
    "start_time": "2021-12-22T07:52:14.728Z"
   },
   {
    "duration": 8,
    "start_time": "2021-12-22T07:52:16.271Z"
   },
   {
    "duration": 15,
    "start_time": "2021-12-22T07:52:17.902Z"
   },
   {
    "duration": 7,
    "start_time": "2021-12-22T07:52:19.867Z"
   },
   {
    "duration": 15,
    "start_time": "2021-12-22T07:52:22.184Z"
   },
   {
    "duration": 22,
    "start_time": "2021-12-22T07:52:30.600Z"
   },
   {
    "duration": 6,
    "start_time": "2021-12-22T07:52:31.619Z"
   },
   {
    "duration": 21,
    "start_time": "2021-12-22T07:52:32.073Z"
   },
   {
    "duration": 24,
    "start_time": "2021-12-22T07:52:34.276Z"
   },
   {
    "duration": 26,
    "start_time": "2021-12-22T07:52:34.902Z"
   },
   {
    "duration": 4,
    "start_time": "2021-12-22T07:54:23.258Z"
   },
   {
    "duration": 349,
    "start_time": "2021-12-22T07:55:00.545Z"
   },
   {
    "duration": 399,
    "start_time": "2021-12-22T07:55:45.140Z"
   },
   {
    "duration": 4,
    "start_time": "2021-12-22T07:55:51.550Z"
   },
   {
    "duration": 611,
    "start_time": "2021-12-22T07:56:30.941Z"
   },
   {
    "duration": 790,
    "start_time": "2021-12-22T07:58:07.376Z"
   },
   {
    "duration": 166,
    "start_time": "2021-12-22T07:58:34.672Z"
   },
   {
    "duration": 119,
    "start_time": "2021-12-22T07:58:46.985Z"
   },
   {
    "duration": 138,
    "start_time": "2021-12-22T07:58:58.433Z"
   },
   {
    "duration": 890,
    "start_time": "2021-12-22T07:59:05.469Z"
   },
   {
    "duration": 47,
    "start_time": "2021-12-22T08:01:52.918Z"
   },
   {
    "duration": 18,
    "start_time": "2021-12-22T08:01:53.365Z"
   },
   {
    "duration": 14,
    "start_time": "2021-12-22T08:01:53.552Z"
   },
   {
    "duration": 4,
    "start_time": "2021-12-22T08:01:54.095Z"
   },
   {
    "duration": 19,
    "start_time": "2021-12-22T08:01:54.967Z"
   },
   {
    "duration": 11,
    "start_time": "2021-12-22T08:01:55.315Z"
   },
   {
    "duration": 7,
    "start_time": "2021-12-22T08:01:55.687Z"
   },
   {
    "duration": 11,
    "start_time": "2021-12-22T08:01:56.087Z"
   },
   {
    "duration": 7,
    "start_time": "2021-12-22T08:01:56.864Z"
   },
   {
    "duration": 6,
    "start_time": "2021-12-22T08:01:57.276Z"
   },
   {
    "duration": 14,
    "start_time": "2021-12-22T08:01:57.671Z"
   },
   {
    "duration": 7,
    "start_time": "2021-12-22T08:01:58.087Z"
   },
   {
    "duration": 12,
    "start_time": "2021-12-22T08:01:58.584Z"
   },
   {
    "duration": 22,
    "start_time": "2021-12-22T08:01:58.999Z"
   },
   {
    "duration": 6,
    "start_time": "2021-12-22T08:01:59.427Z"
   },
   {
    "duration": 20,
    "start_time": "2021-12-22T08:01:59.861Z"
   },
   {
    "duration": 3,
    "start_time": "2021-12-22T08:02:01.056Z"
   },
   {
    "duration": 394,
    "start_time": "2021-12-22T08:02:01.582Z"
   },
   {
    "duration": 3,
    "start_time": "2021-12-22T08:02:02.412Z"
   },
   {
    "duration": 440,
    "start_time": "2021-12-22T08:02:03.102Z"
   },
   {
    "duration": 7,
    "start_time": "2021-12-22T08:02:28.347Z"
   },
   {
    "duration": 10,
    "start_time": "2021-12-22T08:02:33.777Z"
   },
   {
    "duration": 460,
    "start_time": "2021-12-22T08:02:34.294Z"
   },
   {
    "duration": 132,
    "start_time": "2021-12-22T08:12:43.601Z"
   },
   {
    "duration": 757,
    "start_time": "2021-12-22T08:13:00.402Z"
   },
   {
    "duration": 416,
    "start_time": "2021-12-22T08:13:33.421Z"
   },
   {
    "duration": 414,
    "start_time": "2021-12-22T08:13:50.764Z"
   },
   {
    "duration": 420,
    "start_time": "2021-12-22T08:14:08.527Z"
   },
   {
    "duration": 817,
    "start_time": "2021-12-22T08:14:32.911Z"
   },
   {
    "duration": 418,
    "start_time": "2021-12-22T08:14:42.850Z"
   },
   {
    "duration": 604,
    "start_time": "2021-12-22T08:15:36.258Z"
   },
   {
    "duration": 400,
    "start_time": "2021-12-22T08:15:52.738Z"
   },
   {
    "duration": 283,
    "start_time": "2021-12-22T08:16:01.254Z"
   },
   {
    "duration": 295,
    "start_time": "2021-12-22T08:16:05.152Z"
   },
   {
    "duration": 386,
    "start_time": "2021-12-22T08:16:11.387Z"
   },
   {
    "duration": 468,
    "start_time": "2021-12-22T08:17:09.966Z"
   },
   {
    "duration": 383,
    "start_time": "2021-12-22T08:17:18.573Z"
   },
   {
    "duration": 3,
    "start_time": "2021-12-22T08:19:15.731Z"
   },
   {
    "duration": 3,
    "start_time": "2021-12-22T08:19:28.313Z"
   },
   {
    "duration": 366,
    "start_time": "2021-12-22T08:19:28.496Z"
   },
   {
    "duration": 3,
    "start_time": "2021-12-22T08:19:30.103Z"
   },
   {
    "duration": 379,
    "start_time": "2021-12-22T08:19:30.518Z"
   },
   {
    "duration": 4,
    "start_time": "2021-12-22T08:19:32.430Z"
   },
   {
    "duration": 8,
    "start_time": "2021-12-22T08:19:33.070Z"
   },
   {
    "duration": 9,
    "start_time": "2021-12-22T08:19:34.182Z"
   },
   {
    "duration": 467,
    "start_time": "2021-12-22T08:19:34.574Z"
   },
   {
    "duration": 798,
    "start_time": "2021-12-22T08:19:38.309Z"
   },
   {
    "duration": 678,
    "start_time": "2021-12-22T08:19:42.057Z"
   },
   {
    "duration": 511,
    "start_time": "2021-12-22T08:20:21.761Z"
   },
   {
    "duration": 472,
    "start_time": "2021-12-22T08:22:42.980Z"
   },
   {
    "duration": 1250,
    "start_time": "2021-12-22T08:23:19.603Z"
   },
   {
    "duration": 1132,
    "start_time": "2021-12-22T08:24:18.195Z"
   },
   {
    "duration": 1556,
    "start_time": "2021-12-22T08:24:31.399Z"
   },
   {
    "duration": 1680,
    "start_time": "2021-12-22T08:24:36.922Z"
   },
   {
    "duration": 593,
    "start_time": "2021-12-22T08:24:42.018Z"
   },
   {
    "duration": 690,
    "start_time": "2021-12-22T08:28:08.939Z"
   },
   {
    "duration": 745,
    "start_time": "2021-12-22T08:28:32.208Z"
   },
   {
    "duration": 775,
    "start_time": "2021-12-22T08:29:12.288Z"
   },
   {
    "duration": 256,
    "start_time": "2021-12-22T08:29:31.368Z"
   },
   {
    "duration": 5,
    "start_time": "2021-12-22T08:29:38.280Z"
   },
   {
    "duration": 46,
    "start_time": "2021-12-22T08:29:39.269Z"
   },
   {
    "duration": 11,
    "start_time": "2021-12-22T08:32:26.265Z"
   },
   {
    "duration": 52,
    "start_time": "2021-12-22T08:32:27.285Z"
   },
   {
    "duration": 8,
    "start_time": "2021-12-22T08:36:50.022Z"
   },
   {
    "duration": 684,
    "start_time": "2021-12-22T08:37:39.659Z"
   },
   {
    "duration": 70,
    "start_time": "2021-12-22T08:38:29.694Z"
   },
   {
    "duration": 87,
    "start_time": "2021-12-22T08:38:53.725Z"
   },
   {
    "duration": 406,
    "start_time": "2021-12-22T08:39:30.436Z"
   },
   {
    "duration": 509,
    "start_time": "2021-12-22T08:40:27.666Z"
   },
   {
    "duration": 55,
    "start_time": "2021-12-22T08:40:58.308Z"
   },
   {
    "duration": 83,
    "start_time": "2021-12-22T08:42:35.455Z"
   },
   {
    "duration": 53,
    "start_time": "2021-12-22T08:42:44.171Z"
   },
   {
    "duration": 10,
    "start_time": "2021-12-22T08:42:55.580Z"
   },
   {
    "duration": 52,
    "start_time": "2021-12-22T08:42:56.047Z"
   },
   {
    "duration": 52,
    "start_time": "2021-12-22T08:42:59.073Z"
   },
   {
    "duration": 12,
    "start_time": "2021-12-22T08:43:22.180Z"
   },
   {
    "duration": 62,
    "start_time": "2021-12-22T08:43:22.596Z"
   },
   {
    "duration": 55,
    "start_time": "2021-12-22T08:43:40.510Z"
   },
   {
    "duration": 12,
    "start_time": "2021-12-22T08:44:28.536Z"
   },
   {
    "duration": 806,
    "start_time": "2021-12-22T08:44:29.218Z"
   },
   {
    "duration": 12,
    "start_time": "2021-12-22T08:44:37.415Z"
   },
   {
    "duration": 768,
    "start_time": "2021-12-22T08:44:38.652Z"
   },
   {
    "duration": 11,
    "start_time": "2021-12-22T08:45:15.483Z"
   },
   {
    "duration": 58,
    "start_time": "2021-12-22T08:45:15.869Z"
   },
   {
    "duration": 12,
    "start_time": "2021-12-22T08:45:33.473Z"
   },
   {
    "duration": 383,
    "start_time": "2021-12-22T08:45:33.936Z"
   },
   {
    "duration": 11,
    "start_time": "2021-12-22T08:45:56.234Z"
   },
   {
    "duration": 379,
    "start_time": "2021-12-22T08:45:57.493Z"
   },
   {
    "duration": 920,
    "start_time": "2021-12-22T08:46:17.560Z"
   },
   {
    "duration": 10,
    "start_time": "2021-12-22T08:46:27.948Z"
   },
   {
    "duration": 810,
    "start_time": "2021-12-22T08:46:28.477Z"
   },
   {
    "duration": 10,
    "start_time": "2021-12-22T08:46:54.849Z"
   },
   {
    "duration": 55,
    "start_time": "2021-12-22T08:46:55.924Z"
   },
   {
    "duration": 12,
    "start_time": "2021-12-22T08:47:29.701Z"
   },
   {
    "duration": 52,
    "start_time": "2021-12-22T08:47:30.540Z"
   },
   {
    "duration": 14,
    "start_time": "2021-12-22T08:48:42.948Z"
   },
   {
    "duration": 50,
    "start_time": "2021-12-22T08:48:43.375Z"
   },
   {
    "duration": 52,
    "start_time": "2021-12-22T08:48:47.890Z"
   },
   {
    "duration": 49,
    "start_time": "2021-12-22T08:49:29.630Z"
   },
   {
    "duration": 19,
    "start_time": "2021-12-22T08:49:29.981Z"
   },
   {
    "duration": 15,
    "start_time": "2021-12-22T08:49:30.171Z"
   },
   {
    "duration": 4,
    "start_time": "2021-12-22T08:49:30.747Z"
   },
   {
    "duration": 22,
    "start_time": "2021-12-22T08:49:31.496Z"
   },
   {
    "duration": 11,
    "start_time": "2021-12-22T08:49:31.859Z"
   },
   {
    "duration": 7,
    "start_time": "2021-12-22T08:49:32.224Z"
   },
   {
    "duration": 10,
    "start_time": "2021-12-22T08:49:32.590Z"
   },
   {
    "duration": 6,
    "start_time": "2021-12-22T08:49:33.269Z"
   },
   {
    "duration": 6,
    "start_time": "2021-12-22T08:49:33.552Z"
   },
   {
    "duration": 14,
    "start_time": "2021-12-22T08:49:33.803Z"
   },
   {
    "duration": 8,
    "start_time": "2021-12-22T08:49:34.096Z"
   },
   {
    "duration": 12,
    "start_time": "2021-12-22T08:49:34.578Z"
   },
   {
    "duration": 22,
    "start_time": "2021-12-22T08:49:34.922Z"
   },
   {
    "duration": 6,
    "start_time": "2021-12-22T08:49:35.193Z"
   },
   {
    "duration": 21,
    "start_time": "2021-12-22T08:49:35.330Z"
   },
   {
    "duration": 3,
    "start_time": "2021-12-22T08:49:35.864Z"
   },
   {
    "duration": 449,
    "start_time": "2021-12-22T08:49:36.013Z"
   },
   {
    "duration": 4,
    "start_time": "2021-12-22T08:49:36.464Z"
   },
   {
    "duration": 415,
    "start_time": "2021-12-22T08:49:36.471Z"
   },
   {
    "duration": 3,
    "start_time": "2021-12-22T08:49:36.889Z"
   },
   {
    "duration": 7,
    "start_time": "2021-12-22T08:49:36.901Z"
   },
   {
    "duration": 9,
    "start_time": "2021-12-22T08:49:38.229Z"
   },
   {
    "duration": 471,
    "start_time": "2021-12-22T08:49:38.508Z"
   },
   {
    "duration": 856,
    "start_time": "2021-12-22T08:49:39.086Z"
   },
   {
    "duration": 511,
    "start_time": "2021-12-22T08:49:40.313Z"
   },
   {
    "duration": 484,
    "start_time": "2021-12-22T08:49:41.758Z"
   },
   {
    "duration": 844,
    "start_time": "2021-12-22T08:49:44.381Z"
   },
   {
    "duration": 1555,
    "start_time": "2021-12-22T08:49:48.927Z"
   },
   {
    "duration": 1644,
    "start_time": "2021-12-22T08:49:50.485Z"
   },
   {
    "duration": 683,
    "start_time": "2021-12-22T08:49:52.133Z"
   },
   {
    "duration": 266,
    "start_time": "2021-12-22T08:49:54.714Z"
   },
   {
    "duration": 15,
    "start_time": "2021-12-22T08:49:56.940Z"
   },
   {
    "duration": 51,
    "start_time": "2021-12-22T08:49:57.430Z"
   },
   {
    "duration": 61,
    "start_time": "2021-12-22T08:54:47.074Z"
   },
   {
    "duration": 6,
    "start_time": "2021-12-22T08:56:35.917Z"
   },
   {
    "duration": 1268,
    "start_time": "2021-12-22T08:56:37.123Z"
   },
   {
    "duration": 26,
    "start_time": "2021-12-22T08:57:21.452Z"
   },
   {
    "duration": 20,
    "start_time": "2021-12-22T08:57:27.632Z"
   },
   {
    "duration": 548,
    "start_time": "2021-12-22T08:58:05.950Z"
   },
   {
    "duration": 6,
    "start_time": "2021-12-22T08:58:10.986Z"
   },
   {
    "duration": 33,
    "start_time": "2021-12-22T08:58:54.482Z"
   },
   {
    "duration": 33,
    "start_time": "2021-12-22T08:59:04.987Z"
   },
   {
    "duration": 15,
    "start_time": "2021-12-22T08:59:17.343Z"
   },
   {
    "duration": 50,
    "start_time": "2021-12-22T08:59:37.329Z"
   },
   {
    "duration": 19,
    "start_time": "2021-12-22T08:59:37.676Z"
   },
   {
    "duration": 14,
    "start_time": "2021-12-22T08:59:37.879Z"
   },
   {
    "duration": 5,
    "start_time": "2021-12-22T08:59:38.962Z"
   },
   {
    "duration": 20,
    "start_time": "2021-12-22T08:59:41.316Z"
   },
   {
    "duration": 11,
    "start_time": "2021-12-22T08:59:42.003Z"
   },
   {
    "duration": 8,
    "start_time": "2021-12-22T08:59:42.407Z"
   },
   {
    "duration": 10,
    "start_time": "2021-12-22T08:59:42.760Z"
   },
   {
    "duration": 8,
    "start_time": "2021-12-22T08:59:43.649Z"
   },
   {
    "duration": 6,
    "start_time": "2021-12-22T08:59:44.009Z"
   },
   {
    "duration": 17,
    "start_time": "2021-12-22T08:59:44.369Z"
   },
   {
    "duration": 7,
    "start_time": "2021-12-22T08:59:44.725Z"
   },
   {
    "duration": 11,
    "start_time": "2021-12-22T08:59:45.121Z"
   },
   {
    "duration": 25,
    "start_time": "2021-12-22T08:59:46.394Z"
   },
   {
    "duration": 6,
    "start_time": "2021-12-22T08:59:47.372Z"
   },
   {
    "duration": 22,
    "start_time": "2021-12-22T08:59:47.634Z"
   },
   {
    "duration": 3,
    "start_time": "2021-12-22T08:59:48.473Z"
   },
   {
    "duration": 400,
    "start_time": "2021-12-22T08:59:48.663Z"
   },
   {
    "duration": 3,
    "start_time": "2021-12-22T08:59:49.065Z"
   },
   {
    "duration": 428,
    "start_time": "2021-12-22T08:59:49.080Z"
   },
   {
    "duration": 3,
    "start_time": "2021-12-22T08:59:50.914Z"
   },
   {
    "duration": 7,
    "start_time": "2021-12-22T08:59:51.189Z"
   },
   {
    "duration": 9,
    "start_time": "2021-12-22T08:59:51.788Z"
   },
   {
    "duration": 573,
    "start_time": "2021-12-22T08:59:51.990Z"
   },
   {
    "duration": 638,
    "start_time": "2021-12-22T08:59:52.566Z"
   },
   {
    "duration": 510,
    "start_time": "2021-12-22T08:59:54.622Z"
   },
   {
    "duration": 463,
    "start_time": "2021-12-22T08:59:55.443Z"
   },
   {
    "duration": 797,
    "start_time": "2021-12-22T09:00:04.534Z"
   },
   {
    "duration": 1758,
    "start_time": "2021-12-22T09:00:07.650Z"
   },
   {
    "duration": 1531,
    "start_time": "2021-12-22T09:00:09.969Z"
   },
   {
    "duration": 665,
    "start_time": "2021-12-22T09:00:12.478Z"
   },
   {
    "duration": 274,
    "start_time": "2021-12-22T09:00:16.963Z"
   },
   {
    "duration": 15,
    "start_time": "2021-12-22T09:00:18.961Z"
   },
   {
    "duration": 52,
    "start_time": "2021-12-22T09:00:19.534Z"
   },
   {
    "duration": 52,
    "start_time": "2021-12-22T09:00:23.184Z"
   },
   {
    "duration": 7,
    "start_time": "2021-12-22T09:00:26.145Z"
   },
   {
    "duration": 1001,
    "start_time": "2021-12-22T09:00:26.799Z"
   },
   {
    "duration": 20,
    "start_time": "2021-12-22T09:00:45.781Z"
   },
   {
    "duration": 18,
    "start_time": "2021-12-22T09:00:51.793Z"
   },
   {
    "duration": 14,
    "start_time": "2021-12-22T09:01:54.653Z"
   },
   {
    "duration": 14,
    "start_time": "2021-12-22T09:02:06.231Z"
   },
   {
    "duration": 18,
    "start_time": "2021-12-22T09:02:06.766Z"
   },
   {
    "duration": 47,
    "start_time": "2021-12-22T09:06:00.044Z"
   },
   {
    "duration": 19,
    "start_time": "2021-12-22T09:06:00.432Z"
   },
   {
    "duration": 17,
    "start_time": "2021-12-22T09:06:00.659Z"
   },
   {
    "duration": 4,
    "start_time": "2021-12-22T09:06:01.261Z"
   },
   {
    "duration": 21,
    "start_time": "2021-12-22T09:06:02.063Z"
   },
   {
    "duration": 11,
    "start_time": "2021-12-22T09:06:02.386Z"
   },
   {
    "duration": 6,
    "start_time": "2021-12-22T09:06:03.008Z"
   },
   {
    "duration": 10,
    "start_time": "2021-12-22T09:06:03.175Z"
   },
   {
    "duration": 8,
    "start_time": "2021-12-22T09:06:03.514Z"
   },
   {
    "duration": 6,
    "start_time": "2021-12-22T09:06:03.701Z"
   },
   {
    "duration": 14,
    "start_time": "2021-12-22T09:06:03.808Z"
   },
   {
    "duration": 8,
    "start_time": "2021-12-22T09:06:03.985Z"
   },
   {
    "duration": 11,
    "start_time": "2021-12-22T09:06:04.186Z"
   },
   {
    "duration": 21,
    "start_time": "2021-12-22T09:06:04.322Z"
   },
   {
    "duration": 6,
    "start_time": "2021-12-22T09:06:05.061Z"
   },
   {
    "duration": 21,
    "start_time": "2021-12-22T09:06:05.267Z"
   },
   {
    "duration": 3,
    "start_time": "2021-12-22T09:06:05.938Z"
   },
   {
    "duration": 451,
    "start_time": "2021-12-22T09:06:06.029Z"
   },
   {
    "duration": 3,
    "start_time": "2021-12-22T09:06:06.482Z"
   },
   {
    "duration": 493,
    "start_time": "2021-12-22T09:06:06.488Z"
   },
   {
    "duration": 3,
    "start_time": "2021-12-22T09:06:08.406Z"
   },
   {
    "duration": 13,
    "start_time": "2021-12-22T09:06:08.901Z"
   },
   {
    "duration": 9,
    "start_time": "2021-12-22T09:06:09.501Z"
   },
   {
    "duration": 477,
    "start_time": "2021-12-22T09:06:09.641Z"
   },
   {
    "duration": 658,
    "start_time": "2021-12-22T09:06:10.270Z"
   },
   {
    "duration": 803,
    "start_time": "2021-12-22T09:06:11.756Z"
   },
   {
    "duration": 470,
    "start_time": "2021-12-22T09:06:13.750Z"
   },
   {
    "duration": 816,
    "start_time": "2021-12-22T09:06:14.820Z"
   },
   {
    "duration": 1603,
    "start_time": "2021-12-22T09:06:15.639Z"
   },
   {
    "duration": 1586,
    "start_time": "2021-12-22T09:06:17.245Z"
   },
   {
    "duration": 715,
    "start_time": "2021-12-22T09:06:18.834Z"
   },
   {
    "duration": 282,
    "start_time": "2021-12-22T09:06:19.552Z"
   },
   {
    "duration": 28,
    "start_time": "2021-12-22T09:06:19.836Z"
   },
   {
    "duration": 52,
    "start_time": "2021-12-22T09:06:19.868Z"
   },
   {
    "duration": 85,
    "start_time": "2021-12-22T09:06:19.923Z"
   },
   {
    "duration": 5,
    "start_time": "2021-12-22T09:06:20.011Z"
   },
   {
    "duration": 1071,
    "start_time": "2021-12-22T09:06:20.018Z"
   },
   {
    "duration": 18,
    "start_time": "2021-12-22T09:06:21.092Z"
   },
   {
    "duration": 46,
    "start_time": "2021-12-22T09:06:21.113Z"
   },
   {
    "duration": 13,
    "start_time": "2021-12-22T09:06:21.162Z"
   },
   {
    "duration": 25,
    "start_time": "2021-12-22T09:06:21.177Z"
   },
   {
    "duration": 1237,
    "start_time": "2021-12-22T19:10:39.120Z"
   },
   {
    "duration": 16,
    "start_time": "2021-12-22T19:10:40.359Z"
   },
   {
    "duration": 17,
    "start_time": "2021-12-22T19:10:40.377Z"
   },
   {
    "duration": 4,
    "start_time": "2021-12-22T19:10:40.396Z"
   },
   {
    "duration": 16,
    "start_time": "2021-12-22T19:10:40.402Z"
   },
   {
    "duration": 21,
    "start_time": "2021-12-22T19:10:40.420Z"
   },
   {
    "duration": 4,
    "start_time": "2021-12-22T19:10:40.443Z"
   },
   {
    "duration": 8,
    "start_time": "2021-12-22T19:10:40.450Z"
   },
   {
    "duration": 7,
    "start_time": "2021-12-22T19:10:40.461Z"
   },
   {
    "duration": 8,
    "start_time": "2021-12-22T19:10:40.469Z"
   },
   {
    "duration": 19,
    "start_time": "2021-12-22T19:10:40.478Z"
   },
   {
    "duration": 8,
    "start_time": "2021-12-22T19:10:40.498Z"
   },
   {
    "duration": 14,
    "start_time": "2021-12-22T19:10:40.508Z"
   },
   {
    "duration": 27,
    "start_time": "2021-12-22T19:10:40.524Z"
   },
   {
    "duration": 4,
    "start_time": "2021-12-22T19:10:40.553Z"
   },
   {
    "duration": 15,
    "start_time": "2021-12-22T19:10:40.559Z"
   },
   {
    "duration": 6,
    "start_time": "2021-12-22T19:10:40.575Z"
   },
   {
    "duration": 262,
    "start_time": "2021-12-22T19:10:40.583Z"
   },
   {
    "duration": 2,
    "start_time": "2021-12-22T19:10:40.847Z"
   },
   {
    "duration": 246,
    "start_time": "2021-12-22T19:10:40.851Z"
   },
   {
    "duration": 2,
    "start_time": "2021-12-22T19:10:41.098Z"
   },
   {
    "duration": 8,
    "start_time": "2021-12-22T19:10:41.102Z"
   },
   {
    "duration": 6,
    "start_time": "2021-12-22T19:10:41.113Z"
   },
   {
    "duration": 303,
    "start_time": "2021-12-22T19:10:41.121Z"
   },
   {
    "duration": 1420,
    "start_time": "2021-12-22T19:10:41.426Z"
   },
   {
    "duration": 376,
    "start_time": "2021-12-22T19:10:42.847Z"
   },
   {
    "duration": 290,
    "start_time": "2021-12-22T19:10:43.225Z"
   },
   {
    "duration": 515,
    "start_time": "2021-12-22T19:10:43.517Z"
   },
   {
    "duration": 1106,
    "start_time": "2021-12-22T19:10:44.041Z"
   },
   {
    "duration": 990,
    "start_time": "2021-12-22T19:10:45.148Z"
   },
   {
    "duration": 393,
    "start_time": "2021-12-22T19:10:46.141Z"
   },
   {
    "duration": 159,
    "start_time": "2021-12-22T19:10:46.536Z"
   },
   {
    "duration": 14,
    "start_time": "2021-12-22T19:10:46.697Z"
   },
   {
    "duration": 791,
    "start_time": "2021-12-22T19:10:46.712Z"
   },
   {
    "duration": -1139,
    "start_time": "2021-12-22T19:10:48.645Z"
   },
   {
    "duration": -1142,
    "start_time": "2021-12-22T19:10:48.649Z"
   },
   {
    "duration": -1149,
    "start_time": "2021-12-22T19:10:48.657Z"
   },
   {
    "duration": -1150,
    "start_time": "2021-12-22T19:10:48.660Z"
   },
   {
    "duration": -1153,
    "start_time": "2021-12-22T19:10:48.664Z"
   },
   {
    "duration": -1162,
    "start_time": "2021-12-22T19:10:48.674Z"
   },
   {
    "duration": -1165,
    "start_time": "2021-12-22T19:10:48.678Z"
   },
   {
    "duration": 440,
    "start_time": "2021-12-22T19:14:05.713Z"
   },
   {
    "duration": 331,
    "start_time": "2021-12-22T19:14:22.771Z"
   },
   {
    "duration": 343,
    "start_time": "2021-12-22T19:14:39.736Z"
   },
   {
    "duration": 41,
    "start_time": "2021-12-22T19:14:50.592Z"
   },
   {
    "duration": 13,
    "start_time": "2021-12-22T19:14:50.635Z"
   },
   {
    "duration": 13,
    "start_time": "2021-12-22T19:14:50.650Z"
   },
   {
    "duration": 3,
    "start_time": "2021-12-22T19:14:50.665Z"
   },
   {
    "duration": 15,
    "start_time": "2021-12-22T19:14:50.670Z"
   },
   {
    "duration": 8,
    "start_time": "2021-12-22T19:14:50.686Z"
   },
   {
    "duration": 6,
    "start_time": "2021-12-22T19:14:50.695Z"
   },
   {
    "duration": 42,
    "start_time": "2021-12-22T19:14:50.703Z"
   },
   {
    "duration": 13,
    "start_time": "2021-12-22T19:14:50.747Z"
   },
   {
    "duration": 8,
    "start_time": "2021-12-22T19:14:50.762Z"
   },
   {
    "duration": 13,
    "start_time": "2021-12-22T19:14:50.771Z"
   },
   {
    "duration": 7,
    "start_time": "2021-12-22T19:14:50.785Z"
   },
   {
    "duration": 13,
    "start_time": "2021-12-22T19:14:50.793Z"
   },
   {
    "duration": 38,
    "start_time": "2021-12-22T19:14:50.808Z"
   },
   {
    "duration": 5,
    "start_time": "2021-12-22T19:14:50.848Z"
   },
   {
    "duration": 23,
    "start_time": "2021-12-22T19:14:50.855Z"
   },
   {
    "duration": 4,
    "start_time": "2021-12-22T19:14:50.880Z"
   },
   {
    "duration": 274,
    "start_time": "2021-12-22T19:14:50.886Z"
   },
   {
    "duration": 3,
    "start_time": "2021-12-22T19:14:51.162Z"
   },
   {
    "duration": 235,
    "start_time": "2021-12-22T19:14:51.167Z"
   },
   {
    "duration": 545,
    "start_time": "2021-12-22T19:14:51.403Z"
   },
   {
    "duration": 2,
    "start_time": "2021-12-22T19:14:51.952Z"
   },
   {
    "duration": 8,
    "start_time": "2021-12-22T19:14:51.956Z"
   },
   {
    "duration": 7,
    "start_time": "2021-12-22T19:14:51.965Z"
   },
   {
    "duration": 472,
    "start_time": "2021-12-22T19:14:51.973Z"
   },
   {
    "duration": 378,
    "start_time": "2021-12-22T19:14:52.447Z"
   },
   {
    "duration": 288,
    "start_time": "2021-12-22T19:14:52.827Z"
   },
   {
    "duration": 270,
    "start_time": "2021-12-22T19:14:53.117Z"
   },
   {
    "duration": 502,
    "start_time": "2021-12-22T19:14:53.389Z"
   },
   {
    "duration": 1069,
    "start_time": "2021-12-22T19:14:53.893Z"
   },
   {
    "duration": 1234,
    "start_time": "2021-12-22T19:14:54.964Z"
   },
   {
    "duration": 518,
    "start_time": "2021-12-22T19:14:56.200Z"
   },
   {
    "duration": 221,
    "start_time": "2021-12-22T19:14:56.720Z"
   },
   {
    "duration": 11,
    "start_time": "2021-12-22T19:14:56.943Z"
   },
   {
    "duration": 517,
    "start_time": "2021-12-22T19:14:56.956Z"
   },
   {
    "duration": -1113,
    "start_time": "2021-12-22T19:14:58.588Z"
   },
   {
    "duration": -1115,
    "start_time": "2021-12-22T19:14:58.592Z"
   },
   {
    "duration": -1129,
    "start_time": "2021-12-22T19:14:58.607Z"
   },
   {
    "duration": -1130,
    "start_time": "2021-12-22T19:14:58.610Z"
   },
   {
    "duration": -1139,
    "start_time": "2021-12-22T19:14:58.620Z"
   },
   {
    "duration": -1140,
    "start_time": "2021-12-22T19:14:58.623Z"
   },
   {
    "duration": -1142,
    "start_time": "2021-12-22T19:14:58.627Z"
   },
   {
    "duration": 334,
    "start_time": "2021-12-22T19:15:51.614Z"
   },
   {
    "duration": 510,
    "start_time": "2021-12-22T19:16:06.476Z"
   },
   {
    "duration": 599,
    "start_time": "2021-12-22T19:16:11.432Z"
   },
   {
    "duration": 6867,
    "start_time": "2021-12-22T19:24:02.535Z"
   },
   {
    "duration": 318,
    "start_time": "2021-12-22T19:25:55.317Z"
   },
   {
    "duration": 6,
    "start_time": "2021-12-22T19:25:58.463Z"
   },
   {
    "duration": 512,
    "start_time": "2021-12-22T19:26:00.861Z"
   },
   {
    "duration": 522,
    "start_time": "2021-12-22T19:26:10.028Z"
   },
   {
    "duration": 279,
    "start_time": "2021-12-22T19:27:03.190Z"
   },
   {
    "duration": 76,
    "start_time": "2021-12-22T19:27:06.340Z"
   },
   {
    "duration": 524,
    "start_time": "2021-12-22T19:27:07.762Z"
   },
   {
    "duration": 98,
    "start_time": "2021-12-22T19:27:50.746Z"
   },
   {
    "duration": 516,
    "start_time": "2021-12-22T19:28:03.107Z"
   },
   {
    "duration": 530,
    "start_time": "2021-12-22T19:28:21.303Z"
   },
   {
    "duration": 635,
    "start_time": "2021-12-22T19:29:18.396Z"
   },
   {
    "duration": 4,
    "start_time": "2021-12-22T19:29:57.341Z"
   },
   {
    "duration": 34,
    "start_time": "2021-12-22T19:30:00.600Z"
   },
   {
    "duration": 38,
    "start_time": "2021-12-22T19:31:18.934Z"
   },
   {
    "duration": 13,
    "start_time": "2021-12-22T19:31:18.974Z"
   },
   {
    "duration": 10,
    "start_time": "2021-12-22T19:31:18.990Z"
   },
   {
    "duration": 6,
    "start_time": "2021-12-22T19:31:19.003Z"
   },
   {
    "duration": 38,
    "start_time": "2021-12-22T19:31:19.010Z"
   },
   {
    "duration": 15,
    "start_time": "2021-12-22T19:31:19.050Z"
   },
   {
    "duration": 8,
    "start_time": "2021-12-22T19:31:19.067Z"
   },
   {
    "duration": 14,
    "start_time": "2021-12-22T19:31:19.079Z"
   },
   {
    "duration": 10,
    "start_time": "2021-12-22T19:31:19.096Z"
   },
   {
    "duration": 9,
    "start_time": "2021-12-22T19:31:19.108Z"
   },
   {
    "duration": 27,
    "start_time": "2021-12-22T19:31:19.118Z"
   },
   {
    "duration": 5,
    "start_time": "2021-12-22T19:31:19.147Z"
   },
   {
    "duration": 18,
    "start_time": "2021-12-22T19:31:19.154Z"
   },
   {
    "duration": 17,
    "start_time": "2021-12-22T19:31:19.174Z"
   },
   {
    "duration": 6,
    "start_time": "2021-12-22T19:31:19.193Z"
   },
   {
    "duration": 21,
    "start_time": "2021-12-22T19:31:19.201Z"
   },
   {
    "duration": 17,
    "start_time": "2021-12-22T19:31:19.224Z"
   },
   {
    "duration": 238,
    "start_time": "2021-12-22T19:31:19.243Z"
   },
   {
    "duration": 3,
    "start_time": "2021-12-22T19:31:19.483Z"
   },
   {
    "duration": 254,
    "start_time": "2021-12-22T19:31:19.487Z"
   },
   {
    "duration": 1336,
    "start_time": "2021-12-22T19:31:19.743Z"
   },
   {
    "duration": 2,
    "start_time": "2021-12-22T19:31:21.081Z"
   },
   {
    "duration": 7,
    "start_time": "2021-12-22T19:31:21.087Z"
   },
   {
    "duration": 8,
    "start_time": "2021-12-22T19:31:21.096Z"
   },
   {
    "duration": 302,
    "start_time": "2021-12-22T19:31:21.106Z"
   },
   {
    "duration": 402,
    "start_time": "2021-12-22T19:31:21.409Z"
   },
   {
    "duration": 296,
    "start_time": "2021-12-22T19:31:21.813Z"
   },
   {
    "duration": 273,
    "start_time": "2021-12-22T19:31:22.111Z"
   },
   {
    "duration": 680,
    "start_time": "2021-12-22T19:31:22.386Z"
   },
   {
    "duration": 1653,
    "start_time": "2021-12-22T19:31:23.069Z"
   },
   {
    "duration": 1250,
    "start_time": "2021-12-22T19:31:24.724Z"
   },
   {
    "duration": 503,
    "start_time": "2021-12-22T19:31:25.976Z"
   },
   {
    "duration": 150,
    "start_time": "2021-12-22T19:31:26.480Z"
   },
   {
    "duration": 15,
    "start_time": "2021-12-22T19:31:26.631Z"
   },
   {
    "duration": 8,
    "start_time": "2021-12-22T19:31:26.648Z"
   },
   {
    "duration": 32,
    "start_time": "2021-12-22T19:31:26.658Z"
   },
   {
    "duration": 30,
    "start_time": "2021-12-22T19:31:26.691Z"
   },
   {
    "duration": 19,
    "start_time": "2021-12-22T19:31:26.723Z"
   },
   {
    "duration": 664,
    "start_time": "2021-12-22T19:31:26.743Z"
   },
   {
    "duration": 12,
    "start_time": "2021-12-22T19:31:27.409Z"
   },
   {
    "duration": 25,
    "start_time": "2021-12-22T19:31:27.423Z"
   },
   {
    "duration": 11,
    "start_time": "2021-12-22T19:31:27.450Z"
   },
   {
    "duration": 15,
    "start_time": "2021-12-22T19:31:27.463Z"
   },
   {
    "duration": 1475,
    "start_time": "2021-12-23T06:06:34.000Z"
   },
   {
    "duration": 24,
    "start_time": "2021-12-23T06:06:36.968Z"
   },
   {
    "duration": 14,
    "start_time": "2021-12-23T06:06:37.510Z"
   },
   {
    "duration": 4,
    "start_time": "2021-12-23T06:06:38.418Z"
   },
   {
    "duration": 23,
    "start_time": "2021-12-23T06:06:40.290Z"
   },
   {
    "duration": 10,
    "start_time": "2021-12-23T06:06:41.428Z"
   },
   {
    "duration": 7,
    "start_time": "2021-12-23T06:06:42.029Z"
   },
   {
    "duration": 10,
    "start_time": "2021-12-23T06:06:42.988Z"
   },
   {
    "duration": 7,
    "start_time": "2021-12-23T06:06:44.216Z"
   },
   {
    "duration": 6,
    "start_time": "2021-12-23T06:06:44.984Z"
   },
   {
    "duration": 13,
    "start_time": "2021-12-23T06:06:45.700Z"
   },
   {
    "duration": 10,
    "start_time": "2021-12-23T06:06:46.346Z"
   },
   {
    "duration": 13,
    "start_time": "2021-12-23T06:06:47.199Z"
   },
   {
    "duration": 23,
    "start_time": "2021-12-23T06:06:47.831Z"
   },
   {
    "duration": 11,
    "start_time": "2021-12-23T06:06:48.632Z"
   },
   {
    "duration": 22,
    "start_time": "2021-12-23T06:06:49.044Z"
   },
   {
    "duration": 3,
    "start_time": "2021-12-23T06:06:50.261Z"
   },
   {
    "duration": 385,
    "start_time": "2021-12-23T06:06:50.804Z"
   },
   {
    "duration": 3,
    "start_time": "2021-12-23T06:06:52.548Z"
   },
   {
    "duration": 370,
    "start_time": "2021-12-23T06:06:53.289Z"
   },
   {
    "duration": 1465,
    "start_time": "2021-12-23T06:07:30.759Z"
   },
   {
    "duration": 3,
    "start_time": "2021-12-23T06:07:35.414Z"
   },
   {
    "duration": 8,
    "start_time": "2021-12-23T06:07:36.462Z"
   },
   {
    "duration": 10,
    "start_time": "2021-12-23T06:07:37.409Z"
   },
   {
    "duration": 471,
    "start_time": "2021-12-23T06:07:38.035Z"
   },
   {
    "duration": 1873,
    "start_time": "2021-12-23T06:07:41.757Z"
   },
   {
    "duration": 486,
    "start_time": "2021-12-23T06:07:54.501Z"
   },
   {
    "duration": 463,
    "start_time": "2021-12-23T06:08:01.776Z"
   },
   {
    "duration": 906,
    "start_time": "2021-12-23T06:08:05.810Z"
   },
   {
    "duration": 1487,
    "start_time": "2021-12-23T06:08:08.557Z"
   },
   {
    "duration": 1588,
    "start_time": "2021-12-23T06:08:10.259Z"
   },
   {
    "duration": 642,
    "start_time": "2021-12-23T06:08:12.406Z"
   },
   {
    "duration": 747,
    "start_time": "2022-02-11T13:00:18.318Z"
   },
   {
    "duration": 919,
    "start_time": "2022-02-11T13:00:24.311Z"
   },
   {
    "duration": 17,
    "start_time": "2022-02-11T13:00:25.232Z"
   },
   {
    "duration": 15,
    "start_time": "2022-02-11T13:00:25.250Z"
   },
   {
    "duration": 3,
    "start_time": "2022-02-11T13:00:25.267Z"
   },
   {
    "duration": 15,
    "start_time": "2022-02-11T13:00:25.271Z"
   },
   {
    "duration": 11,
    "start_time": "2022-02-11T13:00:26.236Z"
   },
   {
    "duration": 5,
    "start_time": "2022-02-11T13:00:26.625Z"
   },
   {
    "duration": 8,
    "start_time": "2022-02-11T13:00:27.064Z"
   },
   {
    "duration": 6,
    "start_time": "2022-02-11T13:00:28.009Z"
   },
   {
    "duration": 4,
    "start_time": "2022-02-11T13:00:28.501Z"
   },
   {
    "duration": 10,
    "start_time": "2022-02-11T13:00:29.061Z"
   },
   {
    "duration": 5,
    "start_time": "2022-02-11T13:00:29.482Z"
   },
   {
    "duration": 9,
    "start_time": "2022-02-11T13:00:29.862Z"
   },
   {
    "duration": 16,
    "start_time": "2022-02-11T13:00:30.214Z"
   },
   {
    "duration": 6,
    "start_time": "2022-02-11T13:00:30.569Z"
   },
   {
    "duration": 14,
    "start_time": "2022-02-11T13:00:30.940Z"
   },
   {
    "duration": 2,
    "start_time": "2022-02-11T13:00:31.609Z"
   },
   {
    "duration": 239,
    "start_time": "2022-02-11T13:00:31.749Z"
   },
   {
    "duration": 2,
    "start_time": "2022-02-11T13:00:31.991Z"
   },
   {
    "duration": 254,
    "start_time": "2022-02-11T13:00:31.997Z"
   },
   {
    "duration": 928,
    "start_time": "2022-02-11T13:00:32.538Z"
   },
   {
    "duration": 2,
    "start_time": "2022-02-11T13:00:33.467Z"
   },
   {
    "duration": 10,
    "start_time": "2022-02-11T13:00:33.471Z"
   },
   {
    "duration": 7,
    "start_time": "2022-02-11T13:00:33.830Z"
   },
   {
    "duration": 288,
    "start_time": "2022-02-11T13:00:34.259Z"
   },
   {
    "duration": 887,
    "start_time": "2022-02-11T13:00:35.185Z"
   },
   {
    "duration": 308,
    "start_time": "2022-02-11T13:00:43.472Z"
   },
   {
    "duration": 273,
    "start_time": "2022-02-11T13:00:44.682Z"
   },
   {
    "duration": 667,
    "start_time": "2022-02-11T13:00:46.482Z"
   },
   {
    "duration": 1025,
    "start_time": "2022-02-11T13:00:48.168Z"
   },
   {
    "duration": 1018,
    "start_time": "2022-02-11T13:00:49.195Z"
   },
   {
    "duration": 426,
    "start_time": "2022-02-11T13:00:50.215Z"
   },
   {
    "duration": 160,
    "start_time": "2022-02-11T13:00:51.787Z"
   },
   {
    "duration": 10,
    "start_time": "2022-02-11T13:00:52.938Z"
   },
   {
    "duration": 4,
    "start_time": "2022-02-11T13:00:53.170Z"
   },
   {
    "duration": 315,
    "start_time": "2022-02-11T13:00:53.433Z"
   },
   {
    "duration": 36,
    "start_time": "2022-02-11T13:01:05.774Z"
   },
   {
    "duration": 5,
    "start_time": "2022-02-11T13:01:06.971Z"
   },
   {
    "duration": 636,
    "start_time": "2022-02-11T13:01:07.138Z"
   },
   {
    "duration": 14,
    "start_time": "2022-02-11T13:01:08.533Z"
   },
   {
    "duration": 12,
    "start_time": "2022-02-11T13:01:08.940Z"
   },
   {
    "duration": 10,
    "start_time": "2022-02-11T13:01:09.954Z"
   },
   {
    "duration": 14,
    "start_time": "2022-02-11T13:01:10.106Z"
   },
   {
    "duration": 8,
    "start_time": "2022-02-11T15:07:54.661Z"
   }
  ],
  "kernelspec": {
   "display_name": "Python 3 (ipykernel)",
   "language": "python",
   "name": "python3"
  },
  "language_info": {
   "codemirror_mode": {
    "name": "ipython",
    "version": 3
   },
   "file_extension": ".py",
   "mimetype": "text/x-python",
   "name": "python",
   "nbconvert_exporter": "python",
   "pygments_lexer": "ipython3",
   "version": "3.9.7"
  },
  "toc": {
   "base_numbering": 1,
   "nav_menu": {},
   "number_sections": true,
   "sideBar": true,
   "skip_h1_title": true,
   "title_cell": "Содержание",
   "title_sidebar": "Contents",
   "toc_cell": true,
   "toc_position": {},
   "toc_section_display": true,
   "toc_window_display": true
  }
 },
 "nbformat": 4,
 "nbformat_minor": 2
}
