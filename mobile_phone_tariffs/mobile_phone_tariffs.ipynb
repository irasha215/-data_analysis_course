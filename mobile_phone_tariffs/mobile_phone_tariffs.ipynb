{
 "cells": [
  {
   "cell_type": "markdown",
   "metadata": {
    "toc": true
   },
   "source": [
    "<h1>Содержание<span class=\"tocSkip\"></span></h1>\n",
    "<div class=\"toc\"><ul class=\"toc-item\"><li><span><a href=\"#Описание-тарифов\" data-toc-modified-id=\"Описание-тарифов-1\"><span class=\"toc-item-num\">1&nbsp;&nbsp;</span>Описание тарифов</a></span><ul class=\"toc-item\"><li><span><a href=\"#Тариф-«Смарт»\" data-toc-modified-id=\"Тариф-«Смарт»-1.1\"><span class=\"toc-item-num\">1.1&nbsp;&nbsp;</span>Тариф «Смарт»</a></span></li><li><span><a href=\"#Тариф-«Ультра»\" data-toc-modified-id=\"Тариф-«Ультра»-1.2\"><span class=\"toc-item-num\">1.2&nbsp;&nbsp;</span>Тариф «Ультра»</a></span></li></ul></li><li><span><a href=\"#Открытие-и-изучение-файла-с-данными\" data-toc-modified-id=\"Открытие-и-изучение-файла-с-данными-2\"><span class=\"toc-item-num\">2&nbsp;&nbsp;</span>Открытие и изучение файла с данными</a></span></li><li><span><a href=\"#Подготовка-данных\" data-toc-modified-id=\"Подготовка-данных-3\"><span class=\"toc-item-num\">3&nbsp;&nbsp;</span>Подготовка данных</a></span><ul class=\"toc-item\"><li><span><a href=\"#Calls\" data-toc-modified-id=\"Calls-3.1\"><span class=\"toc-item-num\">3.1&nbsp;&nbsp;</span>Calls</a></span></li><li><span><a href=\"#Internet\" data-toc-modified-id=\"Internet-3.2\"><span class=\"toc-item-num\">3.2&nbsp;&nbsp;</span>Internet</a></span></li></ul></li><li><span><a href=\"#Данные-для-каждого-пользователя\" data-toc-modified-id=\"Данные-для-каждого-пользователя-4\"><span class=\"toc-item-num\">4&nbsp;&nbsp;</span>Данные для каждого пользователя</a></span><ul class=\"toc-item\"><li><span><a href=\"#Количество-сделанных-звонков-и-израсходованных-минут-разговора-по-месяцам;\" data-toc-modified-id=\"Количество-сделанных-звонков-и-израсходованных-минут-разговора-по-месяцам;-4.1\"><span class=\"toc-item-num\">4.1&nbsp;&nbsp;</span>Количество сделанных звонков и израсходованных минут разговора по месяцам;</a></span></li><li><span><a href=\"#Количество-отправленных-сообщений-по-месяцам\" data-toc-modified-id=\"Количество-отправленных-сообщений-по-месяцам-4.2\"><span class=\"toc-item-num\">4.2&nbsp;&nbsp;</span>Количество отправленных сообщений по месяцам</a></span></li><li><span><a href=\"#Объем-израсходованного-интернет-трафика-по-месяцам\" data-toc-modified-id=\"Объем-израсходованного-интернет-трафика-по-месяцам-4.3\"><span class=\"toc-item-num\">4.3&nbsp;&nbsp;</span>Объем израсходованного интернет-трафика по месяцам</a></span></li><li><span><a href=\"#Помесячную-выручку-с-каждого-пользователя\" data-toc-modified-id=\"Помесячную-выручку-с-каждого-пользователя-4.4\"><span class=\"toc-item-num\">4.4&nbsp;&nbsp;</span>Помесячную выручку с каждого пользователя</a></span></li></ul></li><li><span><a href=\"#Анализ-данных\" data-toc-modified-id=\"Анализ-данных-5\"><span class=\"toc-item-num\">5&nbsp;&nbsp;</span>Анализ данных</a></span></li><li><span><a href=\"#Проверка-гипотез\" data-toc-modified-id=\"Проверка-гипотез-6\"><span class=\"toc-item-num\">6&nbsp;&nbsp;</span>Проверка гипотез</a></span><ul class=\"toc-item\"><li><span><a href=\"#Средняя-выручка-пользователей-тарифов-«Ультра»-и-«Смарт»-различаются\" data-toc-modified-id=\"Средняя-выручка-пользователей-тарифов-«Ультра»-и-«Смарт»-различаются-6.1\"><span class=\"toc-item-num\">6.1&nbsp;&nbsp;</span>Средняя выручка пользователей тарифов «Ультра» и «Смарт» различаются</a></span></li><li><span><a href=\"#Средняя-выручка-пользователей-из-Москвы-отличается-от-выручки-пользователей-из-других-регионов\" data-toc-modified-id=\"Средняя-выручка-пользователей-из-Москвы-отличается-от-выручки-пользователей-из-других-регионов-6.2\"><span class=\"toc-item-num\">6.2&nbsp;&nbsp;</span>Средняя выручка пользователей из Москвы отличается от выручки пользователей из других регионов</a></span></li></ul></li><li><span><a href=\"#Вывод\" data-toc-modified-id=\"Вывод-7\"><span class=\"toc-item-num\">7&nbsp;&nbsp;</span>Вывод</a></span></li></ul></div>"
   ]
  },
  {
   "cell_type": "markdown",
   "metadata": {},
   "source": [
    "# Определение перспективного тарифа для телеком-компании"
   ]
  },
  {
   "cell_type": "markdown",
   "metadata": {},
   "source": [
    "## Описание тарифов"
   ]
  },
  {
   "cell_type": "markdown",
   "metadata": {},
   "source": [
    "### Тариф «Смарт»"
   ]
  },
  {
   "cell_type": "markdown",
   "metadata": {},
   "source": [
    "* Ежемесячная плата: 550 рублей\n",
    "* Включено 500 минут разговора, 50 сообщений и 15 Гб интернет-трафика\n",
    "* Стоимость услуг сверх тарифного пакета:\n",
    " 1. минута разговора: 3 рубля («Мегалайн» всегда округляет вверх значения минут и мегабайтов. Если пользователь проговорил всего 1 секунду, в тарифе засчитывается целая минута); \n",
    " 2. сообщение: 3 рубля; \n",
    " 3. 1 Гб интернет-трафика: 200 рублей."
   ]
  },
  {
   "cell_type": "markdown",
   "metadata": {},
   "source": [
    "### Тариф «Ультра»"
   ]
  },
  {
   "cell_type": "markdown",
   "metadata": {},
   "source": [
    "* Ежемесячная плата: 1950 рублей\n",
    "* Включено 3000 минут разговора, 1000 сообщений и 30 Гб интернет-трафика\n",
    "* Стоимость услуг сверх тарифного пакета: \n",
    " 1. минута разговора: 1 рубль; \n",
    " 2. сообщение: 1 рубль; \n",
    " 3. 1 Гб интернет-трафика: 150 рублей.\n"
   ]
  },
  {
   "cell_type": "markdown",
   "metadata": {},
   "source": [
    "## Открытие и изучение файла с данными"
   ]
  },
  {
   "cell_type": "code",
   "execution_count": 245,
   "metadata": {},
   "outputs": [],
   "source": [
    "import pandas as pd\n",
    "import numpy as np\n",
    "import seaborn as sns\n",
    "from matplotlib import pyplot as plt"
   ]
  },
  {
   "cell_type": "code",
   "execution_count": 246,
   "metadata": {},
   "outputs": [],
   "source": [
    "try:\n",
    "    calls = pd.read_csv('/datasets/calls.csv')\n",
    "    internet = pd.read_csv('/datasets/internet.csv')\n",
    "    messages = pd.read_csv('/datasets/messages.csv')\n",
    "    tariffs = pd.read_csv('/datasets/tariffs.csv')\n",
    "    users = pd.read_csv('/datasets/users.csv')\n",
    "except:\n",
    "    calls = pd.read_csv('/Users/irinasaahmetova/Downloads/calls.csv')\n",
    "    internet = pd.read_csv('/Users/irinasaahmetova/Downloads/internet.csv')\n",
    "    messages = pd.read_csv('/Users/irinasaahmetova/Downloads/messages.csv')\n",
    "    tariffs = pd.read_csv('/Users/irinasaahmetova/Downloads/tariffs.csv')\n",
    "    users = pd.read_csv('/Users/irinasaahmetova/Downloads/users.csv')    "
   ]
  },
  {
   "cell_type": "code",
   "execution_count": 247,
   "metadata": {},
   "outputs": [
    {
     "data": {
      "text/html": [
       "<div>\n",
       "<style scoped>\n",
       "    .dataframe tbody tr th:only-of-type {\n",
       "        vertical-align: middle;\n",
       "    }\n",
       "\n",
       "    .dataframe tbody tr th {\n",
       "        vertical-align: top;\n",
       "    }\n",
       "\n",
       "    .dataframe thead th {\n",
       "        text-align: right;\n",
       "    }\n",
       "</style>\n",
       "<table border=\"1\" class=\"dataframe\">\n",
       "  <thead>\n",
       "    <tr style=\"text-align: right;\">\n",
       "      <th></th>\n",
       "      <th>id</th>\n",
       "      <th>call_date</th>\n",
       "      <th>duration</th>\n",
       "      <th>user_id</th>\n",
       "    </tr>\n",
       "  </thead>\n",
       "  <tbody>\n",
       "    <tr>\n",
       "      <th>0</th>\n",
       "      <td>1000_0</td>\n",
       "      <td>2018-07-25</td>\n",
       "      <td>0.00</td>\n",
       "      <td>1000</td>\n",
       "    </tr>\n",
       "    <tr>\n",
       "      <th>1</th>\n",
       "      <td>1000_1</td>\n",
       "      <td>2018-08-17</td>\n",
       "      <td>0.00</td>\n",
       "      <td>1000</td>\n",
       "    </tr>\n",
       "    <tr>\n",
       "      <th>2</th>\n",
       "      <td>1000_2</td>\n",
       "      <td>2018-06-11</td>\n",
       "      <td>2.85</td>\n",
       "      <td>1000</td>\n",
       "    </tr>\n",
       "    <tr>\n",
       "      <th>3</th>\n",
       "      <td>1000_3</td>\n",
       "      <td>2018-09-21</td>\n",
       "      <td>13.80</td>\n",
       "      <td>1000</td>\n",
       "    </tr>\n",
       "    <tr>\n",
       "      <th>4</th>\n",
       "      <td>1000_4</td>\n",
       "      <td>2018-12-15</td>\n",
       "      <td>5.18</td>\n",
       "      <td>1000</td>\n",
       "    </tr>\n",
       "  </tbody>\n",
       "</table>\n",
       "</div>"
      ],
      "text/plain": [
       "       id   call_date  duration  user_id\n",
       "0  1000_0  2018-07-25      0.00     1000\n",
       "1  1000_1  2018-08-17      0.00     1000\n",
       "2  1000_2  2018-06-11      2.85     1000\n",
       "3  1000_3  2018-09-21     13.80     1000\n",
       "4  1000_4  2018-12-15      5.18     1000"
      ]
     },
     "metadata": {},
     "output_type": "display_data"
    },
    {
     "data": {
      "text/html": [
       "<div>\n",
       "<style scoped>\n",
       "    .dataframe tbody tr th:only-of-type {\n",
       "        vertical-align: middle;\n",
       "    }\n",
       "\n",
       "    .dataframe tbody tr th {\n",
       "        vertical-align: top;\n",
       "    }\n",
       "\n",
       "    .dataframe thead th {\n",
       "        text-align: right;\n",
       "    }\n",
       "</style>\n",
       "<table border=\"1\" class=\"dataframe\">\n",
       "  <thead>\n",
       "    <tr style=\"text-align: right;\">\n",
       "      <th></th>\n",
       "      <th>Unnamed: 0</th>\n",
       "      <th>id</th>\n",
       "      <th>mb_used</th>\n",
       "      <th>session_date</th>\n",
       "      <th>user_id</th>\n",
       "    </tr>\n",
       "  </thead>\n",
       "  <tbody>\n",
       "    <tr>\n",
       "      <th>0</th>\n",
       "      <td>0</td>\n",
       "      <td>1000_0</td>\n",
       "      <td>112.95</td>\n",
       "      <td>2018-11-25</td>\n",
       "      <td>1000</td>\n",
       "    </tr>\n",
       "    <tr>\n",
       "      <th>1</th>\n",
       "      <td>1</td>\n",
       "      <td>1000_1</td>\n",
       "      <td>1052.81</td>\n",
       "      <td>2018-09-07</td>\n",
       "      <td>1000</td>\n",
       "    </tr>\n",
       "    <tr>\n",
       "      <th>2</th>\n",
       "      <td>2</td>\n",
       "      <td>1000_2</td>\n",
       "      <td>1197.26</td>\n",
       "      <td>2018-06-25</td>\n",
       "      <td>1000</td>\n",
       "    </tr>\n",
       "    <tr>\n",
       "      <th>3</th>\n",
       "      <td>3</td>\n",
       "      <td>1000_3</td>\n",
       "      <td>550.27</td>\n",
       "      <td>2018-08-22</td>\n",
       "      <td>1000</td>\n",
       "    </tr>\n",
       "    <tr>\n",
       "      <th>4</th>\n",
       "      <td>4</td>\n",
       "      <td>1000_4</td>\n",
       "      <td>302.56</td>\n",
       "      <td>2018-09-24</td>\n",
       "      <td>1000</td>\n",
       "    </tr>\n",
       "  </tbody>\n",
       "</table>\n",
       "</div>"
      ],
      "text/plain": [
       "   Unnamed: 0      id  mb_used session_date  user_id\n",
       "0           0  1000_0   112.95   2018-11-25     1000\n",
       "1           1  1000_1  1052.81   2018-09-07     1000\n",
       "2           2  1000_2  1197.26   2018-06-25     1000\n",
       "3           3  1000_3   550.27   2018-08-22     1000\n",
       "4           4  1000_4   302.56   2018-09-24     1000"
      ]
     },
     "metadata": {},
     "output_type": "display_data"
    },
    {
     "data": {
      "text/html": [
       "<div>\n",
       "<style scoped>\n",
       "    .dataframe tbody tr th:only-of-type {\n",
       "        vertical-align: middle;\n",
       "    }\n",
       "\n",
       "    .dataframe tbody tr th {\n",
       "        vertical-align: top;\n",
       "    }\n",
       "\n",
       "    .dataframe thead th {\n",
       "        text-align: right;\n",
       "    }\n",
       "</style>\n",
       "<table border=\"1\" class=\"dataframe\">\n",
       "  <thead>\n",
       "    <tr style=\"text-align: right;\">\n",
       "      <th></th>\n",
       "      <th>id</th>\n",
       "      <th>message_date</th>\n",
       "      <th>user_id</th>\n",
       "    </tr>\n",
       "  </thead>\n",
       "  <tbody>\n",
       "    <tr>\n",
       "      <th>0</th>\n",
       "      <td>1000_0</td>\n",
       "      <td>2018-06-27</td>\n",
       "      <td>1000</td>\n",
       "    </tr>\n",
       "    <tr>\n",
       "      <th>1</th>\n",
       "      <td>1000_1</td>\n",
       "      <td>2018-10-08</td>\n",
       "      <td>1000</td>\n",
       "    </tr>\n",
       "    <tr>\n",
       "      <th>2</th>\n",
       "      <td>1000_2</td>\n",
       "      <td>2018-08-04</td>\n",
       "      <td>1000</td>\n",
       "    </tr>\n",
       "    <tr>\n",
       "      <th>3</th>\n",
       "      <td>1000_3</td>\n",
       "      <td>2018-06-16</td>\n",
       "      <td>1000</td>\n",
       "    </tr>\n",
       "    <tr>\n",
       "      <th>4</th>\n",
       "      <td>1000_4</td>\n",
       "      <td>2018-12-05</td>\n",
       "      <td>1000</td>\n",
       "    </tr>\n",
       "  </tbody>\n",
       "</table>\n",
       "</div>"
      ],
      "text/plain": [
       "       id message_date  user_id\n",
       "0  1000_0   2018-06-27     1000\n",
       "1  1000_1   2018-10-08     1000\n",
       "2  1000_2   2018-08-04     1000\n",
       "3  1000_3   2018-06-16     1000\n",
       "4  1000_4   2018-12-05     1000"
      ]
     },
     "metadata": {},
     "output_type": "display_data"
    },
    {
     "data": {
      "text/html": [
       "<div>\n",
       "<style scoped>\n",
       "    .dataframe tbody tr th:only-of-type {\n",
       "        vertical-align: middle;\n",
       "    }\n",
       "\n",
       "    .dataframe tbody tr th {\n",
       "        vertical-align: top;\n",
       "    }\n",
       "\n",
       "    .dataframe thead th {\n",
       "        text-align: right;\n",
       "    }\n",
       "</style>\n",
       "<table border=\"1\" class=\"dataframe\">\n",
       "  <thead>\n",
       "    <tr style=\"text-align: right;\">\n",
       "      <th></th>\n",
       "      <th>user_id</th>\n",
       "      <th>age</th>\n",
       "      <th>churn_date</th>\n",
       "      <th>city</th>\n",
       "      <th>first_name</th>\n",
       "      <th>last_name</th>\n",
       "      <th>reg_date</th>\n",
       "      <th>tariff</th>\n",
       "    </tr>\n",
       "  </thead>\n",
       "  <tbody>\n",
       "    <tr>\n",
       "      <th>0</th>\n",
       "      <td>1000</td>\n",
       "      <td>52</td>\n",
       "      <td>NaN</td>\n",
       "      <td>Краснодар</td>\n",
       "      <td>Рафаил</td>\n",
       "      <td>Верещагин</td>\n",
       "      <td>2018-05-25</td>\n",
       "      <td>ultra</td>\n",
       "    </tr>\n",
       "    <tr>\n",
       "      <th>1</th>\n",
       "      <td>1001</td>\n",
       "      <td>41</td>\n",
       "      <td>NaN</td>\n",
       "      <td>Москва</td>\n",
       "      <td>Иван</td>\n",
       "      <td>Ежов</td>\n",
       "      <td>2018-11-01</td>\n",
       "      <td>smart</td>\n",
       "    </tr>\n",
       "    <tr>\n",
       "      <th>2</th>\n",
       "      <td>1002</td>\n",
       "      <td>59</td>\n",
       "      <td>NaN</td>\n",
       "      <td>Стерлитамак</td>\n",
       "      <td>Евгений</td>\n",
       "      <td>Абрамович</td>\n",
       "      <td>2018-06-17</td>\n",
       "      <td>smart</td>\n",
       "    </tr>\n",
       "    <tr>\n",
       "      <th>3</th>\n",
       "      <td>1003</td>\n",
       "      <td>23</td>\n",
       "      <td>NaN</td>\n",
       "      <td>Москва</td>\n",
       "      <td>Белла</td>\n",
       "      <td>Белякова</td>\n",
       "      <td>2018-08-17</td>\n",
       "      <td>ultra</td>\n",
       "    </tr>\n",
       "    <tr>\n",
       "      <th>4</th>\n",
       "      <td>1004</td>\n",
       "      <td>68</td>\n",
       "      <td>NaN</td>\n",
       "      <td>Новокузнецк</td>\n",
       "      <td>Татьяна</td>\n",
       "      <td>Авдеенко</td>\n",
       "      <td>2018-05-14</td>\n",
       "      <td>ultra</td>\n",
       "    </tr>\n",
       "  </tbody>\n",
       "</table>\n",
       "</div>"
      ],
      "text/plain": [
       "   user_id  age churn_date         city first_name  last_name    reg_date  \\\n",
       "0     1000   52        NaN    Краснодар     Рафаил  Верещагин  2018-05-25   \n",
       "1     1001   41        NaN       Москва       Иван       Ежов  2018-11-01   \n",
       "2     1002   59        NaN  Стерлитамак    Евгений  Абрамович  2018-06-17   \n",
       "3     1003   23        NaN       Москва      Белла   Белякова  2018-08-17   \n",
       "4     1004   68        NaN  Новокузнецк    Татьяна   Авдеенко  2018-05-14   \n",
       "\n",
       "  tariff  \n",
       "0  ultra  \n",
       "1  smart  \n",
       "2  smart  \n",
       "3  ultra  \n",
       "4  ultra  "
      ]
     },
     "metadata": {},
     "output_type": "display_data"
    }
   ],
   "source": [
    "line = [calls, internet, messages, users]\n",
    "for el in line:\n",
    "    display(el.head())"
   ]
  },
  {
   "cell_type": "markdown",
   "metadata": {},
   "source": [
    "## Подготовка данных"
   ]
  },
  {
   "cell_type": "code",
   "execution_count": 248,
   "metadata": {},
   "outputs": [
    {
     "name": "stdout",
     "output_type": "stream",
     "text": [
      "<class 'pandas.core.frame.DataFrame'>\n",
      "RangeIndex: 202607 entries, 0 to 202606\n",
      "Data columns (total 4 columns):\n",
      " #   Column     Non-Null Count   Dtype  \n",
      "---  ------     --------------   -----  \n",
      " 0   id         202607 non-null  object \n",
      " 1   call_date  202607 non-null  object \n",
      " 2   duration   202607 non-null  float64\n",
      " 3   user_id    202607 non-null  int64  \n",
      "dtypes: float64(1), int64(1), object(2)\n",
      "memory usage: 6.2+ MB\n",
      "\n",
      "\n",
      "<class 'pandas.core.frame.DataFrame'>\n",
      "RangeIndex: 149396 entries, 0 to 149395\n",
      "Data columns (total 5 columns):\n",
      " #   Column        Non-Null Count   Dtype  \n",
      "---  ------        --------------   -----  \n",
      " 0   Unnamed: 0    149396 non-null  int64  \n",
      " 1   id            149396 non-null  object \n",
      " 2   mb_used       149396 non-null  float64\n",
      " 3   session_date  149396 non-null  object \n",
      " 4   user_id       149396 non-null  int64  \n",
      "dtypes: float64(1), int64(2), object(2)\n",
      "memory usage: 5.7+ MB\n",
      "\n",
      "\n",
      "<class 'pandas.core.frame.DataFrame'>\n",
      "RangeIndex: 123036 entries, 0 to 123035\n",
      "Data columns (total 3 columns):\n",
      " #   Column        Non-Null Count   Dtype \n",
      "---  ------        --------------   ----- \n",
      " 0   id            123036 non-null  object\n",
      " 1   message_date  123036 non-null  object\n",
      " 2   user_id       123036 non-null  int64 \n",
      "dtypes: int64(1), object(2)\n",
      "memory usage: 2.8+ MB\n",
      "\n",
      "\n",
      "<class 'pandas.core.frame.DataFrame'>\n",
      "RangeIndex: 500 entries, 0 to 499\n",
      "Data columns (total 8 columns):\n",
      " #   Column      Non-Null Count  Dtype \n",
      "---  ------      --------------  ----- \n",
      " 0   user_id     500 non-null    int64 \n",
      " 1   age         500 non-null    int64 \n",
      " 2   churn_date  38 non-null     object\n",
      " 3   city        500 non-null    object\n",
      " 4   first_name  500 non-null    object\n",
      " 5   last_name   500 non-null    object\n",
      " 6   reg_date    500 non-null    object\n",
      " 7   tariff      500 non-null    object\n",
      "dtypes: int64(2), object(6)\n",
      "memory usage: 31.4+ KB\n",
      "\n",
      "\n"
     ]
    }
   ],
   "source": [
    "for el in line:\n",
    "    el.info()\n",
    "    print()\n",
    "    print()"
   ]
  },
  {
   "cell_type": "markdown",
   "metadata": {},
   "source": [
    "Изменим формат столбцов с датами на datetime и добавим в каждой таблице столбец с месяцом:"
   ]
  },
  {
   "cell_type": "code",
   "execution_count": 249,
   "metadata": {},
   "outputs": [],
   "source": [
    "line_dates = ['call_date', 'session_date', 'message_date', 'reg_date']\n",
    "\n",
    "        \n",
    "for i in range(len(line)):\n",
    "    # Переdедем формат тип данных в datetime\n",
    "    line[i][line_dates[i]] = pd.to_datetime(line[i][line_dates[i]], format='%Y-%m-%d')\n",
    "    \n",
    "    # Добавим столбец с месяцем\n",
    "    line[i]['month'] = line[i][line_dates[i]].dt.month\n"
   ]
  },
  {
   "cell_type": "markdown",
   "metadata": {},
   "source": [
    "Проверим на наличие дубликатов:"
   ]
  },
  {
   "cell_type": "code",
   "execution_count": 250,
   "metadata": {},
   "outputs": [
    {
     "name": "stdout",
     "output_type": "stream",
     "text": [
      "Дубликаты:\n",
      "\n",
      "Calls: 0\n",
      "Internet: 0\n",
      "Messages: 0\n",
      "Users: 0\n"
     ]
    }
   ],
   "source": [
    "print('Дубликаты:')\n",
    "print()\n",
    "print('Calls:', calls.duplicated().sum())\n",
    "print('Internet:', internet.duplicated().sum())\n",
    "print('Messages:', messages.duplicated().sum())\n",
    "print('Users:', users.duplicated().sum())\n"
   ]
  },
  {
   "cell_type": "markdown",
   "metadata": {},
   "source": [
    "### Calls"
   ]
  },
  {
   "cell_type": "markdown",
   "metadata": {},
   "source": [
    "Округлим в таблице calls секунды:"
   ]
  },
  {
   "cell_type": "code",
   "execution_count": 251,
   "metadata": {},
   "outputs": [
    {
     "data": {
      "text/plain": [
       "0          0\n",
       "1          0\n",
       "2          3\n",
       "3         14\n",
       "4          6\n",
       "          ..\n",
       "202602     1\n",
       "202603    19\n",
       "202604    11\n",
       "202605     5\n",
       "202606    20\n",
       "Name: duration, Length: 202607, dtype: int64"
      ]
     },
     "execution_count": 251,
     "metadata": {},
     "output_type": "execute_result"
    }
   ],
   "source": [
    "calls['duration'] = calls['duration'].apply(np.ceil)\n",
    "calls['duration'].astype(int)"
   ]
  },
  {
   "cell_type": "code",
   "execution_count": 252,
   "metadata": {},
   "outputs": [
    {
     "data": {
      "text/html": [
       "<div>\n",
       "<style scoped>\n",
       "    .dataframe tbody tr th:only-of-type {\n",
       "        vertical-align: middle;\n",
       "    }\n",
       "\n",
       "    .dataframe tbody tr th {\n",
       "        vertical-align: top;\n",
       "    }\n",
       "\n",
       "    .dataframe thead th {\n",
       "        text-align: right;\n",
       "    }\n",
       "</style>\n",
       "<table border=\"1\" class=\"dataframe\">\n",
       "  <thead>\n",
       "    <tr style=\"text-align: right;\">\n",
       "      <th></th>\n",
       "      <th>id</th>\n",
       "      <th>call_date</th>\n",
       "      <th>duration</th>\n",
       "      <th>user_id</th>\n",
       "      <th>month</th>\n",
       "    </tr>\n",
       "  </thead>\n",
       "  <tbody>\n",
       "    <tr>\n",
       "      <th>0</th>\n",
       "      <td>1000_0</td>\n",
       "      <td>2018-07-25</td>\n",
       "      <td>0.0</td>\n",
       "      <td>1000</td>\n",
       "      <td>7</td>\n",
       "    </tr>\n",
       "    <tr>\n",
       "      <th>1</th>\n",
       "      <td>1000_1</td>\n",
       "      <td>2018-08-17</td>\n",
       "      <td>0.0</td>\n",
       "      <td>1000</td>\n",
       "      <td>8</td>\n",
       "    </tr>\n",
       "    <tr>\n",
       "      <th>2</th>\n",
       "      <td>1000_2</td>\n",
       "      <td>2018-06-11</td>\n",
       "      <td>3.0</td>\n",
       "      <td>1000</td>\n",
       "      <td>6</td>\n",
       "    </tr>\n",
       "    <tr>\n",
       "      <th>3</th>\n",
       "      <td>1000_3</td>\n",
       "      <td>2018-09-21</td>\n",
       "      <td>14.0</td>\n",
       "      <td>1000</td>\n",
       "      <td>9</td>\n",
       "    </tr>\n",
       "    <tr>\n",
       "      <th>4</th>\n",
       "      <td>1000_4</td>\n",
       "      <td>2018-12-15</td>\n",
       "      <td>6.0</td>\n",
       "      <td>1000</td>\n",
       "      <td>12</td>\n",
       "    </tr>\n",
       "  </tbody>\n",
       "</table>\n",
       "</div>"
      ],
      "text/plain": [
       "       id  call_date  duration  user_id  month\n",
       "0  1000_0 2018-07-25       0.0     1000      7\n",
       "1  1000_1 2018-08-17       0.0     1000      8\n",
       "2  1000_2 2018-06-11       3.0     1000      6\n",
       "3  1000_3 2018-09-21      14.0     1000      9\n",
       "4  1000_4 2018-12-15       6.0     1000     12"
      ]
     },
     "execution_count": 252,
     "metadata": {},
     "output_type": "execute_result"
    }
   ],
   "source": [
    "calls.head()"
   ]
  },
  {
   "cell_type": "markdown",
   "metadata": {},
   "source": [
    "### Internet"
   ]
  },
  {
   "cell_type": "code",
   "execution_count": 253,
   "metadata": {},
   "outputs": [
    {
     "data": {
      "text/plain": [
       "0              0\n",
       "1              1\n",
       "2              2\n",
       "3              3\n",
       "4              4\n",
       "           ...  \n",
       "149391    149391\n",
       "149392    149392\n",
       "149393    149393\n",
       "149394    149394\n",
       "149395    149395\n",
       "Name: Unnamed: 0, Length: 149396, dtype: int64"
      ]
     },
     "execution_count": 253,
     "metadata": {},
     "output_type": "execute_result"
    }
   ],
   "source": [
    "internet['Unnamed: 0']"
   ]
  },
  {
   "cell_type": "markdown",
   "metadata": {},
   "source": [
    "Удалим стобец 'Unnamed: 0', он кажется столбцом с дублем индексов"
   ]
  },
  {
   "cell_type": "code",
   "execution_count": 254,
   "metadata": {},
   "outputs": [],
   "source": [
    "internet = internet.drop(['Unnamed: 0'], axis=1)"
   ]
  },
  {
   "cell_type": "markdown",
   "metadata": {},
   "source": [
    "Округлим объем потраченного за сессию трафика:"
   ]
  },
  {
   "cell_type": "code",
   "execution_count": 255,
   "metadata": {},
   "outputs": [
    {
     "data": {
      "text/plain": [
       "0          113\n",
       "1         1053\n",
       "2         1198\n",
       "3          551\n",
       "4          303\n",
       "          ... \n",
       "149391     319\n",
       "149392     491\n",
       "149393       0\n",
       "149394    1247\n",
       "149395     545\n",
       "Name: mb_used, Length: 149396, dtype: int64"
      ]
     },
     "execution_count": 255,
     "metadata": {},
     "output_type": "execute_result"
    }
   ],
   "source": [
    "internet['mb_used'] = internet['mb_used'].apply(np.ceil)\n",
    "internet['mb_used'].astype(int)"
   ]
  },
  {
   "cell_type": "markdown",
   "metadata": {},
   "source": [
    "## Данные для каждого пользователя"
   ]
  },
  {
   "cell_type": "markdown",
   "metadata": {},
   "source": [
    "### Количество сделанных звонков и израсходованных минут разговора по месяцам;"
   ]
  },
  {
   "cell_type": "code",
   "execution_count": 256,
   "metadata": {},
   "outputs": [],
   "source": [
    "# Сделаем отдельную таблицу сгруппированную по 'user_id' и 'month'\n",
    "users_data = calls.groupby(['user_id', 'month']).agg({'duration': 'sum'}).reset_index()\n",
    "\n",
    "# Посчитаем количество звонков по пользователю\n",
    "count_calls_by_user = calls.groupby(['user_id', 'month']).agg({'duration': 'count'}).reset_index()\n",
    "\n",
    "# Переименуем столбцы\n",
    "count_calls_by_user.columns = ['user_id', 'month', 'number_of_calls']"
   ]
  },
  {
   "cell_type": "code",
   "execution_count": 257,
   "metadata": {},
   "outputs": [
    {
     "data": {
      "text/html": [
       "<div>\n",
       "<style scoped>\n",
       "    .dataframe tbody tr th:only-of-type {\n",
       "        vertical-align: middle;\n",
       "    }\n",
       "\n",
       "    .dataframe tbody tr th {\n",
       "        vertical-align: top;\n",
       "    }\n",
       "\n",
       "    .dataframe thead th {\n",
       "        text-align: right;\n",
       "    }\n",
       "</style>\n",
       "<table border=\"1\" class=\"dataframe\">\n",
       "  <thead>\n",
       "    <tr style=\"text-align: right;\">\n",
       "      <th></th>\n",
       "      <th>user_id</th>\n",
       "      <th>month</th>\n",
       "      <th>number_of_calls</th>\n",
       "    </tr>\n",
       "  </thead>\n",
       "  <tbody>\n",
       "    <tr>\n",
       "      <th>0</th>\n",
       "      <td>1000</td>\n",
       "      <td>5</td>\n",
       "      <td>22</td>\n",
       "    </tr>\n",
       "    <tr>\n",
       "      <th>1</th>\n",
       "      <td>1000</td>\n",
       "      <td>6</td>\n",
       "      <td>43</td>\n",
       "    </tr>\n",
       "    <tr>\n",
       "      <th>2</th>\n",
       "      <td>1000</td>\n",
       "      <td>7</td>\n",
       "      <td>47</td>\n",
       "    </tr>\n",
       "    <tr>\n",
       "      <th>3</th>\n",
       "      <td>1000</td>\n",
       "      <td>8</td>\n",
       "      <td>52</td>\n",
       "    </tr>\n",
       "    <tr>\n",
       "      <th>4</th>\n",
       "      <td>1000</td>\n",
       "      <td>9</td>\n",
       "      <td>58</td>\n",
       "    </tr>\n",
       "  </tbody>\n",
       "</table>\n",
       "</div>"
      ],
      "text/plain": [
       "   user_id  month  number_of_calls\n",
       "0     1000      5               22\n",
       "1     1000      6               43\n",
       "2     1000      7               47\n",
       "3     1000      8               52\n",
       "4     1000      9               58"
      ]
     },
     "execution_count": 257,
     "metadata": {},
     "output_type": "execute_result"
    }
   ],
   "source": [
    "count_calls_by_user.head()"
   ]
  },
  {
   "cell_type": "code",
   "execution_count": 258,
   "metadata": {},
   "outputs": [
    {
     "data": {
      "text/html": [
       "<div>\n",
       "<style scoped>\n",
       "    .dataframe tbody tr th:only-of-type {\n",
       "        vertical-align: middle;\n",
       "    }\n",
       "\n",
       "    .dataframe tbody tr th {\n",
       "        vertical-align: top;\n",
       "    }\n",
       "\n",
       "    .dataframe thead th {\n",
       "        text-align: right;\n",
       "    }\n",
       "</style>\n",
       "<table border=\"1\" class=\"dataframe\">\n",
       "  <thead>\n",
       "    <tr style=\"text-align: right;\">\n",
       "      <th></th>\n",
       "      <th>user_id</th>\n",
       "      <th>month</th>\n",
       "      <th>duration</th>\n",
       "    </tr>\n",
       "  </thead>\n",
       "  <tbody>\n",
       "    <tr>\n",
       "      <th>0</th>\n",
       "      <td>1000</td>\n",
       "      <td>5</td>\n",
       "      <td>159.0</td>\n",
       "    </tr>\n",
       "    <tr>\n",
       "      <th>1</th>\n",
       "      <td>1000</td>\n",
       "      <td>6</td>\n",
       "      <td>172.0</td>\n",
       "    </tr>\n",
       "    <tr>\n",
       "      <th>2</th>\n",
       "      <td>1000</td>\n",
       "      <td>7</td>\n",
       "      <td>340.0</td>\n",
       "    </tr>\n",
       "    <tr>\n",
       "      <th>3</th>\n",
       "      <td>1000</td>\n",
       "      <td>8</td>\n",
       "      <td>408.0</td>\n",
       "    </tr>\n",
       "    <tr>\n",
       "      <th>4</th>\n",
       "      <td>1000</td>\n",
       "      <td>9</td>\n",
       "      <td>466.0</td>\n",
       "    </tr>\n",
       "  </tbody>\n",
       "</table>\n",
       "</div>"
      ],
      "text/plain": [
       "   user_id  month  duration\n",
       "0     1000      5     159.0\n",
       "1     1000      6     172.0\n",
       "2     1000      7     340.0\n",
       "3     1000      8     408.0\n",
       "4     1000      9     466.0"
      ]
     },
     "execution_count": 258,
     "metadata": {},
     "output_type": "execute_result"
    }
   ],
   "source": [
    "users_data.head()"
   ]
  },
  {
   "cell_type": "markdown",
   "metadata": {},
   "source": [
    "### Количество отправленных сообщений по месяцам"
   ]
  },
  {
   "cell_type": "code",
   "execution_count": 259,
   "metadata": {},
   "outputs": [],
   "source": [
    "# Сгруппруем данные по id и месяцу, посчитаем количество сообщений\n",
    "messages_by_user = messages.groupby(['user_id', 'month']).agg({'message_date': 'count'}).reset_index()\n",
    "\n",
    "messages_by_user.columns = ['user_id', 'month', 'messages_total']"
   ]
  },
  {
   "cell_type": "code",
   "execution_count": 260,
   "metadata": {},
   "outputs": [
    {
     "data": {
      "text/html": [
       "<div>\n",
       "<style scoped>\n",
       "    .dataframe tbody tr th:only-of-type {\n",
       "        vertical-align: middle;\n",
       "    }\n",
       "\n",
       "    .dataframe tbody tr th {\n",
       "        vertical-align: top;\n",
       "    }\n",
       "\n",
       "    .dataframe thead th {\n",
       "        text-align: right;\n",
       "    }\n",
       "</style>\n",
       "<table border=\"1\" class=\"dataframe\">\n",
       "  <thead>\n",
       "    <tr style=\"text-align: right;\">\n",
       "      <th></th>\n",
       "      <th>user_id</th>\n",
       "      <th>month</th>\n",
       "      <th>messages_total</th>\n",
       "    </tr>\n",
       "  </thead>\n",
       "  <tbody>\n",
       "    <tr>\n",
       "      <th>0</th>\n",
       "      <td>1000</td>\n",
       "      <td>5</td>\n",
       "      <td>22</td>\n",
       "    </tr>\n",
       "    <tr>\n",
       "      <th>1</th>\n",
       "      <td>1000</td>\n",
       "      <td>6</td>\n",
       "      <td>60</td>\n",
       "    </tr>\n",
       "    <tr>\n",
       "      <th>2</th>\n",
       "      <td>1000</td>\n",
       "      <td>7</td>\n",
       "      <td>75</td>\n",
       "    </tr>\n",
       "    <tr>\n",
       "      <th>3</th>\n",
       "      <td>1000</td>\n",
       "      <td>8</td>\n",
       "      <td>81</td>\n",
       "    </tr>\n",
       "    <tr>\n",
       "      <th>4</th>\n",
       "      <td>1000</td>\n",
       "      <td>9</td>\n",
       "      <td>57</td>\n",
       "    </tr>\n",
       "  </tbody>\n",
       "</table>\n",
       "</div>"
      ],
      "text/plain": [
       "   user_id  month  messages_total\n",
       "0     1000      5              22\n",
       "1     1000      6              60\n",
       "2     1000      7              75\n",
       "3     1000      8              81\n",
       "4     1000      9              57"
      ]
     },
     "execution_count": 260,
     "metadata": {},
     "output_type": "execute_result"
    }
   ],
   "source": [
    "messages_by_user.head()"
   ]
  },
  {
   "cell_type": "markdown",
   "metadata": {},
   "source": [
    "### Объем израсходованного интернет-трафика по месяцам"
   ]
  },
  {
   "cell_type": "code",
   "execution_count": 261,
   "metadata": {},
   "outputs": [],
   "source": [
    "# Группировка по id и месяцу, сумма исрасходованных мб\n",
    "internet_by_user = internet.groupby(['user_id', 'month']).agg({'mb_used': 'sum'}).reset_index()\n",
    "\n",
    "# Перевод mb в gb\n",
    "internet_by_user['gb_total'] = internet_by_user['mb_used'] / 1024\n",
    "\n",
    "# Округляем значение до целого в большую сторону\n",
    "internet_by_user['gb_total'] = internet_by_user['gb_total'].apply(np.ceil)\n"
   ]
  },
  {
   "cell_type": "code",
   "execution_count": 262,
   "metadata": {},
   "outputs": [
    {
     "data": {
      "text/html": [
       "<div>\n",
       "<style scoped>\n",
       "    .dataframe tbody tr th:only-of-type {\n",
       "        vertical-align: middle;\n",
       "    }\n",
       "\n",
       "    .dataframe tbody tr th {\n",
       "        vertical-align: top;\n",
       "    }\n",
       "\n",
       "    .dataframe thead th {\n",
       "        text-align: right;\n",
       "    }\n",
       "</style>\n",
       "<table border=\"1\" class=\"dataframe\">\n",
       "  <thead>\n",
       "    <tr style=\"text-align: right;\">\n",
       "      <th></th>\n",
       "      <th>user_id</th>\n",
       "      <th>month</th>\n",
       "      <th>mb_used</th>\n",
       "      <th>gb_total</th>\n",
       "    </tr>\n",
       "  </thead>\n",
       "  <tbody>\n",
       "    <tr>\n",
       "      <th>0</th>\n",
       "      <td>1000</td>\n",
       "      <td>5</td>\n",
       "      <td>2256.0</td>\n",
       "      <td>3.0</td>\n",
       "    </tr>\n",
       "    <tr>\n",
       "      <th>1</th>\n",
       "      <td>1000</td>\n",
       "      <td>6</td>\n",
       "      <td>23257.0</td>\n",
       "      <td>23.0</td>\n",
       "    </tr>\n",
       "    <tr>\n",
       "      <th>2</th>\n",
       "      <td>1000</td>\n",
       "      <td>7</td>\n",
       "      <td>14016.0</td>\n",
       "      <td>14.0</td>\n",
       "    </tr>\n",
       "    <tr>\n",
       "      <th>3</th>\n",
       "      <td>1000</td>\n",
       "      <td>8</td>\n",
       "      <td>14070.0</td>\n",
       "      <td>14.0</td>\n",
       "    </tr>\n",
       "    <tr>\n",
       "      <th>4</th>\n",
       "      <td>1000</td>\n",
       "      <td>9</td>\n",
       "      <td>14581.0</td>\n",
       "      <td>15.0</td>\n",
       "    </tr>\n",
       "  </tbody>\n",
       "</table>\n",
       "</div>"
      ],
      "text/plain": [
       "   user_id  month  mb_used  gb_total\n",
       "0     1000      5   2256.0       3.0\n",
       "1     1000      6  23257.0      23.0\n",
       "2     1000      7  14016.0      14.0\n",
       "3     1000      8  14070.0      14.0\n",
       "4     1000      9  14581.0      15.0"
      ]
     },
     "execution_count": 262,
     "metadata": {},
     "output_type": "execute_result"
    }
   ],
   "source": [
    "internet_by_user.head()"
   ]
  },
  {
   "cell_type": "markdown",
   "metadata": {},
   "source": [
    "**Прикрепим данные о пользователях:**"
   ]
  },
  {
   "cell_type": "code",
   "execution_count": 263,
   "metadata": {},
   "outputs": [],
   "source": [
    "# Прикрепим к данным о звонках количество звонков\n",
    "users_data = users_data.merge(count_calls_by_user, on = ['user_id', 'month'], how='outer')\n",
    "\n",
    "# Прикрепим количество сообщений\n",
    "users_data = messages_by_user.merge(users_data, on = ['user_id', 'month'], how='outer')\n",
    "\n",
    "# Прикрепим информацию об интернет-трафике\n",
    "users_data = users_data.merge(internet_by_user, on = ['user_id', 'month'], how='outer')\n",
    "\n",
    "\n",
    "# Прикрепим информацию о пользователях\n",
    "users_data = users_data.merge(users, on='user_id')\n",
    "users_data = users_data.drop(['month_y'], axis=1)\n",
    "\n",
    "# Переименуем названия столбцов\n",
    "users_data.rename(columns={'month_x': 'month', 'tariff' : 'tariff_name', 'duration' : 'minutes_total', 'mb_used' : 'mb_total'}, inplace=True)\n"
   ]
  },
  {
   "cell_type": "code",
   "execution_count": 264,
   "metadata": {},
   "outputs": [
    {
     "data": {
      "text/html": [
       "<div>\n",
       "<style scoped>\n",
       "    .dataframe tbody tr th:only-of-type {\n",
       "        vertical-align: middle;\n",
       "    }\n",
       "\n",
       "    .dataframe tbody tr th {\n",
       "        vertical-align: top;\n",
       "    }\n",
       "\n",
       "    .dataframe thead th {\n",
       "        text-align: right;\n",
       "    }\n",
       "</style>\n",
       "<table border=\"1\" class=\"dataframe\">\n",
       "  <thead>\n",
       "    <tr style=\"text-align: right;\">\n",
       "      <th></th>\n",
       "      <th>user_id</th>\n",
       "      <th>month</th>\n",
       "      <th>messages_total</th>\n",
       "      <th>minutes_total</th>\n",
       "      <th>number_of_calls</th>\n",
       "      <th>mb_total</th>\n",
       "      <th>gb_total</th>\n",
       "      <th>age</th>\n",
       "      <th>churn_date</th>\n",
       "      <th>city</th>\n",
       "      <th>first_name</th>\n",
       "      <th>last_name</th>\n",
       "      <th>reg_date</th>\n",
       "      <th>tariff_name</th>\n",
       "    </tr>\n",
       "  </thead>\n",
       "  <tbody>\n",
       "    <tr>\n",
       "      <th>0</th>\n",
       "      <td>1000</td>\n",
       "      <td>5</td>\n",
       "      <td>22.0</td>\n",
       "      <td>159.0</td>\n",
       "      <td>22.0</td>\n",
       "      <td>2256.0</td>\n",
       "      <td>3.0</td>\n",
       "      <td>52</td>\n",
       "      <td>NaN</td>\n",
       "      <td>Краснодар</td>\n",
       "      <td>Рафаил</td>\n",
       "      <td>Верещагин</td>\n",
       "      <td>2018-05-25</td>\n",
       "      <td>ultra</td>\n",
       "    </tr>\n",
       "    <tr>\n",
       "      <th>1</th>\n",
       "      <td>1000</td>\n",
       "      <td>6</td>\n",
       "      <td>60.0</td>\n",
       "      <td>172.0</td>\n",
       "      <td>43.0</td>\n",
       "      <td>23257.0</td>\n",
       "      <td>23.0</td>\n",
       "      <td>52</td>\n",
       "      <td>NaN</td>\n",
       "      <td>Краснодар</td>\n",
       "      <td>Рафаил</td>\n",
       "      <td>Верещагин</td>\n",
       "      <td>2018-05-25</td>\n",
       "      <td>ultra</td>\n",
       "    </tr>\n",
       "    <tr>\n",
       "      <th>2</th>\n",
       "      <td>1000</td>\n",
       "      <td>7</td>\n",
       "      <td>75.0</td>\n",
       "      <td>340.0</td>\n",
       "      <td>47.0</td>\n",
       "      <td>14016.0</td>\n",
       "      <td>14.0</td>\n",
       "      <td>52</td>\n",
       "      <td>NaN</td>\n",
       "      <td>Краснодар</td>\n",
       "      <td>Рафаил</td>\n",
       "      <td>Верещагин</td>\n",
       "      <td>2018-05-25</td>\n",
       "      <td>ultra</td>\n",
       "    </tr>\n",
       "    <tr>\n",
       "      <th>3</th>\n",
       "      <td>1000</td>\n",
       "      <td>8</td>\n",
       "      <td>81.0</td>\n",
       "      <td>408.0</td>\n",
       "      <td>52.0</td>\n",
       "      <td>14070.0</td>\n",
       "      <td>14.0</td>\n",
       "      <td>52</td>\n",
       "      <td>NaN</td>\n",
       "      <td>Краснодар</td>\n",
       "      <td>Рафаил</td>\n",
       "      <td>Верещагин</td>\n",
       "      <td>2018-05-25</td>\n",
       "      <td>ultra</td>\n",
       "    </tr>\n",
       "    <tr>\n",
       "      <th>4</th>\n",
       "      <td>1000</td>\n",
       "      <td>9</td>\n",
       "      <td>57.0</td>\n",
       "      <td>466.0</td>\n",
       "      <td>58.0</td>\n",
       "      <td>14581.0</td>\n",
       "      <td>15.0</td>\n",
       "      <td>52</td>\n",
       "      <td>NaN</td>\n",
       "      <td>Краснодар</td>\n",
       "      <td>Рафаил</td>\n",
       "      <td>Верещагин</td>\n",
       "      <td>2018-05-25</td>\n",
       "      <td>ultra</td>\n",
       "    </tr>\n",
       "  </tbody>\n",
       "</table>\n",
       "</div>"
      ],
      "text/plain": [
       "   user_id  month  messages_total  minutes_total  number_of_calls  mb_total  \\\n",
       "0     1000      5            22.0          159.0             22.0    2256.0   \n",
       "1     1000      6            60.0          172.0             43.0   23257.0   \n",
       "2     1000      7            75.0          340.0             47.0   14016.0   \n",
       "3     1000      8            81.0          408.0             52.0   14070.0   \n",
       "4     1000      9            57.0          466.0             58.0   14581.0   \n",
       "\n",
       "   gb_total  age churn_date       city first_name  last_name   reg_date  \\\n",
       "0       3.0   52        NaN  Краснодар     Рафаил  Верещагин 2018-05-25   \n",
       "1      23.0   52        NaN  Краснодар     Рафаил  Верещагин 2018-05-25   \n",
       "2      14.0   52        NaN  Краснодар     Рафаил  Верещагин 2018-05-25   \n",
       "3      14.0   52        NaN  Краснодар     Рафаил  Верещагин 2018-05-25   \n",
       "4      15.0   52        NaN  Краснодар     Рафаил  Верещагин 2018-05-25   \n",
       "\n",
       "  tariff_name  \n",
       "0       ultra  \n",
       "1       ultra  \n",
       "2       ultra  \n",
       "3       ultra  \n",
       "4       ultra  "
      ]
     },
     "execution_count": 264,
     "metadata": {},
     "output_type": "execute_result"
    }
   ],
   "source": [
    "users_data.head()"
   ]
  },
  {
   "cell_type": "code",
   "execution_count": 265,
   "metadata": {},
   "outputs": [
    {
     "data": {
      "text/plain": [
       "user_id               0\n",
       "month                 0\n",
       "messages_total      497\n",
       "minutes_total        40\n",
       "number_of_calls      40\n",
       "mb_total             11\n",
       "gb_total             11\n",
       "age                   0\n",
       "churn_date         3027\n",
       "city                  0\n",
       "first_name            0\n",
       "last_name             0\n",
       "reg_date              0\n",
       "tariff_name           0\n",
       "dtype: int64"
      ]
     },
     "execution_count": 265,
     "metadata": {},
     "output_type": "execute_result"
    }
   ],
   "source": [
    "users_data.isna().sum()"
   ]
  },
  {
   "cell_type": "markdown",
   "metadata": {},
   "source": [
    "В данных появились пропуски. Скорее всего просто есть пользователи, которые не отправляли сообщения, не звонили или  не пользовались интернетом, поэтому заменим пропуски нулями."
   ]
  },
  {
   "cell_type": "code",
   "execution_count": 266,
   "metadata": {},
   "outputs": [],
   "source": [
    "users_data['messages_total'] = users_data['messages_total'].fillna(0)\n",
    "users_data['minutes_total'] = users_data['minutes_total'].fillna(0)\n",
    "users_data['number_of_calls'] = users_data['number_of_calls'].fillna(0)\n",
    "users_data['mb_total'] = users_data['mb_total'].fillna(0)\n",
    "users_data['gb_total'] = users_data['gb_total'].fillna(0)"
   ]
  },
  {
   "cell_type": "markdown",
   "metadata": {},
   "source": [
    "### Помесячную выручку с каждого пользователя"
   ]
  },
  {
   "cell_type": "code",
   "execution_count": 267,
   "metadata": {},
   "outputs": [],
   "source": [
    "# Добавим новый столбец с гб\n",
    "tariffs['gb_included'] = tariffs['mb_per_month_included'] / 1024"
   ]
  },
  {
   "cell_type": "code",
   "execution_count": 268,
   "metadata": {},
   "outputs": [],
   "source": [
    "# Приклеим таблицу с тарифом к таблице с пользовательской информацией\n",
    "users_data = users_data.merge(tariffs, on='tariff_name', how='outer')\n",
    "\n",
    "data = users_data"
   ]
  },
  {
   "cell_type": "code",
   "execution_count": 269,
   "metadata": {},
   "outputs": [
    {
     "data": {
      "text/html": [
       "<div>\n",
       "<style scoped>\n",
       "    .dataframe tbody tr th:only-of-type {\n",
       "        vertical-align: middle;\n",
       "    }\n",
       "\n",
       "    .dataframe tbody tr th {\n",
       "        vertical-align: top;\n",
       "    }\n",
       "\n",
       "    .dataframe thead th {\n",
       "        text-align: right;\n",
       "    }\n",
       "</style>\n",
       "<table border=\"1\" class=\"dataframe\">\n",
       "  <thead>\n",
       "    <tr style=\"text-align: right;\">\n",
       "      <th></th>\n",
       "      <th>user_id</th>\n",
       "      <th>month</th>\n",
       "      <th>messages_total</th>\n",
       "      <th>minutes_total</th>\n",
       "      <th>number_of_calls</th>\n",
       "      <th>mb_total</th>\n",
       "      <th>gb_total</th>\n",
       "      <th>age</th>\n",
       "      <th>churn_date</th>\n",
       "      <th>city</th>\n",
       "      <th>...</th>\n",
       "      <th>reg_date</th>\n",
       "      <th>tariff_name</th>\n",
       "      <th>messages_included</th>\n",
       "      <th>mb_per_month_included</th>\n",
       "      <th>minutes_included</th>\n",
       "      <th>rub_monthly_fee</th>\n",
       "      <th>rub_per_gb</th>\n",
       "      <th>rub_per_message</th>\n",
       "      <th>rub_per_minute</th>\n",
       "      <th>gb_included</th>\n",
       "    </tr>\n",
       "  </thead>\n",
       "  <tbody>\n",
       "    <tr>\n",
       "      <th>0</th>\n",
       "      <td>1000</td>\n",
       "      <td>5</td>\n",
       "      <td>22.0</td>\n",
       "      <td>159.0</td>\n",
       "      <td>22.0</td>\n",
       "      <td>2256.0</td>\n",
       "      <td>3.0</td>\n",
       "      <td>52</td>\n",
       "      <td>NaN</td>\n",
       "      <td>Краснодар</td>\n",
       "      <td>...</td>\n",
       "      <td>2018-05-25</td>\n",
       "      <td>ultra</td>\n",
       "      <td>1000</td>\n",
       "      <td>30720</td>\n",
       "      <td>3000</td>\n",
       "      <td>1950</td>\n",
       "      <td>150</td>\n",
       "      <td>1</td>\n",
       "      <td>1</td>\n",
       "      <td>30.0</td>\n",
       "    </tr>\n",
       "    <tr>\n",
       "      <th>1</th>\n",
       "      <td>1000</td>\n",
       "      <td>6</td>\n",
       "      <td>60.0</td>\n",
       "      <td>172.0</td>\n",
       "      <td>43.0</td>\n",
       "      <td>23257.0</td>\n",
       "      <td>23.0</td>\n",
       "      <td>52</td>\n",
       "      <td>NaN</td>\n",
       "      <td>Краснодар</td>\n",
       "      <td>...</td>\n",
       "      <td>2018-05-25</td>\n",
       "      <td>ultra</td>\n",
       "      <td>1000</td>\n",
       "      <td>30720</td>\n",
       "      <td>3000</td>\n",
       "      <td>1950</td>\n",
       "      <td>150</td>\n",
       "      <td>1</td>\n",
       "      <td>1</td>\n",
       "      <td>30.0</td>\n",
       "    </tr>\n",
       "    <tr>\n",
       "      <th>2</th>\n",
       "      <td>1000</td>\n",
       "      <td>7</td>\n",
       "      <td>75.0</td>\n",
       "      <td>340.0</td>\n",
       "      <td>47.0</td>\n",
       "      <td>14016.0</td>\n",
       "      <td>14.0</td>\n",
       "      <td>52</td>\n",
       "      <td>NaN</td>\n",
       "      <td>Краснодар</td>\n",
       "      <td>...</td>\n",
       "      <td>2018-05-25</td>\n",
       "      <td>ultra</td>\n",
       "      <td>1000</td>\n",
       "      <td>30720</td>\n",
       "      <td>3000</td>\n",
       "      <td>1950</td>\n",
       "      <td>150</td>\n",
       "      <td>1</td>\n",
       "      <td>1</td>\n",
       "      <td>30.0</td>\n",
       "    </tr>\n",
       "    <tr>\n",
       "      <th>3</th>\n",
       "      <td>1000</td>\n",
       "      <td>8</td>\n",
       "      <td>81.0</td>\n",
       "      <td>408.0</td>\n",
       "      <td>52.0</td>\n",
       "      <td>14070.0</td>\n",
       "      <td>14.0</td>\n",
       "      <td>52</td>\n",
       "      <td>NaN</td>\n",
       "      <td>Краснодар</td>\n",
       "      <td>...</td>\n",
       "      <td>2018-05-25</td>\n",
       "      <td>ultra</td>\n",
       "      <td>1000</td>\n",
       "      <td>30720</td>\n",
       "      <td>3000</td>\n",
       "      <td>1950</td>\n",
       "      <td>150</td>\n",
       "      <td>1</td>\n",
       "      <td>1</td>\n",
       "      <td>30.0</td>\n",
       "    </tr>\n",
       "    <tr>\n",
       "      <th>4</th>\n",
       "      <td>1000</td>\n",
       "      <td>9</td>\n",
       "      <td>57.0</td>\n",
       "      <td>466.0</td>\n",
       "      <td>58.0</td>\n",
       "      <td>14581.0</td>\n",
       "      <td>15.0</td>\n",
       "      <td>52</td>\n",
       "      <td>NaN</td>\n",
       "      <td>Краснодар</td>\n",
       "      <td>...</td>\n",
       "      <td>2018-05-25</td>\n",
       "      <td>ultra</td>\n",
       "      <td>1000</td>\n",
       "      <td>30720</td>\n",
       "      <td>3000</td>\n",
       "      <td>1950</td>\n",
       "      <td>150</td>\n",
       "      <td>1</td>\n",
       "      <td>1</td>\n",
       "      <td>30.0</td>\n",
       "    </tr>\n",
       "  </tbody>\n",
       "</table>\n",
       "<p>5 rows × 22 columns</p>\n",
       "</div>"
      ],
      "text/plain": [
       "   user_id  month  messages_total  minutes_total  number_of_calls  mb_total  \\\n",
       "0     1000      5            22.0          159.0             22.0    2256.0   \n",
       "1     1000      6            60.0          172.0             43.0   23257.0   \n",
       "2     1000      7            75.0          340.0             47.0   14016.0   \n",
       "3     1000      8            81.0          408.0             52.0   14070.0   \n",
       "4     1000      9            57.0          466.0             58.0   14581.0   \n",
       "\n",
       "   gb_total  age churn_date       city  ...   reg_date tariff_name  \\\n",
       "0       3.0   52        NaN  Краснодар  ... 2018-05-25       ultra   \n",
       "1      23.0   52        NaN  Краснодар  ... 2018-05-25       ultra   \n",
       "2      14.0   52        NaN  Краснодар  ... 2018-05-25       ultra   \n",
       "3      14.0   52        NaN  Краснодар  ... 2018-05-25       ultra   \n",
       "4      15.0   52        NaN  Краснодар  ... 2018-05-25       ultra   \n",
       "\n",
       "  messages_included mb_per_month_included  minutes_included  rub_monthly_fee  \\\n",
       "0              1000                 30720              3000             1950   \n",
       "1              1000                 30720              3000             1950   \n",
       "2              1000                 30720              3000             1950   \n",
       "3              1000                 30720              3000             1950   \n",
       "4              1000                 30720              3000             1950   \n",
       "\n",
       "   rub_per_gb  rub_per_message  rub_per_minute  gb_included  \n",
       "0         150                1               1         30.0  \n",
       "1         150                1               1         30.0  \n",
       "2         150                1               1         30.0  \n",
       "3         150                1               1         30.0  \n",
       "4         150                1               1         30.0  \n",
       "\n",
       "[5 rows x 22 columns]"
      ]
     },
     "execution_count": 269,
     "metadata": {},
     "output_type": "execute_result"
    }
   ],
   "source": [
    "data.head()"
   ]
  },
  {
   "cell_type": "code",
   "execution_count": 270,
   "metadata": {},
   "outputs": [],
   "source": [
    "# Функция для поиска помесячной выручки с каждого пользователя\n",
    "def month_pay(data):\n",
    "    \n",
    "    # Вычислим стоимость минут и сообщений, который выходят за лимит тарифа\n",
    "    minutes_over = (data['minutes_total'] - data['minutes_included']) * data['rub_per_minute']\n",
    "    messages_over = (data['messages_total'] - data['messages_included'] * data['rub_per_message'])\n",
    "    \n",
    "    # То же самое для интернет трафика\n",
    "    gb_over = (data['gb_total'] - data['gb_included']) * data['rub_per_gb']\n",
    "                  \n",
    "    if minutes_over < 0:\n",
    "        minutes_over = 0\n",
    "    if messages_over < 0:\n",
    "        messages_over = 0\n",
    "    if gb_over < 0:\n",
    "        gb_over =0\n",
    "        \n",
    "    month_income = minutes_over + messages_over + gb_over + data['rub_monthly_fee']\n",
    "    return month_income\n"
   ]
  },
  {
   "cell_type": "code",
   "execution_count": 271,
   "metadata": {},
   "outputs": [],
   "source": [
    "# Добавим столбец с помесячной выручкой к общей таблице\n",
    "data['month_income'] = data.apply(month_pay, axis=1)"
   ]
  },
  {
   "cell_type": "code",
   "execution_count": 272,
   "metadata": {},
   "outputs": [
    {
     "data": {
      "text/html": [
       "<div>\n",
       "<style scoped>\n",
       "    .dataframe tbody tr th:only-of-type {\n",
       "        vertical-align: middle;\n",
       "    }\n",
       "\n",
       "    .dataframe tbody tr th {\n",
       "        vertical-align: top;\n",
       "    }\n",
       "\n",
       "    .dataframe thead th {\n",
       "        text-align: right;\n",
       "    }\n",
       "</style>\n",
       "<table border=\"1\" class=\"dataframe\">\n",
       "  <thead>\n",
       "    <tr style=\"text-align: right;\">\n",
       "      <th></th>\n",
       "      <th>user_id</th>\n",
       "      <th>month</th>\n",
       "      <th>messages_total</th>\n",
       "      <th>minutes_total</th>\n",
       "      <th>number_of_calls</th>\n",
       "      <th>mb_total</th>\n",
       "      <th>gb_total</th>\n",
       "      <th>age</th>\n",
       "      <th>churn_date</th>\n",
       "      <th>city</th>\n",
       "      <th>...</th>\n",
       "      <th>tariff_name</th>\n",
       "      <th>messages_included</th>\n",
       "      <th>mb_per_month_included</th>\n",
       "      <th>minutes_included</th>\n",
       "      <th>rub_monthly_fee</th>\n",
       "      <th>rub_per_gb</th>\n",
       "      <th>rub_per_message</th>\n",
       "      <th>rub_per_minute</th>\n",
       "      <th>gb_included</th>\n",
       "      <th>month_income</th>\n",
       "    </tr>\n",
       "  </thead>\n",
       "  <tbody>\n",
       "    <tr>\n",
       "      <th>0</th>\n",
       "      <td>1000</td>\n",
       "      <td>5</td>\n",
       "      <td>22.0</td>\n",
       "      <td>159.0</td>\n",
       "      <td>22.0</td>\n",
       "      <td>2256.0</td>\n",
       "      <td>3.0</td>\n",
       "      <td>52</td>\n",
       "      <td>NaN</td>\n",
       "      <td>Краснодар</td>\n",
       "      <td>...</td>\n",
       "      <td>ultra</td>\n",
       "      <td>1000</td>\n",
       "      <td>30720</td>\n",
       "      <td>3000</td>\n",
       "      <td>1950</td>\n",
       "      <td>150</td>\n",
       "      <td>1</td>\n",
       "      <td>1</td>\n",
       "      <td>30.0</td>\n",
       "      <td>1950.0</td>\n",
       "    </tr>\n",
       "    <tr>\n",
       "      <th>1</th>\n",
       "      <td>1000</td>\n",
       "      <td>6</td>\n",
       "      <td>60.0</td>\n",
       "      <td>172.0</td>\n",
       "      <td>43.0</td>\n",
       "      <td>23257.0</td>\n",
       "      <td>23.0</td>\n",
       "      <td>52</td>\n",
       "      <td>NaN</td>\n",
       "      <td>Краснодар</td>\n",
       "      <td>...</td>\n",
       "      <td>ultra</td>\n",
       "      <td>1000</td>\n",
       "      <td>30720</td>\n",
       "      <td>3000</td>\n",
       "      <td>1950</td>\n",
       "      <td>150</td>\n",
       "      <td>1</td>\n",
       "      <td>1</td>\n",
       "      <td>30.0</td>\n",
       "      <td>1950.0</td>\n",
       "    </tr>\n",
       "    <tr>\n",
       "      <th>2</th>\n",
       "      <td>1000</td>\n",
       "      <td>7</td>\n",
       "      <td>75.0</td>\n",
       "      <td>340.0</td>\n",
       "      <td>47.0</td>\n",
       "      <td>14016.0</td>\n",
       "      <td>14.0</td>\n",
       "      <td>52</td>\n",
       "      <td>NaN</td>\n",
       "      <td>Краснодар</td>\n",
       "      <td>...</td>\n",
       "      <td>ultra</td>\n",
       "      <td>1000</td>\n",
       "      <td>30720</td>\n",
       "      <td>3000</td>\n",
       "      <td>1950</td>\n",
       "      <td>150</td>\n",
       "      <td>1</td>\n",
       "      <td>1</td>\n",
       "      <td>30.0</td>\n",
       "      <td>1950.0</td>\n",
       "    </tr>\n",
       "    <tr>\n",
       "      <th>3</th>\n",
       "      <td>1000</td>\n",
       "      <td>8</td>\n",
       "      <td>81.0</td>\n",
       "      <td>408.0</td>\n",
       "      <td>52.0</td>\n",
       "      <td>14070.0</td>\n",
       "      <td>14.0</td>\n",
       "      <td>52</td>\n",
       "      <td>NaN</td>\n",
       "      <td>Краснодар</td>\n",
       "      <td>...</td>\n",
       "      <td>ultra</td>\n",
       "      <td>1000</td>\n",
       "      <td>30720</td>\n",
       "      <td>3000</td>\n",
       "      <td>1950</td>\n",
       "      <td>150</td>\n",
       "      <td>1</td>\n",
       "      <td>1</td>\n",
       "      <td>30.0</td>\n",
       "      <td>1950.0</td>\n",
       "    </tr>\n",
       "    <tr>\n",
       "      <th>4</th>\n",
       "      <td>1000</td>\n",
       "      <td>9</td>\n",
       "      <td>57.0</td>\n",
       "      <td>466.0</td>\n",
       "      <td>58.0</td>\n",
       "      <td>14581.0</td>\n",
       "      <td>15.0</td>\n",
       "      <td>52</td>\n",
       "      <td>NaN</td>\n",
       "      <td>Краснодар</td>\n",
       "      <td>...</td>\n",
       "      <td>ultra</td>\n",
       "      <td>1000</td>\n",
       "      <td>30720</td>\n",
       "      <td>3000</td>\n",
       "      <td>1950</td>\n",
       "      <td>150</td>\n",
       "      <td>1</td>\n",
       "      <td>1</td>\n",
       "      <td>30.0</td>\n",
       "      <td>1950.0</td>\n",
       "    </tr>\n",
       "  </tbody>\n",
       "</table>\n",
       "<p>5 rows × 23 columns</p>\n",
       "</div>"
      ],
      "text/plain": [
       "   user_id  month  messages_total  minutes_total  number_of_calls  mb_total  \\\n",
       "0     1000      5            22.0          159.0             22.0    2256.0   \n",
       "1     1000      6            60.0          172.0             43.0   23257.0   \n",
       "2     1000      7            75.0          340.0             47.0   14016.0   \n",
       "3     1000      8            81.0          408.0             52.0   14070.0   \n",
       "4     1000      9            57.0          466.0             58.0   14581.0   \n",
       "\n",
       "   gb_total  age churn_date       city  ... tariff_name messages_included  \\\n",
       "0       3.0   52        NaN  Краснодар  ...       ultra              1000   \n",
       "1      23.0   52        NaN  Краснодар  ...       ultra              1000   \n",
       "2      14.0   52        NaN  Краснодар  ...       ultra              1000   \n",
       "3      14.0   52        NaN  Краснодар  ...       ultra              1000   \n",
       "4      15.0   52        NaN  Краснодар  ...       ultra              1000   \n",
       "\n",
       "  mb_per_month_included minutes_included  rub_monthly_fee  rub_per_gb  \\\n",
       "0                 30720             3000             1950         150   \n",
       "1                 30720             3000             1950         150   \n",
       "2                 30720             3000             1950         150   \n",
       "3                 30720             3000             1950         150   \n",
       "4                 30720             3000             1950         150   \n",
       "\n",
       "   rub_per_message  rub_per_minute  gb_included  month_income  \n",
       "0                1               1         30.0        1950.0  \n",
       "1                1               1         30.0        1950.0  \n",
       "2                1               1         30.0        1950.0  \n",
       "3                1               1         30.0        1950.0  \n",
       "4                1               1         30.0        1950.0  \n",
       "\n",
       "[5 rows x 23 columns]"
      ]
     },
     "execution_count": 272,
     "metadata": {},
     "output_type": "execute_result"
    }
   ],
   "source": [
    "data.head()"
   ]
  },
  {
   "cell_type": "markdown",
   "metadata": {},
   "source": [
    "## Анализ данных"
   ]
  },
  {
   "cell_type": "markdown",
   "metadata": {},
   "source": [
    "Опишите поведение клиентов оператора, исходя из выборки. Сколько минут разговора, сколько сообщений и какой объём интернет-трафика требуется пользователям каждого тарифа в месяц? Посчитайте среднее количество, дисперсию и стандартное отклонение. Постройте гистограммы. Опишите распределения."
   ]
  },
  {
   "cell_type": "code",
   "execution_count": 273,
   "metadata": {},
   "outputs": [
    {
     "name": "stdout",
     "output_type": "stream",
     "text": [
      "ultra\n",
      "\n"
     ]
    },
    {
     "data": {
      "text/html": [
       "<style type=\"text/css\">\n",
       "</style>\n",
       "<table id=\"T_79210_\">\n",
       "  <thead>\n",
       "    <tr>\n",
       "      <th class=\"blank level0\" >&nbsp;</th>\n",
       "      <th class=\"col_heading level0 col0\" >minutes_total</th>\n",
       "      <th class=\"col_heading level0 col1\" >messages_total</th>\n",
       "      <th class=\"col_heading level0 col2\" >mb_total</th>\n",
       "      <th class=\"col_heading level0 col3\" >month_income</th>\n",
       "    </tr>\n",
       "  </thead>\n",
       "  <tbody>\n",
       "    <tr>\n",
       "      <th id=\"T_79210_level0_row0\" class=\"row_heading level0 row0\" >count</th>\n",
       "      <td id=\"T_79210_row0_col0\" class=\"data row0 col0\" >985.00</td>\n",
       "      <td id=\"T_79210_row0_col1\" class=\"data row0 col1\" >985.00</td>\n",
       "      <td id=\"T_79210_row0_col2\" class=\"data row0 col2\" >985.00</td>\n",
       "      <td id=\"T_79210_row0_col3\" class=\"data row0 col3\" >985.00</td>\n",
       "    </tr>\n",
       "    <tr>\n",
       "      <th id=\"T_79210_level0_row1\" class=\"row_heading level0 row1\" >mean</th>\n",
       "      <td id=\"T_79210_row1_col0\" class=\"data row1 col0\" >526.62</td>\n",
       "      <td id=\"T_79210_row1_col1\" class=\"data row1 col1\" >49.36</td>\n",
       "      <td id=\"T_79210_row1_col2\" class=\"data row1 col2\" >19486.90</td>\n",
       "      <td id=\"T_79210_row1_col3\" class=\"data row1 col3\" >2071.07</td>\n",
       "    </tr>\n",
       "    <tr>\n",
       "      <th id=\"T_79210_level0_row2\" class=\"row_heading level0 row2\" >std</th>\n",
       "      <td id=\"T_79210_row2_col0\" class=\"data row2 col0\" >317.61</td>\n",
       "      <td id=\"T_79210_row2_col1\" class=\"data row2 col1\" >47.80</td>\n",
       "      <td id=\"T_79210_row2_col2\" class=\"data row2 col2\" >10096.32</td>\n",
       "      <td id=\"T_79210_row2_col3\" class=\"data row2 col3\" >378.80</td>\n",
       "    </tr>\n",
       "    <tr>\n",
       "      <th id=\"T_79210_level0_row3\" class=\"row_heading level0 row3\" >min</th>\n",
       "      <td id=\"T_79210_row3_col0\" class=\"data row3 col0\" >0.00</td>\n",
       "      <td id=\"T_79210_row3_col1\" class=\"data row3 col1\" >0.00</td>\n",
       "      <td id=\"T_79210_row3_col2\" class=\"data row3 col2\" >0.00</td>\n",
       "      <td id=\"T_79210_row3_col3\" class=\"data row3 col3\" >1950.00</td>\n",
       "    </tr>\n",
       "    <tr>\n",
       "      <th id=\"T_79210_level0_row4\" class=\"row_heading level0 row4\" >25%</th>\n",
       "      <td id=\"T_79210_row4_col0\" class=\"data row4 col0\" >284.00</td>\n",
       "      <td id=\"T_79210_row4_col1\" class=\"data row4 col1\" >6.00</td>\n",
       "      <td id=\"T_79210_row4_col2\" class=\"data row4 col2\" >11785.00</td>\n",
       "      <td id=\"T_79210_row4_col3\" class=\"data row4 col3\" >1950.00</td>\n",
       "    </tr>\n",
       "    <tr>\n",
       "      <th id=\"T_79210_level0_row5\" class=\"row_heading level0 row5\" >50%</th>\n",
       "      <td id=\"T_79210_row5_col0\" class=\"data row5 col0\" >518.00</td>\n",
       "      <td id=\"T_79210_row5_col1\" class=\"data row5 col1\" >38.00</td>\n",
       "      <td id=\"T_79210_row5_col2\" class=\"data row5 col2\" >19324.00</td>\n",
       "      <td id=\"T_79210_row5_col3\" class=\"data row5 col3\" >1950.00</td>\n",
       "    </tr>\n",
       "    <tr>\n",
       "      <th id=\"T_79210_level0_row6\" class=\"row_heading level0 row6\" >75%</th>\n",
       "      <td id=\"T_79210_row6_col0\" class=\"data row6 col0\" >752.00</td>\n",
       "      <td id=\"T_79210_row6_col1\" class=\"data row6 col1\" >79.00</td>\n",
       "      <td id=\"T_79210_row6_col2\" class=\"data row6 col2\" >26863.00</td>\n",
       "      <td id=\"T_79210_row6_col3\" class=\"data row6 col3\" >1950.00</td>\n",
       "    </tr>\n",
       "    <tr>\n",
       "      <th id=\"T_79210_level0_row7\" class=\"row_heading level0 row7\" >max</th>\n",
       "      <td id=\"T_79210_row7_col0\" class=\"data row7 col0\" >1673.00</td>\n",
       "      <td id=\"T_79210_row7_col1\" class=\"data row7 col1\" >224.00</td>\n",
       "      <td id=\"T_79210_row7_col2\" class=\"data row7 col2\" >49789.00</td>\n",
       "      <td id=\"T_79210_row7_col3\" class=\"data row7 col3\" >4800.00</td>\n",
       "    </tr>\n",
       "  </tbody>\n",
       "</table>\n"
      ],
      "text/plain": [
       "<pandas.io.formats.style.Styler at 0x12b2b3fd0>"
      ]
     },
     "metadata": {},
     "output_type": "display_data"
    },
    {
     "name": "stdout",
     "output_type": "stream",
     "text": [
      "Дисперсия:\n"
     ]
    },
    {
     "data": {
      "text/plain": [
       "minutes_total     1.007712e+05\n",
       "messages_total    2.282946e+03\n",
       "mb_total          1.018321e+08\n",
       "month_income      1.433456e+05\n",
       "dtype: float64"
      ]
     },
     "metadata": {},
     "output_type": "display_data"
    },
    {
     "name": "stdout",
     "output_type": "stream",
     "text": [
      "smart\n",
      "\n"
     ]
    },
    {
     "data": {
      "text/html": [
       "<style type=\"text/css\">\n",
       "</style>\n",
       "<table id=\"T_8e868_\">\n",
       "  <thead>\n",
       "    <tr>\n",
       "      <th class=\"blank level0\" >&nbsp;</th>\n",
       "      <th class=\"col_heading level0 col0\" >minutes_total</th>\n",
       "      <th class=\"col_heading level0 col1\" >messages_total</th>\n",
       "      <th class=\"col_heading level0 col2\" >mb_total</th>\n",
       "      <th class=\"col_heading level0 col3\" >month_income</th>\n",
       "    </tr>\n",
       "  </thead>\n",
       "  <tbody>\n",
       "    <tr>\n",
       "      <th id=\"T_8e868_level0_row0\" class=\"row_heading level0 row0\" >count</th>\n",
       "      <td id=\"T_8e868_row0_col0\" class=\"data row0 col0\" >2229.00</td>\n",
       "      <td id=\"T_8e868_row0_col1\" class=\"data row0 col1\" >2229.00</td>\n",
       "      <td id=\"T_8e868_row0_col2\" class=\"data row0 col2\" >2229.00</td>\n",
       "      <td id=\"T_8e868_row0_col3\" class=\"data row0 col3\" >2229.00</td>\n",
       "    </tr>\n",
       "    <tr>\n",
       "      <th id=\"T_8e868_level0_row1\" class=\"row_heading level0 row1\" >mean</th>\n",
       "      <td id=\"T_8e868_row1_col0\" class=\"data row1 col0\" >417.93</td>\n",
       "      <td id=\"T_8e868_row1_col1\" class=\"data row1 col1\" >33.38</td>\n",
       "      <td id=\"T_8e868_row1_col2\" class=\"data row1 col2\" >16229.19</td>\n",
       "      <td id=\"T_8e868_row1_col3\" class=\"data row1 col3\" >1277.24</td>\n",
       "    </tr>\n",
       "    <tr>\n",
       "      <th id=\"T_8e868_level0_row2\" class=\"row_heading level0 row2\" >std</th>\n",
       "      <td id=\"T_8e868_row2_col0\" class=\"data row2 col0\" >190.31</td>\n",
       "      <td id=\"T_8e868_row2_col1\" class=\"data row2 col1\" >28.23</td>\n",
       "      <td id=\"T_8e868_row2_col2\" class=\"data row2 col2\" >5877.58</td>\n",
       "      <td id=\"T_8e868_row2_col3\" class=\"data row2 col3\" >816.12</td>\n",
       "    </tr>\n",
       "    <tr>\n",
       "      <th id=\"T_8e868_level0_row3\" class=\"row_heading level0 row3\" >min</th>\n",
       "      <td id=\"T_8e868_row3_col0\" class=\"data row3 col0\" >0.00</td>\n",
       "      <td id=\"T_8e868_row3_col1\" class=\"data row3 col1\" >0.00</td>\n",
       "      <td id=\"T_8e868_row3_col2\" class=\"data row3 col2\" >0.00</td>\n",
       "      <td id=\"T_8e868_row3_col3\" class=\"data row3 col3\" >550.00</td>\n",
       "    </tr>\n",
       "    <tr>\n",
       "      <th id=\"T_8e868_level0_row4\" class=\"row_heading level0 row4\" >25%</th>\n",
       "      <td id=\"T_8e868_row4_col0\" class=\"data row4 col0\" >282.00</td>\n",
       "      <td id=\"T_8e868_row4_col1\" class=\"data row4 col1\" >10.00</td>\n",
       "      <td id=\"T_8e868_row4_col2\" class=\"data row4 col2\" >12658.00</td>\n",
       "      <td id=\"T_8e868_row4_col3\" class=\"data row4 col3\" >550.00</td>\n",
       "    </tr>\n",
       "    <tr>\n",
       "      <th id=\"T_8e868_level0_row5\" class=\"row_heading level0 row5\" >50%</th>\n",
       "      <td id=\"T_8e868_row5_col0\" class=\"data row5 col0\" >422.00</td>\n",
       "      <td id=\"T_8e868_row5_col1\" class=\"data row5 col1\" >28.00</td>\n",
       "      <td id=\"T_8e868_row5_col2\" class=\"data row5 col2\" >16531.00</td>\n",
       "      <td id=\"T_8e868_row5_col3\" class=\"data row5 col3\" >1002.00</td>\n",
       "    </tr>\n",
       "    <tr>\n",
       "      <th id=\"T_8e868_level0_row6\" class=\"row_heading level0 row6\" >75%</th>\n",
       "      <td id=\"T_8e868_row6_col0\" class=\"data row6 col0\" >545.00</td>\n",
       "      <td id=\"T_8e868_row6_col1\" class=\"data row6 col1\" >51.00</td>\n",
       "      <td id=\"T_8e868_row6_col2\" class=\"data row6 col2\" >20068.00</td>\n",
       "      <td id=\"T_8e868_row6_col3\" class=\"data row6 col3\" >1750.00</td>\n",
       "    </tr>\n",
       "    <tr>\n",
       "      <th id=\"T_8e868_level0_row7\" class=\"row_heading level0 row7\" >max</th>\n",
       "      <td id=\"T_8e868_row7_col0\" class=\"data row7 col0\" >1435.00</td>\n",
       "      <td id=\"T_8e868_row7_col1\" class=\"data row7 col1\" >143.00</td>\n",
       "      <td id=\"T_8e868_row7_col2\" class=\"data row7 col2\" >38610.00</td>\n",
       "      <td id=\"T_8e868_row7_col3\" class=\"data row7 col3\" >6671.00</td>\n",
       "    </tr>\n",
       "  </tbody>\n",
       "</table>\n"
      ],
      "text/plain": [
       "<pandas.io.formats.style.Styler at 0x12b2d4b20>"
      ]
     },
     "metadata": {},
     "output_type": "display_data"
    },
    {
     "name": "stdout",
     "output_type": "stream",
     "text": [
      "Дисперсия:\n"
     ]
    },
    {
     "data": {
      "text/plain": [
       "minutes_total     3.620307e+04\n",
       "messages_total    7.964555e+02\n",
       "mb_total          3.453041e+07\n",
       "month_income      6.657528e+05\n",
       "dtype: float64"
      ]
     },
     "metadata": {},
     "output_type": "display_data"
    }
   ],
   "source": [
    "# Найдем среднее и стандартное отклонение для обоих тарифов.\n",
    "for tariff in data['tariff_name'].unique():\n",
    "    # Выделим все пары id+month для каждого тарифа\n",
    "    current = data.query('tariff_name == @tariff')\n",
    "    \n",
    "    #Найдем параметры распределения\n",
    "    new = current[['minutes_total', 'messages_total', 'mb_total','month_income']].describe().style.format('{:.2f}')\n",
    "    print(tariff)\n",
    "    print()\n",
    "    display(new)\n",
    "    \n",
    "    #Выведем на экран значения дисперии\n",
    "    print('Дисперсия:')\n",
    "    display(np.var(current[['minutes_total', 'messages_total', 'mb_total', 'month_income']]))\n",
    "    "
   ]
  },
  {
   "cell_type": "code",
   "execution_count": 274,
   "metadata": {},
   "outputs": [],
   "source": [
    "# Напишем функцию для отображения графиков:\n",
    "\n",
    "def make_plots(element):\n",
    "    plt.figure(figsize = (9,6))\n",
    "    for tariff in data['tariff_name'].unique():\n",
    "        current = data.query('tariff_name == @tariff')\n",
    "        sns.distplot(current[element], label = tariff)\n",
    "        plt.title(element)\n",
    "    plt.legend()"
   ]
  },
  {
   "cell_type": "code",
   "execution_count": 275,
   "metadata": {},
   "outputs": [],
   "source": [
    "import warnings\n",
    "warnings.filterwarnings(\"ignore\")"
   ]
  },
  {
   "cell_type": "code",
   "execution_count": 276,
   "metadata": {},
   "outputs": [
    {
     "data": {
      "image/png": "[encoded data removed]",
      "text/plain": [
       "<Figure size 648x432 with 1 Axes>"
      ]
     },
     "metadata": {
      "needs_background": "light"
     },
     "output_type": "display_data"
    }
   ],
   "source": [
    "make_plots('month_income')"
   ]
  },
  {
   "cell_type": "markdown",
   "metadata": {},
   "source": [
    "**Вывод:**\n",
    "\n",
    "По гистограмме тарифа \"Ультра\" видно, что средняя месячная выручка составляет примерно 2000 рублей. Гистограмма скошена справо, следовательно, медиана меньше среднего. В таблице видно, что медианное значение - стоимость тарифа, то есть 1950 рублей. \n",
    "\n",
    "Гистограмма тарифа \"Смарт\" также скошена влево, однако скос более плавный и явный. Медиана также меньше среднего, однако на большее число, чем у другого тарифа. "
   ]
  },
  {
   "cell_type": "code",
   "execution_count": 277,
   "metadata": {},
   "outputs": [
    {
     "data": {
      "image/png": "[encoded data removed]",
      "text/plain": [
       "<Figure size 648x432 with 1 Axes>"
      ]
     },
     "metadata": {
      "needs_background": "light"
     },
     "output_type": "display_data"
    }
   ],
   "source": [
    "make_plots('minutes_total')"
   ]
  },
  {
   "cell_type": "markdown",
   "metadata": {},
   "source": [
    "**Вывод:**\n",
    "\n",
    "У тарифа \"Ультра\" практически симметричная гистограмма, медианное и среднее значения практически совпадают, образуя нормальное распределение. У тарифа \"Смарт\" гистограмма немного скошена влево, значит медиана будет больше среднего, однако ненамного. \n",
    "\n",
    "Можно отменить, что несмотря на то что в тарифе \"Ультра\" гораздо больше минут включено в пакет услуг, большинство клиентов используют те же 500 минут, что и в тарифе \"Смарт\"\n",
    "\n",
    "Также в тарифе \"Ультра\" выше дисперсия, значит, длиннее хвост и абоненты более склонны расходовать больше минут, чем у другого тарифа.\n"
   ]
  },
  {
   "cell_type": "code",
   "execution_count": 278,
   "metadata": {},
   "outputs": [
    {
     "data": {
      "image/png": "[encoded data removed]",
      "text/plain": [
       "<Figure size 648x432 with 1 Axes>"
      ]
     },
     "metadata": {
      "needs_background": "light"
     },
     "output_type": "display_data"
    }
   ],
   "source": [
    "make_plots('messages_total')"
   ]
  },
  {
   "cell_type": "markdown",
   "metadata": {},
   "source": [
    "**Вывод:**\n",
    "\n",
    "Гистограммы обоих тарифов скошены вправо, следовательно медианное значение меньше среднего. Также у тарифа \"Ультра\" выше значение отклонения, его абоненты больше склонны слать смс. "
   ]
  },
  {
   "cell_type": "code",
   "execution_count": 279,
   "metadata": {},
   "outputs": [
    {
     "data": {
      "image/png": "[encoded data removed]",
      "text/plain": [
       "<Figure size 648x432 with 1 Axes>"
      ]
     },
     "metadata": {
      "needs_background": "light"
     },
     "output_type": "display_data"
    }
   ],
   "source": [
    "make_plots('mb_total')"
   ]
  },
  {
   "cell_type": "markdown",
   "metadata": {},
   "source": [
    "**Вывод:**\n",
    "\n",
    "Распределение использования интернета для тарифа \"Smart\" практически симметричное. Среднее значение практически соответствует медианному. \n",
    "\n",
    "В тарифе \"Ультра\" гистограмма скошена влево. Медиана ниже среднего, однако ненамного, график также практически симметричен.\n",
    "\n",
    "Также как и с предыдущими характеристиками, дисперсия тарифа \"Ультра\" намного выше, чем у тарифа \"Смарт\".\n"
   ]
  },
  {
   "cell_type": "markdown",
   "metadata": {},
   "source": [
    "## Проверка гипотез"
   ]
  },
  {
   "cell_type": "markdown",
   "metadata": {},
   "source": [
    "### Средняя выручка пользователей тарифов «Ультра» и «Смарт» различаются"
   ]
  },
  {
   "cell_type": "markdown",
   "metadata": {},
   "source": [
    "**Нулевая гипотеза** - средняя выручка пользователей тарифов \"Ультра\" и \"Смарт\" равны\n",
    "</div>\n",
    "\n",
    "**Альтернативная гипотеза** - они различаются"
   ]
  },
  {
   "cell_type": "code",
   "execution_count": 280,
   "metadata": {},
   "outputs": [
    {
     "name": "stdout",
     "output_type": "stream",
     "text": [
      "p-значение: 3.926865807964532e-166\n",
      "Отвергаем нулевую гипотезу\n"
     ]
    }
   ],
   "source": [
    "from scipy import stats as st\n",
    "\n",
    "# Разделим общие данные по тарифам\n",
    "smart = data.query('tariff_name == \"smart\"')\n",
    "smart = smart['month_income']\n",
    "ultra = data.query('tariff_name == \"ultra\"')\n",
    "ultra = ultra['month_income']\n",
    "\n",
    "alpha = 0.05  # критический уровень статистической значимости\n",
    "# если p-value окажется меньше него - отвергнем гипотезу\n",
    "\n",
    "results = st.ttest_ind(smart, ultra)\n",
    "\n",
    "print('p-значение:', results.pvalue)\n",
    "\n",
    "if results.pvalue < alpha:\n",
    "    print('Отвергаем нулевую гипотезу')\n",
    "else:\n",
    "    print('Не получилось отвергнуть нулевую гипотезу') \n"
   ]
  },
  {
   "cell_type": "markdown",
   "metadata": {},
   "source": [
    "Убедимся в этом."
   ]
  },
  {
   "cell_type": "code",
   "execution_count": 281,
   "metadata": {},
   "outputs": [
    {
     "data": {
      "text/plain": [
       "count    2229.000000\n",
       "mean     1277.239569\n",
       "std       816.119846\n",
       "min       550.000000\n",
       "25%       550.000000\n",
       "50%      1002.000000\n",
       "75%      1750.000000\n",
       "max      6671.000000\n",
       "Name: month_income, dtype: float64"
      ]
     },
     "metadata": {},
     "output_type": "display_data"
    },
    {
     "data": {
      "text/plain": [
       "count     985.000000\n",
       "mean     2071.065990\n",
       "std       378.802377\n",
       "min      1950.000000\n",
       "25%      1950.000000\n",
       "50%      1950.000000\n",
       "75%      1950.000000\n",
       "max      4800.000000\n",
       "Name: month_income, dtype: float64"
      ]
     },
     "metadata": {},
     "output_type": "display_data"
    }
   ],
   "source": [
    "display(smart.describe())\n",
    "display(ultra.describe())"
   ]
  },
  {
   "cell_type": "markdown",
   "metadata": {},
   "source": [
    "Средний показатель действительно отличается."
   ]
  },
  {
   "cell_type": "markdown",
   "metadata": {},
   "source": [
    "**Вывод:**\n",
    "\n",
    "Таким образом, нам пришлось отвергнуть гипотезу о том, что средняя выручка пользователей тарифов равны. "
   ]
  },
  {
   "cell_type": "markdown",
   "metadata": {},
   "source": [
    "### Средняя выручка пользователей из Москвы отличается от выручки пользователей из других регионов"
   ]
  },
  {
   "cell_type": "markdown",
   "metadata": {},
   "source": [
    "**Нулевая гипотеза** - средняя выручка пользователей из Москвы и средняя выручка пользователей из других регионов равны\n",
    "</div>\n",
    "\n",
    "**Альтернативная гипотеза** - они различаются"
   ]
  },
  {
   "cell_type": "code",
   "execution_count": 282,
   "metadata": {},
   "outputs": [
    {
     "name": "stdout",
     "output_type": "stream",
     "text": [
      "p-значение: 0.4348929171989182\n",
      "Не получилось отвергнуть нулевую гипотезу\n"
     ]
    }
   ],
   "source": [
    "# Разделим данные по городам\n",
    "\n",
    "moscow = data.query('city == \"Москва\"')\n",
    "moscow = moscow['month_income']\n",
    "others = data.query('city != \"Москва\"')\n",
    "others = others['month_income']\n",
    "\n",
    "alpha = 0.05 \n",
    "\n",
    "results = st.ttest_ind(moscow, others)\n",
    "\n",
    "print('p-значение:', results.pvalue)\n",
    "\n",
    "if results.pvalue < alpha:\n",
    "    print('Отвергаем нулевую гипотезу')\n",
    "else:\n",
    "    print('Не получилось отвергнуть нулевую гипотезу') "
   ]
  },
  {
   "cell_type": "code",
   "execution_count": 283,
   "metadata": {
    "scrolled": true
   },
   "outputs": [
    {
     "data": {
      "text/plain": [
       "count     611.000000\n",
       "mean     1543.268412\n",
       "std       753.373438\n",
       "min       550.000000\n",
       "25%       750.500000\n",
       "50%      1750.000000\n",
       "75%      1950.000000\n",
       "max      5267.000000\n",
       "Name: month_income, dtype: float64"
      ]
     },
     "metadata": {},
     "output_type": "display_data"
    },
    {
     "data": {
      "text/plain": [
       "count    2603.000000\n",
       "mean     1515.186323\n",
       "std       810.440149\n",
       "min       550.000000\n",
       "25%       750.000000\n",
       "50%      1553.000000\n",
       "75%      1950.000000\n",
       "max      6671.000000\n",
       "Name: month_income, dtype: float64"
      ]
     },
     "metadata": {},
     "output_type": "display_data"
    }
   ],
   "source": [
    "display(moscow.describe())\n",
    "display(others.describe())"
   ]
  },
  {
   "cell_type": "markdown",
   "metadata": {},
   "source": [
    "Средняя выручка отличается, но на небольшое значение."
   ]
  },
  {
   "cell_type": "markdown",
   "metadata": {},
   "source": [
    "**Вывод:**\n",
    "\n",
    "Таким образом, нам не удалось отвергнуть гипотезу о том, что средняя выручка по Москве и другим регионам равна. "
   ]
  },
  {
   "cell_type": "markdown",
   "metadata": {},
   "source": [
    "##  Вывод"
   ]
  },
  {
   "cell_type": "markdown",
   "metadata": {},
   "source": [
    "На основании проанализированных данных, тариф \"Ультра\" кажется более выгодным. Средняя выручка от него больше, чем от тарифа \"Смарт\". Также на всех показателях(кол-во сообщений, использованных минут и интернет-трафика) у данного тарифа выше дисперсия. Данные более \"размазаны\" вокруг среднего, следовательно, абоненты более склонны тратить больше единиц данных показателей. "
   ]
  }
 ],
 "metadata": {
  "ExecuteTimeLog": [
   {
    "duration": 1131,
    "start_time": "2021-12-14T09:52:23.997Z"
   },
   {
    "duration": 3092,
    "start_time": "2021-12-14T09:53:27.075Z"
   },
   {
    "duration": 509,
    "start_time": "2021-12-14T09:53:36.507Z"
   },
   {
    "duration": 24,
    "start_time": "2021-12-14T09:53:42.842Z"
   },
   {
    "duration": 13,
    "start_time": "2021-12-14T09:53:51.295Z"
   },
   {
    "duration": 12,
    "start_time": "2021-12-14T09:53:53.621Z"
   },
   {
    "duration": 10,
    "start_time": "2021-12-14T09:54:05.971Z"
   },
   {
    "duration": 11,
    "start_time": "2021-12-14T09:54:15.145Z"
   },
   {
    "duration": 10,
    "start_time": "2021-12-14T09:54:22.195Z"
   },
   {
    "duration": 141,
    "start_time": "2021-12-14T09:54:37.061Z"
   },
   {
    "duration": 15,
    "start_time": "2021-12-14T09:54:41.854Z"
   },
   {
    "duration": 491,
    "start_time": "2021-12-14T10:00:26.054Z"
   },
   {
    "duration": 168,
    "start_time": "2021-12-14T10:01:22.110Z"
   },
   {
    "duration": 366,
    "start_time": "2021-12-14T10:01:25.995Z"
   },
   {
    "duration": 23,
    "start_time": "2021-12-14T10:01:34.028Z"
   },
   {
    "duration": 23,
    "start_time": "2021-12-14T10:01:44.333Z"
   },
   {
    "duration": 381,
    "start_time": "2021-12-14T10:01:49.104Z"
   },
   {
    "duration": 22,
    "start_time": "2021-12-14T10:01:52.378Z"
   },
   {
    "duration": 24,
    "start_time": "2021-12-14T10:02:03.272Z"
   },
   {
    "duration": 51,
    "start_time": "2021-12-14T10:02:09.994Z"
   },
   {
    "duration": 23,
    "start_time": "2021-12-14T10:02:16.466Z"
   },
   {
    "duration": 67,
    "start_time": "2021-12-14T10:02:39.769Z"
   },
   {
    "duration": 67,
    "start_time": "2021-12-14T10:02:47.896Z"
   },
   {
    "duration": 6,
    "start_time": "2021-12-14T10:04:58.198Z"
   },
   {
    "duration": 6,
    "start_time": "2021-12-14T10:05:02.514Z"
   },
   {
    "duration": 495,
    "start_time": "2021-12-14T10:05:07.115Z"
   },
   {
    "duration": 19,
    "start_time": "2021-12-14T10:05:07.615Z"
   },
   {
    "duration": 48,
    "start_time": "2021-12-14T10:05:27.567Z"
   },
   {
    "duration": 43,
    "start_time": "2021-12-14T10:05:32.615Z"
   },
   {
    "duration": 27,
    "start_time": "2021-12-14T10:08:09.996Z"
   },
   {
    "duration": 42,
    "start_time": "2021-12-14T10:09:32.620Z"
   },
   {
    "duration": 4,
    "start_time": "2021-12-14T10:12:45.782Z"
   },
   {
    "duration": 494,
    "start_time": "2021-12-14T10:13:14.624Z"
   },
   {
    "duration": 48,
    "start_time": "2021-12-14T10:13:15.202Z"
   },
   {
    "duration": 27,
    "start_time": "2021-12-14T10:13:17.262Z"
   },
   {
    "duration": 8,
    "start_time": "2021-12-14T10:13:54.160Z"
   },
   {
    "duration": 397,
    "start_time": "2021-12-14T10:15:51.114Z"
   },
   {
    "duration": 391,
    "start_time": "2021-12-14T10:16:59.891Z"
   },
   {
    "duration": 381,
    "start_time": "2021-12-14T10:17:06.705Z"
   },
   {
    "duration": 358,
    "start_time": "2021-12-14T10:18:39.321Z"
   },
   {
    "duration": 127,
    "start_time": "2021-12-14T10:18:49.328Z"
   },
   {
    "duration": 370,
    "start_time": "2021-12-14T10:19:02.926Z"
   },
   {
    "duration": 1771,
    "start_time": "2021-12-14T10:24:17.765Z"
   },
   {
    "duration": 2895,
    "start_time": "2021-12-14T10:25:10.598Z"
   },
   {
    "duration": 481,
    "start_time": "2021-12-14T10:25:38.193Z"
   },
   {
    "duration": 44,
    "start_time": "2021-12-14T10:25:42.124Z"
   },
   {
    "duration": 28,
    "start_time": "2021-12-14T10:25:44.163Z"
   },
   {
    "duration": 2951,
    "start_time": "2021-12-14T10:25:44.672Z"
   },
   {
    "duration": 2772,
    "start_time": "2021-12-14T10:26:01.408Z"
   },
   {
    "duration": 2562,
    "start_time": "2021-12-14T10:26:11.963Z"
   },
   {
    "duration": 63,
    "start_time": "2021-12-14T10:29:56.507Z"
   },
   {
    "duration": 59,
    "start_time": "2021-12-14T10:30:03.400Z"
   },
   {
    "duration": 6248,
    "start_time": "2021-12-14T10:34:45.239Z"
   },
   {
    "duration": 4,
    "start_time": "2021-12-14T10:38:56.666Z"
   },
   {
    "duration": 4,
    "start_time": "2021-12-14T10:39:01.326Z"
   },
   {
    "duration": 6,
    "start_time": "2021-12-14T10:39:06.129Z"
   },
   {
    "duration": 29,
    "start_time": "2021-12-14T10:39:30.537Z"
   },
   {
    "duration": 513,
    "start_time": "2021-12-14T10:39:42.507Z"
   },
   {
    "duration": 36,
    "start_time": "2021-12-14T10:39:44.230Z"
   },
   {
    "duration": 36,
    "start_time": "2021-12-14T10:39:49.863Z"
   },
   {
    "duration": 106,
    "start_time": "2021-12-14T10:39:50.934Z"
   },
   {
    "duration": 38,
    "start_time": "2021-12-14T10:39:51.264Z"
   },
   {
    "duration": 28,
    "start_time": "2021-12-14T10:40:27.031Z"
   },
   {
    "duration": 7,
    "start_time": "2021-12-14T10:40:56.515Z"
   },
   {
    "duration": 534,
    "start_time": "2021-12-14T10:44:18.307Z"
   },
   {
    "duration": 382,
    "start_time": "2021-12-14T10:44:25.565Z"
   },
   {
    "duration": 402,
    "start_time": "2021-12-14T10:45:35.561Z"
   },
   {
    "duration": 371,
    "start_time": "2021-12-14T10:46:59.445Z"
   },
   {
    "duration": 6,
    "start_time": "2021-12-14T10:49:33.514Z"
   },
   {
    "duration": 428,
    "start_time": "2021-12-14T10:51:30.227Z"
   },
   {
    "duration": 362,
    "start_time": "2021-12-14T10:52:03.631Z"
   },
   {
    "duration": 43,
    "start_time": "2021-12-14T10:52:17.774Z"
   },
   {
    "duration": 9764,
    "start_time": "2021-12-14T10:53:50.736Z"
   },
   {
    "duration": 495,
    "start_time": "2021-12-14T10:54:02.252Z"
   },
   {
    "duration": 38,
    "start_time": "2021-12-14T10:54:02.810Z"
   },
   {
    "duration": 68,
    "start_time": "2021-12-14T10:54:03.697Z"
   },
   {
    "duration": 9814,
    "start_time": "2021-12-14T10:54:03.975Z"
   },
   {
    "duration": 62,
    "start_time": "2021-12-14T10:55:15.674Z"
   },
   {
    "duration": 500,
    "start_time": "2021-12-14T10:55:22.974Z"
   },
   {
    "duration": 53,
    "start_time": "2021-12-14T10:55:23.476Z"
   },
   {
    "duration": 72,
    "start_time": "2021-12-14T10:55:24.427Z"
   },
   {
    "duration": 90,
    "start_time": "2021-12-14T10:55:25.011Z"
   },
   {
    "duration": 31,
    "start_time": "2021-12-14T10:55:33.056Z"
   },
   {
    "duration": 20,
    "start_time": "2021-12-14T10:58:33.696Z"
   },
   {
    "duration": 48,
    "start_time": "2021-12-14T10:58:38.665Z"
   },
   {
    "duration": 382,
    "start_time": "2021-12-14T11:00:44.522Z"
   },
   {
    "duration": 6,
    "start_time": "2021-12-14T11:02:22.524Z"
   },
   {
    "duration": 16,
    "start_time": "2021-12-14T11:02:29.695Z"
   },
   {
    "duration": 12,
    "start_time": "2021-12-14T11:02:39.589Z"
   },
   {
    "duration": 52,
    "start_time": "2021-12-14T11:03:35.064Z"
   },
   {
    "duration": 11,
    "start_time": "2021-12-14T11:06:14.189Z"
   },
   {
    "duration": 17,
    "start_time": "2021-12-14T11:06:17.874Z"
   },
   {
    "duration": 529,
    "start_time": "2021-12-14T11:07:43.765Z"
   },
   {
    "duration": 41,
    "start_time": "2021-12-14T11:07:44.296Z"
   },
   {
    "duration": 65,
    "start_time": "2021-12-14T11:07:44.965Z"
   },
   {
    "duration": 87,
    "start_time": "2021-12-14T11:07:45.724Z"
   },
   {
    "duration": 5,
    "start_time": "2021-12-14T11:07:46.419Z"
   },
   {
    "duration": 11,
    "start_time": "2021-12-14T11:07:46.831Z"
   },
   {
    "duration": 7,
    "start_time": "2021-12-14T11:07:48.681Z"
   },
   {
    "duration": 10,
    "start_time": "2021-12-14T11:07:55.083Z"
   },
   {
    "duration": 18,
    "start_time": "2021-12-14T11:07:56.048Z"
   },
   {
    "duration": 139,
    "start_time": "2021-12-14T11:09:05.562Z"
   },
   {
    "duration": 5,
    "start_time": "2021-12-14T11:09:35.040Z"
   },
   {
    "duration": 5,
    "start_time": "2021-12-14T11:10:01.101Z"
   },
   {
    "duration": 46,
    "start_time": "2021-12-14T11:10:05.892Z"
   },
   {
    "duration": 503,
    "start_time": "2021-12-14T11:10:14.063Z"
   },
   {
    "duration": 41,
    "start_time": "2021-12-14T11:10:14.569Z"
   },
   {
    "duration": 84,
    "start_time": "2021-12-14T11:10:14.612Z"
   },
   {
    "duration": 109,
    "start_time": "2021-12-14T11:10:14.698Z"
   },
   {
    "duration": 5,
    "start_time": "2021-12-14T11:10:14.809Z"
   },
   {
    "duration": 11,
    "start_time": "2021-12-14T11:10:14.823Z"
   },
   {
    "duration": 7,
    "start_time": "2021-12-14T11:10:14.988Z"
   },
   {
    "duration": 9,
    "start_time": "2021-12-14T11:10:15.158Z"
   },
   {
    "duration": 5,
    "start_time": "2021-12-14T11:10:15.338Z"
   },
   {
    "duration": 47,
    "start_time": "2021-12-14T11:10:21.743Z"
   },
   {
    "duration": 407,
    "start_time": "2021-12-14T11:10:35.447Z"
   },
   {
    "duration": 5,
    "start_time": "2021-12-14T11:10:39.848Z"
   },
   {
    "duration": 42,
    "start_time": "2021-12-14T11:10:42.788Z"
   },
   {
    "duration": 45,
    "start_time": "2021-12-14T11:10:47.476Z"
   },
   {
    "duration": 500,
    "start_time": "2021-12-14T11:12:31.508Z"
   },
   {
    "duration": 39,
    "start_time": "2021-12-14T11:12:32.680Z"
   },
   {
    "duration": 63,
    "start_time": "2021-12-14T11:12:34.862Z"
   },
   {
    "duration": 90,
    "start_time": "2021-12-14T11:12:37.320Z"
   },
   {
    "duration": 380,
    "start_time": "2021-12-14T11:12:41.629Z"
   },
   {
    "duration": 7,
    "start_time": "2021-12-14T11:12:47.451Z"
   },
   {
    "duration": 12,
    "start_time": "2021-12-14T11:12:49.498Z"
   },
   {
    "duration": 5,
    "start_time": "2021-12-14T11:12:53.784Z"
   },
   {
    "duration": 12,
    "start_time": "2021-12-14T11:12:54.863Z"
   },
   {
    "duration": 6,
    "start_time": "2021-12-14T11:13:21.146Z"
   },
   {
    "duration": 11,
    "start_time": "2021-12-14T11:13:23.409Z"
   },
   {
    "duration": 508,
    "start_time": "2021-12-14T11:13:38.370Z"
   },
   {
    "duration": 43,
    "start_time": "2021-12-14T11:13:38.881Z"
   },
   {
    "duration": 65,
    "start_time": "2021-12-14T11:13:39.988Z"
   },
   {
    "duration": 91,
    "start_time": "2021-12-14T11:13:42.666Z"
   },
   {
    "duration": 8,
    "start_time": "2021-12-14T11:13:44.616Z"
   },
   {
    "duration": 12,
    "start_time": "2021-12-14T11:13:47.215Z"
   },
   {
    "duration": 13,
    "start_time": "2021-12-14T11:13:54.709Z"
   },
   {
    "duration": 8,
    "start_time": "2021-12-14T11:13:57.179Z"
   },
   {
    "duration": 5,
    "start_time": "2021-12-14T11:14:20.438Z"
   },
   {
    "duration": 12,
    "start_time": "2021-12-14T11:14:25.228Z"
   },
   {
    "duration": 5,
    "start_time": "2021-12-14T11:14:48.622Z"
   },
   {
    "duration": 7,
    "start_time": "2021-12-14T11:15:02.662Z"
   },
   {
    "duration": 4,
    "start_time": "2021-12-14T11:15:13.919Z"
   },
   {
    "duration": 15,
    "start_time": "2021-12-14T11:15:15.381Z"
   },
   {
    "duration": 5,
    "start_time": "2021-12-14T11:16:11.304Z"
   },
   {
    "duration": 12,
    "start_time": "2021-12-14T11:16:12.235Z"
   },
   {
    "duration": 7,
    "start_time": "2021-12-14T11:16:14.461Z"
   },
   {
    "duration": 11,
    "start_time": "2021-12-14T11:16:36.207Z"
   },
   {
    "duration": 6,
    "start_time": "2021-12-14T11:16:40.169Z"
   },
   {
    "duration": 39,
    "start_time": "2021-12-14T11:16:43.362Z"
   },
   {
    "duration": 59,
    "start_time": "2021-12-14T11:17:34.224Z"
   },
   {
    "duration": 9,
    "start_time": "2021-12-14T11:17:59.350Z"
   },
   {
    "duration": 13,
    "start_time": "2021-12-14T11:18:02.419Z"
   },
   {
    "duration": 9,
    "start_time": "2021-12-14T11:18:16.913Z"
   },
   {
    "duration": 37,
    "start_time": "2021-12-14T11:18:26.259Z"
   },
   {
    "duration": 46,
    "start_time": "2021-12-14T11:18:39.695Z"
   },
   {
    "duration": 7,
    "start_time": "2021-12-14T11:21:01.711Z"
   },
   {
    "duration": 556,
    "start_time": "2021-12-14T11:22:00.746Z"
   },
   {
    "duration": 45,
    "start_time": "2021-12-14T11:22:01.304Z"
   },
   {
    "duration": 67,
    "start_time": "2021-12-14T11:22:02.084Z"
   },
   {
    "duration": 91,
    "start_time": "2021-12-14T11:22:02.901Z"
   },
   {
    "duration": 10,
    "start_time": "2021-12-14T11:22:04.061Z"
   },
   {
    "duration": 12,
    "start_time": "2021-12-14T11:22:04.453Z"
   },
   {
    "duration": 9,
    "start_time": "2021-12-14T11:22:05.131Z"
   },
   {
    "duration": 10,
    "start_time": "2021-12-14T11:22:06.008Z"
   },
   {
    "duration": 9,
    "start_time": "2021-12-14T11:22:06.856Z"
   },
   {
    "duration": -15,
    "start_time": "2021-12-14T11:22:43.641Z"
   },
   {
    "duration": 1820,
    "start_time": "2021-12-14T11:22:46.239Z"
   },
   {
    "duration": 11,
    "start_time": "2021-12-14T11:22:54.164Z"
   },
   {
    "duration": 521,
    "start_time": "2021-12-14T11:24:55.240Z"
   },
   {
    "duration": 44,
    "start_time": "2021-12-14T11:24:55.764Z"
   },
   {
    "duration": 85,
    "start_time": "2021-12-14T11:24:56.069Z"
   },
   {
    "duration": 88,
    "start_time": "2021-12-14T11:24:57.171Z"
   },
   {
    "duration": 12,
    "start_time": "2021-12-14T11:25:00.953Z"
   },
   {
    "duration": 86,
    "start_time": "2021-12-14T11:33:13.312Z"
   },
   {
    "duration": 38,
    "start_time": "2021-12-14T11:33:17.901Z"
   },
   {
    "duration": 524,
    "start_time": "2021-12-14T11:33:36.480Z"
   },
   {
    "duration": 47,
    "start_time": "2021-12-14T11:33:37.007Z"
   },
   {
    "duration": 70,
    "start_time": "2021-12-14T11:33:37.468Z"
   },
   {
    "duration": 154,
    "start_time": "2021-12-14T11:33:39.972Z"
   },
   {
    "duration": 494,
    "start_time": "2021-12-14T11:34:01.514Z"
   },
   {
    "duration": 47,
    "start_time": "2021-12-14T11:34:02.010Z"
   },
   {
    "duration": 62,
    "start_time": "2021-12-14T11:34:02.585Z"
   },
   {
    "duration": 485,
    "start_time": "2021-12-14T11:34:08.364Z"
   },
   {
    "duration": 120,
    "start_time": "2021-12-14T11:34:14.008Z"
   },
   {
    "duration": 38,
    "start_time": "2021-12-14T11:34:17.587Z"
   },
   {
    "duration": 76,
    "start_time": "2021-12-14T11:34:33.912Z"
   },
   {
    "duration": 537,
    "start_time": "2021-12-14T11:34:37.045Z"
   },
   {
    "duration": 48,
    "start_time": "2021-12-14T11:34:37.585Z"
   },
   {
    "duration": 115,
    "start_time": "2021-12-14T11:34:37.637Z"
   },
   {
    "duration": 160,
    "start_time": "2021-12-14T11:34:38.042Z"
   },
   {
    "duration": 9,
    "start_time": "2021-12-14T11:34:39.520Z"
   },
   {
    "duration": 45,
    "start_time": "2021-12-14T11:34:47.912Z"
   },
   {
    "duration": 86,
    "start_time": "2021-12-14T11:35:11.900Z"
   },
   {
    "duration": 10,
    "start_time": "2021-12-14T11:35:13.334Z"
   },
   {
    "duration": 13,
    "start_time": "2021-12-14T11:35:13.620Z"
   },
   {
    "duration": 10,
    "start_time": "2021-12-14T11:35:13.951Z"
   },
   {
    "duration": 12,
    "start_time": "2021-12-14T11:35:15.500Z"
   },
   {
    "duration": 8,
    "start_time": "2021-12-14T11:35:16.282Z"
   },
   {
    "duration": 482,
    "start_time": "2021-12-14T11:36:11.029Z"
   },
   {
    "duration": 397,
    "start_time": "2021-12-14T11:36:30.865Z"
   },
   {
    "duration": 17,
    "start_time": "2021-12-14T11:36:53.488Z"
   },
   {
    "duration": 396,
    "start_time": "2021-12-14T11:37:01.254Z"
   },
   {
    "duration": 374,
    "start_time": "2021-12-14T11:37:16.730Z"
   },
   {
    "duration": 22,
    "start_time": "2021-12-14T11:38:16.454Z"
   },
   {
    "duration": 20,
    "start_time": "2021-12-14T11:38:23.915Z"
   },
   {
    "duration": 41,
    "start_time": "2021-12-14T11:39:37.582Z"
   },
   {
    "duration": 34,
    "start_time": "2021-12-14T11:39:59.191Z"
   },
   {
    "duration": 34,
    "start_time": "2021-12-14T11:43:04.515Z"
   },
   {
    "duration": 41,
    "start_time": "2021-12-14T11:43:14.904Z"
   },
   {
    "duration": 38,
    "start_time": "2021-12-14T11:43:16.640Z"
   },
   {
    "duration": 1573,
    "start_time": "2021-12-14T11:43:55.414Z"
   },
   {
    "duration": 82,
    "start_time": "2021-12-14T11:44:00.878Z"
   },
   {
    "duration": 40,
    "start_time": "2021-12-14T11:44:40.412Z"
   },
   {
    "duration": 23,
    "start_time": "2021-12-14T11:44:57.168Z"
   },
   {
    "duration": 26,
    "start_time": "2021-12-14T11:45:03.147Z"
   },
   {
    "duration": 28,
    "start_time": "2021-12-14T11:45:07.091Z"
   },
   {
    "duration": 3,
    "start_time": "2021-12-14T11:46:40.413Z"
   },
   {
    "duration": 3,
    "start_time": "2021-12-14T11:46:40.720Z"
   },
   {
    "duration": 387,
    "start_time": "2021-12-14T11:47:05.063Z"
   },
   {
    "duration": 11,
    "start_time": "2021-12-14T11:47:13.390Z"
   },
   {
    "duration": 15,
    "start_time": "2021-12-14T11:47:18.378Z"
   },
   {
    "duration": 12,
    "start_time": "2021-12-14T11:47:39.013Z"
   },
   {
    "duration": 13,
    "start_time": "2021-12-14T11:47:41.107Z"
   },
   {
    "duration": 12,
    "start_time": "2021-12-14T11:47:44.140Z"
   },
   {
    "duration": 14,
    "start_time": "2021-12-14T11:47:44.576Z"
   },
   {
    "duration": 483,
    "start_time": "2021-12-14T11:47:47.399Z"
   },
   {
    "duration": 44,
    "start_time": "2021-12-14T11:47:47.885Z"
   },
   {
    "duration": 64,
    "start_time": "2021-12-14T11:47:48.201Z"
   },
   {
    "duration": 153,
    "start_time": "2021-12-14T11:47:48.371Z"
   },
   {
    "duration": 9,
    "start_time": "2021-12-14T11:47:49.620Z"
   },
   {
    "duration": 12,
    "start_time": "2021-12-14T11:47:49.781Z"
   },
   {
    "duration": 7,
    "start_time": "2021-12-14T11:47:50.148Z"
   },
   {
    "duration": 11,
    "start_time": "2021-12-14T11:47:51.782Z"
   },
   {
    "duration": 9,
    "start_time": "2021-12-14T11:47:52.125Z"
   },
   {
    "duration": 3,
    "start_time": "2021-12-14T11:47:54.982Z"
   },
   {
    "duration": 3,
    "start_time": "2021-12-14T11:47:55.369Z"
   },
   {
    "duration": 25,
    "start_time": "2021-12-14T11:47:56.279Z"
   },
   {
    "duration": 18,
    "start_time": "2021-12-14T11:47:57.606Z"
   },
   {
    "duration": 14,
    "start_time": "2021-12-14T11:48:02.227Z"
   },
   {
    "duration": 54,
    "start_time": "2021-12-14T11:49:58.127Z"
   },
   {
    "duration": 407,
    "start_time": "2021-12-14T11:51:12.420Z"
   },
   {
    "duration": 10244,
    "start_time": "2021-12-14T11:51:23.674Z"
   },
   {
    "duration": 12,
    "start_time": "2021-12-14T11:51:42.548Z"
   },
   {
    "duration": 7,
    "start_time": "2021-12-14T11:51:50.352Z"
   },
   {
    "duration": 26,
    "start_time": "2021-12-14T11:51:53.671Z"
   },
   {
    "duration": 11,
    "start_time": "2021-12-14T11:52:23.439Z"
   },
   {
    "duration": 19,
    "start_time": "2021-12-14T11:53:48.082Z"
   },
   {
    "duration": 16,
    "start_time": "2021-12-14T11:53:52.844Z"
   },
   {
    "duration": 28,
    "start_time": "2021-12-14T11:54:32.646Z"
   },
   {
    "duration": 41,
    "start_time": "2021-12-14T11:54:52.313Z"
   },
   {
    "duration": 38,
    "start_time": "2021-12-14T11:54:52.785Z"
   },
   {
    "duration": 44,
    "start_time": "2021-12-14T11:54:58.334Z"
   },
   {
    "duration": 114,
    "start_time": "2021-12-14T11:55:26.644Z"
   },
   {
    "duration": 29,
    "start_time": "2021-12-14T11:55:33.921Z"
   },
   {
    "duration": 20,
    "start_time": "2021-12-14T11:55:35.331Z"
   },
   {
    "duration": 35,
    "start_time": "2021-12-14T11:56:23.953Z"
   },
   {
    "duration": 14,
    "start_time": "2021-12-14T11:56:29.494Z"
   },
   {
    "duration": 17,
    "start_time": "2021-12-14T11:56:39.005Z"
   },
   {
    "duration": 47,
    "start_time": "2021-12-14T11:56:54.194Z"
   },
   {
    "duration": 17,
    "start_time": "2021-12-14T11:56:55.135Z"
   },
   {
    "duration": 10,
    "start_time": "2021-12-14T11:57:01.900Z"
   },
   {
    "duration": 45,
    "start_time": "2021-12-14T11:58:29.106Z"
   },
   {
    "duration": 11,
    "start_time": "2021-12-14T11:58:29.960Z"
   },
   {
    "duration": 41,
    "start_time": "2021-12-14T11:59:31.376Z"
   },
   {
    "duration": 58,
    "start_time": "2021-12-14T12:00:06.038Z"
   },
   {
    "duration": 52,
    "start_time": "2021-12-14T12:00:29.668Z"
   },
   {
    "duration": 51,
    "start_time": "2021-12-14T12:00:55.963Z"
   },
   {
    "duration": 29,
    "start_time": "2021-12-14T12:01:05.085Z"
   },
   {
    "duration": 49,
    "start_time": "2021-12-14T12:01:17.629Z"
   },
   {
    "duration": 26,
    "start_time": "2021-12-14T12:01:19.099Z"
   },
   {
    "duration": 32,
    "start_time": "2021-12-14T12:02:13.327Z"
   },
   {
    "duration": 18,
    "start_time": "2021-12-14T12:02:18.154Z"
   },
   {
    "duration": 18,
    "start_time": "2021-12-14T12:07:14.718Z"
   },
   {
    "duration": 557,
    "start_time": "2021-12-14T13:31:31.138Z"
   },
   {
    "duration": 44,
    "start_time": "2021-12-14T13:31:31.698Z"
   },
   {
    "duration": 63,
    "start_time": "2021-12-14T13:31:32.493Z"
   },
   {
    "duration": 158,
    "start_time": "2021-12-14T13:31:33.444Z"
   },
   {
    "duration": 12,
    "start_time": "2021-12-14T13:31:34.561Z"
   },
   {
    "duration": 14,
    "start_time": "2021-12-14T13:31:34.969Z"
   },
   {
    "duration": 6,
    "start_time": "2021-12-14T13:31:35.735Z"
   },
   {
    "duration": 13,
    "start_time": "2021-12-14T13:31:36.413Z"
   },
   {
    "duration": 9,
    "start_time": "2021-12-14T13:31:36.929Z"
   },
   {
    "duration": 3,
    "start_time": "2021-12-14T13:31:40.088Z"
   },
   {
    "duration": 58,
    "start_time": "2021-12-14T13:31:40.578Z"
   },
   {
    "duration": 18,
    "start_time": "2021-12-14T13:31:42.576Z"
   },
   {
    "duration": 18,
    "start_time": "2021-12-14T13:33:13.219Z"
   },
   {
    "duration": 14,
    "start_time": "2021-12-14T13:33:19.739Z"
   },
   {
    "duration": 15,
    "start_time": "2021-12-14T13:34:24.641Z"
   },
   {
    "duration": 13,
    "start_time": "2021-12-14T13:34:25.251Z"
   },
   {
    "duration": 843,
    "start_time": "2021-12-14T13:35:39.669Z"
   },
   {
    "duration": 387,
    "start_time": "2021-12-14T13:35:48.121Z"
   },
   {
    "duration": 401,
    "start_time": "2021-12-14T13:36:02.615Z"
   },
   {
    "duration": 58,
    "start_time": "2021-12-14T13:37:07.366Z"
   },
   {
    "duration": 18,
    "start_time": "2021-12-14T13:37:08.903Z"
   },
   {
    "duration": 439,
    "start_time": "2021-12-14T13:37:10.684Z"
   },
   {
    "duration": 49,
    "start_time": "2021-12-14T13:37:16.250Z"
   },
   {
    "duration": 23,
    "start_time": "2021-12-14T13:37:22.920Z"
   },
   {
    "duration": 31,
    "start_time": "2021-12-14T13:37:27.096Z"
   },
   {
    "duration": 23,
    "start_time": "2021-12-14T13:38:18.560Z"
   },
   {
    "duration": 43,
    "start_time": "2021-12-14T13:39:36.774Z"
   },
   {
    "duration": 18,
    "start_time": "2021-12-14T13:39:45.576Z"
   },
   {
    "duration": 24,
    "start_time": "2021-12-14T13:39:58.852Z"
   },
   {
    "duration": 35,
    "start_time": "2021-12-14T13:40:03.115Z"
   },
   {
    "duration": 12,
    "start_time": "2021-12-14T13:45:22.034Z"
   },
   {
    "duration": 521,
    "start_time": "2021-12-14T13:46:44.491Z"
   },
   {
    "duration": 3,
    "start_time": "2021-12-14T13:46:50.320Z"
   },
   {
    "duration": 51,
    "start_time": "2021-12-14T13:47:29.710Z"
   },
   {
    "duration": 19,
    "start_time": "2021-12-14T13:47:31.184Z"
   },
   {
    "duration": 24,
    "start_time": "2021-12-14T13:47:33.514Z"
   },
   {
    "duration": 26,
    "start_time": "2021-12-14T13:47:35.493Z"
   },
   {
    "duration": 45,
    "start_time": "2021-12-14T13:47:42.905Z"
   },
   {
    "duration": 11,
    "start_time": "2021-12-14T13:47:53.888Z"
   },
   {
    "duration": 38,
    "start_time": "2021-12-14T13:47:55.686Z"
   },
   {
    "duration": 40,
    "start_time": "2021-12-14T13:49:15.091Z"
   },
   {
    "duration": 48,
    "start_time": "2021-12-14T13:49:40.945Z"
   },
   {
    "duration": 19,
    "start_time": "2021-12-14T13:49:42.291Z"
   },
   {
    "duration": 24,
    "start_time": "2021-12-14T13:49:44.361Z"
   },
   {
    "duration": 25,
    "start_time": "2021-12-14T13:49:45.031Z"
   },
   {
    "duration": 7,
    "start_time": "2021-12-14T13:49:46.449Z"
   },
   {
    "duration": 12,
    "start_time": "2021-12-14T13:49:51.344Z"
   },
   {
    "duration": 37,
    "start_time": "2021-12-14T13:49:52.306Z"
   },
   {
    "duration": 49,
    "start_time": "2021-12-14T13:50:54.483Z"
   },
   {
    "duration": 23,
    "start_time": "2021-12-14T13:51:03.562Z"
   },
   {
    "duration": 23,
    "start_time": "2021-12-14T13:51:07.746Z"
   },
   {
    "duration": 39,
    "start_time": "2021-12-14T13:51:14.374Z"
   },
   {
    "duration": 28,
    "start_time": "2021-12-14T13:53:22.672Z"
   },
   {
    "duration": 3,
    "start_time": "2021-12-14T13:53:26.566Z"
   },
   {
    "duration": 4,
    "start_time": "2021-12-14T13:53:30.315Z"
   },
   {
    "duration": 518,
    "start_time": "2021-12-14T13:55:54.768Z"
   },
   {
    "duration": 44,
    "start_time": "2021-12-14T13:55:55.288Z"
   },
   {
    "duration": 63,
    "start_time": "2021-12-14T13:55:55.538Z"
   },
   {
    "duration": 156,
    "start_time": "2021-12-14T13:55:56.013Z"
   },
   {
    "duration": 10,
    "start_time": "2021-12-14T13:55:57.140Z"
   },
   {
    "duration": 12,
    "start_time": "2021-12-14T13:55:57.542Z"
   },
   {
    "duration": 7,
    "start_time": "2021-12-14T13:55:57.929Z"
   },
   {
    "duration": 13,
    "start_time": "2021-12-14T13:55:58.288Z"
   },
   {
    "duration": 8,
    "start_time": "2021-12-14T13:55:58.652Z"
   },
   {
    "duration": 3,
    "start_time": "2021-12-14T13:55:59.131Z"
   },
   {
    "duration": 59,
    "start_time": "2021-12-14T13:55:59.306Z"
   },
   {
    "duration": 53,
    "start_time": "2021-12-14T13:56:51.345Z"
   },
   {
    "duration": 19,
    "start_time": "2021-12-14T13:56:52.643Z"
   },
   {
    "duration": 23,
    "start_time": "2021-12-14T13:57:10.689Z"
   },
   {
    "duration": 26,
    "start_time": "2021-12-14T13:57:23.167Z"
   },
   {
    "duration": 365,
    "start_time": "2021-12-14T13:57:28.647Z"
   },
   {
    "duration": 3,
    "start_time": "2021-12-14T13:57:42.144Z"
   },
   {
    "duration": 51,
    "start_time": "2021-12-14T13:57:47.975Z"
   },
   {
    "duration": 18,
    "start_time": "2021-12-14T13:57:49.596Z"
   },
   {
    "duration": 23,
    "start_time": "2021-12-14T13:57:53.308Z"
   },
   {
    "duration": 30,
    "start_time": "2021-12-14T13:58:00.341Z"
   },
   {
    "duration": 628,
    "start_time": "2021-12-14T13:58:04.816Z"
   },
   {
    "duration": 45,
    "start_time": "2021-12-14T13:58:05.446Z"
   },
   {
    "duration": 85,
    "start_time": "2021-12-14T13:58:05.494Z"
   },
   {
    "duration": 167,
    "start_time": "2021-12-14T13:58:05.581Z"
   },
   {
    "duration": 13,
    "start_time": "2021-12-14T13:58:05.750Z"
   },
   {
    "duration": 11,
    "start_time": "2021-12-14T13:58:05.765Z"
   },
   {
    "duration": 6,
    "start_time": "2021-12-14T13:58:05.779Z"
   },
   {
    "duration": 14,
    "start_time": "2021-12-14T13:58:05.927Z"
   },
   {
    "duration": 10,
    "start_time": "2021-12-14T13:58:06.072Z"
   },
   {
    "duration": 3,
    "start_time": "2021-12-14T13:58:06.320Z"
   },
   {
    "duration": 57,
    "start_time": "2021-12-14T13:58:06.405Z"
   },
   {
    "duration": 17,
    "start_time": "2021-12-14T13:58:09.042Z"
   },
   {
    "duration": 25,
    "start_time": "2021-12-14T13:58:10.301Z"
   },
   {
    "duration": 29,
    "start_time": "2021-12-14T13:58:11.800Z"
   },
   {
    "duration": 25,
    "start_time": "2021-12-14T13:58:25.496Z"
   },
   {
    "duration": 4,
    "start_time": "2021-12-14T13:58:26.982Z"
   },
   {
    "duration": 3,
    "start_time": "2021-12-14T13:58:29.160Z"
   },
   {
    "duration": 391,
    "start_time": "2021-12-14T13:58:34.582Z"
   },
   {
    "duration": 524,
    "start_time": "2021-12-14T13:58:42.545Z"
   },
   {
    "duration": 44,
    "start_time": "2021-12-14T13:58:43.072Z"
   },
   {
    "duration": 81,
    "start_time": "2021-12-14T13:58:43.119Z"
   },
   {
    "duration": 177,
    "start_time": "2021-12-14T13:58:43.202Z"
   },
   {
    "duration": 10,
    "start_time": "2021-12-14T13:58:43.382Z"
   },
   {
    "duration": 12,
    "start_time": "2021-12-14T13:58:43.395Z"
   },
   {
    "duration": 8,
    "start_time": "2021-12-14T13:58:43.560Z"
   },
   {
    "duration": 13,
    "start_time": "2021-12-14T13:58:43.719Z"
   },
   {
    "duration": 9,
    "start_time": "2021-12-14T13:58:43.886Z"
   },
   {
    "duration": 3,
    "start_time": "2021-12-14T13:58:44.803Z"
   },
   {
    "duration": 61,
    "start_time": "2021-12-14T13:58:46.471Z"
   },
   {
    "duration": 18,
    "start_time": "2021-12-14T13:58:48.232Z"
   },
   {
    "duration": 25,
    "start_time": "2021-12-14T13:58:50.404Z"
   },
   {
    "duration": 23,
    "start_time": "2021-12-14T13:58:52.882Z"
   },
   {
    "duration": 32,
    "start_time": "2021-12-14T13:58:53.556Z"
   },
   {
    "duration": 31,
    "start_time": "2021-12-14T13:59:33.235Z"
   },
   {
    "duration": 33,
    "start_time": "2021-12-14T13:59:33.979Z"
   },
   {
    "duration": 515,
    "start_time": "2021-12-14T13:59:59.584Z"
   },
   {
    "duration": 46,
    "start_time": "2021-12-14T14:00:00.101Z"
   },
   {
    "duration": 63,
    "start_time": "2021-12-14T14:00:00.283Z"
   },
   {
    "duration": 158,
    "start_time": "2021-12-14T14:00:00.644Z"
   },
   {
    "duration": 11,
    "start_time": "2021-12-14T14:00:01.312Z"
   },
   {
    "duration": 14,
    "start_time": "2021-12-14T14:00:01.400Z"
   },
   {
    "duration": 8,
    "start_time": "2021-12-14T14:00:01.585Z"
   },
   {
    "duration": 13,
    "start_time": "2021-12-14T14:00:02.603Z"
   },
   {
    "duration": 11,
    "start_time": "2021-12-14T14:00:02.922Z"
   },
   {
    "duration": 3,
    "start_time": "2021-12-14T14:00:03.314Z"
   },
   {
    "duration": 57,
    "start_time": "2021-12-14T14:00:03.910Z"
   },
   {
    "duration": 18,
    "start_time": "2021-12-14T14:00:04.935Z"
   },
   {
    "duration": 26,
    "start_time": "2021-12-14T14:00:07.540Z"
   },
   {
    "duration": 19,
    "start_time": "2021-12-14T14:00:09.005Z"
   },
   {
    "duration": 17,
    "start_time": "2021-12-14T14:00:09.500Z"
   },
   {
    "duration": 32,
    "start_time": "2021-12-14T14:00:18.887Z"
   },
   {
    "duration": 23,
    "start_time": "2021-12-14T14:00:27.635Z"
   },
   {
    "duration": 15,
    "start_time": "2021-12-14T14:00:28.450Z"
   },
   {
    "duration": 35,
    "start_time": "2021-12-14T14:00:29.099Z"
   },
   {
    "duration": 26,
    "start_time": "2021-12-14T14:00:37.210Z"
   },
   {
    "duration": 13,
    "start_time": "2021-12-14T14:00:37.617Z"
   },
   {
    "duration": 35,
    "start_time": "2021-12-14T14:00:38.389Z"
   },
   {
    "duration": 526,
    "start_time": "2021-12-14T14:00:54.023Z"
   },
   {
    "duration": 46,
    "start_time": "2021-12-14T14:00:54.552Z"
   },
   {
    "duration": 89,
    "start_time": "2021-12-14T14:00:54.600Z"
   },
   {
    "duration": 175,
    "start_time": "2021-12-14T14:00:54.691Z"
   },
   {
    "duration": 8,
    "start_time": "2021-12-14T14:00:54.869Z"
   },
   {
    "duration": 12,
    "start_time": "2021-12-14T14:00:54.879Z"
   },
   {
    "duration": 7,
    "start_time": "2021-12-14T14:00:55.405Z"
   },
   {
    "duration": 13,
    "start_time": "2021-12-14T14:00:55.861Z"
   },
   {
    "duration": 9,
    "start_time": "2021-12-14T14:00:56.536Z"
   },
   {
    "duration": 3,
    "start_time": "2021-12-14T14:00:57.446Z"
   },
   {
    "duration": 54,
    "start_time": "2021-12-14T14:00:57.859Z"
   },
   {
    "duration": 48,
    "start_time": "2021-12-14T14:01:10.823Z"
   },
   {
    "duration": 17,
    "start_time": "2021-12-14T14:01:11.428Z"
   },
   {
    "duration": 24,
    "start_time": "2021-12-14T14:01:18.539Z"
   },
   {
    "duration": 24,
    "start_time": "2021-12-14T14:01:21.363Z"
   },
   {
    "duration": 53,
    "start_time": "2021-12-14T14:02:01.017Z"
   },
   {
    "duration": 528,
    "start_time": "2021-12-14T14:02:05.903Z"
   },
   {
    "duration": 42,
    "start_time": "2021-12-14T14:02:06.434Z"
   },
   {
    "duration": 62,
    "start_time": "2021-12-14T14:02:06.479Z"
   },
   {
    "duration": 153,
    "start_time": "2021-12-14T14:02:06.732Z"
   },
   {
    "duration": 10,
    "start_time": "2021-12-14T14:02:07.110Z"
   },
   {
    "duration": 13,
    "start_time": "2021-12-14T14:02:07.227Z"
   },
   {
    "duration": 7,
    "start_time": "2021-12-14T14:02:07.617Z"
   },
   {
    "duration": 13,
    "start_time": "2021-12-14T14:02:07.968Z"
   },
   {
    "duration": 9,
    "start_time": "2021-12-14T14:02:08.382Z"
   },
   {
    "duration": 61,
    "start_time": "2021-12-14T14:02:11.370Z"
   },
   {
    "duration": 19,
    "start_time": "2021-12-14T14:02:15.303Z"
   },
   {
    "duration": 28,
    "start_time": "2021-12-14T14:02:28.020Z"
   },
   {
    "duration": 28,
    "start_time": "2021-12-14T14:02:35.661Z"
   },
   {
    "duration": 36,
    "start_time": "2021-12-14T14:02:36.949Z"
   },
   {
    "duration": 394,
    "start_time": "2021-12-14T14:04:23.118Z"
   },
   {
    "duration": 35,
    "start_time": "2021-12-14T14:04:23.773Z"
   },
   {
    "duration": 33,
    "start_time": "2021-12-14T14:04:30.659Z"
   },
   {
    "duration": 41,
    "start_time": "2021-12-14T14:04:32.430Z"
   },
   {
    "duration": 33,
    "start_time": "2021-12-14T14:05:42.772Z"
   },
   {
    "duration": 39,
    "start_time": "2021-12-14T14:05:45.248Z"
   },
   {
    "duration": 505,
    "start_time": "2021-12-14T14:06:08.727Z"
   },
   {
    "duration": 44,
    "start_time": "2021-12-14T14:06:09.310Z"
   },
   {
    "duration": 66,
    "start_time": "2021-12-14T14:06:09.977Z"
   },
   {
    "duration": 157,
    "start_time": "2021-12-14T14:06:10.457Z"
   },
   {
    "duration": 9,
    "start_time": "2021-12-14T14:06:11.042Z"
   },
   {
    "duration": 12,
    "start_time": "2021-12-14T14:06:11.250Z"
   },
   {
    "duration": 7,
    "start_time": "2021-12-14T14:06:11.733Z"
   },
   {
    "duration": 12,
    "start_time": "2021-12-14T14:06:12.182Z"
   },
   {
    "duration": 10,
    "start_time": "2021-12-14T14:06:12.605Z"
   },
   {
    "duration": 55,
    "start_time": "2021-12-14T14:06:13.233Z"
   },
   {
    "duration": 19,
    "start_time": "2021-12-14T14:06:14.349Z"
   },
   {
    "duration": 23,
    "start_time": "2021-12-14T14:06:16.984Z"
   },
   {
    "duration": 27,
    "start_time": "2021-12-14T14:07:09.970Z"
   },
   {
    "duration": 32,
    "start_time": "2021-12-14T14:07:10.715Z"
   },
   {
    "duration": 21,
    "start_time": "2021-12-14T14:07:21.997Z"
   },
   {
    "duration": 14,
    "start_time": "2021-12-14T14:07:26.255Z"
   },
   {
    "duration": 25,
    "start_time": "2021-12-14T14:07:30.575Z"
   },
   {
    "duration": 979,
    "start_time": "2021-12-15T08:42:59.590Z"
   },
   {
    "duration": 32,
    "start_time": "2021-12-15T08:43:00.570Z"
   },
   {
    "duration": 48,
    "start_time": "2021-12-15T08:43:01.820Z"
   },
   {
    "duration": 115,
    "start_time": "2021-12-15T08:43:11.237Z"
   },
   {
    "duration": 9,
    "start_time": "2021-12-15T08:43:12.524Z"
   },
   {
    "duration": 10,
    "start_time": "2021-12-15T08:43:13.094Z"
   },
   {
    "duration": 6,
    "start_time": "2021-12-15T08:43:14.072Z"
   },
   {
    "duration": 14,
    "start_time": "2021-12-15T08:43:16.350Z"
   },
   {
    "duration": 9,
    "start_time": "2021-12-15T08:43:18.225Z"
   },
   {
    "duration": 44,
    "start_time": "2021-12-15T08:43:22.318Z"
   },
   {
    "duration": 13,
    "start_time": "2021-12-15T08:43:24.202Z"
   },
   {
    "duration": 18,
    "start_time": "2021-12-15T08:43:27.625Z"
   },
   {
    "duration": 20,
    "start_time": "2021-12-15T08:43:29.775Z"
   },
   {
    "duration": 13,
    "start_time": "2021-12-15T08:43:30.589Z"
   },
   {
    "duration": 13,
    "start_time": "2021-12-15T08:43:33.298Z"
   },
   {
    "duration": 17,
    "start_time": "2021-12-15T08:43:34.047Z"
   },
   {
    "duration": 8,
    "start_time": "2021-12-15T08:43:36.741Z"
   },
   {
    "duration": 313,
    "start_time": "2021-12-15T08:44:20.242Z"
   },
   {
    "duration": 17,
    "start_time": "2021-12-15T08:44:31.573Z"
   },
   {
    "duration": 93,
    "start_time": "2021-12-15T08:47:00.393Z"
   },
   {
    "duration": 4,
    "start_time": "2021-12-15T08:47:08.163Z"
   },
   {
    "duration": 4,
    "start_time": "2021-12-15T08:50:56.559Z"
   },
   {
    "duration": 538,
    "start_time": "2021-12-15T08:51:12.978Z"
   },
   {
    "duration": 4,
    "start_time": "2021-12-15T08:51:35.126Z"
   },
   {
    "duration": 536,
    "start_time": "2021-12-15T08:51:36.582Z"
   },
   {
    "duration": 4,
    "start_time": "2021-12-15T08:51:47.764Z"
   },
   {
    "duration": 183,
    "start_time": "2021-12-15T08:51:48.459Z"
   },
   {
    "duration": 21,
    "start_time": "2021-12-15T08:51:53.879Z"
   },
   {
    "duration": 987,
    "start_time": "2021-12-16T06:13:24.214Z"
   },
   {
    "duration": 28,
    "start_time": "2021-12-16T06:13:25.203Z"
   },
   {
    "duration": 46,
    "start_time": "2021-12-16T06:13:25.232Z"
   },
   {
    "duration": 114,
    "start_time": "2021-12-16T06:13:25.475Z"
   },
   {
    "duration": 9,
    "start_time": "2021-12-16T06:13:26.071Z"
   },
   {
    "duration": 8,
    "start_time": "2021-12-16T06:13:26.251Z"
   },
   {
    "duration": 5,
    "start_time": "2021-12-16T06:13:26.702Z"
   },
   {
    "duration": 16,
    "start_time": "2021-12-16T06:13:27.103Z"
   },
   {
    "duration": 9,
    "start_time": "2021-12-16T06:13:27.467Z"
   },
   {
    "duration": 45,
    "start_time": "2021-12-16T06:13:28.054Z"
   },
   {
    "duration": 12,
    "start_time": "2021-12-16T06:13:28.830Z"
   },
   {
    "duration": 19,
    "start_time": "2021-12-16T06:13:29.277Z"
   },
   {
    "duration": 18,
    "start_time": "2021-12-16T06:13:29.687Z"
   },
   {
    "duration": 12,
    "start_time": "2021-12-16T06:13:29.895Z"
   },
   {
    "duration": 8,
    "start_time": "2021-12-16T06:13:30.558Z"
   },
   {
    "duration": 15,
    "start_time": "2021-12-16T06:13:30.759Z"
   },
   {
    "duration": 7,
    "start_time": "2021-12-16T06:13:30.959Z"
   },
   {
    "duration": 4,
    "start_time": "2021-12-16T06:13:31.167Z"
   },
   {
    "duration": 168,
    "start_time": "2021-12-16T06:13:31.387Z"
   },
   {
    "duration": 20,
    "start_time": "2021-12-16T06:13:31.647Z"
   },
   {
    "duration": 532,
    "start_time": "2021-12-16T06:18:52.763Z"
   },
   {
    "duration": 6966,
    "start_time": "2021-12-16T06:18:54.040Z"
   },
   {
    "duration": 6352,
    "start_time": "2021-12-16T06:19:44.202Z"
   },
   {
    "duration": 2,
    "start_time": "2021-12-16T06:22:07.227Z"
   },
   {
    "duration": 277,
    "start_time": "2021-12-16T06:23:55.888Z"
   },
   {
    "duration": 574,
    "start_time": "2021-12-16T06:25:26.701Z"
   },
   {
    "duration": 362,
    "start_time": "2021-12-16T06:25:48.884Z"
   },
   {
    "duration": 377,
    "start_time": "2021-12-16T06:28:41.130Z"
   },
   {
    "duration": 359,
    "start_time": "2021-12-16T06:28:48.935Z"
   },
   {
    "duration": 408,
    "start_time": "2021-12-16T06:48:18.706Z"
   },
   {
    "duration": 40,
    "start_time": "2021-12-16T06:48:19.447Z"
   },
   {
    "duration": 71,
    "start_time": "2021-12-16T06:48:19.514Z"
   },
   {
    "duration": 123,
    "start_time": "2021-12-16T06:48:19.635Z"
   },
   {
    "duration": 7,
    "start_time": "2021-12-16T06:48:19.824Z"
   },
   {
    "duration": 10,
    "start_time": "2021-12-16T06:48:19.862Z"
   },
   {
    "duration": 6,
    "start_time": "2021-12-16T06:48:19.886Z"
   },
   {
    "duration": 15,
    "start_time": "2021-12-16T06:48:19.905Z"
   },
   {
    "duration": 6,
    "start_time": "2021-12-16T06:48:19.922Z"
   },
   {
    "duration": 65,
    "start_time": "2021-12-16T06:48:19.930Z"
   },
   {
    "duration": 11,
    "start_time": "2021-12-16T06:48:19.996Z"
   },
   {
    "duration": 22,
    "start_time": "2021-12-16T06:48:20.008Z"
   },
   {
    "duration": 41,
    "start_time": "2021-12-16T06:48:20.032Z"
   },
   {
    "duration": 13,
    "start_time": "2021-12-16T06:48:20.075Z"
   },
   {
    "duration": 11,
    "start_time": "2021-12-16T06:48:20.090Z"
   },
   {
    "duration": 16,
    "start_time": "2021-12-16T06:48:20.102Z"
   },
   {
    "duration": 13,
    "start_time": "2021-12-16T06:48:20.119Z"
   },
   {
    "duration": 5,
    "start_time": "2021-12-16T06:48:20.134Z"
   },
   {
    "duration": 194,
    "start_time": "2021-12-16T06:48:20.140Z"
   },
   {
    "duration": 28,
    "start_time": "2021-12-16T06:48:20.336Z"
   },
   {
    "duration": 27,
    "start_time": "2021-12-16T06:52:06.130Z"
   },
   {
    "duration": 34,
    "start_time": "2021-12-16T06:52:06.922Z"
   },
   {
    "duration": 60,
    "start_time": "2021-12-16T06:52:07.424Z"
   },
   {
    "duration": 8,
    "start_time": "2021-12-16T06:52:08.090Z"
   },
   {
    "duration": 9,
    "start_time": "2021-12-16T06:52:08.174Z"
   },
   {
    "duration": 6158,
    "start_time": "2021-12-16T06:52:08.341Z"
   },
   {
    "duration": -85,
    "start_time": "2021-12-16T06:52:14.586Z"
   },
   {
    "duration": -99,
    "start_time": "2021-12-16T06:52:14.601Z"
   },
   {
    "duration": -116,
    "start_time": "2021-12-16T06:52:14.620Z"
   },
   {
    "duration": -128,
    "start_time": "2021-12-16T06:52:14.633Z"
   },
   {
    "duration": -136,
    "start_time": "2021-12-16T06:52:14.643Z"
   },
   {
    "duration": -147,
    "start_time": "2021-12-16T06:52:14.655Z"
   },
   {
    "duration": -158,
    "start_time": "2021-12-16T06:52:14.667Z"
   },
   {
    "duration": 386,
    "start_time": "2021-12-16T06:52:23.554Z"
   },
   {
    "duration": 31,
    "start_time": "2021-12-16T06:52:27.464Z"
   },
   {
    "duration": 50,
    "start_time": "2021-12-16T06:52:28.377Z"
   },
   {
    "duration": 110,
    "start_time": "2021-12-16T06:52:29.305Z"
   },
   {
    "duration": 8,
    "start_time": "2021-12-16T06:52:30.418Z"
   },
   {
    "duration": 10,
    "start_time": "2021-12-16T06:52:30.823Z"
   },
   {
    "duration": 5,
    "start_time": "2021-12-16T06:52:31.703Z"
   },
   {
    "duration": 12,
    "start_time": "2021-12-16T06:52:32.537Z"
   },
   {
    "duration": 8,
    "start_time": "2021-12-16T06:52:32.957Z"
   },
   {
    "duration": 42,
    "start_time": "2021-12-16T06:52:34.361Z"
   },
   {
    "duration": 11,
    "start_time": "2021-12-16T06:52:35.344Z"
   },
   {
    "duration": 18,
    "start_time": "2021-12-16T06:52:37.969Z"
   },
   {
    "duration": 20,
    "start_time": "2021-12-16T06:52:38.649Z"
   },
   {
    "duration": 13,
    "start_time": "2021-12-16T06:52:38.972Z"
   },
   {
    "duration": 9,
    "start_time": "2021-12-16T06:52:40.282Z"
   },
   {
    "duration": 15,
    "start_time": "2021-12-16T06:52:40.861Z"
   },
   {
    "duration": 8,
    "start_time": "2021-12-16T06:52:44.317Z"
   },
   {
    "duration": 5,
    "start_time": "2021-12-16T06:52:45.239Z"
   },
   {
    "duration": 170,
    "start_time": "2021-12-16T06:52:45.651Z"
   },
   {
    "duration": 19,
    "start_time": "2021-12-16T06:52:46.168Z"
   },
   {
    "duration": 3,
    "start_time": "2021-12-16T06:52:48.687Z"
   },
   {
    "duration": 331,
    "start_time": "2021-12-16T06:52:49.212Z"
   },
   {
    "duration": 964,
    "start_time": "2021-12-17T08:55:12.401Z"
   },
   {
    "duration": 28,
    "start_time": "2021-12-17T08:55:13.367Z"
   },
   {
    "duration": 50,
    "start_time": "2021-12-17T08:55:14.318Z"
   },
   {
    "duration": 164,
    "start_time": "2021-12-17T08:55:15.418Z"
   },
   {
    "duration": 13,
    "start_time": "2021-12-17T08:55:16.868Z"
   },
   {
    "duration": 14,
    "start_time": "2021-12-17T08:55:17.263Z"
   },
   {
    "duration": 5,
    "start_time": "2021-12-17T08:55:18.153Z"
   },
   {
    "duration": 13,
    "start_time": "2021-12-17T08:55:19.041Z"
   },
   {
    "duration": 8,
    "start_time": "2021-12-17T08:55:20.034Z"
   },
   {
    "duration": 40,
    "start_time": "2021-12-17T08:55:22.630Z"
   },
   {
    "duration": 12,
    "start_time": "2021-12-17T08:55:24.710Z"
   },
   {
    "duration": 16,
    "start_time": "2021-12-17T08:55:25.930Z"
   },
   {
    "duration": 17,
    "start_time": "2021-12-17T08:55:27.785Z"
   },
   {
    "duration": 12,
    "start_time": "2021-12-17T08:55:28.176Z"
   },
   {
    "duration": 8,
    "start_time": "2021-12-17T08:55:29.550Z"
   },
   {
    "duration": 15,
    "start_time": "2021-12-17T08:55:31.383Z"
   },
   {
    "duration": 7,
    "start_time": "2021-12-17T08:55:33.385Z"
   },
   {
    "duration": 4,
    "start_time": "2021-12-17T08:55:34.156Z"
   },
   {
    "duration": 5,
    "start_time": "2021-12-17T08:55:48.011Z"
   },
   {
    "duration": 190,
    "start_time": "2021-12-17T08:55:48.439Z"
   },
   {
    "duration": 19,
    "start_time": "2021-12-17T08:55:49.255Z"
   },
   {
    "duration": 550,
    "start_time": "2021-12-17T08:55:53.206Z"
   },
   {
    "duration": 496,
    "start_time": "2021-12-17T08:58:00.362Z"
   },
   {
    "duration": 6425,
    "start_time": "2021-12-17T09:01:13.621Z"
   },
   {
    "duration": 39,
    "start_time": "2021-12-17T09:01:22.358Z"
   },
   {
    "duration": 6169,
    "start_time": "2021-12-17T09:01:38.209Z"
   },
   {
    "duration": 6378,
    "start_time": "2021-12-17T09:02:10.069Z"
   },
   {
    "duration": 370,
    "start_time": "2021-12-17T09:02:17.107Z"
   },
   {
    "duration": 35,
    "start_time": "2021-12-17T09:02:17.478Z"
   },
   {
    "duration": 52,
    "start_time": "2021-12-17T09:02:18.456Z"
   },
   {
    "duration": 106,
    "start_time": "2021-12-17T09:02:18.875Z"
   },
   {
    "duration": 7,
    "start_time": "2021-12-17T09:02:19.550Z"
   },
   {
    "duration": 8,
    "start_time": "2021-12-17T09:02:19.726Z"
   },
   {
    "duration": 5,
    "start_time": "2021-12-17T09:02:20.085Z"
   },
   {
    "duration": 9,
    "start_time": "2021-12-17T09:02:20.413Z"
   },
   {
    "duration": 13,
    "start_time": "2021-12-17T09:02:20.786Z"
   },
   {
    "duration": 42,
    "start_time": "2021-12-17T09:02:21.383Z"
   },
   {
    "duration": 11,
    "start_time": "2021-12-17T09:02:23.060Z"
   },
   {
    "duration": 16,
    "start_time": "2021-12-17T09:02:23.735Z"
   },
   {
    "duration": 17,
    "start_time": "2021-12-17T09:02:25.562Z"
   },
   {
    "duration": 12,
    "start_time": "2021-12-17T09:02:25.985Z"
   },
   {
    "duration": 7,
    "start_time": "2021-12-17T09:02:27.960Z"
   },
   {
    "duration": 14,
    "start_time": "2021-12-17T09:02:28.425Z"
   },
   {
    "duration": 8,
    "start_time": "2021-12-17T09:02:29.640Z"
   },
   {
    "duration": 4,
    "start_time": "2021-12-17T09:02:30.265Z"
   },
   {
    "duration": 162,
    "start_time": "2021-12-17T09:02:30.642Z"
   },
   {
    "duration": 17,
    "start_time": "2021-12-17T09:02:31.100Z"
   },
   {
    "duration": 3,
    "start_time": "2021-12-17T09:02:34.130Z"
   },
   {
    "duration": 6370,
    "start_time": "2021-12-17T09:02:34.692Z"
   },
   {
    "duration": 36,
    "start_time": "2021-12-17T09:03:21.054Z"
   },
   {
    "duration": 36,
    "start_time": "2021-12-17T09:03:26.933Z"
   },
   {
    "duration": 298,
    "start_time": "2021-12-17T09:03:47.858Z"
   },
   {
    "duration": 36,
    "start_time": "2021-12-17T09:04:25.923Z"
   },
   {
    "duration": 45,
    "start_time": "2021-12-17T09:04:58.373Z"
   },
   {
    "duration": 6466,
    "start_time": "2021-12-17T09:05:27.559Z"
   },
   {
    "duration": 30,
    "start_time": "2021-12-17T09:05:41.423Z"
   },
   {
    "duration": 81,
    "start_time": "2021-12-17T09:08:45.858Z"
   },
   {
    "duration": 36,
    "start_time": "2021-12-17T09:08:49.738Z"
   },
   {
    "duration": 39,
    "start_time": "2021-12-17T09:08:56.989Z"
   },
   {
    "duration": 44,
    "start_time": "2021-12-17T09:09:10.958Z"
   },
   {
    "duration": 39,
    "start_time": "2021-12-17T09:10:05.599Z"
   },
   {
    "duration": 45,
    "start_time": "2021-12-17T09:10:10.503Z"
   },
   {
    "duration": 43,
    "start_time": "2021-12-17T09:10:15.346Z"
   },
   {
    "duration": 39,
    "start_time": "2021-12-17T09:10:19.435Z"
   },
   {
    "duration": 38,
    "start_time": "2021-12-17T09:10:34.596Z"
   },
   {
    "duration": 254,
    "start_time": "2021-12-17T09:10:55.034Z"
   },
   {
    "duration": 35,
    "start_time": "2021-12-17T09:11:14.400Z"
   },
   {
    "duration": 39,
    "start_time": "2021-12-17T09:11:27.081Z"
   },
   {
    "duration": 34,
    "start_time": "2021-12-17T09:12:16.668Z"
   },
   {
    "duration": 39,
    "start_time": "2021-12-17T09:14:08.898Z"
   },
   {
    "duration": 44,
    "start_time": "2021-12-17T09:14:21.989Z"
   },
   {
    "duration": 44,
    "start_time": "2021-12-17T09:14:36.768Z"
   },
   {
    "duration": 108,
    "start_time": "2021-12-17T09:15:53.920Z"
   },
   {
    "duration": 286,
    "start_time": "2021-12-17T09:15:59.351Z"
   },
   {
    "duration": 699,
    "start_time": "2021-12-17T09:16:14.936Z"
   },
   {
    "duration": 311,
    "start_time": "2021-12-17T09:16:26.020Z"
   },
   {
    "duration": 430,
    "start_time": "2021-12-17T09:16:35.878Z"
   },
   {
    "duration": 343,
    "start_time": "2021-12-17T09:17:50.616Z"
   },
   {
    "duration": 275,
    "start_time": "2021-12-17T09:18:10.975Z"
   },
   {
    "duration": 352,
    "start_time": "2021-12-17T09:18:24.720Z"
   },
   {
    "duration": 365,
    "start_time": "2021-12-17T09:18:28.915Z"
   },
   {
    "duration": 391,
    "start_time": "2021-12-17T09:18:33.201Z"
   },
   {
    "duration": 393,
    "start_time": "2021-12-17T09:18:52.524Z"
   },
   {
    "duration": 355,
    "start_time": "2021-12-17T09:19:47.127Z"
   },
   {
    "duration": 26,
    "start_time": "2021-12-17T09:19:47.704Z"
   },
   {
    "duration": 42,
    "start_time": "2021-12-17T09:19:48.699Z"
   },
   {
    "duration": 109,
    "start_time": "2021-12-17T09:19:50.467Z"
   },
   {
    "duration": 7,
    "start_time": "2021-12-17T09:19:51.637Z"
   },
   {
    "duration": 9,
    "start_time": "2021-12-17T09:19:54.540Z"
   },
   {
    "duration": 5,
    "start_time": "2021-12-17T09:19:55.823Z"
   },
   {
    "duration": 8,
    "start_time": "2021-12-17T09:19:56.838Z"
   },
   {
    "duration": 6,
    "start_time": "2021-12-17T09:19:58.980Z"
   },
   {
    "duration": 38,
    "start_time": "2021-12-17T09:20:04.921Z"
   },
   {
    "duration": 11,
    "start_time": "2021-12-17T09:20:05.988Z"
   },
   {
    "duration": 16,
    "start_time": "2021-12-17T09:20:07.574Z"
   },
   {
    "duration": 17,
    "start_time": "2021-12-17T09:20:09.297Z"
   },
   {
    "duration": 12,
    "start_time": "2021-12-17T09:20:09.909Z"
   },
   {
    "duration": 7,
    "start_time": "2021-12-17T09:20:11.244Z"
   },
   {
    "duration": 14,
    "start_time": "2021-12-17T09:20:11.803Z"
   },
   {
    "duration": 7,
    "start_time": "2021-12-17T09:20:12.261Z"
   },
   {
    "duration": 3,
    "start_time": "2021-12-17T09:20:12.648Z"
   },
   {
    "duration": 164,
    "start_time": "2021-12-17T09:20:13.342Z"
   },
   {
    "duration": 18,
    "start_time": "2021-12-17T09:20:15.419Z"
   },
   {
    "duration": 2,
    "start_time": "2021-12-17T09:20:22.702Z"
   },
   {
    "duration": 305,
    "start_time": "2021-12-17T09:20:23.243Z"
   },
   {
    "duration": 557,
    "start_time": "2021-12-17T09:20:37.232Z"
   },
   {
    "duration": 404,
    "start_time": "2021-12-17T09:20:41.761Z"
   },
   {
    "duration": 429,
    "start_time": "2021-12-17T09:20:50.497Z"
   },
   {
    "duration": 489,
    "start_time": "2021-12-17T09:20:56.083Z"
   },
   {
    "duration": 939,
    "start_time": "2021-12-17T09:21:10.504Z"
   },
   {
    "duration": 1053,
    "start_time": "2021-12-17T09:21:22.352Z"
   },
   {
    "duration": 261,
    "start_time": "2021-12-17T09:21:47.759Z"
   },
   {
    "duration": 261,
    "start_time": "2021-12-17T09:22:08.908Z"
   },
   {
    "duration": 1055,
    "start_time": "2021-12-17T09:22:14.600Z"
   },
   {
    "duration": 796,
    "start_time": "2021-12-17T09:22:33.350Z"
   },
   {
    "duration": 803,
    "start_time": "2021-12-17T09:22:43.838Z"
   },
   {
    "duration": 1267,
    "start_time": "2021-12-17T09:23:32.396Z"
   },
   {
    "duration": 1477,
    "start_time": "2021-12-17T09:23:48.958Z"
   },
   {
    "duration": 683,
    "start_time": "2021-12-17T09:24:04.339Z"
   },
   {
    "duration": 342,
    "start_time": "2021-12-17T09:24:11.488Z"
   },
   {
    "duration": 471,
    "start_time": "2021-12-17T09:24:38.372Z"
   },
   {
    "duration": 620,
    "start_time": "2021-12-17T09:24:42.934Z"
   },
   {
    "duration": 332,
    "start_time": "2021-12-17T09:24:50.880Z"
   },
   {
    "duration": 273,
    "start_time": "2021-12-17T09:26:17.050Z"
   },
   {
    "duration": 282,
    "start_time": "2021-12-17T09:26:19.974Z"
   },
   {
    "duration": 164,
    "start_time": "2021-12-17T09:26:35.083Z"
   },
   {
    "duration": 4,
    "start_time": "2021-12-17T09:29:31.412Z"
   },
   {
    "duration": 3,
    "start_time": "2021-12-17T09:29:34.532Z"
   },
   {
    "duration": 6498,
    "start_time": "2021-12-17T09:29:51.964Z"
   },
   {
    "duration": 3,
    "start_time": "2021-12-17T09:30:10.729Z"
   },
   {
    "duration": 238,
    "start_time": "2021-12-17T09:30:11.404Z"
   },
   {
    "duration": 255,
    "start_time": "2021-12-17T09:30:29.586Z"
   },
   {
    "duration": 234,
    "start_time": "2021-12-17T09:30:39.492Z"
   },
   {
    "duration": 255,
    "start_time": "2021-12-17T09:30:56.134Z"
   },
   {
    "duration": 44,
    "start_time": "2021-12-17T09:31:43.157Z"
   },
   {
    "duration": 3,
    "start_time": "2021-12-17T09:31:52.713Z"
   },
   {
    "duration": 238,
    "start_time": "2021-12-17T09:31:53.268Z"
   },
   {
    "duration": 4,
    "start_time": "2021-12-17T09:31:56.921Z"
   },
   {
    "duration": 274,
    "start_time": "2021-12-17T09:31:57.555Z"
   },
   {
    "duration": 275,
    "start_time": "2021-12-17T09:31:59.024Z"
   },
   {
    "duration": 329,
    "start_time": "2021-12-17T09:31:59.537Z"
   },
   {
    "duration": 459,
    "start_time": "2021-12-17T09:32:00.768Z"
   },
   {
    "duration": 296,
    "start_time": "2021-12-17T09:33:03.257Z"
   },
   {
    "duration": 282,
    "start_time": "2021-12-17T09:33:11.875Z"
   },
   {
    "duration": 52,
    "start_time": "2021-12-17T09:33:23.568Z"
   },
   {
    "duration": 389,
    "start_time": "2021-12-17T09:42:34.537Z"
   },
   {
    "duration": 28,
    "start_time": "2021-12-17T09:42:36.452Z"
   },
   {
    "duration": 46,
    "start_time": "2021-12-17T09:42:41.219Z"
   },
   {
    "duration": 108,
    "start_time": "2021-12-17T09:42:45.888Z"
   },
   {
    "duration": 27,
    "start_time": "2021-12-17T09:43:02.446Z"
   },
   {
    "duration": 44,
    "start_time": "2021-12-17T09:43:08.964Z"
   },
   {
    "duration": 59,
    "start_time": "2021-12-17T09:43:12.706Z"
   },
   {
    "duration": 8,
    "start_time": "2021-12-17T09:43:14.314Z"
   },
   {
    "duration": 10,
    "start_time": "2021-12-17T09:43:15.781Z"
   },
   {
    "duration": 6,
    "start_time": "2021-12-17T09:43:18.275Z"
   },
   {
    "duration": 7,
    "start_time": "2021-12-17T09:43:19.316Z"
   },
   {
    "duration": 8,
    "start_time": "2021-12-17T09:43:20.382Z"
   },
   {
    "duration": 42,
    "start_time": "2021-12-17T09:43:42.937Z"
   },
   {
    "duration": 12,
    "start_time": "2021-12-17T09:43:45.489Z"
   },
   {
    "duration": 17,
    "start_time": "2021-12-17T09:44:09.420Z"
   },
   {
    "duration": 13,
    "start_time": "2021-12-17T09:44:13.621Z"
   },
   {
    "duration": 21,
    "start_time": "2021-12-17T09:44:24.567Z"
   },
   {
    "duration": 13,
    "start_time": "2021-12-17T09:44:26.735Z"
   },
   {
    "duration": 12,
    "start_time": "2021-12-17T09:44:44.588Z"
   },
   {
    "duration": 15,
    "start_time": "2021-12-17T09:44:45.037Z"
   },
   {
    "duration": 8,
    "start_time": "2021-12-17T09:44:48.120Z"
   },
   {
    "duration": 6327,
    "start_time": "2021-12-17T09:50:21.102Z"
   },
   {
    "duration": 81,
    "start_time": "2021-12-17T09:51:30.843Z"
   },
   {
    "duration": 6211,
    "start_time": "2021-12-17T09:51:37.966Z"
   },
   {
    "duration": -1,
    "start_time": "2021-12-17T09:52:00.522Z"
   },
   {
    "duration": 387,
    "start_time": "2021-12-17T09:52:04.264Z"
   },
   {
    "duration": 33,
    "start_time": "2021-12-17T09:52:04.652Z"
   },
   {
    "duration": 73,
    "start_time": "2021-12-17T09:52:04.832Z"
   },
   {
    "duration": 104,
    "start_time": "2021-12-17T09:52:05.202Z"
   },
   {
    "duration": 7,
    "start_time": "2021-12-17T09:52:05.694Z"
   },
   {
    "duration": 9,
    "start_time": "2021-12-17T09:52:05.882Z"
   },
   {
    "duration": 5,
    "start_time": "2021-12-17T09:52:06.222Z"
   },
   {
    "duration": 8,
    "start_time": "2021-12-17T09:52:06.596Z"
   },
   {
    "duration": 6,
    "start_time": "2021-12-17T09:52:08.815Z"
   },
   {
    "duration": 42,
    "start_time": "2021-12-17T09:52:08.942Z"
   },
   {
    "duration": 12,
    "start_time": "2021-12-17T09:52:09.848Z"
   },
   {
    "duration": 17,
    "start_time": "2021-12-17T09:52:11.643Z"
   },
   {
    "duration": 18,
    "start_time": "2021-12-17T09:52:12.755Z"
   },
   {
    "duration": 12,
    "start_time": "2021-12-17T09:52:13.650Z"
   },
   {
    "duration": 8,
    "start_time": "2021-12-17T09:52:15.822Z"
   },
   {
    "duration": 20,
    "start_time": "2021-12-17T09:52:16.209Z"
   },
   {
    "duration": 8,
    "start_time": "2021-12-17T09:52:17.721Z"
   },
   {
    "duration": 6779,
    "start_time": "2021-12-17T09:52:18.347Z"
   },
   {
    "duration": 17,
    "start_time": "2021-12-17T09:52:31.330Z"
   },
   {
    "duration": 84,
    "start_time": "2021-12-17T09:52:37.189Z"
   },
   {
    "duration": 90,
    "start_time": "2021-12-17T09:52:46.376Z"
   },
   {
    "duration": 112,
    "start_time": "2021-12-17T09:52:58.988Z"
   },
   {
    "duration": 94,
    "start_time": "2021-12-17T09:53:10.567Z"
   },
   {
    "duration": 4,
    "start_time": "2021-12-17T09:53:28.371Z"
   },
   {
    "duration": 182,
    "start_time": "2021-12-17T09:53:30.740Z"
   },
   {
    "duration": 20,
    "start_time": "2021-12-17T09:53:31.355Z"
   },
   {
    "duration": 17,
    "start_time": "2021-12-17T09:53:33.959Z"
   },
   {
    "duration": 5,
    "start_time": "2021-12-17T09:54:01.616Z"
   },
   {
    "duration": 275,
    "start_time": "2021-12-17T09:55:42.509Z"
   },
   {
    "duration": 11,
    "start_time": "2021-12-17T09:55:52.224Z"
   },
   {
    "duration": 6472,
    "start_time": "2021-12-17T09:57:33.744Z"
   },
   {
    "duration": -12,
    "start_time": "2021-12-17T09:57:40.230Z"
   },
   {
    "duration": 360,
    "start_time": "2021-12-17T09:57:41.682Z"
   },
   {
    "duration": 25,
    "start_time": "2021-12-17T09:57:42.044Z"
   },
   {
    "duration": 45,
    "start_time": "2021-12-17T09:57:42.071Z"
   },
   {
    "duration": 100,
    "start_time": "2021-12-17T09:57:42.301Z"
   },
   {
    "duration": 7,
    "start_time": "2021-12-17T09:57:45.089Z"
   },
   {
    "duration": 8,
    "start_time": "2021-12-17T09:57:45.296Z"
   },
   {
    "duration": 5,
    "start_time": "2021-12-17T09:57:45.653Z"
   },
   {
    "duration": 9,
    "start_time": "2021-12-17T09:57:45.970Z"
   },
   {
    "duration": 7,
    "start_time": "2021-12-17T09:57:46.239Z"
   },
   {
    "duration": 40,
    "start_time": "2021-12-17T09:57:46.598Z"
   },
   {
    "duration": 11,
    "start_time": "2021-12-17T09:57:46.846Z"
   },
   {
    "duration": 16,
    "start_time": "2021-12-17T09:57:47.220Z"
   },
   {
    "duration": 6083,
    "start_time": "2021-12-17T09:57:53.752Z"
   },
   {
    "duration": 19,
    "start_time": "2021-12-17T09:58:16.451Z"
   },
   {
    "duration": 13,
    "start_time": "2021-12-17T09:58:17.430Z"
   },
   {
    "duration": 6591,
    "start_time": "2021-12-17T09:59:02.371Z"
   },
   {
    "duration": 19,
    "start_time": "2021-12-17T09:59:21.491Z"
   },
   {
    "duration": 12,
    "start_time": "2021-12-17T09:59:22.241Z"
   },
   {
    "duration": 18,
    "start_time": "2021-12-17T09:59:37.473Z"
   },
   {
    "duration": 270,
    "start_time": "2021-12-17T10:00:09.965Z"
   },
   {
    "duration": 21,
    "start_time": "2021-12-17T10:00:19.523Z"
   },
   {
    "duration": -73,
    "start_time": "2021-12-17T10:01:57.634Z"
   },
   {
    "duration": 359,
    "start_time": "2021-12-17T10:02:01.781Z"
   },
   {
    "duration": 27,
    "start_time": "2021-12-17T10:02:02.142Z"
   },
   {
    "duration": 44,
    "start_time": "2021-12-17T10:02:02.921Z"
   },
   {
    "duration": 101,
    "start_time": "2021-12-17T10:02:03.586Z"
   },
   {
    "duration": 9,
    "start_time": "2021-12-17T10:02:04.330Z"
   },
   {
    "duration": 10,
    "start_time": "2021-12-17T10:02:04.412Z"
   },
   {
    "duration": 6,
    "start_time": "2021-12-17T10:02:04.579Z"
   },
   {
    "duration": 9,
    "start_time": "2021-12-17T10:02:04.747Z"
   },
   {
    "duration": 7,
    "start_time": "2021-12-17T10:02:04.910Z"
   },
   {
    "duration": 37,
    "start_time": "2021-12-17T10:02:05.164Z"
   },
   {
    "duration": 11,
    "start_time": "2021-12-17T10:02:05.333Z"
   },
   {
    "duration": 18,
    "start_time": "2021-12-17T10:02:07.392Z"
   },
   {
    "duration": 6370,
    "start_time": "2021-12-17T10:02:09.537Z"
   },
   {
    "duration": 19,
    "start_time": "2021-12-17T10:02:27.446Z"
   },
   {
    "duration": 19,
    "start_time": "2021-12-17T10:02:44.659Z"
   },
   {
    "duration": 18,
    "start_time": "2021-12-17T10:03:20.297Z"
   },
   {
    "duration": 12,
    "start_time": "2021-12-17T10:03:21.296Z"
   },
   {
    "duration": 8,
    "start_time": "2021-12-17T10:03:25.555Z"
   },
   {
    "duration": 19,
    "start_time": "2021-12-17T10:03:26.207Z"
   },
   {
    "duration": 8,
    "start_time": "2021-12-17T10:03:32.178Z"
   },
   {
    "duration": 268,
    "start_time": "2021-12-17T10:03:36.657Z"
   },
   {
    "duration": 2,
    "start_time": "2021-12-17T10:03:48.761Z"
   },
   {
    "duration": 7,
    "start_time": "2021-12-17T10:04:27.074Z"
   },
   {
    "duration": 3,
    "start_time": "2021-12-17T10:05:26.931Z"
   },
   {
    "duration": 8,
    "start_time": "2021-12-17T10:05:32.128Z"
   },
   {
    "duration": 81,
    "start_time": "2021-12-17T10:06:03.284Z"
   },
   {
    "duration": 82,
    "start_time": "2021-12-17T10:06:11.754Z"
   },
   {
    "duration": 4,
    "start_time": "2021-12-17T10:06:27.161Z"
   },
   {
    "duration": 8062,
    "start_time": "2021-12-17T10:06:30.375Z"
   },
   {
    "duration": -105,
    "start_time": "2021-12-17T10:06:38.544Z"
   },
   {
    "duration": 357,
    "start_time": "2021-12-17T10:06:57.972Z"
   },
   {
    "duration": 23,
    "start_time": "2021-12-17T10:06:58.331Z"
   },
   {
    "duration": 48,
    "start_time": "2021-12-17T10:06:58.356Z"
   },
   {
    "duration": 114,
    "start_time": "2021-12-17T10:06:58.405Z"
   },
   {
    "duration": 7,
    "start_time": "2021-12-17T10:06:58.647Z"
   },
   {
    "duration": 9,
    "start_time": "2021-12-17T10:06:58.725Z"
   },
   {
    "duration": 5,
    "start_time": "2021-12-17T10:06:59.283Z"
   },
   {
    "duration": 8,
    "start_time": "2021-12-17T10:06:59.867Z"
   },
   {
    "duration": 8,
    "start_time": "2021-12-17T10:07:00.041Z"
   },
   {
    "duration": 36,
    "start_time": "2021-12-17T10:07:00.711Z"
   },
   {
    "duration": 12,
    "start_time": "2021-12-17T10:07:01.177Z"
   },
   {
    "duration": 17,
    "start_time": "2021-12-17T10:07:02.039Z"
   },
   {
    "duration": 19,
    "start_time": "2021-12-17T10:07:12.878Z"
   },
   {
    "duration": 13,
    "start_time": "2021-12-17T10:07:13.617Z"
   },
   {
    "duration": 5,
    "start_time": "2021-12-17T10:07:20.379Z"
   },
   {
    "duration": 8,
    "start_time": "2021-12-17T10:07:21.755Z"
   },
   {
    "duration": 18,
    "start_time": "2021-12-17T10:07:22.665Z"
   },
   {
    "duration": 9,
    "start_time": "2021-12-17T10:07:30.774Z"
   },
   {
    "duration": 3,
    "start_time": "2021-12-17T10:07:35.525Z"
   },
   {
    "duration": 4,
    "start_time": "2021-12-17T10:07:37.843Z"
   },
   {
    "duration": 4,
    "start_time": "2021-12-17T10:08:03.870Z"
   },
   {
    "duration": 169,
    "start_time": "2021-12-17T10:08:05.510Z"
   },
   {
    "duration": 18,
    "start_time": "2021-12-17T10:08:07.745Z"
   },
   {
    "duration": 3,
    "start_time": "2021-12-17T10:08:25.137Z"
   },
   {
    "duration": 46,
    "start_time": "2021-12-17T10:08:25.822Z"
   },
   {
    "duration": 3,
    "start_time": "2021-12-17T10:08:45.301Z"
   },
   {
    "duration": 281,
    "start_time": "2021-12-17T10:08:46.355Z"
   },
   {
    "duration": 250,
    "start_time": "2021-12-17T10:08:48.431Z"
   },
   {
    "duration": 253,
    "start_time": "2021-12-17T10:08:50.937Z"
   },
   {
    "duration": 279,
    "start_time": "2021-12-17T10:08:51.881Z"
   },
   {
    "duration": 250,
    "start_time": "2021-12-17T10:13:48.309Z"
   },
   {
    "duration": 244,
    "start_time": "2021-12-17T10:13:51.151Z"
   },
   {
    "duration": 390,
    "start_time": "2021-12-17T10:13:52.559Z"
   },
   {
    "duration": 259,
    "start_time": "2021-12-17T10:24:00.551Z"
   },
   {
    "duration": 274,
    "start_time": "2021-12-17T10:24:06.395Z"
   },
   {
    "duration": 258,
    "start_time": "2021-12-17T10:26:30.317Z"
   },
   {
    "duration": 268,
    "start_time": "2021-12-17T10:26:30.971Z"
   },
   {
    "duration": 273,
    "start_time": "2021-12-17T10:26:32.991Z"
   },
   {
    "duration": 8,
    "start_time": "2021-12-17T10:39:30.976Z"
   },
   {
    "duration": 9,
    "start_time": "2021-12-17T10:41:33.278Z"
   },
   {
    "duration": 10,
    "start_time": "2021-12-17T10:43:15.899Z"
   },
   {
    "duration": 5,
    "start_time": "2021-12-17T10:47:00.987Z"
   },
   {
    "duration": 18,
    "start_time": "2021-12-17T10:47:06.593Z"
   },
   {
    "duration": 98,
    "start_time": "2021-12-17T10:47:13.948Z"
   },
   {
    "duration": 4,
    "start_time": "2021-12-17T10:47:16.726Z"
   },
   {
    "duration": 5,
    "start_time": "2021-12-17T10:47:48.430Z"
   },
   {
    "duration": 89,
    "start_time": "2021-12-17T10:48:30.498Z"
   },
   {
    "duration": 80,
    "start_time": "2021-12-17T10:48:40.067Z"
   },
   {
    "duration": 7,
    "start_time": "2021-12-17T10:48:42.404Z"
   },
   {
    "duration": 10,
    "start_time": "2021-12-17T10:48:46.566Z"
   },
   {
    "duration": 29,
    "start_time": "2021-12-17T10:48:54.605Z"
   },
   {
    "duration": 30,
    "start_time": "2021-12-17T10:48:58.908Z"
   },
   {
    "duration": 7,
    "start_time": "2021-12-17T10:49:20.648Z"
   },
   {
    "duration": 7,
    "start_time": "2021-12-17T10:49:45.337Z"
   },
   {
    "duration": 7,
    "start_time": "2021-12-17T10:49:53.406Z"
   },
   {
    "duration": 10,
    "start_time": "2021-12-17T10:50:52.177Z"
   },
   {
    "duration": 10,
    "start_time": "2021-12-17T10:51:05.792Z"
   },
   {
    "duration": 11,
    "start_time": "2021-12-17T10:51:46.965Z"
   },
   {
    "duration": 11,
    "start_time": "2021-12-17T10:51:57.898Z"
   },
   {
    "duration": 9,
    "start_time": "2021-12-17T10:52:21.184Z"
   },
   {
    "duration": 10,
    "start_time": "2021-12-17T10:52:23.688Z"
   },
   {
    "duration": 10,
    "start_time": "2021-12-17T10:52:25.062Z"
   },
   {
    "duration": 11,
    "start_time": "2021-12-17T10:52:34.161Z"
   },
   {
    "duration": 342,
    "start_time": "2021-12-17T10:56:07.864Z"
   },
   {
    "duration": 24,
    "start_time": "2021-12-17T10:56:08.413Z"
   },
   {
    "duration": 43,
    "start_time": "2021-12-17T10:56:10.304Z"
   },
   {
    "duration": 101,
    "start_time": "2021-12-17T10:56:11.951Z"
   },
   {
    "duration": 7,
    "start_time": "2021-12-17T10:56:14.084Z"
   },
   {
    "duration": 8,
    "start_time": "2021-12-17T10:56:14.691Z"
   },
   {
    "duration": 5,
    "start_time": "2021-12-17T10:56:16.324Z"
   },
   {
    "duration": 9,
    "start_time": "2021-12-17T10:56:17.360Z"
   },
   {
    "duration": 7,
    "start_time": "2021-12-17T10:56:18.950Z"
   },
   {
    "duration": 38,
    "start_time": "2021-12-17T10:56:19.713Z"
   },
   {
    "duration": 10,
    "start_time": "2021-12-17T10:56:20.433Z"
   },
   {
    "duration": 17,
    "start_time": "2021-12-17T10:56:21.209Z"
   },
   {
    "duration": 19,
    "start_time": "2021-12-17T10:56:21.728Z"
   },
   {
    "duration": 12,
    "start_time": "2021-12-17T10:56:21.961Z"
   },
   {
    "duration": 4,
    "start_time": "2021-12-17T10:56:22.668Z"
   },
   {
    "duration": 7,
    "start_time": "2021-12-17T10:56:22.887Z"
   },
   {
    "duration": 19,
    "start_time": "2021-12-17T10:56:23.111Z"
   },
   {
    "duration": 8,
    "start_time": "2021-12-17T10:56:23.735Z"
   },
   {
    "duration": 3,
    "start_time": "2021-12-17T10:56:25.003Z"
   },
   {
    "duration": 167,
    "start_time": "2021-12-17T10:56:25.186Z"
   },
   {
    "duration": 18,
    "start_time": "2021-12-17T10:56:25.354Z"
   },
   {
    "duration": 3,
    "start_time": "2021-12-17T10:56:27.342Z"
   },
   {
    "duration": 46,
    "start_time": "2021-12-17T10:56:28.468Z"
   },
   {
    "duration": 3,
    "start_time": "2021-12-17T10:56:30.869Z"
   },
   {
    "duration": 293,
    "start_time": "2021-12-17T10:56:31.709Z"
   },
   {
    "duration": 406,
    "start_time": "2021-12-17T11:02:49.136Z"
   },
   {
    "duration": 275,
    "start_time": "2021-12-17T11:02:49.544Z"
   },
   {
    "duration": 255,
    "start_time": "2021-12-17T11:02:49.919Z"
   },
   {
    "duration": 270,
    "start_time": "2021-12-17T11:02:50.211Z"
   },
   {
    "duration": 10,
    "start_time": "2021-12-17T11:02:51.359Z"
   },
   {
    "duration": 10,
    "start_time": "2021-12-17T11:02:53.416Z"
   },
   {
    "duration": 11,
    "start_time": "2021-12-17T11:02:54.256Z"
   },
   {
    "duration": 10,
    "start_time": "2021-12-17T11:02:57.423Z"
   },
   {
    "duration": 12,
    "start_time": "2021-12-17T11:02:57.811Z"
   },
   {
    "duration": 348,
    "start_time": "2021-12-17T11:06:26.787Z"
   },
   {
    "duration": 27,
    "start_time": "2021-12-17T11:06:27.137Z"
   },
   {
    "duration": 44,
    "start_time": "2021-12-17T11:06:27.166Z"
   },
   {
    "duration": 102,
    "start_time": "2021-12-17T11:06:27.747Z"
   },
   {
    "duration": 7,
    "start_time": "2021-12-17T11:06:28.199Z"
   },
   {
    "duration": 9,
    "start_time": "2021-12-17T11:06:28.475Z"
   },
   {
    "duration": 5,
    "start_time": "2021-12-17T11:06:29.059Z"
   },
   {
    "duration": 8,
    "start_time": "2021-12-17T11:06:29.226Z"
   },
   {
    "duration": 7,
    "start_time": "2021-12-17T11:06:29.394Z"
   },
   {
    "duration": 38,
    "start_time": "2021-12-17T11:06:29.642Z"
   },
   {
    "duration": 10,
    "start_time": "2021-12-17T11:06:29.816Z"
   },
   {
    "duration": 17,
    "start_time": "2021-12-17T11:06:29.980Z"
   },
   {
    "duration": 21,
    "start_time": "2021-12-17T11:06:30.149Z"
   },
   {
    "duration": 12,
    "start_time": "2021-12-17T11:06:30.246Z"
   },
   {
    "duration": 4,
    "start_time": "2021-12-17T11:06:30.483Z"
   },
   {
    "duration": 8,
    "start_time": "2021-12-17T11:06:30.570Z"
   },
   {
    "duration": 18,
    "start_time": "2021-12-17T11:06:30.654Z"
   },
   {
    "duration": 8,
    "start_time": "2021-12-17T11:06:30.733Z"
   },
   {
    "duration": 3,
    "start_time": "2021-12-17T11:06:30.824Z"
   },
   {
    "duration": 171,
    "start_time": "2021-12-17T11:06:30.903Z"
   },
   {
    "duration": 24,
    "start_time": "2021-12-17T11:06:31.075Z"
   },
   {
    "duration": 2,
    "start_time": "2021-12-17T11:06:31.238Z"
   },
   {
    "duration": 43,
    "start_time": "2021-12-17T11:06:31.333Z"
   },
   {
    "duration": 3,
    "start_time": "2021-12-17T11:06:31.405Z"
   },
   {
    "duration": 299,
    "start_time": "2021-12-17T11:06:31.501Z"
   },
   {
    "duration": 276,
    "start_time": "2021-12-17T11:06:31.802Z"
   },
   {
    "duration": 268,
    "start_time": "2021-12-17T11:06:32.087Z"
   },
   {
    "duration": 290,
    "start_time": "2021-12-17T11:06:32.357Z"
   },
   {
    "duration": 9,
    "start_time": "2021-12-17T11:06:32.649Z"
   },
   {
    "duration": 28,
    "start_time": "2021-12-17T11:06:32.660Z"
   },
   {
    "duration": 11,
    "start_time": "2021-12-17T11:06:32.997Z"
   },
   {
    "duration": 12,
    "start_time": "2021-12-17T11:06:33.083Z"
   },
   {
    "duration": 1268,
    "start_time": "2021-12-18T12:44:36.676Z"
   },
   {
    "duration": 50,
    "start_time": "2021-12-18T12:44:37.947Z"
   },
   {
    "duration": 66,
    "start_time": "2021-12-18T12:44:42.292Z"
   },
   {
    "duration": 534,
    "start_time": "2021-12-18T12:45:22.206Z"
   },
   {
    "duration": 363,
    "start_time": "2021-12-18T12:45:27.567Z"
   },
   {
    "duration": 398,
    "start_time": "2021-12-18T12:45:41.706Z"
   },
   {
    "duration": 412,
    "start_time": "2021-12-18T12:45:45.259Z"
   },
   {
    "duration": 95,
    "start_time": "2021-12-18T12:45:47.429Z"
   },
   {
    "duration": 266,
    "start_time": "2021-12-18T12:45:51.017Z"
   },
   {
    "duration": 101,
    "start_time": "2021-12-18T12:47:33.042Z"
   },
   {
    "duration": 101,
    "start_time": "2021-12-18T12:47:56.646Z"
   },
   {
    "duration": 347,
    "start_time": "2021-12-18T12:48:05.762Z"
   },
   {
    "duration": 354,
    "start_time": "2021-12-18T12:48:48.999Z"
   },
   {
    "duration": 522,
    "start_time": "2021-12-18T12:49:57.914Z"
   },
   {
    "duration": 45,
    "start_time": "2021-12-18T12:49:58.438Z"
   },
   {
    "duration": 64,
    "start_time": "2021-12-18T12:49:59.758Z"
   },
   {
    "duration": 158,
    "start_time": "2021-12-18T12:50:01.142Z"
   },
   {
    "duration": 250,
    "start_time": "2021-12-18T12:50:03.022Z"
   },
   {
    "duration": 9,
    "start_time": "2021-12-18T12:50:07.638Z"
   },
   {
    "duration": 13,
    "start_time": "2021-12-18T12:50:11.135Z"
   },
   {
    "duration": 7,
    "start_time": "2021-12-18T12:50:12.664Z"
   },
   {
    "duration": 14,
    "start_time": "2021-12-18T12:50:13.504Z"
   },
   {
    "duration": 10,
    "start_time": "2021-12-18T12:50:15.252Z"
   },
   {
    "duration": 60,
    "start_time": "2021-12-18T12:50:16.575Z"
   },
   {
    "duration": 54,
    "start_time": "2021-12-18T12:52:28.324Z"
   },
   {
    "duration": 57,
    "start_time": "2021-12-18T12:54:59.619Z"
   },
   {
    "duration": 19,
    "start_time": "2021-12-18T12:55:01.330Z"
   },
   {
    "duration": 28,
    "start_time": "2021-12-18T12:55:07.306Z"
   },
   {
    "duration": 37,
    "start_time": "2021-12-18T12:55:27.927Z"
   },
   {
    "duration": 22,
    "start_time": "2021-12-18T12:55:29.067Z"
   },
   {
    "duration": 5,
    "start_time": "2021-12-18T12:55:32.632Z"
   },
   {
    "duration": 15,
    "start_time": "2021-12-18T12:55:49.800Z"
   },
   {
    "duration": 40,
    "start_time": "2021-12-18T12:55:51.514Z"
   },
   {
    "duration": 12,
    "start_time": "2021-12-18T12:55:54.775Z"
   },
   {
    "duration": 24,
    "start_time": "2021-12-18T12:55:57.790Z"
   },
   {
    "duration": 658,
    "start_time": "2021-12-18T12:55:59.013Z"
   },
   {
    "duration": 47,
    "start_time": "2021-12-18T12:55:59.727Z"
   },
   {
    "duration": 824,
    "start_time": "2021-12-18T12:56:06.209Z"
   },
   {
    "duration": 865,
    "start_time": "2021-12-18T12:56:07.036Z"
   },
   {
    "duration": 5,
    "start_time": "2021-12-18T12:56:09.100Z"
   },
   {
    "duration": 882,
    "start_time": "2021-12-18T12:56:09.639Z"
   },
   {
    "duration": 814,
    "start_time": "2021-12-18T12:56:11.380Z"
   },
   {
    "duration": 24,
    "start_time": "2021-12-18T12:56:12.173Z"
   },
   {
    "duration": 650,
    "start_time": "2021-12-18T12:56:35.991Z"
   },
   {
    "duration": 49,
    "start_time": "2021-12-18T12:56:36.644Z"
   },
   {
    "duration": 68,
    "start_time": "2021-12-18T12:56:37.871Z"
   },
   {
    "duration": 163,
    "start_time": "2021-12-18T12:56:38.790Z"
   },
   {
    "duration": 236,
    "start_time": "2021-12-18T12:56:43.756Z"
   },
   {
    "duration": 11,
    "start_time": "2021-12-18T12:56:48.326Z"
   },
   {
    "duration": 13,
    "start_time": "2021-12-18T12:56:49.957Z"
   },
   {
    "duration": 9,
    "start_time": "2021-12-18T12:56:51.595Z"
   },
   {
    "duration": 13,
    "start_time": "2021-12-18T12:56:52.300Z"
   },
   {
    "duration": 9,
    "start_time": "2021-12-18T12:56:54.209Z"
   },
   {
    "duration": 61,
    "start_time": "2021-12-18T12:56:57.919Z"
   },
   {
    "duration": 9,
    "start_time": "2021-12-18T12:57:25.256Z"
   },
   {
    "duration": 27,
    "start_time": "2021-12-18T12:57:50.514Z"
   },
   {
    "duration": 29,
    "start_time": "2021-12-18T12:57:52.132Z"
   },
   {
    "duration": 32,
    "start_time": "2021-12-18T12:57:53.984Z"
   },
   {
    "duration": 34,
    "start_time": "2021-12-18T12:57:56.336Z"
   },
   {
    "duration": 11,
    "start_time": "2021-12-18T12:57:58.531Z"
   },
   {
    "duration": 12,
    "start_time": "2021-12-18T12:57:58.907Z"
   },
   {
    "duration": 35,
    "start_time": "2021-12-18T12:57:59.364Z"
   },
   {
    "duration": 14,
    "start_time": "2021-12-18T12:58:00.614Z"
   },
   {
    "duration": 6,
    "start_time": "2021-12-18T12:58:01.049Z"
   },
   {
    "duration": 360,
    "start_time": "2021-12-18T12:58:02.280Z"
   },
   {
    "duration": 33,
    "start_time": "2021-12-18T12:58:02.675Z"
   },
   {
    "duration": 9,
    "start_time": "2021-12-18T12:58:11.217Z"
   },
   {
    "duration": 8,
    "start_time": "2021-12-18T12:59:19.887Z"
   },
   {
    "duration": 8,
    "start_time": "2021-12-18T12:59:30.506Z"
   },
   {
    "duration": 6,
    "start_time": "2021-12-18T13:00:29.344Z"
   },
   {
    "duration": 9,
    "start_time": "2021-12-18T13:01:13.537Z"
   },
   {
    "duration": 609,
    "start_time": "2021-12-18T13:01:23.080Z"
   },
   {
    "duration": 49,
    "start_time": "2021-12-18T13:01:24.109Z"
   },
   {
    "duration": 68,
    "start_time": "2021-12-18T13:01:27.203Z"
   },
   {
    "duration": 159,
    "start_time": "2021-12-18T13:01:29.397Z"
   },
   {
    "duration": 234,
    "start_time": "2021-12-18T13:01:31.698Z"
   },
   {
    "duration": 46,
    "start_time": "2021-12-18T13:02:06.548Z"
   },
   {
    "duration": 10,
    "start_time": "2021-12-18T13:02:18.387Z"
   },
   {
    "duration": 16,
    "start_time": "2021-12-18T13:02:19.143Z"
   },
   {
    "duration": 8,
    "start_time": "2021-12-18T13:02:19.466Z"
   },
   {
    "duration": 10,
    "start_time": "2021-12-18T13:02:19.742Z"
   },
   {
    "duration": 10,
    "start_time": "2021-12-18T13:02:19.965Z"
   },
   {
    "duration": 95,
    "start_time": "2021-12-18T13:02:20.308Z"
   },
   {
    "duration": 20,
    "start_time": "2021-12-18T13:02:21.742Z"
   },
   {
    "duration": 29,
    "start_time": "2021-12-18T13:02:23.409Z"
   },
   {
    "duration": 39,
    "start_time": "2021-12-18T13:02:24.181Z"
   },
   {
    "duration": 23,
    "start_time": "2021-12-18T13:02:24.638Z"
   },
   {
    "duration": 5,
    "start_time": "2021-12-18T13:02:26.419Z"
   },
   {
    "duration": 14,
    "start_time": "2021-12-18T13:02:26.570Z"
   },
   {
    "duration": 35,
    "start_time": "2021-12-18T13:02:26.761Z"
   },
   {
    "duration": 12,
    "start_time": "2021-12-18T13:02:27.167Z"
   },
   {
    "duration": 6,
    "start_time": "2021-12-18T13:02:27.503Z"
   },
   {
    "duration": 369,
    "start_time": "2021-12-18T13:02:27.875Z"
   },
   {
    "duration": 40,
    "start_time": "2021-12-18T13:02:28.247Z"
   },
   {
    "duration": 11,
    "start_time": "2021-12-18T13:02:33.219Z"
   },
   {
    "duration": 51,
    "start_time": "2021-12-18T13:04:23.582Z"
   },
   {
    "duration": 524,
    "start_time": "2021-12-18T13:07:36.916Z"
   },
   {
    "duration": 44,
    "start_time": "2021-12-18T13:07:37.442Z"
   },
   {
    "duration": 84,
    "start_time": "2021-12-18T13:07:37.492Z"
   },
   {
    "duration": 156,
    "start_time": "2021-12-18T13:07:37.727Z"
   },
   {
    "duration": 236,
    "start_time": "2021-12-18T13:07:38.069Z"
   },
   {
    "duration": 9,
    "start_time": "2021-12-18T13:07:38.674Z"
   },
   {
    "duration": 13,
    "start_time": "2021-12-18T13:07:38.918Z"
   },
   {
    "duration": 8,
    "start_time": "2021-12-18T13:07:39.173Z"
   },
   {
    "duration": 12,
    "start_time": "2021-12-18T13:07:39.400Z"
   },
   {
    "duration": 9,
    "start_time": "2021-12-18T13:07:39.645Z"
   },
   {
    "duration": 125,
    "start_time": "2021-12-18T13:07:40.013Z"
   },
   {
    "duration": 19,
    "start_time": "2021-12-18T13:07:40.521Z"
   },
   {
    "duration": 27,
    "start_time": "2021-12-18T13:07:40.793Z"
   },
   {
    "duration": 31,
    "start_time": "2021-12-18T13:07:41.078Z"
   },
   {
    "duration": 23,
    "start_time": "2021-12-18T13:07:41.391Z"
   },
   {
    "duration": 6,
    "start_time": "2021-12-18T13:07:42.557Z"
   },
   {
    "duration": 12,
    "start_time": "2021-12-18T13:07:42.987Z"
   },
   {
    "duration": 33,
    "start_time": "2021-12-18T13:07:43.467Z"
   },
   {
    "duration": 13,
    "start_time": "2021-12-18T13:07:45.145Z"
   },
   {
    "duration": 7,
    "start_time": "2021-12-18T13:07:45.555Z"
   },
   {
    "duration": 367,
    "start_time": "2021-12-18T13:07:45.988Z"
   },
   {
    "duration": 34,
    "start_time": "2021-12-18T13:07:46.445Z"
   },
   {
    "duration": 10,
    "start_time": "2021-12-18T13:07:48.243Z"
   },
   {
    "duration": 5,
    "start_time": "2021-12-18T13:07:49.515Z"
   },
   {
    "duration": 51,
    "start_time": "2021-12-18T13:07:52.909Z"
   },
   {
    "duration": 3,
    "start_time": "2021-12-18T13:07:56.870Z"
   },
   {
    "duration": 117,
    "start_time": "2021-12-18T13:07:57.515Z"
   },
   {
    "duration": 270,
    "start_time": "2021-12-18T13:08:06.943Z"
   },
   {
    "duration": 4,
    "start_time": "2021-12-18T13:08:11.234Z"
   },
   {
    "duration": 797,
    "start_time": "2021-12-18T13:08:12.272Z"
   },
   {
    "duration": 34,
    "start_time": "2021-12-18T13:08:39.717Z"
   },
   {
    "duration": 4,
    "start_time": "2021-12-18T13:08:41.892Z"
   },
   {
    "duration": 304,
    "start_time": "2021-12-18T13:09:07.022Z"
   },
   {
    "duration": 99,
    "start_time": "2021-12-18T13:09:56.093Z"
   },
   {
    "duration": 100,
    "start_time": "2021-12-18T13:10:13.331Z"
   },
   {
    "duration": 11,
    "start_time": "2021-12-18T13:10:20.058Z"
   },
   {
    "duration": 13,
    "start_time": "2021-12-18T13:12:57.898Z"
   },
   {
    "duration": 513,
    "start_time": "2021-12-18T13:13:10.018Z"
   },
   {
    "duration": 44,
    "start_time": "2021-12-18T13:13:10.534Z"
   },
   {
    "duration": 63,
    "start_time": "2021-12-18T13:13:10.581Z"
   },
   {
    "duration": 153,
    "start_time": "2021-12-18T13:13:10.761Z"
   },
   {
    "duration": 229,
    "start_time": "2021-12-18T13:13:11.123Z"
   },
   {
    "duration": 10,
    "start_time": "2021-12-18T13:13:11.747Z"
   },
   {
    "duration": 13,
    "start_time": "2021-12-18T13:13:12.012Z"
   },
   {
    "duration": 10,
    "start_time": "2021-12-18T13:13:12.246Z"
   },
   {
    "duration": 13,
    "start_time": "2021-12-18T13:13:12.506Z"
   },
   {
    "duration": 9,
    "start_time": "2021-12-18T13:13:12.738Z"
   },
   {
    "duration": 67,
    "start_time": "2021-12-18T13:13:13.256Z"
   },
   {
    "duration": 28,
    "start_time": "2021-12-18T13:13:14.323Z"
   },
   {
    "duration": 26,
    "start_time": "2021-12-18T13:13:14.875Z"
   },
   {
    "duration": 30,
    "start_time": "2021-12-18T13:13:15.495Z"
   },
   {
    "duration": 22,
    "start_time": "2021-12-18T13:13:15.888Z"
   },
   {
    "duration": 5,
    "start_time": "2021-12-18T13:13:16.475Z"
   },
   {
    "duration": 13,
    "start_time": "2021-12-18T13:13:16.631Z"
   },
   {
    "duration": 34,
    "start_time": "2021-12-18T13:13:16.799Z"
   },
   {
    "duration": 12,
    "start_time": "2021-12-18T13:13:16.964Z"
   },
   {
    "duration": 6,
    "start_time": "2021-12-18T13:13:17.134Z"
   },
   {
    "duration": 372,
    "start_time": "2021-12-18T13:13:17.584Z"
   },
   {
    "duration": 35,
    "start_time": "2021-12-18T13:13:17.959Z"
   },
   {
    "duration": 9,
    "start_time": "2021-12-18T13:13:19.807Z"
   },
   {
    "duration": 5,
    "start_time": "2021-12-18T13:13:19.982Z"
   },
   {
    "duration": 10,
    "start_time": "2021-12-18T13:13:30.322Z"
   },
   {
    "duration": 10,
    "start_time": "2021-12-18T13:13:40.993Z"
   },
   {
    "duration": 9,
    "start_time": "2021-12-18T13:13:53.645Z"
   },
   {
    "duration": 10,
    "start_time": "2021-12-18T13:13:54.794Z"
   },
   {
    "duration": 9,
    "start_time": "2021-12-18T13:14:27.295Z"
   },
   {
    "duration": 9,
    "start_time": "2021-12-18T13:14:28.777Z"
   },
   {
    "duration": 44,
    "start_time": "2021-12-18T13:15:47.747Z"
   },
   {
    "duration": 9,
    "start_time": "2021-12-18T13:16:36.042Z"
   },
   {
    "duration": 11,
    "start_time": "2021-12-18T13:16:36.859Z"
   },
   {
    "duration": 48,
    "start_time": "2021-12-18T13:16:44.099Z"
   },
   {
    "duration": 290,
    "start_time": "2021-12-18T13:19:05.757Z"
   },
   {
    "duration": -91,
    "start_time": "2021-12-18T13:19:31.404Z"
   },
   {
    "duration": 19,
    "start_time": "2021-12-18T13:19:33.693Z"
   },
   {
    "duration": 16,
    "start_time": "2021-12-18T13:19:52.466Z"
   },
   {
    "duration": 16,
    "start_time": "2021-12-18T13:21:31.409Z"
   },
   {
    "duration": 8,
    "start_time": "2021-12-18T13:22:46.462Z"
   },
   {
    "duration": 10,
    "start_time": "2021-12-18T13:22:49.732Z"
   },
   {
    "duration": 12,
    "start_time": "2021-12-18T13:22:56.406Z"
   },
   {
    "duration": 5,
    "start_time": "2021-12-18T13:22:58.563Z"
   },
   {
    "duration": 19,
    "start_time": "2021-12-18T13:23:21.892Z"
   },
   {
    "duration": 28,
    "start_time": "2021-12-18T13:23:42.867Z"
   },
   {
    "duration": 25,
    "start_time": "2021-12-18T13:24:06.134Z"
   },
   {
    "duration": 21,
    "start_time": "2021-12-18T13:24:14.665Z"
   },
   {
    "duration": 19,
    "start_time": "2021-12-18T13:24:21.401Z"
   },
   {
    "duration": 11,
    "start_time": "2021-12-18T13:24:39.239Z"
   },
   {
    "duration": 9,
    "start_time": "2021-12-18T13:26:54.994Z"
   },
   {
    "duration": 10,
    "start_time": "2021-12-18T13:26:59.588Z"
   },
   {
    "duration": 5,
    "start_time": "2021-12-18T13:27:02.809Z"
   },
   {
    "duration": 10,
    "start_time": "2021-12-18T13:27:04.993Z"
   },
   {
    "duration": 13,
    "start_time": "2021-12-18T13:27:05.490Z"
   },
   {
    "duration": 9,
    "start_time": "2021-12-18T13:27:06.101Z"
   },
   {
    "duration": 12,
    "start_time": "2021-12-18T13:27:06.453Z"
   },
   {
    "duration": 12,
    "start_time": "2021-12-18T13:27:06.651Z"
   },
   {
    "duration": 9,
    "start_time": "2021-12-18T13:27:06.991Z"
   },
   {
    "duration": 3,
    "start_time": "2021-12-18T13:27:07.806Z"
   },
   {
    "duration": 108,
    "start_time": "2021-12-18T13:27:07.985Z"
   },
   {
    "duration": 11,
    "start_time": "2021-12-18T13:27:08.375Z"
   },
   {
    "duration": 867,
    "start_time": "2021-12-18T13:27:08.585Z"
   },
   {
    "duration": 767,
    "start_time": "2021-12-18T13:27:11.380Z"
   },
   {
    "duration": 465,
    "start_time": "2021-12-18T13:27:13.088Z"
   },
   {
    "duration": 628,
    "start_time": "2021-12-18T13:27:14.119Z"
   },
   {
    "duration": 16,
    "start_time": "2021-12-18T13:27:19.285Z"
   },
   {
    "duration": 19,
    "start_time": "2021-12-18T13:27:19.706Z"
   },
   {
    "duration": 20,
    "start_time": "2021-12-18T13:27:21.395Z"
   },
   {
    "duration": 18,
    "start_time": "2021-12-18T13:27:21.835Z"
   },
   {
    "duration": 635,
    "start_time": "2021-12-18T13:30:49.064Z"
   },
   {
    "duration": 45,
    "start_time": "2021-12-18T13:30:49.702Z"
   },
   {
    "duration": 65,
    "start_time": "2021-12-18T13:30:50.772Z"
   },
   {
    "duration": 221,
    "start_time": "2021-12-18T13:30:52.761Z"
   },
   {
    "duration": 327,
    "start_time": "2021-12-18T13:30:54.443Z"
   },
   {
    "duration": 12,
    "start_time": "2021-12-18T13:30:58.470Z"
   },
   {
    "duration": 14,
    "start_time": "2021-12-18T13:30:59.221Z"
   },
   {
    "duration": 8,
    "start_time": "2021-12-18T13:31:00.077Z"
   },
   {
    "duration": 13,
    "start_time": "2021-12-18T13:31:00.805Z"
   },
   {
    "duration": 9,
    "start_time": "2021-12-18T13:31:01.406Z"
   },
   {
    "duration": 59,
    "start_time": "2021-12-18T13:31:02.765Z"
   },
   {
    "duration": 19,
    "start_time": "2021-12-18T13:31:05.905Z"
   },
   {
    "duration": 26,
    "start_time": "2021-12-18T13:31:06.366Z"
   },
   {
    "duration": 33,
    "start_time": "2021-12-18T13:31:06.838Z"
   },
   {
    "duration": 21,
    "start_time": "2021-12-18T13:31:07.163Z"
   },
   {
    "duration": 6,
    "start_time": "2021-12-18T13:31:08.471Z"
   },
   {
    "duration": 12,
    "start_time": "2021-12-18T13:31:08.755Z"
   },
   {
    "duration": 34,
    "start_time": "2021-12-18T13:31:10.217Z"
   },
   {
    "duration": 13,
    "start_time": "2021-12-18T13:31:10.745Z"
   },
   {
    "duration": 6,
    "start_time": "2021-12-18T13:31:11.640Z"
   },
   {
    "duration": 362,
    "start_time": "2021-12-18T13:31:12.132Z"
   },
   {
    "duration": 36,
    "start_time": "2021-12-18T13:31:12.662Z"
   },
   {
    "duration": 13,
    "start_time": "2021-12-18T13:31:16.393Z"
   },
   {
    "duration": 5,
    "start_time": "2021-12-18T13:31:18.187Z"
   },
   {
    "duration": 10,
    "start_time": "2021-12-18T13:31:19.407Z"
   },
   {
    "duration": 17,
    "start_time": "2021-12-18T13:31:20.871Z"
   },
   {
    "duration": 8,
    "start_time": "2021-12-18T13:31:22.050Z"
   },
   {
    "duration": 24,
    "start_time": "2021-12-18T13:31:25.758Z"
   },
   {
    "duration": 13,
    "start_time": "2021-12-18T13:31:27.312Z"
   },
   {
    "duration": 13,
    "start_time": "2021-12-18T13:31:30.616Z"
   },
   {
    "duration": 4,
    "start_time": "2021-12-18T13:31:32.670Z"
   },
   {
    "duration": 79,
    "start_time": "2021-12-18T13:31:38.295Z"
   },
   {
    "duration": 5,
    "start_time": "2021-12-18T13:31:41.019Z"
   },
   {
    "duration": 524,
    "start_time": "2021-12-18T13:31:41.214Z"
   },
   {
    "duration": 576,
    "start_time": "2021-12-18T13:31:41.741Z"
   },
   {
    "duration": 477,
    "start_time": "2021-12-18T13:31:42.321Z"
   },
   {
    "duration": 521,
    "start_time": "2021-12-18T13:31:42.801Z"
   },
   {
    "duration": 17,
    "start_time": "2021-12-18T13:31:43.426Z"
   },
   {
    "duration": 18,
    "start_time": "2021-12-18T13:31:43.793Z"
   },
   {
    "duration": 15,
    "start_time": "2021-12-18T13:31:44.790Z"
   },
   {
    "duration": 17,
    "start_time": "2021-12-18T13:31:44.970Z"
   },
   {
    "duration": 89,
    "start_time": "2021-12-19T06:20:27.091Z"
   },
   {
    "duration": 1561,
    "start_time": "2021-12-19T06:23:20.915Z"
   },
   {
    "duration": 30,
    "start_time": "2021-12-19T06:23:24.392Z"
   },
   {
    "duration": 47,
    "start_time": "2021-12-19T06:23:25.079Z"
   },
   {
    "duration": 118,
    "start_time": "2021-12-19T06:23:25.409Z"
   },
   {
    "duration": 199,
    "start_time": "2021-12-19T06:23:25.879Z"
   },
   {
    "duration": 9,
    "start_time": "2021-12-19T06:23:27.038Z"
   },
   {
    "duration": 10,
    "start_time": "2021-12-19T06:23:27.374Z"
   },
   {
    "duration": 5,
    "start_time": "2021-12-19T06:23:27.822Z"
   },
   {
    "duration": 13,
    "start_time": "2021-12-19T06:23:28.159Z"
   },
   {
    "duration": 8,
    "start_time": "2021-12-19T06:23:28.503Z"
   },
   {
    "duration": 45,
    "start_time": "2021-12-19T06:23:29.459Z"
   },
   {
    "duration": 12,
    "start_time": "2021-12-19T06:23:37.911Z"
   },
   {
    "duration": 390,
    "start_time": "2021-12-19T06:24:47.520Z"
   },
   {
    "duration": 92,
    "start_time": "2021-12-19T06:24:53.711Z"
   },
   {
    "duration": 390,
    "start_time": "2021-12-19T06:25:04.665Z"
   },
   {
    "duration": 12,
    "start_time": "2021-12-19T06:25:13.891Z"
   },
   {
    "duration": 8,
    "start_time": "2021-12-19T06:25:22.255Z"
   },
   {
    "duration": 8,
    "start_time": "2021-12-19T06:25:29.982Z"
   },
   {
    "duration": 8,
    "start_time": "2021-12-19T06:25:44.771Z"
   },
   {
    "duration": 8,
    "start_time": "2021-12-19T06:27:30.594Z"
   },
   {
    "duration": 19,
    "start_time": "2021-12-19T06:27:42.532Z"
   },
   {
    "duration": 9,
    "start_time": "2021-12-19T06:27:49.451Z"
   },
   {
    "duration": 21,
    "start_time": "2021-12-19T06:29:27.355Z"
   },
   {
    "duration": 10,
    "start_time": "2021-12-19T06:30:41.876Z"
   },
   {
    "duration": 343,
    "start_time": "2021-12-19T06:31:53.236Z"
   },
   {
    "duration": 7,
    "start_time": "2021-12-19T06:32:14.160Z"
   },
   {
    "duration": 6,
    "start_time": "2021-12-19T06:34:15.821Z"
   },
   {
    "duration": 417,
    "start_time": "2021-12-19T06:34:20.925Z"
   },
   {
    "duration": 5,
    "start_time": "2021-12-19T06:34:44.950Z"
   },
   {
    "duration": 4,
    "start_time": "2021-12-19T06:34:59.158Z"
   },
   {
    "duration": 5,
    "start_time": "2021-12-19T06:35:44.383Z"
   },
   {
    "duration": 452,
    "start_time": "2021-12-19T06:36:08.394Z"
   },
   {
    "duration": 25,
    "start_time": "2021-12-19T06:36:08.848Z"
   },
   {
    "duration": 50,
    "start_time": "2021-12-19T06:36:08.875Z"
   },
   {
    "duration": 124,
    "start_time": "2021-12-19T06:36:08.926Z"
   },
   {
    "duration": 218,
    "start_time": "2021-12-19T06:36:09.052Z"
   },
   {
    "duration": 9,
    "start_time": "2021-12-19T06:36:10.215Z"
   },
   {
    "duration": 11,
    "start_time": "2021-12-19T06:36:10.542Z"
   },
   {
    "duration": 5,
    "start_time": "2021-12-19T06:36:10.926Z"
   },
   {
    "duration": 13,
    "start_time": "2021-12-19T06:36:11.254Z"
   },
   {
    "duration": 10,
    "start_time": "2021-12-19T06:36:11.765Z"
   },
   {
    "duration": 9,
    "start_time": "2021-12-19T06:36:12.111Z"
   },
   {
    "duration": 5,
    "start_time": "2021-12-19T06:36:12.463Z"
   },
   {
    "duration": 52,
    "start_time": "2021-12-19T06:36:13.047Z"
   },
   {
    "duration": 5,
    "start_time": "2021-12-19T06:36:16.278Z"
   },
   {
    "duration": 13,
    "start_time": "2021-12-19T06:36:40.855Z"
   },
   {
    "duration": 21,
    "start_time": "2021-12-19T06:37:39.608Z"
   },
   {
    "duration": 24,
    "start_time": "2021-12-19T06:37:43.849Z"
   },
   {
    "duration": 2008,
    "start_time": "2021-12-19T07:17:56.197Z"
   },
   {
    "duration": 39,
    "start_time": "2021-12-19T07:17:58.208Z"
   },
   {
    "duration": 66,
    "start_time": "2021-12-19T07:17:58.665Z"
   },
   {
    "duration": 169,
    "start_time": "2021-12-19T07:18:01.956Z"
   },
   {
    "duration": 308,
    "start_time": "2021-12-19T07:18:02.990Z"
   },
   {
    "duration": 11,
    "start_time": "2021-12-19T07:18:08.846Z"
   },
   {
    "duration": 14,
    "start_time": "2021-12-19T07:18:11.824Z"
   },
   {
    "duration": 7,
    "start_time": "2021-12-19T07:18:12.176Z"
   },
   {
    "duration": 16,
    "start_time": "2021-12-19T07:18:12.533Z"
   },
   {
    "duration": 10,
    "start_time": "2021-12-19T07:18:12.867Z"
   },
   {
    "duration": 61,
    "start_time": "2021-12-19T07:18:13.400Z"
   },
   {
    "duration": 18,
    "start_time": "2021-12-19T07:18:19.793Z"
   },
   {
    "duration": 28,
    "start_time": "2021-12-19T07:18:20.623Z"
   },
   {
    "duration": 36,
    "start_time": "2021-12-19T07:18:21.231Z"
   },
   {
    "duration": 23,
    "start_time": "2021-12-19T07:18:21.467Z"
   },
   {
    "duration": 17,
    "start_time": "2021-12-19T07:18:22.038Z"
   },
   {
    "duration": 6,
    "start_time": "2021-12-19T07:18:22.847Z"
   },
   {
    "duration": 12,
    "start_time": "2021-12-19T07:18:23.018Z"
   },
   {
    "duration": 33,
    "start_time": "2021-12-19T07:18:23.214Z"
   },
   {
    "duration": 12,
    "start_time": "2021-12-19T07:18:23.427Z"
   },
   {
    "duration": 6,
    "start_time": "2021-12-19T07:18:23.666Z"
   },
   {
    "duration": 368,
    "start_time": "2021-12-19T07:18:23.886Z"
   },
   {
    "duration": 33,
    "start_time": "2021-12-19T07:18:24.256Z"
   },
   {
    "duration": 10,
    "start_time": "2021-12-19T07:18:25.225Z"
   },
   {
    "duration": 530,
    "start_time": "2021-12-19T07:22:10.959Z"
   },
   {
    "duration": 44,
    "start_time": "2021-12-19T07:22:11.491Z"
   },
   {
    "duration": 65,
    "start_time": "2021-12-19T07:22:13.774Z"
   },
   {
    "duration": 158,
    "start_time": "2021-12-19T07:22:15.909Z"
   },
   {
    "duration": 250,
    "start_time": "2021-12-19T07:22:17.444Z"
   },
   {
    "duration": 11,
    "start_time": "2021-12-19T07:22:20.822Z"
   },
   {
    "duration": 13,
    "start_time": "2021-12-19T07:22:22.655Z"
   },
   {
    "duration": 6,
    "start_time": "2021-12-19T07:22:24.206Z"
   },
   {
    "duration": 12,
    "start_time": "2021-12-19T07:22:24.570Z"
   },
   {
    "duration": 10,
    "start_time": "2021-12-19T07:22:26.587Z"
   },
   {
    "duration": 79,
    "start_time": "2021-12-19T07:22:28.724Z"
   },
   {
    "duration": 19,
    "start_time": "2021-12-19T07:22:37.958Z"
   },
   {
    "duration": 80,
    "start_time": "2021-12-19T07:23:43.466Z"
   },
   {
    "duration": 20,
    "start_time": "2021-12-19T07:23:43.548Z"
   },
   {
    "duration": 88,
    "start_time": "2021-12-19T07:24:52.994Z"
   },
   {
    "duration": 36,
    "start_time": "2021-12-19T07:24:54.822Z"
   },
   {
    "duration": 96,
    "start_time": "2021-12-19T07:25:05.230Z"
   },
   {
    "duration": 33,
    "start_time": "2021-12-19T07:25:05.960Z"
   },
   {
    "duration": 95,
    "start_time": "2021-12-19T07:25:47.239Z"
   },
   {
    "duration": 33,
    "start_time": "2021-12-19T07:25:47.889Z"
   },
   {
    "duration": 93,
    "start_time": "2021-12-19T07:26:37.739Z"
   },
   {
    "duration": 510,
    "start_time": "2021-12-19T07:26:41.495Z"
   },
   {
    "duration": 52,
    "start_time": "2021-12-19T07:26:42.008Z"
   },
   {
    "duration": 91,
    "start_time": "2021-12-19T07:26:42.064Z"
   },
   {
    "duration": 178,
    "start_time": "2021-12-19T07:26:42.159Z"
   },
   {
    "duration": 245,
    "start_time": "2021-12-19T07:26:42.544Z"
   },
   {
    "duration": 11,
    "start_time": "2021-12-19T07:26:45.033Z"
   },
   {
    "duration": 14,
    "start_time": "2021-12-19T07:26:45.404Z"
   },
   {
    "duration": 7,
    "start_time": "2021-12-19T07:26:45.784Z"
   },
   {
    "duration": 13,
    "start_time": "2021-12-19T07:26:46.135Z"
   },
   {
    "duration": 9,
    "start_time": "2021-12-19T07:26:46.445Z"
   },
   {
    "duration": 105,
    "start_time": "2021-12-19T07:26:46.857Z"
   },
   {
    "duration": 31,
    "start_time": "2021-12-19T07:26:46.972Z"
   },
   {
    "duration": 3,
    "start_time": "2021-12-19T07:26:50.970Z"
   },
   {
    "duration": 3,
    "start_time": "2021-12-19T07:26:53.301Z"
   },
   {
    "duration": 25,
    "start_time": "2021-12-19T07:26:54.906Z"
   },
   {
    "duration": 3,
    "start_time": "2021-12-19T07:26:56.879Z"
   },
   {
    "duration": 4,
    "start_time": "2021-12-19T07:26:57.247Z"
   },
   {
    "duration": 3,
    "start_time": "2021-12-19T07:26:57.509Z"
   },
   {
    "duration": 94,
    "start_time": "2021-12-19T07:27:05.515Z"
   },
   {
    "duration": 21,
    "start_time": "2021-12-19T07:27:14.043Z"
   },
   {
    "duration": 5,
    "start_time": "2021-12-19T07:27:21.906Z"
   },
   {
    "duration": 13,
    "start_time": "2021-12-19T07:27:22.348Z"
   },
   {
    "duration": 32,
    "start_time": "2021-12-19T07:27:22.866Z"
   },
   {
    "duration": 13,
    "start_time": "2021-12-19T07:27:28.836Z"
   },
   {
    "duration": 6,
    "start_time": "2021-12-19T07:27:30.351Z"
   },
   {
    "duration": 374,
    "start_time": "2021-12-19T07:27:30.756Z"
   },
   {
    "duration": 33,
    "start_time": "2021-12-19T07:27:31.133Z"
   },
   {
    "duration": 94,
    "start_time": "2021-12-19T07:30:11.515Z"
   },
   {
    "duration": 21,
    "start_time": "2021-12-19T07:30:32.142Z"
   },
   {
    "duration": 4,
    "start_time": "2021-12-19T07:30:34.427Z"
   },
   {
    "duration": 12,
    "start_time": "2021-12-19T07:30:34.862Z"
   },
   {
    "duration": 31,
    "start_time": "2021-12-19T07:30:35.338Z"
   },
   {
    "duration": 12,
    "start_time": "2021-12-19T07:30:36.710Z"
   },
   {
    "duration": 6,
    "start_time": "2021-12-19T07:30:37.215Z"
   },
   {
    "duration": 365,
    "start_time": "2021-12-19T07:30:40.664Z"
   },
   {
    "duration": 30,
    "start_time": "2021-12-19T07:30:41.031Z"
   },
   {
    "duration": 11,
    "start_time": "2021-12-19T07:30:44.340Z"
   },
   {
    "duration": 5,
    "start_time": "2021-12-19T07:31:29.224Z"
   },
   {
    "duration": 10,
    "start_time": "2021-12-19T07:31:30.734Z"
   },
   {
    "duration": 5,
    "start_time": "2021-12-19T07:32:00.642Z"
   },
   {
    "duration": 8,
    "start_time": "2021-12-19T07:32:02.179Z"
   },
   {
    "duration": 7,
    "start_time": "2021-12-19T07:32:50.478Z"
   },
   {
    "duration": 9,
    "start_time": "2021-12-19T07:32:51.689Z"
   },
   {
    "duration": 7,
    "start_time": "2021-12-19T07:32:56.839Z"
   },
   {
    "duration": 9,
    "start_time": "2021-12-19T07:32:59.597Z"
   },
   {
    "duration": 9,
    "start_time": "2021-12-19T07:33:12.342Z"
   },
   {
    "duration": 9,
    "start_time": "2021-12-19T07:33:14.080Z"
   },
   {
    "duration": 8,
    "start_time": "2021-12-19T07:42:07.984Z"
   },
   {
    "duration": 5,
    "start_time": "2021-12-19T07:42:14.215Z"
   },
   {
    "duration": 12,
    "start_time": "2021-12-19T07:42:14.576Z"
   },
   {
    "duration": 32,
    "start_time": "2021-12-19T07:42:15.029Z"
   },
   {
    "duration": 12,
    "start_time": "2021-12-19T07:42:15.681Z"
   },
   {
    "duration": 6,
    "start_time": "2021-12-19T07:42:16.288Z"
   },
   {
    "duration": 7482,
    "start_time": "2021-12-19T07:42:16.701Z"
   },
   {
    "duration": -407,
    "start_time": "2021-12-19T07:42:24.593Z"
   },
   {
    "duration": -413,
    "start_time": "2021-12-19T07:42:24.600Z"
   },
   {
    "duration": 520,
    "start_time": "2021-12-19T07:42:34.077Z"
   },
   {
    "duration": 42,
    "start_time": "2021-12-19T07:42:37.067Z"
   },
   {
    "duration": 65,
    "start_time": "2021-12-19T07:42:38.403Z"
   },
   {
    "duration": 152,
    "start_time": "2021-12-19T07:42:38.964Z"
   },
   {
    "duration": 265,
    "start_time": "2021-12-19T07:42:39.753Z"
   },
   {
    "duration": 10,
    "start_time": "2021-12-19T07:42:41.276Z"
   },
   {
    "duration": 17,
    "start_time": "2021-12-19T07:42:41.629Z"
   },
   {
    "duration": 7,
    "start_time": "2021-12-19T07:42:42.014Z"
   },
   {
    "duration": 12,
    "start_time": "2021-12-19T07:42:42.418Z"
   },
   {
    "duration": 11,
    "start_time": "2021-12-19T07:42:42.824Z"
   },
   {
    "duration": 100,
    "start_time": "2021-12-19T07:42:44.295Z"
   },
   {
    "duration": 504,
    "start_time": "2021-12-19T07:43:06.929Z"
   },
   {
    "duration": 42,
    "start_time": "2021-12-19T07:43:07.435Z"
   },
   {
    "duration": 64,
    "start_time": "2021-12-19T07:43:08.450Z"
   },
   {
    "duration": 153,
    "start_time": "2021-12-19T07:43:08.847Z"
   },
   {
    "duration": 246,
    "start_time": "2021-12-19T07:43:09.432Z"
   },
   {
    "duration": 10,
    "start_time": "2021-12-19T07:43:10.903Z"
   },
   {
    "duration": 14,
    "start_time": "2021-12-19T07:43:11.338Z"
   },
   {
    "duration": 7,
    "start_time": "2021-12-19T07:43:11.813Z"
   },
   {
    "duration": 13,
    "start_time": "2021-12-19T07:43:12.324Z"
   },
   {
    "duration": 9,
    "start_time": "2021-12-19T07:43:12.754Z"
   },
   {
    "duration": 3,
    "start_time": "2021-12-19T07:43:13.434Z"
   },
   {
    "duration": 3,
    "start_time": "2021-12-19T07:43:15.068Z"
   },
   {
    "duration": 31,
    "start_time": "2021-12-19T07:43:15.842Z"
   },
   {
    "duration": 502,
    "start_time": "2021-12-19T07:43:32.589Z"
   },
   {
    "duration": 43,
    "start_time": "2021-12-19T07:43:33.094Z"
   },
   {
    "duration": 62,
    "start_time": "2021-12-19T07:43:33.341Z"
   },
   {
    "duration": 157,
    "start_time": "2021-12-19T07:43:33.515Z"
   },
   {
    "duration": 266,
    "start_time": "2021-12-19T07:43:33.756Z"
   },
   {
    "duration": 10,
    "start_time": "2021-12-19T07:43:34.363Z"
   },
   {
    "duration": 12,
    "start_time": "2021-12-19T07:43:34.512Z"
   },
   {
    "duration": 8,
    "start_time": "2021-12-19T07:43:35.451Z"
   },
   {
    "duration": 12,
    "start_time": "2021-12-19T07:43:35.868Z"
   },
   {
    "duration": 9,
    "start_time": "2021-12-19T07:43:36.212Z"
   },
   {
    "duration": 3,
    "start_time": "2021-12-19T07:43:36.994Z"
   },
   {
    "duration": 4,
    "start_time": "2021-12-19T07:43:38.300Z"
   },
   {
    "duration": 16,
    "start_time": "2021-12-19T07:43:38.661Z"
   },
   {
    "duration": 504,
    "start_time": "2021-12-19T07:43:46.536Z"
   },
   {
    "duration": 45,
    "start_time": "2021-12-19T07:43:47.043Z"
   },
   {
    "duration": 66,
    "start_time": "2021-12-19T07:43:47.293Z"
   },
   {
    "duration": 163,
    "start_time": "2021-12-19T07:43:47.454Z"
   },
   {
    "duration": 269,
    "start_time": "2021-12-19T07:43:47.707Z"
   },
   {
    "duration": 9,
    "start_time": "2021-12-19T07:43:48.301Z"
   },
   {
    "duration": 14,
    "start_time": "2021-12-19T07:43:48.461Z"
   },
   {
    "duration": 7,
    "start_time": "2021-12-19T07:43:48.654Z"
   },
   {
    "duration": 12,
    "start_time": "2021-12-19T07:43:48.795Z"
   },
   {
    "duration": 9,
    "start_time": "2021-12-19T07:43:48.965Z"
   },
   {
    "duration": 4,
    "start_time": "2021-12-19T07:43:49.217Z"
   },
   {
    "duration": 3,
    "start_time": "2021-12-19T07:43:50.940Z"
   },
   {
    "duration": 3,
    "start_time": "2021-12-19T07:43:51.274Z"
   },
   {
    "duration": 4,
    "start_time": "2021-12-19T07:43:51.771Z"
   },
   {
    "duration": 3,
    "start_time": "2021-12-19T07:43:52.018Z"
   },
   {
    "duration": 3,
    "start_time": "2021-12-19T07:43:52.397Z"
   },
   {
    "duration": 107,
    "start_time": "2021-12-19T07:43:55.012Z"
   },
   {
    "duration": 21,
    "start_time": "2021-12-19T07:43:56.200Z"
   },
   {
    "duration": 5,
    "start_time": "2021-12-19T07:44:03.351Z"
   },
   {
    "duration": 12,
    "start_time": "2021-12-19T07:44:03.948Z"
   },
   {
    "duration": 31,
    "start_time": "2021-12-19T07:44:07.964Z"
   },
   {
    "duration": 13,
    "start_time": "2021-12-19T07:44:12.398Z"
   },
   {
    "duration": 6,
    "start_time": "2021-12-19T07:44:13.274Z"
   },
   {
    "duration": 32,
    "start_time": "2021-12-19T07:44:21.059Z"
   },
   {
    "duration": 11,
    "start_time": "2021-12-19T07:44:36.512Z"
   },
   {
    "duration": 9,
    "start_time": "2021-12-19T07:44:51.831Z"
   },
   {
    "duration": 10,
    "start_time": "2021-12-19T07:45:00.838Z"
   },
   {
    "duration": 30,
    "start_time": "2021-12-19T07:45:13.154Z"
   },
   {
    "duration": 8,
    "start_time": "2021-12-19T07:45:36.581Z"
   },
   {
    "duration": 9,
    "start_time": "2021-12-19T07:45:36.974Z"
   },
   {
    "duration": 4,
    "start_time": "2021-12-19T07:45:38.958Z"
   },
   {
    "duration": 14,
    "start_time": "2021-12-19T07:45:39.431Z"
   },
   {
    "duration": 31,
    "start_time": "2021-12-19T07:45:39.892Z"
   },
   {
    "duration": 12,
    "start_time": "2021-12-19T07:45:41.361Z"
   },
   {
    "duration": 3422,
    "start_time": "2021-12-19T07:47:56.776Z"
   },
   {
    "duration": -138,
    "start_time": "2021-12-19T07:48:56.935Z"
   },
   {
    "duration": -148,
    "start_time": "2021-12-19T07:48:56.946Z"
   },
   {
    "duration": 6,
    "start_time": "2021-12-19T07:50:01.621Z"
   },
   {
    "duration": 7344,
    "start_time": "2021-12-19T07:50:04.598Z"
   },
   {
    "duration": 509,
    "start_time": "2021-12-19T07:50:45.210Z"
   },
   {
    "duration": 43,
    "start_time": "2021-12-19T07:50:45.760Z"
   },
   {
    "duration": 66,
    "start_time": "2021-12-19T07:50:47.016Z"
   },
   {
    "duration": 163,
    "start_time": "2021-12-19T07:50:47.675Z"
   },
   {
    "duration": 284,
    "start_time": "2021-12-19T07:50:49.100Z"
   },
   {
    "duration": 11,
    "start_time": "2021-12-19T07:50:51.849Z"
   },
   {
    "duration": 15,
    "start_time": "2021-12-19T07:50:52.378Z"
   },
   {
    "duration": 7,
    "start_time": "2021-12-19T07:50:52.764Z"
   },
   {
    "duration": 12,
    "start_time": "2021-12-19T07:50:53.395Z"
   },
   {
    "duration": 9,
    "start_time": "2021-12-19T07:50:53.888Z"
   },
   {
    "duration": 3,
    "start_time": "2021-12-19T07:50:54.991Z"
   },
   {
    "duration": 4,
    "start_time": "2021-12-19T07:50:56.885Z"
   },
   {
    "duration": 4,
    "start_time": "2021-12-19T07:50:57.477Z"
   },
   {
    "duration": 4,
    "start_time": "2021-12-19T07:50:58.258Z"
   },
   {
    "duration": 4,
    "start_time": "2021-12-19T07:50:58.900Z"
   },
   {
    "duration": 3,
    "start_time": "2021-12-19T07:50:59.276Z"
   },
   {
    "duration": 100,
    "start_time": "2021-12-19T07:51:04.872Z"
   },
   {
    "duration": 28,
    "start_time": "2021-12-19T07:51:06.203Z"
   },
   {
    "duration": 9,
    "start_time": "2021-12-19T07:51:11.423Z"
   },
   {
    "duration": 8,
    "start_time": "2021-12-19T07:51:13.407Z"
   },
   {
    "duration": 10,
    "start_time": "2021-12-19T07:51:19.377Z"
   },
   {
    "duration": 22,
    "start_time": "2021-12-19T07:51:22.743Z"
   },
   {
    "duration": 9,
    "start_time": "2021-12-19T07:51:34.710Z"
   },
   {
    "duration": 509,
    "start_time": "2021-12-19T07:51:48.940Z"
   },
   {
    "duration": 44,
    "start_time": "2021-12-19T07:51:49.451Z"
   },
   {
    "duration": 67,
    "start_time": "2021-12-19T07:51:50.709Z"
   },
   {
    "duration": 174,
    "start_time": "2021-12-19T07:51:50.779Z"
   },
   {
    "duration": 285,
    "start_time": "2021-12-19T07:51:50.955Z"
   },
   {
    "duration": 9,
    "start_time": "2021-12-19T07:51:52.832Z"
   },
   {
    "duration": 12,
    "start_time": "2021-12-19T07:51:53.093Z"
   },
   {
    "duration": 7,
    "start_time": "2021-12-19T07:51:53.325Z"
   },
   {
    "duration": 13,
    "start_time": "2021-12-19T07:51:53.590Z"
   },
   {
    "duration": 9,
    "start_time": "2021-12-19T07:51:53.830Z"
   },
   {
    "duration": 4,
    "start_time": "2021-12-19T07:51:54.253Z"
   },
   {
    "duration": 3,
    "start_time": "2021-12-19T07:51:54.864Z"
   },
   {
    "duration": 3,
    "start_time": "2021-12-19T07:51:56.356Z"
   },
   {
    "duration": 3,
    "start_time": "2021-12-19T07:51:56.672Z"
   },
   {
    "duration": 3,
    "start_time": "2021-12-19T07:51:56.858Z"
   },
   {
    "duration": 3,
    "start_time": "2021-12-19T07:51:56.919Z"
   },
   {
    "duration": 104,
    "start_time": "2021-12-19T07:51:57.185Z"
   },
   {
    "duration": 23,
    "start_time": "2021-12-19T07:51:59.652Z"
   },
   {
    "duration": 10,
    "start_time": "2021-12-19T07:52:00.926Z"
   },
   {
    "duration": 9,
    "start_time": "2021-12-19T07:52:05.338Z"
   },
   {
    "duration": 9,
    "start_time": "2021-12-19T07:52:06.973Z"
   },
   {
    "duration": 6,
    "start_time": "2021-12-19T07:52:11.415Z"
   },
   {
    "duration": 12,
    "start_time": "2021-12-19T07:52:13.934Z"
   },
   {
    "duration": 31,
    "start_time": "2021-12-19T07:52:15.892Z"
   },
   {
    "duration": 14,
    "start_time": "2021-12-19T07:52:20.219Z"
   },
   {
    "duration": 5,
    "start_time": "2021-12-19T07:52:20.729Z"
   },
   {
    "duration": 382,
    "start_time": "2021-12-19T07:52:22.713Z"
   },
   {
    "duration": 32,
    "start_time": "2021-12-19T07:52:24.892Z"
   },
   {
    "duration": 4,
    "start_time": "2021-12-19T07:52:46.333Z"
   },
   {
    "duration": 3,
    "start_time": "2021-12-19T07:52:46.709Z"
   },
   {
    "duration": 4,
    "start_time": "2021-12-19T07:52:47.049Z"
   },
   {
    "duration": 3,
    "start_time": "2021-12-19T07:52:47.385Z"
   },
   {
    "duration": 3,
    "start_time": "2021-12-19T07:52:47.693Z"
   },
   {
    "duration": 5,
    "start_time": "2021-12-19T07:52:48.448Z"
   },
   {
    "duration": 3,
    "start_time": "2021-12-19T07:52:49.258Z"
   },
   {
    "duration": 3,
    "start_time": "2021-12-19T07:53:10.627Z"
   },
   {
    "duration": 4,
    "start_time": "2021-12-19T07:53:10.833Z"
   },
   {
    "duration": 3,
    "start_time": "2021-12-19T07:53:11.008Z"
   },
   {
    "duration": 3,
    "start_time": "2021-12-19T07:53:11.372Z"
   },
   {
    "duration": 3,
    "start_time": "2021-12-19T07:53:11.746Z"
   },
   {
    "duration": 3,
    "start_time": "2021-12-19T07:53:12.116Z"
   },
   {
    "duration": 3,
    "start_time": "2021-12-19T07:53:12.304Z"
   },
   {
    "duration": 4,
    "start_time": "2021-12-19T07:53:12.507Z"
   },
   {
    "duration": 3,
    "start_time": "2021-12-19T07:53:12.883Z"
   },
   {
    "duration": 2,
    "start_time": "2021-12-19T07:53:13.793Z"
   },
   {
    "duration": 633,
    "start_time": "2021-12-19T07:53:14.242Z"
   },
   {
    "duration": 5,
    "start_time": "2021-12-19T07:53:16.097Z"
   },
   {
    "duration": 623,
    "start_time": "2021-12-19T07:53:16.563Z"
   },
   {
    "duration": 543,
    "start_time": "2021-12-19T07:53:19.070Z"
   },
   {
    "duration": 475,
    "start_time": "2021-12-19T07:53:21.509Z"
   },
   {
    "duration": 562,
    "start_time": "2021-12-19T07:53:25.218Z"
   },
   {
    "duration": 15,
    "start_time": "2021-12-19T07:53:29.839Z"
   },
   {
    "duration": 18,
    "start_time": "2021-12-19T07:53:31.870Z"
   },
   {
    "duration": 17,
    "start_time": "2021-12-19T07:53:36.730Z"
   },
   {
    "duration": 16,
    "start_time": "2021-12-19T07:53:38.230Z"
   },
   {
    "duration": 15,
    "start_time": "2021-12-19T07:54:12.758Z"
   },
   {
    "duration": 17,
    "start_time": "2021-12-19T07:54:13.410Z"
   },
   {
    "duration": 549,
    "start_time": "2021-12-19T07:54:39.221Z"
   },
   {
    "duration": 47,
    "start_time": "2021-12-19T07:54:39.772Z"
   },
   {
    "duration": 68,
    "start_time": "2021-12-19T07:54:39.822Z"
   },
   {
    "duration": 197,
    "start_time": "2021-12-19T07:54:39.892Z"
   },
   {
    "duration": 320,
    "start_time": "2021-12-19T07:54:40.092Z"
   },
   {
    "duration": 9,
    "start_time": "2021-12-19T07:54:42.489Z"
   },
   {
    "duration": 14,
    "start_time": "2021-12-19T07:54:43.107Z"
   },
   {
    "duration": 8,
    "start_time": "2021-12-19T07:54:43.249Z"
   },
   {
    "duration": 13,
    "start_time": "2021-12-19T07:54:44.494Z"
   },
   {
    "duration": 10,
    "start_time": "2021-12-19T07:54:44.962Z"
   },
   {
    "duration": 3,
    "start_time": "2021-12-19T07:54:45.555Z"
   },
   {
    "duration": 3,
    "start_time": "2021-12-19T07:54:50.052Z"
   },
   {
    "duration": 4,
    "start_time": "2021-12-19T07:54:54.761Z"
   },
   {
    "duration": 4,
    "start_time": "2021-12-19T07:54:55.370Z"
   },
   {
    "duration": 3,
    "start_time": "2021-12-19T07:54:55.793Z"
   },
   {
    "duration": 3,
    "start_time": "2021-12-19T07:54:56.164Z"
   },
   {
    "duration": 120,
    "start_time": "2021-12-19T07:54:57.009Z"
   },
   {
    "duration": 22,
    "start_time": "2021-12-19T07:54:57.914Z"
   },
   {
    "duration": 9,
    "start_time": "2021-12-19T07:55:05.481Z"
   },
   {
    "duration": 9,
    "start_time": "2021-12-19T07:55:06.056Z"
   },
   {
    "duration": 5,
    "start_time": "2021-12-19T07:55:07.615Z"
   },
   {
    "duration": 13,
    "start_time": "2021-12-19T07:55:07.915Z"
   },
   {
    "duration": 31,
    "start_time": "2021-12-19T07:55:08.403Z"
   },
   {
    "duration": 12,
    "start_time": "2021-12-19T07:55:08.815Z"
   },
   {
    "duration": 6,
    "start_time": "2021-12-19T07:55:09.345Z"
   },
   {
    "duration": 377,
    "start_time": "2021-12-19T07:55:09.872Z"
   },
   {
    "duration": 33,
    "start_time": "2021-12-19T07:55:10.626Z"
   },
   {
    "duration": 3,
    "start_time": "2021-12-19T07:55:52.053Z"
   },
   {
    "duration": 3,
    "start_time": "2021-12-19T07:55:52.275Z"
   },
   {
    "duration": 4,
    "start_time": "2021-12-19T07:55:52.487Z"
   },
   {
    "duration": 3,
    "start_time": "2021-12-19T07:55:53.015Z"
   },
   {
    "duration": 3,
    "start_time": "2021-12-19T07:55:53.465Z"
   },
   {
    "duration": 4,
    "start_time": "2021-12-19T07:55:53.803Z"
   },
   {
    "duration": 3,
    "start_time": "2021-12-19T07:55:53.985Z"
   },
   {
    "duration": 4,
    "start_time": "2021-12-19T07:55:54.159Z"
   },
   {
    "duration": 4,
    "start_time": "2021-12-19T07:55:54.480Z"
   },
   {
    "duration": 3,
    "start_time": "2021-12-19T07:55:55.113Z"
   },
   {
    "duration": 108,
    "start_time": "2021-12-19T07:55:55.314Z"
   },
   {
    "duration": 5,
    "start_time": "2021-12-19T07:55:55.880Z"
   },
   {
    "duration": 634,
    "start_time": "2021-12-19T07:55:56.061Z"
   },
   {
    "duration": 666,
    "start_time": "2021-12-19T07:55:56.697Z"
   },
   {
    "duration": 509,
    "start_time": "2021-12-19T07:55:57.366Z"
   },
   {
    "duration": 549,
    "start_time": "2021-12-19T07:55:57.878Z"
   },
   {
    "duration": 15,
    "start_time": "2021-12-19T07:55:58.430Z"
   },
   {
    "duration": 28,
    "start_time": "2021-12-19T07:55:58.447Z"
   },
   {
    "duration": 15,
    "start_time": "2021-12-19T07:55:58.536Z"
   },
   {
    "duration": 16,
    "start_time": "2021-12-19T07:55:58.619Z"
   }
  ],
  "kernelspec": {
   "display_name": "Python 3 (ipykernel)",
   "language": "python",
   "name": "python3"
  },
  "language_info": {
   "codemirror_mode": {
    "name": "ipython",
    "version": 3
   },
   "file_extension": ".py",
   "mimetype": "text/x-python",
   "name": "python",
   "nbconvert_exporter": "python",
   "pygments_lexer": "ipython3",
   "version": "3.9.7"
  },
  "toc": {
   "base_numbering": 1,
   "nav_menu": {},
   "number_sections": true,
   "sideBar": true,
   "skip_h1_title": true,
   "title_cell": "Содержание",
   "title_sidebar": "Contents",
   "toc_cell": true,
   "toc_position": {},
   "toc_section_display": true,
   "toc_window_display": true
  }
 },
 "nbformat": 4,
 "nbformat_minor": 2
}
