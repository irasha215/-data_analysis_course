{
 "cells": [
  {
   "cell_type": "markdown",
   "id": "383d59eb",
   "metadata": {},
   "source": [
    "# Анализ результатов А/В-тестирования"
   ]
  },
  {
   "cell_type": "markdown",
   "id": "a1bdc67f",
   "metadata": {},
   "source": [
    "Задача — провести оценку результатов A/B-теста. В нашем распоряжении есть датасет с действиями пользователей, техническое задание и несколько вспомогательных датасетов."
   ]
  },
  {
   "cell_type": "markdown",
   "id": "90a40348",
   "metadata": {},
   "source": [
    "### Техническое задание\n",
    "\n",
    "- Название теста: `recommender_system_test`;\n",
    "- группы: А — контрольная, B — новая платёжная воронка;\n",
    "- дата запуска: 2020-12-07;\n",
    "- дата остановки набора новых пользователей: 2020-12-21;\n",
    "- дата остановки: 2021-01-04;\n",
    "- аудитория: 15% новых пользователей из региона EU;\n",
    "- назначение теста: тестирование изменений, связанных с внедрением улучшенной рекомендательной системы;\n",
    "- ожидаемое количество участников теста: 6000.\n",
    "- ожидаемый эффект: за 14 дней с момента регистрации пользователи покажут улучшение каждой метрики не менее, чем на 10%:\n",
    "    - конверсии в просмотр карточек товаров — событие `product_page`,\n",
    "    - просмотры корзины — `product_cart`,\n",
    "    - покупки — `purchase`."
   ]
  },
  {
   "cell_type": "markdown",
   "id": "77afc7d1",
   "metadata": {},
   "source": [
    "## Открытие данных"
   ]
  },
  {
   "cell_type": "code",
   "execution_count": 1,
   "id": "ee4c4353",
   "metadata": {},
   "outputs": [],
   "source": [
    "import pandas as pd\n",
    "import seaborn as sns\n",
    "import matplotlib.pyplot as plt\n",
    "from scipy import stats as st\n",
    "import numpy as np\n",
    "import math as mth\n",
    "from datetime import datetime, timedelta"
   ]
  },
  {
   "cell_type": "code",
   "execution_count": 2,
   "id": "1b9745d7",
   "metadata": {},
   "outputs": [],
   "source": [
    "try:\n",
    "    ab_project_marketing_events = pd.read_csv('/Users/air/Downloads/ab_project_marketing_events.csv')\n",
    "    final_ab_events = pd.read_csv('/Users/air/Downloads/final_ab_events.csv')\n",
    "    final_ab_new_users = pd.read_csv('/Users/air/Downloads/final_ab_new_users.csv')\n",
    "    final_ab_participants = pd.read_csv('/Users/air/Downloads/final_ab_participants.csv')\n",
    "except:\n",
    "    ab_project_marketing_events = pd.read_csv('/datasets/ab_project_marketing_events.csv')\n",
    "    final_ab_events = pd.read_csv('/datasets/final_ab_events.csv')\n",
    "    final_ab_new_users = pd.read_csv('/datasets/final_ab_new_users.csv')\n",
    "    final_ab_participants = pd.read_csv('/datasets/final_ab_participants.csv')"
   ]
  },
  {
   "cell_type": "code",
   "execution_count": 3,
   "id": "29375d6e",
   "metadata": {},
   "outputs": [
    {
     "data": {
      "text/html": [
       "<div>\n",
       "<style scoped>\n",
       "    .dataframe tbody tr th:only-of-type {\n",
       "        vertical-align: middle;\n",
       "    }\n",
       "\n",
       "    .dataframe tbody tr th {\n",
       "        vertical-align: top;\n",
       "    }\n",
       "\n",
       "    .dataframe thead th {\n",
       "        text-align: right;\n",
       "    }\n",
       "</style>\n",
       "<table border=\"1\" class=\"dataframe\">\n",
       "  <thead>\n",
       "    <tr style=\"text-align: right;\">\n",
       "      <th></th>\n",
       "      <th>name</th>\n",
       "      <th>regions</th>\n",
       "      <th>start_dt</th>\n",
       "      <th>finish_dt</th>\n",
       "    </tr>\n",
       "  </thead>\n",
       "  <tbody>\n",
       "    <tr>\n",
       "      <th>0</th>\n",
       "      <td>Christmas&amp;New Year Promo</td>\n",
       "      <td>EU, N.America</td>\n",
       "      <td>2020-12-25</td>\n",
       "      <td>2021-01-03</td>\n",
       "    </tr>\n",
       "    <tr>\n",
       "      <th>1</th>\n",
       "      <td>St. Valentine's Day Giveaway</td>\n",
       "      <td>EU, CIS, APAC, N.America</td>\n",
       "      <td>2020-02-14</td>\n",
       "      <td>2020-02-16</td>\n",
       "    </tr>\n",
       "    <tr>\n",
       "      <th>2</th>\n",
       "      <td>St. Patric's Day Promo</td>\n",
       "      <td>EU, N.America</td>\n",
       "      <td>2020-03-17</td>\n",
       "      <td>2020-03-19</td>\n",
       "    </tr>\n",
       "    <tr>\n",
       "      <th>3</th>\n",
       "      <td>Easter Promo</td>\n",
       "      <td>EU, CIS, APAC, N.America</td>\n",
       "      <td>2020-04-12</td>\n",
       "      <td>2020-04-19</td>\n",
       "    </tr>\n",
       "    <tr>\n",
       "      <th>4</th>\n",
       "      <td>4th of July Promo</td>\n",
       "      <td>N.America</td>\n",
       "      <td>2020-07-04</td>\n",
       "      <td>2020-07-11</td>\n",
       "    </tr>\n",
       "  </tbody>\n",
       "</table>\n",
       "</div>"
      ],
      "text/plain": [
       "                           name                   regions    start_dt  \\\n",
       "0      Christmas&New Year Promo             EU, N.America  2020-12-25   \n",
       "1  St. Valentine's Day Giveaway  EU, CIS, APAC, N.America  2020-02-14   \n",
       "2        St. Patric's Day Promo             EU, N.America  2020-03-17   \n",
       "3                  Easter Promo  EU, CIS, APAC, N.America  2020-04-12   \n",
       "4             4th of July Promo                 N.America  2020-07-04   \n",
       "\n",
       "    finish_dt  \n",
       "0  2021-01-03  \n",
       "1  2020-02-16  \n",
       "2  2020-03-19  \n",
       "3  2020-04-19  \n",
       "4  2020-07-11  "
      ]
     },
     "execution_count": 3,
     "metadata": {},
     "output_type": "execute_result"
    }
   ],
   "source": [
    "ab_project_marketing_events.head()"
   ]
  },
  {
   "cell_type": "code",
   "execution_count": 4,
   "id": "2789bf6c",
   "metadata": {},
   "outputs": [
    {
     "data": {
      "text/html": [
       "<div>\n",
       "<style scoped>\n",
       "    .dataframe tbody tr th:only-of-type {\n",
       "        vertical-align: middle;\n",
       "    }\n",
       "\n",
       "    .dataframe tbody tr th {\n",
       "        vertical-align: top;\n",
       "    }\n",
       "\n",
       "    .dataframe thead th {\n",
       "        text-align: right;\n",
       "    }\n",
       "</style>\n",
       "<table border=\"1\" class=\"dataframe\">\n",
       "  <thead>\n",
       "    <tr style=\"text-align: right;\">\n",
       "      <th></th>\n",
       "      <th>user_id</th>\n",
       "      <th>event_dt</th>\n",
       "      <th>event_name</th>\n",
       "      <th>details</th>\n",
       "    </tr>\n",
       "  </thead>\n",
       "  <tbody>\n",
       "    <tr>\n",
       "      <th>0</th>\n",
       "      <td>E1BDDCE0DAFA2679</td>\n",
       "      <td>2020-12-07 20:22:03</td>\n",
       "      <td>purchase</td>\n",
       "      <td>99.99</td>\n",
       "    </tr>\n",
       "    <tr>\n",
       "      <th>1</th>\n",
       "      <td>7B6452F081F49504</td>\n",
       "      <td>2020-12-07 09:22:53</td>\n",
       "      <td>purchase</td>\n",
       "      <td>9.99</td>\n",
       "    </tr>\n",
       "    <tr>\n",
       "      <th>2</th>\n",
       "      <td>9CD9F34546DF254C</td>\n",
       "      <td>2020-12-07 12:59:29</td>\n",
       "      <td>purchase</td>\n",
       "      <td>4.99</td>\n",
       "    </tr>\n",
       "    <tr>\n",
       "      <th>3</th>\n",
       "      <td>96F27A054B191457</td>\n",
       "      <td>2020-12-07 04:02:40</td>\n",
       "      <td>purchase</td>\n",
       "      <td>4.99</td>\n",
       "    </tr>\n",
       "    <tr>\n",
       "      <th>4</th>\n",
       "      <td>1FD7660FDF94CA1F</td>\n",
       "      <td>2020-12-07 10:15:09</td>\n",
       "      <td>purchase</td>\n",
       "      <td>4.99</td>\n",
       "    </tr>\n",
       "  </tbody>\n",
       "</table>\n",
       "</div>"
      ],
      "text/plain": [
       "            user_id             event_dt event_name  details\n",
       "0  E1BDDCE0DAFA2679  2020-12-07 20:22:03   purchase    99.99\n",
       "1  7B6452F081F49504  2020-12-07 09:22:53   purchase     9.99\n",
       "2  9CD9F34546DF254C  2020-12-07 12:59:29   purchase     4.99\n",
       "3  96F27A054B191457  2020-12-07 04:02:40   purchase     4.99\n",
       "4  1FD7660FDF94CA1F  2020-12-07 10:15:09   purchase     4.99"
      ]
     },
     "execution_count": 4,
     "metadata": {},
     "output_type": "execute_result"
    }
   ],
   "source": [
    "final_ab_events.head()"
   ]
  },
  {
   "cell_type": "code",
   "execution_count": 5,
   "id": "49eb4569",
   "metadata": {},
   "outputs": [
    {
     "data": {
      "text/html": [
       "<div>\n",
       "<style scoped>\n",
       "    .dataframe tbody tr th:only-of-type {\n",
       "        vertical-align: middle;\n",
       "    }\n",
       "\n",
       "    .dataframe tbody tr th {\n",
       "        vertical-align: top;\n",
       "    }\n",
       "\n",
       "    .dataframe thead th {\n",
       "        text-align: right;\n",
       "    }\n",
       "</style>\n",
       "<table border=\"1\" class=\"dataframe\">\n",
       "  <thead>\n",
       "    <tr style=\"text-align: right;\">\n",
       "      <th></th>\n",
       "      <th>user_id</th>\n",
       "      <th>first_date</th>\n",
       "      <th>region</th>\n",
       "      <th>device</th>\n",
       "    </tr>\n",
       "  </thead>\n",
       "  <tbody>\n",
       "    <tr>\n",
       "      <th>0</th>\n",
       "      <td>D72A72121175D8BE</td>\n",
       "      <td>2020-12-07</td>\n",
       "      <td>EU</td>\n",
       "      <td>PC</td>\n",
       "    </tr>\n",
       "    <tr>\n",
       "      <th>1</th>\n",
       "      <td>F1C668619DFE6E65</td>\n",
       "      <td>2020-12-07</td>\n",
       "      <td>N.America</td>\n",
       "      <td>Android</td>\n",
       "    </tr>\n",
       "    <tr>\n",
       "      <th>2</th>\n",
       "      <td>2E1BF1D4C37EA01F</td>\n",
       "      <td>2020-12-07</td>\n",
       "      <td>EU</td>\n",
       "      <td>PC</td>\n",
       "    </tr>\n",
       "    <tr>\n",
       "      <th>3</th>\n",
       "      <td>50734A22C0C63768</td>\n",
       "      <td>2020-12-07</td>\n",
       "      <td>EU</td>\n",
       "      <td>iPhone</td>\n",
       "    </tr>\n",
       "    <tr>\n",
       "      <th>4</th>\n",
       "      <td>E1BDDCE0DAFA2679</td>\n",
       "      <td>2020-12-07</td>\n",
       "      <td>N.America</td>\n",
       "      <td>iPhone</td>\n",
       "    </tr>\n",
       "  </tbody>\n",
       "</table>\n",
       "</div>"
      ],
      "text/plain": [
       "            user_id  first_date     region   device\n",
       "0  D72A72121175D8BE  2020-12-07         EU       PC\n",
       "1  F1C668619DFE6E65  2020-12-07  N.America  Android\n",
       "2  2E1BF1D4C37EA01F  2020-12-07         EU       PC\n",
       "3  50734A22C0C63768  2020-12-07         EU   iPhone\n",
       "4  E1BDDCE0DAFA2679  2020-12-07  N.America   iPhone"
      ]
     },
     "execution_count": 5,
     "metadata": {},
     "output_type": "execute_result"
    }
   ],
   "source": [
    "final_ab_new_users.head()"
   ]
  },
  {
   "cell_type": "code",
   "execution_count": 6,
   "id": "0f6e54c0",
   "metadata": {
    "scrolled": false
   },
   "outputs": [
    {
     "data": {
      "text/html": [
       "<div>\n",
       "<style scoped>\n",
       "    .dataframe tbody tr th:only-of-type {\n",
       "        vertical-align: middle;\n",
       "    }\n",
       "\n",
       "    .dataframe tbody tr th {\n",
       "        vertical-align: top;\n",
       "    }\n",
       "\n",
       "    .dataframe thead th {\n",
       "        text-align: right;\n",
       "    }\n",
       "</style>\n",
       "<table border=\"1\" class=\"dataframe\">\n",
       "  <thead>\n",
       "    <tr style=\"text-align: right;\">\n",
       "      <th></th>\n",
       "      <th>user_id</th>\n",
       "      <th>group</th>\n",
       "      <th>ab_test</th>\n",
       "    </tr>\n",
       "  </thead>\n",
       "  <tbody>\n",
       "    <tr>\n",
       "      <th>0</th>\n",
       "      <td>D1ABA3E2887B6A73</td>\n",
       "      <td>A</td>\n",
       "      <td>recommender_system_test</td>\n",
       "    </tr>\n",
       "    <tr>\n",
       "      <th>1</th>\n",
       "      <td>A7A3664BD6242119</td>\n",
       "      <td>A</td>\n",
       "      <td>recommender_system_test</td>\n",
       "    </tr>\n",
       "    <tr>\n",
       "      <th>2</th>\n",
       "      <td>DABC14FDDFADD29E</td>\n",
       "      <td>A</td>\n",
       "      <td>recommender_system_test</td>\n",
       "    </tr>\n",
       "    <tr>\n",
       "      <th>3</th>\n",
       "      <td>04988C5DF189632E</td>\n",
       "      <td>A</td>\n",
       "      <td>recommender_system_test</td>\n",
       "    </tr>\n",
       "    <tr>\n",
       "      <th>4</th>\n",
       "      <td>482F14783456D21B</td>\n",
       "      <td>B</td>\n",
       "      <td>recommender_system_test</td>\n",
       "    </tr>\n",
       "  </tbody>\n",
       "</table>\n",
       "</div>"
      ],
      "text/plain": [
       "            user_id group                  ab_test\n",
       "0  D1ABA3E2887B6A73     A  recommender_system_test\n",
       "1  A7A3664BD6242119     A  recommender_system_test\n",
       "2  DABC14FDDFADD29E     A  recommender_system_test\n",
       "3  04988C5DF189632E     A  recommender_system_test\n",
       "4  482F14783456D21B     B  recommender_system_test"
      ]
     },
     "execution_count": 6,
     "metadata": {},
     "output_type": "execute_result"
    }
   ],
   "source": [
    "final_ab_participants.head()"
   ]
  },
  {
   "cell_type": "markdown",
   "id": "04b0df7d",
   "metadata": {},
   "source": [
    "### Описание данных"
   ]
  },
  {
   "cell_type": "markdown",
   "id": "7ad94de5",
   "metadata": {},
   "source": [
    "`ab_project_marketing_events.csv` — календарь маркетинговых событий на 2020 год.\n",
    "\n",
    "- `name` — название маркетингового события;\n",
    "- `regions` — регионы, в которых будет проводиться рекламная кампания;\n",
    "- `start_dt` — дата начала кампании;\n",
    "- `finish_dt` — дата завершения кампании.\n",
    "\n",
    "\n",
    "`final_ab_new_users.csv` — пользователи, зарегистрировавшиеся с 7 по 21 декабря 2020 года.\n",
    "\n",
    "- `user_id` — идентификатор пользователя;\n",
    "- `first_date` — дата регистрации;\n",
    "- `region` — регион пользователя;\n",
    "- `device` — устройство, с которого происходила регистрация.\n",
    "\n",
    "\n",
    "`final_ab_events.csv` — действия новых пользователей в период с 7 декабря 2020 по 4 января 2021 года.\n",
    "\n",
    "\n",
    "- `user_id` — идентификатор пользователя;\n",
    "- `event_dt` — дата и время покупки;\n",
    "- `event_name` — тип события;\n",
    "- `details` — дополнительные данные о событии. Например, для покупок, `purchase,` в этом поле хранится стоимость покупки в долларах.\n",
    "\n",
    "\n",
    "`final_ab_participants.csv` — таблица участников тестов.\n",
    "\n",
    "- `user_id` — идентификатор пользователя;\n",
    "- `ab_test` — название теста;\n",
    "- `group` — группа пользователя.\n"
   ]
  },
  {
   "cell_type": "markdown",
   "id": "3e3f48b4",
   "metadata": {},
   "source": [
    "## Предобработка данных"
   ]
  },
  {
   "cell_type": "code",
   "execution_count": 7,
   "id": "890e017a",
   "metadata": {},
   "outputs": [],
   "source": [
    "def check_data(data):\n",
    "    display(data.info())\n",
    "    print('Количество пропущенных значений:')\n",
    "    print(data.isna().sum())\n",
    "    print()\n",
    "    print('Количество дубликатов:', data.duplicated().sum())"
   ]
  },
  {
   "cell_type": "markdown",
   "id": "478cb70a",
   "metadata": {},
   "source": [
    "### ab_project_marketing_events"
   ]
  },
  {
   "cell_type": "code",
   "execution_count": 8,
   "id": "10373174",
   "metadata": {},
   "outputs": [
    {
     "name": "stdout",
     "output_type": "stream",
     "text": [
      "<class 'pandas.core.frame.DataFrame'>\n",
      "RangeIndex: 14 entries, 0 to 13\n",
      "Data columns (total 4 columns):\n",
      " #   Column     Non-Null Count  Dtype \n",
      "---  ------     --------------  ----- \n",
      " 0   name       14 non-null     object\n",
      " 1   regions    14 non-null     object\n",
      " 2   start_dt   14 non-null     object\n",
      " 3   finish_dt  14 non-null     object\n",
      "dtypes: object(4)\n",
      "memory usage: 576.0+ bytes\n"
     ]
    },
    {
     "data": {
      "text/plain": [
       "None"
      ]
     },
     "metadata": {},
     "output_type": "display_data"
    },
    {
     "name": "stdout",
     "output_type": "stream",
     "text": [
      "Количество пропущенных значений:\n",
      "name         0\n",
      "regions      0\n",
      "start_dt     0\n",
      "finish_dt    0\n",
      "dtype: int64\n",
      "\n",
      "Количество дубликатов: 0\n"
     ]
    }
   ],
   "source": [
    "check_data(ab_project_marketing_events)"
   ]
  },
  {
   "cell_type": "code",
   "execution_count": 9,
   "id": "cb75d04a",
   "metadata": {},
   "outputs": [],
   "source": [
    "ab_project_marketing_events['start_dt'] = pd.to_datetime(ab_project_marketing_events['start_dt'])\n",
    "ab_project_marketing_events['finish_dt'] = pd.to_datetime(ab_project_marketing_events['finish_dt'])\n"
   ]
  },
  {
   "cell_type": "markdown",
   "id": "9b5fbf20",
   "metadata": {},
   "source": [
    "**Вывод:** Пропусков и дубликатов а данных нет, данные приведены к нужному типу."
   ]
  },
  {
   "cell_type": "markdown",
   "id": "90914630",
   "metadata": {},
   "source": [
    "### final_ab_events"
   ]
  },
  {
   "cell_type": "code",
   "execution_count": 10,
   "id": "2b86973c",
   "metadata": {},
   "outputs": [
    {
     "name": "stdout",
     "output_type": "stream",
     "text": [
      "<class 'pandas.core.frame.DataFrame'>\n",
      "RangeIndex: 440317 entries, 0 to 440316\n",
      "Data columns (total 4 columns):\n",
      " #   Column      Non-Null Count   Dtype  \n",
      "---  ------      --------------   -----  \n",
      " 0   user_id     440317 non-null  object \n",
      " 1   event_dt    440317 non-null  object \n",
      " 2   event_name  440317 non-null  object \n",
      " 3   details     62740 non-null   float64\n",
      "dtypes: float64(1), object(3)\n",
      "memory usage: 13.4+ MB\n"
     ]
    },
    {
     "data": {
      "text/plain": [
       "None"
      ]
     },
     "metadata": {},
     "output_type": "display_data"
    },
    {
     "name": "stdout",
     "output_type": "stream",
     "text": [
      "Количество пропущенных значений:\n",
      "user_id            0\n",
      "event_dt           0\n",
      "event_name         0\n",
      "details       377577\n",
      "dtype: int64\n",
      "\n",
      "Количество дубликатов: 0\n"
     ]
    }
   ],
   "source": [
    "check_data(final_ab_events)"
   ]
  },
  {
   "cell_type": "code",
   "execution_count": 11,
   "id": "ee047a4b",
   "metadata": {},
   "outputs": [],
   "source": [
    "final_ab_events.event_dt = pd.to_datetime(final_ab_events['event_dt'])"
   ]
  },
  {
   "cell_type": "markdown",
   "id": "09d3741a",
   "metadata": {},
   "source": [
    "### final_ab_new_users"
   ]
  },
  {
   "cell_type": "code",
   "execution_count": 12,
   "id": "3587adc9",
   "metadata": {},
   "outputs": [
    {
     "name": "stdout",
     "output_type": "stream",
     "text": [
      "<class 'pandas.core.frame.DataFrame'>\n",
      "RangeIndex: 61733 entries, 0 to 61732\n",
      "Data columns (total 4 columns):\n",
      " #   Column      Non-Null Count  Dtype \n",
      "---  ------      --------------  ----- \n",
      " 0   user_id     61733 non-null  object\n",
      " 1   first_date  61733 non-null  object\n",
      " 2   region      61733 non-null  object\n",
      " 3   device      61733 non-null  object\n",
      "dtypes: object(4)\n",
      "memory usage: 1.9+ MB\n"
     ]
    },
    {
     "data": {
      "text/plain": [
       "None"
      ]
     },
     "metadata": {},
     "output_type": "display_data"
    },
    {
     "name": "stdout",
     "output_type": "stream",
     "text": [
      "Количество пропущенных значений:\n",
      "user_id       0\n",
      "first_date    0\n",
      "region        0\n",
      "device        0\n",
      "dtype: int64\n",
      "\n",
      "Количество дубликатов: 0\n"
     ]
    }
   ],
   "source": [
    "check_data(final_ab_new_users)"
   ]
  },
  {
   "cell_type": "code",
   "execution_count": 13,
   "id": "8d25e068",
   "metadata": {},
   "outputs": [],
   "source": [
    "final_ab_new_users.first_date = pd.to_datetime(final_ab_new_users['first_date'])"
   ]
  },
  {
   "cell_type": "markdown",
   "id": "0607ce51",
   "metadata": {},
   "source": [
    "### final_ab_participants"
   ]
  },
  {
   "cell_type": "code",
   "execution_count": 14,
   "id": "10baa00d",
   "metadata": {},
   "outputs": [
    {
     "name": "stdout",
     "output_type": "stream",
     "text": [
      "<class 'pandas.core.frame.DataFrame'>\n",
      "RangeIndex: 18268 entries, 0 to 18267\n",
      "Data columns (total 3 columns):\n",
      " #   Column   Non-Null Count  Dtype \n",
      "---  ------   --------------  ----- \n",
      " 0   user_id  18268 non-null  object\n",
      " 1   group    18268 non-null  object\n",
      " 2   ab_test  18268 non-null  object\n",
      "dtypes: object(3)\n",
      "memory usage: 428.3+ KB\n"
     ]
    },
    {
     "data": {
      "text/plain": [
       "None"
      ]
     },
     "metadata": {},
     "output_type": "display_data"
    },
    {
     "name": "stdout",
     "output_type": "stream",
     "text": [
      "Количество пропущенных значений:\n",
      "user_id    0\n",
      "group      0\n",
      "ab_test    0\n",
      "dtype: int64\n",
      "\n",
      "Количество дубликатов: 0\n"
     ]
    }
   ],
   "source": [
    "check_data(final_ab_participants)"
   ]
  },
  {
   "cell_type": "markdown",
   "id": "01535eaf",
   "metadata": {},
   "source": [
    "### Вывод:"
   ]
  },
  {
   "cell_type": "markdown",
   "id": "e2129873",
   "metadata": {},
   "source": [
    " - Дубликатов и пропусков в данных нет за исключением таблицы final_ab_events. Пропуски обнаружены в столбце details, это объясняется тем, что информация там указывается только для типа события - purchase.\n",
    " - Данные приведены к нужным форматам."
   ]
  },
  {
   "cell_type": "markdown",
   "id": "c292134c",
   "metadata": {},
   "source": [
    "## Корректность проведения теста"
   ]
  },
  {
   "cell_type": "markdown",
   "id": "0dac8715",
   "metadata": {},
   "source": [
    "### Временные рамки теста"
   ]
  },
  {
   "cell_type": "markdown",
   "id": "30751050",
   "metadata": {},
   "source": [
    "#### Длительность теста"
   ]
  },
  {
   "cell_type": "code",
   "execution_count": 15,
   "id": "bba22c6c",
   "metadata": {},
   "outputs": [
    {
     "data": {
      "text/plain": [
       "Timestamp('2020-12-07 00:00:33')"
      ]
     },
     "execution_count": 15,
     "metadata": {},
     "output_type": "execute_result"
    }
   ],
   "source": [
    "final_ab_events['event_dt'].min()"
   ]
  },
  {
   "cell_type": "code",
   "execution_count": 16,
   "id": "aaa67364",
   "metadata": {},
   "outputs": [
    {
     "data": {
      "text/plain": [
       "Timestamp('2020-12-30 23:36:33')"
      ]
     },
     "execution_count": 16,
     "metadata": {},
     "output_type": "execute_result"
    }
   ],
   "source": [
    "final_ab_events['event_dt'].max()"
   ]
  },
  {
   "cell_type": "markdown",
   "id": "4e121c7f",
   "metadata": {},
   "source": [
    "В ТЗ указано, что тестирование проходило с 7 декабря по 4 января, однако дата последнего события - 30 декабря."
   ]
  },
  {
   "cell_type": "markdown",
   "id": "2b70e082",
   "metadata": {},
   "source": [
    "#### Набор участников"
   ]
  },
  {
   "cell_type": "code",
   "execution_count": 17,
   "id": "67b816cf",
   "metadata": {},
   "outputs": [
    {
     "data": {
      "text/plain": [
       "Timestamp('2020-12-07 00:00:00')"
      ]
     },
     "execution_count": 17,
     "metadata": {},
     "output_type": "execute_result"
    }
   ],
   "source": [
    "final_ab_new_users['first_date'].min()"
   ]
  },
  {
   "cell_type": "code",
   "execution_count": 18,
   "id": "58c143ce",
   "metadata": {},
   "outputs": [
    {
     "data": {
      "text/plain": [
       "Timestamp('2020-12-23 00:00:00')"
      ]
     },
     "execution_count": 18,
     "metadata": {},
     "output_type": "execute_result"
    }
   ],
   "source": [
    "final_ab_new_users['first_date'].max()"
   ]
  },
  {
   "cell_type": "markdown",
   "id": "b9e5f686",
   "metadata": {},
   "source": [
    "В ТЗ указано, что набор участников шел с 7 декабря по 21 декабря, однако в данных есть участники, которые присоединились 23 декабря."
   ]
  },
  {
   "cell_type": "markdown",
   "id": "d24045e2",
   "metadata": {},
   "source": [
    "#### Пересечение с маркетинговыми мероприятиями"
   ]
  },
  {
   "cell_type": "code",
   "execution_count": 19,
   "id": "7e7d26e3",
   "metadata": {},
   "outputs": [
    {
     "data": {
      "text/html": [
       "<div>\n",
       "<style scoped>\n",
       "    .dataframe tbody tr th:only-of-type {\n",
       "        vertical-align: middle;\n",
       "    }\n",
       "\n",
       "    .dataframe tbody tr th {\n",
       "        vertical-align: top;\n",
       "    }\n",
       "\n",
       "    .dataframe thead th {\n",
       "        text-align: right;\n",
       "    }\n",
       "</style>\n",
       "<table border=\"1\" class=\"dataframe\">\n",
       "  <thead>\n",
       "    <tr style=\"text-align: right;\">\n",
       "      <th></th>\n",
       "      <th>name</th>\n",
       "      <th>regions</th>\n",
       "      <th>start_dt</th>\n",
       "      <th>finish_dt</th>\n",
       "    </tr>\n",
       "  </thead>\n",
       "  <tbody>\n",
       "    <tr>\n",
       "      <th>0</th>\n",
       "      <td>Christmas&amp;New Year Promo</td>\n",
       "      <td>EU, N.America</td>\n",
       "      <td>2020-12-25</td>\n",
       "      <td>2021-01-03</td>\n",
       "    </tr>\n",
       "    <tr>\n",
       "      <th>1</th>\n",
       "      <td>St. Valentine's Day Giveaway</td>\n",
       "      <td>EU, CIS, APAC, N.America</td>\n",
       "      <td>2020-02-14</td>\n",
       "      <td>2020-02-16</td>\n",
       "    </tr>\n",
       "    <tr>\n",
       "      <th>2</th>\n",
       "      <td>St. Patric's Day Promo</td>\n",
       "      <td>EU, N.America</td>\n",
       "      <td>2020-03-17</td>\n",
       "      <td>2020-03-19</td>\n",
       "    </tr>\n",
       "    <tr>\n",
       "      <th>3</th>\n",
       "      <td>Easter Promo</td>\n",
       "      <td>EU, CIS, APAC, N.America</td>\n",
       "      <td>2020-04-12</td>\n",
       "      <td>2020-04-19</td>\n",
       "    </tr>\n",
       "    <tr>\n",
       "      <th>4</th>\n",
       "      <td>4th of July Promo</td>\n",
       "      <td>N.America</td>\n",
       "      <td>2020-07-04</td>\n",
       "      <td>2020-07-11</td>\n",
       "    </tr>\n",
       "    <tr>\n",
       "      <th>5</th>\n",
       "      <td>Black Friday Ads Campaign</td>\n",
       "      <td>EU, CIS, APAC, N.America</td>\n",
       "      <td>2020-11-26</td>\n",
       "      <td>2020-12-01</td>\n",
       "    </tr>\n",
       "    <tr>\n",
       "      <th>6</th>\n",
       "      <td>Chinese New Year Promo</td>\n",
       "      <td>APAC</td>\n",
       "      <td>2020-01-25</td>\n",
       "      <td>2020-02-07</td>\n",
       "    </tr>\n",
       "    <tr>\n",
       "      <th>7</th>\n",
       "      <td>Labor day (May 1st) Ads Campaign</td>\n",
       "      <td>EU, CIS, APAC</td>\n",
       "      <td>2020-05-01</td>\n",
       "      <td>2020-05-03</td>\n",
       "    </tr>\n",
       "    <tr>\n",
       "      <th>8</th>\n",
       "      <td>International Women's Day Promo</td>\n",
       "      <td>EU, CIS, APAC</td>\n",
       "      <td>2020-03-08</td>\n",
       "      <td>2020-03-10</td>\n",
       "    </tr>\n",
       "    <tr>\n",
       "      <th>9</th>\n",
       "      <td>Victory Day CIS (May 9th) Event</td>\n",
       "      <td>CIS</td>\n",
       "      <td>2020-05-09</td>\n",
       "      <td>2020-05-11</td>\n",
       "    </tr>\n",
       "    <tr>\n",
       "      <th>10</th>\n",
       "      <td>CIS New Year Gift Lottery</td>\n",
       "      <td>CIS</td>\n",
       "      <td>2020-12-30</td>\n",
       "      <td>2021-01-07</td>\n",
       "    </tr>\n",
       "    <tr>\n",
       "      <th>11</th>\n",
       "      <td>Dragon Boat Festival Giveaway</td>\n",
       "      <td>APAC</td>\n",
       "      <td>2020-06-25</td>\n",
       "      <td>2020-07-01</td>\n",
       "    </tr>\n",
       "    <tr>\n",
       "      <th>12</th>\n",
       "      <td>Single's Day Gift Promo</td>\n",
       "      <td>APAC</td>\n",
       "      <td>2020-11-11</td>\n",
       "      <td>2020-11-12</td>\n",
       "    </tr>\n",
       "    <tr>\n",
       "      <th>13</th>\n",
       "      <td>Chinese Moon Festival</td>\n",
       "      <td>APAC</td>\n",
       "      <td>2020-10-01</td>\n",
       "      <td>2020-10-07</td>\n",
       "    </tr>\n",
       "  </tbody>\n",
       "</table>\n",
       "</div>"
      ],
      "text/plain": [
       "                                name                   regions   start_dt  \\\n",
       "0           Christmas&New Year Promo             EU, N.America 2020-12-25   \n",
       "1       St. Valentine's Day Giveaway  EU, CIS, APAC, N.America 2020-02-14   \n",
       "2             St. Patric's Day Promo             EU, N.America 2020-03-17   \n",
       "3                       Easter Promo  EU, CIS, APAC, N.America 2020-04-12   \n",
       "4                  4th of July Promo                 N.America 2020-07-04   \n",
       "5          Black Friday Ads Campaign  EU, CIS, APAC, N.America 2020-11-26   \n",
       "6             Chinese New Year Promo                      APAC 2020-01-25   \n",
       "7   Labor day (May 1st) Ads Campaign             EU, CIS, APAC 2020-05-01   \n",
       "8    International Women's Day Promo             EU, CIS, APAC 2020-03-08   \n",
       "9    Victory Day CIS (May 9th) Event                       CIS 2020-05-09   \n",
       "10         CIS New Year Gift Lottery                       CIS 2020-12-30   \n",
       "11     Dragon Boat Festival Giveaway                      APAC 2020-06-25   \n",
       "12           Single's Day Gift Promo                      APAC 2020-11-11   \n",
       "13             Chinese Moon Festival                      APAC 2020-10-01   \n",
       "\n",
       "    finish_dt  \n",
       "0  2021-01-03  \n",
       "1  2020-02-16  \n",
       "2  2020-03-19  \n",
       "3  2020-04-19  \n",
       "4  2020-07-11  \n",
       "5  2020-12-01  \n",
       "6  2020-02-07  \n",
       "7  2020-05-03  \n",
       "8  2020-03-10  \n",
       "9  2020-05-11  \n",
       "10 2021-01-07  \n",
       "11 2020-07-01  \n",
       "12 2020-11-12  \n",
       "13 2020-10-07  "
      ]
     },
     "execution_count": 19,
     "metadata": {},
     "output_type": "execute_result"
    }
   ],
   "source": [
    "ab_project_marketing_events"
   ]
  },
  {
   "cell_type": "markdown",
   "id": "505bba0f",
   "metadata": {},
   "source": [
    "Если учитывать, что участники тестирования приходят только из региона EU, то можно сказать, что время проведения теста пересекается с Christmas&New Year Promo(25.12 - 03.01). Это мероприятие застрагивает 5 дней тестирования. Стоит учитывать это при анализе результатов."
   ]
  },
  {
   "cell_type": "markdown",
   "id": "3b222d42",
   "metadata": {},
   "source": [
    "#### Вывод:"
   ]
  },
  {
   "cell_type": "markdown",
   "id": "de2a43fe",
   "metadata": {},
   "source": [
    " - События тестирования представлены с 7 по 30 декабря.\n",
    " - Набор участников проходил с 7 по 23 декабря.\n",
    " - Время проведения теста частично пересекается с мероприятием Christmas&New Year Promo. Оно застрагивает 5 дней эксперимента."
   ]
  },
  {
   "cell_type": "markdown",
   "id": "462e0a64",
   "metadata": {},
   "source": [
    "### Аудитория теста"
   ]
  },
  {
   "cell_type": "code",
   "execution_count": 20,
   "id": "7ba47f93",
   "metadata": {},
   "outputs": [],
   "source": [
    "# Найдем пользователей, которые участвуют в нашем тесте(recommender_system_test)\n",
    "ab_test_users = (\n",
    "    final_ab_participants[final_ab_participants['ab_test'] == 'recommender_system_test']\n",
    ")\n",
    "# Найдем id этих пользователей\n",
    "ab_test_id = ab_test_users.user_id.unique()\n",
    "\n",
    "# Найдем их среди новых пользователей\n",
    "new_users_ab = final_ab_new_users.query('user_id in @ab_test_id')\n"
   ]
  },
  {
   "cell_type": "code",
   "execution_count": 21,
   "id": "edce019c",
   "metadata": {},
   "outputs": [],
   "source": [
    "# Функция для вывода информации о пользователях на экран\n",
    "def check_users(final_users, ab_test_users):\n",
    "    \n",
    "    print(\n",
    "        'Количество участников A/B-теста:',\n",
    "        final_users.user_id.nunique()\n",
    "    )\n",
    "    \n",
    "    print(\n",
    "        'Процент новых пользователей, участвующих в A/B-тесте: {:.2%}'\n",
    "        .format(final_users['user_id'].nunique() / final_ab_new_users['user_id'].nunique())\n",
    "    )\n",
    "    \n",
    "    print(\n",
    "        'Регионы пользователей, участвующих в A/B-тесте:',\n",
    "        final_users['region'].unique()\n",
    "    )\n",
    "    \n",
    "    print(\n",
    "        'Процент пользователей из региона EU среди учестников теста: {:.2%}'\n",
    "        .format(final_users[final_users['region'] == 'EU']['user_id'].nunique() / final_users.user_id.nunique())\n",
    "    )\n",
    "    \n",
    "    print(\n",
    "        'Количество участников в группе А:',\n",
    "        ab_test_users[ab_test_users['group'] == 'A'].user_id.nunique()\n",
    "    )\n",
    "    \n",
    "    print(\n",
    "        'Количество участников в группе B:',\n",
    "        ab_test_users[ab_test_users['group'] == 'B'].user_id.nunique()\n",
    "    )\n",
    "    print('---')\n",
    "    print()\n",
    "    print(\n",
    "        'Процент участников теста от количества новых пользователей из региона EU: {:.2%}'\n",
    "        .format(ab_test_users.user_id.nunique() / final_ab_new_users[final_ab_new_users['region'] == 'EU'].user_id.nunique())       \n",
    "    )\n",
    "    \n",
    "    \n",
    "    \n",
    "    "
   ]
  },
  {
   "cell_type": "code",
   "execution_count": 22,
   "id": "c2274d77",
   "metadata": {},
   "outputs": [
    {
     "name": "stdout",
     "output_type": "stream",
     "text": [
      "Количество участников A/B-теста: 6701\n",
      "Процент новых пользователей, участвующих в A/B-тесте: 10.85%\n",
      "Регионы пользователей, участвующих в A/B-тесте: ['EU' 'APAC' 'CIS' 'N.America']\n",
      "Процент пользователей из региона EU среди учестников теста: 94.78%\n",
      "Количество участников в группе А: 3824\n",
      "Количество участников в группе B: 2877\n",
      "---\n",
      "\n",
      "Процент участников теста от количества новых пользователей из региона EU: 14.48%\n"
     ]
    }
   ],
   "source": [
    "check_users(new_users_ab, ab_test_users)"
   ]
  },
  {
   "cell_type": "markdown",
   "id": "8fe9032a",
   "metadata": {},
   "source": [
    "**Итог:**\n",
    " - В тесте 6701 участник, это немного больше, чем ожидаемое количество участников(6000).\n",
    " - Аудитория теста –– примерно 11% новых пользователей(ожидаемое - 15%).\n",
    " - Есть участники из регионов: 'EU' 'APAC' 'CIS' 'N.America', ожидались участники только из EU.\n",
    " - Пользователи из региона EU составляют примерно 95%.\n",
    " - Распределение по группам неравномерное: в группе В практически на тысячу участников больше."
   ]
  },
  {
   "cell_type": "markdown",
   "id": "14837851",
   "metadata": {},
   "source": [
    "#### Пересечения с конкурирующим тестом"
   ]
  },
  {
   "cell_type": "code",
   "execution_count": 24,
   "id": "b8ebea26",
   "metadata": {
    "scrolled": true
   },
   "outputs": [
    {
     "data": {
      "text/html": [
       "<div>\n",
       "<style scoped>\n",
       "    .dataframe tbody tr th:only-of-type {\n",
       "        vertical-align: middle;\n",
       "    }\n",
       "\n",
       "    .dataframe tbody tr th {\n",
       "        vertical-align: top;\n",
       "    }\n",
       "\n",
       "    .dataframe thead th {\n",
       "        text-align: right;\n",
       "    }\n",
       "</style>\n",
       "<table border=\"1\" class=\"dataframe\">\n",
       "  <thead>\n",
       "    <tr style=\"text-align: right;\">\n",
       "      <th></th>\n",
       "      <th>user_id</th>\n",
       "      <th>ab_test</th>\n",
       "    </tr>\n",
       "  </thead>\n",
       "  <tbody>\n",
       "    <tr>\n",
       "      <th>0</th>\n",
       "      <td>BD23AF6242CA944B</td>\n",
       "      <td>2</td>\n",
       "    </tr>\n",
       "    <tr>\n",
       "      <th>1</th>\n",
       "      <td>395461648C47B5E1</td>\n",
       "      <td>2</td>\n",
       "    </tr>\n",
       "    <tr>\n",
       "      <th>2</th>\n",
       "      <td>72073BB7348162AE</td>\n",
       "      <td>2</td>\n",
       "    </tr>\n",
       "    <tr>\n",
       "      <th>3</th>\n",
       "      <td>CC705D51C74418AD</td>\n",
       "      <td>2</td>\n",
       "    </tr>\n",
       "    <tr>\n",
       "      <th>4</th>\n",
       "      <td>19AC976D25997BE9</td>\n",
       "      <td>2</td>\n",
       "    </tr>\n",
       "  </tbody>\n",
       "</table>\n",
       "</div>"
      ],
      "text/plain": [
       "            user_id  ab_test\n",
       "0  BD23AF6242CA944B        2\n",
       "1  395461648C47B5E1        2\n",
       "2  72073BB7348162AE        2\n",
       "3  CC705D51C74418AD        2\n",
       "4  19AC976D25997BE9        2"
      ]
     },
     "execution_count": 24,
     "metadata": {},
     "output_type": "execute_result"
    }
   ],
   "source": [
    "# Посмотрим, есть ли пользователи, которые участвуют в двух группах одновременно\n",
    "report = (\n",
    "    final_ab_participants.groupby('user_id')\n",
    "    .agg({'ab_test':'count'})\n",
    "    .sort_values(by='ab_test', ascending=False)\n",
    "    .reset_index()\n",
    ")\n",
    "\n",
    "report.head()"
   ]
  },
  {
   "cell_type": "code",
   "execution_count": 25,
   "id": "fcea840e",
   "metadata": {},
   "outputs": [
    {
     "data": {
      "text/plain": [
       "1602"
      ]
     },
     "execution_count": 25,
     "metadata": {},
     "output_type": "execute_result"
    }
   ],
   "source": [
    "# Посчитаем, сколько пользователей попали в два теста одновременно\n",
    "report[report['ab_test'] == 2].user_id.nunique()\n"
   ]
  },
  {
   "cell_type": "code",
   "execution_count": 26,
   "id": "34342aed",
   "metadata": {},
   "outputs": [
    {
     "data": {
      "text/plain": [
       "0.23906879570213402"
      ]
     },
     "execution_count": 26,
     "metadata": {},
     "output_type": "execute_result"
    }
   ],
   "source": [
    "report[report['ab_test'] == 2].user_id.nunique() / new_users_ab.user_id.nunique()"
   ]
  },
  {
   "cell_type": "code",
   "execution_count": 27,
   "id": "3802f3b2",
   "metadata": {},
   "outputs": [],
   "source": [
    "# Сохраним id пользователей, которые участвуют в двух группах одновременно\n",
    "report_id = report[report['ab_test'] == 2].user_id.unique()"
   ]
  },
  {
   "cell_type": "markdown",
   "id": "00da79a7",
   "metadata": {},
   "source": [
    "У нас получилось 1602 участника A/B-теста, которые участвуют сразу в двух тестированиях. Это составляет примерно 24% от общего числа участников. \n",
    "\n"
   ]
  },
  {
   "cell_type": "markdown",
   "id": "f352960f",
   "metadata": {},
   "source": [
    "#### Пересечения по группам"
   ]
  },
  {
   "cell_type": "code",
   "execution_count": 28,
   "id": "7a0f7c66",
   "metadata": {},
   "outputs": [
    {
     "data": {
      "text/plain": [
       "array([1])"
      ]
     },
     "execution_count": 28,
     "metadata": {},
     "output_type": "execute_result"
    }
   ],
   "source": [
    "# Посмотрим, есть ли пользователи из нашего теста, которые попали одновременно в две группы\n",
    "(\n",
    "    ab_test_users\n",
    "    .groupby('user_id')\n",
    "    .agg({'group' : 'count'})\n",
    "    .reset_index()\n",
    "    .group.unique()\n",
    ")"
   ]
  },
  {
   "cell_type": "markdown",
   "id": "46b5747c",
   "metadata": {},
   "source": [
    "Среди участников нашего теста нет пользователей, которые попали одновременно в две группы. Как мне кажется, стоит убрать пользователей, которые участвуют сразу в двух тестах, так как это может помешать анализу результатов тестирования."
   ]
  },
  {
   "cell_type": "code",
   "execution_count": 29,
   "id": "0a3c7c86",
   "metadata": {},
   "outputs": [],
   "source": [
    "# Удалим пользователей, которые участвуют сразу в двух тестах\n",
    "ab_test_users = ab_test_users.query('user_id not in @report_id')\n",
    "\n",
    "\n",
    "# Создадим табличку с общей информацией о пользователях\n",
    "ab_users = ab_test_users.merge(new_users_ab, on='user_id').drop(columns = 'ab_test')\n",
    "\n",
    "# Оставим только пользователей, которые из европейского региона. \n",
    "ab_users = ab_users[ab_users['region'] == 'EU']"
   ]
  },
  {
   "cell_type": "markdown",
   "id": "4ed35e32",
   "metadata": {},
   "source": [
    "#### Конечная информация об участниках теста"
   ]
  },
  {
   "cell_type": "code",
   "execution_count": 30,
   "id": "d8f7fb6e",
   "metadata": {
    "scrolled": true
   },
   "outputs": [
    {
     "name": "stdout",
     "output_type": "stream",
     "text": [
      "Количество участников A/B-теста: 4749\n",
      "Процент новых пользователей, участвующих в A/B-тесте: 7.69%\n",
      "Регионы пользователей, участвующих в A/B-тесте: ['EU']\n",
      "Процент пользователей из региона EU среди учестников теста: 100.00%\n",
      "Количество участников в группе А: 2713\n",
      "Количество участников в группе B: 2036\n",
      "---\n",
      "\n",
      "Процент участников теста от количества новых пользователей из региона EU: 10.26%\n"
     ]
    }
   ],
   "source": [
    "check_users(ab_users, ab_users)"
   ]
  },
  {
   "cell_type": "markdown",
   "id": "f4602ab8",
   "metadata": {},
   "source": [
    "#### Период анализа действий пользователей"
   ]
  },
  {
   "cell_type": "markdown",
   "id": "5c1ff403",
   "metadata": {},
   "source": [
    "В ТЗ указано, что мы рассматриваем метрики по истечении срока 14 дней. Таким образом, для каждого пользователя оставим только те события, которые входят в 14-дневное окно."
   ]
  },
  {
   "cell_type": "code",
   "execution_count": 31,
   "id": "f6c4c0c3",
   "metadata": {},
   "outputs": [],
   "source": [
    "# Оставим среди событий теста только те, которые совершили пользователи нашего теста\n",
    "ab_users_id = ab_users.user_id.unique()\n",
    "ab_events = final_ab_events.query('user_id in @ab_users_id')\n",
    "\n",
    "# Добавим в таблицу о событиях информацию о пользователях\n",
    "ab_events = ab_events.merge(ab_users, on = 'user_id')"
   ]
  },
  {
   "cell_type": "code",
   "execution_count": 32,
   "id": "0078ddca",
   "metadata": {},
   "outputs": [],
   "source": [
    "# Найдем последнюю возможную дату события(дата первого использования + 14 дней)\n",
    "ab_events['last_suitable_acquisition_date'] = ab_events['first_date'] + timedelta(days = 14)\n",
    "\n",
    "# Оставим информацию только о тех событиях, которые совершились до этой даты включительно\n",
    "ab_events = ab_events.query('last_suitable_acquisition_date >= event_dt')\n"
   ]
  },
  {
   "cell_type": "code",
   "execution_count": 33,
   "id": "ebf7109b",
   "metadata": {},
   "outputs": [],
   "source": [
    "\n",
    "# Удалим вспомогательный столбец\n",
    "ab_events = ab_events.drop(columns='last_suitable_acquisition_date')"
   ]
  },
  {
   "cell_type": "markdown",
   "id": "8c68e36f",
   "metadata": {},
   "source": [
    "### Вывод:"
   ]
  },
  {
   "cell_type": "markdown",
   "id": "1194b0f9",
   "metadata": {},
   "source": [
    "- Были удалены данные об участниках, которые участвовали одновременно в двух тестах, так как это могло помешать анализу тестирования. Также были удалены данные об участниках из других регионов.\n",
    "- В конечном итоге в тесте участвовали 4749 пользователя(ожидаемое количество - 6000).\n",
    "- Аудитория составляет примерно 7.7% новых пользователей из региона 'EU'(ожидалось 15% из региона EU).\n",
    "- Пользователи неравномерно разделены по группам, количество участников в группе А составляет 2713, в группе В - 2036.\n",
    "- Время проведения теста частично пересекается с маркетинговым мероприятием, оно затрагивает 5 дней от эксперимента."
   ]
  },
  {
   "cell_type": "markdown",
   "id": "19c356c9",
   "metadata": {},
   "source": [
    "## Исследовательский анализ данных"
   ]
  },
  {
   "cell_type": "code",
   "execution_count": 34,
   "id": "c1d565ba",
   "metadata": {
    "scrolled": true
   },
   "outputs": [
    {
     "data": {
      "text/html": [
       "<div>\n",
       "<style scoped>\n",
       "    .dataframe tbody tr th:only-of-type {\n",
       "        vertical-align: middle;\n",
       "    }\n",
       "\n",
       "    .dataframe tbody tr th {\n",
       "        vertical-align: top;\n",
       "    }\n",
       "\n",
       "    .dataframe thead th {\n",
       "        text-align: right;\n",
       "    }\n",
       "</style>\n",
       "<table border=\"1\" class=\"dataframe\">\n",
       "  <thead>\n",
       "    <tr style=\"text-align: right;\">\n",
       "      <th></th>\n",
       "      <th>user_id</th>\n",
       "      <th>event_dt</th>\n",
       "      <th>event_name</th>\n",
       "      <th>details</th>\n",
       "      <th>group</th>\n",
       "      <th>first_date</th>\n",
       "      <th>region</th>\n",
       "      <th>device</th>\n",
       "    </tr>\n",
       "  </thead>\n",
       "  <tbody>\n",
       "    <tr>\n",
       "      <th>0</th>\n",
       "      <td>831887FE7F2D6CBA</td>\n",
       "      <td>2020-12-07 06:50:29</td>\n",
       "      <td>purchase</td>\n",
       "      <td>4.99</td>\n",
       "      <td>A</td>\n",
       "      <td>2020-12-07</td>\n",
       "      <td>EU</td>\n",
       "      <td>Android</td>\n",
       "    </tr>\n",
       "    <tr>\n",
       "      <th>1</th>\n",
       "      <td>831887FE7F2D6CBA</td>\n",
       "      <td>2020-12-09 02:19:17</td>\n",
       "      <td>purchase</td>\n",
       "      <td>99.99</td>\n",
       "      <td>A</td>\n",
       "      <td>2020-12-07</td>\n",
       "      <td>EU</td>\n",
       "      <td>Android</td>\n",
       "    </tr>\n",
       "    <tr>\n",
       "      <th>2</th>\n",
       "      <td>831887FE7F2D6CBA</td>\n",
       "      <td>2020-12-07 06:50:30</td>\n",
       "      <td>product_cart</td>\n",
       "      <td>NaN</td>\n",
       "      <td>A</td>\n",
       "      <td>2020-12-07</td>\n",
       "      <td>EU</td>\n",
       "      <td>Android</td>\n",
       "    </tr>\n",
       "    <tr>\n",
       "      <th>3</th>\n",
       "      <td>831887FE7F2D6CBA</td>\n",
       "      <td>2020-12-08 10:52:27</td>\n",
       "      <td>product_cart</td>\n",
       "      <td>NaN</td>\n",
       "      <td>A</td>\n",
       "      <td>2020-12-07</td>\n",
       "      <td>EU</td>\n",
       "      <td>Android</td>\n",
       "    </tr>\n",
       "    <tr>\n",
       "      <th>4</th>\n",
       "      <td>831887FE7F2D6CBA</td>\n",
       "      <td>2020-12-09 02:19:17</td>\n",
       "      <td>product_cart</td>\n",
       "      <td>NaN</td>\n",
       "      <td>A</td>\n",
       "      <td>2020-12-07</td>\n",
       "      <td>EU</td>\n",
       "      <td>Android</td>\n",
       "    </tr>\n",
       "    <tr>\n",
       "      <th>...</th>\n",
       "      <td>...</td>\n",
       "      <td>...</td>\n",
       "      <td>...</td>\n",
       "      <td>...</td>\n",
       "      <td>...</td>\n",
       "      <td>...</td>\n",
       "      <td>...</td>\n",
       "      <td>...</td>\n",
       "    </tr>\n",
       "    <tr>\n",
       "      <th>17521</th>\n",
       "      <td>64597B30278462F5</td>\n",
       "      <td>2020-12-23 14:14:46</td>\n",
       "      <td>login</td>\n",
       "      <td>NaN</td>\n",
       "      <td>A</td>\n",
       "      <td>2020-12-21</td>\n",
       "      <td>EU</td>\n",
       "      <td>Android</td>\n",
       "    </tr>\n",
       "    <tr>\n",
       "      <th>17522</th>\n",
       "      <td>1484BBF124DB1B18</td>\n",
       "      <td>2020-12-21 17:51:44</td>\n",
       "      <td>login</td>\n",
       "      <td>NaN</td>\n",
       "      <td>A</td>\n",
       "      <td>2020-12-21</td>\n",
       "      <td>EU</td>\n",
       "      <td>PC</td>\n",
       "    </tr>\n",
       "    <tr>\n",
       "      <th>17523</th>\n",
       "      <td>1484BBF124DB1B18</td>\n",
       "      <td>2020-12-22 16:02:18</td>\n",
       "      <td>login</td>\n",
       "      <td>NaN</td>\n",
       "      <td>A</td>\n",
       "      <td>2020-12-21</td>\n",
       "      <td>EU</td>\n",
       "      <td>PC</td>\n",
       "    </tr>\n",
       "    <tr>\n",
       "      <th>17524</th>\n",
       "      <td>1484BBF124DB1B18</td>\n",
       "      <td>2020-12-27 10:53:34</td>\n",
       "      <td>login</td>\n",
       "      <td>NaN</td>\n",
       "      <td>A</td>\n",
       "      <td>2020-12-21</td>\n",
       "      <td>EU</td>\n",
       "      <td>PC</td>\n",
       "    </tr>\n",
       "    <tr>\n",
       "      <th>17525</th>\n",
       "      <td>23DDD27AC3FEFA63</td>\n",
       "      <td>2020-12-21 02:51:45</td>\n",
       "      <td>login</td>\n",
       "      <td>NaN</td>\n",
       "      <td>A</td>\n",
       "      <td>2020-12-21</td>\n",
       "      <td>EU</td>\n",
       "      <td>PC</td>\n",
       "    </tr>\n",
       "  </tbody>\n",
       "</table>\n",
       "<p>16918 rows × 8 columns</p>\n",
       "</div>"
      ],
      "text/plain": [
       "                user_id            event_dt    event_name  details group  \\\n",
       "0      831887FE7F2D6CBA 2020-12-07 06:50:29      purchase     4.99     A   \n",
       "1      831887FE7F2D6CBA 2020-12-09 02:19:17      purchase    99.99     A   \n",
       "2      831887FE7F2D6CBA 2020-12-07 06:50:30  product_cart      NaN     A   \n",
       "3      831887FE7F2D6CBA 2020-12-08 10:52:27  product_cart      NaN     A   \n",
       "4      831887FE7F2D6CBA 2020-12-09 02:19:17  product_cart      NaN     A   \n",
       "...                 ...                 ...           ...      ...   ...   \n",
       "17521  64597B30278462F5 2020-12-23 14:14:46         login      NaN     A   \n",
       "17522  1484BBF124DB1B18 2020-12-21 17:51:44         login      NaN     A   \n",
       "17523  1484BBF124DB1B18 2020-12-22 16:02:18         login      NaN     A   \n",
       "17524  1484BBF124DB1B18 2020-12-27 10:53:34         login      NaN     A   \n",
       "17525  23DDD27AC3FEFA63 2020-12-21 02:51:45         login      NaN     A   \n",
       "\n",
       "      first_date region   device  \n",
       "0     2020-12-07     EU  Android  \n",
       "1     2020-12-07     EU  Android  \n",
       "2     2020-12-07     EU  Android  \n",
       "3     2020-12-07     EU  Android  \n",
       "4     2020-12-07     EU  Android  \n",
       "...          ...    ...      ...  \n",
       "17521 2020-12-21     EU  Android  \n",
       "17522 2020-12-21     EU       PC  \n",
       "17523 2020-12-21     EU       PC  \n",
       "17524 2020-12-21     EU       PC  \n",
       "17525 2020-12-21     EU       PC  \n",
       "\n",
       "[16918 rows x 8 columns]"
      ]
     },
     "execution_count": 34,
     "metadata": {},
     "output_type": "execute_result"
    }
   ],
   "source": [
    "ab_events"
   ]
  },
  {
   "cell_type": "code",
   "execution_count": 35,
   "id": "c3df8b68",
   "metadata": {},
   "outputs": [
    {
     "data": {
      "text/plain": [
       "2594"
      ]
     },
     "execution_count": 35,
     "metadata": {},
     "output_type": "execute_result"
    }
   ],
   "source": [
    "ab_events.user_id.nunique()"
   ]
  },
  {
   "cell_type": "markdown",
   "id": "65c313e9",
   "metadata": {},
   "source": [
    "Как мы видим, из 4749 участников теста только 2594 совершали какие-либо действия, что довольно странно."
   ]
  },
  {
   "cell_type": "markdown",
   "id": "73ec87f9",
   "metadata": {},
   "source": [
    "### Распределение событий по группам"
   ]
  },
  {
   "cell_type": "code",
   "execution_count": 36,
   "id": "4ee46c25",
   "metadata": {},
   "outputs": [
    {
     "data": {
      "text/html": [
       "<div>\n",
       "<style scoped>\n",
       "    .dataframe tbody tr th:only-of-type {\n",
       "        vertical-align: middle;\n",
       "    }\n",
       "\n",
       "    .dataframe tbody tr th {\n",
       "        vertical-align: top;\n",
       "    }\n",
       "\n",
       "    .dataframe thead th {\n",
       "        text-align: right;\n",
       "    }\n",
       "</style>\n",
       "<table border=\"1\" class=\"dataframe\">\n",
       "  <thead>\n",
       "    <tr style=\"text-align: right;\">\n",
       "      <th></th>\n",
       "      <th>event_name</th>\n",
       "      <th>user_id</th>\n",
       "    </tr>\n",
       "    <tr>\n",
       "      <th>group</th>\n",
       "      <th></th>\n",
       "      <th></th>\n",
       "    </tr>\n",
       "  </thead>\n",
       "  <tbody>\n",
       "    <tr>\n",
       "      <th>A</th>\n",
       "      <td>13374</td>\n",
       "      <td>1939</td>\n",
       "    </tr>\n",
       "    <tr>\n",
       "      <th>B</th>\n",
       "      <td>3544</td>\n",
       "      <td>655</td>\n",
       "    </tr>\n",
       "  </tbody>\n",
       "</table>\n",
       "</div>"
      ],
      "text/plain": [
       "       event_name  user_id\n",
       "group                     \n",
       "A           13374     1939\n",
       "B            3544      655"
      ]
     },
     "execution_count": 36,
     "metadata": {},
     "output_type": "execute_result"
    }
   ],
   "source": [
    "ab_events.groupby('group').agg({'event_name':'count', 'user_id':'nunique'})"
   ]
  },
  {
   "cell_type": "markdown",
   "id": "162ed252",
   "metadata": {},
   "source": [
    "**Вывод:** \n",
    " - События в группах распределяются неравномерно. Пользователями из группы А совершены 13742 действий(практически 80% всех событий), а пользователями из группы В только 3784.\n",
    " - В группе А 1939 активных пользователей, в то время как в группе В лишь 655. "
   ]
  },
  {
   "cell_type": "markdown",
   "id": "cc45b9fa",
   "metadata": {},
   "source": [
    "### Распределение событий на пользователя"
   ]
  },
  {
   "cell_type": "code",
   "execution_count": 37,
   "id": "879df25c",
   "metadata": {},
   "outputs": [],
   "source": [
    "def count_events(data):\n",
    "    \n",
    "    # Сгруппируем данные по имени пользователя и найдем количество событий\n",
    "    report = data.groupby('user_id').agg({'event_name':'count'})\n",
    "    \n",
    "    plt.figure(figsize=(15,3))\n",
    "    sns.boxplot(x = report['event_name'], color = 'pink')\n",
    "    plt.title('Распределение событий на пользователя')\n",
    "    plt.xlabel('Количество событий')\n",
    "    \n",
    "    \n",
    "    print('Среднее количество событий на пользователя: {:.2f}'.format(report['event_name'].mean()))\n",
    "    print('Медианное количество событий на пользователя: {:.2f}'.format(report['event_name'].median()))"
   ]
  },
  {
   "cell_type": "code",
   "execution_count": 38,
   "id": "45ee4fb3",
   "metadata": {},
   "outputs": [
    {
     "name": "stdout",
     "output_type": "stream",
     "text": [
      "Все пользователи:\n",
      "\n",
      "Среднее количество событий на пользователя: 6.52\n",
      "Медианное количество событий на пользователя: 6.00\n"
     ]
    },
    {
     "data": {
      "image/png": "[encoded data removed]",
      "text/plain": [
       "<Figure size 1080x216 with 1 Axes>"
      ]
     },
     "metadata": {
      "needs_background": "light"
     },
     "output_type": "display_data"
    }
   ],
   "source": [
    "print('Все пользователи:')\n",
    "print('')\n",
    "count_events(ab_events)"
   ]
  },
  {
   "cell_type": "markdown",
   "id": "57196deb",
   "metadata": {},
   "source": [
    "На диаграмме размаха видно, что есть пользователи, которые совершают 15+ действий. "
   ]
  },
  {
   "cell_type": "code",
   "execution_count": 39,
   "id": "679cffd9",
   "metadata": {},
   "outputs": [
    {
     "name": "stdout",
     "output_type": "stream",
     "text": [
      "Группа А:\n",
      "\n",
      "Среднее количество событий на пользователя: 6.90\n",
      "Медианное количество событий на пользователя: 6.00\n"
     ]
    },
    {
     "data": {
      "image/png": "[encoded data removed]",
      "text/plain": [
       "<Figure size 1080x216 with 1 Axes>"
      ]
     },
     "metadata": {
      "needs_background": "light"
     },
     "output_type": "display_data"
    }
   ],
   "source": [
    "group_a = ab_events[ab_events['group'] == 'A']\n",
    "\n",
    "print('Группа А:')\n",
    "print('')\n",
    "count_events(group_a)"
   ]
  },
  {
   "cell_type": "code",
   "execution_count": 40,
   "id": "0d326194",
   "metadata": {},
   "outputs": [
    {
     "name": "stdout",
     "output_type": "stream",
     "text": [
      "Группа В:\n",
      "\n",
      "Среднее количество событий на пользователя: 5.41\n",
      "Медианное количество событий на пользователя: 4.00\n"
     ]
    },
    {
     "data": {
      "image/png": "[encoded data removed]",
      "text/plain": [
       "<Figure size 1080x216 with 1 Axes>"
      ]
     },
     "metadata": {
      "needs_background": "light"
     },
     "output_type": "display_data"
    }
   ],
   "source": [
    "group_b = ab_events[ab_events['group'] == 'B']\n",
    "\n",
    "print('Группа В:')\n",
    "print('')\n",
    "count_events(group_b)"
   ]
  },
  {
   "cell_type": "markdown",
   "id": "2c4715f7",
   "metadata": {},
   "source": [
    "**Вывод:**\n",
    "\n",
    " - Разброс пользователей по количеству событий от 0 до 15 событий. Есть выбросы: пользователи, которые совершают 15+ действий.\n",
    " - В среднем пользователи совершают около 6-7 действий. \n",
    " - В группе А среднее количесво событий на пользователя –– 7, медианное –– 6.\n",
    " - В группе В среднее количество событий на пользователя –– 6, медианное –– 4.\n",
    " - Можно сделать вывод, что во второй группе пользователи в среднем совершают меньше действий, чем в первой."
   ]
  },
  {
   "cell_type": "markdown",
   "id": "fa01a345",
   "metadata": {},
   "source": [
    "### Распределение событий по дням"
   ]
  },
  {
   "cell_type": "markdown",
   "id": "5663f3ab",
   "metadata": {},
   "source": [
    "Как число событий в выборках распределено по дням?"
   ]
  },
  {
   "cell_type": "code",
   "execution_count": 41,
   "id": "0bf49354",
   "metadata": {},
   "outputs": [],
   "source": [
    "# Добавим в таблицу дату события\n",
    "ab_events['dt'] = ab_events['event_dt'].dt.date\n",
    "\n",
    "# Обновим таблицы с группами\n",
    "group_a = ab_events[ab_events['group'] == 'A']\n",
    "group_b = ab_events[ab_events['group'] == 'B']"
   ]
  },
  {
   "cell_type": "code",
   "execution_count": 42,
   "id": "c075f99f",
   "metadata": {},
   "outputs": [],
   "source": [
    "# Функция для построения графиков\n",
    "def event_by_dt(data, i, title):\n",
    "    \n",
    "    report = data.groupby('dt').agg({'user_id':'count'}).reset_index()\n",
    "    axs[i].bar(report['dt'], report['user_id'], color='pink')\n",
    "    axs[i].tick_params(axis='x', rotation = 90)\n",
    "    axs[i].set_title(title)\n",
    "    axs[i].set_xlabel('Дата')\n",
    "    axs[i].set_ylabel('Количество пользователей')\n",
    "    "
   ]
  },
  {
   "cell_type": "code",
   "execution_count": 43,
   "id": "76b3afd4",
   "metadata": {},
   "outputs": [
    {
     "data": {
      "image/png": "[encoded data removed]",
      "text/plain": [
       "<Figure size 1440x360 with 3 Axes>"
      ]
     },
     "metadata": {
      "needs_background": "light"
     },
     "output_type": "display_data"
    }
   ],
   "source": [
    "fig, axs = plt.subplots(1,3, figsize=(20,5))\n",
    "\n",
    "\n",
    "event_by_dt(ab_events, 0, 'Все пользователи')\n",
    "event_by_dt(group_a, 1, 'Группа А')\n",
    "event_by_dt(group_b, 2, 'Группа В')"
   ]
  },
  {
   "cell_type": "markdown",
   "id": "7039d21e",
   "metadata": {},
   "source": [
    " - Как мы видим на графиках, наблюдается резкий всплеск событий в 21 декабря, я связываю это с приближающимся католическим рождеством, после чего активность снижается. \n",
    " - Количество действий для группы А намного больше, чем в группе В, я связываю это с количеством активных пользователей в этой группе.\n",
    " - В группе В активность неоднородная: наблюдается несколько резких скачков; после 21, как и в другой группе, наблюдается спад. "
   ]
  },
  {
   "cell_type": "markdown",
   "id": "00180e48",
   "metadata": {},
   "source": [
    "Рассмотрим среднее распределение событий на пользователя:"
   ]
  },
  {
   "cell_type": "code",
   "execution_count": 44,
   "id": "179b77b1",
   "metadata": {},
   "outputs": [],
   "source": [
    "def mean_events_per_user(data, i, title):\n",
    "    \n",
    "    report = data.groupby('dt').agg({'event_name':'count', 'user_id':'nunique'}).reset_index()\n",
    "    report['mean_events_per_user'] = report['event_name'] / report['user_id']\n",
    "    \n",
    "    axs[i].plot(report['dt'], report['mean_events_per_user'], color='c')\n",
    "    axs[i].tick_params(axis='x', rotation=45)\n",
    "    axs[i].set_title(title)\n",
    "    axs[i].set_xlabel('Дата')\n",
    "    axs[i].set_ylabel('Количество пользователей')"
   ]
  },
  {
   "cell_type": "code",
   "execution_count": 45,
   "id": "102b5920",
   "metadata": {
    "scrolled": false
   },
   "outputs": [
    {
     "data": {
      "text/plain": [
       "Text(0.5, 0.98, 'Среднее количество событий на пользователя в день')"
      ]
     },
     "execution_count": 45,
     "metadata": {},
     "output_type": "execute_result"
    },
    {
     "data": {
      "image/png": "[encoded data removed]",
      "text/plain": [
       "<Figure size 1080x360 with 3 Axes>"
      ]
     },
     "metadata": {
      "needs_background": "light"
     },
     "output_type": "display_data"
    }
   ],
   "source": [
    "fig, axs = plt.subplots(1,3, figsize=(15,5))\n",
    "\n",
    "mean_events_per_user(ab_events,0, 'Все пользователи')\n",
    "mean_events_per_user(group_a, 1, 'Группа А')\n",
    "mean_events_per_user(group_b, 2, 'Группа В')\n",
    "plt.suptitle('Среднее количество событий на пользователя в день')"
   ]
  },
  {
   "cell_type": "markdown",
   "id": "0718a6d1",
   "metadata": {},
   "source": [
    "### Число уникальных пользователей в день"
   ]
  },
  {
   "cell_type": "code",
   "execution_count": 46,
   "id": "f2aff02e",
   "metadata": {},
   "outputs": [],
   "source": [
    "def find_dau(data, i, title):\n",
    "    \n",
    "    report = data.groupby('dt').agg({'user_id':'nunique'})\n",
    "    \n",
    "    axs[i].plot(report, color='c')\n",
    "    axs[i].tick_params(axis='x', rotation=45)\n",
    "    axs[i].set_title(title)\n",
    "    axs[i].set_xlabel('Дата')\n",
    "    axs[i].set_ylabel('Количество пользователей')\n",
    "    \n",
    "    \n",
    "    print('Среднее DAU('+ title+ ')', int(report.mean()))"
   ]
  },
  {
   "cell_type": "code",
   "execution_count": 47,
   "id": "00157dd3",
   "metadata": {
    "scrolled": false
   },
   "outputs": [
    {
     "name": "stdout",
     "output_type": "stream",
     "text": [
      "Среднее DAU(Все пользователи) 331\n",
      "Среднее DAU(Группа А) 257\n",
      "Среднее DAU(Группа В) 74\n"
     ]
    },
    {
     "data": {
      "image/png": "[encoded data removed]",
      "text/plain": [
       "<Figure size 1080x360 with 3 Axes>"
      ]
     },
     "metadata": {
      "needs_background": "light"
     },
     "output_type": "display_data"
    }
   ],
   "source": [
    "fig, axs = plt.subplots(1,3, figsize=(15,5))\n",
    "\n",
    "find_dau(ab_events, 0, 'Все пользователи')\n",
    "find_dau(group_a, 1, 'Группа А')\n",
    "find_dau(group_b, 2, 'Группа В')"
   ]
  },
  {
   "cell_type": "markdown",
   "id": "655bc9d6",
   "metadata": {},
   "source": [
    "**Вывод:**\n",
    " - Число уникальных пользователей распределяется соответственно числу действий(аналогичные скачки и спады).\n",
    " - В среднем в день наблюдается 329 уникальных пользователей. \n",
    " - Для группы А –– это 264 пользователя, в группе В –– 76."
   ]
  },
  {
   "cell_type": "markdown",
   "id": "94bc14cd",
   "metadata": {},
   "source": [
    "### Воронка событий"
   ]
  },
  {
   "cell_type": "code",
   "execution_count": 48,
   "id": "0d344728",
   "metadata": {},
   "outputs": [],
   "source": [
    "# Выделим в отдельные таблицы информации о пользователях из разных групп\n",
    "\n",
    "group_a_users = ab_users[ab_users['group'] == 'A']\n",
    "group_b_users = ab_users[ab_users['group'] == 'B']"
   ]
  },
  {
   "cell_type": "code",
   "execution_count": 49,
   "id": "c5b11662",
   "metadata": {},
   "outputs": [],
   "source": [
    "# Функиця для построения воронки событий(на вход принимает датасет и количество уникальных пользователей)\n",
    "def make_funnel(data, unique_count):\n",
    "    \n",
    "    \n",
    "    # Создадим вороонку\n",
    "    report = (\n",
    "    data.groupby('event_name').agg({'user_id' : 'nunique'})\n",
    "    .sort_values(by = 'user_id', ascending = False)\n",
    "    .reset_index()\n",
    "    )\n",
    "\n",
    "    # Добавим столбец со значением конверии\n",
    "    report['conversion'] = report['user_id'] / unique_count\n",
    "\n",
    "    # Добавим столбцы, показывающие, сколько пользователей было на предыдущем шаге\n",
    "    report['previous_step'] = report['user_id'].shift()\n",
    "\n",
    "    # И конверсию в следующий шаг\n",
    "    report['step_conversion'] = report['user_id'] / report['previous_step']\n",
    "    \n",
    "    return report"
   ]
  },
  {
   "cell_type": "code",
   "execution_count": 50,
   "id": "0dfacde1",
   "metadata": {},
   "outputs": [],
   "source": [
    "# Функция для визуализации воронки\n",
    "def show_funnel(report):\n",
    "    \n",
    "    # Удалим дейсвтие 'product_cart' из воронки\n",
    "    report = report.query('event_name != \"product_cart\"')\n",
    "    \n",
    "    sns.barplot(\n",
    "        data = report,\n",
    "        x = 'conversion',\n",
    "        y = 'event_name',\n",
    "        palette = 'pastel'\n",
    "    )\n",
    "    plt.title('Воронка событий')\n",
    "    plt.xlabel('Процент пользователей')\n",
    "    plt.ylabel('Название события')"
   ]
  },
  {
   "cell_type": "markdown",
   "id": "8062387c",
   "metadata": {},
   "source": [
    "#### Все пользователи"
   ]
  },
  {
   "cell_type": "code",
   "execution_count": 51,
   "id": "8e79c537",
   "metadata": {},
   "outputs": [
    {
     "data": {
      "text/html": [
       "<div>\n",
       "<style scoped>\n",
       "    .dataframe tbody tr th:only-of-type {\n",
       "        vertical-align: middle;\n",
       "    }\n",
       "\n",
       "    .dataframe tbody tr th {\n",
       "        vertical-align: top;\n",
       "    }\n",
       "\n",
       "    .dataframe thead th {\n",
       "        text-align: right;\n",
       "    }\n",
       "</style>\n",
       "<table border=\"1\" class=\"dataframe\">\n",
       "  <thead>\n",
       "    <tr style=\"text-align: right;\">\n",
       "      <th></th>\n",
       "      <th>event_name</th>\n",
       "      <th>user_id</th>\n",
       "      <th>conversion</th>\n",
       "      <th>previous_step</th>\n",
       "      <th>step_conversion</th>\n",
       "    </tr>\n",
       "  </thead>\n",
       "  <tbody>\n",
       "    <tr>\n",
       "      <th>0</th>\n",
       "      <td>login</td>\n",
       "      <td>2593</td>\n",
       "      <td>0.546010</td>\n",
       "      <td>NaN</td>\n",
       "      <td>NaN</td>\n",
       "    </tr>\n",
       "    <tr>\n",
       "      <th>1</th>\n",
       "      <td>product_page</td>\n",
       "      <td>1632</td>\n",
       "      <td>0.343651</td>\n",
       "      <td>2593.0</td>\n",
       "      <td>0.629387</td>\n",
       "    </tr>\n",
       "    <tr>\n",
       "      <th>2</th>\n",
       "      <td>purchase</td>\n",
       "      <td>804</td>\n",
       "      <td>0.169299</td>\n",
       "      <td>1632.0</td>\n",
       "      <td>0.492647</td>\n",
       "    </tr>\n",
       "    <tr>\n",
       "      <th>3</th>\n",
       "      <td>product_cart</td>\n",
       "      <td>773</td>\n",
       "      <td>0.162771</td>\n",
       "      <td>804.0</td>\n",
       "      <td>0.961443</td>\n",
       "    </tr>\n",
       "  </tbody>\n",
       "</table>\n",
       "</div>"
      ],
      "text/plain": [
       "     event_name  user_id  conversion  previous_step  step_conversion\n",
       "0         login     2593    0.546010            NaN              NaN\n",
       "1  product_page     1632    0.343651         2593.0         0.629387\n",
       "2      purchase      804    0.169299         1632.0         0.492647\n",
       "3  product_cart      773    0.162771          804.0         0.961443"
      ]
     },
     "execution_count": 51,
     "metadata": {},
     "output_type": "execute_result"
    }
   ],
   "source": [
    "# Построим воронку событий по всем пользователям\n",
    "report = make_funnel(ab_events, ab_users.user_id.nunique())\n",
    "report"
   ]
  },
  {
   "cell_type": "code",
   "execution_count": 52,
   "id": "9fd4b4b8",
   "metadata": {},
   "outputs": [
    {
     "data": {
      "image/png": "[encoded data removed]",
      "text/plain": [
       "<Figure size 432x288 with 1 Axes>"
      ]
     },
     "metadata": {
      "needs_background": "light"
     },
     "output_type": "display_data"
    }
   ],
   "source": [
    "show_funnel(report)"
   ]
  },
  {
   "cell_type": "markdown",
   "id": "5bc00c0b",
   "metadata": {},
   "source": [
    "- До первого шага воронки(авторизация в приложении) доходят приблизительно 55% пользователей. \n",
    "- Как мне кажется, шаг product_cart(скорее всего добавление товара в корзину) является необязательным, поэтому до него доходят даже меньше пользователей, чем до целевого действия - покупка. Этот шаг не участвует в воронке."
   ]
  },
  {
   "cell_type": "markdown",
   "id": "19d8ea4f",
   "metadata": {},
   "source": [
    "#### Группа А"
   ]
  },
  {
   "cell_type": "code",
   "execution_count": 53,
   "id": "25470cb9",
   "metadata": {},
   "outputs": [
    {
     "data": {
      "text/html": [
       "<div>\n",
       "<style scoped>\n",
       "    .dataframe tbody tr th:only-of-type {\n",
       "        vertical-align: middle;\n",
       "    }\n",
       "\n",
       "    .dataframe tbody tr th {\n",
       "        vertical-align: top;\n",
       "    }\n",
       "\n",
       "    .dataframe thead th {\n",
       "        text-align: right;\n",
       "    }\n",
       "</style>\n",
       "<table border=\"1\" class=\"dataframe\">\n",
       "  <thead>\n",
       "    <tr style=\"text-align: right;\">\n",
       "      <th></th>\n",
       "      <th>event_name</th>\n",
       "      <th>user_id</th>\n",
       "      <th>conversion</th>\n",
       "      <th>previous_step</th>\n",
       "      <th>step_conversion</th>\n",
       "    </tr>\n",
       "  </thead>\n",
       "  <tbody>\n",
       "    <tr>\n",
       "      <th>0</th>\n",
       "      <td>login</td>\n",
       "      <td>1939</td>\n",
       "      <td>0.714707</td>\n",
       "      <td>NaN</td>\n",
       "      <td>NaN</td>\n",
       "    </tr>\n",
       "    <tr>\n",
       "      <th>1</th>\n",
       "      <td>product_page</td>\n",
       "      <td>1265</td>\n",
       "      <td>0.466273</td>\n",
       "      <td>1939.0</td>\n",
       "      <td>0.652398</td>\n",
       "    </tr>\n",
       "    <tr>\n",
       "      <th>2</th>\n",
       "      <td>purchase</td>\n",
       "      <td>613</td>\n",
       "      <td>0.225949</td>\n",
       "      <td>1265.0</td>\n",
       "      <td>0.484585</td>\n",
       "    </tr>\n",
       "    <tr>\n",
       "      <th>3</th>\n",
       "      <td>product_cart</td>\n",
       "      <td>589</td>\n",
       "      <td>0.217103</td>\n",
       "      <td>613.0</td>\n",
       "      <td>0.960848</td>\n",
       "    </tr>\n",
       "  </tbody>\n",
       "</table>\n",
       "</div>"
      ],
      "text/plain": [
       "     event_name  user_id  conversion  previous_step  step_conversion\n",
       "0         login     1939    0.714707            NaN              NaN\n",
       "1  product_page     1265    0.466273         1939.0         0.652398\n",
       "2      purchase      613    0.225949         1265.0         0.484585\n",
       "3  product_cart      589    0.217103          613.0         0.960848"
      ]
     },
     "execution_count": 53,
     "metadata": {},
     "output_type": "execute_result"
    }
   ],
   "source": [
    "report = make_funnel(group_a, group_a_users.user_id.nunique())\n",
    "report"
   ]
  },
  {
   "cell_type": "code",
   "execution_count": 54,
   "id": "80078b4f",
   "metadata": {},
   "outputs": [
    {
     "data": {
      "image/png": "[encoded data removed]",
      "text/plain": [
       "<Figure size 432x288 with 1 Axes>"
      ]
     },
     "metadata": {
      "needs_background": "light"
     },
     "output_type": "display_data"
    }
   ],
   "source": [
    "show_funnel(report)"
   ]
  },
  {
   "cell_type": "markdown",
   "id": "9daed18c",
   "metadata": {},
   "source": [
    "- В первой группе примерно 70% пользователей доходят до первого шага, на страницу товара переходит примерно 47%, а доходят до покупки 23%. "
   ]
  },
  {
   "cell_type": "markdown",
   "id": "1f0a0f2e",
   "metadata": {},
   "source": [
    "#### Группа В"
   ]
  },
  {
   "cell_type": "code",
   "execution_count": 55,
   "id": "350dfc3e",
   "metadata": {},
   "outputs": [
    {
     "data": {
      "text/html": [
       "<div>\n",
       "<style scoped>\n",
       "    .dataframe tbody tr th:only-of-type {\n",
       "        vertical-align: middle;\n",
       "    }\n",
       "\n",
       "    .dataframe tbody tr th {\n",
       "        vertical-align: top;\n",
       "    }\n",
       "\n",
       "    .dataframe thead th {\n",
       "        text-align: right;\n",
       "    }\n",
       "</style>\n",
       "<table border=\"1\" class=\"dataframe\">\n",
       "  <thead>\n",
       "    <tr style=\"text-align: right;\">\n",
       "      <th></th>\n",
       "      <th>event_name</th>\n",
       "      <th>user_id</th>\n",
       "      <th>conversion</th>\n",
       "      <th>previous_step</th>\n",
       "      <th>step_conversion</th>\n",
       "    </tr>\n",
       "  </thead>\n",
       "  <tbody>\n",
       "    <tr>\n",
       "      <th>0</th>\n",
       "      <td>login</td>\n",
       "      <td>654</td>\n",
       "      <td>0.321218</td>\n",
       "      <td>NaN</td>\n",
       "      <td>NaN</td>\n",
       "    </tr>\n",
       "    <tr>\n",
       "      <th>1</th>\n",
       "      <td>product_page</td>\n",
       "      <td>367</td>\n",
       "      <td>0.180255</td>\n",
       "      <td>654.0</td>\n",
       "      <td>0.561162</td>\n",
       "    </tr>\n",
       "    <tr>\n",
       "      <th>2</th>\n",
       "      <td>purchase</td>\n",
       "      <td>191</td>\n",
       "      <td>0.093811</td>\n",
       "      <td>367.0</td>\n",
       "      <td>0.520436</td>\n",
       "    </tr>\n",
       "    <tr>\n",
       "      <th>3</th>\n",
       "      <td>product_cart</td>\n",
       "      <td>184</td>\n",
       "      <td>0.090373</td>\n",
       "      <td>191.0</td>\n",
       "      <td>0.963351</td>\n",
       "    </tr>\n",
       "  </tbody>\n",
       "</table>\n",
       "</div>"
      ],
      "text/plain": [
       "     event_name  user_id  conversion  previous_step  step_conversion\n",
       "0         login      654    0.321218            NaN              NaN\n",
       "1  product_page      367    0.180255          654.0         0.561162\n",
       "2      purchase      191    0.093811          367.0         0.520436\n",
       "3  product_cart      184    0.090373          191.0         0.963351"
      ]
     },
     "execution_count": 55,
     "metadata": {},
     "output_type": "execute_result"
    }
   ],
   "source": [
    "report = make_funnel(group_b, group_b_users.user_id.nunique())\n",
    "report"
   ]
  },
  {
   "cell_type": "code",
   "execution_count": 56,
   "id": "d1b295b0",
   "metadata": {},
   "outputs": [
    {
     "data": {
      "image/png": "[encoded data removed]",
      "text/plain": [
       "<Figure size 432x288 with 1 Axes>"
      ]
     },
     "metadata": {
      "needs_background": "light"
     },
     "output_type": "display_data"
    }
   ],
   "source": [
    "show_funnel(report)"
   ]
  },
  {
   "cell_type": "markdown",
   "id": "d418f7cd",
   "metadata": {},
   "source": [
    "- Во второй группе только 32% пользователей доходят до авторизации в приложении, это очень маленькая цифра. \n",
    "- До покупки доходит менее 10% пользователей."
   ]
  },
  {
   "cell_type": "markdown",
   "id": "17077aa4",
   "metadata": {},
   "source": [
    "#### Вывод:"
   ]
  },
  {
   "cell_type": "markdown",
   "id": "ff44baa0",
   "metadata": {},
   "source": [
    " - Среди всех пользователей до 1 шага доходят только 55% пользователей. Конверсия в покупку составляет 17%.\n",
    " - В группе А до первого шага доходят около 70% пользователей. Конверсия в покупку составляет 23%.\n",
    " - В группе В около 32% доходят до первого шага, а конверсия в покупку менее 10%."
   ]
  },
  {
   "cell_type": "markdown",
   "id": "bc4de88f",
   "metadata": {},
   "source": [
    "### Вывод:"
   ]
  },
  {
   "cell_type": "markdown",
   "id": "0c8dce92",
   "metadata": {},
   "source": [
    " - В группах неравномерно распределены количество событий и количество активных пользователей. В группе А было совершено 13742 действия, в то время как в группе В лишь 3784.\n",
    " - В среднем в группе А –– 7 событий на пользователя, в группе В –– 6.\n",
    " - По дням в группе А, как и среди всех пользователей, наблюдается повышение активности с 14 декабря по 22 декабря, затем наблюдается спад. \n",
    " - В группе В количество событий в день неравномерное, однако тоже наблюдается спад после 22 декабря. Стоит учитывать, что в среднем в день в группе В совершается событий примерно в 4 раза меньше, чем в группе А.\n",
    " - Среднее количество уникальных пользователей для группы А –– 264, для группы В –– 76.\n",
    " - Среди всех пользователей конверсия в покупку составляет 17%.\n",
    " - До первого шага в приложении в группе А доходят 70% пользователей, в группе В лишь 32%.\n",
    " - Конверсия в покупку в группе А составляет 23%, в группе В –– менее 10%.\n",
    " - Складывается ощущение, что во второй группе рекомендательная система дает сбой или есть какие-либо проблемы с переходом к авторизации, что приводит к тому, что пользователи не доходят даже до первого шага.\n",
    " - При анализе А/В тестирования стоит учитывать, что существует очень большая разница между количеством активных пользователей в 1 и 2 группах. "
   ]
  },
  {
   "cell_type": "markdown",
   "id": "d371c180",
   "metadata": {},
   "source": [
    "## Изучение результатов тестирования"
   ]
  },
  {
   "cell_type": "markdown",
   "id": "e834040b",
   "metadata": {},
   "source": [
    "### Оценка статистической разницы между группами"
   ]
  },
  {
   "cell_type": "code",
   "execution_count": 57,
   "id": "ab2aa9ae",
   "metadata": {},
   "outputs": [],
   "source": [
    "# Посмотроим воронку для группы А\n",
    "count_a = group_a_users.user_id.nunique()\n",
    "report_a = make_funnel(group_a, count_a)\n",
    "\n",
    "# Группы В\n",
    "count_b = group_b_users.user_id.nunique()\n",
    "report_b = make_funnel(group_b, count_b)\n"
   ]
  },
  {
   "cell_type": "code",
   "execution_count": 58,
   "id": "1bfd177e",
   "metadata": {},
   "outputs": [
    {
     "data": {
      "text/html": [
       "<div>\n",
       "<style scoped>\n",
       "    .dataframe tbody tr th:only-of-type {\n",
       "        vertical-align: middle;\n",
       "    }\n",
       "\n",
       "    .dataframe tbody tr th {\n",
       "        vertical-align: top;\n",
       "    }\n",
       "\n",
       "    .dataframe thead th {\n",
       "        text-align: right;\n",
       "    }\n",
       "</style>\n",
       "<table border=\"1\" class=\"dataframe\">\n",
       "  <thead>\n",
       "    <tr style=\"text-align: right;\">\n",
       "      <th></th>\n",
       "      <th>event_name</th>\n",
       "      <th>user_id_a</th>\n",
       "      <th>user_id_b</th>\n",
       "    </tr>\n",
       "  </thead>\n",
       "  <tbody>\n",
       "    <tr>\n",
       "      <th>0</th>\n",
       "      <td>login</td>\n",
       "      <td>1939</td>\n",
       "      <td>654</td>\n",
       "    </tr>\n",
       "    <tr>\n",
       "      <th>1</th>\n",
       "      <td>product_page</td>\n",
       "      <td>1265</td>\n",
       "      <td>367</td>\n",
       "    </tr>\n",
       "    <tr>\n",
       "      <th>2</th>\n",
       "      <td>purchase</td>\n",
       "      <td>613</td>\n",
       "      <td>191</td>\n",
       "    </tr>\n",
       "    <tr>\n",
       "      <th>3</th>\n",
       "      <td>product_cart</td>\n",
       "      <td>589</td>\n",
       "      <td>184</td>\n",
       "    </tr>\n",
       "  </tbody>\n",
       "</table>\n",
       "</div>"
      ],
      "text/plain": [
       "     event_name  user_id_a  user_id_b\n",
       "0         login       1939        654\n",
       "1  product_page       1265        367\n",
       "2      purchase        613        191\n",
       "3  product_cart        589        184"
      ]
     },
     "execution_count": 58,
     "metadata": {},
     "output_type": "execute_result"
    }
   ],
   "source": [
    "# Соединим две таблицы и оставим только значения пользователей в каждом из событий\n",
    "report = report_a.merge(report_b[['event_name', 'user_id']], left_on='event_name', right_on='event_name',\n",
    "          suffixes=('_a', '_b'))\n",
    "report = report.drop(columns = ['conversion', 'previous_step', 'step_conversion', 'conversion'])\n",
    "\n",
    "report"
   ]
  },
  {
   "cell_type": "markdown",
   "id": "4fcfa7ed",
   "metadata": {},
   "source": [
    "Проверим, находят ли статистические критерии разницу между группами А и В. Для этого я буду использовать z-тест для проверки гипотезы о равенстве долей."
   ]
  },
  {
   "cell_type": "code",
   "execution_count": 59,
   "id": "c6b454c5",
   "metadata": {},
   "outputs": [],
   "source": [
    "# Функция для проверки равенства долей\n",
    "\n",
    "def check_proportion(successes1, successes2, trials1, trials2):\n",
    "    \n",
    "    alpha = 0.05 # критический уровень статистической значимости\n",
    "    \n",
    "    # пропорция успехов в первой группе:\n",
    "    p1 = successes1/trials1\n",
    "    \n",
    "    # пропорция успехов во второй группе:\n",
    "    p2 = successes2/trials2\n",
    "    \n",
    "    # пропорция успехов в комбинированном датасете:\n",
    "    p_combined = (successes1 + successes2) / (trials1 + trials2)\n",
    "    \n",
    "    # разница пропорций в датасетах\n",
    "    difference = p1 - p2 \n",
    "    \n",
    "    # считаем статистику в ст.отклонениях стандартного нормального распределения\n",
    "    z_value = difference / mth.sqrt(p_combined * (1 - p_combined) * (1/trials1 + 1/trials2))\n",
    "    \n",
    "    # задаем стандартное нормальное распределение (среднее 0, ст.отклонение 1)\n",
    "    distr = st.norm(0, 1)  \n",
    "    \n",
    "    # считаем статистику в ст.отклонениях стандартного нормального распределения\n",
    "    z_value = difference / mth.sqrt(\n",
    "        p_combined * (1 - p_combined) * (1 / trials1 + 1 / trials2)\n",
    "    )\n",
    "    \n",
    "    # задаем стандартное нормальное распределение (среднее 0, ст.отклонение 1)\n",
    "    distr = st.norm(0, 1)\n",
    "    \n",
    "    p_value = (1 - distr.cdf(abs(z_value))) * 2\n",
    "\n",
    "    print('p-значение: ', p_value)\n",
    "\n",
    "    if p_value < alpha:\n",
    "        print('Отвергаем нулевую гипотезу: между долями есть значимая разница')\n",
    "    else:\n",
    "        print(\n",
    "            'Не получилось отвергнуть нулевую гипотезу, нет оснований считать доли разными'\n",
    "        ) "
   ]
  },
  {
   "cell_type": "code",
   "execution_count": 60,
   "id": "1938bf9a",
   "metadata": {},
   "outputs": [],
   "source": [
    "id_a = np.array(report['user_id_a'])\n",
    "id_b = np.array(report['user_id_b'])"
   ]
  },
  {
   "cell_type": "code",
   "execution_count": 61,
   "id": "94412fcd",
   "metadata": {},
   "outputs": [
    {
     "name": "stdout",
     "output_type": "stream",
     "text": [
      "p-значение:  0.0\n",
      "Отвергаем нулевую гипотезу: между долями есть значимая разница\n",
      "p-значение:  0.0\n",
      "Отвергаем нулевую гипотезу: между долями есть значимая разница\n",
      "p-значение:  0.0\n",
      "Отвергаем нулевую гипотезу: между долями есть значимая разница\n",
      "p-значение:  0.0\n",
      "Отвергаем нулевую гипотезу: между долями есть значимая разница\n"
     ]
    }
   ],
   "source": [
    "for i in range(len(id_a)):\n",
    "    successes1 = id_a[i]\n",
    "    successes2 = id_b[i]\n",
    "    \n",
    "    check_proportion(successes1, successes2, count_a, count_b)"
   ]
  },
  {
   "cell_type": "markdown",
   "id": "d219ccaf",
   "metadata": {},
   "source": [
    "**Вывод:** Получилось нечто странное, p-value во всех случаях равен 0. Между долями есть статистически значимая разница. "
   ]
  },
  {
   "cell_type": "markdown",
   "id": "28658634",
   "metadata": {},
   "source": [
    "## Вывод:"
   ]
  },
  {
   "cell_type": "markdown",
   "id": "e9a6607f",
   "metadata": {},
   "source": [
    " - В ходе предобработки значимых пропусков и дубликатов в данных не обнаружено, данные были приведены к нужному типу.\n",
    " - В данных были участники, которые участвовали одновременно в двух тестах, информация о них была удалена.\n",
    " - Конечная аудитория теста не соответствует техническому заданию.\n",
    " - Время проведения теста частично пересекается с маркетинговым мероприятием, оно затрагивает 5 дней от эксперимента.\n",
    " - Количество событий и активных пользователей в группах распределено неравномерно. В группе В лишь 32% пользователей совершали действия. \n",
    " - В среднем в группе А –– 7 событий на пользователя, в группе В –– 6.\n",
    " - В количестве событий наблюдается повышение активности с 14 декабря по 22 декабря, затем наблюдается спад.\n",
    " - Среди всех пользователей конверсия в покупку составляет 17%.\n",
    " - До первого шага в приложении в группе А доходят 70% пользователей, в группе В лишь 32%.\n",
    " - Конверсия в покупку в группе А составляет 23%, в группе В –– менее 10%.\n",
    " - Статистический тест показал, что в группах между долями есть статистически значимая разница, следовательно, тестирование следует считать некорректным.\n",
    " - Таким образом, тестирование прошло неуспешно. Группа В показала результаты намного хуже, чем группа А.\n",
    " - Как мне кажется, проблема заключается в том, что в группе В пользователи испытывали трудности с новой рекомендательной системой, из-за чего не проходили к следующим шагам в приложении.\n",
    " \n",
    " ---\n",
    " \n",
    " **Корректность теста:**\n",
    " - Как мне кажется, доверять результатам данного теста не рекомендуется: аудитория теста не совпадала с указанной в ТЗ, более 20% пользователей участвовали в двух тестированиях одновременно, временные рамки предоставленных данных не совпадали с указанными в ТЗ, были участники из других регионов, пересечение с маркетинговыми мероприятиями, а также проведение теста в декабре(сезонное повышение активности). Исходя из этих тезисов, можно сказать, что результаты теста могут существенно отличаться от реальных."
   ]
  }
 ],
 "metadata": {
  "ExecuteTimeLog": [
   {
    "duration": 1471,
    "start_time": "2022-04-29T10:12:41.098Z"
   },
   {
    "duration": 295,
    "start_time": "2022-04-29T10:12:42.571Z"
   },
   {
    "duration": 0,
    "start_time": "2022-04-29T10:12:42.871Z"
   },
   {
    "duration": 0,
    "start_time": "2022-04-29T10:12:42.873Z"
   },
   {
    "duration": 1,
    "start_time": "2022-04-29T10:12:42.874Z"
   },
   {
    "duration": 0,
    "start_time": "2022-04-29T10:12:42.876Z"
   },
   {
    "duration": 0,
    "start_time": "2022-04-29T10:12:42.893Z"
   },
   {
    "duration": 0,
    "start_time": "2022-04-29T10:12:42.895Z"
   },
   {
    "duration": 0,
    "start_time": "2022-04-29T10:12:42.897Z"
   },
   {
    "duration": 0,
    "start_time": "2022-04-29T10:12:42.898Z"
   },
   {
    "duration": 0,
    "start_time": "2022-04-29T10:12:42.900Z"
   },
   {
    "duration": 0,
    "start_time": "2022-04-29T10:12:42.901Z"
   },
   {
    "duration": 0,
    "start_time": "2022-04-29T10:12:42.903Z"
   },
   {
    "duration": 0,
    "start_time": "2022-04-29T10:12:42.905Z"
   },
   {
    "duration": 0,
    "start_time": "2022-04-29T10:12:42.906Z"
   },
   {
    "duration": 0,
    "start_time": "2022-04-29T10:12:42.908Z"
   },
   {
    "duration": 0,
    "start_time": "2022-04-29T10:12:42.909Z"
   },
   {
    "duration": 0,
    "start_time": "2022-04-29T10:12:42.911Z"
   },
   {
    "duration": 0,
    "start_time": "2022-04-29T10:12:42.913Z"
   },
   {
    "duration": 0,
    "start_time": "2022-04-29T10:12:42.914Z"
   },
   {
    "duration": 0,
    "start_time": "2022-04-29T10:12:42.916Z"
   },
   {
    "duration": 0,
    "start_time": "2022-04-29T10:12:42.917Z"
   },
   {
    "duration": 0,
    "start_time": "2022-04-29T10:12:42.918Z"
   },
   {
    "duration": 0,
    "start_time": "2022-04-29T10:12:42.920Z"
   },
   {
    "duration": 0,
    "start_time": "2022-04-29T10:12:42.921Z"
   },
   {
    "duration": 0,
    "start_time": "2022-04-29T10:12:42.922Z"
   },
   {
    "duration": 0,
    "start_time": "2022-04-29T10:12:42.924Z"
   },
   {
    "duration": 0,
    "start_time": "2022-04-29T10:12:42.925Z"
   },
   {
    "duration": 0,
    "start_time": "2022-04-29T10:12:42.926Z"
   },
   {
    "duration": 0,
    "start_time": "2022-04-29T10:12:42.928Z"
   },
   {
    "duration": 0,
    "start_time": "2022-04-29T10:12:42.929Z"
   },
   {
    "duration": 0,
    "start_time": "2022-04-29T10:12:42.931Z"
   },
   {
    "duration": 0,
    "start_time": "2022-04-29T10:12:42.932Z"
   },
   {
    "duration": 0,
    "start_time": "2022-04-29T10:12:42.992Z"
   },
   {
    "duration": 0,
    "start_time": "2022-04-29T10:12:42.994Z"
   },
   {
    "duration": 0,
    "start_time": "2022-04-29T10:12:42.996Z"
   },
   {
    "duration": 0,
    "start_time": "2022-04-29T10:12:42.998Z"
   },
   {
    "duration": 0,
    "start_time": "2022-04-29T10:12:43.000Z"
   },
   {
    "duration": 0,
    "start_time": "2022-04-29T10:12:43.001Z"
   },
   {
    "duration": 0,
    "start_time": "2022-04-29T10:12:43.003Z"
   },
   {
    "duration": 0,
    "start_time": "2022-04-29T10:12:43.004Z"
   },
   {
    "duration": 0,
    "start_time": "2022-04-29T10:12:43.006Z"
   },
   {
    "duration": 0,
    "start_time": "2022-04-29T10:12:43.007Z"
   },
   {
    "duration": 0,
    "start_time": "2022-04-29T10:12:43.009Z"
   },
   {
    "duration": 0,
    "start_time": "2022-04-29T10:12:43.011Z"
   },
   {
    "duration": 0,
    "start_time": "2022-04-29T10:12:43.012Z"
   },
   {
    "duration": 0,
    "start_time": "2022-04-29T10:12:43.013Z"
   },
   {
    "duration": 0,
    "start_time": "2022-04-29T10:12:43.015Z"
   },
   {
    "duration": 0,
    "start_time": "2022-04-29T10:12:43.017Z"
   },
   {
    "duration": 0,
    "start_time": "2022-04-29T10:12:43.018Z"
   },
   {
    "duration": 0,
    "start_time": "2022-04-29T10:12:43.020Z"
   },
   {
    "duration": 0,
    "start_time": "2022-04-29T10:12:43.021Z"
   },
   {
    "duration": 0,
    "start_time": "2022-04-29T10:12:43.023Z"
   },
   {
    "duration": 0,
    "start_time": "2022-04-29T10:12:43.024Z"
   },
   {
    "duration": 0,
    "start_time": "2022-04-29T10:12:43.026Z"
   },
   {
    "duration": 0,
    "start_time": "2022-04-29T10:12:43.027Z"
   },
   {
    "duration": 1460,
    "start_time": "2022-04-29T10:13:44.816Z"
   },
   {
    "duration": 750,
    "start_time": "2022-04-29T10:13:46.279Z"
   },
   {
    "duration": 17,
    "start_time": "2022-04-29T10:13:47.031Z"
   },
   {
    "duration": 12,
    "start_time": "2022-04-29T10:13:47.051Z"
   },
   {
    "duration": 13,
    "start_time": "2022-04-29T10:13:47.065Z"
   },
   {
    "duration": 10,
    "start_time": "2022-04-29T10:13:47.092Z"
   },
   {
    "duration": 6,
    "start_time": "2022-04-29T10:13:47.104Z"
   },
   {
    "duration": 22,
    "start_time": "2022-04-29T10:13:47.112Z"
   },
   {
    "duration": 6,
    "start_time": "2022-04-29T10:13:47.136Z"
   },
   {
    "duration": 499,
    "start_time": "2022-04-29T10:13:47.146Z"
   },
   {
    "duration": 125,
    "start_time": "2022-04-29T10:13:47.647Z"
   },
   {
    "duration": 84,
    "start_time": "2022-04-29T10:13:47.774Z"
   },
   {
    "duration": 36,
    "start_time": "2022-04-29T10:13:47.861Z"
   },
   {
    "duration": 32,
    "start_time": "2022-04-29T10:13:47.899Z"
   },
   {
    "duration": 7,
    "start_time": "2022-04-29T10:13:47.933Z"
   },
   {
    "duration": 7,
    "start_time": "2022-04-29T10:13:47.942Z"
   },
   {
    "duration": 45,
    "start_time": "2022-04-29T10:13:47.951Z"
   },
   {
    "duration": 6,
    "start_time": "2022-04-29T10:13:47.998Z"
   },
   {
    "duration": 14,
    "start_time": "2022-04-29T10:13:48.006Z"
   },
   {
    "duration": 24,
    "start_time": "2022-04-29T10:13:48.023Z"
   },
   {
    "duration": 7,
    "start_time": "2022-04-29T10:13:48.049Z"
   },
   {
    "duration": 47,
    "start_time": "2022-04-29T10:13:48.093Z"
   },
   {
    "duration": 59,
    "start_time": "2022-04-29T10:13:48.142Z"
   },
   {
    "duration": 9,
    "start_time": "2022-04-29T10:13:48.203Z"
   },
   {
    "duration": 12,
    "start_time": "2022-04-29T10:13:48.214Z"
   },
   {
    "duration": 5,
    "start_time": "2022-04-29T10:13:48.228Z"
   },
   {
    "duration": 23,
    "start_time": "2022-04-29T10:13:48.236Z"
   },
   {
    "duration": 21,
    "start_time": "2022-04-29T10:13:48.297Z"
   },
   {
    "duration": 42,
    "start_time": "2022-04-29T10:13:48.320Z"
   },
   {
    "duration": 98,
    "start_time": "2022-04-29T10:13:48.364Z"
   },
   {
    "duration": 33,
    "start_time": "2022-04-29T10:13:48.464Z"
   },
   {
    "duration": 13,
    "start_time": "2022-04-29T10:13:48.499Z"
   },
   {
    "duration": 26,
    "start_time": "2022-04-29T10:13:48.514Z"
   },
   {
    "duration": 5,
    "start_time": "2022-04-29T10:13:48.542Z"
   },
   {
    "duration": 204,
    "start_time": "2022-04-29T10:13:48.549Z"
   },
   {
    "duration": 193,
    "start_time": "2022-04-29T10:13:48.756Z"
   },
   {
    "duration": 191,
    "start_time": "2022-04-29T10:13:48.951Z"
   },
   {
    "duration": 22,
    "start_time": "2022-04-29T10:13:49.144Z"
   },
   {
    "duration": 25,
    "start_time": "2022-04-29T10:13:49.168Z"
   },
   {
    "duration": 853,
    "start_time": "2022-04-29T10:13:49.195Z"
   },
   {
    "duration": 5,
    "start_time": "2022-04-29T10:13:50.051Z"
   },
   {
    "duration": 603,
    "start_time": "2022-04-29T10:13:50.058Z"
   },
   {
    "duration": 7,
    "start_time": "2022-04-29T10:13:50.663Z"
   },
   {
    "duration": 21,
    "start_time": "2022-04-29T10:13:50.672Z"
   },
   {
    "duration": 7,
    "start_time": "2022-04-29T10:13:50.695Z"
   },
   {
    "duration": 32,
    "start_time": "2022-04-29T10:13:50.704Z"
   },
   {
    "duration": 203,
    "start_time": "2022-04-29T10:13:50.738Z"
   },
   {
    "duration": 24,
    "start_time": "2022-04-29T10:13:50.943Z"
   },
   {
    "duration": 272,
    "start_time": "2022-04-29T10:13:50.970Z"
   },
   {
    "duration": 22,
    "start_time": "2022-04-29T10:13:51.244Z"
   },
   {
    "duration": 202,
    "start_time": "2022-04-29T10:13:51.268Z"
   },
   {
    "duration": 37,
    "start_time": "2022-04-29T10:13:51.472Z"
   },
   {
    "duration": 19,
    "start_time": "2022-04-29T10:13:51.511Z"
   },
   {
    "duration": 7,
    "start_time": "2022-04-29T10:13:51.532Z"
   },
   {
    "duration": 9,
    "start_time": "2022-04-29T10:13:51.542Z"
   },
   {
    "duration": 42,
    "start_time": "2022-04-29T10:13:51.553Z"
   },
   {
    "duration": 20,
    "start_time": "2022-04-29T10:21:08.106Z"
   },
   {
    "duration": 5,
    "start_time": "2022-04-29T10:21:51.516Z"
   },
   {
    "duration": 1990,
    "start_time": "2022-04-29T10:50:16.386Z"
   },
   {
    "duration": 806,
    "start_time": "2022-04-29T10:50:18.378Z"
   },
   {
    "duration": 23,
    "start_time": "2022-04-29T10:50:19.589Z"
   },
   {
    "duration": 17,
    "start_time": "2022-04-29T10:50:19.858Z"
   },
   {
    "duration": 20,
    "start_time": "2022-04-29T10:50:20.078Z"
   },
   {
    "duration": 11,
    "start_time": "2022-04-29T10:50:20.265Z"
   },
   {
    "duration": 5,
    "start_time": "2022-04-29T10:50:20.766Z"
   },
   {
    "duration": 22,
    "start_time": "2022-04-29T10:50:21.960Z"
   },
   {
    "duration": 7,
    "start_time": "2022-04-29T10:50:22.407Z"
   },
   {
    "duration": 553,
    "start_time": "2022-04-29T10:50:23.308Z"
   },
   {
    "duration": 150,
    "start_time": "2022-04-29T10:50:23.864Z"
   },
   {
    "duration": 85,
    "start_time": "2022-04-29T10:50:24.148Z"
   },
   {
    "duration": 18,
    "start_time": "2022-04-29T10:50:24.407Z"
   },
   {
    "duration": 36,
    "start_time": "2022-04-29T10:50:25.308Z"
   },
   {
    "duration": 7,
    "start_time": "2022-04-29T10:50:28.984Z"
   },
   {
    "duration": 7,
    "start_time": "2022-04-29T10:50:29.314Z"
   },
   {
    "duration": 7,
    "start_time": "2022-04-29T10:50:31.566Z"
   },
   {
    "duration": 7,
    "start_time": "2022-04-29T10:50:31.901Z"
   },
   {
    "duration": 16,
    "start_time": "2022-04-29T10:50:33.953Z"
   },
   {
    "duration": 27,
    "start_time": "2022-04-29T10:50:36.076Z"
   },
   {
    "duration": 6,
    "start_time": "2022-04-29T10:50:36.574Z"
   },
   {
    "duration": 51,
    "start_time": "2022-04-29T10:50:37.954Z"
   },
   {
    "duration": 37,
    "start_time": "2022-04-29T10:51:09.516Z"
   },
   {
    "duration": 9,
    "start_time": "2022-04-29T10:51:09.984Z"
   },
   {
    "duration": 13,
    "start_time": "2022-04-29T10:51:10.342Z"
   },
   {
    "duration": 7,
    "start_time": "2022-04-29T10:51:10.753Z"
   },
   {
    "duration": 18,
    "start_time": "2022-04-29T10:51:11.706Z"
   },
   {
    "duration": 21,
    "start_time": "2022-04-29T10:51:14.646Z"
   },
   {
    "duration": 42,
    "start_time": "2022-04-29T10:51:28.910Z"
   },
   {
    "duration": 80,
    "start_time": "2022-04-29T10:52:04.220Z"
   },
   {
    "duration": 16,
    "start_time": "2022-04-29T10:52:04.303Z"
   },
   {
    "duration": 11,
    "start_time": "2022-04-29T10:52:04.534Z"
   },
   {
    "duration": 21,
    "start_time": "2022-04-29T10:52:05.295Z"
   },
   {
    "duration": 7,
    "start_time": "2022-04-29T10:52:06.128Z"
   },
   {
    "duration": 290,
    "start_time": "2022-04-29T10:52:06.686Z"
   },
   {
    "duration": 190,
    "start_time": "2022-04-29T10:52:07.587Z"
   },
   {
    "duration": 185,
    "start_time": "2022-04-29T10:52:07.840Z"
   },
   {
    "duration": 24,
    "start_time": "2022-04-29T10:52:10.048Z"
   },
   {
    "duration": 5,
    "start_time": "2022-04-29T10:52:10.250Z"
   },
   {
    "duration": 1071,
    "start_time": "2022-04-29T10:52:10.567Z"
   },
   {
    "duration": 6,
    "start_time": "2022-04-29T10:52:17.487Z"
   },
   {
    "duration": 616,
    "start_time": "2022-04-29T10:52:17.846Z"
   },
   {
    "duration": 8,
    "start_time": "2022-04-29T10:52:19.287Z"
   },
   {
    "duration": 5,
    "start_time": "2022-04-29T10:52:19.540Z"
   },
   {
    "duration": 6,
    "start_time": "2022-04-29T10:52:19.792Z"
   },
   {
    "duration": 27,
    "start_time": "2022-04-29T10:52:20.606Z"
   },
   {
    "duration": 177,
    "start_time": "2022-04-29T10:52:20.819Z"
   },
   {
    "duration": 25,
    "start_time": "2022-04-29T10:52:29.207Z"
   },
   {
    "duration": 262,
    "start_time": "2022-04-29T10:52:29.476Z"
   },
   {
    "duration": 24,
    "start_time": "2022-04-29T10:52:30.210Z"
   },
   {
    "duration": 190,
    "start_time": "2022-04-29T10:52:30.420Z"
   },
   {
    "duration": 28,
    "start_time": "2022-04-29T10:52:34.531Z"
   },
   {
    "duration": 19,
    "start_time": "2022-04-29T10:52:34.760Z"
   },
   {
    "duration": 7,
    "start_time": "2022-04-29T10:52:35.444Z"
   },
   {
    "duration": 4,
    "start_time": "2022-04-29T10:52:36.106Z"
   },
   {
    "duration": 15,
    "start_time": "2022-04-29T10:52:36.363Z"
   },
   {
    "duration": 739,
    "start_time": "2022-04-29T10:59:08.482Z"
   },
   {
    "duration": 12,
    "start_time": "2022-04-29T10:59:09.223Z"
   },
   {
    "duration": 14,
    "start_time": "2022-04-29T10:59:09.238Z"
   },
   {
    "duration": 15,
    "start_time": "2022-04-29T10:59:09.254Z"
   },
   {
    "duration": 29,
    "start_time": "2022-04-29T10:59:09.272Z"
   },
   {
    "duration": 7,
    "start_time": "2022-04-29T10:59:09.306Z"
   },
   {
    "duration": 24,
    "start_time": "2022-04-29T10:59:09.315Z"
   },
   {
    "duration": 7,
    "start_time": "2022-04-29T10:59:09.341Z"
   },
   {
    "duration": 517,
    "start_time": "2022-04-29T10:59:10.349Z"
   },
   {
    "duration": 131,
    "start_time": "2022-04-29T10:59:10.869Z"
   },
   {
    "duration": 112,
    "start_time": "2022-04-29T10:59:11.003Z"
   },
   {
    "duration": 18,
    "start_time": "2022-04-29T10:59:11.345Z"
   },
   {
    "duration": 35,
    "start_time": "2022-04-29T10:59:11.633Z"
   },
   {
    "duration": 8,
    "start_time": "2022-04-29T10:59:13.879Z"
   },
   {
    "duration": 7,
    "start_time": "2022-04-29T10:59:14.075Z"
   },
   {
    "duration": 6,
    "start_time": "2022-04-29T10:59:15.145Z"
   },
   {
    "duration": 6,
    "start_time": "2022-04-29T10:59:15.350Z"
   },
   {
    "duration": 13,
    "start_time": "2022-04-29T10:59:16.582Z"
   },
   {
    "duration": 22,
    "start_time": "2022-04-29T10:59:18.505Z"
   },
   {
    "duration": 7,
    "start_time": "2022-04-29T10:59:18.994Z"
   },
   {
    "duration": 51,
    "start_time": "2022-04-29T10:59:20.942Z"
   },
   {
    "duration": 4,
    "start_time": "2022-04-29T11:00:38.101Z"
   },
   {
    "duration": 679,
    "start_time": "2022-04-29T11:00:39.348Z"
   },
   {
    "duration": 12,
    "start_time": "2022-04-29T11:00:40.030Z"
   },
   {
    "duration": 14,
    "start_time": "2022-04-29T11:00:40.044Z"
   },
   {
    "duration": 12,
    "start_time": "2022-04-29T11:00:40.640Z"
   },
   {
    "duration": 11,
    "start_time": "2022-04-29T11:00:40.832Z"
   },
   {
    "duration": 5,
    "start_time": "2022-04-29T11:00:41.171Z"
   },
   {
    "duration": 22,
    "start_time": "2022-04-29T11:00:41.413Z"
   },
   {
    "duration": 7,
    "start_time": "2022-04-29T11:00:41.644Z"
   },
   {
    "duration": 464,
    "start_time": "2022-04-29T11:00:42.173Z"
   },
   {
    "duration": 118,
    "start_time": "2022-04-29T11:00:42.640Z"
   },
   {
    "duration": 79,
    "start_time": "2022-04-29T11:00:42.868Z"
   },
   {
    "duration": 21,
    "start_time": "2022-04-29T11:00:43.397Z"
   },
   {
    "duration": 35,
    "start_time": "2022-04-29T11:00:43.817Z"
   },
   {
    "duration": 8,
    "start_time": "2022-04-29T11:00:46.070Z"
   },
   {
    "duration": 7,
    "start_time": "2022-04-29T11:00:46.596Z"
   },
   {
    "duration": 6,
    "start_time": "2022-04-29T11:00:48.076Z"
   },
   {
    "duration": 6,
    "start_time": "2022-04-29T11:00:48.392Z"
   },
   {
    "duration": 12,
    "start_time": "2022-04-29T11:00:49.780Z"
   },
   {
    "duration": 14,
    "start_time": "2022-04-29T11:09:30.755Z"
   },
   {
    "duration": 19,
    "start_time": "2022-04-29T11:10:10.430Z"
   },
   {
    "duration": 31,
    "start_time": "2022-04-29T11:10:31.132Z"
   },
   {
    "duration": 32,
    "start_time": "2022-04-29T11:11:36.218Z"
   },
   {
    "duration": 19,
    "start_time": "2022-04-29T11:12:14.794Z"
   },
   {
    "duration": 33,
    "start_time": "2022-04-29T11:13:03.915Z"
   },
   {
    "duration": 8,
    "start_time": "2022-04-29T11:15:33.590Z"
   },
   {
    "duration": 71,
    "start_time": "2022-04-29T11:15:34.331Z"
   },
   {
    "duration": 36,
    "start_time": "2022-04-29T11:16:00.323Z"
   },
   {
    "duration": 9,
    "start_time": "2022-04-29T11:16:00.907Z"
   },
   {
    "duration": 12,
    "start_time": "2022-04-29T11:16:01.585Z"
   },
   {
    "duration": 6,
    "start_time": "2022-04-29T11:16:01.857Z"
   },
   {
    "duration": 18,
    "start_time": "2022-04-29T11:16:02.853Z"
   },
   {
    "duration": 21,
    "start_time": "2022-04-29T11:16:03.686Z"
   },
   {
    "duration": 4,
    "start_time": "2022-04-29T11:16:08.575Z"
   },
   {
    "duration": 691,
    "start_time": "2022-04-29T11:16:08.726Z"
   },
   {
    "duration": 12,
    "start_time": "2022-04-29T11:16:09.420Z"
   },
   {
    "duration": 23,
    "start_time": "2022-04-29T11:16:09.435Z"
   },
   {
    "duration": 16,
    "start_time": "2022-04-29T11:16:09.462Z"
   },
   {
    "duration": 14,
    "start_time": "2022-04-29T11:16:09.493Z"
   },
   {
    "duration": 5,
    "start_time": "2022-04-29T11:16:09.737Z"
   },
   {
    "duration": 20,
    "start_time": "2022-04-29T11:16:09.969Z"
   },
   {
    "duration": 7,
    "start_time": "2022-04-29T11:16:10.126Z"
   },
   {
    "duration": 484,
    "start_time": "2022-04-29T11:16:10.734Z"
   },
   {
    "duration": 122,
    "start_time": "2022-04-29T11:16:11.220Z"
   },
   {
    "duration": 94,
    "start_time": "2022-04-29T11:16:11.344Z"
   },
   {
    "duration": 16,
    "start_time": "2022-04-29T11:16:11.472Z"
   },
   {
    "duration": 32,
    "start_time": "2022-04-29T11:16:11.851Z"
   },
   {
    "duration": 7,
    "start_time": "2022-04-29T11:16:14.214Z"
   },
   {
    "duration": 6,
    "start_time": "2022-04-29T11:16:14.406Z"
   },
   {
    "duration": 6,
    "start_time": "2022-04-29T11:16:16.859Z"
   },
   {
    "duration": 7,
    "start_time": "2022-04-29T11:16:17.095Z"
   },
   {
    "duration": 14,
    "start_time": "2022-04-29T11:16:17.858Z"
   },
   {
    "duration": 21,
    "start_time": "2022-04-29T11:16:19.162Z"
   },
   {
    "duration": 9,
    "start_time": "2022-04-29T11:16:19.778Z"
   },
   {
    "duration": 69,
    "start_time": "2022-04-29T11:16:20.157Z"
   },
   {
    "duration": 31,
    "start_time": "2022-04-29T11:16:21.788Z"
   },
   {
    "duration": 37,
    "start_time": "2022-04-29T11:16:23.805Z"
   },
   {
    "duration": 8,
    "start_time": "2022-04-29T11:16:26.214Z"
   },
   {
    "duration": 13,
    "start_time": "2022-04-29T11:16:26.553Z"
   },
   {
    "duration": 7,
    "start_time": "2022-04-29T11:16:27.874Z"
   },
   {
    "duration": 18,
    "start_time": "2022-04-29T11:16:28.953Z"
   },
   {
    "duration": 14,
    "start_time": "2022-04-29T11:16:47.355Z"
   },
   {
    "duration": 21,
    "start_time": "2022-04-29T11:17:14.786Z"
   },
   {
    "duration": 64,
    "start_time": "2022-04-29T11:17:55.415Z"
   },
   {
    "duration": 70,
    "start_time": "2022-04-29T11:19:53.843Z"
   },
   {
    "duration": 18,
    "start_time": "2022-04-29T11:19:56.255Z"
   },
   {
    "duration": 29,
    "start_time": "2022-04-29T11:20:06.325Z"
   },
   {
    "duration": 3,
    "start_time": "2022-04-29T11:20:24.890Z"
   },
   {
    "duration": 6,
    "start_time": "2022-04-29T11:20:30.336Z"
   },
   {
    "duration": 5,
    "start_time": "2022-04-29T11:20:39.710Z"
   },
   {
    "duration": 3100,
    "start_time": "2022-04-29T11:20:54.497Z"
   },
   {
    "duration": 217,
    "start_time": "2022-04-29T11:21:02.494Z"
   },
   {
    "duration": 18,
    "start_time": "2022-04-29T11:21:11.502Z"
   },
   {
    "duration": 4460,
    "start_time": "2022-04-29T11:22:03.456Z"
   },
   {
    "duration": 4,
    "start_time": "2022-04-29T11:22:11.229Z"
   },
   {
    "duration": 4,
    "start_time": "2022-04-29T11:22:37.707Z"
   },
   {
    "duration": 6,
    "start_time": "2022-04-29T11:23:23.255Z"
   },
   {
    "duration": 18,
    "start_time": "2022-04-29T11:23:25.238Z"
   },
   {
    "duration": 36,
    "start_time": "2022-04-29T11:24:03.366Z"
   },
   {
    "duration": 62,
    "start_time": "2022-04-29T11:24:54.206Z"
   },
   {
    "duration": 14,
    "start_time": "2022-04-29T11:26:15.076Z"
   },
   {
    "duration": 31,
    "start_time": "2022-04-29T11:26:17.873Z"
   },
   {
    "duration": 64,
    "start_time": "2022-04-29T11:26:32.774Z"
   },
   {
    "duration": 29,
    "start_time": "2022-04-29T11:26:35.413Z"
   },
   {
    "duration": 63,
    "start_time": "2022-04-29T11:26:41.103Z"
   },
   {
    "duration": 14,
    "start_time": "2022-04-29T11:26:41.635Z"
   },
   {
    "duration": 30,
    "start_time": "2022-04-29T11:26:42.862Z"
   },
   {
    "duration": 35,
    "start_time": "2022-04-29T11:27:18.024Z"
   },
   {
    "duration": 14,
    "start_time": "2022-04-29T11:27:23.662Z"
   },
   {
    "duration": 29,
    "start_time": "2022-04-29T11:27:25.716Z"
   },
   {
    "duration": 4,
    "start_time": "2022-04-29T11:27:52.657Z"
   },
   {
    "duration": 818,
    "start_time": "2022-04-29T11:27:53.625Z"
   },
   {
    "duration": 12,
    "start_time": "2022-04-29T11:27:54.446Z"
   },
   {
    "duration": 13,
    "start_time": "2022-04-29T11:27:55.288Z"
   },
   {
    "duration": 12,
    "start_time": "2022-04-29T11:27:55.466Z"
   },
   {
    "duration": 11,
    "start_time": "2022-04-29T11:27:55.626Z"
   },
   {
    "duration": 4,
    "start_time": "2022-04-29T11:27:55.957Z"
   },
   {
    "duration": 21,
    "start_time": "2022-04-29T11:27:56.183Z"
   },
   {
    "duration": 7,
    "start_time": "2022-04-29T11:27:56.313Z"
   },
   {
    "duration": 481,
    "start_time": "2022-04-29T11:27:56.708Z"
   },
   {
    "duration": 125,
    "start_time": "2022-04-29T11:27:57.194Z"
   },
   {
    "duration": 80,
    "start_time": "2022-04-29T11:27:57.352Z"
   },
   {
    "duration": 18,
    "start_time": "2022-04-29T11:27:57.576Z"
   },
   {
    "duration": 35,
    "start_time": "2022-04-29T11:27:57.897Z"
   },
   {
    "duration": 8,
    "start_time": "2022-04-29T11:27:58.949Z"
   },
   {
    "duration": 8,
    "start_time": "2022-04-29T11:27:59.093Z"
   },
   {
    "duration": 7,
    "start_time": "2022-04-29T11:27:59.610Z"
   },
   {
    "duration": 7,
    "start_time": "2022-04-29T11:27:59.744Z"
   },
   {
    "duration": 14,
    "start_time": "2022-04-29T11:28:00.256Z"
   },
   {
    "duration": 20,
    "start_time": "2022-04-29T11:28:01.153Z"
   },
   {
    "duration": 8,
    "start_time": "2022-04-29T11:28:01.434Z"
   },
   {
    "duration": 74,
    "start_time": "2022-04-29T11:28:01.744Z"
   },
   {
    "duration": 34,
    "start_time": "2022-04-29T11:28:03.941Z"
   },
   {
    "duration": 40,
    "start_time": "2022-04-29T11:28:04.921Z"
   },
   {
    "duration": 10,
    "start_time": "2022-04-29T11:28:05.100Z"
   },
   {
    "duration": 13,
    "start_time": "2022-04-29T11:28:05.288Z"
   },
   {
    "duration": 6,
    "start_time": "2022-04-29T11:28:05.488Z"
   },
   {
    "duration": 18,
    "start_time": "2022-04-29T11:28:06.104Z"
   },
   {
    "duration": 21,
    "start_time": "2022-04-29T11:28:07.595Z"
   },
   {
    "duration": 62,
    "start_time": "2022-04-29T11:28:08.579Z"
   },
   {
    "duration": 62,
    "start_time": "2022-04-29T11:28:13.726Z"
   },
   {
    "duration": 4,
    "start_time": "2022-04-29T11:28:14.854Z"
   },
   {
    "duration": 6,
    "start_time": "2022-04-29T11:28:15.172Z"
   },
   {
    "duration": 72,
    "start_time": "2022-04-29T11:28:47.091Z"
   },
   {
    "duration": 18,
    "start_time": "2022-04-29T11:28:47.866Z"
   },
   {
    "duration": 16,
    "start_time": "2022-04-29T11:28:56.449Z"
   },
   {
    "duration": 12,
    "start_time": "2022-04-29T11:28:56.973Z"
   },
   {
    "duration": 30,
    "start_time": "2022-04-29T11:29:07.313Z"
   },
   {
    "duration": 29,
    "start_time": "2022-04-29T11:29:30.503Z"
   },
   {
    "duration": 12,
    "start_time": "2022-04-29T11:29:32.481Z"
   },
   {
    "duration": 21,
    "start_time": "2022-04-29T11:29:34.030Z"
   },
   {
    "duration": 7,
    "start_time": "2022-04-29T11:29:39.313Z"
   },
   {
    "duration": 172,
    "start_time": "2022-04-29T11:29:39.323Z"
   },
   {
    "duration": 165,
    "start_time": "2022-04-29T11:29:45.316Z"
   },
   {
    "duration": 175,
    "start_time": "2022-04-29T11:29:50.367Z"
   },
   {
    "duration": 27,
    "start_time": "2022-04-29T11:30:57.089Z"
   },
   {
    "duration": 12,
    "start_time": "2022-04-29T11:30:57.567Z"
   },
   {
    "duration": 20,
    "start_time": "2022-04-29T11:30:58.492Z"
   },
   {
    "duration": 6,
    "start_time": "2022-04-29T11:31:00.539Z"
   },
   {
    "duration": 262,
    "start_time": "2022-04-29T11:31:00.937Z"
   },
   {
    "duration": 180,
    "start_time": "2022-04-29T11:31:01.823Z"
   },
   {
    "duration": 181,
    "start_time": "2022-04-29T11:31:02.085Z"
   },
   {
    "duration": 22,
    "start_time": "2022-04-29T11:31:07.560Z"
   },
   {
    "duration": 6,
    "start_time": "2022-04-29T11:31:08.265Z"
   },
   {
    "duration": 754,
    "start_time": "2022-04-29T11:31:08.874Z"
   },
   {
    "duration": 32,
    "start_time": "2022-04-29T11:32:10.299Z"
   },
   {
    "duration": 23,
    "start_time": "2022-04-29T11:32:36.665Z"
   },
   {
    "duration": 24,
    "start_time": "2022-04-29T11:32:45.110Z"
   },
   {
    "duration": 16,
    "start_time": "2022-04-29T11:32:51.600Z"
   },
   {
    "duration": 11,
    "start_time": "2022-04-29T11:32:55.780Z"
   },
   {
    "duration": 17,
    "start_time": "2022-04-29T11:33:40.306Z"
   },
   {
    "duration": 22,
    "start_time": "2022-04-29T11:33:41.185Z"
   },
   {
    "duration": 241,
    "start_time": "2022-04-29T11:33:53.343Z"
   },
   {
    "duration": 244,
    "start_time": "2022-04-29T11:34:13.027Z"
   },
   {
    "duration": 267,
    "start_time": "2022-04-29T11:34:22.659Z"
   },
   {
    "duration": 244,
    "start_time": "2022-04-29T11:34:31.133Z"
   },
   {
    "duration": 6,
    "start_time": "2022-04-29T11:35:47.477Z"
   },
   {
    "duration": 417,
    "start_time": "2022-04-29T11:36:03.016Z"
   },
   {
    "duration": 472,
    "start_time": "2022-04-29T11:36:31.835Z"
   },
   {
    "duration": 6,
    "start_time": "2022-04-29T11:36:34.867Z"
   },
   {
    "duration": 456,
    "start_time": "2022-04-29T11:36:35.298Z"
   },
   {
    "duration": 17,
    "start_time": "2022-04-29T11:36:56.718Z"
   },
   {
    "duration": 239,
    "start_time": "2022-04-29T11:36:57.083Z"
   },
   {
    "duration": 400,
    "start_time": "2022-04-29T11:37:09.676Z"
   },
   {
    "duration": 385,
    "start_time": "2022-04-29T11:37:15.156Z"
   },
   {
    "duration": 438,
    "start_time": "2022-04-29T11:37:21.363Z"
   },
   {
    "duration": 576,
    "start_time": "2022-04-29T11:39:34.177Z"
   },
   {
    "duration": 6,
    "start_time": "2022-04-29T11:39:56.943Z"
   },
   {
    "duration": 476,
    "start_time": "2022-04-29T11:40:16.219Z"
   },
   {
    "duration": 428,
    "start_time": "2022-04-29T11:41:10.781Z"
   },
   {
    "duration": 6,
    "start_time": "2022-04-29T11:41:16.208Z"
   },
   {
    "duration": 620,
    "start_time": "2022-04-29T11:41:18.645Z"
   },
   {
    "duration": 653,
    "start_time": "2022-04-29T11:41:54.872Z"
   },
   {
    "duration": 723,
    "start_time": "2022-04-29T11:42:54.878Z"
   },
   {
    "duration": 6,
    "start_time": "2022-04-29T11:42:58.537Z"
   },
   {
    "duration": 807,
    "start_time": "2022-04-29T11:43:01.317Z"
   },
   {
    "duration": 7,
    "start_time": "2022-04-29T11:43:03.885Z"
   },
   {
    "duration": 6,
    "start_time": "2022-04-29T11:43:04.403Z"
   },
   {
    "duration": 7,
    "start_time": "2022-04-29T11:43:04.947Z"
   },
   {
    "duration": 29,
    "start_time": "2022-04-29T11:43:05.930Z"
   },
   {
    "duration": 177,
    "start_time": "2022-04-29T11:43:08.875Z"
   },
   {
    "duration": 32,
    "start_time": "2022-04-29T11:43:13.278Z"
   },
   {
    "duration": 186,
    "start_time": "2022-04-29T11:43:13.834Z"
   },
   {
    "duration": 33,
    "start_time": "2022-04-29T11:43:21.351Z"
   },
   {
    "duration": 271,
    "start_time": "2022-04-29T11:43:21.929Z"
   },
   {
    "duration": 38,
    "start_time": "2022-04-29T11:43:34.813Z"
   },
   {
    "duration": 29,
    "start_time": "2022-04-29T11:43:35.254Z"
   },
   {
    "duration": 11,
    "start_time": "2022-04-29T11:43:36.318Z"
   },
   {
    "duration": 4,
    "start_time": "2022-04-29T11:43:36.963Z"
   },
   {
    "duration": 16,
    "start_time": "2022-04-29T11:43:38.435Z"
   },
   {
    "duration": 5,
    "start_time": "2022-04-29T11:52:41.195Z"
   },
   {
    "duration": 765,
    "start_time": "2022-04-29T11:52:41.370Z"
   },
   {
    "duration": 12,
    "start_time": "2022-04-29T11:52:42.139Z"
   },
   {
    "duration": 14,
    "start_time": "2022-04-29T11:52:42.155Z"
   },
   {
    "duration": 28,
    "start_time": "2022-04-29T11:52:42.172Z"
   },
   {
    "duration": 12,
    "start_time": "2022-04-29T11:52:42.202Z"
   },
   {
    "duration": 5,
    "start_time": "2022-04-29T11:52:42.435Z"
   },
   {
    "duration": 24,
    "start_time": "2022-04-29T11:52:42.838Z"
   },
   {
    "duration": 7,
    "start_time": "2022-04-29T11:52:43.201Z"
   },
   {
    "duration": 586,
    "start_time": "2022-04-29T11:52:43.787Z"
   },
   {
    "duration": 167,
    "start_time": "2022-04-29T11:52:44.376Z"
   },
   {
    "duration": 102,
    "start_time": "2022-04-29T11:52:44.545Z"
   },
   {
    "duration": 17,
    "start_time": "2022-04-29T11:52:44.650Z"
   },
   {
    "duration": 54,
    "start_time": "2022-04-29T11:52:44.669Z"
   },
   {
    "duration": 8,
    "start_time": "2022-04-29T11:52:45.697Z"
   },
   {
    "duration": 7,
    "start_time": "2022-04-29T11:52:45.871Z"
   },
   {
    "duration": 6,
    "start_time": "2022-04-29T11:52:46.586Z"
   },
   {
    "duration": 7,
    "start_time": "2022-04-29T11:52:46.754Z"
   },
   {
    "duration": 13,
    "start_time": "2022-04-29T11:52:47.539Z"
   },
   {
    "duration": 27,
    "start_time": "2022-04-29T11:52:48.522Z"
   },
   {
    "duration": 8,
    "start_time": "2022-04-29T11:52:48.718Z"
   },
   {
    "duration": 72,
    "start_time": "2022-04-29T11:52:48.928Z"
   },
   {
    "duration": 30,
    "start_time": "2022-04-29T11:52:50.876Z"
   },
   {
    "duration": 38,
    "start_time": "2022-04-29T11:52:52.279Z"
   },
   {
    "duration": 8,
    "start_time": "2022-04-29T11:52:52.691Z"
   },
   {
    "duration": 13,
    "start_time": "2022-04-29T11:52:52.896Z"
   },
   {
    "duration": 7,
    "start_time": "2022-04-29T11:52:53.104Z"
   },
   {
    "duration": 18,
    "start_time": "2022-04-29T11:52:55.690Z"
   },
   {
    "duration": 21,
    "start_time": "2022-04-29T11:52:56.078Z"
   },
   {
    "duration": 70,
    "start_time": "2022-04-29T11:52:57.403Z"
   },
   {
    "duration": 114,
    "start_time": "2022-04-29T11:52:59.501Z"
   },
   {
    "duration": 18,
    "start_time": "2022-04-29T11:53:01.707Z"
   },
   {
    "duration": 28,
    "start_time": "2022-04-29T11:53:05.507Z"
   },
   {
    "duration": 11,
    "start_time": "2022-04-29T11:53:05.810Z"
   },
   {
    "duration": 21,
    "start_time": "2022-04-29T11:53:06.458Z"
   },
   {
    "duration": 6,
    "start_time": "2022-04-29T11:53:07.052Z"
   },
   {
    "duration": 195,
    "start_time": "2022-04-29T11:53:07.221Z"
   },
   {
    "duration": 220,
    "start_time": "2022-04-29T11:53:07.602Z"
   },
   {
    "duration": 184,
    "start_time": "2022-04-29T11:53:07.825Z"
   },
   {
    "duration": 23,
    "start_time": "2022-04-29T11:53:08.729Z"
   },
   {
    "duration": 6,
    "start_time": "2022-04-29T11:53:08.913Z"
   },
   {
    "duration": 1339,
    "start_time": "2022-04-29T11:53:09.082Z"
   },
   {
    "duration": 6,
    "start_time": "2022-04-29T11:53:10.596Z"
   },
   {
    "duration": 1050,
    "start_time": "2022-04-29T11:53:11.220Z"
   },
   {
    "duration": 6,
    "start_time": "2022-04-29T11:53:15.310Z"
   },
   {
    "duration": 627,
    "start_time": "2022-04-29T11:53:15.945Z"
   },
   {
    "duration": 10,
    "start_time": "2022-04-29T11:53:17.976Z"
   },
   {
    "duration": 8,
    "start_time": "2022-04-29T11:53:18.210Z"
   },
   {
    "duration": 5,
    "start_time": "2022-04-29T11:53:18.471Z"
   },
   {
    "duration": 29,
    "start_time": "2022-04-29T11:53:18.947Z"
   },
   {
    "duration": 365,
    "start_time": "2022-04-29T11:53:19.190Z"
   },
   {
    "duration": 27,
    "start_time": "2022-04-29T11:53:20.480Z"
   },
   {
    "duration": 331,
    "start_time": "2022-04-29T11:53:20.699Z"
   },
   {
    "duration": 34,
    "start_time": "2022-04-29T11:53:21.362Z"
   },
   {
    "duration": 293,
    "start_time": "2022-04-29T11:53:21.563Z"
   },
   {
    "duration": 34,
    "start_time": "2022-04-29T11:53:24.061Z"
   },
   {
    "duration": 21,
    "start_time": "2022-04-29T11:53:24.327Z"
   },
   {
    "duration": 11,
    "start_time": "2022-04-29T11:53:24.928Z"
   },
   {
    "duration": 5,
    "start_time": "2022-04-29T11:53:25.133Z"
   },
   {
    "duration": 17,
    "start_time": "2022-04-29T11:53:25.341Z"
   },
   {
    "duration": 68,
    "start_time": "2022-04-30T06:06:10.199Z"
   },
   {
    "duration": 1658,
    "start_time": "2022-04-30T06:06:31.852Z"
   },
   {
    "duration": 751,
    "start_time": "2022-04-30T06:06:33.513Z"
   },
   {
    "duration": 21,
    "start_time": "2022-04-30T06:06:34.266Z"
   },
   {
    "duration": 13,
    "start_time": "2022-04-30T06:06:34.290Z"
   },
   {
    "duration": 14,
    "start_time": "2022-04-30T06:06:34.307Z"
   },
   {
    "duration": 14,
    "start_time": "2022-04-30T06:06:34.324Z"
   },
   {
    "duration": 5,
    "start_time": "2022-04-30T06:06:34.381Z"
   },
   {
    "duration": 25,
    "start_time": "2022-04-30T06:06:34.390Z"
   },
   {
    "duration": 8,
    "start_time": "2022-04-30T06:06:34.418Z"
   },
   {
    "duration": 587,
    "start_time": "2022-04-30T06:06:34.432Z"
   },
   {
    "duration": 131,
    "start_time": "2022-04-30T06:06:35.022Z"
   },
   {
    "duration": 101,
    "start_time": "2022-04-30T06:06:35.156Z"
   },
   {
    "duration": 33,
    "start_time": "2022-04-30T06:06:35.260Z"
   },
   {
    "duration": 35,
    "start_time": "2022-04-30T06:06:35.295Z"
   },
   {
    "duration": 50,
    "start_time": "2022-04-30T06:06:35.333Z"
   },
   {
    "duration": 9,
    "start_time": "2022-04-30T06:06:35.386Z"
   },
   {
    "duration": 17,
    "start_time": "2022-04-30T06:06:35.398Z"
   },
   {
    "duration": 9,
    "start_time": "2022-04-30T06:06:35.417Z"
   },
   {
    "duration": 20,
    "start_time": "2022-04-30T06:06:35.431Z"
   },
   {
    "duration": 34,
    "start_time": "2022-04-30T06:06:35.483Z"
   },
   {
    "duration": 11,
    "start_time": "2022-04-30T06:06:35.520Z"
   },
   {
    "duration": 135,
    "start_time": "2022-04-30T06:06:35.534Z"
   },
   {
    "duration": 42,
    "start_time": "2022-04-30T06:06:35.672Z"
   },
   {
    "duration": 86,
    "start_time": "2022-04-30T06:06:35.717Z"
   },
   {
    "duration": 11,
    "start_time": "2022-04-30T06:06:35.806Z"
   },
   {
    "duration": 15,
    "start_time": "2022-04-30T06:06:35.820Z"
   },
   {
    "duration": 7,
    "start_time": "2022-04-30T06:06:35.837Z"
   },
   {
    "duration": 26,
    "start_time": "2022-04-30T06:06:35.889Z"
   },
   {
    "duration": 26,
    "start_time": "2022-04-30T06:06:35.918Z"
   },
   {
    "duration": 139,
    "start_time": "2022-04-30T06:06:35.947Z"
   },
   {
    "duration": 134,
    "start_time": "2022-04-30T06:06:36.089Z"
   },
   {
    "duration": 18,
    "start_time": "2022-04-30T06:06:36.226Z"
   },
   {
    "duration": 59,
    "start_time": "2022-04-30T06:06:36.246Z"
   },
   {
    "duration": 13,
    "start_time": "2022-04-30T06:06:36.308Z"
   },
   {
    "duration": 20,
    "start_time": "2022-04-30T06:06:36.323Z"
   },
   {
    "duration": 39,
    "start_time": "2022-04-30T06:06:36.345Z"
   },
   {
    "duration": 209,
    "start_time": "2022-04-30T06:06:36.386Z"
   },
   {
    "duration": 189,
    "start_time": "2022-04-30T06:06:36.597Z"
   },
   {
    "duration": 199,
    "start_time": "2022-04-30T06:06:36.788Z"
   },
   {
    "duration": 22,
    "start_time": "2022-04-30T06:06:36.989Z"
   },
   {
    "duration": 5,
    "start_time": "2022-04-30T06:06:37.014Z"
   },
   {
    "duration": 900,
    "start_time": "2022-04-30T06:06:37.022Z"
   },
   {
    "duration": 7,
    "start_time": "2022-04-30T06:06:37.924Z"
   },
   {
    "duration": 705,
    "start_time": "2022-04-30T06:06:37.933Z"
   },
   {
    "duration": 6,
    "start_time": "2022-04-30T06:06:38.641Z"
   },
   {
    "duration": 1057,
    "start_time": "2022-04-30T06:06:38.650Z"
   },
   {
    "duration": 10,
    "start_time": "2022-04-30T06:06:39.710Z"
   },
   {
    "duration": 12,
    "start_time": "2022-04-30T06:06:39.722Z"
   },
   {
    "duration": 10,
    "start_time": "2022-04-30T06:06:39.736Z"
   },
   {
    "duration": 53,
    "start_time": "2022-04-30T06:06:39.748Z"
   },
   {
    "duration": 284,
    "start_time": "2022-04-30T06:06:39.804Z"
   },
   {
    "duration": 35,
    "start_time": "2022-04-30T06:06:40.092Z"
   },
   {
    "duration": 307,
    "start_time": "2022-04-30T06:06:40.130Z"
   },
   {
    "duration": 44,
    "start_time": "2022-04-30T06:06:40.440Z"
   },
   {
    "duration": 298,
    "start_time": "2022-04-30T06:06:40.486Z"
   },
   {
    "duration": 28,
    "start_time": "2022-04-30T06:06:40.787Z"
   },
   {
    "duration": 20,
    "start_time": "2022-04-30T06:06:40.817Z"
   },
   {
    "duration": 10,
    "start_time": "2022-04-30T06:06:40.839Z"
   },
   {
    "duration": 7,
    "start_time": "2022-04-30T06:06:40.882Z"
   },
   {
    "duration": 19,
    "start_time": "2022-04-30T06:06:40.892Z"
   },
   {
    "duration": 32,
    "start_time": "2022-04-30T06:06:52.603Z"
   },
   {
    "duration": 7,
    "start_time": "2022-04-30T06:07:17.352Z"
   }
  ],
  "kernelspec": {
   "display_name": "Python 3 (ipykernel)",
   "language": "python",
   "name": "python3"
  },
  "language_info": {
   "codemirror_mode": {
    "name": "ipython",
    "version": 3
   },
   "file_extension": ".py",
   "mimetype": "text/x-python",
   "name": "python",
   "nbconvert_exporter": "python",
   "pygments_lexer": "ipython3",
   "version": "3.9.7"
  },
  "toc": {
   "base_numbering": 1,
   "nav_menu": {},
   "number_sections": true,
   "sideBar": true,
   "skip_h1_title": false,
   "title_cell": "Table of Contents",
   "title_sidebar": "Contents",
   "toc_cell": false,
   "toc_position": {},
   "toc_section_display": true,
   "toc_window_display": true
  }
 },
 "nbformat": 4,
 "nbformat_minor": 5
}
