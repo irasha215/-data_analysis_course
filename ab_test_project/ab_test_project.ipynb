{
 "cells": [
  {
   "cell_type": "markdown",
   "metadata": {
    "toc": true
   },
   "source": [
    "<h1>Содержание<span class=\"tocSkip\"></span></h1>\n",
    "<div class=\"toc\"><ul class=\"toc-item\"><li><span><a href=\"#Рассмотрение-и-приоритизация-гипотез\" data-toc-modified-id=\"Рассмотрение-и-приоритизация-гипотез-1\"><span class=\"toc-item-num\">1&nbsp;&nbsp;</span>Рассмотрение и приоритизация гипотез</a></span><ul class=\"toc-item\"><li><span><a href=\"#Применение-фреймворка-ICE\" data-toc-modified-id=\"Применение-фреймворка-ICE-1.1\"><span class=\"toc-item-num\">1.1&nbsp;&nbsp;</span>Применение фреймворка ICE</a></span></li><li><span><a href=\"#Применение-фреймворка-RICE\" data-toc-modified-id=\"Применение-фреймворка-RICE-1.2\"><span class=\"toc-item-num\">1.2&nbsp;&nbsp;</span>Применение фреймворка RICE</a></span></li></ul></li><li><span><a href=\"#Часть-2.-Анализ-A/B-теста\" data-toc-modified-id=\"Часть-2.-Анализ-A/B-теста-2\"><span class=\"toc-item-num\">2&nbsp;&nbsp;</span>Часть 2. Анализ A/B-теста</a></span><ul class=\"toc-item\"><li><span><a href=\"#Предобработка-данных\" data-toc-modified-id=\"Предобработка-данных-2.1\"><span class=\"toc-item-num\">2.1&nbsp;&nbsp;</span>Предобработка данных</a></span><ul class=\"toc-item\"><li><span><a href=\"#Orders\" data-toc-modified-id=\"Orders-2.1.1\"><span class=\"toc-item-num\">2.1.1&nbsp;&nbsp;</span>Orders</a></span></li><li><span><a href=\"#Visitors\" data-toc-modified-id=\"Visitors-2.1.2\"><span class=\"toc-item-num\">2.1.2&nbsp;&nbsp;</span>Visitors</a></span></li></ul></li><li><span><a href=\"#График-кумулятивной-выручки-по-группам\" data-toc-modified-id=\"График-кумулятивной-выручки-по-группам-2.2\"><span class=\"toc-item-num\">2.2&nbsp;&nbsp;</span>График кумулятивной выручки по группам</a></span></li><li><span><a href=\"#График-кумулятивного-среднего-чека-по-группам\" data-toc-modified-id=\"График-кумулятивного-среднего-чека-по-группам-2.3\"><span class=\"toc-item-num\">2.3&nbsp;&nbsp;</span>График кумулятивного среднего чека по группам</a></span></li><li><span><a href=\"#Относительное-изменение-кумулятивного-среднего-чека-группы-В-к-группе-А\" data-toc-modified-id=\"Относительное-изменение-кумулятивного-среднего-чека-группы-В-к-группе-А-2.4\"><span class=\"toc-item-num\">2.4&nbsp;&nbsp;</span>Относительное изменение кумулятивного среднего чека группы В к группе А</a></span></li><li><span><a href=\"#Кумулятивная-конверсия-по-группам\" data-toc-modified-id=\"Кумулятивная-конверсия-по-группам-2.5\"><span class=\"toc-item-num\">2.5&nbsp;&nbsp;</span>Кумулятивная конверсия по группам</a></span></li><li><span><a href=\"#Относительное-изменение-кумулятивной-конверсии-группы-В-к-группе-А\" data-toc-modified-id=\"Относительное-изменение-кумулятивной-конверсии-группы-В-к-группе-А-2.6\"><span class=\"toc-item-num\">2.6&nbsp;&nbsp;</span>Относительное изменение кумулятивной конверсии группы В к группе А</a></span></li><li><span><a href=\"#Анализ-аномалий\" data-toc-modified-id=\"Анализ-аномалий-2.7\"><span class=\"toc-item-num\">2.7&nbsp;&nbsp;</span>Анализ аномалий</a></span><ul class=\"toc-item\"><li><span><a href=\"#Количество-заказов\" data-toc-modified-id=\"Количество-заказов-2.7.1\"><span class=\"toc-item-num\">2.7.1&nbsp;&nbsp;</span>Количество заказов</a></span></li><li><span><a href=\"#Стоимость-заказов\" data-toc-modified-id=\"Стоимость-заказов-2.7.2\"><span class=\"toc-item-num\">2.7.2&nbsp;&nbsp;</span>Стоимость заказов</a></span></li></ul></li><li><span><a href=\"#Статистическая-значимость-различий-в-конверсии-между-группами-по-&quot;сырым&quot;-данным\" data-toc-modified-id=\"Статистическая-значимость-различий-в-конверсии-между-группами-по-&quot;сырым&quot;-данным-2.8\"><span class=\"toc-item-num\">2.8&nbsp;&nbsp;</span>Статистическая значимость различий в конверсии между группами по \"сырым\" данным</a></span></li><li><span><a href=\"#Статистическая-значимость-различий-в-среднем-чеке-заказа-между-группами-по-«сырым»-данным\" data-toc-modified-id=\"Статистическая-значимость-различий-в-среднем-чеке-заказа-между-группами-по-«сырым»-данным-2.9\"><span class=\"toc-item-num\">2.9&nbsp;&nbsp;</span>Статистическая значимость различий в среднем чеке заказа между группами по «сырым» данным</a></span></li><li><span><a href=\"#Статистическую-значимость-различий-в-конверсии-между-группами-по-«очищенным»-данным\" data-toc-modified-id=\"Статистическую-значимость-различий-в-конверсии-между-группами-по-«очищенным»-данным-2.10\"><span class=\"toc-item-num\">2.10&nbsp;&nbsp;</span>Статистическую значимость различий в конверсии между группами по «очищенным» данным</a></span></li><li><span><a href=\"#Статистическая-значимость-различий-в-среднем-чеке-заказа-между-группами-по-«очищенным»-данным\" data-toc-modified-id=\"Статистическая-значимость-различий-в-среднем-чеке-заказа-между-группами-по-«очищенным»-данным-2.11\"><span class=\"toc-item-num\">2.11&nbsp;&nbsp;</span>Статистическая значимость различий в среднем чеке заказа между группами по «очищенным» данным</a></span></li></ul></li><li><span><a href=\"#Вывод\" data-toc-modified-id=\"Вывод-3\"><span class=\"toc-item-num\">3&nbsp;&nbsp;</span>Вывод</a></span></li></ul></div>"
   ]
  },
  {
   "cell_type": "markdown",
   "metadata": {},
   "source": [
    "# Проект"
   ]
  },
  {
   "cell_type": "markdown",
   "metadata": {},
   "source": [
    "## Рассмотрение и приоритизация гипотез"
   ]
  },
  {
   "cell_type": "code",
   "execution_count": 77,
   "metadata": {},
   "outputs": [],
   "source": [
    "import pandas as pd\n",
    "import matplotlib.pyplot as plt\n",
    "import numpy as np\n",
    "import matplotlib.pyplot as plt\n",
    "import scipy.stats as stats\n",
    "\n"
   ]
  },
  {
   "cell_type": "code",
   "execution_count": 78,
   "metadata": {
    "scrolled": false
   },
   "outputs": [],
   "source": [
    "try:\n",
    "    hypothesis = pd.read_csv('/datasets/hypothesis.csv')\n",
    "\n",
    "except:\n",
    "    hypothesis = pd.read_csv('/Users/irinasaahmetova/Downloads/hypothesis.csv')\n"
   ]
  },
  {
   "cell_type": "code",
   "execution_count": 79,
   "metadata": {},
   "outputs": [
    {
     "data": {
      "text/html": [
       "<div>\n",
       "<style scoped>\n",
       "    .dataframe tbody tr th:only-of-type {\n",
       "        vertical-align: middle;\n",
       "    }\n",
       "\n",
       "    .dataframe tbody tr th {\n",
       "        vertical-align: top;\n",
       "    }\n",
       "\n",
       "    .dataframe thead th {\n",
       "        text-align: right;\n",
       "    }\n",
       "</style>\n",
       "<table border=\"1\" class=\"dataframe\">\n",
       "  <thead>\n",
       "    <tr style=\"text-align: right;\">\n",
       "      <th></th>\n",
       "      <th>Hypothesis</th>\n",
       "      <th>Reach</th>\n",
       "      <th>Impact</th>\n",
       "      <th>Confidence</th>\n",
       "      <th>Efforts</th>\n",
       "    </tr>\n",
       "  </thead>\n",
       "  <tbody>\n",
       "    <tr>\n",
       "      <th>0</th>\n",
       "      <td>Добавить два новых канала привлечения трафика, что позволит привлекать на 30% больше пользователей</td>\n",
       "      <td>3</td>\n",
       "      <td>10</td>\n",
       "      <td>8</td>\n",
       "      <td>6</td>\n",
       "    </tr>\n",
       "    <tr>\n",
       "      <th>1</th>\n",
       "      <td>Запустить собственную службу доставки, что сократит срок доставки заказов</td>\n",
       "      <td>2</td>\n",
       "      <td>5</td>\n",
       "      <td>4</td>\n",
       "      <td>10</td>\n",
       "    </tr>\n",
       "    <tr>\n",
       "      <th>2</th>\n",
       "      <td>Добавить блоки рекомендаций товаров на сайт интернет магазина, чтобы повысить конверсию и средний чек заказа</td>\n",
       "      <td>8</td>\n",
       "      <td>3</td>\n",
       "      <td>7</td>\n",
       "      <td>3</td>\n",
       "    </tr>\n",
       "    <tr>\n",
       "      <th>3</th>\n",
       "      <td>Изменить структура категорий, что увеличит конверсию, т.к. пользователи быстрее найдут нужный товар</td>\n",
       "      <td>8</td>\n",
       "      <td>3</td>\n",
       "      <td>3</td>\n",
       "      <td>8</td>\n",
       "    </tr>\n",
       "    <tr>\n",
       "      <th>4</th>\n",
       "      <td>Изменить цвет фона главной страницы, чтобы увеличить вовлеченность пользователей</td>\n",
       "      <td>3</td>\n",
       "      <td>1</td>\n",
       "      <td>1</td>\n",
       "      <td>1</td>\n",
       "    </tr>\n",
       "    <tr>\n",
       "      <th>5</th>\n",
       "      <td>Добавить страницу отзывов клиентов о магазине, что позволит увеличить количество заказов</td>\n",
       "      <td>3</td>\n",
       "      <td>2</td>\n",
       "      <td>2</td>\n",
       "      <td>3</td>\n",
       "    </tr>\n",
       "    <tr>\n",
       "      <th>6</th>\n",
       "      <td>Показать на главной странице баннеры с актуальными акциями и распродажами, чтобы увеличить конверсию</td>\n",
       "      <td>5</td>\n",
       "      <td>3</td>\n",
       "      <td>8</td>\n",
       "      <td>3</td>\n",
       "    </tr>\n",
       "    <tr>\n",
       "      <th>7</th>\n",
       "      <td>Добавить форму подписки на все основные страницы, чтобы собрать базу клиентов для email-рассылок</td>\n",
       "      <td>10</td>\n",
       "      <td>7</td>\n",
       "      <td>8</td>\n",
       "      <td>5</td>\n",
       "    </tr>\n",
       "    <tr>\n",
       "      <th>8</th>\n",
       "      <td>Запустить акцию, дающую скидку на товар в день рождения</td>\n",
       "      <td>1</td>\n",
       "      <td>9</td>\n",
       "      <td>9</td>\n",
       "      <td>5</td>\n",
       "    </tr>\n",
       "  </tbody>\n",
       "</table>\n",
       "</div>"
      ],
      "text/plain": [
       "                                                                                                     Hypothesis  \\\n",
       "0            Добавить два новых канала привлечения трафика, что позволит привлекать на 30% больше пользователей   \n",
       "1                                     Запустить собственную службу доставки, что сократит срок доставки заказов   \n",
       "2  Добавить блоки рекомендаций товаров на сайт интернет магазина, чтобы повысить конверсию и средний чек заказа   \n",
       "3           Изменить структура категорий, что увеличит конверсию, т.к. пользователи быстрее найдут нужный товар   \n",
       "4                              Изменить цвет фона главной страницы, чтобы увеличить вовлеченность пользователей   \n",
       "5                      Добавить страницу отзывов клиентов о магазине, что позволит увеличить количество заказов   \n",
       "6          Показать на главной странице баннеры с актуальными акциями и распродажами, чтобы увеличить конверсию   \n",
       "7              Добавить форму подписки на все основные страницы, чтобы собрать базу клиентов для email-рассылок   \n",
       "8                                                       Запустить акцию, дающую скидку на товар в день рождения   \n",
       "\n",
       "   Reach  Impact  Confidence  Efforts  \n",
       "0      3      10           8        6  \n",
       "1      2       5           4       10  \n",
       "2      8       3           7        3  \n",
       "3      8       3           3        8  \n",
       "4      3       1           1        1  \n",
       "5      3       2           2        3  \n",
       "6      5       3           8        3  \n",
       "7     10       7           8        5  \n",
       "8      1       9           9        5  "
      ]
     },
     "execution_count": 79,
     "metadata": {},
     "output_type": "execute_result"
    }
   ],
   "source": [
    "pd.set_option('display.max_columns', None)\n",
    "pd.options.display.max_colwidth = 150 \n",
    "\n",
    "hypothesis"
   ]
  },
  {
   "cell_type": "code",
   "execution_count": 80,
   "metadata": {},
   "outputs": [
    {
     "data": {
      "text/html": [
       "<div>\n",
       "<style scoped>\n",
       "    .dataframe tbody tr th:only-of-type {\n",
       "        vertical-align: middle;\n",
       "    }\n",
       "\n",
       "    .dataframe tbody tr th {\n",
       "        vertical-align: top;\n",
       "    }\n",
       "\n",
       "    .dataframe thead th {\n",
       "        text-align: right;\n",
       "    }\n",
       "</style>\n",
       "<table border=\"1\" class=\"dataframe\">\n",
       "  <thead>\n",
       "    <tr style=\"text-align: right;\">\n",
       "      <th></th>\n",
       "      <th>Hypothesis</th>\n",
       "      <th>Reach</th>\n",
       "      <th>Impact</th>\n",
       "      <th>Confidence</th>\n",
       "      <th>Efforts</th>\n",
       "    </tr>\n",
       "  </thead>\n",
       "  <tbody>\n",
       "    <tr>\n",
       "      <th>0</th>\n",
       "      <td>Добавить два новых канала привлечения трафика, что позволит привлекать на 30% больше пользователей</td>\n",
       "      <td>3</td>\n",
       "      <td>10</td>\n",
       "      <td>8</td>\n",
       "      <td>6</td>\n",
       "    </tr>\n",
       "    <tr>\n",
       "      <th>1</th>\n",
       "      <td>Запустить собственную службу доставки, что сократит срок доставки заказов</td>\n",
       "      <td>2</td>\n",
       "      <td>5</td>\n",
       "      <td>4</td>\n",
       "      <td>10</td>\n",
       "    </tr>\n",
       "    <tr>\n",
       "      <th>2</th>\n",
       "      <td>Добавить блоки рекомендаций товаров на сайт интернет магазина, чтобы повысить конверсию и средний чек заказа</td>\n",
       "      <td>8</td>\n",
       "      <td>3</td>\n",
       "      <td>7</td>\n",
       "      <td>3</td>\n",
       "    </tr>\n",
       "    <tr>\n",
       "      <th>3</th>\n",
       "      <td>Изменить структура категорий, что увеличит конверсию, т.к. пользователи быстрее найдут нужный товар</td>\n",
       "      <td>8</td>\n",
       "      <td>3</td>\n",
       "      <td>3</td>\n",
       "      <td>8</td>\n",
       "    </tr>\n",
       "    <tr>\n",
       "      <th>4</th>\n",
       "      <td>Изменить цвет фона главной страницы, чтобы увеличить вовлеченность пользователей</td>\n",
       "      <td>3</td>\n",
       "      <td>1</td>\n",
       "      <td>1</td>\n",
       "      <td>1</td>\n",
       "    </tr>\n",
       "    <tr>\n",
       "      <th>5</th>\n",
       "      <td>Добавить страницу отзывов клиентов о магазине, что позволит увеличить количество заказов</td>\n",
       "      <td>3</td>\n",
       "      <td>2</td>\n",
       "      <td>2</td>\n",
       "      <td>3</td>\n",
       "    </tr>\n",
       "    <tr>\n",
       "      <th>6</th>\n",
       "      <td>Показать на главной странице баннеры с актуальными акциями и распродажами, чтобы увеличить конверсию</td>\n",
       "      <td>5</td>\n",
       "      <td>3</td>\n",
       "      <td>8</td>\n",
       "      <td>3</td>\n",
       "    </tr>\n",
       "    <tr>\n",
       "      <th>7</th>\n",
       "      <td>Добавить форму подписки на все основные страницы, чтобы собрать базу клиентов для email-рассылок</td>\n",
       "      <td>10</td>\n",
       "      <td>7</td>\n",
       "      <td>8</td>\n",
       "      <td>5</td>\n",
       "    </tr>\n",
       "    <tr>\n",
       "      <th>8</th>\n",
       "      <td>Запустить акцию, дающую скидку на товар в день рождения</td>\n",
       "      <td>1</td>\n",
       "      <td>9</td>\n",
       "      <td>9</td>\n",
       "      <td>5</td>\n",
       "    </tr>\n",
       "  </tbody>\n",
       "</table>\n",
       "</div>"
      ],
      "text/plain": [
       "                                                                                                     Hypothesis  \\\n",
       "0            Добавить два новых канала привлечения трафика, что позволит привлекать на 30% больше пользователей   \n",
       "1                                     Запустить собственную службу доставки, что сократит срок доставки заказов   \n",
       "2  Добавить блоки рекомендаций товаров на сайт интернет магазина, чтобы повысить конверсию и средний чек заказа   \n",
       "3           Изменить структура категорий, что увеличит конверсию, т.к. пользователи быстрее найдут нужный товар   \n",
       "4                              Изменить цвет фона главной страницы, чтобы увеличить вовлеченность пользователей   \n",
       "5                      Добавить страницу отзывов клиентов о магазине, что позволит увеличить количество заказов   \n",
       "6          Показать на главной странице баннеры с актуальными акциями и распродажами, чтобы увеличить конверсию   \n",
       "7              Добавить форму подписки на все основные страницы, чтобы собрать базу клиентов для email-рассылок   \n",
       "8                                                       Запустить акцию, дающую скидку на товар в день рождения   \n",
       "\n",
       "   Reach  Impact  Confidence  Efforts  \n",
       "0      3      10           8        6  \n",
       "1      2       5           4       10  \n",
       "2      8       3           7        3  \n",
       "3      8       3           3        8  \n",
       "4      3       1           1        1  \n",
       "5      3       2           2        3  \n",
       "6      5       3           8        3  \n",
       "7     10       7           8        5  \n",
       "8      1       9           9        5  "
      ]
     },
     "execution_count": 80,
     "metadata": {},
     "output_type": "execute_result"
    }
   ],
   "source": [
    "pd.set_option('display.max_columns', None)\n",
    "pd.options.display.max_colwidth = 150\n",
    "hypothesis"
   ]
  },
  {
   "cell_type": "code",
   "execution_count": 81,
   "metadata": {},
   "outputs": [],
   "source": [
    "# Преобразуем заголовки столбцов в строчные символы\n",
    "hypothesis.columns = hypothesis.columns.str.lower()\n"
   ]
  },
  {
   "cell_type": "markdown",
   "metadata": {},
   "source": [
    "### Применение фреймворка ICE"
   ]
  },
  {
   "cell_type": "markdown",
   "metadata": {},
   "source": [
    "Посчитаем ICE для гипотез"
   ]
  },
  {
   "cell_type": "code",
   "execution_count": 82,
   "metadata": {},
   "outputs": [
    {
     "data": {
      "text/html": [
       "<style type=\"text/css\">\n",
       "</style>\n",
       "<table id=\"T_65a25_\">\n",
       "  <thead>\n",
       "    <tr>\n",
       "      <th class=\"blank level0\" >&nbsp;</th>\n",
       "      <th class=\"col_heading level0 col0\" >hypothesis</th>\n",
       "      <th class=\"col_heading level0 col1\" >reach</th>\n",
       "      <th class=\"col_heading level0 col2\" >impact</th>\n",
       "      <th class=\"col_heading level0 col3\" >confidence</th>\n",
       "      <th class=\"col_heading level0 col4\" >efforts</th>\n",
       "      <th class=\"col_heading level0 col5\" >ICE</th>\n",
       "    </tr>\n",
       "  </thead>\n",
       "  <tbody>\n",
       "    <tr>\n",
       "      <th id=\"T_65a25_level0_row0\" class=\"row_heading level0 row0\" >8</th>\n",
       "      <td id=\"T_65a25_row0_col0\" class=\"data row0 col0\" >Запустить акцию, дающую скидку на товар в день рождения</td>\n",
       "      <td id=\"T_65a25_row0_col1\" class=\"data row0 col1\" >1</td>\n",
       "      <td id=\"T_65a25_row0_col2\" class=\"data row0 col2\" >9</td>\n",
       "      <td id=\"T_65a25_row0_col3\" class=\"data row0 col3\" >9</td>\n",
       "      <td id=\"T_65a25_row0_col4\" class=\"data row0 col4\" >5</td>\n",
       "      <td id=\"T_65a25_row0_col5\" class=\"data row0 col5\" >16.20</td>\n",
       "    </tr>\n",
       "    <tr>\n",
       "      <th id=\"T_65a25_level0_row1\" class=\"row_heading level0 row1\" >0</th>\n",
       "      <td id=\"T_65a25_row1_col0\" class=\"data row1 col0\" >Добавить два новых канала привлечения трафика, что позволит привлекать на 30% больше пользователей</td>\n",
       "      <td id=\"T_65a25_row1_col1\" class=\"data row1 col1\" >3</td>\n",
       "      <td id=\"T_65a25_row1_col2\" class=\"data row1 col2\" >10</td>\n",
       "      <td id=\"T_65a25_row1_col3\" class=\"data row1 col3\" >8</td>\n",
       "      <td id=\"T_65a25_row1_col4\" class=\"data row1 col4\" >6</td>\n",
       "      <td id=\"T_65a25_row1_col5\" class=\"data row1 col5\" >13.33</td>\n",
       "    </tr>\n",
       "    <tr>\n",
       "      <th id=\"T_65a25_level0_row2\" class=\"row_heading level0 row2\" >7</th>\n",
       "      <td id=\"T_65a25_row2_col0\" class=\"data row2 col0\" >Добавить форму подписки на все основные страницы, чтобы собрать базу клиентов для email-рассылок</td>\n",
       "      <td id=\"T_65a25_row2_col1\" class=\"data row2 col1\" >10</td>\n",
       "      <td id=\"T_65a25_row2_col2\" class=\"data row2 col2\" >7</td>\n",
       "      <td id=\"T_65a25_row2_col3\" class=\"data row2 col3\" >8</td>\n",
       "      <td id=\"T_65a25_row2_col4\" class=\"data row2 col4\" >5</td>\n",
       "      <td id=\"T_65a25_row2_col5\" class=\"data row2 col5\" >11.20</td>\n",
       "    </tr>\n",
       "    <tr>\n",
       "      <th id=\"T_65a25_level0_row3\" class=\"row_heading level0 row3\" >6</th>\n",
       "      <td id=\"T_65a25_row3_col0\" class=\"data row3 col0\" >Показать на главной странице баннеры с актуальными акциями и распродажами, чтобы увеличить конверсию</td>\n",
       "      <td id=\"T_65a25_row3_col1\" class=\"data row3 col1\" >5</td>\n",
       "      <td id=\"T_65a25_row3_col2\" class=\"data row3 col2\" >3</td>\n",
       "      <td id=\"T_65a25_row3_col3\" class=\"data row3 col3\" >8</td>\n",
       "      <td id=\"T_65a25_row3_col4\" class=\"data row3 col4\" >3</td>\n",
       "      <td id=\"T_65a25_row3_col5\" class=\"data row3 col5\" >8.00</td>\n",
       "    </tr>\n",
       "    <tr>\n",
       "      <th id=\"T_65a25_level0_row4\" class=\"row_heading level0 row4\" >2</th>\n",
       "      <td id=\"T_65a25_row4_col0\" class=\"data row4 col0\" >Добавить блоки рекомендаций товаров на сайт интернет магазина, чтобы повысить конверсию и средний чек заказа</td>\n",
       "      <td id=\"T_65a25_row4_col1\" class=\"data row4 col1\" >8</td>\n",
       "      <td id=\"T_65a25_row4_col2\" class=\"data row4 col2\" >3</td>\n",
       "      <td id=\"T_65a25_row4_col3\" class=\"data row4 col3\" >7</td>\n",
       "      <td id=\"T_65a25_row4_col4\" class=\"data row4 col4\" >3</td>\n",
       "      <td id=\"T_65a25_row4_col5\" class=\"data row4 col5\" >7.00</td>\n",
       "    </tr>\n",
       "    <tr>\n",
       "      <th id=\"T_65a25_level0_row5\" class=\"row_heading level0 row5\" >1</th>\n",
       "      <td id=\"T_65a25_row5_col0\" class=\"data row5 col0\" >Запустить собственную службу доставки, что сократит срок доставки заказов</td>\n",
       "      <td id=\"T_65a25_row5_col1\" class=\"data row5 col1\" >2</td>\n",
       "      <td id=\"T_65a25_row5_col2\" class=\"data row5 col2\" >5</td>\n",
       "      <td id=\"T_65a25_row5_col3\" class=\"data row5 col3\" >4</td>\n",
       "      <td id=\"T_65a25_row5_col4\" class=\"data row5 col4\" >10</td>\n",
       "      <td id=\"T_65a25_row5_col5\" class=\"data row5 col5\" >2.00</td>\n",
       "    </tr>\n",
       "    <tr>\n",
       "      <th id=\"T_65a25_level0_row6\" class=\"row_heading level0 row6\" >5</th>\n",
       "      <td id=\"T_65a25_row6_col0\" class=\"data row6 col0\" >Добавить страницу отзывов клиентов о магазине, что позволит увеличить количество заказов</td>\n",
       "      <td id=\"T_65a25_row6_col1\" class=\"data row6 col1\" >3</td>\n",
       "      <td id=\"T_65a25_row6_col2\" class=\"data row6 col2\" >2</td>\n",
       "      <td id=\"T_65a25_row6_col3\" class=\"data row6 col3\" >2</td>\n",
       "      <td id=\"T_65a25_row6_col4\" class=\"data row6 col4\" >3</td>\n",
       "      <td id=\"T_65a25_row6_col5\" class=\"data row6 col5\" >1.33</td>\n",
       "    </tr>\n",
       "    <tr>\n",
       "      <th id=\"T_65a25_level0_row7\" class=\"row_heading level0 row7\" >3</th>\n",
       "      <td id=\"T_65a25_row7_col0\" class=\"data row7 col0\" >Изменить структура категорий, что увеличит конверсию, т.к. пользователи быстрее найдут нужный товар</td>\n",
       "      <td id=\"T_65a25_row7_col1\" class=\"data row7 col1\" >8</td>\n",
       "      <td id=\"T_65a25_row7_col2\" class=\"data row7 col2\" >3</td>\n",
       "      <td id=\"T_65a25_row7_col3\" class=\"data row7 col3\" >3</td>\n",
       "      <td id=\"T_65a25_row7_col4\" class=\"data row7 col4\" >8</td>\n",
       "      <td id=\"T_65a25_row7_col5\" class=\"data row7 col5\" >1.12</td>\n",
       "    </tr>\n",
       "    <tr>\n",
       "      <th id=\"T_65a25_level0_row8\" class=\"row_heading level0 row8\" >4</th>\n",
       "      <td id=\"T_65a25_row8_col0\" class=\"data row8 col0\" >Изменить цвет фона главной страницы, чтобы увеличить вовлеченность пользователей</td>\n",
       "      <td id=\"T_65a25_row8_col1\" class=\"data row8 col1\" >3</td>\n",
       "      <td id=\"T_65a25_row8_col2\" class=\"data row8 col2\" >1</td>\n",
       "      <td id=\"T_65a25_row8_col3\" class=\"data row8 col3\" >1</td>\n",
       "      <td id=\"T_65a25_row8_col4\" class=\"data row8 col4\" >1</td>\n",
       "      <td id=\"T_65a25_row8_col5\" class=\"data row8 col5\" >1.00</td>\n",
       "    </tr>\n",
       "  </tbody>\n",
       "</table>\n"
      ],
      "text/plain": [
       "<pandas.io.formats.style.Styler at 0x122879ac0>"
      ]
     },
     "execution_count": 82,
     "metadata": {},
     "output_type": "execute_result"
    }
   ],
   "source": [
    "hypothesis['ICE'] = hypothesis['impact'] * hypothesis['confidence'] / hypothesis['efforts']\n",
    "hypothesis.sort_values(by='ICE', ascending = False).style.format({'ICE' : '{:.2f}'})\n"
   ]
  },
  {
   "cell_type": "markdown",
   "metadata": {},
   "source": [
    "Пока что наиболее перспективными оказались гипотезы с индексами 8, 0, 7 и 6."
   ]
  },
  {
   "cell_type": "markdown",
   "metadata": {},
   "source": [
    "### Применение фреймворка RICE"
   ]
  },
  {
   "cell_type": "code",
   "execution_count": 83,
   "metadata": {},
   "outputs": [
    {
     "data": {
      "text/html": [
       "<style type=\"text/css\">\n",
       "</style>\n",
       "<table id=\"T_36fbf_\">\n",
       "  <thead>\n",
       "    <tr>\n",
       "      <th class=\"blank level0\" >&nbsp;</th>\n",
       "      <th class=\"col_heading level0 col0\" >hypothesis</th>\n",
       "      <th class=\"col_heading level0 col1\" >reach</th>\n",
       "      <th class=\"col_heading level0 col2\" >impact</th>\n",
       "      <th class=\"col_heading level0 col3\" >confidence</th>\n",
       "      <th class=\"col_heading level0 col4\" >efforts</th>\n",
       "      <th class=\"col_heading level0 col5\" >ICE</th>\n",
       "      <th class=\"col_heading level0 col6\" >RICE</th>\n",
       "    </tr>\n",
       "  </thead>\n",
       "  <tbody>\n",
       "    <tr>\n",
       "      <th id=\"T_36fbf_level0_row0\" class=\"row_heading level0 row0\" >7</th>\n",
       "      <td id=\"T_36fbf_row0_col0\" class=\"data row0 col0\" >Добавить форму подписки на все основные страницы, чтобы собрать базу клиентов для email-рассылок</td>\n",
       "      <td id=\"T_36fbf_row0_col1\" class=\"data row0 col1\" >10</td>\n",
       "      <td id=\"T_36fbf_row0_col2\" class=\"data row0 col2\" >7</td>\n",
       "      <td id=\"T_36fbf_row0_col3\" class=\"data row0 col3\" >8</td>\n",
       "      <td id=\"T_36fbf_row0_col4\" class=\"data row0 col4\" >5</td>\n",
       "      <td id=\"T_36fbf_row0_col5\" class=\"data row0 col5\" >11.20</td>\n",
       "      <td id=\"T_36fbf_row0_col6\" class=\"data row0 col6\" >112</td>\n",
       "    </tr>\n",
       "    <tr>\n",
       "      <th id=\"T_36fbf_level0_row1\" class=\"row_heading level0 row1\" >2</th>\n",
       "      <td id=\"T_36fbf_row1_col0\" class=\"data row1 col0\" >Добавить блоки рекомендаций товаров на сайт интернет магазина, чтобы повысить конверсию и средний чек заказа</td>\n",
       "      <td id=\"T_36fbf_row1_col1\" class=\"data row1 col1\" >8</td>\n",
       "      <td id=\"T_36fbf_row1_col2\" class=\"data row1 col2\" >3</td>\n",
       "      <td id=\"T_36fbf_row1_col3\" class=\"data row1 col3\" >7</td>\n",
       "      <td id=\"T_36fbf_row1_col4\" class=\"data row1 col4\" >3</td>\n",
       "      <td id=\"T_36fbf_row1_col5\" class=\"data row1 col5\" >7.00</td>\n",
       "      <td id=\"T_36fbf_row1_col6\" class=\"data row1 col6\" >56</td>\n",
       "    </tr>\n",
       "    <tr>\n",
       "      <th id=\"T_36fbf_level0_row2\" class=\"row_heading level0 row2\" >0</th>\n",
       "      <td id=\"T_36fbf_row2_col0\" class=\"data row2 col0\" >Добавить два новых канала привлечения трафика, что позволит привлекать на 30% больше пользователей</td>\n",
       "      <td id=\"T_36fbf_row2_col1\" class=\"data row2 col1\" >3</td>\n",
       "      <td id=\"T_36fbf_row2_col2\" class=\"data row2 col2\" >10</td>\n",
       "      <td id=\"T_36fbf_row2_col3\" class=\"data row2 col3\" >8</td>\n",
       "      <td id=\"T_36fbf_row2_col4\" class=\"data row2 col4\" >6</td>\n",
       "      <td id=\"T_36fbf_row2_col5\" class=\"data row2 col5\" >13.33</td>\n",
       "      <td id=\"T_36fbf_row2_col6\" class=\"data row2 col6\" >40</td>\n",
       "    </tr>\n",
       "    <tr>\n",
       "      <th id=\"T_36fbf_level0_row3\" class=\"row_heading level0 row3\" >6</th>\n",
       "      <td id=\"T_36fbf_row3_col0\" class=\"data row3 col0\" >Показать на главной странице баннеры с актуальными акциями и распродажами, чтобы увеличить конверсию</td>\n",
       "      <td id=\"T_36fbf_row3_col1\" class=\"data row3 col1\" >5</td>\n",
       "      <td id=\"T_36fbf_row3_col2\" class=\"data row3 col2\" >3</td>\n",
       "      <td id=\"T_36fbf_row3_col3\" class=\"data row3 col3\" >8</td>\n",
       "      <td id=\"T_36fbf_row3_col4\" class=\"data row3 col4\" >3</td>\n",
       "      <td id=\"T_36fbf_row3_col5\" class=\"data row3 col5\" >8.00</td>\n",
       "      <td id=\"T_36fbf_row3_col6\" class=\"data row3 col6\" >40</td>\n",
       "    </tr>\n",
       "    <tr>\n",
       "      <th id=\"T_36fbf_level0_row4\" class=\"row_heading level0 row4\" >8</th>\n",
       "      <td id=\"T_36fbf_row4_col0\" class=\"data row4 col0\" >Запустить акцию, дающую скидку на товар в день рождения</td>\n",
       "      <td id=\"T_36fbf_row4_col1\" class=\"data row4 col1\" >1</td>\n",
       "      <td id=\"T_36fbf_row4_col2\" class=\"data row4 col2\" >9</td>\n",
       "      <td id=\"T_36fbf_row4_col3\" class=\"data row4 col3\" >9</td>\n",
       "      <td id=\"T_36fbf_row4_col4\" class=\"data row4 col4\" >5</td>\n",
       "      <td id=\"T_36fbf_row4_col5\" class=\"data row4 col5\" >16.20</td>\n",
       "      <td id=\"T_36fbf_row4_col6\" class=\"data row4 col6\" >16</td>\n",
       "    </tr>\n",
       "    <tr>\n",
       "      <th id=\"T_36fbf_level0_row5\" class=\"row_heading level0 row5\" >3</th>\n",
       "      <td id=\"T_36fbf_row5_col0\" class=\"data row5 col0\" >Изменить структура категорий, что увеличит конверсию, т.к. пользователи быстрее найдут нужный товар</td>\n",
       "      <td id=\"T_36fbf_row5_col1\" class=\"data row5 col1\" >8</td>\n",
       "      <td id=\"T_36fbf_row5_col2\" class=\"data row5 col2\" >3</td>\n",
       "      <td id=\"T_36fbf_row5_col3\" class=\"data row5 col3\" >3</td>\n",
       "      <td id=\"T_36fbf_row5_col4\" class=\"data row5 col4\" >8</td>\n",
       "      <td id=\"T_36fbf_row5_col5\" class=\"data row5 col5\" >1.12</td>\n",
       "      <td id=\"T_36fbf_row5_col6\" class=\"data row5 col6\" >9</td>\n",
       "    </tr>\n",
       "    <tr>\n",
       "      <th id=\"T_36fbf_level0_row6\" class=\"row_heading level0 row6\" >1</th>\n",
       "      <td id=\"T_36fbf_row6_col0\" class=\"data row6 col0\" >Запустить собственную службу доставки, что сократит срок доставки заказов</td>\n",
       "      <td id=\"T_36fbf_row6_col1\" class=\"data row6 col1\" >2</td>\n",
       "      <td id=\"T_36fbf_row6_col2\" class=\"data row6 col2\" >5</td>\n",
       "      <td id=\"T_36fbf_row6_col3\" class=\"data row6 col3\" >4</td>\n",
       "      <td id=\"T_36fbf_row6_col4\" class=\"data row6 col4\" >10</td>\n",
       "      <td id=\"T_36fbf_row6_col5\" class=\"data row6 col5\" >2.00</td>\n",
       "      <td id=\"T_36fbf_row6_col6\" class=\"data row6 col6\" >4</td>\n",
       "    </tr>\n",
       "    <tr>\n",
       "      <th id=\"T_36fbf_level0_row7\" class=\"row_heading level0 row7\" >5</th>\n",
       "      <td id=\"T_36fbf_row7_col0\" class=\"data row7 col0\" >Добавить страницу отзывов клиентов о магазине, что позволит увеличить количество заказов</td>\n",
       "      <td id=\"T_36fbf_row7_col1\" class=\"data row7 col1\" >3</td>\n",
       "      <td id=\"T_36fbf_row7_col2\" class=\"data row7 col2\" >2</td>\n",
       "      <td id=\"T_36fbf_row7_col3\" class=\"data row7 col3\" >2</td>\n",
       "      <td id=\"T_36fbf_row7_col4\" class=\"data row7 col4\" >3</td>\n",
       "      <td id=\"T_36fbf_row7_col5\" class=\"data row7 col5\" >1.33</td>\n",
       "      <td id=\"T_36fbf_row7_col6\" class=\"data row7 col6\" >4</td>\n",
       "    </tr>\n",
       "    <tr>\n",
       "      <th id=\"T_36fbf_level0_row8\" class=\"row_heading level0 row8\" >4</th>\n",
       "      <td id=\"T_36fbf_row8_col0\" class=\"data row8 col0\" >Изменить цвет фона главной страницы, чтобы увеличить вовлеченность пользователей</td>\n",
       "      <td id=\"T_36fbf_row8_col1\" class=\"data row8 col1\" >3</td>\n",
       "      <td id=\"T_36fbf_row8_col2\" class=\"data row8 col2\" >1</td>\n",
       "      <td id=\"T_36fbf_row8_col3\" class=\"data row8 col3\" >1</td>\n",
       "      <td id=\"T_36fbf_row8_col4\" class=\"data row8 col4\" >1</td>\n",
       "      <td id=\"T_36fbf_row8_col5\" class=\"data row8 col5\" >1.00</td>\n",
       "      <td id=\"T_36fbf_row8_col6\" class=\"data row8 col6\" >3</td>\n",
       "    </tr>\n",
       "  </tbody>\n",
       "</table>\n"
      ],
      "text/plain": [
       "<pandas.io.formats.style.Styler at 0x122879850>"
      ]
     },
     "execution_count": 83,
     "metadata": {},
     "output_type": "execute_result"
    }
   ],
   "source": [
    "hypothesis['RICE'] = hypothesis['reach'] * hypothesis['impact'] * hypothesis['confidence'] / hypothesis['efforts']\n",
    "hypothesis.sort_values(by='RICE', ascending=False).style.format({'ICE' : '{:.2f}', 'RICE' : '{:.0f}'})\n"
   ]
  },
  {
   "cell_type": "markdown",
   "metadata": {},
   "source": [
    "Все еще наиболее перспективными оказались гипотезы с индексами 7, 0 и 6, однако на втором месте теперь гипотеза с индексом 2, так как параметр 'reach' у нее равен 8, то есть она затрагивает большее количество людей. Также у гипотезы под номером 7 этот параметр равен 10, следовательно, она затрагивает максимальное количество людей.  "
   ]
  },
  {
   "cell_type": "markdown",
   "metadata": {},
   "source": [
    "## Часть 2. Анализ A/B-теста"
   ]
  },
  {
   "cell_type": "markdown",
   "metadata": {},
   "source": [
    "### Предобработка данных"
   ]
  },
  {
   "cell_type": "code",
   "execution_count": 84,
   "metadata": {},
   "outputs": [],
   "source": [
    "try:\n",
    "    orders = pd.read_csv('/datasets/orders.csv')\n",
    "    visitors = pd.read_csv('/datasets/visitors.csv')\n",
    "except:\n",
    "    orders = pd.read_csv('/Users/irinasaahmetova/Downloads/orders.csv')\n",
    "    visitors = pd.read_csv('/Users/irinasaahmetova/Downloads/visitors.csv')"
   ]
  },
  {
   "cell_type": "markdown",
   "metadata": {},
   "source": [
    "#### Orders"
   ]
  },
  {
   "cell_type": "code",
   "execution_count": 85,
   "metadata": {},
   "outputs": [
    {
     "data": {
      "text/html": [
       "<div>\n",
       "<style scoped>\n",
       "    .dataframe tbody tr th:only-of-type {\n",
       "        vertical-align: middle;\n",
       "    }\n",
       "\n",
       "    .dataframe tbody tr th {\n",
       "        vertical-align: top;\n",
       "    }\n",
       "\n",
       "    .dataframe thead th {\n",
       "        text-align: right;\n",
       "    }\n",
       "</style>\n",
       "<table border=\"1\" class=\"dataframe\">\n",
       "  <thead>\n",
       "    <tr style=\"text-align: right;\">\n",
       "      <th></th>\n",
       "      <th>transactionId</th>\n",
       "      <th>visitorId</th>\n",
       "      <th>date</th>\n",
       "      <th>revenue</th>\n",
       "      <th>group</th>\n",
       "    </tr>\n",
       "  </thead>\n",
       "  <tbody>\n",
       "    <tr>\n",
       "      <th>0</th>\n",
       "      <td>3667963787</td>\n",
       "      <td>3312258926</td>\n",
       "      <td>2019-08-15</td>\n",
       "      <td>1650</td>\n",
       "      <td>B</td>\n",
       "    </tr>\n",
       "    <tr>\n",
       "      <th>1</th>\n",
       "      <td>2804400009</td>\n",
       "      <td>3642806036</td>\n",
       "      <td>2019-08-15</td>\n",
       "      <td>730</td>\n",
       "      <td>B</td>\n",
       "    </tr>\n",
       "    <tr>\n",
       "      <th>2</th>\n",
       "      <td>2961555356</td>\n",
       "      <td>4069496402</td>\n",
       "      <td>2019-08-15</td>\n",
       "      <td>400</td>\n",
       "      <td>A</td>\n",
       "    </tr>\n",
       "    <tr>\n",
       "      <th>3</th>\n",
       "      <td>3797467345</td>\n",
       "      <td>1196621759</td>\n",
       "      <td>2019-08-15</td>\n",
       "      <td>9759</td>\n",
       "      <td>B</td>\n",
       "    </tr>\n",
       "    <tr>\n",
       "      <th>4</th>\n",
       "      <td>2282983706</td>\n",
       "      <td>2322279887</td>\n",
       "      <td>2019-08-15</td>\n",
       "      <td>2308</td>\n",
       "      <td>B</td>\n",
       "    </tr>\n",
       "  </tbody>\n",
       "</table>\n",
       "</div>"
      ],
      "text/plain": [
       "   transactionId   visitorId        date  revenue group\n",
       "0     3667963787  3312258926  2019-08-15     1650     B\n",
       "1     2804400009  3642806036  2019-08-15      730     B\n",
       "2     2961555356  4069496402  2019-08-15      400     A\n",
       "3     3797467345  1196621759  2019-08-15     9759     B\n",
       "4     2282983706  2322279887  2019-08-15     2308     B"
      ]
     },
     "execution_count": 85,
     "metadata": {},
     "output_type": "execute_result"
    }
   ],
   "source": [
    "orders.head()"
   ]
  },
  {
   "cell_type": "code",
   "execution_count": 86,
   "metadata": {},
   "outputs": [
    {
     "name": "stdout",
     "output_type": "stream",
     "text": [
      "<class 'pandas.core.frame.DataFrame'>\n",
      "RangeIndex: 1197 entries, 0 to 1196\n",
      "Data columns (total 5 columns):\n",
      " #   Column         Non-Null Count  Dtype \n",
      "---  ------         --------------  ----- \n",
      " 0   transactionId  1197 non-null   int64 \n",
      " 1   visitorId      1197 non-null   int64 \n",
      " 2   date           1197 non-null   object\n",
      " 3   revenue        1197 non-null   int64 \n",
      " 4   group          1197 non-null   object\n",
      "dtypes: int64(3), object(2)\n",
      "memory usage: 46.9+ KB\n"
     ]
    }
   ],
   "source": [
    "orders.info()"
   ]
  },
  {
   "cell_type": "code",
   "execution_count": 87,
   "metadata": {},
   "outputs": [
    {
     "data": {
      "text/plain": [
       "0"
      ]
     },
     "execution_count": 87,
     "metadata": {},
     "output_type": "execute_result"
    }
   ],
   "source": [
    "orders.duplicated().sum()"
   ]
  },
  {
   "cell_type": "markdown",
   "metadata": {},
   "source": [
    "Пропусков и дубликатов в данных нет."
   ]
  },
  {
   "cell_type": "code",
   "execution_count": 88,
   "metadata": {},
   "outputs": [],
   "source": [
    "# Изменим тип данных в столбце с датой\n",
    "orders['date'] = pd.to_datetime(orders['date'])"
   ]
  },
  {
   "cell_type": "code",
   "execution_count": 89,
   "metadata": {},
   "outputs": [],
   "source": [
    "# Переимунуем названия столбцов\n",
    "orders.columns = ['transaction_id', 'visitor_id', 'date', 'revenue', 'group']"
   ]
  },
  {
   "cell_type": "code",
   "execution_count": 90,
   "metadata": {},
   "outputs": [
    {
     "name": "stdout",
     "output_type": "stream",
     "text": [
      "Количество заказов в группе А: 557\n",
      "Количество заказов в группе B: 640\n"
     ]
    }
   ],
   "source": [
    "print('Количество заказов в группе А:', orders[orders['group'] == 'A']['transaction_id'].count())\n",
    "print('Количество заказов в группе B:', orders[orders['group'] == 'B']['transaction_id'].count())\n"
   ]
  },
  {
   "cell_type": "markdown",
   "metadata": {},
   "source": [
    "Получается, что в группе В больше участников, чем в группе А, это может повлиять на результаты А/В-теста"
   ]
  },
  {
   "cell_type": "code",
   "execution_count": 91,
   "metadata": {},
   "outputs": [
    {
     "data": {
      "text/plain": [
       "group    58\n",
       "dtype: int64"
      ]
     },
     "execution_count": 91,
     "metadata": {},
     "output_type": "execute_result"
    }
   ],
   "source": [
    "#Посчитаем количество участников, которые попали в обе группы:\n",
    "orders.groupby('visitor_id').agg({'group' : 'nunique'}).query('group > 1').count()"
   ]
  },
  {
   "cell_type": "code",
   "execution_count": 92,
   "metadata": {},
   "outputs": [
    {
     "data": {
      "text/plain": [
       "4.845446950710109"
      ]
     },
     "execution_count": 92,
     "metadata": {},
     "output_type": "execute_result"
    }
   ],
   "source": [
    "j = 58 * 100 / 1197\n",
    "j"
   ]
  },
  {
   "cell_type": "markdown",
   "metadata": {},
   "source": [
    "Количество посетителей, участвовавших в обеих группах эксперимента составляет примерно 5%. Это уже достаточно весомая часть, которая может повлиять на результаты теста, однако в рамках учебного проекта мы можем этим принебречь."
   ]
  },
  {
   "cell_type": "code",
   "execution_count": 93,
   "metadata": {},
   "outputs": [
    {
     "name": "stdout",
     "output_type": "stream",
     "text": [
      "Начало теста: 2019-08-01 00:00:00\n",
      "Последняя запись: 2019-08-31 00:00:00\n"
     ]
    }
   ],
   "source": [
    "print('Начало теста:', orders['date'].min())\n",
    "print('Последняя запись:', orders['date'].max())"
   ]
  },
  {
   "cell_type": "markdown",
   "metadata": {},
   "source": [
    "Таким образом, мы анализируем данные за август 2019 года."
   ]
  },
  {
   "cell_type": "markdown",
   "metadata": {},
   "source": [
    "#### Visitors"
   ]
  },
  {
   "cell_type": "code",
   "execution_count": 94,
   "metadata": {},
   "outputs": [
    {
     "data": {
      "text/html": [
       "<div>\n",
       "<style scoped>\n",
       "    .dataframe tbody tr th:only-of-type {\n",
       "        vertical-align: middle;\n",
       "    }\n",
       "\n",
       "    .dataframe tbody tr th {\n",
       "        vertical-align: top;\n",
       "    }\n",
       "\n",
       "    .dataframe thead th {\n",
       "        text-align: right;\n",
       "    }\n",
       "</style>\n",
       "<table border=\"1\" class=\"dataframe\">\n",
       "  <thead>\n",
       "    <tr style=\"text-align: right;\">\n",
       "      <th></th>\n",
       "      <th>date</th>\n",
       "      <th>group</th>\n",
       "      <th>visitors</th>\n",
       "    </tr>\n",
       "  </thead>\n",
       "  <tbody>\n",
       "    <tr>\n",
       "      <th>0</th>\n",
       "      <td>2019-08-01</td>\n",
       "      <td>A</td>\n",
       "      <td>719</td>\n",
       "    </tr>\n",
       "    <tr>\n",
       "      <th>1</th>\n",
       "      <td>2019-08-02</td>\n",
       "      <td>A</td>\n",
       "      <td>619</td>\n",
       "    </tr>\n",
       "    <tr>\n",
       "      <th>2</th>\n",
       "      <td>2019-08-03</td>\n",
       "      <td>A</td>\n",
       "      <td>507</td>\n",
       "    </tr>\n",
       "    <tr>\n",
       "      <th>3</th>\n",
       "      <td>2019-08-04</td>\n",
       "      <td>A</td>\n",
       "      <td>717</td>\n",
       "    </tr>\n",
       "    <tr>\n",
       "      <th>4</th>\n",
       "      <td>2019-08-05</td>\n",
       "      <td>A</td>\n",
       "      <td>756</td>\n",
       "    </tr>\n",
       "  </tbody>\n",
       "</table>\n",
       "</div>"
      ],
      "text/plain": [
       "         date group  visitors\n",
       "0  2019-08-01     A       719\n",
       "1  2019-08-02     A       619\n",
       "2  2019-08-03     A       507\n",
       "3  2019-08-04     A       717\n",
       "4  2019-08-05     A       756"
      ]
     },
     "execution_count": 94,
     "metadata": {},
     "output_type": "execute_result"
    }
   ],
   "source": [
    "visitors.head()"
   ]
  },
  {
   "cell_type": "code",
   "execution_count": 95,
   "metadata": {},
   "outputs": [
    {
     "name": "stdout",
     "output_type": "stream",
     "text": [
      "<class 'pandas.core.frame.DataFrame'>\n",
      "RangeIndex: 62 entries, 0 to 61\n",
      "Data columns (total 3 columns):\n",
      " #   Column    Non-Null Count  Dtype \n",
      "---  ------    --------------  ----- \n",
      " 0   date      62 non-null     object\n",
      " 1   group     62 non-null     object\n",
      " 2   visitors  62 non-null     int64 \n",
      "dtypes: int64(1), object(2)\n",
      "memory usage: 1.6+ KB\n"
     ]
    }
   ],
   "source": [
    "visitors.info()"
   ]
  },
  {
   "cell_type": "code",
   "execution_count": 96,
   "metadata": {},
   "outputs": [
    {
     "data": {
      "text/plain": [
       "0"
      ]
     },
     "execution_count": 96,
     "metadata": {},
     "output_type": "execute_result"
    }
   ],
   "source": [
    "visitors.duplicated().sum()"
   ]
  },
  {
   "cell_type": "markdown",
   "metadata": {},
   "source": [
    "Пропусков и дубликатов в данных нет"
   ]
  },
  {
   "cell_type": "code",
   "execution_count": 97,
   "metadata": {},
   "outputs": [],
   "source": [
    "# Изменим тип данных в столбце с датой\n",
    "visitors['date'] = pd.to_datetime(visitors['date'])"
   ]
  },
  {
   "cell_type": "markdown",
   "metadata": {},
   "source": [
    "**Вывод:**  Количество уникальных посетителей для двух групп не совпадает. Также некоторые посетители участвовали в обеих группах эксперимента. Это может повлиять на результат исследования, однако мы не будем их удалять и посмотрим, что получилось."
   ]
  },
  {
   "cell_type": "markdown",
   "metadata": {},
   "source": [
    "### График кумулятивной выручки по группам"
   ]
  },
  {
   "cell_type": "code",
   "execution_count": 98,
   "metadata": {},
   "outputs": [],
   "source": [
    "# Создадим массив уникальных пар значений дат и групп теста:\n",
    "dates_by_group = orders[['date', 'group']].drop_duplicates()\n",
    "\n",
    "# Получаем кумулятивные по дням данные о заказах в соответствующих группах\n",
    "aggreg_orders = dates_by_group.apply(\n",
    "    lambda x: orders[np.logical_and(orders['date'] <= x['date'], orders['group'] == x['group'])].agg({\n",
    "        'date' : 'max',\n",
    "        'group' : 'max',\n",
    "        'transaction_id' : pd.Series.nunique,\n",
    "        'visitor_id' : pd.Series.nunique,\n",
    "        'revenue' : 'sum'\n",
    "    }), axis=1).sort_values(by = ['date', 'group'])\n"
   ]
  },
  {
   "cell_type": "code",
   "execution_count": 99,
   "metadata": {},
   "outputs": [],
   "source": [
    "# Получаем кумулятивные по дням данные о посетителях в соответствующих группах\n",
    "aggreg_visitors = dates_by_group.apply(\n",
    "    lambda x: visitors[np.logical_and(visitors['date'] <= x['date'], visitors['group'] == x['group'])].agg({\n",
    "        'date' : 'max',\n",
    "        'group' : 'max',\n",
    "        'visitors' : 'sum'\n",
    "    }), axis=1).sort_values(by = ['date', 'group'])\n"
   ]
  },
  {
   "cell_type": "code",
   "execution_count": 100,
   "metadata": {},
   "outputs": [
    {
     "data": {
      "text/html": [
       "<div>\n",
       "<style scoped>\n",
       "    .dataframe tbody tr th:only-of-type {\n",
       "        vertical-align: middle;\n",
       "    }\n",
       "\n",
       "    .dataframe tbody tr th {\n",
       "        vertical-align: top;\n",
       "    }\n",
       "\n",
       "    .dataframe thead th {\n",
       "        text-align: right;\n",
       "    }\n",
       "</style>\n",
       "<table border=\"1\" class=\"dataframe\">\n",
       "  <thead>\n",
       "    <tr style=\"text-align: right;\">\n",
       "      <th></th>\n",
       "      <th>date</th>\n",
       "      <th>group</th>\n",
       "      <th>orders</th>\n",
       "      <th>buyers</th>\n",
       "      <th>revenue</th>\n",
       "      <th>visitors</th>\n",
       "    </tr>\n",
       "  </thead>\n",
       "  <tbody>\n",
       "    <tr>\n",
       "      <th>0</th>\n",
       "      <td>2019-08-01</td>\n",
       "      <td>A</td>\n",
       "      <td>24</td>\n",
       "      <td>20</td>\n",
       "      <td>148579</td>\n",
       "      <td>719</td>\n",
       "    </tr>\n",
       "    <tr>\n",
       "      <th>1</th>\n",
       "      <td>2019-08-01</td>\n",
       "      <td>B</td>\n",
       "      <td>21</td>\n",
       "      <td>20</td>\n",
       "      <td>101217</td>\n",
       "      <td>713</td>\n",
       "    </tr>\n",
       "    <tr>\n",
       "      <th>2</th>\n",
       "      <td>2019-08-02</td>\n",
       "      <td>A</td>\n",
       "      <td>44</td>\n",
       "      <td>38</td>\n",
       "      <td>242401</td>\n",
       "      <td>1338</td>\n",
       "    </tr>\n",
       "    <tr>\n",
       "      <th>3</th>\n",
       "      <td>2019-08-02</td>\n",
       "      <td>B</td>\n",
       "      <td>45</td>\n",
       "      <td>43</td>\n",
       "      <td>266748</td>\n",
       "      <td>1294</td>\n",
       "    </tr>\n",
       "    <tr>\n",
       "      <th>4</th>\n",
       "      <td>2019-08-03</td>\n",
       "      <td>A</td>\n",
       "      <td>68</td>\n",
       "      <td>62</td>\n",
       "      <td>354874</td>\n",
       "      <td>1845</td>\n",
       "    </tr>\n",
       "  </tbody>\n",
       "</table>\n",
       "</div>"
      ],
      "text/plain": [
       "        date group  orders  buyers  revenue  visitors\n",
       "0 2019-08-01     A      24      20   148579       719\n",
       "1 2019-08-01     B      21      20   101217       713\n",
       "2 2019-08-02     A      44      38   242401      1338\n",
       "3 2019-08-02     B      45      43   266748      1294\n",
       "4 2019-08-03     A      68      62   354874      1845"
      ]
     },
     "execution_count": 100,
     "metadata": {},
     "output_type": "execute_result"
    }
   ],
   "source": [
    "# Объединяем две таблицы\n",
    "cumul_data = aggreg_orders.merge(aggreg_visitors, on = ['date', 'group'])\n",
    "cumul_data.columns = ['date', 'group', 'orders', 'buyers', 'revenue', 'visitors']\n",
    "cumul_data.head()"
   ]
  },
  {
   "cell_type": "code",
   "execution_count": 101,
   "metadata": {},
   "outputs": [],
   "source": [
    "# Комулятивное количество заказов и выручки в группе А\n",
    "cumul_revenue_a = cumul_data[cumul_data['group'] == 'A'][['date', 'revenue', 'orders']]\n",
    "\n",
    "# В группе В\n",
    "cumul_revenue_b = cumul_data[cumul_data['group'] == 'B'][['date', 'revenue', 'orders']]"
   ]
  },
  {
   "cell_type": "code",
   "execution_count": 102,
   "metadata": {},
   "outputs": [
    {
     "data": {
      "text/plain": [
       "Text(2019-08-05, 2000000, 'отрыв')"
      ]
     },
     "execution_count": 102,
     "metadata": {},
     "output_type": "execute_result"
    },
    {
     "data": {
      "image/png": "[encoded data removed]",
      "text/plain": [
       "<Figure size 864x504 with 1 Axes>"
      ]
     },
     "metadata": {
      "needs_background": "light"
     },
     "output_type": "display_data"
    }
   ],
   "source": [
    "from pandas.plotting import register_matplotlib_converters\n",
    "register_matplotlib_converters()\n",
    "\n",
    "\n",
    "plt.figure(figsize=(12, 7))\n",
    "plt.plot(cumul_revenue_a['date'], cumul_revenue_a['revenue'], label = 'A')\n",
    "plt.plot(cumul_revenue_b['date'], cumul_revenue_b['revenue'], label = 'B')\n",
    "plt.legend()\n",
    "\n",
    "plt.title('График кумулятивной выручки по группам')\n",
    "plt.xlabel('Дата')\n",
    "plt.ylabel('Кумулятивная выручка, руб.')\n",
    "\n",
    "plt.annotate('скачок', xy=('2019-08-17', 2800000), xytext=('2019-08-10', 3500000),\n",
    "            arrowprops=dict(facecolor='g'))\n",
    "plt.annotate('отрыв', xy=('2019-08-05', 800000), xytext=('2019-08-05', 2000000),\n",
    "            arrowprops=dict(facecolor='g')) \n"
   ]
  },
  {
   "cell_type": "markdown",
   "metadata": {},
   "source": [
    "**Вывод:** В обоих группах выручка равномерно растет. Группа В стабильно лидирует по выручке на протяжении всего теста, однако в ней заметен резкий рост примерно 19 мая, это может сигнализировать о выбросах в данных"
   ]
  },
  {
   "cell_type": "markdown",
   "metadata": {},
   "source": [
    "### График кумулятивного среднего чека по группам"
   ]
  },
  {
   "cell_type": "code",
   "execution_count": 103,
   "metadata": {},
   "outputs": [
    {
     "data": {
      "text/plain": [
       "Text(0, 0.5, 'Средний чек, руб.')"
      ]
     },
     "execution_count": 103,
     "metadata": {},
     "output_type": "execute_result"
    },
    {
     "data": {
      "image/png": "[encoded data removed]",
      "text/plain": [
       "<Figure size 864x504 with 1 Axes>"
      ]
     },
     "metadata": {
      "needs_background": "light"
     },
     "output_type": "display_data"
    }
   ],
   "source": [
    "plt.figure(figsize=(12, 7))\n",
    "\n",
    "plt.plot(cumul_revenue_a['date'], cumul_revenue_a['revenue'] / cumul_revenue_a['orders'], label = 'A')\n",
    "plt.plot(cumul_revenue_b['date'], cumul_revenue_b['revenue'] / cumul_revenue_b['orders'], label = 'B')\n",
    "\n",
    "plt.annotate('скачок', xy=('2019-08-17', 7350), xytext=('2019-08-10', 8000),\n",
    "            arrowprops=dict(facecolor='g'))\n",
    "plt.title('График кумулятивного среднего чека по группам')\n",
    "plt.xlabel('Дата')\n",
    "plt.ylabel('Средний чек, руб.')"
   ]
  },
  {
   "cell_type": "markdown",
   "metadata": {},
   "source": [
    "**Вывод:** Средний чек для группы А установился ко второй половине эксперимента. На графике группы В мы видим резкий всплеск в районе 19 мая, из-за чего можно предположить появление очень дорогих заказов в эти числа. В таком случае, нам нужно больше данных, чтобы средний чек для группы В пришел к реальному и установился на этом уровне. "
   ]
  },
  {
   "cell_type": "markdown",
   "metadata": {},
   "source": [
    "### Относительное изменение кумулятивного среднего чека группы В к группе А"
   ]
  },
  {
   "cell_type": "code",
   "execution_count": 104,
   "metadata": {
    "scrolled": false
   },
   "outputs": [
    {
     "data": {
      "text/plain": [
       "Text(0.5, 0, 'Дата')"
      ]
     },
     "execution_count": 104,
     "metadata": {},
     "output_type": "execute_result"
    },
    {
     "data": {
      "image/png": "[encoded data removed]",
      "text/plain": [
       "<Figure size 864x504 with 1 Axes>"
      ]
     },
     "metadata": {
      "needs_background": "light"
     },
     "output_type": "display_data"
    }
   ],
   "source": [
    "# Склеим данные\n",
    "cumul_revenue_ab = cumul_revenue_a.merge(cumul_revenue_b, left_on='date', right_on='date', how='left', suffixes=['A', 'B'])\n",
    "\n",
    "plt.figure(figsize=(12, 7))\n",
    "plt.plot(\n",
    "    cumul_revenue_ab['date'],\n",
    "    (cumul_revenue_ab['revenueB']/cumul_revenue_ab['ordersB']) / (cumul_revenue_ab['revenueA']/cumul_revenue_ab['ordersA']) -1\n",
    ")\n",
    "plt.axhline(y=0, color='red', linestyle='--')\n",
    "\n",
    "plt.title('График относительного изменения кумулятивного среднего чека группы В к группе А')\n",
    "plt.xlabel('Дата')\n",
    "\n",
    "\n"
   ]
  },
  {
   "cell_type": "markdown",
   "metadata": {},
   "source": [
    "**Вывод:** В некоторых точках наблюдается резкий скачок графика, что подтверждает нашу гипотезу о наличии выбросов."
   ]
  },
  {
   "cell_type": "markdown",
   "metadata": {},
   "source": [
    "### Кумулятивная конверсия по группам"
   ]
  },
  {
   "cell_type": "code",
   "execution_count": 105,
   "metadata": {},
   "outputs": [],
   "source": [
    "# Считаем конверсию\n",
    "cumul_data['conversion'] = cumul_data['orders'] / cumul_data['visitors']\n",
    "\n",
    "# Выделяем данные только по группе А\n",
    "cumul_data_a = cumul_data[cumul_data['group'] == 'A']\n",
    "\n",
    "# Только по группе В\n",
    "cumul_data_b = cumul_data[cumul_data['group'] == 'B']"
   ]
  },
  {
   "cell_type": "code",
   "execution_count": 106,
   "metadata": {},
   "outputs": [
    {
     "data": {
      "text/plain": [
       "Text(0, 0.5, 'Конверсия')"
      ]
     },
     "execution_count": 106,
     "metadata": {},
     "output_type": "execute_result"
    },
    {
     "data": {
      "image/png": "[encoded data removed]",
      "text/plain": [
       "<Figure size 864x504 with 1 Axes>"
      ]
     },
     "metadata": {
      "needs_background": "light"
     },
     "output_type": "display_data"
    }
   ],
   "source": [
    "plt.figure(figsize=(12, 7))\n",
    "\n",
    "plt.plot(cumul_data_a['date'], cumul_data_a['conversion'], label = 'A')\n",
    "plt.plot(cumul_data_b['date'], cumul_data_b['conversion'], label = 'B')\n",
    "plt.legend()\n",
    "plt.title('График кумулятивной конверсии по группам')\n",
    "plt.xlabel('Дата')\n",
    "plt.ylabel('Конверсия')"
   ]
  },
  {
   "cell_type": "markdown",
   "metadata": {},
   "source": [
    "**Вывод:** По графику видно, что ко второй половине эксперимента конверсия зафиксировалась с колебанием не больше 0.1% для обеих групп. Конверсия группы В зафиксировалась примерно на 0.5% выше группы А."
   ]
  },
  {
   "cell_type": "markdown",
   "metadata": {},
   "source": [
    "### Относительное изменение кумулятивной конверсии группы В к группе А"
   ]
  },
  {
   "cell_type": "code",
   "execution_count": 107,
   "metadata": {},
   "outputs": [
    {
     "data": {
      "text/html": [
       "<div>\n",
       "<style scoped>\n",
       "    .dataframe tbody tr th:only-of-type {\n",
       "        vertical-align: middle;\n",
       "    }\n",
       "\n",
       "    .dataframe tbody tr th {\n",
       "        vertical-align: top;\n",
       "    }\n",
       "\n",
       "    .dataframe thead th {\n",
       "        text-align: right;\n",
       "    }\n",
       "</style>\n",
       "<table border=\"1\" class=\"dataframe\">\n",
       "  <thead>\n",
       "    <tr style=\"text-align: right;\">\n",
       "      <th></th>\n",
       "      <th>date</th>\n",
       "      <th>conversionA</th>\n",
       "      <th>conversionB</th>\n",
       "    </tr>\n",
       "  </thead>\n",
       "  <tbody>\n",
       "    <tr>\n",
       "      <th>0</th>\n",
       "      <td>2019-08-01</td>\n",
       "      <td>0.033380</td>\n",
       "      <td>0.029453</td>\n",
       "    </tr>\n",
       "    <tr>\n",
       "      <th>1</th>\n",
       "      <td>2019-08-02</td>\n",
       "      <td>0.032885</td>\n",
       "      <td>0.034776</td>\n",
       "    </tr>\n",
       "    <tr>\n",
       "      <th>2</th>\n",
       "      <td>2019-08-03</td>\n",
       "      <td>0.036856</td>\n",
       "      <td>0.033833</td>\n",
       "    </tr>\n",
       "    <tr>\n",
       "      <th>3</th>\n",
       "      <td>2019-08-04</td>\n",
       "      <td>0.032787</td>\n",
       "      <td>0.030315</td>\n",
       "    </tr>\n",
       "    <tr>\n",
       "      <th>4</th>\n",
       "      <td>2019-08-05</td>\n",
       "      <td>0.032851</td>\n",
       "      <td>0.030793</td>\n",
       "    </tr>\n",
       "  </tbody>\n",
       "</table>\n",
       "</div>"
      ],
      "text/plain": [
       "        date  conversionA  conversionB\n",
       "0 2019-08-01     0.033380     0.029453\n",
       "1 2019-08-02     0.032885     0.034776\n",
       "2 2019-08-03     0.036856     0.033833\n",
       "3 2019-08-04     0.032787     0.030315\n",
       "4 2019-08-05     0.032851     0.030793"
      ]
     },
     "execution_count": 107,
     "metadata": {},
     "output_type": "execute_result"
    }
   ],
   "source": [
    "# Соберем кумулятивную конверсию для двух групп в одной таблице\n",
    "all_cumul_conv = cumul_data_a[['date', 'conversion']].merge(cumul_data_b[['date', 'conversion']], on='date', suffixes = ['A', 'B'])\n",
    "all_cumul_conv.head()\n"
   ]
  },
  {
   "cell_type": "code",
   "execution_count": 108,
   "metadata": {},
   "outputs": [
    {
     "data": {
      "text/plain": [
       "Text(0.5, 0, 'Дата')"
      ]
     },
     "execution_count": 108,
     "metadata": {},
     "output_type": "execute_result"
    },
    {
     "data": {
      "image/png": "[encoded data removed]",
      "text/plain": [
       "<Figure size 864x504 with 1 Axes>"
      ]
     },
     "metadata": {
      "needs_background": "light"
     },
     "output_type": "display_data"
    }
   ],
   "source": [
    "plt.figure(figsize=(12, 7))\n",
    "\n",
    "plt.plot(\n",
    "    all_cumul_conv['date'],\n",
    "    all_cumul_conv['conversionB']/all_cumul_conv['conversionA'] - 1\n",
    ")\n",
    "\n",
    "plt.axhline(y=0, color='red', linestyle='--')\n",
    "plt.axhline(y=-0.1, color='pink', linestyle='--')\n",
    "\n",
    "plt.title('Относительный прирост конверсии группы B относительно группы A')\n",
    "plt.xlabel('Дата')"
   ]
  },
  {
   "cell_type": "markdown",
   "metadata": {},
   "source": [
    "**Вывод:** В течение первой недели теста группа В уступала группе А(за исключением всплеска на второй день, который может быть вызван выбросами), однако со второй недели конверсия во второй группе превосходит конверсию в первой. Стоит отметить, что отношение конверсии еще не установилось. Стоит избавиться от выбросов. \n"
   ]
  },
  {
   "cell_type": "markdown",
   "metadata": {},
   "source": [
    "### Анализ аномалий"
   ]
  },
  {
   "cell_type": "markdown",
   "metadata": {},
   "source": [
    "#### Количество заказов"
   ]
  },
  {
   "cell_type": "code",
   "execution_count": 109,
   "metadata": {},
   "outputs": [
    {
     "data": {
      "text/html": [
       "<div>\n",
       "<style scoped>\n",
       "    .dataframe tbody tr th:only-of-type {\n",
       "        vertical-align: middle;\n",
       "    }\n",
       "\n",
       "    .dataframe tbody tr th {\n",
       "        vertical-align: top;\n",
       "    }\n",
       "\n",
       "    .dataframe thead th {\n",
       "        text-align: right;\n",
       "    }\n",
       "</style>\n",
       "<table border=\"1\" class=\"dataframe\">\n",
       "  <thead>\n",
       "    <tr style=\"text-align: right;\">\n",
       "      <th></th>\n",
       "      <th>transaction_id</th>\n",
       "      <th>visitor_id</th>\n",
       "      <th>date</th>\n",
       "      <th>revenue</th>\n",
       "      <th>group</th>\n",
       "    </tr>\n",
       "  </thead>\n",
       "  <tbody>\n",
       "    <tr>\n",
       "      <th>0</th>\n",
       "      <td>3667963787</td>\n",
       "      <td>3312258926</td>\n",
       "      <td>2019-08-15</td>\n",
       "      <td>1650</td>\n",
       "      <td>B</td>\n",
       "    </tr>\n",
       "    <tr>\n",
       "      <th>1</th>\n",
       "      <td>2804400009</td>\n",
       "      <td>3642806036</td>\n",
       "      <td>2019-08-15</td>\n",
       "      <td>730</td>\n",
       "      <td>B</td>\n",
       "    </tr>\n",
       "    <tr>\n",
       "      <th>2</th>\n",
       "      <td>2961555356</td>\n",
       "      <td>4069496402</td>\n",
       "      <td>2019-08-15</td>\n",
       "      <td>400</td>\n",
       "      <td>A</td>\n",
       "    </tr>\n",
       "    <tr>\n",
       "      <th>3</th>\n",
       "      <td>3797467345</td>\n",
       "      <td>1196621759</td>\n",
       "      <td>2019-08-15</td>\n",
       "      <td>9759</td>\n",
       "      <td>B</td>\n",
       "    </tr>\n",
       "    <tr>\n",
       "      <th>4</th>\n",
       "      <td>2282983706</td>\n",
       "      <td>2322279887</td>\n",
       "      <td>2019-08-15</td>\n",
       "      <td>2308</td>\n",
       "      <td>B</td>\n",
       "    </tr>\n",
       "  </tbody>\n",
       "</table>\n",
       "</div>"
      ],
      "text/plain": [
       "   transaction_id  visitor_id       date  revenue group\n",
       "0      3667963787  3312258926 2019-08-15     1650     B\n",
       "1      2804400009  3642806036 2019-08-15      730     B\n",
       "2      2961555356  4069496402 2019-08-15      400     A\n",
       "3      3797467345  1196621759 2019-08-15     9759     B\n",
       "4      2282983706  2322279887 2019-08-15     2308     B"
      ]
     },
     "execution_count": 109,
     "metadata": {},
     "output_type": "execute_result"
    }
   ],
   "source": [
    "orders.head()"
   ]
  },
  {
   "cell_type": "code",
   "execution_count": 110,
   "metadata": {},
   "outputs": [
    {
     "data": {
      "text/html": [
       "<div>\n",
       "<style scoped>\n",
       "    .dataframe tbody tr th:only-of-type {\n",
       "        vertical-align: middle;\n",
       "    }\n",
       "\n",
       "    .dataframe tbody tr th {\n",
       "        vertical-align: top;\n",
       "    }\n",
       "\n",
       "    .dataframe thead th {\n",
       "        text-align: right;\n",
       "    }\n",
       "</style>\n",
       "<table border=\"1\" class=\"dataframe\">\n",
       "  <thead>\n",
       "    <tr style=\"text-align: right;\">\n",
       "      <th></th>\n",
       "      <th>visitor_id</th>\n",
       "      <th>orders_count</th>\n",
       "    </tr>\n",
       "  </thead>\n",
       "  <tbody>\n",
       "    <tr>\n",
       "      <th>1023</th>\n",
       "      <td>4256040402</td>\n",
       "      <td>11</td>\n",
       "    </tr>\n",
       "    <tr>\n",
       "      <th>591</th>\n",
       "      <td>2458001652</td>\n",
       "      <td>11</td>\n",
       "    </tr>\n",
       "    <tr>\n",
       "      <th>569</th>\n",
       "      <td>2378935119</td>\n",
       "      <td>9</td>\n",
       "    </tr>\n",
       "    <tr>\n",
       "      <th>487</th>\n",
       "      <td>2038680547</td>\n",
       "      <td>8</td>\n",
       "    </tr>\n",
       "    <tr>\n",
       "      <th>44</th>\n",
       "      <td>199603092</td>\n",
       "      <td>5</td>\n",
       "    </tr>\n",
       "    <tr>\n",
       "      <th>744</th>\n",
       "      <td>3062433592</td>\n",
       "      <td>5</td>\n",
       "    </tr>\n",
       "    <tr>\n",
       "      <th>55</th>\n",
       "      <td>237748145</td>\n",
       "      <td>5</td>\n",
       "    </tr>\n",
       "    <tr>\n",
       "      <th>917</th>\n",
       "      <td>3803269165</td>\n",
       "      <td>5</td>\n",
       "    </tr>\n",
       "    <tr>\n",
       "      <th>299</th>\n",
       "      <td>1230306981</td>\n",
       "      <td>5</td>\n",
       "    </tr>\n",
       "    <tr>\n",
       "      <th>897</th>\n",
       "      <td>3717692402</td>\n",
       "      <td>5</td>\n",
       "    </tr>\n",
       "  </tbody>\n",
       "</table>\n",
       "</div>"
      ],
      "text/plain": [
       "      visitor_id  orders_count\n",
       "1023  4256040402            11\n",
       "591   2458001652            11\n",
       "569   2378935119             9\n",
       "487   2038680547             8\n",
       "44     199603092             5\n",
       "744   3062433592             5\n",
       "55     237748145             5\n",
       "917   3803269165             5\n",
       "299   1230306981             5\n",
       "897   3717692402             5"
      ]
     },
     "execution_count": 110,
     "metadata": {},
     "output_type": "execute_result"
    }
   ],
   "source": [
    "orders_by_users = orders.groupby('visitor_id', as_index=False).agg({'transaction_id' : 'nunique'})\n",
    "orders_by_users.columns = ['visitor_id', 'orders_count']\n",
    "orders_by_users.sort_values(by='orders_count', ascending=False).head(10)"
   ]
  },
  {
   "cell_type": "markdown",
   "metadata": {},
   "source": [
    "Некоторые пользователи совершали более 5 заказов, что кажется выбивающимся значением. "
   ]
  },
  {
   "cell_type": "code",
   "execution_count": 111,
   "metadata": {},
   "outputs": [
    {
     "data": {
      "text/plain": [
       "Text(0.5, 1.0, 'Распределение пользователей по количеству заказов')"
      ]
     },
     "execution_count": 111,
     "metadata": {},
     "output_type": "execute_result"
    },
    {
     "data": {
      "image/png": "[encoded data removed]",
      "text/plain": [
       "<Figure size 720x504 with 1 Axes>"
      ]
     },
     "metadata": {
      "needs_background": "light"
     },
     "output_type": "display_data"
    }
   ],
   "source": [
    "plt.figure(figsize = (10,7))\n",
    "x_values = pd.Series(range(0,len(orders_by_users['orders_count'])))\n",
    "plt.scatter(x_values, orders_by_users['orders_count'])\n",
    "plt.title('Распределение пользователей по количеству заказов')"
   ]
  },
  {
   "cell_type": "markdown",
   "metadata": {},
   "source": [
    "Гистограмма подтверждает наше предположение: большинство пользователей совершают 1-3 заказа. Как мне кажется, можно считать аномалией пользователей, совершивших 4+ заказов.\n",
    "\n",
    "Посчитаем 95-й и 99-й перцентили количества заказов на пользователя"
   ]
  },
  {
   "cell_type": "code",
   "execution_count": 112,
   "metadata": {},
   "outputs": [
    {
     "name": "stdout",
     "output_type": "stream",
     "text": [
      "[1. 2. 4.]\n"
     ]
    }
   ],
   "source": [
    "print(np.percentile(orders_by_users['orders_count'], [90, 95, 99])) "
   ]
  },
  {
   "cell_type": "markdown",
   "metadata": {},
   "source": [
    "90 процентов пользователей совершают 1 заказ. Не более 5 процентов совершают 2 заказа, и только 1 процент пользователей совершает 4+ заказов."
   ]
  },
  {
   "cell_type": "markdown",
   "metadata": {},
   "source": [
    "#### Стоимость заказов"
   ]
  },
  {
   "cell_type": "code",
   "execution_count": 115,
   "metadata": {},
   "outputs": [
    {
     "data": {
      "text/html": [
       "<div>\n",
       "<style scoped>\n",
       "    .dataframe tbody tr th:only-of-type {\n",
       "        vertical-align: middle;\n",
       "    }\n",
       "\n",
       "    .dataframe tbody tr th {\n",
       "        vertical-align: top;\n",
       "    }\n",
       "\n",
       "    .dataframe thead th {\n",
       "        text-align: right;\n",
       "    }\n",
       "</style>\n",
       "<table border=\"1\" class=\"dataframe\">\n",
       "  <thead>\n",
       "    <tr style=\"text-align: right;\">\n",
       "      <th></th>\n",
       "      <th>visitor_id</th>\n",
       "      <th>revenue</th>\n",
       "    </tr>\n",
       "  </thead>\n",
       "  <tbody>\n",
       "    <tr>\n",
       "      <th>425</th>\n",
       "      <td>1920142716</td>\n",
       "      <td>1294500</td>\n",
       "    </tr>\n",
       "    <tr>\n",
       "      <th>1196</th>\n",
       "      <td>2108080724</td>\n",
       "      <td>202740</td>\n",
       "    </tr>\n",
       "    <tr>\n",
       "      <th>858</th>\n",
       "      <td>1316129916</td>\n",
       "      <td>93940</td>\n",
       "    </tr>\n",
       "    <tr>\n",
       "      <th>1136</th>\n",
       "      <td>1307669133</td>\n",
       "      <td>92550</td>\n",
       "    </tr>\n",
       "    <tr>\n",
       "      <th>744</th>\n",
       "      <td>888512513</td>\n",
       "      <td>86620</td>\n",
       "    </tr>\n",
       "  </tbody>\n",
       "</table>\n",
       "</div>"
      ],
      "text/plain": [
       "      visitor_id  revenue\n",
       "425   1920142716  1294500\n",
       "1196  2108080724   202740\n",
       "858   1316129916    93940\n",
       "1136  1307669133    92550\n",
       "744    888512513    86620"
      ]
     },
     "execution_count": 115,
     "metadata": {},
     "output_type": "execute_result"
    }
   ],
   "source": [
    "orders[['visitor_id', 'revenue']].sort_values(by='revenue', ascending = False).head()"
   ]
  },
  {
   "cell_type": "markdown",
   "metadata": {},
   "source": [
    "Как мы видим, есть заказы на сумму свыше 200 тысяч и даже миллиона, это явно аномалии. Посмотрим распределение на диаграмме рассеяния."
   ]
  },
  {
   "cell_type": "code",
   "execution_count": 116,
   "metadata": {},
   "outputs": [
    {
     "data": {
      "text/plain": [
       "Text(0.5, 1.0, 'Распределение пользователей по среднему чеку')"
      ]
     },
     "execution_count": 116,
     "metadata": {},
     "output_type": "execute_result"
    },
    {
     "data": {
      "image/png": "[encoded data removed]",
      "text/plain": [
       "<Figure size 720x504 with 1 Axes>"
      ]
     },
     "metadata": {
      "needs_background": "light"
     },
     "output_type": "display_data"
    }
   ],
   "source": [
    "plt.figure(figsize = (10,7))\n",
    "x_values = pd.Series(range(0,len(orders['revenue'])))\n",
    "plt.scatter(x_values, orders['revenue']) \n",
    "plt.title('Распределение пользователей по среднему чеку')"
   ]
  },
  {
   "cell_type": "markdown",
   "metadata": {},
   "source": [
    "Это не очень сильно нам помогло, так как точки \"сливаются\", поэтому проще будет посчитать перцентили:"
   ]
  },
  {
   "cell_type": "code",
   "execution_count": 117,
   "metadata": {},
   "outputs": [
    {
     "name": "stdout",
     "output_type": "stream",
     "text": [
      "[18168.  28000.  58233.2]\n"
     ]
    }
   ],
   "source": [
    "print(np.percentile(orders['revenue'], [90, 95, 99])) "
   ]
  },
  {
   "cell_type": "markdown",
   "metadata": {},
   "source": [
    "Не более 5 процентов пользователей совершают заказы дороже 28 000 и не более 1 процента дороже 58 233. Как мне кажется, оставить 99% пользователей."
   ]
  },
  {
   "cell_type": "markdown",
   "metadata": {},
   "source": [
    "### Статистическая значимость различий в конверсии между группами по \"сырым\" данным"
   ]
  },
  {
   "cell_type": "code",
   "execution_count": 118,
   "metadata": {},
   "outputs": [],
   "source": [
    "# Выделим количество посетителей на каждый день в группе А\n",
    "visitors_per_day_a = visitors[visitors['group'] == 'A'][['date', 'visitors']]\n",
    "visitors_per_day_a.columns = ['date', 'visitors_per_day_a']\n",
    "\n",
    "# Сделаем то же самое для группы В\n",
    "visitors_per_day_b = visitors[visitors['group'] == 'B'][['date', 'visitors']]\n",
    "visitors_per_day_b.columns = ['date', 'visitors_per_day_b']\n",
    "\n",
    "# Собираем комулятивные данные о посетителях для группы А\n",
    "cumul_visitors_a = cumul_data[cumul_data['group'] == 'A'][['date', 'visitors']]\n",
    "cumul_visitors_a.columns = ['date', 'cumul_visitors_a']\n",
    "\n",
    "# Для группы В\n",
    "cumul_visitors_b = cumul_data[cumul_data['group'] == 'B'][['date', 'visitors']]\n",
    "cumul_visitors_b.columns = ['date', 'cumul_visitors_b']"
   ]
  },
  {
   "cell_type": "code",
   "execution_count": 119,
   "metadata": {},
   "outputs": [],
   "source": [
    "# Соберем количество заказов и общую выручку на каждый день в группе А\n",
    "orders_per_day_a = (\n",
    "    orders[orders['group'] == 'A'][['date', 'transaction_id', 'visitor_id', 'revenue']]\n",
    "    .groupby('date', as_index = False)\n",
    "    .agg({'transaction_id' : 'nunique', 'revenue' : 'sum'})\n",
    ")\n",
    "orders_per_day_a.columns = ['date', 'orders_per_day_a', 'revenue_per_day_a']\n",
    "\n",
    "# Сделаем то же самое для группы В\n",
    "orders_per_day_b = (\n",
    "    orders[orders['group'] == 'B'][['date', 'transaction_id', 'visitor_id', 'revenue']]\n",
    "    .groupby('date', as_index = False)\n",
    "    .agg({'transaction_id' : 'nunique', 'revenue' : 'sum'})\n",
    ")\n",
    "orders_per_day_b.columns = ['date', 'orders_per_day_b', 'revenue_per_day_b']\n",
    "orders_per_day_b.head()\n",
    "\n",
    "# Переименуем кумулятивные данные о заказах для групп\n",
    "cumul_revenue_a.columns = ['date', 'cumul_revenue_a', 'cumul_orders_a']\n",
    "\n",
    "# Соберем кумулятивные данные о заказах для группы B\n",
    "cumul_revenue_b.columns = ['date', 'cumul_revenue_b', 'cumul_orders_b']\n"
   ]
  },
  {
   "cell_type": "code",
   "execution_count": 120,
   "metadata": {},
   "outputs": [
    {
     "data": {
      "text/html": [
       "<div>\n",
       "<style scoped>\n",
       "    .dataframe tbody tr th:only-of-type {\n",
       "        vertical-align: middle;\n",
       "    }\n",
       "\n",
       "    .dataframe tbody tr th {\n",
       "        vertical-align: top;\n",
       "    }\n",
       "\n",
       "    .dataframe thead th {\n",
       "        text-align: right;\n",
       "    }\n",
       "</style>\n",
       "<table border=\"1\" class=\"dataframe\">\n",
       "  <thead>\n",
       "    <tr style=\"text-align: right;\">\n",
       "      <th></th>\n",
       "      <th>date</th>\n",
       "      <th>visitors_per_day_a</th>\n",
       "      <th>visitors_per_day_b</th>\n",
       "      <th>cumul_visitors_a</th>\n",
       "      <th>cumul_visitors_b</th>\n",
       "      <th>orders_per_day_a</th>\n",
       "      <th>revenue_per_day_a</th>\n",
       "      <th>orders_per_day_b</th>\n",
       "      <th>revenue_per_day_b</th>\n",
       "      <th>cumul_revenue_a</th>\n",
       "      <th>cumul_orders_a</th>\n",
       "      <th>cumul_revenue_b</th>\n",
       "      <th>cumul_orders_b</th>\n",
       "    </tr>\n",
       "  </thead>\n",
       "  <tbody>\n",
       "    <tr>\n",
       "      <th>0</th>\n",
       "      <td>2019-08-01</td>\n",
       "      <td>719</td>\n",
       "      <td>713</td>\n",
       "      <td>719</td>\n",
       "      <td>713</td>\n",
       "      <td>24</td>\n",
       "      <td>148579</td>\n",
       "      <td>21</td>\n",
       "      <td>101217</td>\n",
       "      <td>148579</td>\n",
       "      <td>24</td>\n",
       "      <td>101217</td>\n",
       "      <td>21</td>\n",
       "    </tr>\n",
       "    <tr>\n",
       "      <th>1</th>\n",
       "      <td>2019-08-02</td>\n",
       "      <td>619</td>\n",
       "      <td>581</td>\n",
       "      <td>1338</td>\n",
       "      <td>1294</td>\n",
       "      <td>20</td>\n",
       "      <td>93822</td>\n",
       "      <td>24</td>\n",
       "      <td>165531</td>\n",
       "      <td>242401</td>\n",
       "      <td>44</td>\n",
       "      <td>266748</td>\n",
       "      <td>45</td>\n",
       "    </tr>\n",
       "    <tr>\n",
       "      <th>2</th>\n",
       "      <td>2019-08-03</td>\n",
       "      <td>507</td>\n",
       "      <td>509</td>\n",
       "      <td>1845</td>\n",
       "      <td>1803</td>\n",
       "      <td>24</td>\n",
       "      <td>112473</td>\n",
       "      <td>16</td>\n",
       "      <td>114248</td>\n",
       "      <td>354874</td>\n",
       "      <td>68</td>\n",
       "      <td>380996</td>\n",
       "      <td>61</td>\n",
       "    </tr>\n",
       "    <tr>\n",
       "      <th>3</th>\n",
       "      <td>2019-08-04</td>\n",
       "      <td>717</td>\n",
       "      <td>770</td>\n",
       "      <td>2562</td>\n",
       "      <td>2573</td>\n",
       "      <td>16</td>\n",
       "      <td>70825</td>\n",
       "      <td>17</td>\n",
       "      <td>108571</td>\n",
       "      <td>425699</td>\n",
       "      <td>84</td>\n",
       "      <td>489567</td>\n",
       "      <td>78</td>\n",
       "    </tr>\n",
       "    <tr>\n",
       "      <th>4</th>\n",
       "      <td>2019-08-05</td>\n",
       "      <td>756</td>\n",
       "      <td>707</td>\n",
       "      <td>3318</td>\n",
       "      <td>3280</td>\n",
       "      <td>25</td>\n",
       "      <td>124218</td>\n",
       "      <td>23</td>\n",
       "      <td>92428</td>\n",
       "      <td>549917</td>\n",
       "      <td>109</td>\n",
       "      <td>581995</td>\n",
       "      <td>101</td>\n",
       "    </tr>\n",
       "  </tbody>\n",
       "</table>\n",
       "</div>"
      ],
      "text/plain": [
       "        date  visitors_per_day_a  visitors_per_day_b  cumul_visitors_a  \\\n",
       "0 2019-08-01                 719                 713               719   \n",
       "1 2019-08-02                 619                 581              1338   \n",
       "2 2019-08-03                 507                 509              1845   \n",
       "3 2019-08-04                 717                 770              2562   \n",
       "4 2019-08-05                 756                 707              3318   \n",
       "\n",
       "   cumul_visitors_b  orders_per_day_a  revenue_per_day_a  orders_per_day_b  \\\n",
       "0               713                24             148579                21   \n",
       "1              1294                20              93822                24   \n",
       "2              1803                24             112473                16   \n",
       "3              2573                16              70825                17   \n",
       "4              3280                25             124218                23   \n",
       "\n",
       "   revenue_per_day_b  cumul_revenue_a  cumul_orders_a  cumul_revenue_b  \\\n",
       "0             101217           148579              24           101217   \n",
       "1             165531           242401              44           266748   \n",
       "2             114248           354874              68           380996   \n",
       "3             108571           425699              84           489567   \n",
       "4              92428           549917             109           581995   \n",
       "\n",
       "   cumul_orders_b  \n",
       "0              21  \n",
       "1              45  \n",
       "2              61  \n",
       "3              78  \n",
       "4             101  "
      ]
     },
     "execution_count": 120,
     "metadata": {},
     "output_type": "execute_result"
    }
   ],
   "source": [
    "# Соединим все таблицы в одну\n",
    "\n",
    "data = (\n",
    "    visitors_per_day_a.merge(visitors_per_day_b, on = 'date', how = 'left')\n",
    "    .merge(cumul_visitors_a, on = 'date', how = 'left')\n",
    "    .merge(cumul_visitors_b, on = 'date', how = 'left')\n",
    "    .merge(orders_per_day_a, on = 'date', how = 'left')\n",
    "    .merge(orders_per_day_b, on = 'date', how = 'left')\n",
    "    .merge(cumul_revenue_a, on = 'date', how = 'left')\n",
    "    .merge(cumul_revenue_b, on = 'date', how = 'left')\n",
    ")\n",
    "data.head()"
   ]
  },
  {
   "cell_type": "markdown",
   "metadata": {},
   "source": [
    "Посчитаем статистическую значимость различия в конверсии между группами"
   ]
  },
  {
   "cell_type": "code",
   "execution_count": 121,
   "metadata": {},
   "outputs": [],
   "source": [
    "orders_by_users_a = (\n",
    "    orders[orders['group'] == 'A']\n",
    "    .groupby('visitor_id', as_index = False)\n",
    "    .agg({'transaction_id' : 'nunique'})\n",
    ")\n",
    "orders_by_users_a.columns = ['visitor_id', 'orders']\n",
    "\n",
    "orders_by_users_b = (\n",
    "    orders[orders['group'] == 'B']\n",
    "    .groupby('visitor_id', as_index = False)\n",
    "    .agg({'transaction_id' : 'nunique'})\n",
    ")\n",
    "orders_by_users_b.columns = ['visitor_id', 'orders']"
   ]
  },
  {
   "cell_type": "code",
   "execution_count": 122,
   "metadata": {},
   "outputs": [],
   "source": [
    "# Объявим переменные sample_a и sample_b, в которых сохраним число заказов пользователей, \n",
    "# в том числе 0, если пользователь не совершил ни одного заказа\n",
    "sample_a = pd.concat(\n",
    "    [\n",
    "        orders_by_users_a['orders'],\n",
    "        pd.Series(\n",
    "            0,\n",
    "            index=np.arange(\n",
    "                data['visitors_per_day_a'].sum() - len(orders_by_users_a['orders'])\n",
    "            ),\n",
    "            name = 'orders',\n",
    "        ),\n",
    "    ],\n",
    "    axis=0\n",
    ")\n",
    "\n",
    "sample_b = pd.concat(\n",
    "    [\n",
    "        orders_by_users_b['orders'],\n",
    "        pd.Series(\n",
    "            0,\n",
    "            index=np.arange(\n",
    "                data['visitors_per_day_b'].sum() - len(orders_by_users_b['orders'])\n",
    "            ),\n",
    "            name = 'orders',\n",
    "        ),\n",
    "    ],\n",
    "    axis=0\n",
    ")\n"
   ]
  },
  {
   "cell_type": "markdown",
   "metadata": {},
   "source": [
    "---\n",
    "\n",
    "**Составим нулевую и альтернативную гипотезы:**\n",
    "\n",
    "**Нулевая гипотеза:** Вероятность того, что наблюдение из группы В превышает наблюдение из группы А равна 50% \n",
    "\n",
    "\n",
    "**Альтернативная гипотеза:** Вероятность того, что наблюдение из группы В превышает наблюдение из группы А не равна 50%"
   ]
  },
  {
   "cell_type": "code",
   "execution_count": 124,
   "metadata": {},
   "outputs": [
    {
     "name": "stdout",
     "output_type": "stream",
     "text": [
      "0.01679\n"
     ]
    }
   ],
   "source": [
    "print(\"{0:.5f}\".format(stats.mannwhitneyu(sample_a, sample_b)[1]))\n"
   ]
  },
  {
   "cell_type": "markdown",
   "metadata": {},
   "source": [
    "p-value равен 0.008, это значительно меньше 0.05. Таким образом, по анализу \"сырых\" данных видно, что в конверсии между группами есть статистически значимые различия."
   ]
  },
  {
   "cell_type": "code",
   "execution_count": 125,
   "metadata": {},
   "outputs": [
    {
     "name": "stdout",
     "output_type": "stream",
     "text": [
      "0.138\n"
     ]
    }
   ],
   "source": [
    "print(\"{0:.3f}\".format(sample_b.mean() / sample_a.mean() - 1))\n"
   ]
  },
  {
   "cell_type": "markdown",
   "metadata": {},
   "source": [
    "Относительный прирост конверсии группы В к конверсии группы А составляет 13,8%"
   ]
  },
  {
   "cell_type": "markdown",
   "metadata": {},
   "source": [
    "### Статистическая значимость различий в среднем чеке заказа между группами по «сырым» данным"
   ]
  },
  {
   "cell_type": "markdown",
   "metadata": {},
   "source": [
    "**Нулевая гипотеза:** Вероятность того, что наблюдение из группы В отлично от наблюдений из группы А равна 50% \n",
    "\n",
    "\n",
    "**Альтернативная гипотеза:** Вероятность того, что наблюдение из группы В отлично от наблюдений из группы А не равна 50%"
   ]
  },
  {
   "cell_type": "code",
   "execution_count": 126,
   "metadata": {},
   "outputs": [
    {
     "name": "stdout",
     "output_type": "stream",
     "text": [
      "0.729\n",
      "0.259\n"
     ]
    }
   ],
   "source": [
    "print('{0:.3f}'.format(stats.mannwhitneyu(orders[orders['group']=='A']['revenue'], orders[orders['group']=='B']['revenue'])[1]))\n",
    "print('{0:.3f}'.format(orders[orders['group']=='B']['revenue'].mean()/orders[orders['group']=='A']['revenue'].mean()-1)) \n",
    "\n"
   ]
  },
  {
   "cell_type": "markdown",
   "metadata": {},
   "source": [
    "**Вывод:** p-value больше 0,05 - статистически значимых различий между средними чеками в разных группах нет, выборки получены из одной генеральной совокупности.  Относитльное различие средних чеков составляет 26%, скорее всего причина этого кроется в выбросах.\n",
    "\n",
    "\n"
   ]
  },
  {
   "cell_type": "markdown",
   "metadata": {},
   "source": [
    "### Статистическую значимость различий в конверсии между группами по «очищенным» данным"
   ]
  },
  {
   "cell_type": "markdown",
   "metadata": {},
   "source": [
    "Посчитайте статистическую значимость различий в конверсии между группами по «очищенным» данным. Сделайте выводы и предположения."
   ]
  },
  {
   "cell_type": "code",
   "execution_count": 127,
   "metadata": {},
   "outputs": [
    {
     "data": {
      "text/html": [
       "<div>\n",
       "<style scoped>\n",
       "    .dataframe tbody tr th:only-of-type {\n",
       "        vertical-align: middle;\n",
       "    }\n",
       "\n",
       "    .dataframe tbody tr th {\n",
       "        vertical-align: top;\n",
       "    }\n",
       "\n",
       "    .dataframe thead th {\n",
       "        text-align: right;\n",
       "    }\n",
       "</style>\n",
       "<table border=\"1\" class=\"dataframe\">\n",
       "  <thead>\n",
       "    <tr style=\"text-align: right;\">\n",
       "      <th></th>\n",
       "      <th>visitor_id</th>\n",
       "      <th>orders</th>\n",
       "    </tr>\n",
       "  </thead>\n",
       "  <tbody>\n",
       "    <tr>\n",
       "      <th>0</th>\n",
       "      <td>8300375</td>\n",
       "      <td>1</td>\n",
       "    </tr>\n",
       "    <tr>\n",
       "      <th>1</th>\n",
       "      <td>11685486</td>\n",
       "      <td>1</td>\n",
       "    </tr>\n",
       "    <tr>\n",
       "      <th>2</th>\n",
       "      <td>54447517</td>\n",
       "      <td>1</td>\n",
       "    </tr>\n",
       "    <tr>\n",
       "      <th>3</th>\n",
       "      <td>66685450</td>\n",
       "      <td>1</td>\n",
       "    </tr>\n",
       "    <tr>\n",
       "      <th>4</th>\n",
       "      <td>78758296</td>\n",
       "      <td>1</td>\n",
       "    </tr>\n",
       "    <tr>\n",
       "      <th>...</th>\n",
       "      <td>...</td>\n",
       "      <td>...</td>\n",
       "    </tr>\n",
       "    <tr>\n",
       "      <th>498</th>\n",
       "      <td>4243832526</td>\n",
       "      <td>1</td>\n",
       "    </tr>\n",
       "    <tr>\n",
       "      <th>499</th>\n",
       "      <td>4256040402</td>\n",
       "      <td>7</td>\n",
       "    </tr>\n",
       "    <tr>\n",
       "      <th>500</th>\n",
       "      <td>4259830713</td>\n",
       "      <td>1</td>\n",
       "    </tr>\n",
       "    <tr>\n",
       "      <th>501</th>\n",
       "      <td>4266935830</td>\n",
       "      <td>1</td>\n",
       "    </tr>\n",
       "    <tr>\n",
       "      <th>502</th>\n",
       "      <td>4278982564</td>\n",
       "      <td>1</td>\n",
       "    </tr>\n",
       "  </tbody>\n",
       "</table>\n",
       "<p>503 rows × 2 columns</p>\n",
       "</div>"
      ],
      "text/plain": [
       "     visitor_id  orders\n",
       "0       8300375       1\n",
       "1      11685486       1\n",
       "2      54447517       1\n",
       "3      66685450       1\n",
       "4      78758296       1\n",
       "..          ...     ...\n",
       "498  4243832526       1\n",
       "499  4256040402       7\n",
       "500  4259830713       1\n",
       "501  4266935830       1\n",
       "502  4278982564       1\n",
       "\n",
       "[503 rows x 2 columns]"
      ]
     },
     "execution_count": 127,
     "metadata": {},
     "output_type": "execute_result"
    }
   ],
   "source": [
    "orders_by_users_a"
   ]
  },
  {
   "cell_type": "markdown",
   "metadata": {},
   "source": [
    "До этого мы выяснили, что не более 5 процентов пользователей совершают 2 и более заказов и что не более 5 процентов совершают заказы дороже 28 000. Таким образом, возьмем для анализа пользователей, которые совершили 2 или менее заказов и которые совершили заказы на 30 и менее тысяч рублей."
   ]
  },
  {
   "cell_type": "code",
   "execution_count": 128,
   "metadata": {},
   "outputs": [
    {
     "data": {
      "text/plain": [
       "1099     148427295\n",
       "18       199603092\n",
       "928      204675465\n",
       "23       237748145\n",
       "37       249864742\n",
       "           ...    \n",
       "940     4003628586\n",
       "627     4120364173\n",
       "743     4133034833\n",
       "499     4256040402\n",
       "662     4266935830\n",
       "Name: visitor_id, Length: 68, dtype: int64"
      ]
     },
     "execution_count": 128,
     "metadata": {},
     "output_type": "execute_result"
    }
   ],
   "source": [
    "users_many_orders = pd.concat(\n",
    "    [\n",
    "        orders_by_users_a[orders_by_users_a['orders'] > 2]['visitor_id'],\n",
    "        orders_by_users_b[orders_by_users_b['orders'] > 2]['visitor_id']\n",
    "    ],\n",
    "    axis=0\n",
    ")\n",
    "users_with_expens = orders[orders['revenue'] > 30000]['visitor_id']\n",
    "\n",
    "abnormal_users = (\n",
    "    pd.concat([users_many_orders, users_with_expens], axis=0)\n",
    "    .drop_duplicates()\n",
    "    .sort_values()\n",
    ")\n",
    "abnormal_users"
   ]
  },
  {
   "cell_type": "markdown",
   "metadata": {},
   "source": [
    "У нас получилось 68 аномальных пользователей. Посчитаем статистическую значимость различий в конверсии между группами теста по очищенным данным."
   ]
  },
  {
   "cell_type": "code",
   "execution_count": 129,
   "metadata": {},
   "outputs": [],
   "source": [
    "# Уберем данные, visitor_id которых есть в таблице с аномальными пользователями\n",
    "sample_a_filtered = pd.concat(\n",
    "    [\n",
    "        orders_by_users_a[\n",
    "            np.logical_not(orders_by_users_a['visitor_id'].isin(abnormal_users))\n",
    "        ]['orders'],\n",
    "        pd.Series(\n",
    "            0,\n",
    "            index=np.arange(\n",
    "                data['visitors_per_day_a'].sum() - len(orders_by_users_a['orders'])\n",
    "            ),\n",
    "            name='orders'\n",
    "        ),\n",
    "    ],\n",
    "    axis=0\n",
    ")\n",
    "\n",
    "sample_b_filtered = pd.concat(\n",
    "    [\n",
    "        orders_by_users_b[\n",
    "            np.logical_not(orders_by_users_b['visitor_id'].isin(abnormal_users))\n",
    "        ]['orders'],\n",
    "        pd.Series(\n",
    "            0,\n",
    "            index=np.arange(\n",
    "                data['visitors_per_day_b'].sum() - len(orders_by_users_b['orders'])\n",
    "            ),\n",
    "            name='orders'\n",
    "        ),\n",
    "    ],\n",
    "    axis=0\n",
    ")"
   ]
  },
  {
   "cell_type": "markdown",
   "metadata": {},
   "source": [
    "**Нулевая гипотеза:** Вероятность того, что наблюдение из группы В превышает наблюдение из группы А равна 50% \n",
    "\n",
    "\n",
    "**Альтернативная гипотеза:** Вероятность того, что наблюдение из группы В превышает наблюдение из группы А не равна 50%"
   ]
  },
  {
   "cell_type": "code",
   "execution_count": 130,
   "metadata": {},
   "outputs": [
    {
     "name": "stdout",
     "output_type": "stream",
     "text": [
      "0.013\n",
      "0.172\n"
     ]
    }
   ],
   "source": [
    "print('{0:.3f}'.format(stats.mannwhitneyu(sample_a_filtered, sample_b_filtered)[1]))\n",
    "print('{0:.3f}'.format(sample_b_filtered.mean()/sample_a_filtered.mean()-1))"
   ]
  },
  {
   "cell_type": "markdown",
   "metadata": {},
   "source": [
    "**Вывод:** Результаты по конверсии практически не изменились. В конверсиях между группами есть статистически значимые различия. Относительный прирост конверсии для группы В составляет 17,2%"
   ]
  },
  {
   "cell_type": "markdown",
   "metadata": {},
   "source": [
    "### Статистическая значимость различий в среднем чеке заказа между группами по «очищенным» данным"
   ]
  },
  {
   "cell_type": "markdown",
   "metadata": {},
   "source": [
    "**Нулевая гипотеза:** Вероятность того, что наблюдение из группы В отлично от наблюдений из группы А равна 50% \n",
    "\n",
    "\n",
    "**Альтернативная гипотеза:** Вероятность того, что наблюдение из группы В отлично от наблюдений из группы А не равна 50%"
   ]
  },
  {
   "cell_type": "code",
   "execution_count": 131,
   "metadata": {},
   "outputs": [
    {
     "name": "stdout",
     "output_type": "stream",
     "text": [
      "0.720\n",
      "-0.023\n"
     ]
    }
   ],
   "source": [
    "\n",
    "print(\n",
    "    '{0:.3f}'.format(\n",
    "        stats.mannwhitneyu(\n",
    "            orders[\n",
    "                np.logical_and(\n",
    "                    orders['group'] == 'A',\n",
    "                    np.logical_not(orders['visitor_id'].isin(abnormal_users)),\n",
    "                )\n",
    "            ]['revenue'],\n",
    "            orders[\n",
    "                np.logical_and(\n",
    "                    orders['group'] == 'B',\n",
    "                    np.logical_not(orders['visitor_id'].isin(abnormal_users)),\n",
    "                )\n",
    "            ]['revenue'],\n",
    "        )[1]\n",
    "    )\n",
    ")\n",
    "\n",
    "print(\n",
    "    \"{0:.3f}\".format(\n",
    "        orders[\n",
    "            np.logical_and(\n",
    "                orders['group'] == 'B',\n",
    "                np.logical_not(orders['visitor_id'].isin(abnormal_users)),\n",
    "            )\n",
    "        ]['revenue'].mean()\n",
    "        / orders[\n",
    "            np.logical_and(\n",
    "                orders['group'] == 'A',\n",
    "                np.logical_not(orders['visitor_id'].isin(abnormal_users)),\n",
    "            )\n",
    "        ]['revenue'].mean()\n",
    "        - 1\n",
    "    )\n",
    ")"
   ]
  },
  {
   "cell_type": "markdown",
   "metadata": {},
   "source": [
    "**Вывод:** p-value больше 0,05 - статистически значимых различий между средними чеками в разных группах нет.\n"
   ]
  },
  {
   "cell_type": "markdown",
   "metadata": {},
   "source": [
    "## Вывод"
   ]
  },
  {
   "cell_type": "markdown",
   "metadata": {},
   "source": [
    " - В ходе предобработки данных было выявлено, что количество пользователей в разных группах не совпадает, а также что некоторые пользователи были участниками обеих групп исследования, однако их процент небольшой, поэтому это не повлияло на результат исследования.\n",
    " - Из 8 гипотез в результате применения фреймоворков ICE и RICE были выявлены наиболее приоритетные: гипотезы с индексами 0, 8, 7, 2 и 0.\n",
    " - В ходе анализа кумулятивной выручки, среднего чека и конверсии лидирующей по всем трем показателям оказалось группа В. Однако на графиках присутствовали скачки, которые указывали на наличие выбросов в данных.\n",
    " - Анализ А/В-теста показал, что в выборках есть статистически значимое различие по конверсии между группами как по сырым данным, так и после фильтрации аномалий. Средняя конверсия группы В по \"очищенным\" данным выше примерно на 17%.\n",
    " - По среднему чеку статистически значимых различий нет.\n",
    " - Можно предположить, что с победой группы В у продукта увеличится количество заказов, так как тест показал, что средний чек в этой группе не упал, а конверсия выросла.\n",
    " - Тестирование можно признать успешным и остановить."
   ]
  }
 ],
 "metadata": {
  "ExecuteTimeLog": [
   {
    "duration": 615,
    "start_time": "2022-02-09T08:49:08.659Z"
   },
   {
    "duration": 19,
    "start_time": "2022-02-09T08:49:21.304Z"
   },
   {
    "duration": 27,
    "start_time": "2022-02-09T08:49:25.920Z"
   },
   {
    "duration": 20,
    "start_time": "2022-02-09T08:49:31.622Z"
   },
   {
    "duration": 2,
    "start_time": "2022-02-09T08:49:50.345Z"
   },
   {
    "duration": 20,
    "start_time": "2022-02-09T08:49:50.850Z"
   },
   {
    "duration": 396,
    "start_time": "2022-02-09T08:53:40.517Z"
   },
   {
    "duration": 3,
    "start_time": "2022-02-09T08:55:41.892Z"
   },
   {
    "duration": 20,
    "start_time": "2022-02-09T08:55:45.200Z"
   },
   {
    "duration": 7,
    "start_time": "2022-02-09T08:55:53.977Z"
   },
   {
    "duration": 2,
    "start_time": "2022-02-09T08:55:59.223Z"
   },
   {
    "duration": 2,
    "start_time": "2022-02-09T08:56:38.255Z"
   },
   {
    "duration": 12,
    "start_time": "2022-02-09T08:57:12.655Z"
   },
   {
    "duration": 10,
    "start_time": "2022-02-09T08:57:51.129Z"
   },
   {
    "duration": 10,
    "start_time": "2022-02-09T09:00:23.957Z"
   },
   {
    "duration": 11,
    "start_time": "2022-02-09T09:00:44.718Z"
   },
   {
    "duration": 4824,
    "start_time": "2022-02-09T09:04:39.799Z"
   },
   {
    "duration": 374,
    "start_time": "2022-02-09T09:04:50.394Z"
   },
   {
    "duration": 5,
    "start_time": "2022-02-09T09:05:01.319Z"
   },
   {
    "duration": 8060,
    "start_time": "2022-02-09T09:05:08.725Z"
   },
   {
    "duration": 4,
    "start_time": "2022-02-09T09:05:18.257Z"
   },
   {
    "duration": 375,
    "start_time": "2022-02-09T09:05:32.022Z"
   },
   {
    "duration": 323,
    "start_time": "2022-02-09T09:05:39.276Z"
   },
   {
    "duration": 4360,
    "start_time": "2022-02-09T09:05:45.626Z"
   },
   {
    "duration": 5,
    "start_time": "2022-02-09T09:05:51.302Z"
   },
   {
    "duration": 5,
    "start_time": "2022-02-09T09:06:17.100Z"
   },
   {
    "duration": 2,
    "start_time": "2022-02-09T09:06:45.091Z"
   },
   {
    "duration": 19,
    "start_time": "2022-02-09T09:06:45.301Z"
   },
   {
    "duration": 3,
    "start_time": "2022-02-09T09:06:45.646Z"
   },
   {
    "duration": 10,
    "start_time": "2022-02-09T09:06:46.204Z"
   },
   {
    "duration": 11,
    "start_time": "2022-02-09T09:06:52.891Z"
   },
   {
    "duration": 5,
    "start_time": "2022-02-09T09:06:53.847Z"
   },
   {
    "duration": 120,
    "start_time": "2022-02-09T09:07:00.403Z"
   },
   {
    "duration": 4,
    "start_time": "2022-02-09T09:07:03.784Z"
   },
   {
    "duration": 4,
    "start_time": "2022-02-09T09:07:11.852Z"
   },
   {
    "duration": 3,
    "start_time": "2022-02-09T09:07:15.994Z"
   },
   {
    "duration": 349,
    "start_time": "2022-02-09T09:08:08.995Z"
   },
   {
    "duration": 326,
    "start_time": "2022-02-09T09:08:18.586Z"
   },
   {
    "duration": 3,
    "start_time": "2022-02-09T09:08:25.550Z"
   },
   {
    "duration": 4,
    "start_time": "2022-02-09T09:08:34.209Z"
   },
   {
    "duration": 4,
    "start_time": "2022-02-09T09:08:53.087Z"
   },
   {
    "duration": 36,
    "start_time": "2022-02-09T09:11:35.195Z"
   },
   {
    "duration": 49,
    "start_time": "2022-02-09T09:11:50.156Z"
   },
   {
    "duration": 11,
    "start_time": "2022-02-09T09:11:53.152Z"
   },
   {
    "duration": 6,
    "start_time": "2022-02-09T09:12:29.985Z"
   },
   {
    "duration": 6,
    "start_time": "2022-02-09T09:13:03.285Z"
   },
   {
    "duration": 5,
    "start_time": "2022-02-09T09:14:03.835Z"
   },
   {
    "duration": 6,
    "start_time": "2022-02-09T09:14:05.349Z"
   },
   {
    "duration": 3,
    "start_time": "2022-02-09T09:14:28.154Z"
   },
   {
    "duration": 10,
    "start_time": "2022-02-09T09:15:06.037Z"
   },
   {
    "duration": 5,
    "start_time": "2022-02-09T09:15:06.447Z"
   },
   {
    "duration": 6,
    "start_time": "2022-02-09T09:15:06.907Z"
   },
   {
    "duration": 4,
    "start_time": "2022-02-09T09:15:07.737Z"
   },
   {
    "duration": 3,
    "start_time": "2022-02-09T09:15:49.967Z"
   },
   {
    "duration": 11,
    "start_time": "2022-02-09T09:15:52.012Z"
   },
   {
    "duration": 7,
    "start_time": "2022-02-09T09:15:55.078Z"
   },
   {
    "duration": 51,
    "start_time": "2022-02-09T09:15:59.209Z"
   },
   {
    "duration": 7,
    "start_time": "2022-02-09T09:15:59.900Z"
   },
   {
    "duration": 6,
    "start_time": "2022-02-09T09:16:00.668Z"
   },
   {
    "duration": 5,
    "start_time": "2022-02-09T09:16:01.160Z"
   },
   {
    "duration": 5,
    "start_time": "2022-02-09T09:16:02.364Z"
   },
   {
    "duration": 3,
    "start_time": "2022-02-09T09:16:03.032Z"
   },
   {
    "duration": 9,
    "start_time": "2022-02-09T09:16:06.275Z"
   },
   {
    "duration": 6,
    "start_time": "2022-02-09T09:16:06.768Z"
   },
   {
    "duration": 6,
    "start_time": "2022-02-09T09:16:31.600Z"
   },
   {
    "duration": 5,
    "start_time": "2022-02-09T09:16:42.286Z"
   },
   {
    "duration": 5,
    "start_time": "2022-02-09T09:16:59.434Z"
   },
   {
    "duration": 3,
    "start_time": "2022-02-09T09:17:47.656Z"
   },
   {
    "duration": 5,
    "start_time": "2022-02-09T09:17:49.705Z"
   },
   {
    "duration": 4,
    "start_time": "2022-02-09T09:18:03.423Z"
   },
   {
    "duration": 6,
    "start_time": "2022-02-09T09:18:04.728Z"
   },
   {
    "duration": 3,
    "start_time": "2022-02-09T09:18:17.771Z"
   },
   {
    "duration": 6,
    "start_time": "2022-02-09T09:18:19.074Z"
   },
   {
    "duration": 5,
    "start_time": "2022-02-09T09:18:19.599Z"
   },
   {
    "duration": 5,
    "start_time": "2022-02-09T09:18:20.314Z"
   },
   {
    "duration": 4,
    "start_time": "2022-02-09T09:18:21.190Z"
   },
   {
    "duration": 6,
    "start_time": "2022-02-09T09:19:45.800Z"
   },
   {
    "duration": 6,
    "start_time": "2022-02-09T09:19:59.579Z"
   },
   {
    "duration": 9,
    "start_time": "2022-02-09T09:24:15.342Z"
   },
   {
    "duration": 11,
    "start_time": "2022-02-09T09:24:38.975Z"
   },
   {
    "duration": 8,
    "start_time": "2022-02-09T09:24:46.205Z"
   },
   {
    "duration": 4,
    "start_time": "2022-02-09T09:25:12.439Z"
   },
   {
    "duration": 8,
    "start_time": "2022-02-09T09:25:24.025Z"
   },
   {
    "duration": 67,
    "start_time": "2022-02-09T09:30:21.018Z"
   },
   {
    "duration": 20,
    "start_time": "2022-02-09T09:30:21.298Z"
   },
   {
    "duration": 3,
    "start_time": "2022-02-09T09:30:21.452Z"
   },
   {
    "duration": 10,
    "start_time": "2022-02-09T09:30:21.809Z"
   },
   {
    "duration": 11,
    "start_time": "2022-02-09T09:30:22.180Z"
   },
   {
    "duration": 4,
    "start_time": "2022-02-09T09:30:22.419Z"
   },
   {
    "duration": 50,
    "start_time": "2022-02-09T09:30:22.794Z"
   },
   {
    "duration": 7,
    "start_time": "2022-02-09T09:30:23.536Z"
   },
   {
    "duration": 6,
    "start_time": "2022-02-09T09:30:23.980Z"
   },
   {
    "duration": 6,
    "start_time": "2022-02-09T09:30:24.395Z"
   },
   {
    "duration": 5,
    "start_time": "2022-02-09T09:30:25.291Z"
   },
   {
    "duration": 3,
    "start_time": "2022-02-09T09:30:25.514Z"
   },
   {
    "duration": 7,
    "start_time": "2022-02-09T09:30:25.797Z"
   },
   {
    "duration": 9,
    "start_time": "2022-02-09T09:30:26.674Z"
   },
   {
    "duration": 3,
    "start_time": "2022-02-09T09:30:26.896Z"
   },
   {
    "duration": 6,
    "start_time": "2022-02-09T09:30:27.766Z"
   },
   {
    "duration": 7,
    "start_time": "2022-02-09T09:30:31.574Z"
   },
   {
    "duration": 5,
    "start_time": "2022-02-09T09:30:32.011Z"
   },
   {
    "duration": 5,
    "start_time": "2022-02-09T09:30:32.690Z"
   },
   {
    "duration": 4,
    "start_time": "2022-02-09T09:30:33.566Z"
   },
   {
    "duration": 3,
    "start_time": "2022-02-09T09:31:03.253Z"
   },
   {
    "duration": 3,
    "start_time": "2022-02-09T09:31:17.722Z"
   },
   {
    "duration": 4,
    "start_time": "2022-02-09T09:31:21.232Z"
   },
   {
    "duration": 7,
    "start_time": "2022-02-09T09:33:08.106Z"
   },
   {
    "duration": 5,
    "start_time": "2022-02-09T09:33:08.271Z"
   },
   {
    "duration": 7,
    "start_time": "2022-02-09T09:33:08.439Z"
   },
   {
    "duration": 7,
    "start_time": "2022-02-09T09:33:09.789Z"
   },
   {
    "duration": 5,
    "start_time": "2022-02-09T09:34:51.674Z"
   },
   {
    "duration": 117,
    "start_time": "2022-02-09T09:43:58.123Z"
   },
   {
    "duration": 113,
    "start_time": "2022-02-09T09:44:04.915Z"
   },
   {
    "duration": 188,
    "start_time": "2022-02-09T09:44:08.832Z"
   },
   {
    "duration": 121,
    "start_time": "2022-02-09T09:44:18.336Z"
   },
   {
    "duration": 2,
    "start_time": "2022-02-09T10:18:46.686Z"
   },
   {
    "duration": 20,
    "start_time": "2022-02-09T10:18:47.065Z"
   },
   {
    "duration": 3,
    "start_time": "2022-02-09T10:18:47.492Z"
   },
   {
    "duration": 12,
    "start_time": "2022-02-09T10:18:48.260Z"
   },
   {
    "duration": 13,
    "start_time": "2022-02-09T10:18:48.908Z"
   },
   {
    "duration": 5,
    "start_time": "2022-02-09T10:18:49.463Z"
   },
   {
    "duration": 2100,
    "start_time": "2022-02-09T10:18:50.755Z"
   },
   {
    "duration": 6,
    "start_time": "2022-02-09T10:19:00.815Z"
   },
   {
    "duration": 6,
    "start_time": "2022-02-09T10:19:01.183Z"
   },
   {
    "duration": 6,
    "start_time": "2022-02-09T10:19:01.528Z"
   },
   {
    "duration": 5,
    "start_time": "2022-02-09T10:19:02.115Z"
   },
   {
    "duration": 2,
    "start_time": "2022-02-09T10:19:02.309Z"
   },
   {
    "duration": 6,
    "start_time": "2022-02-09T10:19:02.483Z"
   },
   {
    "duration": 9,
    "start_time": "2022-02-09T10:19:03.347Z"
   },
   {
    "duration": 4,
    "start_time": "2022-02-09T10:19:03.562Z"
   },
   {
    "duration": 7,
    "start_time": "2022-02-09T10:19:04.306Z"
   },
   {
    "duration": 6,
    "start_time": "2022-02-09T10:19:04.555Z"
   },
   {
    "duration": 6,
    "start_time": "2022-02-09T10:19:04.865Z"
   },
   {
    "duration": 4,
    "start_time": "2022-02-09T10:19:05.623Z"
   },
   {
    "duration": 644,
    "start_time": "2022-02-09T10:21:59.413Z"
   },
   {
    "duration": 2,
    "start_time": "2022-02-09T10:22:27.204Z"
   },
   {
    "duration": 20,
    "start_time": "2022-02-09T10:22:27.620Z"
   },
   {
    "duration": 3,
    "start_time": "2022-02-09T10:22:27.768Z"
   },
   {
    "duration": 9,
    "start_time": "2022-02-09T10:22:28.115Z"
   },
   {
    "duration": 10,
    "start_time": "2022-02-09T10:22:28.472Z"
   },
   {
    "duration": 4,
    "start_time": "2022-02-09T10:22:28.711Z"
   },
   {
    "duration": 61,
    "start_time": "2022-02-09T10:22:29.381Z"
   },
   {
    "duration": 7,
    "start_time": "2022-02-09T10:22:29.709Z"
   },
   {
    "duration": 5,
    "start_time": "2022-02-09T10:22:29.850Z"
   },
   {
    "duration": 5,
    "start_time": "2022-02-09T10:22:30.246Z"
   },
   {
    "duration": 5,
    "start_time": "2022-02-09T10:22:30.569Z"
   },
   {
    "duration": 2,
    "start_time": "2022-02-09T10:22:30.727Z"
   },
   {
    "duration": 8,
    "start_time": "2022-02-09T10:22:30.874Z"
   },
   {
    "duration": 10,
    "start_time": "2022-02-09T10:22:31.506Z"
   },
   {
    "duration": 4,
    "start_time": "2022-02-09T10:22:31.690Z"
   },
   {
    "duration": 7,
    "start_time": "2022-02-09T10:22:32.454Z"
   },
   {
    "duration": 5,
    "start_time": "2022-02-09T10:22:32.633Z"
   },
   {
    "duration": 5,
    "start_time": "2022-02-09T10:22:32.790Z"
   },
   {
    "duration": 3,
    "start_time": "2022-02-09T10:22:32.998Z"
   },
   {
    "duration": 207,
    "start_time": "2022-02-09T10:22:34.647Z"
   },
   {
    "duration": 192,
    "start_time": "2022-02-09T10:22:46.040Z"
   },
   {
    "duration": 191,
    "start_time": "2022-02-09T10:22:50.515Z"
   },
   {
    "duration": 198,
    "start_time": "2022-02-09T10:23:39.830Z"
   },
   {
    "duration": 137,
    "start_time": "2022-02-09T10:26:59.609Z"
   },
   {
    "duration": 150,
    "start_time": "2022-02-09T10:27:05.010Z"
   },
   {
    "duration": 144,
    "start_time": "2022-02-09T10:27:16.676Z"
   },
   {
    "duration": 6,
    "start_time": "2022-02-09T10:28:24.417Z"
   },
   {
    "duration": 11,
    "start_time": "2022-02-09T10:28:30.408Z"
   },
   {
    "duration": 3,
    "start_time": "2022-02-09T10:29:10.510Z"
   },
   {
    "duration": 20,
    "start_time": "2022-02-09T10:29:10.962Z"
   },
   {
    "duration": 3,
    "start_time": "2022-02-09T10:29:11.121Z"
   },
   {
    "duration": 10,
    "start_time": "2022-02-09T10:29:11.900Z"
   },
   {
    "duration": 11,
    "start_time": "2022-02-09T10:29:12.152Z"
   },
   {
    "duration": 5,
    "start_time": "2022-02-09T10:29:12.320Z"
   },
   {
    "duration": 48,
    "start_time": "2022-02-09T10:29:12.574Z"
   },
   {
    "duration": 7,
    "start_time": "2022-02-09T10:29:12.738Z"
   },
   {
    "duration": 6,
    "start_time": "2022-02-09T10:29:12.819Z"
   },
   {
    "duration": 5,
    "start_time": "2022-02-09T10:29:13.098Z"
   },
   {
    "duration": 5,
    "start_time": "2022-02-09T10:29:13.445Z"
   },
   {
    "duration": 2,
    "start_time": "2022-02-09T10:29:13.633Z"
   },
   {
    "duration": 6,
    "start_time": "2022-02-09T10:29:13.823Z"
   },
   {
    "duration": 9,
    "start_time": "2022-02-09T10:29:14.150Z"
   },
   {
    "duration": 3,
    "start_time": "2022-02-09T10:29:14.298Z"
   },
   {
    "duration": 6,
    "start_time": "2022-02-09T10:29:14.986Z"
   },
   {
    "duration": 5,
    "start_time": "2022-02-09T10:29:15.170Z"
   },
   {
    "duration": 5,
    "start_time": "2022-02-09T10:29:15.342Z"
   },
   {
    "duration": 4,
    "start_time": "2022-02-09T10:29:15.679Z"
   },
   {
    "duration": 186,
    "start_time": "2022-02-09T10:29:16.775Z"
   },
   {
    "duration": 186,
    "start_time": "2022-02-09T10:29:18.482Z"
   },
   {
    "duration": 188,
    "start_time": "2022-02-09T10:29:19.154Z"
   },
   {
    "duration": 137,
    "start_time": "2022-02-09T10:29:20.596Z"
   },
   {
    "duration": 17,
    "start_time": "2022-02-09T10:31:35.766Z"
   },
   {
    "duration": 8996,
    "start_time": "2022-02-09T10:32:03.081Z"
   },
   {
    "duration": 6,
    "start_time": "2022-02-09T10:32:33.316Z"
   },
   {
    "duration": 12,
    "start_time": "2022-02-09T10:33:53.561Z"
   },
   {
    "duration": 6,
    "start_time": "2022-02-09T10:33:58.517Z"
   },
   {
    "duration": 529,
    "start_time": "2022-02-09T10:34:15.609Z"
   },
   {
    "duration": 6,
    "start_time": "2022-02-09T10:34:21.544Z"
   },
   {
    "duration": 186,
    "start_time": "2022-02-09T10:34:22.130Z"
   },
   {
    "duration": 166,
    "start_time": "2022-02-09T10:34:29.833Z"
   },
   {
    "duration": 280,
    "start_time": "2022-02-09T10:35:53.154Z"
   },
   {
    "duration": 2,
    "start_time": "2022-02-09T10:36:48.469Z"
   },
   {
    "duration": 20,
    "start_time": "2022-02-09T10:36:48.911Z"
   },
   {
    "duration": 3,
    "start_time": "2022-02-09T10:36:49.333Z"
   },
   {
    "duration": 10,
    "start_time": "2022-02-09T10:36:50.145Z"
   },
   {
    "duration": 11,
    "start_time": "2022-02-09T10:36:50.638Z"
   },
   {
    "duration": 4,
    "start_time": "2022-02-09T10:36:51.712Z"
   },
   {
    "duration": 62,
    "start_time": "2022-02-09T10:36:52.812Z"
   },
   {
    "duration": 8,
    "start_time": "2022-02-09T10:36:53.919Z"
   },
   {
    "duration": 5,
    "start_time": "2022-02-09T10:36:54.397Z"
   },
   {
    "duration": 5,
    "start_time": "2022-02-09T10:36:54.796Z"
   },
   {
    "duration": 5,
    "start_time": "2022-02-09T10:36:55.400Z"
   },
   {
    "duration": 3,
    "start_time": "2022-02-09T10:36:55.611Z"
   },
   {
    "duration": 6,
    "start_time": "2022-02-09T10:36:56.091Z"
   },
   {
    "duration": 8,
    "start_time": "2022-02-09T10:36:58.303Z"
   },
   {
    "duration": 3,
    "start_time": "2022-02-09T10:36:59.504Z"
   },
   {
    "duration": 384,
    "start_time": "2022-02-09T10:37:25.633Z"
   },
   {
    "duration": 4,
    "start_time": "2022-02-09T10:37:29.220Z"
   },
   {
    "duration": 3,
    "start_time": "2022-02-09T10:37:55.566Z"
   },
   {
    "duration": 7,
    "start_time": "2022-02-09T10:38:19.570Z"
   },
   {
    "duration": 5,
    "start_time": "2022-02-09T10:38:19.698Z"
   },
   {
    "duration": 6,
    "start_time": "2022-02-09T10:38:19.913Z"
   },
   {
    "duration": 5,
    "start_time": "2022-02-09T10:38:20.152Z"
   },
   {
    "duration": 200,
    "start_time": "2022-02-09T10:38:20.653Z"
   },
   {
    "duration": 155,
    "start_time": "2022-02-09T10:38:22.300Z"
   },
   {
    "duration": 15,
    "start_time": "2022-02-09T10:38:22.628Z"
   },
   {
    "duration": 7,
    "start_time": "2022-02-09T10:38:24.081Z"
   },
   {
    "duration": 282,
    "start_time": "2022-02-09T10:38:25.574Z"
   },
   {
    "duration": 209,
    "start_time": "2022-02-09T10:39:46.947Z"
   },
   {
    "duration": 229,
    "start_time": "2022-02-09T10:39:47.159Z"
   },
   {
    "duration": 11,
    "start_time": "2022-02-09T10:39:47.390Z"
   },
   {
    "duration": 11,
    "start_time": "2022-02-09T10:39:47.403Z"
   },
   {
    "duration": 300,
    "start_time": "2022-02-09T10:39:47.416Z"
   },
   {
    "duration": 579,
    "start_time": "2022-02-09T10:43:12.975Z"
   },
   {
    "duration": 277,
    "start_time": "2022-02-09T10:43:24.063Z"
   },
   {
    "duration": 217,
    "start_time": "2022-02-09T10:43:36.710Z"
   },
   {
    "duration": 218,
    "start_time": "2022-02-09T10:43:43.058Z"
   },
   {
    "duration": 6,
    "start_time": "2022-02-09T10:43:46.279Z"
   },
   {
    "duration": 221,
    "start_time": "2022-02-09T10:43:46.287Z"
   },
   {
    "duration": 233,
    "start_time": "2022-02-09T10:43:49.607Z"
   },
   {
    "duration": 6,
    "start_time": "2022-02-09T10:51:01.349Z"
   },
   {
    "duration": 12,
    "start_time": "2022-02-09T10:51:05.687Z"
   },
   {
    "duration": 12,
    "start_time": "2022-02-09T10:51:39.998Z"
   },
   {
    "duration": 10,
    "start_time": "2022-02-09T10:52:20.267Z"
   },
   {
    "duration": 201,
    "start_time": "2022-02-09T10:55:03.331Z"
   },
   {
    "duration": 215,
    "start_time": "2022-02-09T10:55:24.039Z"
   },
   {
    "duration": 156,
    "start_time": "2022-02-09T10:55:29.596Z"
   },
   {
    "duration": 208,
    "start_time": "2022-02-09T10:55:44.355Z"
   },
   {
    "duration": 206,
    "start_time": "2022-02-09T10:55:56.613Z"
   },
   {
    "duration": 214,
    "start_time": "2022-02-09T10:56:38.471Z"
   },
   {
    "duration": 305,
    "start_time": "2022-02-09T10:56:49.058Z"
   },
   {
    "duration": 220,
    "start_time": "2022-02-09T10:57:02.074Z"
   },
   {
    "duration": 207,
    "start_time": "2022-02-09T10:57:15.364Z"
   },
   {
    "duration": 613,
    "start_time": "2022-02-09T10:57:53.028Z"
   },
   {
    "duration": 329,
    "start_time": "2022-02-09T10:57:59.533Z"
   },
   {
    "duration": 2,
    "start_time": "2022-02-09T10:58:18.559Z"
   },
   {
    "duration": 20,
    "start_time": "2022-02-09T10:58:18.647Z"
   },
   {
    "duration": 2,
    "start_time": "2022-02-09T10:58:18.730Z"
   },
   {
    "duration": 10,
    "start_time": "2022-02-09T10:58:18.976Z"
   },
   {
    "duration": 11,
    "start_time": "2022-02-09T10:58:19.232Z"
   },
   {
    "duration": 4,
    "start_time": "2022-02-09T10:58:19.392Z"
   },
   {
    "duration": 100,
    "start_time": "2022-02-09T10:58:19.646Z"
   },
   {
    "duration": 8,
    "start_time": "2022-02-09T10:58:19.816Z"
   },
   {
    "duration": 6,
    "start_time": "2022-02-09T10:58:19.898Z"
   },
   {
    "duration": 6,
    "start_time": "2022-02-09T10:58:19.979Z"
   },
   {
    "duration": 5,
    "start_time": "2022-02-09T10:58:20.148Z"
   },
   {
    "duration": 2,
    "start_time": "2022-02-09T10:58:20.235Z"
   },
   {
    "duration": 6,
    "start_time": "2022-02-09T10:58:20.316Z"
   },
   {
    "duration": 9,
    "start_time": "2022-02-09T10:58:20.482Z"
   },
   {
    "duration": 3,
    "start_time": "2022-02-09T10:58:20.563Z"
   },
   {
    "duration": 4,
    "start_time": "2022-02-09T10:58:20.733Z"
   },
   {
    "duration": 7,
    "start_time": "2022-02-09T10:58:20.985Z"
   },
   {
    "duration": 5,
    "start_time": "2022-02-09T10:58:21.066Z"
   },
   {
    "duration": 4,
    "start_time": "2022-02-09T10:58:21.151Z"
   },
   {
    "duration": 4,
    "start_time": "2022-02-09T10:58:21.323Z"
   },
   {
    "duration": 193,
    "start_time": "2022-02-09T10:58:21.882Z"
   },
   {
    "duration": 145,
    "start_time": "2022-02-09T10:58:22.076Z"
   },
   {
    "duration": 10,
    "start_time": "2022-02-09T10:58:22.227Z"
   },
   {
    "duration": 6,
    "start_time": "2022-02-09T10:58:22.275Z"
   },
   {
    "duration": 220,
    "start_time": "2022-02-09T10:58:22.437Z"
   },
   {
    "duration": 274,
    "start_time": "2022-02-09T10:58:23.046Z"
   },
   {
    "duration": 346,
    "start_time": "2022-02-09T10:58:26.995Z"
   },
   {
    "duration": 341,
    "start_time": "2022-02-09T11:00:44.019Z"
   },
   {
    "duration": 295,
    "start_time": "2022-02-09T11:01:19.235Z"
   },
   {
    "duration": 300,
    "start_time": "2022-02-09T11:02:15.578Z"
   },
   {
    "duration": 287,
    "start_time": "2022-02-09T11:03:12.572Z"
   },
   {
    "duration": 324,
    "start_time": "2022-02-09T11:03:20.239Z"
   },
   {
    "duration": 6,
    "start_time": "2022-02-09T11:06:14.856Z"
   },
   {
    "duration": 214,
    "start_time": "2022-02-09T11:07:44.400Z"
   },
   {
    "duration": 189,
    "start_time": "2022-02-09T11:08:25.530Z"
   },
   {
    "duration": 195,
    "start_time": "2022-02-09T11:08:35.938Z"
   },
   {
    "duration": 201,
    "start_time": "2022-02-09T11:08:51.801Z"
   },
   {
    "duration": 215,
    "start_time": "2022-02-09T11:08:55.252Z"
   },
   {
    "duration": 3,
    "start_time": "2022-02-09T11:45:31.085Z"
   },
   {
    "duration": 20,
    "start_time": "2022-02-09T11:45:31.202Z"
   },
   {
    "duration": 3,
    "start_time": "2022-02-09T11:45:31.311Z"
   },
   {
    "duration": 10,
    "start_time": "2022-02-09T11:45:31.789Z"
   },
   {
    "duration": 11,
    "start_time": "2022-02-09T11:45:32.226Z"
   },
   {
    "duration": 5,
    "start_time": "2022-02-09T11:45:32.680Z"
   },
   {
    "duration": 48,
    "start_time": "2022-02-09T11:45:33.056Z"
   },
   {
    "duration": 7,
    "start_time": "2022-02-09T11:45:33.320Z"
   },
   {
    "duration": 5,
    "start_time": "2022-02-09T11:45:33.432Z"
   },
   {
    "duration": 5,
    "start_time": "2022-02-09T11:45:33.577Z"
   },
   {
    "duration": 5,
    "start_time": "2022-02-09T11:45:33.836Z"
   },
   {
    "duration": 3,
    "start_time": "2022-02-09T11:45:33.972Z"
   },
   {
    "duration": 7,
    "start_time": "2022-02-09T11:45:34.105Z"
   },
   {
    "duration": 9,
    "start_time": "2022-02-09T11:45:34.368Z"
   },
   {
    "duration": 4,
    "start_time": "2022-02-09T11:45:34.515Z"
   },
   {
    "duration": 6,
    "start_time": "2022-02-09T11:45:34.809Z"
   },
   {
    "duration": 7,
    "start_time": "2022-02-09T11:45:35.209Z"
   },
   {
    "duration": 6,
    "start_time": "2022-02-09T11:45:35.341Z"
   },
   {
    "duration": 5,
    "start_time": "2022-02-09T11:45:35.472Z"
   },
   {
    "duration": 4,
    "start_time": "2022-02-09T11:45:35.737Z"
   },
   {
    "duration": 196,
    "start_time": "2022-02-09T11:45:36.125Z"
   },
   {
    "duration": 150,
    "start_time": "2022-02-09T11:45:36.323Z"
   },
   {
    "duration": 10,
    "start_time": "2022-02-09T11:45:36.474Z"
   },
   {
    "duration": 8,
    "start_time": "2022-02-09T11:45:36.576Z"
   },
   {
    "duration": 219,
    "start_time": "2022-02-09T11:45:36.717Z"
   },
   {
    "duration": 214,
    "start_time": "2022-02-09T11:45:37.296Z"
   },
   {
    "duration": 421,
    "start_time": "2022-02-09T11:45:38.360Z"
   },
   {
    "duration": 6,
    "start_time": "2022-02-09T11:45:40.332Z"
   },
   {
    "duration": 207,
    "start_time": "2022-02-09T11:45:40.857Z"
   },
   {
    "duration": 7,
    "start_time": "2022-02-09T11:45:43.149Z"
   },
   {
    "duration": 12,
    "start_time": "2022-02-09T11:45:51.263Z"
   },
   {
    "duration": 11,
    "start_time": "2022-02-09T11:45:55.904Z"
   },
   {
    "duration": 12,
    "start_time": "2022-02-09T11:46:59.254Z"
   },
   {
    "duration": 200,
    "start_time": "2022-02-09T11:48:09.765Z"
   },
   {
    "duration": 342,
    "start_time": "2022-02-09T11:49:17.703Z"
   },
   {
    "duration": 7,
    "start_time": "2022-02-09T11:56:42.100Z"
   },
   {
    "duration": 5,
    "start_time": "2022-02-09T11:57:04.332Z"
   },
   {
    "duration": 10,
    "start_time": "2022-02-09T11:57:23.755Z"
   },
   {
    "duration": 10,
    "start_time": "2022-02-09T11:57:47.160Z"
   },
   {
    "duration": 10,
    "start_time": "2022-02-09T11:58:04.193Z"
   },
   {
    "duration": 9,
    "start_time": "2022-02-09T11:58:07.934Z"
   },
   {
    "duration": 10,
    "start_time": "2022-02-09T11:58:10.667Z"
   },
   {
    "duration": 326,
    "start_time": "2022-02-09T11:58:44.812Z"
   },
   {
    "duration": 10,
    "start_time": "2022-02-09T11:58:49.339Z"
   },
   {
    "duration": 238,
    "start_time": "2022-02-09T12:00:38.893Z"
   },
   {
    "duration": 288,
    "start_time": "2022-02-09T12:00:58.646Z"
   },
   {
    "duration": 7,
    "start_time": "2022-02-09T12:03:05.992Z"
   },
   {
    "duration": 10,
    "start_time": "2022-02-09T12:03:09.656Z"
   },
   {
    "duration": 286,
    "start_time": "2022-02-09T12:03:10.656Z"
   },
   {
    "duration": 8,
    "start_time": "2022-02-09T12:03:35.815Z"
   },
   {
    "duration": 10,
    "start_time": "2022-02-09T12:03:36.161Z"
   },
   {
    "duration": 284,
    "start_time": "2022-02-09T12:03:36.647Z"
   },
   {
    "duration": 3,
    "start_time": "2022-02-09T12:04:09.067Z"
   },
   {
    "duration": 20,
    "start_time": "2022-02-09T12:04:09.611Z"
   },
   {
    "duration": 3,
    "start_time": "2022-02-09T12:04:10.008Z"
   },
   {
    "duration": 9,
    "start_time": "2022-02-09T12:04:10.691Z"
   },
   {
    "duration": 11,
    "start_time": "2022-02-09T12:04:11.251Z"
   },
   {
    "duration": 5,
    "start_time": "2022-02-09T12:04:11.570Z"
   },
   {
    "duration": 99,
    "start_time": "2022-02-09T12:04:12.083Z"
   },
   {
    "duration": 7,
    "start_time": "2022-02-09T12:04:12.395Z"
   },
   {
    "duration": 6,
    "start_time": "2022-02-09T12:04:12.626Z"
   },
   {
    "duration": 5,
    "start_time": "2022-02-09T12:04:12.851Z"
   },
   {
    "duration": 4,
    "start_time": "2022-02-09T12:04:13.226Z"
   },
   {
    "duration": 2,
    "start_time": "2022-02-09T12:04:13.400Z"
   },
   {
    "duration": 6,
    "start_time": "2022-02-09T12:04:13.575Z"
   },
   {
    "duration": 8,
    "start_time": "2022-02-09T12:04:13.995Z"
   },
   {
    "duration": 3,
    "start_time": "2022-02-09T12:04:14.202Z"
   },
   {
    "duration": 4,
    "start_time": "2022-02-09T12:04:14.586Z"
   },
   {
    "duration": 6,
    "start_time": "2022-02-09T12:04:15.133Z"
   },
   {
    "duration": 5,
    "start_time": "2022-02-09T12:04:15.337Z"
   },
   {
    "duration": 5,
    "start_time": "2022-02-09T12:04:15.525Z"
   },
   {
    "duration": 4,
    "start_time": "2022-02-09T12:04:15.890Z"
   },
   {
    "duration": 192,
    "start_time": "2022-02-09T12:04:16.430Z"
   },
   {
    "duration": 146,
    "start_time": "2022-02-09T12:04:16.629Z"
   },
   {
    "duration": 11,
    "start_time": "2022-02-09T12:04:17.207Z"
   },
   {
    "duration": 7,
    "start_time": "2022-02-09T12:04:17.536Z"
   },
   {
    "duration": 224,
    "start_time": "2022-02-09T12:04:17.759Z"
   },
   {
    "duration": 217,
    "start_time": "2022-02-09T12:04:19.050Z"
   },
   {
    "duration": 288,
    "start_time": "2022-02-09T12:04:21.074Z"
   },
   {
    "duration": 6,
    "start_time": "2022-02-09T12:04:22.814Z"
   },
   {
    "duration": 209,
    "start_time": "2022-02-09T12:04:23.282Z"
   },
   {
    "duration": 12,
    "start_time": "2022-02-09T12:04:25.288Z"
   },
   {
    "duration": 298,
    "start_time": "2022-02-09T12:04:25.879Z"
   },
   {
    "duration": 7,
    "start_time": "2022-02-09T12:04:28.483Z"
   },
   {
    "duration": 10,
    "start_time": "2022-02-09T12:04:29.028Z"
   },
   {
    "duration": 265,
    "start_time": "2022-02-09T12:04:30.366Z"
   },
   {
    "duration": 4,
    "start_time": "2022-02-09T12:05:00.822Z"
   },
   {
    "duration": 4,
    "start_time": "2022-02-09T12:05:08.331Z"
   },
   {
    "duration": 4,
    "start_time": "2022-02-09T12:06:09.690Z"
   },
   {
    "duration": 4,
    "start_time": "2022-02-09T12:06:12.103Z"
   },
   {
    "duration": 3,
    "start_time": "2022-02-09T12:08:20.099Z"
   },
   {
    "duration": 4,
    "start_time": "2022-02-09T12:08:22.855Z"
   },
   {
    "duration": 4,
    "start_time": "2022-02-09T12:08:25.246Z"
   },
   {
    "duration": 4,
    "start_time": "2022-02-09T12:08:27.426Z"
   },
   {
    "duration": 4,
    "start_time": "2022-02-09T12:08:29.794Z"
   },
   {
    "duration": 301,
    "start_time": "2022-02-09T12:09:44.006Z"
   },
   {
    "duration": 282,
    "start_time": "2022-02-09T12:09:52.861Z"
   },
   {
    "duration": 10,
    "start_time": "2022-02-09T12:10:43.255Z"
   },
   {
    "duration": 281,
    "start_time": "2022-02-09T12:10:55.179Z"
   },
   {
    "duration": -9736,
    "start_time": "2022-02-09T12:11:46.962Z"
   },
   {
    "duration": -9740,
    "start_time": "2022-02-09T12:11:46.968Z"
   },
   {
    "duration": -9744,
    "start_time": "2022-02-09T12:11:46.973Z"
   },
   {
    "duration": -9747,
    "start_time": "2022-02-09T12:11:46.977Z"
   },
   {
    "duration": -9757,
    "start_time": "2022-02-09T12:11:46.988Z"
   },
   {
    "duration": 9,
    "start_time": "2022-02-09T12:11:37.511Z"
   },
   {
    "duration": 5,
    "start_time": "2022-02-09T12:11:37.781Z"
   },
   {
    "duration": 99,
    "start_time": "2022-02-09T12:11:38.177Z"
   },
   {
    "duration": 8,
    "start_time": "2022-02-09T12:11:38.409Z"
   },
   {
    "duration": 6,
    "start_time": "2022-02-09T12:11:38.549Z"
   },
   {
    "duration": 5,
    "start_time": "2022-02-09T12:11:38.653Z"
   },
   {
    "duration": 5,
    "start_time": "2022-02-09T12:11:38.928Z"
   },
   {
    "duration": 2,
    "start_time": "2022-02-09T12:11:39.037Z"
   },
   {
    "duration": 6,
    "start_time": "2022-02-09T12:11:39.178Z"
   },
   {
    "duration": 9,
    "start_time": "2022-02-09T12:11:39.429Z"
   },
   {
    "duration": 4,
    "start_time": "2022-02-09T12:11:39.574Z"
   },
   {
    "duration": 5,
    "start_time": "2022-02-09T12:11:39.832Z"
   },
   {
    "duration": 6,
    "start_time": "2022-02-09T12:11:40.375Z"
   },
   {
    "duration": 97,
    "start_time": "2022-02-09T12:11:40.465Z"
   },
   {
    "duration": 4,
    "start_time": "2022-02-09T12:11:40.620Z"
   },
   {
    "duration": 4,
    "start_time": "2022-02-09T12:11:41.031Z"
   },
   {
    "duration": 193,
    "start_time": "2022-02-09T12:11:41.478Z"
   },
   {
    "duration": 147,
    "start_time": "2022-02-09T12:11:41.672Z"
   },
   {
    "duration": 15,
    "start_time": "2022-02-09T12:11:41.821Z"
   },
   {
    "duration": 7,
    "start_time": "2022-02-09T12:11:41.922Z"
   },
   {
    "duration": 223,
    "start_time": "2022-02-09T12:11:42.061Z"
   },
   {
    "duration": 217,
    "start_time": "2022-02-09T12:11:42.519Z"
   },
   {
    "duration": 300,
    "start_time": "2022-02-09T12:11:42.983Z"
   },
   {
    "duration": 6,
    "start_time": "2022-02-09T12:11:43.623Z"
   },
   {
    "duration": 212,
    "start_time": "2022-02-09T12:11:43.782Z"
   },
   {
    "duration": 12,
    "start_time": "2022-02-09T12:11:44.826Z"
   },
   {
    "duration": 311,
    "start_time": "2022-02-09T12:11:45.174Z"
   },
   {
    "duration": 7,
    "start_time": "2022-02-09T12:11:46.745Z"
   },
   {
    "duration": 10,
    "start_time": "2022-02-09T12:11:47.178Z"
   },
   {
    "duration": 284,
    "start_time": "2022-02-09T12:11:48.083Z"
   },
   {
    "duration": 4,
    "start_time": "2022-02-09T12:11:48.926Z"
   },
   {
    "duration": 346,
    "start_time": "2022-02-09T12:11:50.111Z"
   },
   {
    "duration": 8,
    "start_time": "2022-02-09T12:11:52.665Z"
   },
   {
    "duration": 8,
    "start_time": "2022-02-09T12:12:09.379Z"
   },
   {
    "duration": 8,
    "start_time": "2022-02-09T12:12:13.943Z"
   },
   {
    "duration": 8,
    "start_time": "2022-02-09T12:12:27.133Z"
   },
   {
    "duration": 300,
    "start_time": "2022-02-09T12:13:27.444Z"
   },
   {
    "duration": 4,
    "start_time": "2022-02-09T12:14:20.629Z"
   },
   {
    "duration": 4,
    "start_time": "2022-02-09T12:14:25.916Z"
   },
   {
    "duration": 4,
    "start_time": "2022-02-09T12:14:29.308Z"
   },
   {
    "duration": 14,
    "start_time": "2022-02-09T12:18:00.455Z"
   },
   {
    "duration": 3,
    "start_time": "2022-02-09T12:20:50.612Z"
   },
   {
    "duration": 19,
    "start_time": "2022-02-09T12:20:51.169Z"
   },
   {
    "duration": 3,
    "start_time": "2022-02-09T12:20:51.544Z"
   },
   {
    "duration": 10,
    "start_time": "2022-02-09T12:20:52.759Z"
   },
   {
    "duration": 11,
    "start_time": "2022-02-09T12:20:53.865Z"
   },
   {
    "duration": 4,
    "start_time": "2022-02-09T12:20:54.659Z"
   },
   {
    "duration": 69,
    "start_time": "2022-02-09T12:20:55.908Z"
   },
   {
    "duration": 7,
    "start_time": "2022-02-09T12:20:56.684Z"
   },
   {
    "duration": 5,
    "start_time": "2022-02-09T12:20:57.101Z"
   },
   {
    "duration": 5,
    "start_time": "2022-02-09T12:20:57.489Z"
   },
   {
    "duration": 4,
    "start_time": "2022-02-09T12:20:58.178Z"
   },
   {
    "duration": 2,
    "start_time": "2022-02-09T12:20:58.528Z"
   },
   {
    "duration": 6,
    "start_time": "2022-02-09T12:20:58.896Z"
   },
   {
    "duration": 8,
    "start_time": "2022-02-09T12:20:59.684Z"
   },
   {
    "duration": 3,
    "start_time": "2022-02-09T12:21:00.073Z"
   },
   {
    "duration": 5,
    "start_time": "2022-02-09T12:21:00.829Z"
   },
   {
    "duration": 7,
    "start_time": "2022-02-09T12:21:01.964Z"
   },
   {
    "duration": 6,
    "start_time": "2022-02-09T12:21:02.315Z"
   },
   {
    "duration": 5,
    "start_time": "2022-02-09T12:21:02.692Z"
   },
   {
    "duration": 4,
    "start_time": "2022-02-09T12:21:03.428Z"
   },
   {
    "duration": 194,
    "start_time": "2022-02-09T12:21:04.417Z"
   },
   {
    "duration": 150,
    "start_time": "2022-02-09T12:21:04.772Z"
   },
   {
    "duration": 12,
    "start_time": "2022-02-09T12:21:05.416Z"
   },
   {
    "duration": 7,
    "start_time": "2022-02-09T12:21:05.872Z"
   },
   {
    "duration": 233,
    "start_time": "2022-02-09T12:21:06.620Z"
   },
   {
    "duration": 212,
    "start_time": "2022-02-09T12:21:07.974Z"
   },
   {
    "duration": 315,
    "start_time": "2022-02-09T12:21:09.272Z"
   },
   {
    "duration": 6,
    "start_time": "2022-02-09T12:21:10.963Z"
   },
   {
    "duration": 327,
    "start_time": "2022-02-09T12:21:11.335Z"
   },
   {
    "duration": 12,
    "start_time": "2022-02-09T12:21:12.740Z"
   },
   {
    "duration": 328,
    "start_time": "2022-02-09T12:21:13.160Z"
   },
   {
    "duration": 8,
    "start_time": "2022-02-09T12:21:14.614Z"
   },
   {
    "duration": 10,
    "start_time": "2022-02-09T12:21:14.983Z"
   },
   {
    "duration": 300,
    "start_time": "2022-02-09T12:21:15.728Z"
   },
   {
    "duration": 5,
    "start_time": "2022-02-09T12:21:16.487Z"
   },
   {
    "duration": 7,
    "start_time": "2022-02-09T12:21:17.566Z"
   },
   {
    "duration": 296,
    "start_time": "2022-02-09T12:21:18.355Z"
   },
   {
    "duration": 4,
    "start_time": "2022-02-09T12:21:20.088Z"
   },
   {
    "duration": 333,
    "start_time": "2022-02-09T12:24:33.855Z"
   },
   {
    "duration": 7,
    "start_time": "2022-02-09T12:24:36.298Z"
   },
   {
    "duration": 1796,
    "start_time": "2022-02-09T12:25:04.716Z"
   },
   {
    "duration": 10,
    "start_time": "2022-02-09T12:25:15.607Z"
   },
   {
    "duration": 9,
    "start_time": "2022-02-09T12:25:30.555Z"
   },
   {
    "duration": 9,
    "start_time": "2022-02-09T12:25:56.323Z"
   },
   {
    "duration": 8,
    "start_time": "2022-02-09T12:26:12.484Z"
   },
   {
    "duration": 7,
    "start_time": "2022-02-09T12:27:00.858Z"
   },
   {
    "duration": 7,
    "start_time": "2022-02-09T12:28:00.705Z"
   },
   {
    "duration": 8,
    "start_time": "2022-02-09T12:29:25.698Z"
   },
   {
    "duration": 9,
    "start_time": "2022-02-09T12:29:43.324Z"
   },
   {
    "duration": 7,
    "start_time": "2022-02-09T12:44:03.098Z"
   },
   {
    "duration": 8314,
    "start_time": "2022-02-09T12:45:12.497Z"
   },
   {
    "duration": 14,
    "start_time": "2022-02-09T12:45:43.854Z"
   },
   {
    "duration": 551,
    "start_time": "2022-02-09T12:45:53.900Z"
   },
   {
    "duration": 348,
    "start_time": "2022-02-09T12:46:05.602Z"
   },
   {
    "duration": 10,
    "start_time": "2022-02-09T12:46:23.082Z"
   },
   {
    "duration": 8,
    "start_time": "2022-02-09T12:46:23.726Z"
   },
   {
    "duration": 7,
    "start_time": "2022-02-09T12:46:27.504Z"
   },
   {
    "duration": 6,
    "start_time": "2022-02-09T12:46:36.942Z"
   },
   {
    "duration": 7,
    "start_time": "2022-02-09T12:46:46.183Z"
   },
   {
    "duration": 6,
    "start_time": "2022-02-09T12:46:51.822Z"
   },
   {
    "duration": 7,
    "start_time": "2022-02-09T12:47:32.300Z"
   },
   {
    "duration": 7,
    "start_time": "2022-02-09T12:48:22.808Z"
   },
   {
    "duration": 7,
    "start_time": "2022-02-09T12:48:26.702Z"
   },
   {
    "duration": 7,
    "start_time": "2022-02-09T12:48:38.489Z"
   },
   {
    "duration": 331,
    "start_time": "2022-02-09T12:48:46.503Z"
   },
   {
    "duration": 318,
    "start_time": "2022-02-09T12:48:50.300Z"
   },
   {
    "duration": 8,
    "start_time": "2022-02-09T12:49:00.170Z"
   },
   {
    "duration": 9,
    "start_time": "2022-02-09T12:50:55.644Z"
   },
   {
    "duration": 13,
    "start_time": "2022-02-09T12:51:01.042Z"
   },
   {
    "duration": 19,
    "start_time": "2022-02-09T12:52:16.482Z"
   },
   {
    "duration": 8,
    "start_time": "2022-02-09T12:53:35.741Z"
   },
   {
    "duration": 10,
    "start_time": "2022-02-09T12:55:31.194Z"
   },
   {
    "duration": 15,
    "start_time": "2022-02-09T12:55:35.449Z"
   },
   {
    "duration": 10,
    "start_time": "2022-02-09T12:55:39.930Z"
   },
   {
    "duration": 7,
    "start_time": "2022-02-09T12:55:40.668Z"
   },
   {
    "duration": 8,
    "start_time": "2022-02-09T12:55:41.276Z"
   },
   {
    "duration": 8,
    "start_time": "2022-02-09T12:55:52.514Z"
   },
   {
    "duration": 8,
    "start_time": "2022-02-09T12:57:54.663Z"
   },
   {
    "duration": 30,
    "start_time": "2022-02-09T12:58:50.165Z"
   },
   {
    "duration": 21,
    "start_time": "2022-02-09T12:58:56.288Z"
   },
   {
    "duration": 18,
    "start_time": "2022-02-09T12:59:41.322Z"
   },
   {
    "duration": 22,
    "start_time": "2022-02-09T12:59:45.830Z"
   },
   {
    "duration": 21,
    "start_time": "2022-02-09T13:00:14.654Z"
   },
   {
    "duration": 39,
    "start_time": "2022-02-09T13:03:24.953Z"
   },
   {
    "duration": 7972,
    "start_time": "2022-02-09T13:06:49.512Z"
   },
   {
    "duration": 3,
    "start_time": "2022-02-09T13:06:59.883Z"
   },
   {
    "duration": 21,
    "start_time": "2022-02-09T13:06:59.967Z"
   },
   {
    "duration": 4,
    "start_time": "2022-02-09T13:07:00.076Z"
   },
   {
    "duration": 10,
    "start_time": "2022-02-09T13:07:00.315Z"
   },
   {
    "duration": 11,
    "start_time": "2022-02-09T13:07:00.657Z"
   },
   {
    "duration": 4,
    "start_time": "2022-02-09T13:07:00.737Z"
   },
   {
    "duration": 60,
    "start_time": "2022-02-09T13:07:01.145Z"
   },
   {
    "duration": 7,
    "start_time": "2022-02-09T13:07:01.207Z"
   },
   {
    "duration": 5,
    "start_time": "2022-02-09T13:07:01.230Z"
   },
   {
    "duration": 5,
    "start_time": "2022-02-09T13:07:01.347Z"
   },
   {
    "duration": 4,
    "start_time": "2022-02-09T13:07:01.518Z"
   },
   {
    "duration": 3,
    "start_time": "2022-02-09T13:07:01.685Z"
   },
   {
    "duration": 21,
    "start_time": "2022-02-09T13:07:01.691Z"
   },
   {
    "duration": 9,
    "start_time": "2022-02-09T13:07:01.817Z"
   },
   {
    "duration": 3,
    "start_time": "2022-02-09T13:07:01.984Z"
   },
   {
    "duration": 4,
    "start_time": "2022-02-09T13:07:02.159Z"
   },
   {
    "duration": 7,
    "start_time": "2022-02-09T13:07:02.323Z"
   },
   {
    "duration": 5,
    "start_time": "2022-02-09T13:07:02.495Z"
   },
   {
    "duration": 7,
    "start_time": "2022-02-09T13:07:02.502Z"
   },
   {
    "duration": 3,
    "start_time": "2022-02-09T13:07:02.654Z"
   },
   {
    "duration": 191,
    "start_time": "2022-02-09T13:07:02.899Z"
   },
   {
    "duration": 156,
    "start_time": "2022-02-09T13:07:03.091Z"
   },
   {
    "duration": 10,
    "start_time": "2022-02-09T13:07:03.249Z"
   },
   {
    "duration": 8,
    "start_time": "2022-02-09T13:07:03.261Z"
   },
   {
    "duration": 236,
    "start_time": "2022-02-09T13:07:03.271Z"
   },
   {
    "duration": 356,
    "start_time": "2022-02-09T13:07:03.509Z"
   },
   {
    "duration": 374,
    "start_time": "2022-02-09T13:07:03.867Z"
   },
   {
    "duration": 7,
    "start_time": "2022-02-09T13:07:04.243Z"
   },
   {
    "duration": 253,
    "start_time": "2022-02-09T13:07:04.252Z"
   },
   {
    "duration": 21,
    "start_time": "2022-02-09T13:07:04.507Z"
   },
   {
    "duration": 330,
    "start_time": "2022-02-09T13:07:04.576Z"
   },
   {
    "duration": 7,
    "start_time": "2022-02-09T13:07:04.911Z"
   },
   {
    "duration": 9,
    "start_time": "2022-02-09T13:07:05.004Z"
   },
   {
    "duration": 288,
    "start_time": "2022-02-09T13:07:05.168Z"
   },
   {
    "duration": 3,
    "start_time": "2022-02-09T13:07:05.458Z"
   },
   {
    "duration": 8,
    "start_time": "2022-02-09T13:07:05.581Z"
   },
   {
    "duration": 307,
    "start_time": "2022-02-09T13:07:05.750Z"
   },
   {
    "duration": 4,
    "start_time": "2022-02-09T13:07:06.058Z"
   },
   {
    "duration": 8,
    "start_time": "2022-02-09T13:07:06.257Z"
   },
   {
    "duration": 11,
    "start_time": "2022-02-09T13:07:06.344Z"
   },
   {
    "duration": 18,
    "start_time": "2022-02-09T13:07:06.418Z"
   },
   {
    "duration": 31,
    "start_time": "2022-02-09T13:07:06.827Z"
   },
   {
    "duration": 8509,
    "start_time": "2022-02-09T13:07:07.276Z"
   },
   {
    "duration": 8,
    "start_time": "2022-02-09T13:07:29.199Z"
   },
   {
    "duration": 7,
    "start_time": "2022-02-09T13:14:09.386Z"
   },
   {
    "duration": 7,
    "start_time": "2022-02-09T13:15:03.039Z"
   },
   {
    "duration": 10,
    "start_time": "2022-02-09T13:15:07.588Z"
   },
   {
    "duration": 15,
    "start_time": "2022-02-09T13:15:56.994Z"
   },
   {
    "duration": 3,
    "start_time": "2022-02-09T13:16:47.531Z"
   },
   {
    "duration": 20,
    "start_time": "2022-02-09T13:16:47.792Z"
   },
   {
    "duration": 3,
    "start_time": "2022-02-09T13:16:48.019Z"
   },
   {
    "duration": 10,
    "start_time": "2022-02-09T13:16:48.588Z"
   },
   {
    "duration": 12,
    "start_time": "2022-02-09T13:16:49.034Z"
   },
   {
    "duration": 4,
    "start_time": "2022-02-09T13:16:49.320Z"
   },
   {
    "duration": 78,
    "start_time": "2022-02-09T13:16:49.982Z"
   },
   {
    "duration": 7,
    "start_time": "2022-02-09T13:16:50.415Z"
   },
   {
    "duration": 6,
    "start_time": "2022-02-09T13:16:50.619Z"
   },
   {
    "duration": 6,
    "start_time": "2022-02-09T13:16:50.814Z"
   },
   {
    "duration": 6,
    "start_time": "2022-02-09T13:16:51.210Z"
   },
   {
    "duration": 3,
    "start_time": "2022-02-09T13:16:51.404Z"
   },
   {
    "duration": 7,
    "start_time": "2022-02-09T13:16:51.592Z"
   },
   {
    "duration": 9,
    "start_time": "2022-02-09T13:16:52.059Z"
   },
   {
    "duration": 3,
    "start_time": "2022-02-09T13:16:52.297Z"
   },
   {
    "duration": 5,
    "start_time": "2022-02-09T13:16:52.703Z"
   },
   {
    "duration": 6,
    "start_time": "2022-02-09T13:16:53.207Z"
   },
   {
    "duration": 6,
    "start_time": "2022-02-09T13:16:53.379Z"
   },
   {
    "duration": 5,
    "start_time": "2022-02-09T13:16:53.552Z"
   },
   {
    "duration": 4,
    "start_time": "2022-02-09T13:16:53.943Z"
   },
   {
    "duration": 195,
    "start_time": "2022-02-09T13:16:54.568Z"
   },
   {
    "duration": 145,
    "start_time": "2022-02-09T13:16:55.040Z"
   },
   {
    "duration": 13,
    "start_time": "2022-02-09T13:16:57.375Z"
   },
   {
    "duration": 7,
    "start_time": "2022-02-09T13:17:43.719Z"
   },
   {
    "duration": 8,
    "start_time": "2022-02-09T13:18:07.707Z"
   },
   {
    "duration": 7,
    "start_time": "2022-02-09T13:18:13.280Z"
   },
   {
    "duration": 27,
    "start_time": "2022-02-09T13:18:48.167Z"
   },
   {
    "duration": 16,
    "start_time": "2022-02-09T13:19:37.769Z"
   },
   {
    "duration": 6,
    "start_time": "2022-02-09T13:19:38.387Z"
   },
   {
    "duration": 7,
    "start_time": "2022-02-09T13:19:38.901Z"
   },
   {
    "duration": 27,
    "start_time": "2022-02-09T13:19:43.061Z"
   },
   {
    "duration": 15,
    "start_time": "2022-02-09T13:20:04.095Z"
   },
   {
    "duration": 6,
    "start_time": "2022-02-09T13:20:04.616Z"
   },
   {
    "duration": 7,
    "start_time": "2022-02-09T13:20:05.692Z"
   },
   {
    "duration": 28,
    "start_time": "2022-02-09T13:20:12.914Z"
   },
   {
    "duration": 16,
    "start_time": "2022-02-09T13:20:46.213Z"
   },
   {
    "duration": 7,
    "start_time": "2022-02-09T13:20:46.662Z"
   },
   {
    "duration": 6,
    "start_time": "2022-02-09T13:20:48.143Z"
   },
   {
    "duration": 26,
    "start_time": "2022-02-09T13:20:48.709Z"
   },
   {
    "duration": 7,
    "start_time": "2022-02-09T13:22:06.122Z"
   },
   {
    "duration": 11,
    "start_time": "2022-02-09T13:22:06.425Z"
   },
   {
    "duration": 17,
    "start_time": "2022-02-09T13:22:06.905Z"
   },
   {
    "duration": 8,
    "start_time": "2022-02-09T13:22:07.694Z"
   },
   {
    "duration": 8,
    "start_time": "2022-02-09T13:22:12.189Z"
   },
   {
    "duration": 7,
    "start_time": "2022-02-09T13:22:13.440Z"
   },
   {
    "duration": 38,
    "start_time": "2022-02-09T13:22:19.018Z"
   },
   {
    "duration": 7,
    "start_time": "2022-02-09T13:22:23.095Z"
   },
   {
    "duration": 14,
    "start_time": "2022-02-09T13:22:38.284Z"
   },
   {
    "duration": 4,
    "start_time": "2022-02-09T13:25:05.832Z"
   },
   {
    "duration": 6,
    "start_time": "2022-02-09T13:26:27.951Z"
   },
   {
    "duration": 3,
    "start_time": "2022-02-09T13:45:28.977Z"
   },
   {
    "duration": 21,
    "start_time": "2022-02-09T13:45:29.176Z"
   },
   {
    "duration": 3,
    "start_time": "2022-02-09T13:45:29.398Z"
   },
   {
    "duration": 11,
    "start_time": "2022-02-09T13:45:30.006Z"
   },
   {
    "duration": 11,
    "start_time": "2022-02-09T13:45:30.546Z"
   },
   {
    "duration": 5,
    "start_time": "2022-02-09T13:45:30.865Z"
   },
   {
    "duration": 102,
    "start_time": "2022-02-09T13:45:31.371Z"
   },
   {
    "duration": 8,
    "start_time": "2022-02-09T13:45:31.973Z"
   },
   {
    "duration": 6,
    "start_time": "2022-02-09T13:45:32.101Z"
   },
   {
    "duration": 6,
    "start_time": "2022-02-09T13:45:32.378Z"
   },
   {
    "duration": 4,
    "start_time": "2022-02-09T13:45:32.786Z"
   },
   {
    "duration": 2,
    "start_time": "2022-02-09T13:45:32.953Z"
   },
   {
    "duration": 7,
    "start_time": "2022-02-09T13:45:33.131Z"
   },
   {
    "duration": 8,
    "start_time": "2022-02-09T13:45:33.486Z"
   },
   {
    "duration": 4,
    "start_time": "2022-02-09T13:45:33.673Z"
   },
   {
    "duration": 4,
    "start_time": "2022-02-09T13:45:34.022Z"
   },
   {
    "duration": 7,
    "start_time": "2022-02-09T13:45:34.581Z"
   },
   {
    "duration": 5,
    "start_time": "2022-02-09T13:45:34.753Z"
   },
   {
    "duration": 5,
    "start_time": "2022-02-09T13:45:34.981Z"
   },
   {
    "duration": 4,
    "start_time": "2022-02-09T13:45:35.341Z"
   },
   {
    "duration": 190,
    "start_time": "2022-02-09T13:45:35.906Z"
   },
   {
    "duration": 143,
    "start_time": "2022-02-09T13:45:37.231Z"
   },
   {
    "duration": 11,
    "start_time": "2022-02-09T13:45:37.376Z"
   },
   {
    "duration": 10,
    "start_time": "2022-02-09T13:45:37.388Z"
   },
   {
    "duration": 234,
    "start_time": "2022-02-09T13:45:37.400Z"
   },
   {
    "duration": 224,
    "start_time": "2022-02-09T13:45:37.636Z"
   },
   {
    "duration": 318,
    "start_time": "2022-02-09T13:45:37.862Z"
   },
   {
    "duration": 6,
    "start_time": "2022-02-09T13:45:38.374Z"
   },
   {
    "duration": 212,
    "start_time": "2022-02-09T13:45:38.518Z"
   },
   {
    "duration": 12,
    "start_time": "2022-02-09T13:45:39.150Z"
   },
   {
    "duration": 326,
    "start_time": "2022-02-09T13:45:39.346Z"
   },
   {
    "duration": 8,
    "start_time": "2022-02-09T13:45:39.918Z"
   },
   {
    "duration": 10,
    "start_time": "2022-02-09T13:45:40.065Z"
   },
   {
    "duration": 302,
    "start_time": "2022-02-09T13:45:40.438Z"
   },
   {
    "duration": 4,
    "start_time": "2022-02-09T13:45:40.820Z"
   },
   {
    "duration": 8,
    "start_time": "2022-02-09T13:45:41.422Z"
   },
   {
    "duration": 304,
    "start_time": "2022-02-09T13:45:42.150Z"
   },
   {
    "duration": 4,
    "start_time": "2022-02-09T13:45:43.528Z"
   },
   {
    "duration": 8,
    "start_time": "2022-02-09T13:45:45.223Z"
   },
   {
    "duration": 10,
    "start_time": "2022-02-09T13:45:45.593Z"
   },
   {
    "duration": 16,
    "start_time": "2022-02-09T13:45:46.071Z"
   },
   {
    "duration": 28,
    "start_time": "2022-02-09T13:45:46.309Z"
   },
   {
    "duration": 7,
    "start_time": "2022-02-09T13:45:47.075Z"
   },
   {
    "duration": 14,
    "start_time": "2022-02-09T13:45:47.933Z"
   },
   {
    "duration": 6,
    "start_time": "2022-02-09T13:45:49.240Z"
   },
   {
    "duration": 351,
    "start_time": "2022-02-09T13:46:02.974Z"
   },
   {
    "duration": 398,
    "start_time": "2022-02-09T13:46:19.454Z"
   },
   {
    "duration": 20,
    "start_time": "2022-02-09T13:46:19.853Z"
   },
   {
    "duration": 4,
    "start_time": "2022-02-09T13:46:19.875Z"
   },
   {
    "duration": 11,
    "start_time": "2022-02-09T13:46:20.955Z"
   },
   {
    "duration": 11,
    "start_time": "2022-02-09T13:46:21.202Z"
   },
   {
    "duration": 4,
    "start_time": "2022-02-09T13:46:21.369Z"
   },
   {
    "duration": 71,
    "start_time": "2022-02-09T13:46:21.624Z"
   },
   {
    "duration": 8,
    "start_time": "2022-02-09T13:46:21.790Z"
   },
   {
    "duration": 6,
    "start_time": "2022-02-09T13:46:21.887Z"
   },
   {
    "duration": 7,
    "start_time": "2022-02-09T13:46:21.959Z"
   },
   {
    "duration": 6,
    "start_time": "2022-02-09T13:46:22.128Z"
   },
   {
    "duration": 3,
    "start_time": "2022-02-09T13:46:22.208Z"
   },
   {
    "duration": 7,
    "start_time": "2022-02-09T13:46:22.290Z"
   },
   {
    "duration": 9,
    "start_time": "2022-02-09T13:46:22.462Z"
   },
   {
    "duration": 4,
    "start_time": "2022-02-09T13:46:22.546Z"
   },
   {
    "duration": 4,
    "start_time": "2022-02-09T13:46:22.713Z"
   },
   {
    "duration": 7,
    "start_time": "2022-02-09T13:46:22.975Z"
   },
   {
    "duration": 6,
    "start_time": "2022-02-09T13:46:23.048Z"
   },
   {
    "duration": 4,
    "start_time": "2022-02-09T13:46:23.130Z"
   },
   {
    "duration": 3,
    "start_time": "2022-02-09T13:46:23.298Z"
   },
   {
    "duration": 200,
    "start_time": "2022-02-09T13:46:23.547Z"
   },
   {
    "duration": 150,
    "start_time": "2022-02-09T13:46:23.749Z"
   },
   {
    "duration": 11,
    "start_time": "2022-02-09T13:46:23.900Z"
   },
   {
    "duration": 6,
    "start_time": "2022-02-09T13:46:23.927Z"
   },
   {
    "duration": 239,
    "start_time": "2022-02-09T13:46:23.935Z"
   },
   {
    "duration": 233,
    "start_time": "2022-02-09T13:46:24.176Z"
   },
   {
    "duration": 344,
    "start_time": "2022-02-09T13:46:24.411Z"
   },
   {
    "duration": 7,
    "start_time": "2022-02-09T13:46:24.757Z"
   },
   {
    "duration": 390,
    "start_time": "2022-02-09T13:46:24.808Z"
   },
   {
    "duration": 12,
    "start_time": "2022-02-09T13:46:25.199Z"
   },
   {
    "duration": 341,
    "start_time": "2022-02-09T13:46:25.228Z"
   },
   {
    "duration": 7,
    "start_time": "2022-02-09T13:46:25.932Z"
   },
   {
    "duration": 10,
    "start_time": "2022-02-09T13:46:26.127Z"
   },
   {
    "duration": 280,
    "start_time": "2022-02-09T13:46:26.555Z"
   },
   {
    "duration": 4,
    "start_time": "2022-02-09T13:46:26.927Z"
   },
   {
    "duration": 7,
    "start_time": "2022-02-09T13:46:27.651Z"
   },
   {
    "duration": 330,
    "start_time": "2022-02-09T13:46:28.431Z"
   },
   {
    "duration": 4,
    "start_time": "2022-02-09T13:46:28.931Z"
   },
   {
    "duration": 12,
    "start_time": "2022-02-09T13:46:29.792Z"
   },
   {
    "duration": 14,
    "start_time": "2022-02-09T13:46:29.999Z"
   },
   {
    "duration": 16,
    "start_time": "2022-02-09T13:46:30.227Z"
   },
   {
    "duration": 28,
    "start_time": "2022-02-09T13:46:30.427Z"
   },
   {
    "duration": 8,
    "start_time": "2022-02-09T13:46:30.723Z"
   },
   {
    "duration": 13,
    "start_time": "2022-02-09T13:46:33.838Z"
   },
   {
    "duration": 361,
    "start_time": "2022-02-09T13:46:38.845Z"
   },
   {
    "duration": 11,
    "start_time": "2022-02-09T13:46:58.954Z"
   },
   {
    "duration": 6,
    "start_time": "2022-02-09T13:48:31.284Z"
   },
   {
    "duration": 324,
    "start_time": "2022-02-09T13:58:46.788Z"
   },
   {
    "duration": 142,
    "start_time": "2022-02-09T13:59:20.508Z"
   },
   {
    "duration": 2,
    "start_time": "2022-02-09T13:59:24.281Z"
   },
   {
    "duration": 20,
    "start_time": "2022-02-09T13:59:24.673Z"
   },
   {
    "duration": 3,
    "start_time": "2022-02-09T13:59:25.173Z"
   },
   {
    "duration": 10,
    "start_time": "2022-02-09T13:59:25.427Z"
   },
   {
    "duration": 11,
    "start_time": "2022-02-09T13:59:25.676Z"
   },
   {
    "duration": 5,
    "start_time": "2022-02-09T13:59:25.839Z"
   },
   {
    "duration": 69,
    "start_time": "2022-02-09T13:59:26.093Z"
   },
   {
    "duration": 7,
    "start_time": "2022-02-09T13:59:26.256Z"
   },
   {
    "duration": 6,
    "start_time": "2022-02-09T13:59:26.351Z"
   },
   {
    "duration": 5,
    "start_time": "2022-02-09T13:59:26.428Z"
   },
   {
    "duration": 5,
    "start_time": "2022-02-09T13:59:26.589Z"
   },
   {
    "duration": 2,
    "start_time": "2022-02-09T13:59:26.673Z"
   },
   {
    "duration": 7,
    "start_time": "2022-02-09T13:59:26.758Z"
   },
   {
    "duration": 8,
    "start_time": "2022-02-09T13:59:26.932Z"
   },
   {
    "duration": 4,
    "start_time": "2022-02-09T13:59:27.008Z"
   },
   {
    "duration": 5,
    "start_time": "2022-02-09T13:59:27.184Z"
   },
   {
    "duration": 7,
    "start_time": "2022-02-09T13:59:27.427Z"
   },
   {
    "duration": 5,
    "start_time": "2022-02-09T13:59:27.519Z"
   },
   {
    "duration": 5,
    "start_time": "2022-02-09T13:59:27.598Z"
   },
   {
    "duration": 4,
    "start_time": "2022-02-09T13:59:27.763Z"
   },
   {
    "duration": 199,
    "start_time": "2022-02-09T13:59:28.019Z"
   },
   {
    "duration": 183,
    "start_time": "2022-02-09T13:59:28.219Z"
   },
   {
    "duration": 24,
    "start_time": "2022-02-09T13:59:28.404Z"
   },
   {
    "duration": 17,
    "start_time": "2022-02-09T13:59:28.430Z"
   },
   {
    "duration": 226,
    "start_time": "2022-02-09T13:59:28.448Z"
   },
   {
    "duration": 230,
    "start_time": "2022-02-09T13:59:28.675Z"
   },
   {
    "duration": 351,
    "start_time": "2022-02-09T13:59:28.906Z"
   },
   {
    "duration": 5,
    "start_time": "2022-02-09T13:59:29.259Z"
   },
   {
    "duration": 218,
    "start_time": "2022-02-09T13:59:29.270Z"
   },
   {
    "duration": 12,
    "start_time": "2022-02-09T13:59:29.602Z"
   },
   {
    "duration": 316,
    "start_time": "2022-02-09T13:59:29.693Z"
   },
   {
    "duration": 7,
    "start_time": "2022-02-09T13:59:30.023Z"
   },
   {
    "duration": 9,
    "start_time": "2022-02-09T13:59:30.639Z"
   },
   {
    "duration": 287,
    "start_time": "2022-02-09T13:59:31.042Z"
   },
   {
    "duration": 4,
    "start_time": "2022-02-09T13:59:31.406Z"
   },
   {
    "duration": 8,
    "start_time": "2022-02-09T13:59:31.893Z"
   },
   {
    "duration": 276,
    "start_time": "2022-02-09T13:59:32.266Z"
   },
   {
    "duration": 4,
    "start_time": "2022-02-09T13:59:32.619Z"
   },
   {
    "duration": 8,
    "start_time": "2022-02-09T13:59:33.303Z"
   },
   {
    "duration": 11,
    "start_time": "2022-02-09T13:59:33.469Z"
   },
   {
    "duration": 16,
    "start_time": "2022-02-09T13:59:33.642Z"
   },
   {
    "duration": 28,
    "start_time": "2022-02-09T13:59:33.819Z"
   },
   {
    "duration": 7,
    "start_time": "2022-02-09T13:59:33.974Z"
   },
   {
    "duration": 25,
    "start_time": "2022-02-09T13:59:34.539Z"
   },
   {
    "duration": 7,
    "start_time": "2022-02-09T13:59:34.858Z"
   },
   {
    "duration": 323,
    "start_time": "2022-02-09T13:59:43.910Z"
   },
   {
    "duration": 325,
    "start_time": "2022-02-09T13:59:52.541Z"
   },
   {
    "duration": 5,
    "start_time": "2022-02-09T14:00:14.729Z"
   },
   {
    "duration": 5,
    "start_time": "2022-02-09T14:03:10.520Z"
   },
   {
    "duration": 323,
    "start_time": "2022-02-09T14:06:41.548Z"
   },
   {
    "duration": 5,
    "start_time": "2022-02-09T14:06:49.477Z"
   },
   {
    "duration": 9,
    "start_time": "2022-02-09T14:09:08.975Z"
   },
   {
    "duration": 4,
    "start_time": "2022-02-09T14:15:29.141Z"
   },
   {
    "duration": 10,
    "start_time": "2022-02-09T14:15:30.218Z"
   },
   {
    "duration": 8,
    "start_time": "2022-02-09T14:26:40.265Z"
   },
   {
    "duration": 8992,
    "start_time": "2022-02-09T14:32:32.792Z"
   },
   {
    "duration": 339,
    "start_time": "2022-02-09T14:32:49.773Z"
   },
   {
    "duration": 8,
    "start_time": "2022-02-09T14:33:02.759Z"
   },
   {
    "duration": 10,
    "start_time": "2022-02-09T14:33:07.393Z"
   },
   {
    "duration": 9,
    "start_time": "2022-02-09T14:33:31.288Z"
   },
   {
    "duration": 9,
    "start_time": "2022-02-09T14:33:35.083Z"
   },
   {
    "duration": 352,
    "start_time": "2022-02-09T14:37:15.275Z"
   },
   {
    "duration": 9,
    "start_time": "2022-02-09T14:37:19.676Z"
   },
   {
    "duration": 5,
    "start_time": "2022-02-09T14:37:20.966Z"
   },
   {
    "duration": 9,
    "start_time": "2022-02-09T14:37:49.153Z"
   },
   {
    "duration": 8,
    "start_time": "2022-02-09T14:38:56.803Z"
   },
   {
    "duration": 6,
    "start_time": "2022-02-09T14:39:22.882Z"
   },
   {
    "duration": 7,
    "start_time": "2022-02-09T14:39:27.942Z"
   },
   {
    "duration": 7,
    "start_time": "2022-02-09T14:39:28.396Z"
   },
   {
    "duration": 10,
    "start_time": "2022-02-09T14:40:44.073Z"
   },
   {
    "duration": 8,
    "start_time": "2022-02-09T14:41:04.639Z"
   },
   {
    "duration": 6,
    "start_time": "2022-02-09T14:41:05.238Z"
   },
   {
    "duration": 8,
    "start_time": "2022-02-09T14:46:57.826Z"
   },
   {
    "duration": 10,
    "start_time": "2022-02-09T14:46:58.310Z"
   },
   {
    "duration": 342,
    "start_time": "2022-02-09T14:46:59.035Z"
   },
   {
    "duration": 4,
    "start_time": "2022-02-09T14:46:59.858Z"
   },
   {
    "duration": 8,
    "start_time": "2022-02-09T14:47:00.969Z"
   },
   {
    "duration": 289,
    "start_time": "2022-02-09T14:47:01.777Z"
   },
   {
    "duration": 4,
    "start_time": "2022-02-09T14:47:02.798Z"
   },
   {
    "duration": 9,
    "start_time": "2022-02-09T14:47:03.849Z"
   },
   {
    "duration": 10,
    "start_time": "2022-02-09T14:47:04.093Z"
   },
   {
    "duration": 15,
    "start_time": "2022-02-09T14:47:04.317Z"
   },
   {
    "duration": 28,
    "start_time": "2022-02-09T14:47:04.521Z"
   },
   {
    "duration": 8,
    "start_time": "2022-02-09T14:47:05.002Z"
   },
   {
    "duration": 13,
    "start_time": "2022-02-09T14:47:06.361Z"
   },
   {
    "duration": 6,
    "start_time": "2022-02-09T14:47:09.125Z"
   },
   {
    "duration": 7,
    "start_time": "2022-02-09T14:47:14.441Z"
   },
   {
    "duration": 4,
    "start_time": "2022-02-09T14:47:15.909Z"
   },
   {
    "duration": 10,
    "start_time": "2022-02-09T14:47:17.558Z"
   },
   {
    "duration": 7,
    "start_time": "2022-02-09T14:47:19.406Z"
   },
   {
    "duration": 11,
    "start_time": "2022-02-09T14:47:25.412Z"
   },
   {
    "duration": 8,
    "start_time": "2022-02-09T14:47:26.399Z"
   },
   {
    "duration": 6,
    "start_time": "2022-02-09T14:47:27.195Z"
   },
   {
    "duration": 7,
    "start_time": "2022-02-09T14:48:58.991Z"
   },
   {
    "duration": 8,
    "start_time": "2022-02-09T14:49:08.402Z"
   },
   {
    "duration": 7,
    "start_time": "2022-02-09T14:49:43.954Z"
   },
   {
    "duration": 104,
    "start_time": "2022-02-09T14:53:06.403Z"
   },
   {
    "duration": 13,
    "start_time": "2022-02-09T14:54:11.822Z"
   },
   {
    "duration": 242,
    "start_time": "2022-02-09T14:59:31.521Z"
   },
   {
    "duration": 3,
    "start_time": "2022-02-09T15:03:36.197Z"
   },
   {
    "duration": 21,
    "start_time": "2022-02-09T15:03:36.616Z"
   },
   {
    "duration": 2,
    "start_time": "2022-02-09T15:03:36.996Z"
   },
   {
    "duration": 9,
    "start_time": "2022-02-09T15:03:37.646Z"
   },
   {
    "duration": 10,
    "start_time": "2022-02-09T15:03:38.186Z"
   },
   {
    "duration": 4,
    "start_time": "2022-02-09T15:03:38.542Z"
   },
   {
    "duration": 48,
    "start_time": "2022-02-09T15:03:38.965Z"
   },
   {
    "duration": 7,
    "start_time": "2022-02-09T15:03:39.250Z"
   },
   {
    "duration": 5,
    "start_time": "2022-02-09T15:03:39.380Z"
   },
   {
    "duration": 5,
    "start_time": "2022-02-09T15:03:39.533Z"
   },
   {
    "duration": 5,
    "start_time": "2022-02-09T15:03:39.929Z"
   },
   {
    "duration": 3,
    "start_time": "2022-02-09T15:03:40.111Z"
   },
   {
    "duration": 7,
    "start_time": "2022-02-09T15:03:40.277Z"
   },
   {
    "duration": 9,
    "start_time": "2022-02-09T15:03:40.572Z"
   },
   {
    "duration": 3,
    "start_time": "2022-02-09T15:03:40.709Z"
   },
   {
    "duration": 4,
    "start_time": "2022-02-09T15:03:40.980Z"
   },
   {
    "duration": 7,
    "start_time": "2022-02-09T15:03:41.536Z"
   },
   {
    "duration": 6,
    "start_time": "2022-02-09T15:03:41.714Z"
   },
   {
    "duration": 5,
    "start_time": "2022-02-09T15:03:41.909Z"
   },
   {
    "duration": 3,
    "start_time": "2022-02-09T15:03:42.297Z"
   },
   {
    "duration": 196,
    "start_time": "2022-02-09T15:03:42.833Z"
   },
   {
    "duration": 145,
    "start_time": "2022-02-09T15:03:43.030Z"
   },
   {
    "duration": 10,
    "start_time": "2022-02-09T15:03:43.189Z"
   },
   {
    "duration": 7,
    "start_time": "2022-02-09T15:03:43.381Z"
   },
   {
    "duration": 217,
    "start_time": "2022-02-09T15:03:43.585Z"
   },
   {
    "duration": 213,
    "start_time": "2022-02-09T15:03:44.157Z"
   },
   {
    "duration": 338,
    "start_time": "2022-02-09T15:03:44.730Z"
   },
   {
    "duration": 5,
    "start_time": "2022-02-09T15:03:45.489Z"
   },
   {
    "duration": 227,
    "start_time": "2022-02-09T15:03:45.700Z"
   },
   {
    "duration": 13,
    "start_time": "2022-02-09T15:03:46.513Z"
   },
   {
    "duration": 301,
    "start_time": "2022-02-09T15:03:46.689Z"
   },
   {
    "duration": 7,
    "start_time": "2022-02-09T15:03:47.506Z"
   },
   {
    "duration": 10,
    "start_time": "2022-02-09T15:03:47.696Z"
   },
   {
    "duration": 265,
    "start_time": "2022-02-09T15:03:48.088Z"
   },
   {
    "duration": 3,
    "start_time": "2022-02-09T15:03:48.466Z"
   },
   {
    "duration": 15,
    "start_time": "2022-02-09T15:03:49.057Z"
   },
   {
    "duration": 322,
    "start_time": "2022-02-09T15:03:49.412Z"
   },
   {
    "duration": 5,
    "start_time": "2022-02-09T15:03:49.808Z"
   },
   {
    "duration": 8,
    "start_time": "2022-02-09T15:03:50.592Z"
   },
   {
    "duration": 11,
    "start_time": "2022-02-09T15:03:50.792Z"
   },
   {
    "duration": 17,
    "start_time": "2022-02-09T15:03:51.011Z"
   },
   {
    "duration": 30,
    "start_time": "2022-02-09T15:03:51.201Z"
   },
   {
    "duration": 7,
    "start_time": "2022-02-09T15:03:51.398Z"
   },
   {
    "duration": 14,
    "start_time": "2022-02-09T15:03:51.817Z"
   },
   {
    "duration": 6,
    "start_time": "2022-02-09T15:03:52.021Z"
   },
   {
    "duration": 7,
    "start_time": "2022-02-09T15:03:52.636Z"
   },
   {
    "duration": 3,
    "start_time": "2022-02-09T15:03:53.064Z"
   },
   {
    "duration": 9,
    "start_time": "2022-02-09T15:03:53.732Z"
   },
   {
    "duration": 7,
    "start_time": "2022-02-09T15:03:54.577Z"
   },
   {
    "duration": 10,
    "start_time": "2022-02-09T15:03:55.020Z"
   },
   {
    "duration": 9,
    "start_time": "2022-02-09T15:03:55.508Z"
   },
   {
    "duration": 7,
    "start_time": "2022-02-09T15:03:55.734Z"
   },
   {
    "duration": 12,
    "start_time": "2022-02-09T15:03:56.806Z"
   },
   {
    "duration": 1428,
    "start_time": "2022-02-09T18:11:15.602Z"
   },
   {
    "duration": 28,
    "start_time": "2022-02-09T18:11:17.032Z"
   },
   {
    "duration": 18,
    "start_time": "2022-02-09T18:11:17.063Z"
   },
   {
    "duration": 21,
    "start_time": "2022-02-09T18:11:17.084Z"
   },
   {
    "duration": 18,
    "start_time": "2022-02-09T18:11:17.108Z"
   },
   {
    "duration": 40,
    "start_time": "2022-02-09T18:11:17.129Z"
   },
   {
    "duration": 42,
    "start_time": "2022-02-09T18:11:17.172Z"
   },
   {
    "duration": 19,
    "start_time": "2022-02-09T18:11:17.219Z"
   },
   {
    "duration": 35,
    "start_time": "2022-02-09T18:11:17.241Z"
   },
   {
    "duration": 32,
    "start_time": "2022-02-09T18:11:17.278Z"
   },
   {
    "duration": 20,
    "start_time": "2022-02-09T18:11:17.312Z"
   },
   {
    "duration": 43,
    "start_time": "2022-02-09T18:11:17.334Z"
   },
   {
    "duration": 24,
    "start_time": "2022-02-09T18:11:17.379Z"
   },
   {
    "duration": 26,
    "start_time": "2022-02-09T18:11:17.406Z"
   },
   {
    "duration": 21,
    "start_time": "2022-02-09T18:11:17.434Z"
   },
   {
    "duration": 15,
    "start_time": "2022-02-09T18:11:17.457Z"
   },
   {
    "duration": 35,
    "start_time": "2022-02-09T18:11:17.474Z"
   },
   {
    "duration": 35,
    "start_time": "2022-02-09T18:11:17.512Z"
   },
   {
    "duration": 21,
    "start_time": "2022-02-09T18:11:17.549Z"
   },
   {
    "duration": 17,
    "start_time": "2022-02-09T18:11:17.572Z"
   },
   {
    "duration": 374,
    "start_time": "2022-02-09T18:11:17.591Z"
   },
   {
    "duration": 280,
    "start_time": "2022-02-09T18:11:17.967Z"
   },
   {
    "duration": 29,
    "start_time": "2022-02-09T18:11:18.252Z"
   },
   {
    "duration": 91,
    "start_time": "2022-02-09T18:11:18.285Z"
   },
   {
    "duration": 446,
    "start_time": "2022-02-09T18:11:18.378Z"
   },
   {
    "duration": 438,
    "start_time": "2022-02-09T18:11:18.827Z"
   },
   {
    "duration": 514,
    "start_time": "2022-02-09T18:11:19.269Z"
   },
   {
    "duration": 8,
    "start_time": "2022-02-09T18:11:19.786Z"
   },
   {
    "duration": 459,
    "start_time": "2022-02-09T18:11:19.797Z"
   },
   {
    "duration": 25,
    "start_time": "2022-02-09T18:11:20.259Z"
   },
   {
    "duration": 517,
    "start_time": "2022-02-09T18:11:20.287Z"
   },
   {
    "duration": 13,
    "start_time": "2022-02-09T18:11:20.807Z"
   },
   {
    "duration": 16,
    "start_time": "2022-02-09T18:11:20.822Z"
   },
   {
    "duration": 532,
    "start_time": "2022-02-09T18:11:20.840Z"
   },
   {
    "duration": 7,
    "start_time": "2022-02-09T18:11:21.375Z"
   },
   {
    "duration": 19,
    "start_time": "2022-02-09T18:11:21.384Z"
   },
   {
    "duration": 526,
    "start_time": "2022-02-09T18:11:21.406Z"
   },
   {
    "duration": 6,
    "start_time": "2022-02-09T18:11:21.935Z"
   },
   {
    "duration": 37,
    "start_time": "2022-02-09T18:11:21.945Z"
   },
   {
    "duration": 20,
    "start_time": "2022-02-09T18:11:21.985Z"
   },
   {
    "duration": 29,
    "start_time": "2022-02-09T18:11:22.007Z"
   },
   {
    "duration": 79,
    "start_time": "2022-02-09T18:11:22.038Z"
   },
   {
    "duration": 12,
    "start_time": "2022-02-09T18:11:22.119Z"
   },
   {
    "duration": 53,
    "start_time": "2022-02-09T18:11:22.133Z"
   },
   {
    "duration": 8,
    "start_time": "2022-02-09T18:11:22.188Z"
   },
   {
    "duration": 14,
    "start_time": "2022-02-09T18:11:22.198Z"
   },
   {
    "duration": 5,
    "start_time": "2022-02-09T18:11:22.214Z"
   },
   {
    "duration": 50,
    "start_time": "2022-02-09T18:11:22.221Z"
   },
   {
    "duration": 10,
    "start_time": "2022-02-09T18:11:22.274Z"
   },
   {
    "duration": 15,
    "start_time": "2022-02-09T18:11:22.286Z"
   },
   {
    "duration": 12,
    "start_time": "2022-02-09T18:11:22.303Z"
   },
   {
    "duration": 9,
    "start_time": "2022-02-09T18:11:22.317Z"
   },
   {
    "duration": 60,
    "start_time": "2022-02-09T18:11:22.329Z"
   },
   {
    "duration": 1140,
    "start_time": "2022-02-10T07:26:50.174Z"
   },
   {
    "duration": 26,
    "start_time": "2022-02-10T07:26:51.316Z"
   },
   {
    "duration": 2,
    "start_time": "2022-02-10T07:27:19.956Z"
   },
   {
    "duration": 9,
    "start_time": "2022-02-10T07:27:30.391Z"
   },
   {
    "duration": 4,
    "start_time": "2022-02-10T07:27:36.273Z"
   },
   {
    "duration": 14,
    "start_time": "2022-02-10T07:27:41.592Z"
   },
   {
    "duration": 14,
    "start_time": "2022-02-10T07:27:47.575Z"
   },
   {
    "duration": 6,
    "start_time": "2022-02-10T07:28:01.779Z"
   },
   {
    "duration": 84,
    "start_time": "2022-02-10T07:28:47.851Z"
   },
   {
    "duration": 90,
    "start_time": "2022-02-10T07:28:52.785Z"
   },
   {
    "duration": 93,
    "start_time": "2022-02-10T07:28:55.709Z"
   },
   {
    "duration": 87,
    "start_time": "2022-02-10T07:29:10.931Z"
   },
   {
    "duration": 83,
    "start_time": "2022-02-10T07:29:15.133Z"
   },
   {
    "duration": 10,
    "start_time": "2022-02-10T07:31:21.436Z"
   },
   {
    "duration": 348,
    "start_time": "2022-02-10T07:31:59.350Z"
   },
   {
    "duration": 352,
    "start_time": "2022-02-10T07:32:07.007Z"
   },
   {
    "duration": 277,
    "start_time": "2022-02-10T07:32:13.900Z"
   },
   {
    "duration": 3,
    "start_time": "2022-02-10T07:32:17.956Z"
   },
   {
    "duration": 25,
    "start_time": "2022-02-10T07:32:18.604Z"
   },
   {
    "duration": 11,
    "start_time": "2022-02-10T07:32:20.014Z"
   },
   {
    "duration": 3,
    "start_time": "2022-02-10T07:32:22.178Z"
   },
   {
    "duration": 11,
    "start_time": "2022-02-10T07:32:33.898Z"
   },
   {
    "duration": 3,
    "start_time": "2022-02-10T07:38:06.250Z"
   },
   {
    "duration": 289,
    "start_time": "2022-02-10T07:38:07.412Z"
   },
   {
    "duration": 4,
    "start_time": "2022-02-10T07:38:12.536Z"
   },
   {
    "duration": 22,
    "start_time": "2022-02-10T07:38:13.034Z"
   },
   {
    "duration": 8,
    "start_time": "2022-02-10T07:38:13.881Z"
   },
   {
    "duration": 4,
    "start_time": "2022-02-10T07:38:14.329Z"
   },
   {
    "duration": 11,
    "start_time": "2022-02-10T07:38:15.633Z"
   },
   {
    "duration": 286,
    "start_time": "2022-02-10T07:38:20.600Z"
   },
   {
    "duration": 276,
    "start_time": "2022-02-10T07:38:41.522Z"
   },
   {
    "duration": 3,
    "start_time": "2022-02-10T07:38:45.222Z"
   },
   {
    "duration": 23,
    "start_time": "2022-02-10T07:38:45.792Z"
   },
   {
    "duration": 9,
    "start_time": "2022-02-10T07:38:46.818Z"
   },
   {
    "duration": 3,
    "start_time": "2022-02-10T07:38:47.067Z"
   },
   {
    "duration": 11,
    "start_time": "2022-02-10T07:38:47.847Z"
   },
   {
    "duration": 266,
    "start_time": "2022-02-10T07:38:49.120Z"
   },
   {
    "duration": 279,
    "start_time": "2022-02-10T07:38:50.387Z"
   },
   {
    "duration": 3,
    "start_time": "2022-02-10T07:39:08.105Z"
   },
   {
    "duration": 23,
    "start_time": "2022-02-10T07:39:08.458Z"
   },
   {
    "duration": 9,
    "start_time": "2022-02-10T07:39:09.014Z"
   },
   {
    "duration": 3,
    "start_time": "2022-02-10T07:39:09.229Z"
   },
   {
    "duration": 13,
    "start_time": "2022-02-10T07:39:09.824Z"
   },
   {
    "duration": 275,
    "start_time": "2022-02-10T07:39:11.728Z"
   },
   {
    "duration": 3,
    "start_time": "2022-02-10T07:41:52.141Z"
   },
   {
    "duration": 23,
    "start_time": "2022-02-10T07:41:52.627Z"
   },
   {
    "duration": 9,
    "start_time": "2022-02-10T07:41:53.586Z"
   },
   {
    "duration": 3,
    "start_time": "2022-02-10T07:41:54.302Z"
   },
   {
    "duration": 12,
    "start_time": "2022-02-10T07:41:58.018Z"
   },
   {
    "duration": 268,
    "start_time": "2022-02-10T07:42:13.437Z"
   },
   {
    "duration": 274,
    "start_time": "2022-02-10T07:44:36.099Z"
   },
   {
    "duration": 3,
    "start_time": "2022-02-10T07:44:42.659Z"
   },
   {
    "duration": 29,
    "start_time": "2022-02-10T07:44:43.054Z"
   },
   {
    "duration": 10,
    "start_time": "2022-02-10T07:44:43.905Z"
   },
   {
    "duration": 3,
    "start_time": "2022-02-10T07:44:44.379Z"
   },
   {
    "duration": 13,
    "start_time": "2022-02-10T07:44:45.751Z"
   },
   {
    "duration": 281,
    "start_time": "2022-02-10T07:45:05.593Z"
   },
   {
    "duration": 3,
    "start_time": "2022-02-10T07:45:15.799Z"
   },
   {
    "duration": 22,
    "start_time": "2022-02-10T07:45:16.300Z"
   },
   {
    "duration": 9,
    "start_time": "2022-02-10T07:45:17.891Z"
   },
   {
    "duration": 3,
    "start_time": "2022-02-10T07:45:18.377Z"
   },
   {
    "duration": 10,
    "start_time": "2022-02-10T07:45:20.032Z"
   },
   {
    "duration": 14,
    "start_time": "2022-02-10T07:45:22.712Z"
   },
   {
    "duration": 14,
    "start_time": "2022-02-10T07:45:51.136Z"
   },
   {
    "duration": 63,
    "start_time": "2022-02-10T07:45:58.647Z"
   },
   {
    "duration": 13,
    "start_time": "2022-02-10T07:45:59.501Z"
   },
   {
    "duration": 8,
    "start_time": "2022-02-10T07:45:59.948Z"
   },
   {
    "duration": 9,
    "start_time": "2022-02-10T07:46:00.332Z"
   },
   {
    "duration": 9,
    "start_time": "2022-02-10T07:46:01.064Z"
   },
   {
    "duration": 3,
    "start_time": "2022-02-10T07:46:01.465Z"
   },
   {
    "duration": 11,
    "start_time": "2022-02-10T07:46:01.828Z"
   },
   {
    "duration": 12,
    "start_time": "2022-02-10T07:46:02.740Z"
   },
   {
    "duration": 4,
    "start_time": "2022-02-10T07:46:06.443Z"
   },
   {
    "duration": 5,
    "start_time": "2022-02-10T07:46:07.736Z"
   },
   {
    "duration": 8,
    "start_time": "2022-02-10T07:46:10.414Z"
   },
   {
    "duration": 7,
    "start_time": "2022-02-10T07:46:10.772Z"
   },
   {
    "duration": 5,
    "start_time": "2022-02-10T07:46:11.172Z"
   },
   {
    "duration": 5,
    "start_time": "2022-02-10T07:46:12.547Z"
   },
   {
    "duration": 237,
    "start_time": "2022-02-10T07:46:15.112Z"
   },
   {
    "duration": 182,
    "start_time": "2022-02-10T07:46:15.700Z"
   },
   {
    "duration": 15,
    "start_time": "2022-02-10T07:46:16.493Z"
   },
   {
    "duration": 9,
    "start_time": "2022-02-10T07:46:17.003Z"
   },
   {
    "duration": 326,
    "start_time": "2022-02-10T07:46:18.291Z"
   },
   {
    "duration": 370,
    "start_time": "2022-02-10T07:46:30.265Z"
   },
   {
    "duration": 3,
    "start_time": "2022-02-10T07:46:44.089Z"
   },
   {
    "duration": 23,
    "start_time": "2022-02-10T07:46:44.162Z"
   },
   {
    "duration": 9,
    "start_time": "2022-02-10T07:46:44.323Z"
   },
   {
    "duration": 3,
    "start_time": "2022-02-10T07:46:44.413Z"
   },
   {
    "duration": 11,
    "start_time": "2022-02-10T07:46:44.661Z"
   },
   {
    "duration": 14,
    "start_time": "2022-02-10T07:46:45.001Z"
   },
   {
    "duration": 60,
    "start_time": "2022-02-10T07:46:45.501Z"
   },
   {
    "duration": 8,
    "start_time": "2022-02-10T07:46:45.666Z"
   },
   {
    "duration": 7,
    "start_time": "2022-02-10T07:46:45.750Z"
   },
   {
    "duration": 8,
    "start_time": "2022-02-10T07:46:49.140Z"
   },
   {
    "duration": 5,
    "start_time": "2022-02-10T07:46:50.022Z"
   },
   {
    "duration": 3,
    "start_time": "2022-02-10T07:46:50.294Z"
   },
   {
    "duration": 8,
    "start_time": "2022-02-10T07:46:50.558Z"
   },
   {
    "duration": 10,
    "start_time": "2022-02-10T07:46:51.429Z"
   },
   {
    "duration": 4,
    "start_time": "2022-02-10T07:46:52.374Z"
   },
   {
    "duration": 5,
    "start_time": "2022-02-10T07:46:53.604Z"
   },
   {
    "duration": 9,
    "start_time": "2022-02-10T07:46:55.541Z"
   },
   {
    "duration": 7,
    "start_time": "2022-02-10T07:46:55.725Z"
   },
   {
    "duration": 6,
    "start_time": "2022-02-10T07:46:55.886Z"
   },
   {
    "duration": 5,
    "start_time": "2022-02-10T07:46:56.317Z"
   },
   {
    "duration": 236,
    "start_time": "2022-02-10T07:46:57.682Z"
   },
   {
    "duration": 159,
    "start_time": "2022-02-10T07:46:58.005Z"
   },
   {
    "duration": 14,
    "start_time": "2022-02-10T07:46:58.246Z"
   },
   {
    "duration": 8,
    "start_time": "2022-02-10T07:46:58.626Z"
   },
   {
    "duration": 370,
    "start_time": "2022-02-10T07:46:59.221Z"
   },
   {
    "duration": 368,
    "start_time": "2022-02-10T07:47:55.441Z"
   },
   {
    "duration": 375,
    "start_time": "2022-02-10T07:49:17.961Z"
   },
   {
    "duration": 398,
    "start_time": "2022-02-10T07:50:14.188Z"
   },
   {
    "duration": 469,
    "start_time": "2022-02-10T07:51:55.136Z"
   },
   {
    "duration": 3,
    "start_time": "2022-02-10T07:52:06.398Z"
   },
   {
    "duration": 23,
    "start_time": "2022-02-10T07:52:06.471Z"
   },
   {
    "duration": 9,
    "start_time": "2022-02-10T07:52:06.641Z"
   },
   {
    "duration": 4,
    "start_time": "2022-02-10T07:52:06.731Z"
   },
   {
    "duration": 11,
    "start_time": "2022-02-10T07:52:06.975Z"
   },
   {
    "duration": 14,
    "start_time": "2022-02-10T07:52:07.322Z"
   },
   {
    "duration": 50,
    "start_time": "2022-02-10T07:52:07.819Z"
   },
   {
    "duration": 9,
    "start_time": "2022-02-10T07:52:07.987Z"
   },
   {
    "duration": 6,
    "start_time": "2022-02-10T07:52:08.374Z"
   },
   {
    "duration": 7,
    "start_time": "2022-02-10T07:52:08.558Z"
   },
   {
    "duration": 5,
    "start_time": "2022-02-10T07:52:08.813Z"
   },
   {
    "duration": 3,
    "start_time": "2022-02-10T07:52:09.062Z"
   },
   {
    "duration": 8,
    "start_time": "2022-02-10T07:52:09.122Z"
   },
   {
    "duration": 11,
    "start_time": "2022-02-10T07:52:09.546Z"
   },
   {
    "duration": 4,
    "start_time": "2022-02-10T07:52:09.894Z"
   },
   {
    "duration": 5,
    "start_time": "2022-02-10T07:52:10.129Z"
   },
   {
    "duration": 8,
    "start_time": "2022-02-10T07:52:10.606Z"
   },
   {
    "duration": 7,
    "start_time": "2022-02-10T07:52:10.735Z"
   },
   {
    "duration": 6,
    "start_time": "2022-02-10T07:52:10.869Z"
   },
   {
    "duration": 4,
    "start_time": "2022-02-10T07:52:11.125Z"
   },
   {
    "duration": 242,
    "start_time": "2022-02-10T07:52:11.741Z"
   },
   {
    "duration": 196,
    "start_time": "2022-02-10T07:52:11.985Z"
   },
   {
    "duration": 23,
    "start_time": "2022-02-10T07:52:12.183Z"
   },
   {
    "duration": 10,
    "start_time": "2022-02-10T07:52:12.518Z"
   },
   {
    "duration": 405,
    "start_time": "2022-02-10T07:52:12.714Z"
   },
   {
    "duration": 22,
    "start_time": "2022-02-10T08:35:36.912Z"
   },
   {
    "duration": 8,
    "start_time": "2022-02-10T08:35:37.654Z"
   },
   {
    "duration": 3,
    "start_time": "2022-02-10T08:35:37.847Z"
   },
   {
    "duration": 10,
    "start_time": "2022-02-10T08:35:38.392Z"
   },
   {
    "duration": 13,
    "start_time": "2022-02-10T08:35:42.928Z"
   },
   {
    "duration": 3,
    "start_time": "2022-02-10T08:35:45.324Z"
   },
   {
    "duration": 21,
    "start_time": "2022-02-10T08:35:46.270Z"
   },
   {
    "duration": 9,
    "start_time": "2022-02-10T08:35:46.915Z"
   },
   {
    "duration": 3,
    "start_time": "2022-02-10T08:35:47.112Z"
   },
   {
    "duration": 10,
    "start_time": "2022-02-10T08:35:48.133Z"
   },
   {
    "duration": 15,
    "start_time": "2022-02-10T08:35:56.534Z"
   },
   {
    "duration": 98,
    "start_time": "2022-02-10T08:35:58.669Z"
   },
   {
    "duration": 9,
    "start_time": "2022-02-10T08:35:59.618Z"
   },
   {
    "duration": 7,
    "start_time": "2022-02-10T08:36:00.047Z"
   },
   {
    "duration": 6,
    "start_time": "2022-02-10T08:36:00.447Z"
   },
   {
    "duration": 6,
    "start_time": "2022-02-10T08:36:02.577Z"
   },
   {
    "duration": 3,
    "start_time": "2022-02-10T08:36:03.038Z"
   },
   {
    "duration": 9,
    "start_time": "2022-02-10T08:36:03.434Z"
   },
   {
    "duration": 11,
    "start_time": "2022-02-10T08:36:05.398Z"
   },
   {
    "duration": 4,
    "start_time": "2022-02-10T08:36:06.047Z"
   },
   {
    "duration": 5,
    "start_time": "2022-02-10T08:36:06.826Z"
   },
   {
    "duration": 8,
    "start_time": "2022-02-10T08:36:07.968Z"
   },
   {
    "duration": 9,
    "start_time": "2022-02-10T08:36:08.331Z"
   },
   {
    "duration": 6,
    "start_time": "2022-02-10T08:36:08.786Z"
   },
   {
    "duration": 5,
    "start_time": "2022-02-10T08:36:09.511Z"
   },
   {
    "duration": 231,
    "start_time": "2022-02-10T08:37:52.351Z"
   },
   {
    "duration": 172,
    "start_time": "2022-02-10T08:37:53.593Z"
   },
   {
    "duration": 14,
    "start_time": "2022-02-10T08:37:53.920Z"
   },
   {
    "duration": 9,
    "start_time": "2022-02-10T08:37:54.280Z"
   },
   {
    "duration": 411,
    "start_time": "2022-02-10T08:37:54.589Z"
   },
   {
    "duration": 300,
    "start_time": "2022-02-10T08:39:14.015Z"
   },
   {
    "duration": 279,
    "start_time": "2022-02-10T08:39:24.879Z"
   },
   {
    "duration": 419,
    "start_time": "2022-02-10T08:39:32.915Z"
   },
   {
    "duration": 243,
    "start_time": "2022-02-10T08:39:55.127Z"
   },
   {
    "duration": 291,
    "start_time": "2022-02-10T08:40:11.672Z"
   },
   {
    "duration": 260,
    "start_time": "2022-02-10T08:40:25.712Z"
   },
   {
    "duration": 338,
    "start_time": "2022-02-10T08:40:33.382Z"
   },
   {
    "duration": 340,
    "start_time": "2022-02-10T08:40:41.973Z"
   },
   {
    "duration": 327,
    "start_time": "2022-02-10T08:40:47.485Z"
   },
   {
    "duration": 406,
    "start_time": "2022-02-10T08:40:52.200Z"
   },
   {
    "duration": 325,
    "start_time": "2022-02-10T08:40:57.243Z"
   },
   {
    "duration": 333,
    "start_time": "2022-02-10T08:41:03.925Z"
   },
   {
    "duration": 332,
    "start_time": "2022-02-10T08:41:10.335Z"
   },
   {
    "duration": 399,
    "start_time": "2022-02-10T08:42:03.516Z"
   },
   {
    "duration": 7,
    "start_time": "2022-02-10T08:42:21.438Z"
   },
   {
    "duration": 331,
    "start_time": "2022-02-10T08:42:56.432Z"
   },
   {
    "duration": 16,
    "start_time": "2022-02-10T08:43:00.263Z"
   },
   {
    "duration": 381,
    "start_time": "2022-02-10T08:43:13.325Z"
   },
   {
    "duration": 9,
    "start_time": "2022-02-10T08:43:21.820Z"
   },
   {
    "duration": 12,
    "start_time": "2022-02-10T08:43:22.280Z"
   },
   {
    "duration": 348,
    "start_time": "2022-02-10T08:43:24.566Z"
   },
   {
    "duration": 5,
    "start_time": "2022-02-10T08:43:25.515Z"
   },
   {
    "duration": 10,
    "start_time": "2022-02-10T08:43:26.219Z"
   },
   {
    "duration": 340,
    "start_time": "2022-02-10T08:43:26.629Z"
   },
   {
    "duration": 5,
    "start_time": "2022-02-10T08:43:27.263Z"
   },
   {
    "duration": 10,
    "start_time": "2022-02-10T08:43:31.365Z"
   },
   {
    "duration": 13,
    "start_time": "2022-02-10T08:43:31.945Z"
   },
   {
    "duration": 21,
    "start_time": "2022-02-10T08:43:33.747Z"
   },
   {
    "duration": 34,
    "start_time": "2022-02-10T08:43:35.035Z"
   },
   {
    "duration": 8,
    "start_time": "2022-02-10T08:43:35.675Z"
   },
   {
    "duration": 17,
    "start_time": "2022-02-10T08:43:37.416Z"
   },
   {
    "duration": 7,
    "start_time": "2022-02-10T08:43:39.517Z"
   },
   {
    "duration": 8,
    "start_time": "2022-02-10T09:05:20.363Z"
   },
   {
    "duration": 4,
    "start_time": "2022-02-10T09:05:20.834Z"
   },
   {
    "duration": 115,
    "start_time": "2022-02-10T09:10:26.004Z"
   },
   {
    "duration": 6,
    "start_time": "2022-02-10T09:18:24.103Z"
   },
   {
    "duration": 4,
    "start_time": "2022-02-10T09:18:24.482Z"
   },
   {
    "duration": 11,
    "start_time": "2022-02-10T09:19:31.262Z"
   },
   {
    "duration": 9,
    "start_time": "2022-02-10T09:19:33.275Z"
   },
   {
    "duration": 13,
    "start_time": "2022-02-10T09:19:33.958Z"
   },
   {
    "duration": 9,
    "start_time": "2022-02-10T09:19:35.175Z"
   },
   {
    "duration": 8,
    "start_time": "2022-02-10T09:19:35.976Z"
   },
   {
    "duration": 7,
    "start_time": "2022-02-10T09:19:52.875Z"
   },
   {
    "duration": 4,
    "start_time": "2022-02-10T09:19:53.239Z"
   },
   {
    "duration": 11,
    "start_time": "2022-02-10T09:19:54.497Z"
   },
   {
    "duration": 10,
    "start_time": "2022-02-10T09:19:57.698Z"
   },
   {
    "duration": 12,
    "start_time": "2022-02-10T09:20:02.234Z"
   },
   {
    "duration": 9,
    "start_time": "2022-02-10T09:20:03.035Z"
   },
   {
    "duration": 14,
    "start_time": "2022-02-10T09:20:31.666Z"
   },
   {
    "duration": 11,
    "start_time": "2022-02-10T09:21:36.802Z"
   },
   {
    "duration": 9,
    "start_time": "2022-02-10T09:21:37.825Z"
   },
   {
    "duration": 11,
    "start_time": "2022-02-10T09:21:39.752Z"
   },
   {
    "duration": 8,
    "start_time": "2022-02-10T09:21:41.657Z"
   },
   {
    "duration": 7,
    "start_time": "2022-02-10T09:21:42.265Z"
   },
   {
    "duration": 15,
    "start_time": "2022-02-10T09:21:44.418Z"
   },
   {
    "duration": 3,
    "start_time": "2022-02-10T09:34:43.556Z"
   },
   {
    "duration": 21,
    "start_time": "2022-02-10T09:34:43.804Z"
   },
   {
    "duration": 9,
    "start_time": "2022-02-10T09:34:44.174Z"
   },
   {
    "duration": 4,
    "start_time": "2022-02-10T09:34:44.355Z"
   },
   {
    "duration": 11,
    "start_time": "2022-02-10T09:34:44.931Z"
   },
   {
    "duration": 14,
    "start_time": "2022-02-10T09:34:46.201Z"
   },
   {
    "duration": 48,
    "start_time": "2022-02-10T09:34:47.276Z"
   },
   {
    "duration": 8,
    "start_time": "2022-02-10T09:34:47.661Z"
   },
   {
    "duration": 7,
    "start_time": "2022-02-10T09:34:47.845Z"
   },
   {
    "duration": 7,
    "start_time": "2022-02-10T09:34:48.028Z"
   },
   {
    "duration": 6,
    "start_time": "2022-02-10T09:34:48.385Z"
   },
   {
    "duration": 3,
    "start_time": "2022-02-10T09:34:48.586Z"
   },
   {
    "duration": 9,
    "start_time": "2022-02-10T09:34:48.741Z"
   },
   {
    "duration": 10,
    "start_time": "2022-02-10T09:34:49.074Z"
   },
   {
    "duration": 4,
    "start_time": "2022-02-10T09:34:49.610Z"
   },
   {
    "duration": 5,
    "start_time": "2022-02-10T09:34:49.990Z"
   },
   {
    "duration": 8,
    "start_time": "2022-02-10T09:34:50.529Z"
   },
   {
    "duration": 7,
    "start_time": "2022-02-10T09:34:50.724Z"
   },
   {
    "duration": 5,
    "start_time": "2022-02-10T09:34:50.901Z"
   },
   {
    "duration": 5,
    "start_time": "2022-02-10T09:34:51.265Z"
   },
   {
    "duration": 244,
    "start_time": "2022-02-10T09:34:52.074Z"
   },
   {
    "duration": 187,
    "start_time": "2022-02-10T09:34:52.320Z"
   },
   {
    "duration": 14,
    "start_time": "2022-02-10T09:34:52.513Z"
   },
   {
    "duration": 9,
    "start_time": "2022-02-10T09:34:52.723Z"
   },
   {
    "duration": 399,
    "start_time": "2022-02-10T09:34:52.938Z"
   },
   {
    "duration": 326,
    "start_time": "2022-02-10T09:34:54.527Z"
   },
   {
    "duration": 428,
    "start_time": "2022-02-10T09:34:55.771Z"
   },
   {
    "duration": 7,
    "start_time": "2022-02-10T09:34:56.637Z"
   },
   {
    "duration": 318,
    "start_time": "2022-02-10T09:34:56.853Z"
   },
   {
    "duration": 15,
    "start_time": "2022-02-10T09:34:57.703Z"
   },
   {
    "duration": 365,
    "start_time": "2022-02-10T09:34:57.948Z"
   },
   {
    "duration": 10,
    "start_time": "2022-02-10T09:34:59.217Z"
   },
   {
    "duration": 12,
    "start_time": "2022-02-10T09:34:59.409Z"
   },
   {
    "duration": 372,
    "start_time": "2022-02-10T09:34:59.892Z"
   },
   {
    "duration": 5,
    "start_time": "2022-02-10T09:35:00.295Z"
   },
   {
    "duration": 10,
    "start_time": "2022-02-10T09:35:00.901Z"
   },
   {
    "duration": 467,
    "start_time": "2022-02-10T09:35:01.320Z"
   },
   {
    "duration": 6,
    "start_time": "2022-02-10T09:35:01.799Z"
   },
   {
    "duration": 335,
    "start_time": "2022-02-10T09:35:31.640Z"
   },
   {
    "duration": 362,
    "start_time": "2022-02-10T09:35:47.038Z"
   },
   {
    "duration": 411,
    "start_time": "2022-02-10T09:35:52.490Z"
   },
   {
    "duration": 5,
    "start_time": "2022-02-10T09:35:55.585Z"
   },
   {
    "duration": 15,
    "start_time": "2022-02-10T09:35:56.384Z"
   },
   {
    "duration": 13,
    "start_time": "2022-02-10T09:35:56.561Z"
   },
   {
    "duration": 20,
    "start_time": "2022-02-10T09:35:56.776Z"
   },
   {
    "duration": 35,
    "start_time": "2022-02-10T09:35:56.965Z"
   },
   {
    "duration": 9,
    "start_time": "2022-02-10T09:35:57.256Z"
   },
   {
    "duration": 18,
    "start_time": "2022-02-10T09:35:57.684Z"
   },
   {
    "duration": 6,
    "start_time": "2022-02-10T09:35:57.884Z"
   },
   {
    "duration": 7,
    "start_time": "2022-02-10T09:35:59.978Z"
   },
   {
    "duration": 4,
    "start_time": "2022-02-10T09:36:00.396Z"
   },
   {
    "duration": 10,
    "start_time": "2022-02-10T09:36:26.551Z"
   },
   {
    "duration": 9,
    "start_time": "2022-02-10T09:36:27.297Z"
   },
   {
    "duration": 12,
    "start_time": "2022-02-10T09:36:27.674Z"
   },
   {
    "duration": 8,
    "start_time": "2022-02-10T09:36:28.080Z"
   },
   {
    "duration": 8,
    "start_time": "2022-02-10T09:36:28.465Z"
   },
   {
    "duration": 16,
    "start_time": "2022-02-10T09:36:29.245Z"
   },
   {
    "duration": 130,
    "start_time": "2022-02-10T20:24:43.137Z"
   },
   {
    "duration": 1224,
    "start_time": "2022-02-10T21:05:20.598Z"
   },
   {
    "duration": 22,
    "start_time": "2022-02-10T21:05:21.824Z"
   },
   {
    "duration": 10,
    "start_time": "2022-02-10T21:05:26.123Z"
   },
   {
    "duration": 4,
    "start_time": "2022-02-10T21:05:26.636Z"
   },
   {
    "duration": 479,
    "start_time": "2022-02-10T21:05:27.680Z"
   },
   {
    "duration": 17,
    "start_time": "2022-02-10T21:05:33.239Z"
   },
   {
    "duration": 33,
    "start_time": "2022-02-10T21:05:43.866Z"
   },
   {
    "duration": 31,
    "start_time": "2022-02-10T21:06:07.470Z"
   },
   {
    "duration": 10,
    "start_time": "2022-02-10T21:06:08.126Z"
   },
   {
    "duration": 8,
    "start_time": "2022-02-10T21:06:08.326Z"
   },
   {
    "duration": 7,
    "start_time": "2022-02-10T21:06:08.558Z"
   },
   {
    "duration": 6,
    "start_time": "2022-02-10T21:06:08.945Z"
   },
   {
    "duration": 3,
    "start_time": "2022-02-10T21:06:09.154Z"
   },
   {
    "duration": 8,
    "start_time": "2022-02-10T21:06:09.346Z"
   },
   {
    "duration": 13,
    "start_time": "2022-02-10T21:06:09.766Z"
   },
   {
    "duration": 4,
    "start_time": "2022-02-10T21:06:11.185Z"
   },
   {
    "duration": 5,
    "start_time": "2022-02-10T21:06:11.644Z"
   },
   {
    "duration": 9,
    "start_time": "2022-02-10T21:06:12.393Z"
   },
   {
    "duration": 7,
    "start_time": "2022-02-10T21:06:12.597Z"
   },
   {
    "duration": 6,
    "start_time": "2022-02-10T21:06:12.848Z"
   },
   {
    "duration": 5,
    "start_time": "2022-02-10T21:06:13.300Z"
   },
   {
    "duration": 241,
    "start_time": "2022-02-10T21:06:15.931Z"
   },
   {
    "duration": 169,
    "start_time": "2022-02-10T21:06:16.324Z"
   },
   {
    "duration": 15,
    "start_time": "2022-02-10T21:06:16.584Z"
   },
   {
    "duration": 8,
    "start_time": "2022-02-10T21:06:16.820Z"
   },
   {
    "duration": 375,
    "start_time": "2022-02-10T21:06:17.056Z"
   },
   {
    "duration": 306,
    "start_time": "2022-02-10T21:06:23.004Z"
   },
   {
    "duration": 443,
    "start_time": "2022-02-10T21:06:25.423Z"
   },
   {
    "duration": 8,
    "start_time": "2022-02-10T21:06:26.576Z"
   },
   {
    "duration": 308,
    "start_time": "2022-02-10T21:06:26.852Z"
   },
   {
    "duration": 16,
    "start_time": "2022-02-10T21:06:28.131Z"
   },
   {
    "duration": 412,
    "start_time": "2022-02-10T21:06:28.504Z"
   },
   {
    "duration": 9,
    "start_time": "2022-02-10T21:06:34.778Z"
   },
   {
    "duration": 12,
    "start_time": "2022-02-10T21:06:35.216Z"
   },
   {
    "duration": 343,
    "start_time": "2022-02-10T21:06:36.070Z"
   },
   {
    "duration": 6,
    "start_time": "2022-02-10T21:06:42.808Z"
   },
   {
    "duration": 10,
    "start_time": "2022-02-10T21:06:43.824Z"
   },
   {
    "duration": 459,
    "start_time": "2022-02-10T21:06:44.521Z"
   },
   {
    "duration": 6,
    "start_time": "2022-02-10T21:06:46.837Z"
   },
   {
    "duration": 11,
    "start_time": "2022-02-10T21:06:48.301Z"
   },
   {
    "duration": 13,
    "start_time": "2022-02-10T21:06:48.727Z"
   },
   {
    "duration": 19,
    "start_time": "2022-02-10T21:06:49.149Z"
   },
   {
    "duration": 33,
    "start_time": "2022-02-10T21:06:49.550Z"
   },
   {
    "duration": 10,
    "start_time": "2022-02-10T21:06:49.992Z"
   },
   {
    "duration": 17,
    "start_time": "2022-02-10T21:06:50.872Z"
   },
   {
    "duration": 7,
    "start_time": "2022-02-10T21:06:51.282Z"
   },
   {
    "duration": 8,
    "start_time": "2022-02-10T21:07:47.950Z"
   },
   {
    "duration": 4,
    "start_time": "2022-02-10T21:07:48.706Z"
   },
   {
    "duration": 11,
    "start_time": "2022-02-10T21:07:58.892Z"
   },
   {
    "duration": 9,
    "start_time": "2022-02-10T21:08:00.362Z"
   },
   {
    "duration": 13,
    "start_time": "2022-02-10T21:08:01.189Z"
   },
   {
    "duration": 10,
    "start_time": "2022-02-10T21:08:01.894Z"
   },
   {
    "duration": 8,
    "start_time": "2022-02-10T21:08:02.506Z"
   },
   {
    "duration": 14,
    "start_time": "2022-02-10T21:08:03.619Z"
   }
  ],
  "kernelspec": {
   "display_name": "Python 3 (ipykernel)",
   "language": "python",
   "name": "python3"
  },
  "language_info": {
   "codemirror_mode": {
    "name": "ipython",
    "version": 3
   },
   "file_extension": ".py",
   "mimetype": "text/x-python",
   "name": "python",
   "nbconvert_exporter": "python",
   "pygments_lexer": "ipython3",
   "version": "3.9.7"
  },
  "toc": {
   "base_numbering": 1,
   "nav_menu": {},
   "number_sections": true,
   "sideBar": true,
   "skip_h1_title": true,
   "title_cell": "Содержание",
   "title_sidebar": "Contents",
   "toc_cell": true,
   "toc_position": {},
   "toc_section_display": true,
   "toc_window_display": true
  }
 },
 "nbformat": 4,
 "nbformat_minor": 2
}
